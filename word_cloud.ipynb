{
 "cells": [
  {
   "cell_type": "markdown",
   "id": "579cef01",
   "metadata": {},
   "source": [
    "# EDA of the dataset at word level"
   ]
  },
  {
   "cell_type": "markdown",
   "id": "60d389e2",
   "metadata": {},
   "source": [
    "## imports"
   ]
  },
  {
   "cell_type": "code",
   "execution_count": 34,
   "id": "beed834b",
   "metadata": {},
   "outputs": [],
   "source": [
    "import numpy as np\n",
    "import pandas as pd\n",
    "import matplotlib.pyplot as plt"
   ]
  },
  {
   "cell_type": "markdown",
   "id": "fb95a6f8",
   "metadata": {},
   "source": [
    "## load the dataset"
   ]
  },
  {
   "cell_type": "code",
   "execution_count": 35,
   "id": "bd2bdd85",
   "metadata": {},
   "outputs": [],
   "source": [
    "df_fake = pd.read_csv('data/Fake.csv')\n",
    "df_real = pd.read_csv('data/True.csv')"
   ]
  },
  {
   "cell_type": "markdown",
   "id": "aa259c16",
   "metadata": {},
   "source": [
    "## word frequency"
   ]
  },
  {
   "cell_type": "markdown",
   "id": "1c8a5dfe",
   "metadata": {},
   "source": [
    "### remove punct"
   ]
  },
  {
   "cell_type": "code",
   "execution_count": 36,
   "id": "7b910a47",
   "metadata": {},
   "outputs": [],
   "source": [
    "import string\n",
    "\n",
    "def remove_punctuation(input_string):\n",
    "  \"\"\"\n",
    "  Removes all punctuation characters from a string.\n",
    "\n",
    "  Args:\n",
    "    input_string: The string from which to remove punctuation.\n",
    "\n",
    "  Returns:\n",
    "    A new string with all punctuation removed.\n",
    "  \"\"\"\n",
    "  # Create a string containing all standard punctuation marks\n",
    "  punctuations = string.punctuation\n",
    "\n",
    "  # Use a list comprehension to build a new string excluding punctuation\n",
    "  no_punct_string = ''.join([char for char in input_string if char not in punctuations])\n",
    "\n",
    "  return no_punct_string"
   ]
  },
  {
   "cell_type": "markdown",
   "id": "6807a580",
   "metadata": {},
   "source": [
    "### find the frequencies of the words"
   ]
  },
  {
   "cell_type": "code",
   "execution_count": 52,
   "id": "f00d6678",
   "metadata": {},
   "outputs": [],
   "source": [
    "def build_frequency(corpus: list[str]) -> pd.DataFrame:\n",
    "    word_dict = {}\n",
    "    for text in corpus:\n",
    "        text = remove_punctuation(text)\n",
    "        text = text.lower()\n",
    "        text = text.split()\n",
    "        for word in text:\n",
    "            if word not in word_dict.keys():\n",
    "                word_dict[word] = 1\n",
    "            else:\n",
    "                word_dict[word] += 1\n",
    "    word_dict = pd.DataFrame.from_dict(word_dict,orient='index')\n",
    "    return word_dict"
   ]
  },
  {
   "cell_type": "code",
   "execution_count": 53,
   "id": "7c668cbc",
   "metadata": {},
   "outputs": [],
   "source": [
    "fake_dict = build_frequency(df_fake['text'])\n",
    "real_dict = build_frequency(df_real['text'])"
   ]
  },
  {
   "cell_type": "code",
   "execution_count": 54,
   "id": "e42b6185",
   "metadata": {},
   "outputs": [
    {
     "data": {
      "application/vnd.microsoft.datawrangler.viewer.v0+json": {
       "columns": [
        {
         "name": "index",
         "rawType": "object",
         "type": "string"
        },
        {
         "name": "0",
         "rawType": "int64",
         "type": "integer"
        }
       ],
       "conversionMethod": "pd.DataFrame",
       "ref": "0cf54449-dea1-4036-af05-35ec9758ab59",
       "rows": [
        [
         "donald",
         "17101"
        ],
        [
         "trump",
         "73422"
        ],
        [
         "just",
         "20111"
        ],
        [
         "couldn",
         "1514"
        ],
        [
         "t",
         "40602"
        ],
        [
         "wish",
         "575"
        ],
        [
         "all",
         "24346"
        ],
        [
         "americans",
         "6093"
        ],
        [
         "a",
         "210277"
        ],
        [
         "happy",
         "921"
        ],
        [
         "new",
         "14135"
        ],
        [
         "year",
         "6526"
        ],
        [
         "and",
         "224311"
        ],
        [
         "leave",
         "1584"
        ],
        [
         "it",
         "78328"
        ],
        [
         "at",
         "41435"
        ],
        [
         "that",
         "149893"
        ],
        [
         "instead",
         "2886"
        ],
        [
         "he",
         "77314"
        ],
        [
         "had",
         "20417"
        ],
        [
         "to",
         "289551"
        ],
        [
         "give",
         "3173"
        ],
        [
         "shout",
         "92"
        ],
        [
         "out",
         "22831"
        ],
        [
         "his",
         "58006"
        ],
        [
         "enemies",
         "407"
        ],
        [
         "haters",
         "110"
        ],
        [
         "the",
         "526628"
        ],
        [
         "very",
         "9194"
        ],
        [
         "dishonest",
         "280"
        ],
        [
         "fake",
         "2928"
        ],
        [
         "news",
         "14099"
        ],
        [
         "media",
         "10980"
        ],
        [
         "former",
         "7063"
        ],
        [
         "reality",
         "1818"
        ],
        [
         "show",
         "5835"
        ],
        [
         "star",
         "1255"
        ],
        [
         "one",
         "22865"
        ],
        [
         "job",
         "2935"
        ],
        [
         "do",
         "15321"
        ],
        [
         "as",
         "55748"
        ],
        [
         "our",
         "19686"
        ],
        [
         "country",
         "8640"
        ],
        [
         "rapidly",
         "170"
        ],
        [
         "grows",
         "58"
        ],
        [
         "stronger",
         "248"
        ],
        [
         "smarter",
         "67"
        ],
        [
         "i",
         "42971"
        ],
        [
         "want",
         "7283"
        ],
        [
         "of",
         "235728"
        ]
       ],
       "shape": {
        "columns": 1,
        "rows": 186879
       }
      },
      "text/html": [
       "<div>\n",
       "<style scoped>\n",
       "    .dataframe tbody tr th:only-of-type {\n",
       "        vertical-align: middle;\n",
       "    }\n",
       "\n",
       "    .dataframe tbody tr th {\n",
       "        vertical-align: top;\n",
       "    }\n",
       "\n",
       "    .dataframe thead th {\n",
       "        text-align: right;\n",
       "    }\n",
       "</style>\n",
       "<table border=\"1\" class=\"dataframe\">\n",
       "  <thead>\n",
       "    <tr style=\"text-align: right;\">\n",
       "      <th></th>\n",
       "      <th>0</th>\n",
       "    </tr>\n",
       "  </thead>\n",
       "  <tbody>\n",
       "    <tr>\n",
       "      <th>donald</th>\n",
       "      <td>17101</td>\n",
       "    </tr>\n",
       "    <tr>\n",
       "      <th>trump</th>\n",
       "      <td>73422</td>\n",
       "    </tr>\n",
       "    <tr>\n",
       "      <th>just</th>\n",
       "      <td>20111</td>\n",
       "    </tr>\n",
       "    <tr>\n",
       "      <th>couldn</th>\n",
       "      <td>1514</td>\n",
       "    </tr>\n",
       "    <tr>\n",
       "      <th>t</th>\n",
       "      <td>40602</td>\n",
       "    </tr>\n",
       "    <tr>\n",
       "      <th>...</th>\n",
       "      <td>...</td>\n",
       "    </tr>\n",
       "    <tr>\n",
       "      <th>betti</th>\n",
       "      <td>1</td>\n",
       "    </tr>\n",
       "    <tr>\n",
       "      <th>grandmotherlast</th>\n",
       "      <td>1</td>\n",
       "    </tr>\n",
       "    <tr>\n",
       "      <th>emanuelcurrently</th>\n",
       "      <td>1</td>\n",
       "    </tr>\n",
       "    <tr>\n",
       "      <th>mondoweiss</th>\n",
       "      <td>1</td>\n",
       "    </tr>\n",
       "    <tr>\n",
       "      <th>overdriveread</th>\n",
       "      <td>1</td>\n",
       "    </tr>\n",
       "  </tbody>\n",
       "</table>\n",
       "<p>186879 rows × 1 columns</p>\n",
       "</div>"
      ],
      "text/plain": [
       "                      0\n",
       "donald            17101\n",
       "trump             73422\n",
       "just              20111\n",
       "couldn             1514\n",
       "t                 40602\n",
       "...                 ...\n",
       "betti                 1\n",
       "grandmotherlast       1\n",
       "emanuelcurrently      1\n",
       "mondoweiss            1\n",
       "overdriveread         1\n",
       "\n",
       "[186879 rows x 1 columns]"
      ]
     },
     "execution_count": 54,
     "metadata": {},
     "output_type": "execute_result"
    }
   ],
   "source": [
    "fake_dict"
   ]
  },
  {
   "cell_type": "code",
   "execution_count": 58,
   "id": "5a444fae",
   "metadata": {},
   "outputs": [
    {
     "data": {
      "application/vnd.microsoft.datawrangler.viewer.v0+json": {
       "columns": [
        {
         "name": "index",
         "rawType": "object",
         "type": "string"
        },
        {
         "name": "0",
         "rawType": "int64",
         "type": "integer"
        }
       ],
       "conversionMethod": "pd.DataFrame",
       "ref": "f880bcd9-17f4-4fc9-ab0a-7175fe2f95b6",
       "rows": [
        [
         "washington",
         "12088"
        ],
        [
         "reuters",
         "28306"
        ],
        [
         "the",
         "478239"
        ],
        [
         "head",
         "2777"
        ],
        [
         "of",
         "204852"
        ],
        [
         "a",
         "196734"
        ],
        [
         "conservative",
         "3116"
        ],
        [
         "republican",
         "15273"
        ],
        [
         "faction",
         "171"
        ],
        [
         "in",
         "180047"
        ],
        [
         "us",
         "40847"
        ],
        [
         "congress",
         "6297"
        ],
        [
         "who",
         "27519"
        ],
        [
         "voted",
         "1420"
        ],
        [
         "this",
         "19527"
        ],
        [
         "month",
         "5199"
        ],
        [
         "for",
         "79494"
        ],
        [
         "huge",
         "534"
        ],
        [
         "expansion",
         "417"
        ],
        [
         "national",
         "8159"
        ],
        [
         "debt",
         "1651"
        ],
        [
         "to",
         "244707"
        ],
        [
         "pay",
         "2034"
        ],
        [
         "tax",
         "7714"
        ],
        [
         "cuts",
         "1310"
        ],
        [
         "called",
         "6043"
        ],
        [
         "himself",
         "1414"
        ],
        [
         "“fiscal",
         "8"
        ],
        [
         "conservative”",
         "14"
        ],
        [
         "on",
         "108134"
        ],
        [
         "sunday",
         "3771"
        ],
        [
         "and",
         "181304"
        ],
        [
         "urged",
         "1725"
        ],
        [
         "budget",
         "3447"
        ],
        [
         "restraint",
         "102"
        ],
        [
         "2018",
         "1569"
        ],
        [
         "keeping",
         "506"
        ],
        [
         "with",
         "54274"
        ],
        [
         "sharp",
         "339"
        ],
        [
         "pivot",
         "50"
        ],
        [
         "under",
         "7899"
        ],
        [
         "way",
         "3432"
        ],
        [
         "among",
         "3811"
        ],
        [
         "republicans",
         "6488"
        ],
        [
         "representative",
         "2311"
        ],
        [
         "mark",
         "911"
        ],
        [
         "meadows",
         "115"
        ],
        [
         "speaking",
         "1755"
        ],
        [
         "cbs’",
         "40"
        ],
        [
         "“face",
         "64"
        ]
       ],
       "shape": {
        "columns": 1,
        "rows": 101170
       }
      },
      "text/html": [
       "<div>\n",
       "<style scoped>\n",
       "    .dataframe tbody tr th:only-of-type {\n",
       "        vertical-align: middle;\n",
       "    }\n",
       "\n",
       "    .dataframe tbody tr th {\n",
       "        vertical-align: top;\n",
       "    }\n",
       "\n",
       "    .dataframe thead th {\n",
       "        text-align: right;\n",
       "    }\n",
       "</style>\n",
       "<table border=\"1\" class=\"dataframe\">\n",
       "  <thead>\n",
       "    <tr style=\"text-align: right;\">\n",
       "      <th></th>\n",
       "      <th>0</th>\n",
       "    </tr>\n",
       "  </thead>\n",
       "  <tbody>\n",
       "    <tr>\n",
       "      <th>washington</th>\n",
       "      <td>12088</td>\n",
       "    </tr>\n",
       "    <tr>\n",
       "      <th>reuters</th>\n",
       "      <td>28306</td>\n",
       "    </tr>\n",
       "    <tr>\n",
       "      <th>the</th>\n",
       "      <td>478239</td>\n",
       "    </tr>\n",
       "    <tr>\n",
       "      <th>head</th>\n",
       "      <td>2777</td>\n",
       "    </tr>\n",
       "    <tr>\n",
       "      <th>of</th>\n",
       "      <td>204852</td>\n",
       "    </tr>\n",
       "    <tr>\n",
       "      <th>...</th>\n",
       "      <td>...</td>\n",
       "    </tr>\n",
       "    <tr>\n",
       "      <th>enggartiasto</th>\n",
       "      <td>1</td>\n",
       "    </tr>\n",
       "    <tr>\n",
       "      <th>lukita</th>\n",
       "      <td>1</td>\n",
       "    </tr>\n",
       "    <tr>\n",
       "      <th>perusahaan</th>\n",
       "      <td>1</td>\n",
       "    </tr>\n",
       "    <tr>\n",
       "      <th>perdangangan</th>\n",
       "      <td>1</td>\n",
       "    </tr>\n",
       "    <tr>\n",
       "      <th>usimposed</th>\n",
       "      <td>1</td>\n",
       "    </tr>\n",
       "  </tbody>\n",
       "</table>\n",
       "<p>101170 rows × 1 columns</p>\n",
       "</div>"
      ],
      "text/plain": [
       "                   0\n",
       "washington     12088\n",
       "reuters        28306\n",
       "the           478239\n",
       "head            2777\n",
       "of            204852\n",
       "...              ...\n",
       "enggartiasto       1\n",
       "lukita             1\n",
       "perusahaan         1\n",
       "perdangangan       1\n",
       "usimposed          1\n",
       "\n",
       "[101170 rows x 1 columns]"
      ]
     },
     "execution_count": 58,
     "metadata": {},
     "output_type": "execute_result"
    }
   ],
   "source": [
    "real_dict"
   ]
  },
  {
   "cell_type": "code",
   "execution_count": 62,
   "id": "ca14c864",
   "metadata": {},
   "outputs": [
    {
     "data": {
      "application/vnd.microsoft.datawrangler.viewer.v0+json": {
       "columns": [
        {
         "name": "index",
         "rawType": "object",
         "type": "string"
        },
        {
         "name": "0",
         "rawType": "int64",
         "type": "integer"
        }
       ],
       "conversionMethod": "pd.DataFrame",
       "ref": "73e6e983-8752-403d-bb82-7710db120236",
       "rows": [
        [
         "the",
         "526628"
        ],
        [
         "to",
         "289551"
        ],
        [
         "of",
         "235728"
        ],
        [
         "and",
         "224311"
        ],
        [
         "a",
         "210277"
        ],
        [
         "in",
         "164258"
        ],
        [
         "that",
         "149893"
        ],
        [
         "s",
         "129447"
        ],
        [
         "is",
         "110685"
        ],
        [
         "for",
         "91918"
        ],
        [
         "on",
         "81164"
        ],
        [
         "it",
         "78328"
        ],
        [
         "he",
         "77314"
        ],
        [
         "trump",
         "73422"
        ],
        [
         "was",
         "67704"
        ],
        [
         "with",
         "62885"
        ],
        [
         "his",
         "58006"
        ],
        [
         "as",
         "55748"
        ],
        [
         "this",
         "54836"
        ],
        [
         "be",
         "48533"
        ],
        [
         "by",
         "47345"
        ],
        [
         "are",
         "46252"
        ],
        [
         "have",
         "46005"
        ],
        [
         "they",
         "45022"
        ],
        [
         "not",
         "44944"
        ],
        [
         "i",
         "42971"
        ],
        [
         "has",
         "42248"
        ],
        [
         "who",
         "42245"
        ],
        [
         "at",
         "41435"
        ],
        [
         "from",
         "40663"
        ],
        [
         "t",
         "40602"
        ],
        [
         "you",
         "39809"
        ],
        [
         "we",
         "37758"
        ],
        [
         "an",
         "34797"
        ],
        [
         "about",
         "32797"
        ],
        [
         "but",
         "31291"
        ],
        [
         "said",
         "31008"
        ],
        [
         "their",
         "30200"
        ],
        [
         "people",
         "25941"
        ],
        [
         "she",
         "25640"
        ],
        [
         "her",
         "25624"
        ],
        [
         "president",
         "25495"
        ],
        [
         "or",
         "24649"
        ],
        [
         "what",
         "24371"
        ],
        [
         "all",
         "24346"
        ],
        [
         "will",
         "24044"
        ],
        [
         "would",
         "23420"
        ],
        [
         "been",
         "22984"
        ],
        [
         "one",
         "22865"
        ],
        [
         "out",
         "22831"
        ]
       ],
       "shape": {
        "columns": 1,
        "rows": 186879
       }
      },
      "text/html": [
       "<div>\n",
       "<style scoped>\n",
       "    .dataframe tbody tr th:only-of-type {\n",
       "        vertical-align: middle;\n",
       "    }\n",
       "\n",
       "    .dataframe tbody tr th {\n",
       "        vertical-align: top;\n",
       "    }\n",
       "\n",
       "    .dataframe thead th {\n",
       "        text-align: right;\n",
       "    }\n",
       "</style>\n",
       "<table border=\"1\" class=\"dataframe\">\n",
       "  <thead>\n",
       "    <tr style=\"text-align: right;\">\n",
       "      <th></th>\n",
       "      <th>0</th>\n",
       "    </tr>\n",
       "  </thead>\n",
       "  <tbody>\n",
       "    <tr>\n",
       "      <th>the</th>\n",
       "      <td>526628</td>\n",
       "    </tr>\n",
       "    <tr>\n",
       "      <th>to</th>\n",
       "      <td>289551</td>\n",
       "    </tr>\n",
       "    <tr>\n",
       "      <th>of</th>\n",
       "      <td>235728</td>\n",
       "    </tr>\n",
       "    <tr>\n",
       "      <th>and</th>\n",
       "      <td>224311</td>\n",
       "    </tr>\n",
       "    <tr>\n",
       "      <th>a</th>\n",
       "      <td>210277</td>\n",
       "    </tr>\n",
       "    <tr>\n",
       "      <th>...</th>\n",
       "      <td>...</td>\n",
       "    </tr>\n",
       "    <tr>\n",
       "      <th>shivaroor</th>\n",
       "      <td>1</td>\n",
       "    </tr>\n",
       "    <tr>\n",
       "      <th>aroor</th>\n",
       "      <td>1</td>\n",
       "    </tr>\n",
       "    <tr>\n",
       "      <th>pictwittercombwhct6bvju</th>\n",
       "      <td>1</td>\n",
       "    </tr>\n",
       "    <tr>\n",
       "      <th>httpstcoassqbjdxpn</th>\n",
       "      <td>1</td>\n",
       "    </tr>\n",
       "    <tr>\n",
       "      <th>overdriveread</th>\n",
       "      <td>1</td>\n",
       "    </tr>\n",
       "  </tbody>\n",
       "</table>\n",
       "<p>186879 rows × 1 columns</p>\n",
       "</div>"
      ],
      "text/plain": [
       "                              0\n",
       "the                      526628\n",
       "to                       289551\n",
       "of                       235728\n",
       "and                      224311\n",
       "a                        210277\n",
       "...                         ...\n",
       "shivaroor                     1\n",
       "aroor                         1\n",
       "pictwittercombwhct6bvju       1\n",
       "httpstcoassqbjdxpn            1\n",
       "overdriveread                 1\n",
       "\n",
       "[186879 rows x 1 columns]"
      ]
     },
     "execution_count": 62,
     "metadata": {},
     "output_type": "execute_result"
    }
   ],
   "source": [
    "fake_dict.sort_values(0,ascending=False)"
   ]
  }
 ],
 "metadata": {
  "kernelspec": {
   "display_name": ".venv",
   "language": "python",
   "name": "python3"
  },
  "language_info": {
   "codemirror_mode": {
    "name": "ipython",
    "version": 3
   },
   "file_extension": ".py",
   "mimetype": "text/x-python",
   "name": "python",
   "nbconvert_exporter": "python",
   "pygments_lexer": "ipython3",
   "version": "3.12.3"
  }
 },
 "nbformat": 4,
 "nbformat_minor": 5
}
