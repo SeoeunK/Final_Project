{
 "cells": [
  {
   "cell_type": "markdown",
   "id": "e17ddaa6",
   "metadata": {},
   "source": [
    "# Introduction"
   ]
  },
  {
   "cell_type": "markdown",
   "id": "1451ef8f",
   "metadata": {},
   "source": [
    "## Imports"
   ]
  },
  {
   "cell_type": "code",
   "execution_count": 2,
   "id": "93991d91",
   "metadata": {},
   "outputs": [
    {
     "name": "stdout",
     "output_type": "stream",
     "text": [
      "Requirement already satisfied: statsmodels in ./.venv/lib/python3.12/site-packages (0.14.4)\n",
      "Requirement already satisfied: numpy<3,>=1.22.3 in ./.venv/lib/python3.12/site-packages (from statsmodels) (2.1.3)\n",
      "Requirement already satisfied: scipy!=1.9.2,>=1.8 in ./.venv/lib/python3.12/site-packages (from statsmodels) (1.15.2)\n",
      "Requirement already satisfied: pandas!=2.1.0,>=1.4 in ./.venv/lib/python3.12/site-packages (from statsmodels) (2.2.3)\n",
      "Requirement already satisfied: patsy>=0.5.6 in ./.venv/lib/python3.12/site-packages (from statsmodels) (1.0.1)\n",
      "Requirement already satisfied: packaging>=21.3 in ./.venv/lib/python3.12/site-packages (from statsmodels) (24.2)\n",
      "Requirement already satisfied: python-dateutil>=2.8.2 in ./.venv/lib/python3.12/site-packages (from pandas!=2.1.0,>=1.4->statsmodels) (2.9.0.post0)\n",
      "Requirement already satisfied: pytz>=2020.1 in ./.venv/lib/python3.12/site-packages (from pandas!=2.1.0,>=1.4->statsmodels) (2025.2)\n",
      "Requirement already satisfied: tzdata>=2022.7 in ./.venv/lib/python3.12/site-packages (from pandas!=2.1.0,>=1.4->statsmodels) (2025.2)\n",
      "Requirement already satisfied: six>=1.5 in ./.venv/lib/python3.12/site-packages (from python-dateutil>=2.8.2->pandas!=2.1.0,>=1.4->statsmodels) (1.17.0)\n",
      "Requirement already satisfied: textstat in ./.venv/lib/python3.12/site-packages (0.7.5)\n",
      "Requirement already satisfied: pyphen in ./.venv/lib/python3.12/site-packages (from textstat) (0.17.2)\n",
      "Requirement already satisfied: cmudict in ./.venv/lib/python3.12/site-packages (from textstat) (1.0.32)\n",
      "Requirement already satisfied: setuptools in ./.venv/lib/python3.12/site-packages (from textstat) (78.1.0)\n",
      "Requirement already satisfied: importlib-metadata>=5 in ./.venv/lib/python3.12/site-packages (from cmudict->textstat) (8.6.1)\n",
      "Requirement already satisfied: importlib-resources>=5 in ./.venv/lib/python3.12/site-packages (from cmudict->textstat) (6.5.2)\n",
      "Requirement already satisfied: zipp>=3.20 in ./.venv/lib/python3.12/site-packages (from importlib-metadata>=5->cmudict->textstat) (3.21.0)\n",
      "Requirement already satisfied: textblob in ./.venv/lib/python3.12/site-packages (0.19.0)\n",
      "Requirement already satisfied: nltk>=3.9 in ./.venv/lib/python3.12/site-packages (from textblob) (3.9.1)\n",
      "Requirement already satisfied: click in ./.venv/lib/python3.12/site-packages (from nltk>=3.9->textblob) (8.1.8)\n",
      "Requirement already satisfied: joblib in ./.venv/lib/python3.12/site-packages (from nltk>=3.9->textblob) (1.4.2)\n",
      "Requirement already satisfied: regex>=2021.8.3 in ./.venv/lib/python3.12/site-packages (from nltk>=3.9->textblob) (2024.11.6)\n",
      "Requirement already satisfied: tqdm in ./.venv/lib/python3.12/site-packages (from nltk>=3.9->textblob) (4.67.1)\n",
      "Requirement already satisfied: scikit-learn in ./.venv/lib/python3.12/site-packages (1.6.1)\n",
      "Requirement already satisfied: numpy>=1.19.5 in ./.venv/lib/python3.12/site-packages (from scikit-learn) (2.1.3)\n",
      "Requirement already satisfied: scipy>=1.6.0 in ./.venv/lib/python3.12/site-packages (from scikit-learn) (1.15.2)\n",
      "Requirement already satisfied: joblib>=1.2.0 in ./.venv/lib/python3.12/site-packages (from scikit-learn) (1.4.2)\n",
      "Requirement already satisfied: threadpoolctl>=3.1.0 in ./.venv/lib/python3.12/site-packages (from scikit-learn) (3.6.0)\n",
      "Requirement already satisfied: xgboost in ./.venv/lib/python3.12/site-packages (3.0.0)\n",
      "Requirement already satisfied: numpy in ./.venv/lib/python3.12/site-packages (from xgboost) (2.1.3)\n",
      "Requirement already satisfied: scipy in ./.venv/lib/python3.12/site-packages (from xgboost) (1.15.2)\n",
      "Requirement already satisfied: shap in ./.venv/lib/python3.12/site-packages (0.47.2)\n",
      "Requirement already satisfied: numpy in ./.venv/lib/python3.12/site-packages (from shap) (2.1.3)\n",
      "Requirement already satisfied: scipy in ./.venv/lib/python3.12/site-packages (from shap) (1.15.2)\n",
      "Requirement already satisfied: scikit-learn in ./.venv/lib/python3.12/site-packages (from shap) (1.6.1)\n",
      "Requirement already satisfied: pandas in ./.venv/lib/python3.12/site-packages (from shap) (2.2.3)\n",
      "Requirement already satisfied: tqdm>=4.27.0 in ./.venv/lib/python3.12/site-packages (from shap) (4.67.1)\n",
      "Requirement already satisfied: packaging>20.9 in ./.venv/lib/python3.12/site-packages (from shap) (24.2)\n",
      "Requirement already satisfied: slicer==0.0.8 in ./.venv/lib/python3.12/site-packages (from shap) (0.0.8)\n",
      "Requirement already satisfied: numba>=0.54 in ./.venv/lib/python3.12/site-packages (from shap) (0.61.2)\n",
      "Requirement already satisfied: cloudpickle in ./.venv/lib/python3.12/site-packages (from shap) (3.1.1)\n",
      "Requirement already satisfied: typing-extensions in ./.venv/lib/python3.12/site-packages (from shap) (4.13.2)\n",
      "Requirement already satisfied: llvmlite<0.45,>=0.44.0dev0 in ./.venv/lib/python3.12/site-packages (from numba>=0.54->shap) (0.44.0)\n",
      "Requirement already satisfied: python-dateutil>=2.8.2 in ./.venv/lib/python3.12/site-packages (from pandas->shap) (2.9.0.post0)\n",
      "Requirement already satisfied: pytz>=2020.1 in ./.venv/lib/python3.12/site-packages (from pandas->shap) (2025.2)\n",
      "Requirement already satisfied: tzdata>=2022.7 in ./.venv/lib/python3.12/site-packages (from pandas->shap) (2025.2)\n",
      "Requirement already satisfied: joblib>=1.2.0 in ./.venv/lib/python3.12/site-packages (from scikit-learn->shap) (1.4.2)\n",
      "Requirement already satisfied: threadpoolctl>=3.1.0 in ./.venv/lib/python3.12/site-packages (from scikit-learn->shap) (3.6.0)\n",
      "Requirement already satisfied: six>=1.5 in ./.venv/lib/python3.12/site-packages (from python-dateutil>=2.8.2->pandas->shap) (1.17.0)\n",
      "Requirement already satisfied: tensorflow in ./.venv/lib/python3.12/site-packages (2.19.0)\n",
      "Requirement already satisfied: absl-py>=1.0.0 in ./.venv/lib/python3.12/site-packages (from tensorflow) (2.2.2)\n",
      "Requirement already satisfied: astunparse>=1.6.0 in ./.venv/lib/python3.12/site-packages (from tensorflow) (1.6.3)\n",
      "Requirement already satisfied: flatbuffers>=24.3.25 in ./.venv/lib/python3.12/site-packages (from tensorflow) (25.2.10)\n",
      "Requirement already satisfied: gast!=0.5.0,!=0.5.1,!=0.5.2,>=0.2.1 in ./.venv/lib/python3.12/site-packages (from tensorflow) (0.6.0)\n",
      "Requirement already satisfied: google-pasta>=0.1.1 in ./.venv/lib/python3.12/site-packages (from tensorflow) (0.2.0)\n",
      "Requirement already satisfied: libclang>=13.0.0 in ./.venv/lib/python3.12/site-packages (from tensorflow) (18.1.1)\n",
      "Requirement already satisfied: opt-einsum>=2.3.2 in ./.venv/lib/python3.12/site-packages (from tensorflow) (3.4.0)\n",
      "Requirement already satisfied: packaging in ./.venv/lib/python3.12/site-packages (from tensorflow) (24.2)\n",
      "Requirement already satisfied: protobuf!=4.21.0,!=4.21.1,!=4.21.2,!=4.21.3,!=4.21.4,!=4.21.5,<6.0.0dev,>=3.20.3 in ./.venv/lib/python3.12/site-packages (from tensorflow) (5.29.4)\n",
      "Requirement already satisfied: requests<3,>=2.21.0 in ./.venv/lib/python3.12/site-packages (from tensorflow) (2.32.3)\n",
      "Requirement already satisfied: setuptools in ./.venv/lib/python3.12/site-packages (from tensorflow) (78.1.0)\n",
      "Requirement already satisfied: six>=1.12.0 in ./.venv/lib/python3.12/site-packages (from tensorflow) (1.17.0)\n",
      "Requirement already satisfied: termcolor>=1.1.0 in ./.venv/lib/python3.12/site-packages (from tensorflow) (3.0.1)\n",
      "Requirement already satisfied: typing-extensions>=3.6.6 in ./.venv/lib/python3.12/site-packages (from tensorflow) (4.13.2)\n",
      "Requirement already satisfied: wrapt>=1.11.0 in ./.venv/lib/python3.12/site-packages (from tensorflow) (1.17.2)\n",
      "Requirement already satisfied: grpcio<2.0,>=1.24.3 in ./.venv/lib/python3.12/site-packages (from tensorflow) (1.71.0)\n",
      "Requirement already satisfied: tensorboard~=2.19.0 in ./.venv/lib/python3.12/site-packages (from tensorflow) (2.19.0)\n",
      "Requirement already satisfied: keras>=3.5.0 in ./.venv/lib/python3.12/site-packages (from tensorflow) (3.9.2)\n",
      "Requirement already satisfied: numpy<2.2.0,>=1.26.0 in ./.venv/lib/python3.12/site-packages (from tensorflow) (2.1.3)\n",
      "Requirement already satisfied: h5py>=3.11.0 in ./.venv/lib/python3.12/site-packages (from tensorflow) (3.13.0)\n",
      "Requirement already satisfied: ml-dtypes<1.0.0,>=0.5.1 in ./.venv/lib/python3.12/site-packages (from tensorflow) (0.5.1)\n",
      "Requirement already satisfied: wheel<1.0,>=0.23.0 in ./.venv/lib/python3.12/site-packages (from astunparse>=1.6.0->tensorflow) (0.45.1)\n",
      "Requirement already satisfied: rich in ./.venv/lib/python3.12/site-packages (from keras>=3.5.0->tensorflow) (14.0.0)\n",
      "Requirement already satisfied: namex in ./.venv/lib/python3.12/site-packages (from keras>=3.5.0->tensorflow) (0.0.8)\n",
      "Requirement already satisfied: optree in ./.venv/lib/python3.12/site-packages (from keras>=3.5.0->tensorflow) (0.15.0)\n",
      "Requirement already satisfied: charset-normalizer<4,>=2 in ./.venv/lib/python3.12/site-packages (from requests<3,>=2.21.0->tensorflow) (3.4.1)\n",
      "Requirement already satisfied: idna<4,>=2.5 in ./.venv/lib/python3.12/site-packages (from requests<3,>=2.21.0->tensorflow) (3.10)\n",
      "Requirement already satisfied: urllib3<3,>=1.21.1 in ./.venv/lib/python3.12/site-packages (from requests<3,>=2.21.0->tensorflow) (2.4.0)\n",
      "Requirement already satisfied: certifi>=2017.4.17 in ./.venv/lib/python3.12/site-packages (from requests<3,>=2.21.0->tensorflow) (2025.1.31)\n",
      "Requirement already satisfied: markdown>=2.6.8 in ./.venv/lib/python3.12/site-packages (from tensorboard~=2.19.0->tensorflow) (3.8)\n",
      "Requirement already satisfied: tensorboard-data-server<0.8.0,>=0.7.0 in ./.venv/lib/python3.12/site-packages (from tensorboard~=2.19.0->tensorflow) (0.7.2)\n",
      "Requirement already satisfied: werkzeug>=1.0.1 in ./.venv/lib/python3.12/site-packages (from tensorboard~=2.19.0->tensorflow) (3.1.3)\n",
      "Requirement already satisfied: MarkupSafe>=2.1.1 in ./.venv/lib/python3.12/site-packages (from werkzeug>=1.0.1->tensorboard~=2.19.0->tensorflow) (3.0.2)\n",
      "Requirement already satisfied: markdown-it-py>=2.2.0 in ./.venv/lib/python3.12/site-packages (from rich->keras>=3.5.0->tensorflow) (3.0.0)\n",
      "Requirement already satisfied: pygments<3.0.0,>=2.13.0 in ./.venv/lib/python3.12/site-packages (from rich->keras>=3.5.0->tensorflow) (2.19.1)\n",
      "Requirement already satisfied: mdurl~=0.1 in ./.venv/lib/python3.12/site-packages (from markdown-it-py>=2.2.0->rich->keras>=3.5.0->tensorflow) (0.1.2)\n",
      "Requirement already satisfied: tqdm in ./.venv/lib/python3.12/site-packages (4.67.1)\n"
     ]
    }
   ],
   "source": [
    "! pip install statsmodels\n",
    "! pip install textstat\n",
    "! pip install textblob\n",
    "! pip install scikit-learn\n",
    "! pip install xgboost\n",
    "! pip install shap\n",
    "! pip install tensorflow\n",
    "! pip install tqdm"
   ]
  },
  {
   "cell_type": "code",
   "execution_count": 3,
   "id": "4ecf8af2",
   "metadata": {},
   "outputs": [],
   "source": [
    "import numpy as np\n",
    "import pandas as pd\n",
    "import matplotlib.pyplot as plt\n",
    "import statsmodels.api as sm\n",
    "import textstat\n",
    "from textblob import TextBlob"
   ]
  },
  {
   "cell_type": "markdown",
   "id": "861a93dc",
   "metadata": {},
   "source": [
    "## Import the dataset"
   ]
  },
  {
   "cell_type": "code",
   "execution_count": 4,
   "id": "2af1a4b4",
   "metadata": {},
   "outputs": [],
   "source": [
    "df_fake = pd.read_csv('data/Fake.csv')\n",
    "df_real = pd.read_csv('data/True.csv')"
   ]
  },
  {
   "cell_type": "markdown",
   "id": "b9206755",
   "metadata": {},
   "source": [
    "# Wrangling"
   ]
  },
  {
   "cell_type": "markdown",
   "id": "038d4706",
   "metadata": {},
   "source": [
    "## Functions"
   ]
  },
  {
   "cell_type": "markdown",
   "id": "069ac803",
   "metadata": {},
   "source": [
    "### Building a wrapper for subjectivity/objectivity\n",
    "\n",
    "the library we found for some of the functions doesn't work unless you initialize an object first so thats why we do this to apply the function"
   ]
  },
  {
   "cell_type": "code",
   "execution_count": 5,
   "id": "b9b8762e",
   "metadata": {},
   "outputs": [],
   "source": [
    "def subjectivity_objectivity(text):\n",
    "    blob = TextBlob(text)\n",
    "    return blob.sentiment.subjectivity\n",
    "\n",
    "def sentiment(text):\n",
    "    blob = TextBlob(text)\n",
    "    return blob.sentiment.polarity"
   ]
  },
  {
   "cell_type": "markdown",
   "id": "4f9918ec",
   "metadata": {},
   "source": [
    "### Ridiculous LSTM model (as an xgboost feature)"
   ]
  },
  {
   "cell_type": "code",
   "execution_count": 6,
   "id": "247dbd48",
   "metadata": {},
   "outputs": [],
   "source": [
    "df_fake['real'] = 0\n",
    "df_real['real'] = 1\n",
    "df = pd.concat([df_fake,df_real])\n",
    "df_save = df.copy()"
   ]
  },
  {
   "cell_type": "code",
   "execution_count": 7,
   "id": "4e433319",
   "metadata": {},
   "outputs": [
    {
     "name": "stdout",
     "output_type": "stream",
     "text": [
      "Found 138022 unique tokens.\n",
      "Donald Trump just couldn t wish all Americans a Happy New Year and leave it at that. Instead, he had to give a shout out to his enemies, haters and  the very dishonest fake news media.  The former reality show star had just one job to do and he couldn t do it. As our Country rapidly grows stronger and smarter, I want to wish all of my friends, supporters, enemies, haters, and even the very dishonest Fake News Media, a Happy and Healthy New Year,  President Angry Pants tweeted.  2018 will be a great year for America! As our Country rapidly grows stronger and smarter, I want to wish all of my friends, supporters, enemies, haters, and even the very dishonest Fake News Media, a Happy and Healthy New Year. 2018 will be a great year for America!  Donald J. Trump (@realDonaldTrump) December 31, 2017Trump s tweet went down about as welll as you d expect.What kind of president sends a New Year s greeting like this despicable, petty, infantile gibberish? Only Trump! His lack of decency won t even allow him to rise above the gutter long enough to wish the American citizens a happy new year!  Bishop Talbert Swan (@TalbertSwan) December 31, 2017no one likes you  Calvin (@calvinstowell) December 31, 2017Your impeachment would make 2018 a great year for America, but I ll also accept regaining control of Congress.  Miranda Yaver (@mirandayaver) December 31, 2017Do you hear yourself talk? When you have to include that many people that hate you you have to wonder? Why do the they all hate me?  Alan Sandoval (@AlanSandoval13) December 31, 2017Who uses the word Haters in a New Years wish??  Marlene (@marlene399) December 31, 2017You can t just say happy new year?  Koren pollitt (@Korencarpenter) December 31, 2017Here s Trump s New Year s Eve tweet from 2016.Happy New Year to all, including to my many enemies and those who have fought me and lost so badly they just don t know what to do. Love!  Donald J. Trump (@realDonaldTrump) December 31, 2016This is nothing new for Trump. He s been doing this for years.Trump has directed messages to his  enemies  and  haters  for New Year s, Easter, Thanksgiving, and the anniversary of 9/11. pic.twitter.com/4FPAe2KypA  Daniel Dale (@ddale8) December 31, 2017Trump s holiday tweets are clearly not presidential.How long did he work at Hallmark before becoming President?  Steven Goodine (@SGoodine) December 31, 2017He s always been like this . . . the only difference is that in the last few years, his filter has been breaking down.  Roy Schulze (@thbthttt) December 31, 2017Who, apart from a teenager uses the term haters?  Wendy (@WendyWhistles) December 31, 2017he s a fucking 5 year old  Who Knows (@rainyday80) December 31, 2017So, to all the people who voted for this a hole thinking he would change once he got into power, you were wrong! 70-year-old men don t change and now he s a year older.Photo by Andrew Burton/Getty Images.\n",
      "[71, 16, 83, 1469, 41, 2502, 56, 225, 5, 1692, 64, 85, 6, 686, 15, 28, 8, 536, 14, 43, 3, 428, 5, 8618, 58, 3, 20, 3213, 8777, 6, 2, 152, 4878, 718, 102, 123, 2, 109, 968, 245, 1048, 43, 83, 53, 467, 3, 92, 6, 14, 1469, 41, 92, 15, 19, 74, 112, 4679, 1, 2959, 6, 1, 34, 191, 3, 2502, 56, 4, 182, 978, 353, 3213, 8777, 6, 111, 2, 152, 4878, 718, 102, 123, 5, 1692, 6, 4254, 64, 85, 37, 1683, 6289, 1038, 1230, 40, 23, 5, 385, 85, 11, 161, 19, 74, 112, 4679, 1, 2959, 6, 1, 34, 191, 3, 2502, 56, 4, 182, 978, 353, 3213, 8777, 6, 111, 2, 152, 4878, 718, 102, 123, 5, 1692, 6, 4254, 64, 85, 1230, 40, 23, 5, 385, 85, 11, 161, 71, 772, 16, 505, 635, 1754, 5415, 9, 817, 398, 162, 39, 19, 1, 19, 44, 319, 1260, 60, 775, 4, 37, 5972, 5, 64, 85, 9, 1, 90, 27, 7269, 6449, 1, 1, 107, 16, 20, 1352, 4, 7555, 352, 41, 111, 642, 79, 3, 1422, 1459, 2, 1, 226, 488, 3, 2502, 2, 122, 596, 5, 1692, 64, 85, 7031, 1, 1, 1, 635, 1754, 1, 53, 2988, 44, 1, 1, 635, 1754, 1, 3303, 36, 137, 1230, 5, 385, 85, 11, 161, 33, 34, 604, 62, 1439, 1, 361, 4, 204, 1, 1, 1, 635, 1754, 1, 44, 1194, 3098, 629, 61, 44, 24, 3, 814, 8, 121, 46, 8, 759, 44, 44, 24, 3, 2116, 243, 92, 2, 32, 56, 759, 232, 5987, 1, 1, 635, 1754, 1, 2944, 2, 1233, 8777, 7, 5, 64, 120, 2502, 1, 1, 635, 1754, 9733, 77, 41, 83, 130, 1692, 64, 85, 1, 1, 1, 635, 1754, 6804, 9, 16, 9, 64, 85, 9, 4724, 817, 26, 202, 1692, 64, 85, 3, 56, 167, 3, 182, 121, 3213, 6, 133, 30, 24, 2207, 232, 6, 695, 70, 3499, 32, 83, 190, 41, 168, 60, 3, 92, 897, 71, 772, 16, 505, 635, 1754, 8778, 12, 436, 64, 11, 16, 14, 9, 45, 432, 27, 11, 120, 16, 22, 2489, 2227, 3, 20, 3213, 6, 8777, 11, 64, 85, 9, 8507, 7694, 6, 2, 4403, 4, 553, 581, 329, 141, 239, 1, 3596, 1, 1, 635, 1754, 5415, 9, 3095, 1494, 29, 861, 25, 149, 106, 226, 117, 14, 209, 28, 1, 119, 1428, 37, 3174, 1, 1, 635, 1754, 1, 9, 761, 45, 90, 27, 2, 107, 2314, 12, 8, 7, 2, 100, 443, 120, 20, 1, 22, 45, 1915, 162, 2812, 1, 1, 635, 1754, 1, 2722, 26, 5, 7032, 2944, 2, 564, 8777, 1, 1, 635, 1754, 1, 9, 5, 6694, 320, 85, 260, 30, 1192, 1, 635, 1754, 1, 3, 56, 2, 46, 30, 830, 11, 27, 5, 4797, 1750, 14, 36, 288, 460, 14, 369, 89, 261, 44, 47, 849, 1879, 85, 260, 479, 190, 41, 288, 6, 101, 14, 9, 5, 85, 3911, 1031, 21, 1928, 1, 568, 502]\n"
     ]
    }
   ],
   "source": [
    "import tensorflow.keras as Keras\n",
    "from tensorflow.keras.preprocessing.text import Tokenizer\n",
    "from tensorflow.keras.preprocessing.sequence import pad_sequences\n",
    "from tensorflow.keras.models import Sequential\n",
    "from tensorflow.keras.layers import Dense, Dropout\n",
    "from tensorflow.keras.layers import Embedding, LSTM, SpatialDropout1D\n",
    "from tensorflow.keras.models import Sequential, Model\n",
    "from sklearn.model_selection import train_test_split\n",
    "from sklearn.metrics import accuracy_score, confusion_matrix, classification_report\n",
    "\n",
    "import random\n",
    "import tensorflow as tf\n",
    "\n",
    "SEED = 42 # Choose any integer you like for the seed\n",
    "\n",
    "# Set seeds for different libraries\n",
    "random.seed(SEED)       # Python's built-in random\n",
    "np.random.seed(SEED)      # NumPy\n",
    "tf.random.set_seed(SEED)  # TensorFlow/Keras global seed\n",
    "\n",
    "\n",
    "X = df_save.copy()['text']\n",
    "y = df_save['real']\n",
    "\n",
    "texts = df_save.copy()['text'].values\n",
    "labels = df['real'].values\n",
    "\n",
    "vocab_size = 10000 # only keep top 10k\n",
    "\n",
    "# create the tokenizer\n",
    "tokenizer = Tokenizer(num_words=vocab_size, oov_token='<OOV>')\n",
    "\n",
    "# fit the tokenizer on the texts\n",
    "tokenizer.fit_on_texts(texts)\n",
    "\n",
    "\n",
    "word_index = tokenizer.word_index\n",
    "print(f\"Found {len(word_index)} unique tokens.\")\n",
    "\n",
    "# Convert text sequences to integer sequences\n",
    "sequences = tokenizer.texts_to_sequences(texts)\n",
    "\n",
    "\n",
    "# Example of a sequence\n",
    "print(texts[0])\n",
    "print(sequences[0])\n"
   ]
  },
  {
   "cell_type": "code",
   "execution_count": 8,
   "id": "0c7ed726",
   "metadata": {},
   "outputs": [
    {
     "name": "stdout",
     "output_type": "stream",
     "text": [
      "[  71   16   83 1469   41 2502   56  225    5 1692   64   85    6  686\n",
      "   15   28    8  536   14   43    3  428    5 8618   58    3   20 3213\n",
      " 8777    6    2  152 4878  718  102  123    2  109  968  245 1048   43\n",
      "   83   53  467    3   92    6   14 1469   41   92   15   19   74  112\n",
      " 4679    1 2959    6    1   34  191    3 2502   56    4  182  978  353\n",
      " 3213 8777    6  111    2  152 4878  718  102  123    5 1692    6 4254\n",
      "   64   85   37 1683 6289 1038 1230   40   23    5  385   85   11  161\n",
      "   19   74  112 4679    1 2959    6    1   34  191    3 2502   56    4\n",
      "  182  978  353 3213 8777    6  111    2  152 4878  718  102  123]\n"
     ]
    }
   ],
   "source": [
    "# pad the sequences\n",
    "max_length = 125\n",
    "padded_sequences = pad_sequences(sequences, maxlen=max_length,\n",
    "                                 padding='post', truncating='post')\n",
    "\n",
    "\n",
    "# Example of a padded sequence\n",
    "print(padded_sequences[0])\n"
   ]
  },
  {
   "cell_type": "code",
   "execution_count": 37,
   "id": "3899b245",
   "metadata": {},
   "outputs": [
    {
     "name": "stdout",
     "output_type": "stream",
     "text": [
      "Epoch 1/2\n"
     ]
    },
    {
     "name": "stderr",
     "output_type": "stream",
     "text": [
      "/Users/leogordon/Desktop/DIS/Big Data Env/Assignments/Final_Project/.venv/lib/python3.12/site-packages/keras/src/layers/core/embedding.py:90: UserWarning: Argument `input_length` is deprecated. Just remove it.\n",
      "  warnings.warn(\n"
     ]
    },
    {
     "name": "stdout",
     "output_type": "stream",
     "text": [
      "\u001b[1m281/281\u001b[0m \u001b[32m━━━━━━━━━━━━━━━━━━━━\u001b[0m\u001b[37m\u001b[0m \u001b[1m53s\u001b[0m 184ms/step - accuracy: 0.8138 - loss: 0.4064 - val_accuracy: 0.8595 - val_loss: 0.6744\n",
      "Epoch 2/2\n",
      "\u001b[1m281/281\u001b[0m \u001b[32m━━━━━━━━━━━━━━━━━━━━\u001b[0m\u001b[37m\u001b[0m \u001b[1m55s\u001b[0m 195ms/step - accuracy: 0.9173 - loss: 0.2507 - val_accuracy: 0.8906 - val_loss: 0.3964\n"
     ]
    },
    {
     "data": {
      "text/html": [
       "<pre style=\"white-space:pre;overflow-x:auto;line-height:normal;font-family:Menlo,'DejaVu Sans Mono',consolas,'Courier New',monospace\"><span style=\"font-weight: bold\">Model: \"sequential_1\"</span>\n",
       "</pre>\n"
      ],
      "text/plain": [
       "\u001b[1mModel: \"sequential_1\"\u001b[0m\n"
      ]
     },
     "metadata": {},
     "output_type": "display_data"
    },
    {
     "data": {
      "text/html": [
       "<pre style=\"white-space:pre;overflow-x:auto;line-height:normal;font-family:Menlo,'DejaVu Sans Mono',consolas,'Courier New',monospace\">┏━━━━━━━━━━━━━━━━━━━━━━━━━━━━━━━━━┳━━━━━━━━━━━━━━━━━━━━━━━━┳━━━━━━━━━━━━━━━┓\n",
       "┃<span style=\"font-weight: bold\"> Layer (type)                    </span>┃<span style=\"font-weight: bold\"> Output Shape           </span>┃<span style=\"font-weight: bold\">       Param # </span>┃\n",
       "┡━━━━━━━━━━━━━━━━━━━━━━━━━━━━━━━━━╇━━━━━━━━━━━━━━━━━━━━━━━━╇━━━━━━━━━━━━━━━┩\n",
       "│ embedding_1 (<span style=\"color: #0087ff; text-decoration-color: #0087ff\">Embedding</span>)         │ (<span style=\"color: #00d7ff; text-decoration-color: #00d7ff\">None</span>, <span style=\"color: #00af00; text-decoration-color: #00af00\">125</span>, <span style=\"color: #00af00; text-decoration-color: #00af00\">256</span>)       │     <span style=\"color: #00af00; text-decoration-color: #00af00\">2,560,256</span> │\n",
       "├─────────────────────────────────┼────────────────────────┼───────────────┤\n",
       "│ lstm_1 (<span style=\"color: #0087ff; text-decoration-color: #0087ff\">LSTM</span>)                   │ (<span style=\"color: #00d7ff; text-decoration-color: #00d7ff\">None</span>, <span style=\"color: #00af00; text-decoration-color: #00af00\">100</span>)            │       <span style=\"color: #00af00; text-decoration-color: #00af00\">142,800</span> │\n",
       "├─────────────────────────────────┼────────────────────────┼───────────────┤\n",
       "│ dense_2 (<span style=\"color: #0087ff; text-decoration-color: #0087ff\">Dense</span>)                 │ (<span style=\"color: #00d7ff; text-decoration-color: #00d7ff\">None</span>, <span style=\"color: #00af00; text-decoration-color: #00af00\">100</span>)            │        <span style=\"color: #00af00; text-decoration-color: #00af00\">10,100</span> │\n",
       "├─────────────────────────────────┼────────────────────────┼───────────────┤\n",
       "│ dropout_2 (<span style=\"color: #0087ff; text-decoration-color: #0087ff\">Dropout</span>)             │ (<span style=\"color: #00d7ff; text-decoration-color: #00d7ff\">None</span>, <span style=\"color: #00af00; text-decoration-color: #00af00\">100</span>)            │             <span style=\"color: #00af00; text-decoration-color: #00af00\">0</span> │\n",
       "├─────────────────────────────────┼────────────────────────┼───────────────┤\n",
       "│ dense_3 (<span style=\"color: #0087ff; text-decoration-color: #0087ff\">Dense</span>)                 │ (<span style=\"color: #00d7ff; text-decoration-color: #00d7ff\">None</span>, <span style=\"color: #00af00; text-decoration-color: #00af00\">1</span>)              │           <span style=\"color: #00af00; text-decoration-color: #00af00\">101</span> │\n",
       "└─────────────────────────────────┴────────────────────────┴───────────────┘\n",
       "</pre>\n"
      ],
      "text/plain": [
       "┏━━━━━━━━━━━━━━━━━━━━━━━━━━━━━━━━━┳━━━━━━━━━━━━━━━━━━━━━━━━┳━━━━━━━━━━━━━━━┓\n",
       "┃\u001b[1m \u001b[0m\u001b[1mLayer (type)                   \u001b[0m\u001b[1m \u001b[0m┃\u001b[1m \u001b[0m\u001b[1mOutput Shape          \u001b[0m\u001b[1m \u001b[0m┃\u001b[1m \u001b[0m\u001b[1m      Param #\u001b[0m\u001b[1m \u001b[0m┃\n",
       "┡━━━━━━━━━━━━━━━━━━━━━━━━━━━━━━━━━╇━━━━━━━━━━━━━━━━━━━━━━━━╇━━━━━━━━━━━━━━━┩\n",
       "│ embedding_1 (\u001b[38;5;33mEmbedding\u001b[0m)         │ (\u001b[38;5;45mNone\u001b[0m, \u001b[38;5;34m125\u001b[0m, \u001b[38;5;34m256\u001b[0m)       │     \u001b[38;5;34m2,560,256\u001b[0m │\n",
       "├─────────────────────────────────┼────────────────────────┼───────────────┤\n",
       "│ lstm_1 (\u001b[38;5;33mLSTM\u001b[0m)                   │ (\u001b[38;5;45mNone\u001b[0m, \u001b[38;5;34m100\u001b[0m)            │       \u001b[38;5;34m142,800\u001b[0m │\n",
       "├─────────────────────────────────┼────────────────────────┼───────────────┤\n",
       "│ dense_2 (\u001b[38;5;33mDense\u001b[0m)                 │ (\u001b[38;5;45mNone\u001b[0m, \u001b[38;5;34m100\u001b[0m)            │        \u001b[38;5;34m10,100\u001b[0m │\n",
       "├─────────────────────────────────┼────────────────────────┼───────────────┤\n",
       "│ dropout_2 (\u001b[38;5;33mDropout\u001b[0m)             │ (\u001b[38;5;45mNone\u001b[0m, \u001b[38;5;34m100\u001b[0m)            │             \u001b[38;5;34m0\u001b[0m │\n",
       "├─────────────────────────────────┼────────────────────────┼───────────────┤\n",
       "│ dense_3 (\u001b[38;5;33mDense\u001b[0m)                 │ (\u001b[38;5;45mNone\u001b[0m, \u001b[38;5;34m1\u001b[0m)              │           \u001b[38;5;34m101\u001b[0m │\n",
       "└─────────────────────────────────┴────────────────────────┴───────────────┘\n"
      ]
     },
     "metadata": {},
     "output_type": "display_data"
    },
    {
     "data": {
      "text/html": [
       "<pre style=\"white-space:pre;overflow-x:auto;line-height:normal;font-family:Menlo,'DejaVu Sans Mono',consolas,'Courier New',monospace\"><span style=\"font-weight: bold\"> Total params: </span><span style=\"color: #00af00; text-decoration-color: #00af00\">8,139,773</span> (31.05 MB)\n",
       "</pre>\n"
      ],
      "text/plain": [
       "\u001b[1m Total params: \u001b[0m\u001b[38;5;34m8,139,773\u001b[0m (31.05 MB)\n"
      ]
     },
     "metadata": {},
     "output_type": "display_data"
    },
    {
     "data": {
      "text/html": [
       "<pre style=\"white-space:pre;overflow-x:auto;line-height:normal;font-family:Menlo,'DejaVu Sans Mono',consolas,'Courier New',monospace\"><span style=\"font-weight: bold\"> Trainable params: </span><span style=\"color: #00af00; text-decoration-color: #00af00\">2,713,257</span> (10.35 MB)\n",
       "</pre>\n"
      ],
      "text/plain": [
       "\u001b[1m Trainable params: \u001b[0m\u001b[38;5;34m2,713,257\u001b[0m (10.35 MB)\n"
      ]
     },
     "metadata": {},
     "output_type": "display_data"
    },
    {
     "data": {
      "text/html": [
       "<pre style=\"white-space:pre;overflow-x:auto;line-height:normal;font-family:Menlo,'DejaVu Sans Mono',consolas,'Courier New',monospace\"><span style=\"font-weight: bold\"> Non-trainable params: </span><span style=\"color: #00af00; text-decoration-color: #00af00\">0</span> (0.00 B)\n",
       "</pre>\n"
      ],
      "text/plain": [
       "\u001b[1m Non-trainable params: \u001b[0m\u001b[38;5;34m0\u001b[0m (0.00 B)\n"
      ]
     },
     "metadata": {},
     "output_type": "display_data"
    },
    {
     "data": {
      "text/html": [
       "<pre style=\"white-space:pre;overflow-x:auto;line-height:normal;font-family:Menlo,'DejaVu Sans Mono',consolas,'Courier New',monospace\"><span style=\"font-weight: bold\"> Optimizer params: </span><span style=\"color: #00af00; text-decoration-color: #00af00\">5,426,516</span> (20.70 MB)\n",
       "</pre>\n"
      ],
      "text/plain": [
       "\u001b[1m Optimizer params: \u001b[0m\u001b[38;5;34m5,426,516\u001b[0m (20.70 MB)\n"
      ]
     },
     "metadata": {},
     "output_type": "display_data"
    }
   ],
   "source": [
    "model = Sequential(\n",
    "    [\n",
    "        Embedding(input_dim=vocab_size + 1, output_dim=256, input_length=max_length),\n",
    "        LSTM(100),\n",
    "        Dense(100, activation='relu'),\n",
    "        Dropout(0.2),\n",
    "        # Dense(12, activation='relu',name='twelve_features_layer'),\n",
    "        # Dropout(0.2),\n",
    "        Dense(1, activation='sigmoid'),\n",
    "    ]\n",
    ")\n",
    "model.compile(loss='binary_crossentropy', optimizer='adam', metrics=['accuracy'])\n",
    "\n",
    "history = model.fit(padded_sequences, labels, epochs=2, batch_size=128, validation_split=0.2)\n",
    "model.summary()"
   ]
  },
  {
   "cell_type": "code",
   "execution_count": 10,
   "id": "f5f7f5d1",
   "metadata": {},
   "outputs": [
    {
     "name": "stdout",
     "output_type": "stream",
     "text": [
      "\u001b[1m1/1\u001b[0m \u001b[32m━━━━━━━━━━━━━━━━━━━━\u001b[0m\u001b[37m\u001b[0m \u001b[1m0s\u001b[0m 90ms/step\n"
     ]
    },
    {
     "data": {
      "text/plain": [
       "np.float32(0.00011370798)"
      ]
     },
     "execution_count": 10,
     "metadata": {},
     "output_type": "execute_result"
    }
   ],
   "source": [
    "def predict_text(text):\n",
    "    \"\"\"\n",
    "    Predict the probability of a text being real or fake.\"\"\"\n",
    "    # Convert the text to a sequence\n",
    "    sequence = tokenizer.texts_to_sequences([text])\n",
    "    # Pad the sequence\n",
    "    padded_sequence = pad_sequences(sequence, maxlen=max_length, padding='post', truncating='post')\n",
    "    # Predict using the model\n",
    "    prediction = model.predict(padded_sequence)\n",
    "    return prediction[0][0]  # Return the predicted probability\n",
    "predict_text(\"The quick brown fox jumps over the lazy dog.\")"
   ]
  },
  {
   "cell_type": "markdown",
   "id": "812369af",
   "metadata": {},
   "source": [
    "### build a dictinoary of functions and names\n",
    "\n",
    "do this to avoid redundant code during the runs for both dataframes. Could have avoided by just merging them but this is also cool"
   ]
  },
  {
   "cell_type": "code",
   "execution_count": 11,
   "id": "538d6461",
   "metadata": {},
   "outputs": [],
   "source": [
    "function_dict = {\n",
    "\n",
    "    # complexity approaches\n",
    "    'coleman_liau':textstat.coleman_liau_index,\n",
    "    'smog':textstat.smog_index,\n",
    "\n",
    "    # sentence length\n",
    "    'sentence_length':textstat.avg_sentence_length,\n",
    "\n",
    "    # subjectivity/objectivity\n",
    "    'subjectivity':subjectivity_objectivity,\n",
    "\n",
    "    # sentiment\n",
    "    'sentiment':sentiment,\n",
    "\n",
    "    # word count\n",
    "    'word_count':textstat.lexicon_count,\n",
    "\n",
    "    # syllable count\n",
    "    'syllable_count':textstat.syllable_count,\n",
    "\n",
    "    # flesch reading ease\n",
    "    'flesch_reading_ease':textstat.flesch_reading_ease,\n",
    "\n",
    "    # flesch-kincaid grade level\n",
    "    'flesch_kincaid_grade':textstat.flesch_kincaid_grade,\n",
    "\n",
    "    # lstm-output\n",
    "    # 'lstm_output':predict_text\n",
    "\n",
    "\n",
    "}"
   ]
  },
  {
   "cell_type": "code",
   "execution_count": 35,
   "id": "8bf9ec24",
   "metadata": {},
   "outputs": [
    {
     "name": "stderr",
     "output_type": "stream",
     "text": [
      "Processing DataFrames:   0%|          | 0/2 [00:00<?, ?it/s]"
     ]
    },
    {
     "name": "stdout",
     "output_type": "stream",
     "text": [
      "Processing coleman_liau for df_fake\n",
      "Processing smog for df_fake\n",
      "Processing sentence_length for df_fake\n",
      "Processing subjectivity for df_fake\n",
      "Processing sentiment for df_fake\n",
      "Processing word_count for df_fake\n",
      "Processing syllable_count for df_fake\n",
      "Processing flesch_reading_ease for df_fake\n",
      "Processing flesch_kincaid_grade for df_fake\n"
     ]
    },
    {
     "name": "stderr",
     "output_type": "stream",
     "text": [
      "Processing DataFrames:  50%|█████     | 1/2 [01:31<01:31, 91.64s/it]"
     ]
    },
    {
     "name": "stdout",
     "output_type": "stream",
     "text": [
      "Processing coleman_liau for df_real\n",
      "Processing smog for df_real\n",
      "Processing sentence_length for df_real\n",
      "Processing subjectivity for df_real\n",
      "Processing sentiment for df_real\n",
      "Processing word_count for df_real\n",
      "Processing syllable_count for df_real\n",
      "Processing flesch_reading_ease for df_real\n",
      "Processing flesch_kincaid_grade for df_real\n"
     ]
    },
    {
     "name": "stderr",
     "output_type": "stream",
     "text": [
      "Processing DataFrames: 100%|██████████| 2/2 [02:52<00:00, 86.15s/it]\n"
     ]
    }
   ],
   "source": [
    "# for df in [df_fake,df_real]:\n",
    "#     for j in function_dict.keys():\n",
    "#         df[j] = df['text'].apply(function_dict[j])\n",
    "\n",
    "from tqdm.auto import tqdm # Use tqdm.auto for better compatibility (Jupyter/console)\n",
    "# from tqdm.pandas impo  /rt tqdm_pandas\n",
    "import pandas as pd # Assuming you are using pandas DataFrames\n",
    "\n",
    "# Register tqdm with pandas. Do this once at the beginning of your script/notebook.\n",
    "# tqdm_pandas() \n",
    "\n",
    "# Assume df_fake, df_real, and function_dict are already defined\n",
    "\n",
    "# It's helpful to iterate through (name, df) pairs for clearer descriptions\n",
    "dataframes_to_process = [('df_fake', df_fake), ('df_real', df_real)]\n",
    "\n",
    "# Wrap the outer loop with tqdm\n",
    "for df_name, df in tqdm(dataframes_to_process, desc=\"Processing DataFrames\"):\n",
    "\n",
    "    for j in function_dict.keys():\n",
    "        print(f\"Processing {j} for {df_name}\")\n",
    "        df[j] = df['text'].apply(function_dict[j])\n",
    "\n",
    "\n",
    "# After the loops complete, df_fake and df_real will have the new columns"
   ]
  },
  {
   "cell_type": "code",
   "execution_count": 42,
   "id": "966e6ceb",
   "metadata": {},
   "outputs": [
    {
     "name": "stdout",
     "output_type": "stream",
     "text": [
      "\u001b[1m1404/1404\u001b[0m \u001b[32m━━━━━━━━━━━━━━━━━━━━\u001b[0m\u001b[37m\u001b[0m \u001b[1m27s\u001b[0m 19ms/step\n"
     ]
    }
   ],
   "source": [
    "y_pred_probabilities = model.predict(padded_sequences)\n",
    "# df_save['lstm_output'] = y_pred_probabilities"
   ]
  },
  {
   "cell_type": "markdown",
   "id": "04326df5",
   "metadata": {},
   "source": [
    "### Combine the dataframes"
   ]
  },
  {
   "cell_type": "code",
   "execution_count": 49,
   "id": "e3583d12",
   "metadata": {},
   "outputs": [],
   "source": [
    "df_fake['real'] = 0\n",
    "df_real['real'] = 1\n",
    "df = pd.concat([df_fake,df_real])\n",
    "df_save = df.copy()\n",
    "df_save['lstm_output'] = y_pred_probabilities\n",
    "df_save.to_csv('data/df.csv',index=False)"
   ]
  },
  {
   "cell_type": "markdown",
   "id": "d3c1c608",
   "metadata": {},
   "source": [
    "## IMPORTANT RELOAD DATA"
   ]
  },
  {
   "cell_type": "code",
   "execution_count": 50,
   "id": "82b806a8",
   "metadata": {},
   "outputs": [],
   "source": [
    "df = pd.read_csv('data/df.csv')"
   ]
  },
  {
   "cell_type": "markdown",
   "id": "c585b946",
   "metadata": {},
   "source": [
    "### drop the non-classification targets"
   ]
  },
  {
   "cell_type": "code",
   "execution_count": 51,
   "id": "e14f2411",
   "metadata": {},
   "outputs": [
    {
     "data": {
      "application/vnd.microsoft.datawrangler.viewer.v0+json": {
       "columns": [
        {
         "name": "index",
         "rawType": "int64",
         "type": "integer"
        },
        {
         "name": "real",
         "rawType": "int64",
         "type": "integer"
        },
        {
         "name": "coleman_liau",
         "rawType": "float64",
         "type": "float"
        },
        {
         "name": "smog",
         "rawType": "float64",
         "type": "float"
        },
        {
         "name": "sentence_length",
         "rawType": "float64",
         "type": "float"
        },
        {
         "name": "subjectivity",
         "rawType": "float64",
         "type": "float"
        },
        {
         "name": "sentiment",
         "rawType": "float64",
         "type": "float"
        },
        {
         "name": "word_count",
         "rawType": "int64",
         "type": "integer"
        },
        {
         "name": "syllable_count",
         "rawType": "int64",
         "type": "integer"
        },
        {
         "name": "flesch_reading_ease",
         "rawType": "float64",
         "type": "float"
        },
        {
         "name": "flesch_kincaid_grade",
         "rawType": "float64",
         "type": "float"
        },
        {
         "name": "lstm_output",
         "rawType": "float64",
         "type": "float"
        }
       ],
       "conversionMethod": "pd.DataFrame",
       "ref": "d5bf0380-e754-4564-bab2-68bbcfcfca5a",
       "rows": [
        [
         "0",
         "0",
         "9.05",
         "11.8",
         "17.0",
         "0.5998951781970648",
         "0.0821316943015056",
         "492",
         "738",
         "62.68",
         "8.7",
         "0.00809171"
        ],
        [
         "1",
         "0",
         "11.95",
         "12.9",
         "16.9",
         "0.3340983728914763",
         "-0.0050044782803403",
         "305",
         "519",
         "45.86",
         "11.1",
         "0.01636333"
        ],
        [
         "2",
         "0",
         "11.02",
         "11.7",
         "16.1",
         "0.5419692460317461",
         "-0.012344990079365",
         "579",
         "882",
         "63.59",
         "8.4",
         "0.010127885"
        ],
        [
         "3",
         "0",
         "11.19",
         "13.0",
         "17.6",
         "0.3940860215053763",
         "-0.0231182795698924",
         "441",
         "699",
         "53.61",
         "10.2",
         "0.011423333"
        ],
        [
         "4",
         "0",
         "8.59",
         "11.5",
         "21.0",
         "0.4952222222222222",
         "-0.0117222222222222",
         "420",
         "611",
         "58.62",
         "10.3",
         "0.012755235"
        ],
        [
         "5",
         "0",
         "8.53",
         "11.3",
         "19.5",
         "0.502536231884058",
         "0.0047101449275362",
         "312",
         "450",
         "68.6",
         "8.5",
         "0.006404835"
        ],
        [
         "6",
         "0",
         "11.26",
         "13.1",
         "18.5",
         "0.405392156862745",
         "-0.0377297794117647",
         "352",
         "574",
         "52.7",
         "10.5",
         "0.009569001"
        ],
        [
         "7",
         "0",
         "10.98",
         "15.0",
         "28.9",
         "0.307914673046252",
         "0.0420454545454545",
         "376",
         "587",
         "42.14",
         "14.6",
         "0.016854977"
        ],
        [
         "8",
         "0",
         "11.67",
         "15.7",
         "25.4",
         "0.5091791979949875",
         "0.0429511278195488",
         "457",
         "770",
         "37.23",
         "14.4",
         "0.009647998"
        ],
        [
         "9",
         "0",
         "9.05",
         "11.4",
         "16.8",
         "0.515224358974359",
         "0.0913461538461538",
         "286",
         "433",
         "62.88",
         "8.7",
         "0.01215038"
        ],
        [
         "10",
         "0",
         "8.88",
         "12.4",
         "22.4",
         "0.3476984126984126",
         "0.0337301587301587",
         "358",
         "535",
         "57.2",
         "10.8",
         "0.020665454"
        ],
        [
         "11",
         "0",
         "10.91",
         "13.5",
         "24.8",
         "0.4196338383838383",
         "0.1428345959595959",
         "273",
         "415",
         "54.76",
         "11.8",
         "0.014464694"
        ],
        [
         "12",
         "0",
         "9.1",
         "12.0",
         "14.4",
         "0.4925896900034831",
         "0.1003918495297805",
         "388",
         "619",
         "56.86",
         "8.9",
         "0.028725902"
        ],
        [
         "13",
         "0",
         "7.94",
         "11.0",
         "16.7",
         "0.5277777777777778",
         "0.0546296296296296",
         "284",
         "409",
         "71.44",
         "7.4",
         "0.0030704746"
        ],
        [
         "14",
         "0",
         "7.71",
         "10.2",
         "15.2",
         "0.5310892810892812",
         "0.0982868982868983",
         "500",
         "729",
         "64.51",
         "8.0",
         "0.025199957"
        ],
        [
         "15",
         "0",
         "9.11",
         "11.9",
         "20.5",
         "0.5610714285714284",
         "0.0562152777777777",
         "369",
         "540",
         "59.13",
         "10.1",
         "0.012484671"
        ],
        [
         "16",
         "0",
         "13.11",
         "13.4",
         "19.0",
         "0.366597004528039",
         "0.0279388714733542",
         "455",
         "743",
         "52.19",
         "10.7",
         "0.012789006"
        ],
        [
         "17",
         "0",
         "13.29",
         "13.1",
         "18.2",
         "0.4073412698412698",
         "-0.0393353174603174",
         "310",
         "531",
         "44.54",
         "11.6",
         "0.020654"
        ],
        [
         "18",
         "0",
         "9.4",
         "13.1",
         "20.7",
         "0.4923370927318297",
         "0.1264707222601959",
         "455",
         "706",
         "50.46",
         "11.4",
         "0.01786572"
        ],
        [
         "19",
         "0",
         "12.18",
         "11.9",
         "15.5",
         "0.5927460317460317",
         "0.1456190476190476",
         "434",
         "695",
         "55.74",
         "9.3",
         "0.030328482"
        ],
        [
         "20",
         "0",
         "10.33",
         "13.0",
         "21.6",
         "0.5827777777777778",
         "0.1180555555555555",
         "496",
         "771",
         "49.55",
         "11.7",
         "0.007007907"
        ],
        [
         "21",
         "0",
         "10.15",
         "12.0",
         "17.0",
         "0.525952380952381",
         "0.0671428571428571",
         "340",
         "539",
         "54.22",
         "9.9",
         "0.0059765587"
        ],
        [
         "22",
         "0",
         "11.6",
         "12.8",
         "16.3",
         "0.4481601731601731",
         "0.1462121212121212",
         "309",
         "514",
         "46.47",
         "10.8",
         "0.013800704"
        ],
        [
         "23",
         "0",
         "10.33",
         "13.4",
         "19.3",
         "0.458531746031746",
         "0.0806795634920635",
         "270",
         "435",
         "51.89",
         "10.8",
         "0.027987922"
        ],
        [
         "24",
         "0",
         "10.96",
         "11.0",
         "16.9",
         "0.4",
         "0.025",
         "305",
         "462",
         "62.78",
         "8.7",
         "0.020571938"
        ],
        [
         "25",
         "0",
         "9.45",
         "11.4",
         "17.7",
         "0.4800728715728716",
         "0.0361782106782106",
         "389",
         "597",
         "61.97",
         "9.0",
         "0.018237354"
        ],
        [
         "26",
         "0",
         "9.4",
         "12.9",
         "20.6",
         "0.4708367346938776",
         "-0.0282857142857142",
         "351",
         "549",
         "50.57",
         "11.3",
         "0.00468837"
        ],
        [
         "27",
         "0",
         "10.97",
         "14.0",
         "20.1",
         "0.3872260015117157",
         "-0.0884731670445956",
         "463",
         "745",
         "51.07",
         "11.1",
         "0.010469642"
        ],
        [
         "28",
         "0",
         "12.71",
         "14.1",
         "22.1",
         "0.2821428571428571",
         "0.0632142857142857",
         "331",
         "551",
         "40.58",
         "13.1",
         "0.0056620305"
        ],
        [
         "29",
         "0",
         "9.85",
         "11.1",
         "14.5",
         "0.4647186147186148",
         "0.1599643622370894",
         "448",
         "698",
         "56.76",
         "8.9",
         "0.008729049"
        ],
        [
         "30",
         "0",
         "9.75",
         "11.5",
         "18.9",
         "0.5476190476190477",
         "0.1571428571428571",
         "360",
         "546",
         "60.75",
         "9.5",
         "0.023946071"
        ],
        [
         "31",
         "0",
         "11.2",
         "13.7",
         "21.1",
         "0.3646645021645021",
         "-0.0089795008912655",
         "422",
         "689",
         "50.06",
         "11.5",
         "0.021739857"
        ],
        [
         "32",
         "0",
         "12.83",
         "15.8",
         "23.0",
         "0.2881834215167548",
         "0.0661375661375661",
         "414",
         "727",
         "31.21",
         "14.6",
         "0.06073722"
        ],
        [
         "33",
         "0",
         "10.5",
         "13.1",
         "17.7",
         "0.3706140350877193",
         "0.0114035087719298",
         "513",
         "815",
         "53.51",
         "10.2",
         "0.010132414"
        ],
        [
         "34",
         "0",
         "10.5",
         "11.8",
         "16.2",
         "0.2947899159663865",
         "0.0043697478991596",
         "292",
         "456",
         "55.03",
         "9.6",
         "0.99536777"
        ],
        [
         "35",
         "0",
         "9.98",
         "13.0",
         "18.8",
         "0.5359375",
         "-0.0078125",
         "282",
         "447",
         "52.39",
         "10.6",
         "0.009874729"
        ],
        [
         "36",
         "0",
         "10.39",
         "13.4",
         "19.9",
         "0.4172841047841047",
         "0.1103195415695415",
         "378",
         "588",
         "51.28",
         "11.1",
         "0.03602551"
        ],
        [
         "37",
         "0",
         "9.76",
         "14.8",
         "33.9",
         "0.4623006379585326",
         "0.0177581738437001",
         "441",
         "657",
         "45.53",
         "15.3",
         "0.006089698"
        ],
        [
         "38",
         "0",
         "11.96",
         "13.9",
         "23.1",
         "0.6413917163917164",
         "-0.0696786884286884",
         "648",
         "1042",
         "48.03",
         "12.3",
         "0.012760622"
        ],
        [
         "39",
         "0",
         "10.95",
         "12.0",
         "14.5",
         "0.4367295403009689",
         "-0.0270891311069882",
         "522",
         "841",
         "56.76",
         "8.9",
         "0.00582774"
        ],
        [
         "40",
         "0",
         "9.27",
         "12.7",
         "14.9",
         "0.4802455357142857",
         "-0.0129092261904761",
         "446",
         "732",
         "56.35",
         "9.1",
         "0.014870781"
        ],
        [
         "41",
         "0",
         "8.48",
         "12.0",
         "23.0",
         "0.4137669801462905",
         "0.1314393939393939",
         "299",
         "427",
         "65.05",
         "9.9",
         "0.014367649"
        ],
        [
         "42",
         "0",
         "11.89",
         "13.8",
         "18.2",
         "0.3942358366271409",
         "-0.1000988142292489",
         "309",
         "514",
         "44.54",
         "11.6",
         "0.014323681"
        ],
        [
         "43",
         "0",
         "9.8",
         "11.9",
         "16.0",
         "0.4430555555555555",
         "-0.0682291666666666",
         "385",
         "596",
         "63.7",
         "8.4",
         "0.0062006307"
        ],
        [
         "44",
         "0",
         "9.58",
         "13.1",
         "22.3",
         "0.6248511904761905",
         "0.1882711038961038",
         "312",
         "471",
         "57.3",
         "10.8",
         "0.007017075"
        ],
        [
         "45",
         "0",
         "11.67",
         "14.3",
         "23.0",
         "0.3166937229437229",
         "-0.0443933381433381",
         "345",
         "555",
         "48.13",
         "12.3",
         "0.01725166"
        ],
        [
         "46",
         "0",
         "10.21",
         "12.9",
         "19.7",
         "0.5192780337941628",
         "0.0987327188940092",
         "394",
         "606",
         "59.94",
         "9.8",
         "0.009558469"
        ],
        [
         "47",
         "0",
         "9.34",
         "12.0",
         "18.9",
         "0.5419712885154062",
         "0.0857545518207283",
         "321",
         "487",
         "60.75",
         "9.5",
         "0.017364549"
        ],
        [
         "48",
         "0",
         "9.99",
         "15.6",
         "28.0",
         "0.4327927927927928",
         "0.1258333333333333",
         "364",
         "575",
         "43.06",
         "14.2",
         "0.009471516"
        ],
        [
         "49",
         "0",
         "9.17",
         "12.8",
         "18.8",
         "0.432909843779409",
         "0.0205251270468661",
         "301",
         "467",
         "52.39",
         "10.6",
         "0.018023143"
        ]
       ],
       "shape": {
        "columns": 11,
        "rows": 44898
       }
      },
      "text/html": [
       "<div>\n",
       "<style scoped>\n",
       "    .dataframe tbody tr th:only-of-type {\n",
       "        vertical-align: middle;\n",
       "    }\n",
       "\n",
       "    .dataframe tbody tr th {\n",
       "        vertical-align: top;\n",
       "    }\n",
       "\n",
       "    .dataframe thead th {\n",
       "        text-align: right;\n",
       "    }\n",
       "</style>\n",
       "<table border=\"1\" class=\"dataframe\">\n",
       "  <thead>\n",
       "    <tr style=\"text-align: right;\">\n",
       "      <th></th>\n",
       "      <th>real</th>\n",
       "      <th>coleman_liau</th>\n",
       "      <th>smog</th>\n",
       "      <th>sentence_length</th>\n",
       "      <th>subjectivity</th>\n",
       "      <th>sentiment</th>\n",
       "      <th>word_count</th>\n",
       "      <th>syllable_count</th>\n",
       "      <th>flesch_reading_ease</th>\n",
       "      <th>flesch_kincaid_grade</th>\n",
       "      <th>lstm_output</th>\n",
       "    </tr>\n",
       "  </thead>\n",
       "  <tbody>\n",
       "    <tr>\n",
       "      <th>0</th>\n",
       "      <td>0</td>\n",
       "      <td>9.05</td>\n",
       "      <td>11.8</td>\n",
       "      <td>17.0</td>\n",
       "      <td>0.599895</td>\n",
       "      <td>0.082132</td>\n",
       "      <td>492</td>\n",
       "      <td>738</td>\n",
       "      <td>62.68</td>\n",
       "      <td>8.7</td>\n",
       "      <td>0.008092</td>\n",
       "    </tr>\n",
       "    <tr>\n",
       "      <th>1</th>\n",
       "      <td>0</td>\n",
       "      <td>11.95</td>\n",
       "      <td>12.9</td>\n",
       "      <td>16.9</td>\n",
       "      <td>0.334098</td>\n",
       "      <td>-0.005004</td>\n",
       "      <td>305</td>\n",
       "      <td>519</td>\n",
       "      <td>45.86</td>\n",
       "      <td>11.1</td>\n",
       "      <td>0.016363</td>\n",
       "    </tr>\n",
       "    <tr>\n",
       "      <th>2</th>\n",
       "      <td>0</td>\n",
       "      <td>11.02</td>\n",
       "      <td>11.7</td>\n",
       "      <td>16.1</td>\n",
       "      <td>0.541969</td>\n",
       "      <td>-0.012345</td>\n",
       "      <td>579</td>\n",
       "      <td>882</td>\n",
       "      <td>63.59</td>\n",
       "      <td>8.4</td>\n",
       "      <td>0.010128</td>\n",
       "    </tr>\n",
       "    <tr>\n",
       "      <th>3</th>\n",
       "      <td>0</td>\n",
       "      <td>11.19</td>\n",
       "      <td>13.0</td>\n",
       "      <td>17.6</td>\n",
       "      <td>0.394086</td>\n",
       "      <td>-0.023118</td>\n",
       "      <td>441</td>\n",
       "      <td>699</td>\n",
       "      <td>53.61</td>\n",
       "      <td>10.2</td>\n",
       "      <td>0.011423</td>\n",
       "    </tr>\n",
       "    <tr>\n",
       "      <th>4</th>\n",
       "      <td>0</td>\n",
       "      <td>8.59</td>\n",
       "      <td>11.5</td>\n",
       "      <td>21.0</td>\n",
       "      <td>0.495222</td>\n",
       "      <td>-0.011722</td>\n",
       "      <td>420</td>\n",
       "      <td>611</td>\n",
       "      <td>58.62</td>\n",
       "      <td>10.3</td>\n",
       "      <td>0.012755</td>\n",
       "    </tr>\n",
       "    <tr>\n",
       "      <th>...</th>\n",
       "      <td>...</td>\n",
       "      <td>...</td>\n",
       "      <td>...</td>\n",
       "      <td>...</td>\n",
       "      <td>...</td>\n",
       "      <td>...</td>\n",
       "      <td>...</td>\n",
       "      <td>...</td>\n",
       "      <td>...</td>\n",
       "      <td>...</td>\n",
       "      <td>...</td>\n",
       "    </tr>\n",
       "    <tr>\n",
       "      <th>44893</th>\n",
       "      <td>1</td>\n",
       "      <td>11.43</td>\n",
       "      <td>13.2</td>\n",
       "      <td>19.9</td>\n",
       "      <td>0.447884</td>\n",
       "      <td>0.219279</td>\n",
       "      <td>458</td>\n",
       "      <td>743</td>\n",
       "      <td>51.28</td>\n",
       "      <td>11.1</td>\n",
       "      <td>0.978257</td>\n",
       "    </tr>\n",
       "    <tr>\n",
       "      <th>44894</th>\n",
       "      <td>1</td>\n",
       "      <td>13.05</td>\n",
       "      <td>13.8</td>\n",
       "      <td>20.7</td>\n",
       "      <td>0.077778</td>\n",
       "      <td>0.022222</td>\n",
       "      <td>124</td>\n",
       "      <td>218</td>\n",
       "      <td>33.54</td>\n",
       "      <td>13.7</td>\n",
       "      <td>0.973350</td>\n",
       "    </tr>\n",
       "    <tr>\n",
       "      <th>44895</th>\n",
       "      <td>1</td>\n",
       "      <td>11.26</td>\n",
       "      <td>14.1</td>\n",
       "      <td>19.9</td>\n",
       "      <td>0.426609</td>\n",
       "      <td>0.054382</td>\n",
       "      <td>318</td>\n",
       "      <td>510</td>\n",
       "      <td>51.28</td>\n",
       "      <td>11.1</td>\n",
       "      <td>0.660115</td>\n",
       "    </tr>\n",
       "    <tr>\n",
       "      <th>44896</th>\n",
       "      <td>1</td>\n",
       "      <td>10.51</td>\n",
       "      <td>13.0</td>\n",
       "      <td>22.7</td>\n",
       "      <td>0.377753</td>\n",
       "      <td>0.021993</td>\n",
       "      <td>204</td>\n",
       "      <td>313</td>\n",
       "      <td>56.89</td>\n",
       "      <td>11.0</td>\n",
       "      <td>0.998033</td>\n",
       "    </tr>\n",
       "    <tr>\n",
       "      <th>44897</th>\n",
       "      <td>1</td>\n",
       "      <td>13.29</td>\n",
       "      <td>14.2</td>\n",
       "      <td>18.9</td>\n",
       "      <td>0.194372</td>\n",
       "      <td>0.019264</td>\n",
       "      <td>208</td>\n",
       "      <td>369</td>\n",
       "      <td>35.37</td>\n",
       "      <td>13.0</td>\n",
       "      <td>0.988564</td>\n",
       "    </tr>\n",
       "  </tbody>\n",
       "</table>\n",
       "<p>44898 rows × 11 columns</p>\n",
       "</div>"
      ],
      "text/plain": [
       "       real  coleman_liau  smog  sentence_length  subjectivity  sentiment  \\\n",
       "0         0          9.05  11.8             17.0      0.599895   0.082132   \n",
       "1         0         11.95  12.9             16.9      0.334098  -0.005004   \n",
       "2         0         11.02  11.7             16.1      0.541969  -0.012345   \n",
       "3         0         11.19  13.0             17.6      0.394086  -0.023118   \n",
       "4         0          8.59  11.5             21.0      0.495222  -0.011722   \n",
       "...     ...           ...   ...              ...           ...        ...   \n",
       "44893     1         11.43  13.2             19.9      0.447884   0.219279   \n",
       "44894     1         13.05  13.8             20.7      0.077778   0.022222   \n",
       "44895     1         11.26  14.1             19.9      0.426609   0.054382   \n",
       "44896     1         10.51  13.0             22.7      0.377753   0.021993   \n",
       "44897     1         13.29  14.2             18.9      0.194372   0.019264   \n",
       "\n",
       "       word_count  syllable_count  flesch_reading_ease  flesch_kincaid_grade  \\\n",
       "0             492             738                62.68                   8.7   \n",
       "1             305             519                45.86                  11.1   \n",
       "2             579             882                63.59                   8.4   \n",
       "3             441             699                53.61                  10.2   \n",
       "4             420             611                58.62                  10.3   \n",
       "...           ...             ...                  ...                   ...   \n",
       "44893         458             743                51.28                  11.1   \n",
       "44894         124             218                33.54                  13.7   \n",
       "44895         318             510                51.28                  11.1   \n",
       "44896         204             313                56.89                  11.0   \n",
       "44897         208             369                35.37                  13.0   \n",
       "\n",
       "       lstm_output  \n",
       "0         0.008092  \n",
       "1         0.016363  \n",
       "2         0.010128  \n",
       "3         0.011423  \n",
       "4         0.012755  \n",
       "...            ...  \n",
       "44893     0.978257  \n",
       "44894     0.973350  \n",
       "44895     0.660115  \n",
       "44896     0.998033  \n",
       "44897     0.988564  \n",
       "\n",
       "[44898 rows x 11 columns]"
      ]
     },
     "execution_count": 51,
     "metadata": {},
     "output_type": "execute_result"
    }
   ],
   "source": [
    "df = df.drop(columns=['title','text','subject','date'])\n",
    "df"
   ]
  },
  {
   "cell_type": "code",
   "execution_count": 53,
   "id": "4b34fad0",
   "metadata": {},
   "outputs": [
    {
     "data": {
      "text/plain": [
       "real                      int64\n",
       "coleman_liau            float64\n",
       "smog                    float64\n",
       "sentence_length         float64\n",
       "subjectivity            float64\n",
       "sentiment               float64\n",
       "word_count                int64\n",
       "syllable_count            int64\n",
       "flesch_reading_ease     float64\n",
       "flesch_kincaid_grade    float64\n",
       "lstm_output             float64\n",
       "dtype: object"
      ]
     },
     "execution_count": 53,
     "metadata": {},
     "output_type": "execute_result"
    }
   ],
   "source": [
    "df.dtypes"
   ]
  },
  {
   "cell_type": "markdown",
   "id": "2a4822f5",
   "metadata": {},
   "source": [
    "## EDA"
   ]
  },
  {
   "cell_type": "markdown",
   "id": "b29bb8e0",
   "metadata": {},
   "source": [
    "### PCA Graph by Class\n",
    "\n",
    "looks like there are some clear outliers in this dataset"
   ]
  },
  {
   "cell_type": "code",
   "execution_count": 54,
   "id": "b21a167e",
   "metadata": {},
   "outputs": [
    {
     "data": {
      "text/plain": [
       "<matplotlib.collections.PathCollection at 0x2a242edb0>"
      ]
     },
     "execution_count": 54,
     "metadata": {},
     "output_type": "execute_result"
    },
    {
     "data": {
      "image/png": "[encoded data removed]",
      "text/plain": [
       "<Figure size 640x480 with 1 Axes>"
      ]
     },
     "metadata": {},
     "output_type": "display_data"
    }
   ],
   "source": [
    "from sklearn.decomposition import PCA\n",
    "from sklearn.preprocessing import StandardScaler\n",
    "\n",
    "# drop the real column\n",
    "df_X = df.copy().drop(columns=['real'])\n",
    "df_y = df.copy()['real']\n",
    "\n",
    "# reassign (has no actual use)\n",
    "X = np.array(df_X)\n",
    "y=np.array(df_y)\n",
    "\n",
    "# scale the data\n",
    "scaler = StandardScaler()\n",
    "X = scaler.fit_transform(X)\n",
    "\n",
    "# apply the pca\n",
    "pca = PCA(n_components=2)\n",
    "pca.fit(X)\n",
    "X_pca = pca.transform(X)\n",
    "\n",
    "# wrangle the data\n",
    "X_pca_df = pd.DataFrame(data=X_pca, columns=['pc1', 'pc2'])\n",
    "final_df = pd.concat([X_pca_df, pd.DataFrame(y, columns=['real'])], axis=1)\n",
    "# final_df = final_df.sample(frac=1).reset_index(drop=True)\n",
    "\n",
    "# plot\n",
    "plt.scatter(final_df['pc1'],final_df['pc2'],c=final_df['real'],alpha=.5)"
   ]
  },
  {
   "cell_type": "markdown",
   "id": "ccecfa76",
   "metadata": {},
   "source": [
    "#### finding pca outliers"
   ]
  },
  {
   "cell_type": "code",
   "execution_count": 55,
   "id": "b8a1b9af",
   "metadata": {},
   "outputs": [
    {
     "data": {
      "text/plain": [
       "9358     92.699619\n",
       "15508    89.297545\n",
       "15507    36.462753\n",
       "12139    35.484463\n",
       "21870    34.711457\n",
       "           ...    \n",
       "12512    -9.478408\n",
       "16415    -9.478408\n",
       "12511    -9.478408\n",
       "19033    -9.478408\n",
       "19317    -9.478408\n",
       "Name: pc1, Length: 44898, dtype: float64"
      ]
     },
     "execution_count": 55,
     "metadata": {},
     "output_type": "execute_result"
    }
   ],
   "source": [
    "final_df['pc1'].sort_values(ascending=False)"
   ]
  },
  {
   "cell_type": "markdown",
   "id": "5cc40a15",
   "metadata": {},
   "source": [
    "### t-SNE\n",
    "\n",
    "above looked bad so trying a t-SNE"
   ]
  },
  {
   "cell_type": "code",
   "execution_count": 19,
   "id": "5de95303",
   "metadata": {},
   "outputs": [
    {
     "ename": "KeyboardInterrupt",
     "evalue": "",
     "output_type": "error",
     "traceback": [
      "\u001b[31m---------------------------------------------------------------------------\u001b[39m",
      "\u001b[31mKeyboardInterrupt\u001b[39m                         Traceback (most recent call last)",
      "\u001b[36mCell\u001b[39m\u001b[36m \u001b[39m\u001b[32mIn[19]\u001b[39m\u001b[32m, line 20\u001b[39m\n\u001b[32m     17\u001b[39m \u001b[38;5;66;03m# apply the pca\u001b[39;00m\n\u001b[32m     18\u001b[39m tsne = TSNE(n_components=\u001b[32m2\u001b[39m,random_state=\u001b[32m42\u001b[39m)\n\u001b[32m---> \u001b[39m\u001b[32m20\u001b[39m \u001b[43mtsne\u001b[49m\u001b[43m.\u001b[49m\u001b[43mfit\u001b[49m\u001b[43m(\u001b[49m\u001b[43mX\u001b[49m\u001b[43m)\u001b[49m\n\u001b[32m     21\u001b[39m X_tsne = tsne.fit_transform(X)\n",
      "\u001b[36mFile \u001b[39m\u001b[32m~/Desktop/DIS/Big Data Env/Assignments/Final_Project/.venv/lib/python3.12/site-packages/sklearn/base.py:1389\u001b[39m, in \u001b[36m_fit_context.<locals>.decorator.<locals>.wrapper\u001b[39m\u001b[34m(estimator, *args, **kwargs)\u001b[39m\n\u001b[32m   1382\u001b[39m     estimator._validate_params()\n\u001b[32m   1384\u001b[39m \u001b[38;5;28;01mwith\u001b[39;00m config_context(\n\u001b[32m   1385\u001b[39m     skip_parameter_validation=(\n\u001b[32m   1386\u001b[39m         prefer_skip_nested_validation \u001b[38;5;129;01mor\u001b[39;00m global_skip_validation\n\u001b[32m   1387\u001b[39m     )\n\u001b[32m   1388\u001b[39m ):\n\u001b[32m-> \u001b[39m\u001b[32m1389\u001b[39m     \u001b[38;5;28;01mreturn\u001b[39;00m \u001b[43mfit_method\u001b[49m\u001b[43m(\u001b[49m\u001b[43mestimator\u001b[49m\u001b[43m,\u001b[49m\u001b[43m \u001b[49m\u001b[43m*\u001b[49m\u001b[43margs\u001b[49m\u001b[43m,\u001b[49m\u001b[43m \u001b[49m\u001b[43m*\u001b[49m\u001b[43m*\u001b[49m\u001b[43mkwargs\u001b[49m\u001b[43m)\u001b[49m\n",
      "\u001b[36mFile \u001b[39m\u001b[32m~/Desktop/DIS/Big Data Env/Assignments/Final_Project/.venv/lib/python3.12/site-packages/sklearn/manifold/_t_sne.py:1207\u001b[39m, in \u001b[36mTSNE.fit\u001b[39m\u001b[34m(self, X, y)\u001b[39m\n\u001b[32m   1182\u001b[39m \u001b[38;5;129m@_fit_context\u001b[39m(\n\u001b[32m   1183\u001b[39m     \u001b[38;5;66;03m# TSNE.metric is not validated yet\u001b[39;00m\n\u001b[32m   1184\u001b[39m     prefer_skip_nested_validation=\u001b[38;5;28;01mFalse\u001b[39;00m\n\u001b[32m   1185\u001b[39m )\n\u001b[32m   1186\u001b[39m \u001b[38;5;28;01mdef\u001b[39;00m\u001b[38;5;250m \u001b[39m\u001b[34mfit\u001b[39m(\u001b[38;5;28mself\u001b[39m, X, y=\u001b[38;5;28;01mNone\u001b[39;00m):\n\u001b[32m   1187\u001b[39m \u001b[38;5;250m    \u001b[39m\u001b[33;03m\"\"\"Fit X into an embedded space.\u001b[39;00m\n\u001b[32m   1188\u001b[39m \n\u001b[32m   1189\u001b[39m \u001b[33;03m    Parameters\u001b[39;00m\n\u001b[32m   (...)\u001b[39m\u001b[32m   1205\u001b[39m \u001b[33;03m        Fitted estimator.\u001b[39;00m\n\u001b[32m   1206\u001b[39m \u001b[33;03m    \"\"\"\u001b[39;00m\n\u001b[32m-> \u001b[39m\u001b[32m1207\u001b[39m     \u001b[38;5;28;43mself\u001b[39;49m\u001b[43m.\u001b[49m\u001b[43mfit_transform\u001b[49m\u001b[43m(\u001b[49m\u001b[43mX\u001b[49m\u001b[43m)\u001b[49m\n\u001b[32m   1208\u001b[39m     \u001b[38;5;28;01mreturn\u001b[39;00m \u001b[38;5;28mself\u001b[39m\n",
      "\u001b[36mFile \u001b[39m\u001b[32m~/Desktop/DIS/Big Data Env/Assignments/Final_Project/.venv/lib/python3.12/site-packages/sklearn/utils/_set_output.py:319\u001b[39m, in \u001b[36m_wrap_method_output.<locals>.wrapped\u001b[39m\u001b[34m(self, X, *args, **kwargs)\u001b[39m\n\u001b[32m    317\u001b[39m \u001b[38;5;129m@wraps\u001b[39m(f)\n\u001b[32m    318\u001b[39m \u001b[38;5;28;01mdef\u001b[39;00m\u001b[38;5;250m \u001b[39m\u001b[34mwrapped\u001b[39m(\u001b[38;5;28mself\u001b[39m, X, *args, **kwargs):\n\u001b[32m--> \u001b[39m\u001b[32m319\u001b[39m     data_to_wrap = \u001b[43mf\u001b[49m\u001b[43m(\u001b[49m\u001b[38;5;28;43mself\u001b[39;49m\u001b[43m,\u001b[49m\u001b[43m \u001b[49m\u001b[43mX\u001b[49m\u001b[43m,\u001b[49m\u001b[43m \u001b[49m\u001b[43m*\u001b[49m\u001b[43margs\u001b[49m\u001b[43m,\u001b[49m\u001b[43m \u001b[49m\u001b[43m*\u001b[49m\u001b[43m*\u001b[49m\u001b[43mkwargs\u001b[49m\u001b[43m)\u001b[49m\n\u001b[32m    320\u001b[39m     \u001b[38;5;28;01mif\u001b[39;00m \u001b[38;5;28misinstance\u001b[39m(data_to_wrap, \u001b[38;5;28mtuple\u001b[39m):\n\u001b[32m    321\u001b[39m         \u001b[38;5;66;03m# only wrap the first output for cross decomposition\u001b[39;00m\n\u001b[32m    322\u001b[39m         return_tuple = (\n\u001b[32m    323\u001b[39m             _wrap_data_with_container(method, data_to_wrap[\u001b[32m0\u001b[39m], X, \u001b[38;5;28mself\u001b[39m),\n\u001b[32m    324\u001b[39m             *data_to_wrap[\u001b[32m1\u001b[39m:],\n\u001b[32m    325\u001b[39m         )\n",
      "\u001b[36mFile \u001b[39m\u001b[32m~/Desktop/DIS/Big Data Env/Assignments/Final_Project/.venv/lib/python3.12/site-packages/sklearn/base.py:1389\u001b[39m, in \u001b[36m_fit_context.<locals>.decorator.<locals>.wrapper\u001b[39m\u001b[34m(estimator, *args, **kwargs)\u001b[39m\n\u001b[32m   1382\u001b[39m     estimator._validate_params()\n\u001b[32m   1384\u001b[39m \u001b[38;5;28;01mwith\u001b[39;00m config_context(\n\u001b[32m   1385\u001b[39m     skip_parameter_validation=(\n\u001b[32m   1386\u001b[39m         prefer_skip_nested_validation \u001b[38;5;129;01mor\u001b[39;00m global_skip_validation\n\u001b[32m   1387\u001b[39m     )\n\u001b[32m   1388\u001b[39m ):\n\u001b[32m-> \u001b[39m\u001b[32m1389\u001b[39m     \u001b[38;5;28;01mreturn\u001b[39;00m \u001b[43mfit_method\u001b[49m\u001b[43m(\u001b[49m\u001b[43mestimator\u001b[49m\u001b[43m,\u001b[49m\u001b[43m \u001b[49m\u001b[43m*\u001b[49m\u001b[43margs\u001b[49m\u001b[43m,\u001b[49m\u001b[43m \u001b[49m\u001b[43m*\u001b[49m\u001b[43m*\u001b[49m\u001b[43mkwargs\u001b[49m\u001b[43m)\u001b[49m\n",
      "\u001b[36mFile \u001b[39m\u001b[32m~/Desktop/DIS/Big Data Env/Assignments/Final_Project/.venv/lib/python3.12/site-packages/sklearn/manifold/_t_sne.py:1178\u001b[39m, in \u001b[36mTSNE.fit_transform\u001b[39m\u001b[34m(self, X, y)\u001b[39m\n\u001b[32m   1175\u001b[39m     \u001b[38;5;28mself\u001b[39m._max_iter = \u001b[38;5;28mself\u001b[39m.max_iter\n\u001b[32m   1177\u001b[39m \u001b[38;5;28mself\u001b[39m._check_params_vs_input(X)\n\u001b[32m-> \u001b[39m\u001b[32m1178\u001b[39m embedding = \u001b[38;5;28;43mself\u001b[39;49m\u001b[43m.\u001b[49m\u001b[43m_fit\u001b[49m\u001b[43m(\u001b[49m\u001b[43mX\u001b[49m\u001b[43m)\u001b[49m\n\u001b[32m   1179\u001b[39m \u001b[38;5;28mself\u001b[39m.embedding_ = embedding\n\u001b[32m   1180\u001b[39m \u001b[38;5;28;01mreturn\u001b[39;00m \u001b[38;5;28mself\u001b[39m.embedding_\n",
      "\u001b[36mFile \u001b[39m\u001b[32m~/Desktop/DIS/Big Data Env/Assignments/Final_Project/.venv/lib/python3.12/site-packages/sklearn/manifold/_t_sne.py:1046\u001b[39m, in \u001b[36mTSNE._fit\u001b[39m\u001b[34m(self, X, skip_num_points)\u001b[39m\n\u001b[32m   1040\u001b[39m \u001b[38;5;66;03m# Degrees of freedom of the Student's t-distribution. The suggestion\u001b[39;00m\n\u001b[32m   1041\u001b[39m \u001b[38;5;66;03m# degrees_of_freedom = n_components - 1 comes from\u001b[39;00m\n\u001b[32m   1042\u001b[39m \u001b[38;5;66;03m# \"Learning a Parametric Embedding by Preserving Local Structure\"\u001b[39;00m\n\u001b[32m   1043\u001b[39m \u001b[38;5;66;03m# Laurens van der Maaten, 2009.\u001b[39;00m\n\u001b[32m   1044\u001b[39m degrees_of_freedom = \u001b[38;5;28mmax\u001b[39m(\u001b[38;5;28mself\u001b[39m.n_components - \u001b[32m1\u001b[39m, \u001b[32m1\u001b[39m)\n\u001b[32m-> \u001b[39m\u001b[32m1046\u001b[39m \u001b[38;5;28;01mreturn\u001b[39;00m \u001b[38;5;28;43mself\u001b[39;49m\u001b[43m.\u001b[49m\u001b[43m_tsne\u001b[49m\u001b[43m(\u001b[49m\n\u001b[32m   1047\u001b[39m \u001b[43m    \u001b[49m\u001b[43mP\u001b[49m\u001b[43m,\u001b[49m\n\u001b[32m   1048\u001b[39m \u001b[43m    \u001b[49m\u001b[43mdegrees_of_freedom\u001b[49m\u001b[43m,\u001b[49m\n\u001b[32m   1049\u001b[39m \u001b[43m    \u001b[49m\u001b[43mn_samples\u001b[49m\u001b[43m,\u001b[49m\n\u001b[32m   1050\u001b[39m \u001b[43m    \u001b[49m\u001b[43mX_embedded\u001b[49m\u001b[43m=\u001b[49m\u001b[43mX_embedded\u001b[49m\u001b[43m,\u001b[49m\n\u001b[32m   1051\u001b[39m \u001b[43m    \u001b[49m\u001b[43mneighbors\u001b[49m\u001b[43m=\u001b[49m\u001b[43mneighbors_nn\u001b[49m\u001b[43m,\u001b[49m\n\u001b[32m   1052\u001b[39m \u001b[43m    \u001b[49m\u001b[43mskip_num_points\u001b[49m\u001b[43m=\u001b[49m\u001b[43mskip_num_points\u001b[49m\u001b[43m,\u001b[49m\n\u001b[32m   1053\u001b[39m \u001b[43m\u001b[49m\u001b[43m)\u001b[49m\n",
      "\u001b[36mFile \u001b[39m\u001b[32m~/Desktop/DIS/Big Data Env/Assignments/Final_Project/.venv/lib/python3.12/site-packages/sklearn/manifold/_t_sne.py:1098\u001b[39m, in \u001b[36mTSNE._tsne\u001b[39m\u001b[34m(self, P, degrees_of_freedom, n_samples, X_embedded, neighbors, skip_num_points)\u001b[39m\n\u001b[32m   1095\u001b[39m \u001b[38;5;66;03m# Learning schedule (part 1): do 250 iteration with lower momentum but\u001b[39;00m\n\u001b[32m   1096\u001b[39m \u001b[38;5;66;03m# higher learning rate controlled via the early exaggeration parameter\u001b[39;00m\n\u001b[32m   1097\u001b[39m P *= \u001b[38;5;28mself\u001b[39m.early_exaggeration\n\u001b[32m-> \u001b[39m\u001b[32m1098\u001b[39m params, kl_divergence, it = \u001b[43m_gradient_descent\u001b[49m\u001b[43m(\u001b[49m\u001b[43mobj_func\u001b[49m\u001b[43m,\u001b[49m\u001b[43m \u001b[49m\u001b[43mparams\u001b[49m\u001b[43m,\u001b[49m\u001b[43m \u001b[49m\u001b[43m*\u001b[49m\u001b[43m*\u001b[49m\u001b[43mopt_args\u001b[49m\u001b[43m)\u001b[49m\n\u001b[32m   1099\u001b[39m \u001b[38;5;28;01mif\u001b[39;00m \u001b[38;5;28mself\u001b[39m.verbose:\n\u001b[32m   1100\u001b[39m     \u001b[38;5;28mprint\u001b[39m(\n\u001b[32m   1101\u001b[39m         \u001b[33m\"\u001b[39m\u001b[33m[t-SNE] KL divergence after \u001b[39m\u001b[38;5;132;01m%d\u001b[39;00m\u001b[33m iterations with early exaggeration: \u001b[39m\u001b[38;5;132;01m%f\u001b[39;00m\u001b[33m\"\u001b[39m\n\u001b[32m   1102\u001b[39m         % (it + \u001b[32m1\u001b[39m, kl_divergence)\n\u001b[32m   1103\u001b[39m     )\n",
      "\u001b[36mFile \u001b[39m\u001b[32m~/Desktop/DIS/Big Data Env/Assignments/Final_Project/.venv/lib/python3.12/site-packages/sklearn/manifold/_t_sne.py:401\u001b[39m, in \u001b[36m_gradient_descent\u001b[39m\u001b[34m(objective, p0, it, max_iter, n_iter_check, n_iter_without_progress, momentum, learning_rate, min_gain, min_grad_norm, verbose, args, kwargs)\u001b[39m\n\u001b[32m    398\u001b[39m \u001b[38;5;66;03m# only compute the error when needed\u001b[39;00m\n\u001b[32m    399\u001b[39m kwargs[\u001b[33m\"\u001b[39m\u001b[33mcompute_error\u001b[39m\u001b[33m\"\u001b[39m] = check_convergence \u001b[38;5;129;01mor\u001b[39;00m i == max_iter - \u001b[32m1\u001b[39m\n\u001b[32m--> \u001b[39m\u001b[32m401\u001b[39m error, grad = \u001b[43mobjective\u001b[49m\u001b[43m(\u001b[49m\u001b[43mp\u001b[49m\u001b[43m,\u001b[49m\u001b[43m \u001b[49m\u001b[43m*\u001b[49m\u001b[43margs\u001b[49m\u001b[43m,\u001b[49m\u001b[43m \u001b[49m\u001b[43m*\u001b[49m\u001b[43m*\u001b[49m\u001b[43mkwargs\u001b[49m\u001b[43m)\u001b[49m\n\u001b[32m    403\u001b[39m inc = update * grad < \u001b[32m0.0\u001b[39m\n\u001b[32m    404\u001b[39m dec = np.invert(inc)\n",
      "\u001b[36mFile \u001b[39m\u001b[32m~/Desktop/DIS/Big Data Env/Assignments/Final_Project/.venv/lib/python3.12/site-packages/sklearn/manifold/_t_sne.py:282\u001b[39m, in \u001b[36m_kl_divergence_bh\u001b[39m\u001b[34m(params, P, degrees_of_freedom, n_samples, n_components, angle, skip_num_points, verbose, compute_error, num_threads)\u001b[39m\n\u001b[32m    279\u001b[39m indptr = P.indptr.astype(np.int64, copy=\u001b[38;5;28;01mFalse\u001b[39;00m)\n\u001b[32m    281\u001b[39m grad = np.zeros(X_embedded.shape, dtype=np.float32)\n\u001b[32m--> \u001b[39m\u001b[32m282\u001b[39m error = \u001b[43m_barnes_hut_tsne\u001b[49m\u001b[43m.\u001b[49m\u001b[43mgradient\u001b[49m\u001b[43m(\u001b[49m\n\u001b[32m    283\u001b[39m \u001b[43m    \u001b[49m\u001b[43mval_P\u001b[49m\u001b[43m,\u001b[49m\n\u001b[32m    284\u001b[39m \u001b[43m    \u001b[49m\u001b[43mX_embedded\u001b[49m\u001b[43m,\u001b[49m\n\u001b[32m    285\u001b[39m \u001b[43m    \u001b[49m\u001b[43mneighbors\u001b[49m\u001b[43m,\u001b[49m\n\u001b[32m    286\u001b[39m \u001b[43m    \u001b[49m\u001b[43mindptr\u001b[49m\u001b[43m,\u001b[49m\n\u001b[32m    287\u001b[39m \u001b[43m    \u001b[49m\u001b[43mgrad\u001b[49m\u001b[43m,\u001b[49m\n\u001b[32m    288\u001b[39m \u001b[43m    \u001b[49m\u001b[43mangle\u001b[49m\u001b[43m,\u001b[49m\n\u001b[32m    289\u001b[39m \u001b[43m    \u001b[49m\u001b[43mn_components\u001b[49m\u001b[43m,\u001b[49m\n\u001b[32m    290\u001b[39m \u001b[43m    \u001b[49m\u001b[43mverbose\u001b[49m\u001b[43m,\u001b[49m\n\u001b[32m    291\u001b[39m \u001b[43m    \u001b[49m\u001b[43mdof\u001b[49m\u001b[43m=\u001b[49m\u001b[43mdegrees_of_freedom\u001b[49m\u001b[43m,\u001b[49m\n\u001b[32m    292\u001b[39m \u001b[43m    \u001b[49m\u001b[43mcompute_error\u001b[49m\u001b[43m=\u001b[49m\u001b[43mcompute_error\u001b[49m\u001b[43m,\u001b[49m\n\u001b[32m    293\u001b[39m \u001b[43m    \u001b[49m\u001b[43mnum_threads\u001b[49m\u001b[43m=\u001b[49m\u001b[43mnum_threads\u001b[49m\u001b[43m,\u001b[49m\n\u001b[32m    294\u001b[39m \u001b[43m\u001b[49m\u001b[43m)\u001b[49m\n\u001b[32m    295\u001b[39m c = \u001b[32m2.0\u001b[39m * (degrees_of_freedom + \u001b[32m1.0\u001b[39m) / degrees_of_freedom\n\u001b[32m    296\u001b[39m grad = grad.ravel()\n",
      "\u001b[31mKeyboardInterrupt\u001b[39m: "
     ]
    }
   ],
   "source": [
    "from sklearn.manifold import TSNE\n",
    "from sklearn.decomposition import PCA\n",
    "from sklearn.preprocessing import StandardScaler\n",
    "\n",
    "# drop the real column\n",
    "df_X = df.copy().drop(columns=['real'])\n",
    "df_y = df.copy()['real']\n",
    "\n",
    "# reassign (has no actual use)\n",
    "X = np.array(df_X)\n",
    "y=np.array(df_y)\n",
    "\n",
    "# scale the data\n",
    "scaler = StandardScaler()\n",
    "X = scaler.fit_transform(X)\n",
    "\n",
    "# apply the pca\n",
    "tsne = TSNE(n_components=2,random_state=42)\n",
    "\n",
    "tsne.fit(X)\n",
    "X_tsne = tsne.fit_transform(X)"
   ]
  },
  {
   "cell_type": "code",
   "execution_count": 20,
   "id": "20de1797",
   "metadata": {},
   "outputs": [
    {
     "ename": "NameError",
     "evalue": "name 'X_tsne' is not defined",
     "output_type": "error",
     "traceback": [
      "\u001b[31m---------------------------------------------------------------------------\u001b[39m",
      "\u001b[31mNameError\u001b[39m                                 Traceback (most recent call last)",
      "\u001b[36mCell\u001b[39m\u001b[36m \u001b[39m\u001b[32mIn[20]\u001b[39m\u001b[32m, line 2\u001b[39m\n\u001b[32m      1\u001b[39m \u001b[38;5;66;03m# wrangle the data\u001b[39;00m\n\u001b[32m----> \u001b[39m\u001b[32m2\u001b[39m X_tsne_df = pd.DataFrame(data=\u001b[43mX_tsne\u001b[49m, columns=[\u001b[33m'\u001b[39m\u001b[33mpc1\u001b[39m\u001b[33m'\u001b[39m, \u001b[33m'\u001b[39m\u001b[33mpc2\u001b[39m\u001b[33m'\u001b[39m])\n\u001b[32m      3\u001b[39m final_df = pd.concat([X_tsne_df, pd.DataFrame(y, columns=[\u001b[33m'\u001b[39m\u001b[33mreal\u001b[39m\u001b[33m'\u001b[39m])], axis=\u001b[32m1\u001b[39m)\n\u001b[32m      4\u001b[39m final_df = final_df.sample(frac=\u001b[32m1\u001b[39m).reset_index(drop=\u001b[38;5;28;01mTrue\u001b[39;00m)\n",
      "\u001b[31mNameError\u001b[39m: name 'X_tsne' is not defined"
     ]
    }
   ],
   "source": [
    "# wrangle the data\n",
    "X_tsne_df = pd.DataFrame(data=X_tsne, columns=['pc1', 'pc2'])\n",
    "final_df = pd.concat([X_tsne_df, pd.DataFrame(y, columns=['real'])], axis=1)\n",
    "final_df = final_df.sample(frac=1).reset_index(drop=True)\n",
    "\n",
    "# plot\n",
    "plt.scatter(final_df['pc1'],final_df['pc2'],c=final_df['real'],alpha=0.25)"
   ]
  },
  {
   "cell_type": "markdown",
   "id": "b972f14a",
   "metadata": {},
   "source": [
    "### Worst articles\n",
    "\n",
    "when you look at some of these they make no sense, and just are really long sentences, or articles that make no sense. These are also all fake news. This implies that there is bad fake data."
   ]
  },
  {
   "cell_type": "code",
   "execution_count": 21,
   "id": "c69abb27",
   "metadata": {},
   "outputs": [
    {
     "data": {
      "text/plain": [
       "18429    32.7\n",
       "16042    32.7\n",
       "10531    32.7\n",
       "18117    29.5\n",
       "10119    29.5\n",
       "2639     29.0\n",
       "17422    25.5\n",
       "21862    25.5\n",
       "15828    25.5\n",
       "35196    24.6\n",
       "35292    24.6\n",
       "30758    23.8\n",
       "39138    23.7\n",
       "29448    23.7\n",
       "30778    23.2\n",
       "30729    22.8\n",
       "40793    22.6\n",
       "18135    22.5\n",
       "10145    22.5\n",
       "19775    22.1\n",
       "12686    22.1\n",
       "21055    21.7\n",
       "16794    21.7\n",
       "14566    21.7\n",
       "9003     21.6\n",
       "Name: smog, dtype: float64"
      ]
     },
     "execution_count": 21,
     "metadata": {},
     "output_type": "execute_result"
    }
   ],
   "source": [
    "df['smog'].sort_values(ascending=False).head(25)"
   ]
  },
  {
   "cell_type": "code",
   "execution_count": 22,
   "id": "b1e77bcf",
   "metadata": {},
   "outputs": [
    {
     "data": {
      "text/plain": [
       "(np.int64(0),\n",
       " 'Tennessee lawmakers have something to say to their counterparts in California and it s perfect! We could love this more Tennessee hits back at the loony state that banned all state travel to places that they think don t have the right policy in place. The response is epic: Whereas, California has passed legislation banning state sponsored travel to Tennessee and certain other states; andWhereas, the ban stems from legislation enacted by Tennessee that allows counselors to refer patients to other counselors who can better meet their goals, which the California State Legislature has judged to be morally reprehensible; andWhereas, California s attempt to influence public policy in our state is akin to Tennessee expressing its disapproval of California s exorbitant taxes, spiraling budget deficits, runaway social welfare programs, and rampant illegal immigration; andWhereas, Tennessee is pleasantly surprised that California will not be sending its economic development teams to Tennessee to recruit our businesses, but we can still send our teams to recruit their businesses; andWhereas, Tennessee is puzzled why California thinks it is a good idea to prohibit its state colleges and universities from participating in athletic competition in Tennessee (March Madness comes to Memphis this year via the South Regional), Kansas, Mississippi, and North Carolina; andWhereas, this type of ban, the result of legitimate disagreements about government policy, is neither persuasive nor productive for either party and will lead to economic warfare among states, as one sovereign entity attempts to tell an equally sovereign entity how to conduct its affairs by restricting travel thereto; andWhereas, the United States Constitution provides for a strong federal government for the common defense, but the Tenth Amendment grants the several states sovereignty in addressing issues solely within their jurisdiction, and all states should respect this most basic precept of American government; andWhereas, if states such as California persist in banning travel to Tennessee as a punitive action for this body conducting its constitutionally mandated duties as its members see fit, our state leaders should consider strong reciprocal action in banning state sponsored travel to those misguided states; now, therefore,BE IT RESOLVED BY THE SENATE OF THE ONE HUNDRED TENTH GENERAL ASSEMBLY OF THE STATE OF TENNESSEE, THE HOUSE OF REPRESENTATIVES CONCURRING, that we urge and encourage the Governor, the Speaker of the Senate, and the Speaker of the House of Representatives to ban state -sponsored and state funded travel within their respective jurisdictions to any state of the Union that has banned state   sponsored travel to Tennessee in a selective way, so that the other states feel the pain and not TennesseeBE IT FURTHER RESOLVED, that we urge the other forty-eight states to refrain from imposing their unfounded moral judgment on their sister states as California has done in order to prevent escalating foolishness.Oh boy! Isn t that great!')"
      ]
     },
     "execution_count": 22,
     "metadata": {},
     "output_type": "execute_result"
    }
   ],
   "source": [
    "df_save[df_save.index == 18429].iloc[0]['real'],df_save[df_save.index == 18429].iloc[0]['text']"
   ]
  },
  {
   "cell_type": "code",
   "execution_count": 23,
   "id": "9cb93972",
   "metadata": {},
   "outputs": [
    {
     "data": {
      "text/plain": [
       "(np.int64(0),\n",
       " 'An unidentified black Trump supporter blasted the Cudahy City, CA Council members over her objections to  racist  sanctuary cities. Her argument was based on her belief that sanctuary cities offer certain protections and benefits that are not even being offered to legal American citizens.Watch her amazing take down of the bleeding hearts who put lawbreaking foreign citizens before taxpaying and unemployed American citizens: Cities and CountiesCaliforniaAlameda County Berkley Contra Costa County Los Angeles County Los Angeles Monterey County Napa County Orange County Orange County Riverside County Sacramento County San Bernardino County San Diego County San Francisco County San Mateo County Santa Ana Santa Clara County Santa Cruz County Sonoma CountyColoradoArapahoe County Aurora Boulder County Denver County Garfield County Grand County Jefferson County Larimer County Mesa County Pitkin County Pueblo County Routt County San Miguel County Weld CountyConnecticutEast Haven HartfordDistrict Of ColumbiaWashingtonFloridaAlachua County Clay County Hernando CountyGeorgiaClayton County DeKalb CountyIowaBenton County Cass County Franklin County Fremont County Greene County Ida County Iowa City Iowa City, Johnson County Jefferson County Marion County Monona County Montgomery County Pottawattamie County Sioux CountyIllinoisChicago Cook CountyKansasButler County Harvey County Sedgwick County Shawnee County Story CountyLouisianaNew OrleansMassachusettsAmherst Boston Cambridge Lawrence Northhampton SomervilleMarylandBaltimore Montgomery County Prince George s CountyMinnesotaHennepin CountyNebraskaHall County Sarpy CountyNew JerseyMiddlesex County Newark Ocean County Union CountyNew MexicoBenalillo New Mexico County Jails San MiguelNevadaClark County Washoe CountyNew YorkFranklin County Ithaca Nassau County New York City Omondaga County St. Lawrence County Wayne CountyOregonBaker County Clackamas County Clatsop County Coos County Crook County Curry County Deschutes County Douglas County Gilliam County Grant County Hood River County Jackson County Jefferson County Josephine County Lane Countyn Lincoln County Linn County Malheur County Marion County Marlon County Multnomah County Polk County Sherman County Springfield Tillamok County Umatilla County Union County Wallowa County Wasco County Washington County Wheeler County Yamhill CountyPennsylvaniaBradford County Bucks County Butler County Chester County Clarion County Delaware County Eerie County Franklin County Lebanon County Lehigh County Lycoming County Montgomery County Montour County Perry County Philadelphia Pike County Westmoreland CountyRhode IslandProvidence, Rhode Island Rhode Island Department of CorrectionsTexasDallas County Travis CountyVirginiaArlington County Chesterfield CountyVermontMonteplier WinooskiWashingtonChelan County Clallam County Clark County Cowlitz County Franklin County Jefferson County King County Kitsap County Pierce County San Juan County Skagit County Snohomish County Spokane County Thurston County Walla Walla County Wallowa County Whatcom County Yakima CountyWisconsinMilwaukee')"
      ]
     },
     "execution_count": 23,
     "metadata": {},
     "output_type": "execute_result"
    }
   ],
   "source": [
    "df_save[df_save.index == 10119].iloc[0]['real'],df_save[df_save.index == 10119].iloc[0]['text']"
   ]
  },
  {
   "cell_type": "code",
   "execution_count": 24,
   "id": "5f687601",
   "metadata": {},
   "outputs": [
    {
     "data": {
      "text/plain": [
       "(np.int64(0),\n",
       " 'In another of Donald Trump s whine rests, the Dictator in Chief accused the media of not reporting terrorist attacks. On Tuesday, Trump released the list of  unreported terrorist attacks,  which not surprisingly, have been extensively covered by the media. Yes, it s sad that lies from the White House are no longer surprising. What is surprising, though, is how the list was written. It was either done in a sleep deprived flurry from Trump or some drunken monkeys got ahold of a computer.You have to give the White House credit. For complete BS, the list is rather extensive. Here it is; see if you can find what s wrong.TIMELINE: September, 2014   December, 2016 NUMBER OF ATTACKS: 78MELBOURNE, AUSTRALIA September, 2014 TARGET: Two police officers wounded in knife attack ATTACKER: Abdul Numan HaiderTIZI OUZOU, ALGERIA September, 2014 TARGET: One French citizen beheaded ATTACKER: Jund al-Khilafah in AlgeriaQUEBEC, CANADA October, 2014 TARGET: One soldier killed and one wounded in vehicle attack ATTACKER: Martin Couture-RouleauOTTAWA, CANADA October, 2014 TARGET: One soldier killed at war memorial; two wounded in shootings at Parliament building ATTACKER: Michael Zehaf-BibeauNEW YORK CITY, NY, USA October, 2014 TARGET: Two police officers wounded in knife attack ATTACKER: US personRIYADH, SAUDI ARABIA November, 2014 TARGET: One Danish citizen wounded in shooting ATTACKERS: Three Saudi Arabia-based ISIL membersABU DHABI, UAE DATE: December 2014 TARGET: One American killed in knife attack ATTACKER: Dalal al-HashimiSYDNEY, AUSTRALIA December, 2014 TARGET: Two Australians killed in hostage taking and shooting ATTACKER: Man Haron MonisTOURS, FRANCE December, 2014 TARGET: Three police officers wounded in knife attack ATTACKER: Bertrand NzohabonayoPARIS, FRANCE January, 2015 TARGET: One police officer and four hostages killed in shooting at a kosher supermarket ATTACKER: Amedy CoulibalyTRIPOLI, LIBYA January, 2015 TARGET: Ten killed, including one US citizen, and five wounded in bombing and shooting at a hotel frequented by westerners ATTACKERS: As many as five ISIL-Libya membersRIYADH, SAUDI ARABIA January, 2015 TARGET: Two US citizens wounded in shooting ATTACKER: Saudi Arabia-based ISIL supporterNICE, FRANCE February, 2015 TARGET: Two French soldiers wounded in knife attack outside a Jewish community center ATTACKER: Moussa CoulibalyCOPENHAGEN, DENMARK February, 2015 TARGET: One civilian killed in shooting at a free-speech rally and one security guard killed outside the city s main synagogue ATTACKER: Omar Abdel Hamid el-HusseinTUNIS, TUNISIA March, 2015 TARGET: 21 tourists killed, including 16 westerners, and 55 wounded in shooting at the Bardo Museum ATTACKERS: Two ISIL-aligned extremistsKARACHI, PAKISTAN April, 2015 TARGET: One US citizen wounded in knife attack ATTACKERS: Pakistan-based ISIL supportersPARIS, FRANCE April, 2015 TARGET: Catholic churches targeted; one civilian killed in shooting, possibly during an attempted carjacking ATTACKER: Sid Ahmed GhlamZVORNIK, BOSNIA April, 2015 TARGET: One police officer killed and two wounded in shooting ATTACKER: Nerdin IbricGARLAND, TX, USA May, 2015 TARGET: One security guard wounded in shooting at the Prophet Muhammad cartoon event ATTACKERS: Two US personsBOSTON, MA, USA June, 2015 TARGET: No casualties; one police officer attacked with knife ATTACKER: US personEL GORA (AL JURAH), EGYPT June, 2015 TARGET: No casualties; camp used by Multinational Force and Observers (MFO) troops attacked in shooting and bombing attack ATTACKERS: Unknown number of ISIL-Sinai membersLUXOR, EGYPT June, 2015 TARGET: One police officer killed by suicide bomb near the Temple of Karnak ATTACKER: UnidentifiedSOUSSE, TUNISIA June, 2015 TARGET: 38 killed and 39 wounded in shooting at a beach frequented by westerners ATTACKERS: Seifeddine Rezgui and another unidentified attackerLYON, FRANCE June, 2015 TARGET: One civilian killed in beheading and explosion at a chemical plant ATTACKER: Yasin SalhiCAIRO, EGYPT July, 2015 TARGET: One killed and nine wounded in VBIED attack at Italian Consulate ATTACKER: Unidentified ISIL operativesCAIRO, EGYPT July, 2015 TARGET: One Croatian national kidnapped; beheaded on August 12 at an unknown location ATTACKER: Unidentified ISIL-Sinai operativePARIS, FRANCE August, 2015 TARGET: Two civilians and one US soldier wounded with firearms and knife on a passenger train ATTACKER: Ayoub el-KhazzaniEL GORA, EGYPT September, 2015 TARGET: Four US and two MFO troops wounded in IED attack ATTACKER: UnidentifiedDHAKA, BANGLADESH September, 2015 TARGET: One Italian civilian killed in shooting ATTACKER: UnidentifiedCOPENHAGEN, DENMARK September, 2015 TARGET: One police officer wounded in knife attack ATTAKER: Palestinian nationalEL GORA, EGYPT October, 2015 TARGET: No casualties; airfield used by MFO attacked with rockets ATTAKER: Unidentified ISIL-Sinai operativesPARRAMATTA, AUSTRALIA October, 2015 TARGET: One police officer killed in shooting ATTAKER: Farhad JabarRANGPUR, BANGLADESH October, 2015 TARGET: One Japanese civilian killed in shooting ATTAKER: UnidentifiedHASANAH, EGYPT October, 2015 TARGET: 224 killed in downing of a Russian airliner ATTAKER: Unidentified ISIL-Sinai operativesMERCED, CA, US November, 2015 TARGET: Four wounded in knife attack on a college campus ATTAKER: US personPARIS, FRANCE November, 2015 TARGET: At least 129 killed and approximately 400 wounded in series of shootings and IED attacks ATTAKERS: Brahim Abdelslam, Saleh Abdeslam, Ismail Mostefai, Bilal Hadfi, Samy Amimour, Chakib Ahrouh, Foued Mohamed Aggad, and Abdelhamid AbaaoudDINAJPUR, BANGLADESH November, 2015 TARGET: One Italian citizen wounded in shooting ATTAKER: UnidentifiedRAJLOVAC, BOSNIA December, 2015 TARGET: Two Bosnian soldiers killed in shooting ATTAKER: Enes OmeragicSAN BERNADINO, CA, US December, 2015 TARGET: 14 killed and 21 wounded in coordinated firearms attack ATTAKERS: Two US personsLONDON, ENGLAND, UK December, 2015 TARGET: Three wounded in knife attack at an underground rail station ATTAKER: Muhyadin MireDERBENT, RUSSIA December, 2015 TARGET: One killed and 11 wounded in shooting at UN World Heritage site ATTAKER: Unidentified ISIL-Caucasus operativeCAIRO, EGYPT January, 2016 TARGET: Two wounded in drive-by shooting outside a hotel frequented by tourists ATTAKERS: Unidentified ISIL operativesPARIS, FRANCE January, 2016 TARGET: No casualties; attacker killed after attempted knife attack on Paris police station ATTAKER: Tarek BelgacemPHILADELPHIA, PENNSYLVANIA January, 2016 TARGET: One police officer wounded in shooting ATTAKER: US personHURGHADA, EGYPT January, 2016 TARGET: One German and one Danish national wounded in knife attack at a tourist resort ATTAKER: UnidentifiedMARSEILLES, FRANCE January, 2016 TARGET: One Jewish teacher wounded in machete attack ATTAKER: 15 year-old Ethnic Kurd from TurkeyISTANBUL, TURKEY January, 2016 TARGET: 12 German tourists killed and 15 wounded in suicide bombing ATTAKER: Nabil FadliJAKARTA, INDONESIA January, 2016 TARGET: Four civilians killed and more than 20 wounded in coordinated bombing and firearms attacks near a police station and a Starbucks ATTAKERS: Dian Joni Kurnaiadi, Muhammad Ali, Arif Sunakim, and Ahmad Muhazan bin SaronCOLUMBUS, OH, US February, 2016 TARGET: Four civilians wounded in machete attack at a restaurant ATTAKER: US personHANOVER, GERMANY February, 2016 TARGET: One police officer wounded in knife attack ATTAKER: Safia SchmitterISTANBUL, TURKEY March, 2016 TARGET: Four killed and 36 wounded in suicide bombing in the tourist district ATTAKER: Mehmet OzturkBRUSSELS, BELGIUM March, 2016 TARGET: At least 31 killed and 270 wounded in coordinated bombings at Zaventem Airport and on a subway train ATTAKERS: Khalid el-Bakraoui, Ibrahim el-Bakraoui, Najim Laachraoui, Mohammed Abrini, and Osama KrayemESSEN, GERMANY April, 2016 TARGET: Three wounded in bombing at Sikh temple ATTAKERS: Three identified minorsORLANDO, FL, US June, 2016 TARGET: 49 killed and 53 wounded in shooting at a nightclub ATTAKER: US personMAGNANVILLE, FRANCE June, 2016 TARGET: One police officer and one civilian killed in knife attack ATTAKER: Larossi AbballaKABUL, AFGHANISTAN June, 2016 TARGET: 14 killed in suicide attack on a bus carrying Canadian Embassy guards ATTAKER: ISIL-Khorasan operativeISTANBUL, TURKEY June, 2016 TARGET: 45 killed and approximately 240 wounded at Ataturk International Airport ATTACKERS: Rakhim Bulgarov, Vadim Osmanov, and an unidentified ISIL operativeDHAKA, BANGLADESH July, 2016 TARGET: 22 killed, including one American and 50 wounded after hours-long siege using machetes and firearms at holy Artisan Bakery ATTACKERS: Nibras Islam, Rohan Imtiaz, Meer Saameh Mubasheer, Khairul Islam Paye, and Shafiqul Islam UzzalNICE, FRANCE July, 2016 TARGET: 84 civilians killed and 308 wounded by an individual who drove a truck into a crowd ATTACKER: Mohamed BouhlelWURZBURG, GERMANY July, 2016 TARGET: Four civilians wounded in axe attack on a train ATTACKER: Riaz Khan AhmadzaiANSBACH, GERMANY July, 2016 TARGET: At least 15 wounded in suicide bombing at a music festival ATTACKER: Mohammad DaleelNORMANDY, FRANCE July, 2016 TARGET: One priest killed in knife attack ATTACKERS: Adel Kermiche and Abdel Malik Nabil PetitjeanCHALEROI, BELGIUM August, 2016 TARGET: Two police officers wounded in machete attack ATTACKER: Khaled BabouriQUEENSLAND, AUSTRALIA August, 2016 TARGET: Two killed and one wounded in knife attack at a hostel frequented by Westerners ATTACKER: Smail AyadCOPENHAGEN, DENMAKR September, 2016 TARGET: Two police officers and a civilian wounded in shooting ATTACKER: Mesa HodzicPARIS, FRANCE September, 2016 TARGET: One police officer wounded in raid after VBIED failed to detonate at Notre Dame Cathedral ATTACKERS: Sarah Hervouet, Ines Madani, and Amel SakaouSYDNEY, AUSTRALIA September, 2016 TARGET: One civilian wounded in knife attack ATTACKER: Ihsas KhanST. CLOUD, MN, US September, 2016 TARGET: 10 wounded in knife attack in a mall ATTACKER: Dahir Ahmed AdanNEW YORK, NY; SEASIDE PARK AND ELIZABETH, NJ, US September, 2016 TARGET: 31 wounded in bombing in New York City; several explosive devices found in New York and New Jersey; one exploded without casualty at race in New Jersey; one police officer wounded in shootout ATTACKER: Ahmad Khan RahamiBRUSSELS, BELGIUM October, 2016 TARGET: Two police officers wounded in stabbing ATTACKER: Belgian nationalKUWAIT CITY, KUWAIT TARGET: No casualties; vehicle carrying three US soldiers hit by a truck ATTACKER: Ibrahim SulaymanMALMO, SWEDEN October, 2016 TARGET: No casualties; mosque and community center attacked with Molotov cocktail ATTACKER: Syrian nationalHAMBURG, GERMANY October, 2016 TARGET: One killed in knife attack ATTACKER: UnknownMANILA, PHILIPPINES November, 2016 TARGET: No casualties; failed IED attempt near US Embassy ATTACKERS: Philippine nationals aligned with the Maute groupCOLUMBUS, OH, US November, 2016 TARGET: 14 wounded by individuals who drove a vehicle into a group of pedestrians and attacked them with a knife ATTACKER: US personN DJAMENA, CHAD November, 2016 TARGET: No casualties; attacker arrested after opening fire at entrance of US Embassy ATTACKER: Chadian nationalKARAK, JORDAN December, 2016 TARGET: 10 killed and 28 wounded in shooting at a tourist site ATTACKERS: Several gunmenBERLIN, GERMANY December, 2016 TARGET: 12 killed and 48 wounded by individual who drove truck into a crowded market ATTACKER: Anis AmriFor starts, the word  attaker  was misspelled 27 times. Denmark was spelled  Denmarkr  and San Bernardino was  San Bernadino. Twitter has been brutal:White House list of allegedly undercovered Islamist terror attacks repeatedly misspells  attacker.  pic.twitter.com/Im2MPWJr7j  Matthew Yglesias (@mattyglesias) February 7, 2017WH list of unreported terror attacks filled with spelling errors. Q:Ms. DeVos   can you teach WH staff about  spell check ? A:Spell check?  Steven A Drizin (@SDrizin) February 7, 2017This keeps getting funnier. I m sure the WH response will be  alternative spelling . https://t.co/O5FJPtmQLJ #resist #notmypresident  Karen Miraz (@KMMiraz) February 7, 2017Spelling matters when you re a so-called President. https://t.co/wjMoOUOivr #huffpo #SoCalledPresident #arsonist #spelling  Kiki (@kikibeach) February 7, 2017 Alternative spelling  https://t.co/ycbywMYLq6  new year new meme (@B_Julian93) February 7, 2017While ultimately, spelling, even spelling that s this atrocious, doesn t really matter, it does show something very dangerous about the Trump White House. Attention to detail is important when crafting laws or executive orders or when speaking with foreign leaders. We get that the supposed billionaire who sits on 14 carat gold toilets ran as an every man, and let s face it, Americans are notoriously illiterate, but if Trump has this same inattention to detail in his businesses, it s no wonder he s gone bankrupt four times. As for our country, the world is both laughing and weeping   the latter because Trump has the keys to the nuclear arsenal.Read more:Featured image via Pool/Getty Images')"
      ]
     },
     "execution_count": 24,
     "metadata": {},
     "output_type": "execute_result"
    }
   ],
   "source": [
    "df_save[df_save.index == 2639].iloc[0]['real'],df_save[df_save.index == 2639].iloc[0]['text']"
   ]
  },
  {
   "cell_type": "code",
   "execution_count": 25,
   "id": "4469782a",
   "metadata": {},
   "outputs": [
    {
     "data": {
      "text/plain": [
       "(np.int64(0),\n",
       " 'Wow! What a list of accomplishments! The problem is that these accomplishments are rotten to the core. Just read a few and you ll get a taste of the corruption and Chicago style politics transplanted to D.C. via Obama. Not pretty!Law and Justice  First President to Violate the War Powers Act (Unilaterally Executing American Military Operations in Libya Without Informing Congress In the Required Time Period   Source: Huffington Post)  First President to Triple the Number of Warrantless Wiretaps of U.S. Citizens (Source: ACLU)   First President to Sign into Law a Bill That Permits the Government to  Hold Anyone Suspected of Being Associated With Terrorism Indefinitely, Without Any Form of Due Process. No Indictment. No Judge or Jury. No Evidence. No Trial. Just an Indefinite Jail Sentence  (NDAA Bill   Source: Business Insider)   First President to Refuse to Tell the Public What He Did For Eight (8) Hours After Being Informed That a U.S. Ambassador Was Facing Imminent Death During a Terror Attack (Source: Mediate)   First President to Lie About the Reason For an Ambassador s Death, Blaming it on an Internet Video Rather Than What He Knew to be the Case: the Al Qaeda-linked Terror Group Ansar al-Sharia (Source: House Oversight Committee, et. al.)   First President to Have an Innocent Filmmaker Thrown in Jail After Lying About the Cause for a Deadly Attack on U.S. Diplomats, Using the Filmmaker as a Scapegoat (Source: CNN)   First President to Use the IRS to  Unfairly Target Political Enemies  as Well as pro-Catholic and pro-Jewish Groups (Source: Sen. Ted Cruz)   First President to Unlawfully Seize Telephone Records of More than 100 Reporters to Intimidate and/or Bully Them (Source: Associated Press)   First President to Witness a Single Cabinet Secretary Commit Multiple Hatch Act Violations Without Acting, Speaking Out, Disciplining or Firing That Person (Source: New York Times)   First President to Systematically Release Detained Illegal Aliens Charged With Homicide Into the U.S. Population (Source: USA Today)   First President to Release 40,000 Illegal Aliens with Serious and/or Violent Criminal Records Inside the U.S. (Source: Judicial Watch)   First President to Create Secret Police Units Inside Government Agencies to Block Lawful Investigations by Inspectors General (Source: Associated Press)   First President to Personally Lobby Senators to Violate Senate Rules and Destroy the Filibuster Through  The Nuclear Option  to Consolidate More Executive Power (Source: Wall Street Journal)   First President to create his own propaganda news network and  bypass journalists   [having] developed [his] own network of websites, social media and even created an online newscast to dispense favorable information and images  (Source: Associated Press)   First President to Barricade Open-Air Government Monuments During a Partial Government Shutdown (Source: Rep. Steve Stockman)   First President to Have His Attorney General Held in Criminal Contempt of Congress For His Efforts to Cover Up Operation Fast and Furious, That Killed Over 300 Individuals (Source: Politico)   First President to claim Executive Privilege to shield a sitting Attorney General from a Contempt of Congress finding for perjury and withholding evidence from lawful subpoenas (Source: Business Insider)   First President to Issue Unlawful  Recess-Appointments  Over a Long Weekend   While the U.S. Senate Remained in Session (against the advice of his own Justice Department   Source: United States Court of Appeals)   First President to Fire an Inspector General of Americorps for Catching One of His Friends in a Corruption Case (Source: Gawker)   First President to  Order a Secret Amnesty Program that Stopped the Deportations of Illegal Immigrants Across the U.S., Including Those With Criminal Convictions  (Source: DHS documents uncovered by Judicial Watch)   First President to Sue States for Enforcing Voter ID Requirements, Which Were Previously Ruled Legal by the U.S. Supreme Court (Source: CNN)   First President to Encourage Racial Discrimination and Intimidation at Polling Places (the New Black Panthers voter intimidation case, Source: Investors Business Daily)   First President to Refuse to Comply With a House Oversight Committee Subpoena (Source: Heritage Foundation)   First President to Arbitrarily Declare an Existing Law Unconstitutional and Refuse to Enforce It (Defense of Marriage Act   Source: ABC News)   First President to Increase Surveillance of American Citizen Under the Patriot Act by 1,000 Percent in Four Years (Source: NBC News)   First president to appoint a convicted cop killer s advocate to the Department of Justice (Source: Investor s Business Daily)   First Administration to Be Ruled by a Federal Judge as Aiding and Abetting Human Trafficking (Source: Federal District Court Judge Andrew S. Hanen)   First President to Demand a Company Hand Over $20 Billion to One of His Political Appointees (BP Oil Spill Relief Fund   Source: Fox News)   First President to Have a Law Signed By an  Auto-pen  Without Being  Present  (Source: The New York Times) Scandals   First President to publicly announce an enemies list (consisting of his opponents campaign contributors; and to use the instrumentalities of government to punish those on the list   Source: Heritage Foundation)   First President to Attempt to Block Legally-Required 60-Day Layoff Notices by Government Contractors Due to His Own Cuts to Defense Spending   Because The Notices Would Occur Before the Election. (Source: National Journal)   First President to Intentionally Disable Credit Card Security Measures (in order to allow over-the-limit donations, foreign contributions and other illegal fundraising measures   Source: Power Line)   First President to send 80 percent of a $16 billion program (green energy) to his campaign bundlers and contributors, leaving only 20% to those who did not contribute. (Source: Washington Examiner)   First President to Propose an Executive Order Demanding Companies Disclose Their Political Contributions to Bid on Government Contracts (Source: Wall Street Journal)   First President to issue an Executive Order implementing a  Racial Justice System , a system that tries to achieve  racially equivalent outcomes  for crimes (Source: Daily Caller)   First President to Leak Confidential IRS Tax Records to Groups Aligned Politically With Him for Partisan Advantage (Source: The Hill Newspaper)   First President to Use the EPA to Punish Political Enemies and Reward Political Allies (Source: Competitive Enterprise Institute)   First President to Send Millions in Taxpayer Dollars to His Wife s Former Employer (Source: White House Dossier)   First President to Openly Use the Department of Justice to Intimidate Political Opponents and Threaten Companies to Donate to His Campaign (Source: Peter Schweizer, Extortion)   First President to Direct His Census Dept. to Make Up Favorable Employment Data In Run-Up to His Reelection Campaign (Source: New York Post)   First President to Have His Administration Fund an Organization Tied to the Cop-Killing Terrorist Group, the Weather Underground (Source: National Review)   First President to have the EPA conduct hazardous experiments on the ill, infirm and elederly to push a radical environmental agenda, in a manner not dissimilar to the Third Reich s inhuman medical experiments (Source: The EPA Office of the Inspector General).   First President to be Accused by His Own Party of Ordering the CIA to Spy on Congress (Source: Washington Post)  First President to allow deadly Ebola disease-ridden patients to enter the U.S., refusing to restrict travel from infected countries like other Western allies (Source: New York Daily News)   First president to order his EPA to unilaterally overturn a Federal Statute (changing the borders of Wyoming established by an act of Congress, Source: Casper Star-Tribune).   First president to systematically delay enacting a wide variety of controversial rules until after a presidential election (Source: Washington Post)   First president to have Politifact designate one of his statements  Lie of the Year  (Source: Politifact)Economy   First President to Preside Over a Cut to the Credit Rating of the United States Government (Source: Reuters)   First President to Bypass Congress and Implement the DREAM Act Through Executive Fiat (Source: Christian Science Monitor)   First President to Move America Past the Dependency Tipping Point, In Which 51% of Households Now Pay No Income Taxes (Source: Center for Individual Freedom)   First President to Increase Food Stamp Spending By More Than 100% in Less Than Four Years (Source: Sen. Jeff Sessions)   First President to Spend a Trillion Dollars on  Shovel-Ready  Jobs   and Later Admit There Was No Such Thing as Shovel-Ready Jobs (Source: President Obama during an early meeting of his  Jobs Council )   First President to Threaten Insurance Companies After They Publicly Spoke out on How Obamacare Helped Cause their Rate Increases (Source: The Hill)   First President to Abrogate Bankruptcy Law to Turn Over Control of Companies to His Union Supporters (Source: Wall Street Journal)   First President to Propose Budgets So Unreasonable That Not a Single Representative From Either Party Would Cast a Vote in Favor (Sources: The Hill, Open Market)   First President Whose Economic Policies Have the Number of Americans on Disability Exceed the Population of New York (Source: CNS News)   First President to Sign a Law Requiring All Americans to Purchase a Product From a Third Party (Source: Wall Street Journal)   First President to Sue States For Enforcing Immigration Laws Passed by Congress (Source: The Arizona Republic newspaper)   First President to See America Lose Its Status as the World s Largest Economy (Source: Peterson Institute)   First President to redistribute $26.5 billion of the taxpayers  funds to his union supporters in the UAW (Source: Heritage Foundation)   First President to Threaten an Auto Company (Ford) After It Publicly Mocked Bailouts of GM and Chrysler (Source: Detroit News)   First President to Run a Record 5 Straight Years of Deficits for the Disability Trust Fund (Source: CNS News)   First President to Attempt to Bully a Major Manufacturing Company Into Not Opening a Factory in a Right-to-Work State (Boeing s facility in South Carolina   Source: Wall Street Journal)   First President Since 1872 to See the U.S. Economy Sink From 1st to 2nd Largest in the World (Source: Financial Times).   First President to Conceal Food Stamp Data From Public Scrutiny (Source: Judicial Watch:  8th Circuit Says USDA Can t Keep Hiding Food Stamp Data )   First President to Leave the American Middle Class No Longer the World s Richest (Source: The New York Times)   First President to Retaliate Against a Rating Agency for Downgrading the United States Debt (Source: Investor s Business Daily)   First President to Expand the Regulatory State to an Unprecedented Degree ( New record: Feds issued 56 regs for every new law, 3,659 in 2013 , Source: Washington Examiner)Energy Policy   First President to Endanger the Stability of the Electric Grid by Shutting Down Hundreds of Coal-Fired Plants Without Adequate Replacement Technologies (Source: National Electric Reliability Corporation   PDF)   First President to Have His EPA Repudiated by a Federal Judge for  Overstepping Its Powers  When They Attempted to Shut Down Coal Operations in Appalachia (Source: Huffington Post)   First President to be Held in Contempt of Court for Illegally Obstructing Oil Drilling in the Gulf of Mexico (Source: Politico) National Security and World Affairs   First President to Lie Repeatedly to the American People About the Murder of a U.S. Ambassador and Three Other Diplomatic Personnel for Purely Political Reasons, Rewriting a  Talking Points  Memo No Fewer Than a Dozen Times to Avoid Referencing a Pre-Planned Terror Attack (Source: ABC News)   First President to Openly Defy a Congressional Order Not To Share Sensitive Nuclear Defense Secrets With the Russian Government (Sources: ABC News, Rep. Michael Turner)   First President to Leak Highly Classified Military and Intelligence Secrets to Hollywood In Order to Promote a Movie That Could Help His Reelection Campaign (Source: Judicial Watch)Read more: kenn niemann')"
      ]
     },
     "execution_count": 25,
     "metadata": {},
     "output_type": "execute_result"
    }
   ],
   "source": [
    "df_save[df_save.index == 17422].iloc[0]['real'],df_save[df_save.index == 17422].iloc[0]['text']"
   ]
  },
  {
   "cell_type": "code",
   "execution_count": 26,
   "id": "ed68c00d",
   "metadata": {},
   "outputs": [
    {
     "data": {
      "text/plain": [
       "(np.int64(0), 'UPDATE VIDEO: Language alert:')"
      ]
     },
     "execution_count": 26,
     "metadata": {},
     "output_type": "execute_result"
    }
   ],
   "source": [
    "df_save[df_save.index == 11715].iloc[0]['real'],df_save[df_save.index == 11715].iloc[0]['text']"
   ]
  },
  {
   "cell_type": "markdown",
   "id": "13600039",
   "metadata": {},
   "source": [
    "### best articles"
   ]
  },
  {
   "cell_type": "code",
   "execution_count": 27,
   "id": "a8183a80",
   "metadata": {},
   "outputs": [
    {
     "data": {
      "application/vnd.microsoft.datawrangler.viewer.v0+json": {
       "columns": [
        {
         "name": "index",
         "rawType": "int64",
         "type": "integer"
        },
        {
         "name": "title",
         "rawType": "object",
         "type": "string"
        },
        {
         "name": "text",
         "rawType": "object",
         "type": "string"
        },
        {
         "name": "subject",
         "rawType": "object",
         "type": "string"
        },
        {
         "name": "date",
         "rawType": "object",
         "type": "string"
        },
        {
         "name": "real",
         "rawType": "int64",
         "type": "integer"
        },
        {
         "name": "coleman_liau",
         "rawType": "float64",
         "type": "float"
        },
        {
         "name": "smog",
         "rawType": "float64",
         "type": "float"
        },
        {
         "name": "sentence_length",
         "rawType": "float64",
         "type": "float"
        },
        {
         "name": "subjectivity",
         "rawType": "float64",
         "type": "float"
        },
        {
         "name": "sentiment",
         "rawType": "float64",
         "type": "float"
        },
        {
         "name": "word_count",
         "rawType": "int64",
         "type": "integer"
        },
        {
         "name": "syllable_count",
         "rawType": "int64",
         "type": "integer"
        },
        {
         "name": "flesch_reading_ease",
         "rawType": "float64",
         "type": "float"
        },
        {
         "name": "flesch_kincaid_grade",
         "rawType": "float64",
         "type": "float"
        }
       ],
       "conversionMethod": "pd.DataFrame",
       "ref": "e90c65c2-6f99-423c-93f6-773905618b64",
       "rows": [
        [
         "14642",
         "Suspicious object found with body in Stockholm not dangerous, police say",
         "STOCKHOLM (Reuters) - A man was found dead on Thursday in a flat in a Stockholm suburb with a  package with cables taped to the body , the Swedish tabloid Aftonbladet reported, citing sources.  Stockholm police spokeswoman Eva Nilsson confirmed that police had found a body and a suspicious object, but later she said it had been determined the object was not dangerous and police did not believe a crime had been committed. ",
         "worldnews",
         "November 16, 2017 ",
         "1",
         "11.27",
         "0.0",
         "35.5",
         "0.485",
         "0.095",
         "71",
         "108",
         "43.9",
         "16.0"
        ],
        [
         "17001",
         "Putin says Russia will respond in kind if U.S. quits missile treaty",
         "SOCHI, Russia (Reuters) - Russia will respond immediately and symmetrically if the United States quits the intermediate-range nuclear forces treaty, Russian President Vladimir Putin said on Thursday. Moscow is ready to develop new weapons systems, both nuclear and non-nuclear, in response to other countries doing the same, Putin said at a forum with scholars. ",
         "worldnews",
         "October 19, 2017 ",
         "1",
         "15.38",
         "0.0",
         "26.5",
         "0.2909090909090909",
         "0.042272727272727274",
         "53",
         "101",
         "19.2",
         "17.2"
        ],
        [
         "2236",
         "Trump says he has not thought about firing Russia probe special counsel",
         "BEDMINSTER, N.J. (Reuters) - U.S. President Donald Trump said on Thursday he has not given any thought to the possibility of firing special counsel Robert Mueller, who is investigating possible collusion between the Trump campaign and Russia. Speaking to reporters at his New Jersey golf club, Trump also said he was surprised by the FBI raid last month of his former campaign manager Paul Manafort, adding that it sent a “strong signal.”  ",
         "politicsNews",
         "August 10, 2017 ",
         "1",
         "12.08",
         "0.0",
         "35.5",
         "0.5322820037105751",
         "0.146691403834261",
         "71",
         "116",
         "35.44",
         "17.1"
        ],
        [
         "4944",
         "FBI, NSA chiefs to testify on Trump wiretap claims, Russia: lawmakers",
         "WASHINGTON (Reuters) - Leaders of the House of Representatives Intelligence Committee said on Wednesday they do not believe Trump Tower was tapped during the 2016 presidential campaign and that FBI and NSA directors will testify at a hearing next week about that claim and any Russian meddling in the U.S. election.  Republican Chairman Devin Nunes and the committee’s top Democrat, Adam Schiff, told reporters they do not believe President Donald Trump’s phones were tapped, as he asserted without proof, but they want the FBI to provide any evidence at next Monday’s hearing. ",
         "politicsNews",
         "March 15, 2017 ",
         "1",
         "13.65",
         "0.0",
         "45.5",
         "0.125",
         "0.125",
         "91",
         "153",
         "16.83",
         "22.2"
        ],
        [
         "11052",
         "Obama's legislative aide Fallon departs: White House",
         "WASHINGTON (Reuters) - President Barack Obama said on Friday his top legislative affairs aide, Katie Beirne Fallon, is leaving the White House and will be replaced by her deputy, Amy Rosenbaum, a former aide to House Democratic Leader Nancy Pelosi. Obama, in a statement, credited Fallon with helping the White House “build up our relationships with folks in both parties” in Congress on issues like the budget, the Iran nuclear deal, and reauthorizing the Ex-Im Bank. ",
         "politicsNews",
         "January 29, 2016 ",
         "1",
         "12.49",
         "0.0",
         "37.5",
         "0.125",
         "0.125",
         "75",
         "128",
         "24.95",
         "19.1"
        ],
        [
         "19613",
         "China says upholds peaceful resolution of North Korea issue",
         "BEIJING (Reuters) - China supports a peaceful resolution to the North Korea issue and it is incorrect to say China has not been doing enough, Chinese Foreign Minister Wang Yi told his French counterpart, China s Foreign Ministry said on Wednesday. The two were meeting on the sidelines of the United Nations the previous day, the ministry added. ",
         "worldnews",
         "September 20, 2017 ",
         "1",
         "11.49",
         "0.0",
         "28.5",
         "0.20238095238095238",
         "-0.023809523809523808",
         "57",
         "94",
         "42.55",
         "14.4"
        ],
        [
         "15502",
         "Islamic State claims responsibility for attack on TV station in Afghanistan: Amaq",
         "CAIRO (Reuters) - Islamic State has claimed responsibility for an attack on a private television station in the Afghan capital of Kabul, the group s news agency Amaq said on Tuesday, without giving evidence,  A staff member who witnessed the attack said gunmen attacked the building after an explosion.  ",
         "worldnews",
         "November 7, 2017 ",
         "1",
         "13.36",
         "0.0",
         "48.0",
         "0.375",
         "0.0",
         "48",
         "83",
         "14.3",
         "23.2"
        ],
        [
         "17014",
         "London will remain leading financial center: PM May's spokesman",
         "LONDON (Reuters) - London will remain the world s leading financial center, a spokesman for British Prime Minister Theresa May said on Thursday when asked about comments by Goldman Sachs chief executive Lloyd Blankfein.   We re not going to comment on each individual statement but lets be clear, London is and will remain the world s leading financial center,  the spokesman said when asked about a tweet in which Blankfein said he was planning to spend more time in Frankfurt - a rival financial center. ",
         "worldnews",
         "October 19, 2017 ",
         "1",
         "12.2",
         "0.0",
         "41.5",
         "0.15833333333333335",
         "0.029999999999999992",
         "83",
         "127",
         "37.81",
         "18.3"
        ],
        [
         "971",
         "White House continues to cooperate with special counsel -official",
         "WASHINGTON (Reuters) - Charges brought against President Donald Trump’s former campaign manager and other officials on Monday would not change the White House’s cooperation with the special counsel investigating alleged Russian intervention in the 2016 election, a White House official said. “The White House continues to cooperate,” the official said. ",
         "politicsNews",
         "October 30, 2017 ",
         "1",
         "17.58",
         "0.0",
         "24.5",
         "0.13080357142857144",
         "0.016517857142857143",
         "49",
         "92",
         "21.23",
         "16.4"
        ],
        [
         "19595",
         "At least 10 dead, 92 missing in eastern Congo floods: local official",
         "ABIDJAN (Reuters) - At least 10 people have died and another 92 are missing in eastern Democratic Republic of Congo due to flooding after torrential rains caused a river to overflow its banks, a local official said on Wednesday. The administrator of Masisi territory in eastern Congo s North Kivu province, Dieudonne Tshishiku, said emergency teams had been dispatched to the town of Bihambwe to search for the missing. ",
         "worldnews",
         "September 20, 2017 ",
         "1",
         "12.54",
         "0.0",
         "34.0",
         "0.175",
         "-0.16499999999999998",
         "68",
         "111",
         "36.97",
         "16.6"
        ],
        [
         "15498",
         "Kremlin says Putin and Trump to discuss North Korea in Vietnam",
         "MOSCOW (Reuters) - Kremlin spokesman Dmitry Peskov said on Tuesday that Vladimir Putin and Donald Trump are expected to discuss North Korea at the Asia-Pacific Economic Cooperation forum in Vietnam this week. Presidents of Russia and the United States will have an opportunity to talk at the summit and details of their meeting are still being worked on, Peskov told reporters at a conference call. ",
         "worldnews",
         "November 7, 2017 ",
         "1",
         "12.95",
         "0.0",
         "32.0",
         "0.30000000000000004",
         "0.05",
         "64",
         "110",
         "30.54",
         "17.0"
        ],
        [
         "19589",
         "Saudi Arabia says hopes Kurdistan vote will not take place",
         "DUBAI (Reuters) - Saudi Arabia said on Wednesday it hoped Iraqi Kurdish leader Massoud Barzani would not hold an independence referendum, saying such a move could bring risks for Iraq and the region. Saudi Arabia  looks to the wisdom of President Barzani in not holding the referendum , a foreign ministry statement on state news agency SPA said. ",
         "worldnews",
         "September 20, 2017 ",
         "1",
         "12.13",
         "0.0",
         "28.0",
         "0.3125",
         "-0.0625",
         "56",
         "94",
         "34.6",
         "15.4"
        ],
        [
         "19585",
         "Islamic State targets Iranian aid convoy in eastern Syria",
         "BEIRUT (Reuters) - Islamic State mortar shells on Wednesday targeted an Iranian aid convoy to areas recently captured by the Syrian army and its allies in Deir al-Zor in eastern Syria, a military media unit run by the government s ally Hezbollah said. The mortar injured one person and caused material damage, Hezbollah-affiliated al-Manar television reported, but the convoy, carrying over 1,000 tonnes of aid, was not damaged, it said. ",
         "worldnews",
         "September 20, 2017 ",
         "1",
         "13.01",
         "0.0",
         "34.5",
         "0.175",
         "-0.05",
         "69",
         "130",
         "11.08",
         "20.3"
        ],
        [
         "15497",
         "Former Lebanese PM says Hariri will return to Lebanon",
         "BEIRUT (Reuters) - Former Lebanese prime minister Fouad Siniora said on Tuesday that the head of his political party, Saad al-Hariri, who resigned as prime minister on Saturday in Saudi Arabia, will return to Lebanon.  Hariri s return to Lebanon is  a priority  said Siniora, adding that he had spoken by phone to Hariri on Monday.  ",
         "worldnews",
         "November 7, 2017 ",
         "1",
         "10.74",
         "0.0",
         "27.5",
         "0.05",
         "0.0",
         "55",
         "98",
         "26.64",
         "16.4"
        ],
        [
         "11118",
         "Vice President Biden, Turkey's Erdogan discuss fight against Islamic State",
         "WASHINGTON (Reuters) - The White House said Vice President Joe Biden and Turkish President Tayyip Erdogan discussed ways to deepen cooperation in the fight against Islamic State in a meeting on Saturday in Istanbul. Biden and Erdogan also talked about the “importance of de-escalating recent tensions between Turkey and Iraq in a manner that respects Iraqi sovereignty,” the White House said in a statement released on Sunday.       ",
         "politicsNews",
         "January 25, 2016 ",
         "1",
         "14.17",
         "0.0",
         "33.0",
         "0.08333333333333333",
         "0.0",
         "66",
         "114",
         "29.52",
         "17.3"
        ],
        [
         "17018",
         "Russia's Putin accuses U.S. of failing nuclear, chemical weapons treaties obligations",
         "SOCHI, Russia (Reuters) - Russian President Vladimir Putin on Thursday accused Washington of not fulfilling its obligations under nuclear and chemical weapons treaties. Putin said that despite calls to cooperate on global issues, the United States had demonstrated a  selfishness  that had seen Russia s national interests ignored in the nuclear sphere. ",
         "worldnews",
         "October 19, 2017 ",
         "1",
         "16.37",
         "0.0",
         "25.5",
         "0.0",
         "0.0",
         "51",
         "97",
         "20.21",
         "16.8"
        ],
        [
         "11165",
         "Shkreli takes the Fifth for Senate committee on drug pricing",
         "(Reuters) - Martin Shkreli, former chief executive officer at Turing Pharmaceuticals, has invoked the Fifth Amendment, refusing to produce documents subpoenaed by the Senate Special Committee on Aging, which is investigating the company’s drug pricing practices, the committee’s chairman, U.S. Senator Susan Collins, said on Wednesday. ",
         "politicsNews",
         "January 20, 2016 ",
         "1",
         "18.45",
         "0.0",
         "22.5",
         "0.2857142857142857",
         "0.17857142857142858",
         "45",
         "91",
         "14.8",
         "16.8"
        ],
        [
         "17852",
         "Catalan leader calls for reduced tensions",
         "BARCELONA (Reuters) - The leader of Catalonia s government called on Tuesday for a reduction in tensions in its standoff with Madrid over a bid in the wealthy northeastern region for independence from Spain.  With our differences and discrepancies, we make up one people,  Carles Puigdemont told the regional parliament in Barcelona. ",
         "worldnews",
         "October 10, 2017 ",
         "1",
         "14.05",
         "0.0",
         "25.5",
         "1.0",
         "0.5",
         "51",
         "91",
         "28.67",
         "15.6"
        ],
        [
         "1012",
         "Russia to respond to Twitter ban on Russian media ads: RIA",
         "MOSCOW (Reuters) - Russia said on Thursday it would respond to a decision by Twitter Inc to ban adverts from media outlets Russia Today (RT) and Sputnik, saying the move flouted international and domestic laws on free speech, the RIA news agency reported. RIA cited the Russian Foreign Ministry as saying the decision was another aggressive step aimed at hindering the work of Russian media in the United States and the result of pressure from U.S. intelligence agencies. ",
         "politicsNews",
         "October 26, 2017 ",
         "1",
         "12.14",
         "0.0",
         "38.5",
         "0.1708333333333333",
         "0.04583333333333334",
         "77",
         "132",
         "23.94",
         "19.5"
        ],
        [
         "11328",
         "Russia's Lavrov: main part of battle with Islamic State in Syria is over - RIA",
         "MOSCOW (Reuters) - Russian Foreign Minister Sergei Lavrov said on Wednesday the main part of the battle with Islamic State in Syria was over, according to the state-run RIA news agency. RIA also quoted Lavrov as saying the key task in Syria now was to  destroy Jabhat al-Nusra,  referring to the al Qaeda-linked group known in English as Nusra Front. ",
         "worldnews",
         "December 27, 2017 ",
         "1",
         "10.75",
         "0.0",
         "29.5",
         "0.24305555555555555",
         "-0.026388888888888892",
         "59",
         "92",
         "41.53",
         "14.8"
        ],
        [
         "19541",
         "Russia's air force killed 850 militants in Syria in last 24 hours: Interfax",
         "MOSCOW (Reuters) - Russia s air force has killed about 850 militants in Syria s zone of de-escalation in Idlib in the last 24 hours, Interfax news agency quoted Russia s Defence Ministry as saying on Wednesday.  ",
         "worldnews",
         "September 20, 2017 ",
         "1",
         "10.4",
         "0.0",
         "36.0",
         "0.03333333333333333",
         "-0.1",
         "36",
         "58",
         "34.94",
         "17.3"
        ],
        [
         "11301",
         "Eastern Libyan force says \"terrorist group\" probably responsible for pipe explosion",
         "BENGHAZI, Libya (Reuters) - A  terrorist group  is probably responsible for the explosion on a Libyan crude pipeline on Tuesday, a spokesman for an eastern Libyan petroleum protection force said on Wednesday. The fire at the pipeline had been brought under control, Miftah Magariaf, from the force tasked with guarding oilfields in eastern Libya, told Reuters. ",
         "worldnews",
         "December 27, 2017 ",
         "1",
         "13.93",
         "0.0",
         "27.5",
         "0.775",
         "-0.24999999999999997",
         "55",
         "97",
         "26.64",
         "16.4"
        ],
        [
         "17030",
         "France's Macron urges IAEA to ensure strict compliance of Iran nuclear deal",
         "PARIS (Reuters) - French President Emmanuel Macron on Thursday called on the United Nations  IAEA atomic watchdog body to ensure the strict compliance of the 2015 Iran nuclear deal.  He urged the IAEA to ensure strict compliance with the provisions of the agreement in all its dimensions,  Macron s office said in a statement, after Macron met International Atomic Energy Agency director general Yukiya Amano. ",
         "worldnews",
         "October 19, 2017 ",
         "1",
         "13.65",
         "0.0",
         "32.0",
         "0.16666666666666666",
         "0.016666666666666673",
         "64",
         "113",
         "22.08",
         "18.1"
        ],
        [
         "11267",
         "Obama says willing to work with Republican Speaker on poverty",
         "WASHINGTON (Reuters) - President Barack Obama said on Tuesday that he was willing to work with Republican Speaker Paul Ryan on reforms to address poverty, such as expanding the earned income tax cut (EITC). “I’d welcome a serious discussion about strategies we can all support, like expanding tax cuts for low-income workers without kids,” Obama said, according to prepared remarks for his State of the Union address. ",
         "politicsNews",
         "January 13, 2016 ",
         "1",
         "12.83",
         "0.0",
         "33.0",
         "0.7041666666666666",
         "0.1791666666666667",
         "66",
         "111",
         "29.52",
         "17.3"
        ],
        [
         "17000",
         "Putin says Russia will respond if Russian media under pressure in U.S.",
         "SOCHI, Russia (Reuters) - Russian President Vladimir Putin said on Thursday that Moscow will retaliate if the Unites States take measures to pressure Russian media outlets operating there.   In this case we will do it only in kind and quite quickly, as soon as we see steps (to pressure) our media, there will immediately be an answer,  Putin said at a forum with scholars. ",
         "worldnews",
         "October 19, 2017 ",
         "1",
         "10.57",
         "0.0",
         "31.5",
         "0.48",
         "0.18666666666666668",
         "63",
         "101",
         "39.5",
         "15.6"
        ]
       ],
       "shape": {
        "columns": 14,
        "rows": 25
       }
      },
      "text/html": [
       "<div>\n",
       "<style scoped>\n",
       "    .dataframe tbody tr th:only-of-type {\n",
       "        vertical-align: middle;\n",
       "    }\n",
       "\n",
       "    .dataframe tbody tr th {\n",
       "        vertical-align: top;\n",
       "    }\n",
       "\n",
       "    .dataframe thead th {\n",
       "        text-align: right;\n",
       "    }\n",
       "</style>\n",
       "<table border=\"1\" class=\"dataframe\">\n",
       "  <thead>\n",
       "    <tr style=\"text-align: right;\">\n",
       "      <th></th>\n",
       "      <th>title</th>\n",
       "      <th>text</th>\n",
       "      <th>subject</th>\n",
       "      <th>date</th>\n",
       "      <th>real</th>\n",
       "      <th>coleman_liau</th>\n",
       "      <th>smog</th>\n",
       "      <th>sentence_length</th>\n",
       "      <th>subjectivity</th>\n",
       "      <th>sentiment</th>\n",
       "      <th>word_count</th>\n",
       "      <th>syllable_count</th>\n",
       "      <th>flesch_reading_ease</th>\n",
       "      <th>flesch_kincaid_grade</th>\n",
       "    </tr>\n",
       "  </thead>\n",
       "  <tbody>\n",
       "    <tr>\n",
       "      <th>14642</th>\n",
       "      <td>Suspicious object found with body in Stockholm...</td>\n",
       "      <td>STOCKHOLM (Reuters) - A man was found dead on ...</td>\n",
       "      <td>worldnews</td>\n",
       "      <td>November 16, 2017</td>\n",
       "      <td>1</td>\n",
       "      <td>11.27</td>\n",
       "      <td>0.0</td>\n",
       "      <td>35.5</td>\n",
       "      <td>0.485000</td>\n",
       "      <td>0.095000</td>\n",
       "      <td>71</td>\n",
       "      <td>108</td>\n",
       "      <td>43.90</td>\n",
       "      <td>16.0</td>\n",
       "    </tr>\n",
       "    <tr>\n",
       "      <th>17001</th>\n",
       "      <td>Putin says Russia will respond in kind if U.S....</td>\n",
       "      <td>SOCHI, Russia (Reuters) - Russia will respond ...</td>\n",
       "      <td>worldnews</td>\n",
       "      <td>October 19, 2017</td>\n",
       "      <td>1</td>\n",
       "      <td>15.38</td>\n",
       "      <td>0.0</td>\n",
       "      <td>26.5</td>\n",
       "      <td>0.290909</td>\n",
       "      <td>0.042273</td>\n",
       "      <td>53</td>\n",
       "      <td>101</td>\n",
       "      <td>19.20</td>\n",
       "      <td>17.2</td>\n",
       "    </tr>\n",
       "    <tr>\n",
       "      <th>2236</th>\n",
       "      <td>Trump says he has not thought about firing Rus...</td>\n",
       "      <td>BEDMINSTER, N.J. (Reuters) - U.S. President Do...</td>\n",
       "      <td>politicsNews</td>\n",
       "      <td>August 10, 2017</td>\n",
       "      <td>1</td>\n",
       "      <td>12.08</td>\n",
       "      <td>0.0</td>\n",
       "      <td>35.5</td>\n",
       "      <td>0.532282</td>\n",
       "      <td>0.146691</td>\n",
       "      <td>71</td>\n",
       "      <td>116</td>\n",
       "      <td>35.44</td>\n",
       "      <td>17.1</td>\n",
       "    </tr>\n",
       "    <tr>\n",
       "      <th>4944</th>\n",
       "      <td>FBI, NSA chiefs to testify on Trump wiretap cl...</td>\n",
       "      <td>WASHINGTON (Reuters) - Leaders of the House of...</td>\n",
       "      <td>politicsNews</td>\n",
       "      <td>March 15, 2017</td>\n",
       "      <td>1</td>\n",
       "      <td>13.65</td>\n",
       "      <td>0.0</td>\n",
       "      <td>45.5</td>\n",
       "      <td>0.125000</td>\n",
       "      <td>0.125000</td>\n",
       "      <td>91</td>\n",
       "      <td>153</td>\n",
       "      <td>16.83</td>\n",
       "      <td>22.2</td>\n",
       "    </tr>\n",
       "    <tr>\n",
       "      <th>11052</th>\n",
       "      <td>Obama's legislative aide Fallon departs: White...</td>\n",
       "      <td>WASHINGTON (Reuters) - President Barack Obama ...</td>\n",
       "      <td>politicsNews</td>\n",
       "      <td>January 29, 2016</td>\n",
       "      <td>1</td>\n",
       "      <td>12.49</td>\n",
       "      <td>0.0</td>\n",
       "      <td>37.5</td>\n",
       "      <td>0.125000</td>\n",
       "      <td>0.125000</td>\n",
       "      <td>75</td>\n",
       "      <td>128</td>\n",
       "      <td>24.95</td>\n",
       "      <td>19.1</td>\n",
       "    </tr>\n",
       "    <tr>\n",
       "      <th>19613</th>\n",
       "      <td>China says upholds peaceful resolution of Nort...</td>\n",
       "      <td>BEIJING (Reuters) - China supports a peaceful ...</td>\n",
       "      <td>worldnews</td>\n",
       "      <td>September 20, 2017</td>\n",
       "      <td>1</td>\n",
       "      <td>11.49</td>\n",
       "      <td>0.0</td>\n",
       "      <td>28.5</td>\n",
       "      <td>0.202381</td>\n",
       "      <td>-0.023810</td>\n",
       "      <td>57</td>\n",
       "      <td>94</td>\n",
       "      <td>42.55</td>\n",
       "      <td>14.4</td>\n",
       "    </tr>\n",
       "    <tr>\n",
       "      <th>15502</th>\n",
       "      <td>Islamic State claims responsibility for attack...</td>\n",
       "      <td>CAIRO (Reuters) - Islamic State has claimed re...</td>\n",
       "      <td>worldnews</td>\n",
       "      <td>November 7, 2017</td>\n",
       "      <td>1</td>\n",
       "      <td>13.36</td>\n",
       "      <td>0.0</td>\n",
       "      <td>48.0</td>\n",
       "      <td>0.375000</td>\n",
       "      <td>0.000000</td>\n",
       "      <td>48</td>\n",
       "      <td>83</td>\n",
       "      <td>14.30</td>\n",
       "      <td>23.2</td>\n",
       "    </tr>\n",
       "    <tr>\n",
       "      <th>17014</th>\n",
       "      <td>London will remain leading financial center: P...</td>\n",
       "      <td>LONDON (Reuters) - London will remain the worl...</td>\n",
       "      <td>worldnews</td>\n",
       "      <td>October 19, 2017</td>\n",
       "      <td>1</td>\n",
       "      <td>12.20</td>\n",
       "      <td>0.0</td>\n",
       "      <td>41.5</td>\n",
       "      <td>0.158333</td>\n",
       "      <td>0.030000</td>\n",
       "      <td>83</td>\n",
       "      <td>127</td>\n",
       "      <td>37.81</td>\n",
       "      <td>18.3</td>\n",
       "    </tr>\n",
       "    <tr>\n",
       "      <th>971</th>\n",
       "      <td>White House continues to cooperate with specia...</td>\n",
       "      <td>WASHINGTON (Reuters) - Charges brought against...</td>\n",
       "      <td>politicsNews</td>\n",
       "      <td>October 30, 2017</td>\n",
       "      <td>1</td>\n",
       "      <td>17.58</td>\n",
       "      <td>0.0</td>\n",
       "      <td>24.5</td>\n",
       "      <td>0.130804</td>\n",
       "      <td>0.016518</td>\n",
       "      <td>49</td>\n",
       "      <td>92</td>\n",
       "      <td>21.23</td>\n",
       "      <td>16.4</td>\n",
       "    </tr>\n",
       "    <tr>\n",
       "      <th>19595</th>\n",
       "      <td>At least 10 dead, 92 missing in eastern Congo ...</td>\n",
       "      <td>ABIDJAN (Reuters) - At least 10 people have di...</td>\n",
       "      <td>worldnews</td>\n",
       "      <td>September 20, 2017</td>\n",
       "      <td>1</td>\n",
       "      <td>12.54</td>\n",
       "      <td>0.0</td>\n",
       "      <td>34.0</td>\n",
       "      <td>0.175000</td>\n",
       "      <td>-0.165000</td>\n",
       "      <td>68</td>\n",
       "      <td>111</td>\n",
       "      <td>36.97</td>\n",
       "      <td>16.6</td>\n",
       "    </tr>\n",
       "    <tr>\n",
       "      <th>15498</th>\n",
       "      <td>Kremlin says Putin and Trump to discuss North ...</td>\n",
       "      <td>MOSCOW (Reuters) - Kremlin spokesman Dmitry Pe...</td>\n",
       "      <td>worldnews</td>\n",
       "      <td>November 7, 2017</td>\n",
       "      <td>1</td>\n",
       "      <td>12.95</td>\n",
       "      <td>0.0</td>\n",
       "      <td>32.0</td>\n",
       "      <td>0.300000</td>\n",
       "      <td>0.050000</td>\n",
       "      <td>64</td>\n",
       "      <td>110</td>\n",
       "      <td>30.54</td>\n",
       "      <td>17.0</td>\n",
       "    </tr>\n",
       "    <tr>\n",
       "      <th>19589</th>\n",
       "      <td>Saudi Arabia says hopes Kurdistan vote will no...</td>\n",
       "      <td>DUBAI (Reuters) - Saudi Arabia said on Wednesd...</td>\n",
       "      <td>worldnews</td>\n",
       "      <td>September 20, 2017</td>\n",
       "      <td>1</td>\n",
       "      <td>12.13</td>\n",
       "      <td>0.0</td>\n",
       "      <td>28.0</td>\n",
       "      <td>0.312500</td>\n",
       "      <td>-0.062500</td>\n",
       "      <td>56</td>\n",
       "      <td>94</td>\n",
       "      <td>34.60</td>\n",
       "      <td>15.4</td>\n",
       "    </tr>\n",
       "    <tr>\n",
       "      <th>19585</th>\n",
       "      <td>Islamic State targets Iranian aid convoy in ea...</td>\n",
       "      <td>BEIRUT (Reuters) - Islamic State mortar shells...</td>\n",
       "      <td>worldnews</td>\n",
       "      <td>September 20, 2017</td>\n",
       "      <td>1</td>\n",
       "      <td>13.01</td>\n",
       "      <td>0.0</td>\n",
       "      <td>34.5</td>\n",
       "      <td>0.175000</td>\n",
       "      <td>-0.050000</td>\n",
       "      <td>69</td>\n",
       "      <td>130</td>\n",
       "      <td>11.08</td>\n",
       "      <td>20.3</td>\n",
       "    </tr>\n",
       "    <tr>\n",
       "      <th>15497</th>\n",
       "      <td>Former Lebanese PM says Hariri will return to ...</td>\n",
       "      <td>BEIRUT (Reuters) - Former Lebanese prime minis...</td>\n",
       "      <td>worldnews</td>\n",
       "      <td>November 7, 2017</td>\n",
       "      <td>1</td>\n",
       "      <td>10.74</td>\n",
       "      <td>0.0</td>\n",
       "      <td>27.5</td>\n",
       "      <td>0.050000</td>\n",
       "      <td>0.000000</td>\n",
       "      <td>55</td>\n",
       "      <td>98</td>\n",
       "      <td>26.64</td>\n",
       "      <td>16.4</td>\n",
       "    </tr>\n",
       "    <tr>\n",
       "      <th>11118</th>\n",
       "      <td>Vice President Biden, Turkey's Erdogan discuss...</td>\n",
       "      <td>WASHINGTON (Reuters) - The White House said Vi...</td>\n",
       "      <td>politicsNews</td>\n",
       "      <td>January 25, 2016</td>\n",
       "      <td>1</td>\n",
       "      <td>14.17</td>\n",
       "      <td>0.0</td>\n",
       "      <td>33.0</td>\n",
       "      <td>0.083333</td>\n",
       "      <td>0.000000</td>\n",
       "      <td>66</td>\n",
       "      <td>114</td>\n",
       "      <td>29.52</td>\n",
       "      <td>17.3</td>\n",
       "    </tr>\n",
       "    <tr>\n",
       "      <th>17018</th>\n",
       "      <td>Russia's Putin accuses U.S. of failing nuclear...</td>\n",
       "      <td>SOCHI, Russia (Reuters) - Russian President Vl...</td>\n",
       "      <td>worldnews</td>\n",
       "      <td>October 19, 2017</td>\n",
       "      <td>1</td>\n",
       "      <td>16.37</td>\n",
       "      <td>0.0</td>\n",
       "      <td>25.5</td>\n",
       "      <td>0.000000</td>\n",
       "      <td>0.000000</td>\n",
       "      <td>51</td>\n",
       "      <td>97</td>\n",
       "      <td>20.21</td>\n",
       "      <td>16.8</td>\n",
       "    </tr>\n",
       "    <tr>\n",
       "      <th>11165</th>\n",
       "      <td>Shkreli takes the Fifth for Senate committee o...</td>\n",
       "      <td>(Reuters) - Martin Shkreli, former chief execu...</td>\n",
       "      <td>politicsNews</td>\n",
       "      <td>January 20, 2016</td>\n",
       "      <td>1</td>\n",
       "      <td>18.45</td>\n",
       "      <td>0.0</td>\n",
       "      <td>22.5</td>\n",
       "      <td>0.285714</td>\n",
       "      <td>0.178571</td>\n",
       "      <td>45</td>\n",
       "      <td>91</td>\n",
       "      <td>14.80</td>\n",
       "      <td>16.8</td>\n",
       "    </tr>\n",
       "    <tr>\n",
       "      <th>17852</th>\n",
       "      <td>Catalan leader calls for reduced tensions</td>\n",
       "      <td>BARCELONA (Reuters) - The leader of Catalonia ...</td>\n",
       "      <td>worldnews</td>\n",
       "      <td>October 10, 2017</td>\n",
       "      <td>1</td>\n",
       "      <td>14.05</td>\n",
       "      <td>0.0</td>\n",
       "      <td>25.5</td>\n",
       "      <td>1.000000</td>\n",
       "      <td>0.500000</td>\n",
       "      <td>51</td>\n",
       "      <td>91</td>\n",
       "      <td>28.67</td>\n",
       "      <td>15.6</td>\n",
       "    </tr>\n",
       "    <tr>\n",
       "      <th>1012</th>\n",
       "      <td>Russia to respond to Twitter ban on Russian me...</td>\n",
       "      <td>MOSCOW (Reuters) - Russia said on Thursday it ...</td>\n",
       "      <td>politicsNews</td>\n",
       "      <td>October 26, 2017</td>\n",
       "      <td>1</td>\n",
       "      <td>12.14</td>\n",
       "      <td>0.0</td>\n",
       "      <td>38.5</td>\n",
       "      <td>0.170833</td>\n",
       "      <td>0.045833</td>\n",
       "      <td>77</td>\n",
       "      <td>132</td>\n",
       "      <td>23.94</td>\n",
       "      <td>19.5</td>\n",
       "    </tr>\n",
       "    <tr>\n",
       "      <th>11328</th>\n",
       "      <td>Russia's Lavrov: main part of battle with Isla...</td>\n",
       "      <td>MOSCOW (Reuters) - Russian Foreign Minister Se...</td>\n",
       "      <td>worldnews</td>\n",
       "      <td>December 27, 2017</td>\n",
       "      <td>1</td>\n",
       "      <td>10.75</td>\n",
       "      <td>0.0</td>\n",
       "      <td>29.5</td>\n",
       "      <td>0.243056</td>\n",
       "      <td>-0.026389</td>\n",
       "      <td>59</td>\n",
       "      <td>92</td>\n",
       "      <td>41.53</td>\n",
       "      <td>14.8</td>\n",
       "    </tr>\n",
       "    <tr>\n",
       "      <th>19541</th>\n",
       "      <td>Russia's air force killed 850 militants in Syr...</td>\n",
       "      <td>MOSCOW (Reuters) - Russia s air force has kill...</td>\n",
       "      <td>worldnews</td>\n",
       "      <td>September 20, 2017</td>\n",
       "      <td>1</td>\n",
       "      <td>10.40</td>\n",
       "      <td>0.0</td>\n",
       "      <td>36.0</td>\n",
       "      <td>0.033333</td>\n",
       "      <td>-0.100000</td>\n",
       "      <td>36</td>\n",
       "      <td>58</td>\n",
       "      <td>34.94</td>\n",
       "      <td>17.3</td>\n",
       "    </tr>\n",
       "    <tr>\n",
       "      <th>11301</th>\n",
       "      <td>Eastern Libyan force says \"terrorist group\" pr...</td>\n",
       "      <td>BENGHAZI, Libya (Reuters) - A  terrorist group...</td>\n",
       "      <td>worldnews</td>\n",
       "      <td>December 27, 2017</td>\n",
       "      <td>1</td>\n",
       "      <td>13.93</td>\n",
       "      <td>0.0</td>\n",
       "      <td>27.5</td>\n",
       "      <td>0.775000</td>\n",
       "      <td>-0.250000</td>\n",
       "      <td>55</td>\n",
       "      <td>97</td>\n",
       "      <td>26.64</td>\n",
       "      <td>16.4</td>\n",
       "    </tr>\n",
       "    <tr>\n",
       "      <th>17030</th>\n",
       "      <td>France's Macron urges IAEA to ensure strict co...</td>\n",
       "      <td>PARIS (Reuters) - French President Emmanuel Ma...</td>\n",
       "      <td>worldnews</td>\n",
       "      <td>October 19, 2017</td>\n",
       "      <td>1</td>\n",
       "      <td>13.65</td>\n",
       "      <td>0.0</td>\n",
       "      <td>32.0</td>\n",
       "      <td>0.166667</td>\n",
       "      <td>0.016667</td>\n",
       "      <td>64</td>\n",
       "      <td>113</td>\n",
       "      <td>22.08</td>\n",
       "      <td>18.1</td>\n",
       "    </tr>\n",
       "    <tr>\n",
       "      <th>11267</th>\n",
       "      <td>Obama says willing to work with Republican Spe...</td>\n",
       "      <td>WASHINGTON (Reuters) - President Barack Obama ...</td>\n",
       "      <td>politicsNews</td>\n",
       "      <td>January 13, 2016</td>\n",
       "      <td>1</td>\n",
       "      <td>12.83</td>\n",
       "      <td>0.0</td>\n",
       "      <td>33.0</td>\n",
       "      <td>0.704167</td>\n",
       "      <td>0.179167</td>\n",
       "      <td>66</td>\n",
       "      <td>111</td>\n",
       "      <td>29.52</td>\n",
       "      <td>17.3</td>\n",
       "    </tr>\n",
       "    <tr>\n",
       "      <th>17000</th>\n",
       "      <td>Putin says Russia will respond if Russian medi...</td>\n",
       "      <td>SOCHI, Russia (Reuters) - Russian President Vl...</td>\n",
       "      <td>worldnews</td>\n",
       "      <td>October 19, 2017</td>\n",
       "      <td>1</td>\n",
       "      <td>10.57</td>\n",
       "      <td>0.0</td>\n",
       "      <td>31.5</td>\n",
       "      <td>0.480000</td>\n",
       "      <td>0.186667</td>\n",
       "      <td>63</td>\n",
       "      <td>101</td>\n",
       "      <td>39.50</td>\n",
       "      <td>15.6</td>\n",
       "    </tr>\n",
       "  </tbody>\n",
       "</table>\n",
       "</div>"
      ],
      "text/plain": [
       "                                                   title  \\\n",
       "14642  Suspicious object found with body in Stockholm...   \n",
       "17001  Putin says Russia will respond in kind if U.S....   \n",
       "2236   Trump says he has not thought about firing Rus...   \n",
       "4944   FBI, NSA chiefs to testify on Trump wiretap cl...   \n",
       "11052  Obama's legislative aide Fallon departs: White...   \n",
       "19613  China says upholds peaceful resolution of Nort...   \n",
       "15502  Islamic State claims responsibility for attack...   \n",
       "17014  London will remain leading financial center: P...   \n",
       "971    White House continues to cooperate with specia...   \n",
       "19595  At least 10 dead, 92 missing in eastern Congo ...   \n",
       "15498  Kremlin says Putin and Trump to discuss North ...   \n",
       "19589  Saudi Arabia says hopes Kurdistan vote will no...   \n",
       "19585  Islamic State targets Iranian aid convoy in ea...   \n",
       "15497  Former Lebanese PM says Hariri will return to ...   \n",
       "11118  Vice President Biden, Turkey's Erdogan discuss...   \n",
       "17018  Russia's Putin accuses U.S. of failing nuclear...   \n",
       "11165  Shkreli takes the Fifth for Senate committee o...   \n",
       "17852          Catalan leader calls for reduced tensions   \n",
       "1012   Russia to respond to Twitter ban on Russian me...   \n",
       "11328  Russia's Lavrov: main part of battle with Isla...   \n",
       "19541  Russia's air force killed 850 militants in Syr...   \n",
       "11301  Eastern Libyan force says \"terrorist group\" pr...   \n",
       "17030  France's Macron urges IAEA to ensure strict co...   \n",
       "11267  Obama says willing to work with Republican Spe...   \n",
       "17000  Putin says Russia will respond if Russian medi...   \n",
       "\n",
       "                                                    text       subject  \\\n",
       "14642  STOCKHOLM (Reuters) - A man was found dead on ...     worldnews   \n",
       "17001  SOCHI, Russia (Reuters) - Russia will respond ...     worldnews   \n",
       "2236   BEDMINSTER, N.J. (Reuters) - U.S. President Do...  politicsNews   \n",
       "4944   WASHINGTON (Reuters) - Leaders of the House of...  politicsNews   \n",
       "11052  WASHINGTON (Reuters) - President Barack Obama ...  politicsNews   \n",
       "19613  BEIJING (Reuters) - China supports a peaceful ...     worldnews   \n",
       "15502  CAIRO (Reuters) - Islamic State has claimed re...     worldnews   \n",
       "17014  LONDON (Reuters) - London will remain the worl...     worldnews   \n",
       "971    WASHINGTON (Reuters) - Charges brought against...  politicsNews   \n",
       "19595  ABIDJAN (Reuters) - At least 10 people have di...     worldnews   \n",
       "15498  MOSCOW (Reuters) - Kremlin spokesman Dmitry Pe...     worldnews   \n",
       "19589  DUBAI (Reuters) - Saudi Arabia said on Wednesd...     worldnews   \n",
       "19585  BEIRUT (Reuters) - Islamic State mortar shells...     worldnews   \n",
       "15497  BEIRUT (Reuters) - Former Lebanese prime minis...     worldnews   \n",
       "11118  WASHINGTON (Reuters) - The White House said Vi...  politicsNews   \n",
       "17018  SOCHI, Russia (Reuters) - Russian President Vl...     worldnews   \n",
       "11165  (Reuters) - Martin Shkreli, former chief execu...  politicsNews   \n",
       "17852  BARCELONA (Reuters) - The leader of Catalonia ...     worldnews   \n",
       "1012   MOSCOW (Reuters) - Russia said on Thursday it ...  politicsNews   \n",
       "11328  MOSCOW (Reuters) - Russian Foreign Minister Se...     worldnews   \n",
       "19541  MOSCOW (Reuters) - Russia s air force has kill...     worldnews   \n",
       "11301  BENGHAZI, Libya (Reuters) - A  terrorist group...     worldnews   \n",
       "17030  PARIS (Reuters) - French President Emmanuel Ma...     worldnews   \n",
       "11267  WASHINGTON (Reuters) - President Barack Obama ...  politicsNews   \n",
       "17000  SOCHI, Russia (Reuters) - Russian President Vl...     worldnews   \n",
       "\n",
       "                      date  real  coleman_liau  smog  sentence_length  \\\n",
       "14642   November 16, 2017      1         11.27   0.0             35.5   \n",
       "17001    October 19, 2017      1         15.38   0.0             26.5   \n",
       "2236      August 10, 2017      1         12.08   0.0             35.5   \n",
       "4944       March 15, 2017      1         13.65   0.0             45.5   \n",
       "11052    January 29, 2016      1         12.49   0.0             37.5   \n",
       "19613  September 20, 2017      1         11.49   0.0             28.5   \n",
       "15502    November 7, 2017      1         13.36   0.0             48.0   \n",
       "17014    October 19, 2017      1         12.20   0.0             41.5   \n",
       "971      October 30, 2017      1         17.58   0.0             24.5   \n",
       "19595  September 20, 2017      1         12.54   0.0             34.0   \n",
       "15498    November 7, 2017      1         12.95   0.0             32.0   \n",
       "19589  September 20, 2017      1         12.13   0.0             28.0   \n",
       "19585  September 20, 2017      1         13.01   0.0             34.5   \n",
       "15497    November 7, 2017      1         10.74   0.0             27.5   \n",
       "11118    January 25, 2016      1         14.17   0.0             33.0   \n",
       "17018    October 19, 2017      1         16.37   0.0             25.5   \n",
       "11165    January 20, 2016      1         18.45   0.0             22.5   \n",
       "17852    October 10, 2017      1         14.05   0.0             25.5   \n",
       "1012     October 26, 2017      1         12.14   0.0             38.5   \n",
       "11328   December 27, 2017      1         10.75   0.0             29.5   \n",
       "19541  September 20, 2017      1         10.40   0.0             36.0   \n",
       "11301   December 27, 2017      1         13.93   0.0             27.5   \n",
       "17030    October 19, 2017      1         13.65   0.0             32.0   \n",
       "11267    January 13, 2016      1         12.83   0.0             33.0   \n",
       "17000    October 19, 2017      1         10.57   0.0             31.5   \n",
       "\n",
       "       subjectivity  sentiment  word_count  syllable_count  \\\n",
       "14642      0.485000   0.095000          71             108   \n",
       "17001      0.290909   0.042273          53             101   \n",
       "2236       0.532282   0.146691          71             116   \n",
       "4944       0.125000   0.125000          91             153   \n",
       "11052      0.125000   0.125000          75             128   \n",
       "19613      0.202381  -0.023810          57              94   \n",
       "15502      0.375000   0.000000          48              83   \n",
       "17014      0.158333   0.030000          83             127   \n",
       "971        0.130804   0.016518          49              92   \n",
       "19595      0.175000  -0.165000          68             111   \n",
       "15498      0.300000   0.050000          64             110   \n",
       "19589      0.312500  -0.062500          56              94   \n",
       "19585      0.175000  -0.050000          69             130   \n",
       "15497      0.050000   0.000000          55              98   \n",
       "11118      0.083333   0.000000          66             114   \n",
       "17018      0.000000   0.000000          51              97   \n",
       "11165      0.285714   0.178571          45              91   \n",
       "17852      1.000000   0.500000          51              91   \n",
       "1012       0.170833   0.045833          77             132   \n",
       "11328      0.243056  -0.026389          59              92   \n",
       "19541      0.033333  -0.100000          36              58   \n",
       "11301      0.775000  -0.250000          55              97   \n",
       "17030      0.166667   0.016667          64             113   \n",
       "11267      0.704167   0.179167          66             111   \n",
       "17000      0.480000   0.186667          63             101   \n",
       "\n",
       "       flesch_reading_ease  flesch_kincaid_grade  \n",
       "14642                43.90                  16.0  \n",
       "17001                19.20                  17.2  \n",
       "2236                 35.44                  17.1  \n",
       "4944                 16.83                  22.2  \n",
       "11052                24.95                  19.1  \n",
       "19613                42.55                  14.4  \n",
       "15502                14.30                  23.2  \n",
       "17014                37.81                  18.3  \n",
       "971                  21.23                  16.4  \n",
       "19595                36.97                  16.6  \n",
       "15498                30.54                  17.0  \n",
       "19589                34.60                  15.4  \n",
       "19585                11.08                  20.3  \n",
       "15497                26.64                  16.4  \n",
       "11118                29.52                  17.3  \n",
       "17018                20.21                  16.8  \n",
       "11165                14.80                  16.8  \n",
       "17852                28.67                  15.6  \n",
       "1012                 23.94                  19.5  \n",
       "11328                41.53                  14.8  \n",
       "19541                34.94                  17.3  \n",
       "11301                26.64                  16.4  \n",
       "17030                22.08                  18.1  \n",
       "11267                29.52                  17.3  \n",
       "17000                39.50                  15.6  "
      ]
     },
     "execution_count": 27,
     "metadata": {},
     "output_type": "execute_result"
    }
   ],
   "source": [
    "df_save[df_save['real'] == 1].sort_values(by='smog',ascending=True).head(25)"
   ]
  },
  {
   "cell_type": "code",
   "execution_count": 28,
   "id": "0cc651a6",
   "metadata": {},
   "outputs": [
    {
     "data": {
      "text/plain": [
       "(np.int64(1),\n",
       " 'WASHINGTON (Reuters) - U.S. President Barack Obama surprised Vice President Joe Biden on Thursday by awarding him the Presidential Medal of Freedom with Distinction in an emotional White House ceremony that celebrated their partnership over eight years in office. “This is an extraordinary man,” Obama said of his friend and running mate at a surprise ceremony with staff, family and friends of the vice president.  “For the past eight years, he could not have been a more devoted or effective partner in the progress that we’ve made.” Biden, who was unaware that the ceremony would take place,  became visibly moved when Obama said he would bestow on him the highest civil honor in the United States.  It will be the last such award that Obama gives before he and Biden leave office on Jan. 20.  “I had no inkling,” Biden, 74, said after receiving the medal. “I get a lot of credit I don’t deserve,” he said, proceeding to give a roughly 20-minute impromptu speech thanking Obama and honoring the extended Biden family. Biden and Obama became close friends during their time in the White House. Biden was a U.S. senator from Delaware when Obama chose him to be his running mate in his 2008 presidential campaign. The vice president told an anecdote about Obama offering to help the Bidens financially during Biden’s son Beau’s illness. Beau Biden died of brain cancer at age 46 in 2015. First lady Michelle Obama and the Obamas’ daughters, Malia and Sasha, also attended the ceremony. ')"
      ]
     },
     "execution_count": 28,
     "metadata": {},
     "output_type": "execute_result"
    }
   ],
   "source": [
    "df_save[df_save.index == 6354].iloc[1]['real'],df_save[df_save.index == 6354].iloc[1]['text']"
   ]
  },
  {
   "cell_type": "markdown",
   "id": "6b1ebf77",
   "metadata": {},
   "source": [
    "## Analysis"
   ]
  },
  {
   "cell_type": "markdown",
   "id": "0e5cfaf5",
   "metadata": {},
   "source": [
    "### train test split"
   ]
  },
  {
   "cell_type": "code",
   "execution_count": 56,
   "id": "7777e6d5",
   "metadata": {},
   "outputs": [],
   "source": [
    "from sklearn.model_selection import train_test_split\n",
    "\n",
    "# drop the real column\n",
    "df_X = df.copy().drop(columns=['real'])\n",
    "df_y = df['real']\n",
    "\n",
    "# reassign (has no actual use)\n",
    "X = np.array(df_X)\n",
    "y=np.array(df_y)\n",
    "\n",
    "X_train, X_test, y_train, y_test = train_test_split(\n",
    "    X, y, test_size=0.25, random_state=42)\n"
   ]
  },
  {
   "cell_type": "markdown",
   "id": "3e02472d",
   "metadata": {},
   "source": [
    "### Logistic Regression"
   ]
  },
  {
   "cell_type": "code",
   "execution_count": 57,
   "id": "6ffe893e",
   "metadata": {},
   "outputs": [
    {
     "name": "stdout",
     "output_type": "stream",
     "text": [
      "Optimization terminated successfully.\n",
      "         Current function value: 0.129289\n",
      "         Iterations 9\n"
     ]
    },
    {
     "data": {
      "text/html": [
       "<table class=\"simpletable\">\n",
       "<caption>Logit Regression Results</caption>\n",
       "<tr>\n",
       "  <th>Dep. Variable:</th>           <td>y</td>        <th>  No. Observations:  </th>  <td> 33673</td> \n",
       "</tr>\n",
       "<tr>\n",
       "  <th>Model:</th>                 <td>Logit</td>      <th>  Df Residuals:      </th>  <td> 33663</td> \n",
       "</tr>\n",
       "<tr>\n",
       "  <th>Method:</th>                 <td>MLE</td>       <th>  Df Model:          </th>  <td>     9</td> \n",
       "</tr>\n",
       "<tr>\n",
       "  <th>Date:</th>            <td>Sun, 20 Apr 2025</td> <th>  Pseudo R-squ.:     </th>  <td>0.8132</td> \n",
       "</tr>\n",
       "<tr>\n",
       "  <th>Time:</th>                <td>22:15:35</td>     <th>  Log-Likelihood:    </th> <td> -4353.6</td>\n",
       "</tr>\n",
       "<tr>\n",
       "  <th>converged:</th>             <td>True</td>       <th>  LL-Null:           </th> <td> -23307.</td>\n",
       "</tr>\n",
       "<tr>\n",
       "  <th>Covariance Type:</th>        <td>HC1</td>       <th>  LLR p-value:       </th>  <td> 0.000</td> \n",
       "</tr>\n",
       "</table>\n",
       "<table class=\"simpletable\">\n",
       "<tr>\n",
       "   <td></td>      <th>coef</th>     <th>std err</th>      <th>z</th>      <th>P>|z|</th>  <th>[0.025</th>    <th>0.975]</th>  \n",
       "</tr>\n",
       "<tr>\n",
       "  <th>x1</th>  <td>   -0.0744</td> <td>    0.011</td> <td>   -7.019</td> <td> 0.000</td> <td>   -0.095</td> <td>   -0.054</td>\n",
       "</tr>\n",
       "<tr>\n",
       "  <th>x2</th>  <td>    0.1034</td> <td>    0.009</td> <td>   11.801</td> <td> 0.000</td> <td>    0.086</td> <td>    0.121</td>\n",
       "</tr>\n",
       "<tr>\n",
       "  <th>x3</th>  <td>    0.0537</td> <td>    0.013</td> <td>    4.155</td> <td> 0.000</td> <td>    0.028</td> <td>    0.079</td>\n",
       "</tr>\n",
       "<tr>\n",
       "  <th>x4</th>  <td>   -3.1707</td> <td>    0.272</td> <td>  -11.667</td> <td> 0.000</td> <td>   -3.703</td> <td>   -2.638</td>\n",
       "</tr>\n",
       "<tr>\n",
       "  <th>x5</th>  <td>   -0.2725</td> <td>    0.281</td> <td>   -0.968</td> <td> 0.333</td> <td>   -0.824</td> <td>    0.279</td>\n",
       "</tr>\n",
       "<tr>\n",
       "  <th>x6</th>  <td>    0.0072</td> <td>    0.001</td> <td>    8.532</td> <td> 0.000</td> <td>    0.006</td> <td>    0.009</td>\n",
       "</tr>\n",
       "<tr>\n",
       "  <th>x7</th>  <td>   -0.0044</td> <td>    0.001</td> <td>   -8.533</td> <td> 0.000</td> <td>   -0.005</td> <td>   -0.003</td>\n",
       "</tr>\n",
       "<tr>\n",
       "  <th>x8</th>  <td>   -0.0427</td> <td>    0.002</td> <td>  -26.711</td> <td> 0.000</td> <td>   -0.046</td> <td>   -0.040</td>\n",
       "</tr>\n",
       "<tr>\n",
       "  <th>x9</th>  <td>   -0.1193</td> <td>    0.030</td> <td>   -3.956</td> <td> 0.000</td> <td>   -0.178</td> <td>   -0.060</td>\n",
       "</tr>\n",
       "<tr>\n",
       "  <th>x10</th> <td>    8.0538</td> <td>    0.106</td> <td>   76.324</td> <td> 0.000</td> <td>    7.847</td> <td>    8.261</td>\n",
       "</tr>\n",
       "</table>"
      ],
      "text/latex": [
       "\\begin{center}\n",
       "\\begin{tabular}{lclc}\n",
       "\\toprule\n",
       "\\textbf{Dep. Variable:}   &        y         & \\textbf{  No. Observations:  } &    33673    \\\\\n",
       "\\textbf{Model:}           &      Logit       & \\textbf{  Df Residuals:      } &    33663    \\\\\n",
       "\\textbf{Method:}          &       MLE        & \\textbf{  Df Model:          } &        9    \\\\\n",
       "\\textbf{Date:}            & Sun, 20 Apr 2025 & \\textbf{  Pseudo R-squ.:     } &   0.8132    \\\\\n",
       "\\textbf{Time:}            &     22:15:35     & \\textbf{  Log-Likelihood:    } &   -4353.6   \\\\\n",
       "\\textbf{converged:}       &       True       & \\textbf{  LL-Null:           } &   -23307.   \\\\\n",
       "\\textbf{Covariance Type:} &       HC1        & \\textbf{  LLR p-value:       } &    0.000    \\\\\n",
       "\\bottomrule\n",
       "\\end{tabular}\n",
       "\\begin{tabular}{lcccccc}\n",
       "             & \\textbf{coef} & \\textbf{std err} & \\textbf{z} & \\textbf{P$> |$z$|$} & \\textbf{[0.025} & \\textbf{0.975]}  \\\\\n",
       "\\midrule\n",
       "\\textbf{x1}  &      -0.0744  &        0.011     &    -7.019  &         0.000        &       -0.095    &       -0.054     \\\\\n",
       "\\textbf{x2}  &       0.1034  &        0.009     &    11.801  &         0.000        &        0.086    &        0.121     \\\\\n",
       "\\textbf{x3}  &       0.0537  &        0.013     &     4.155  &         0.000        &        0.028    &        0.079     \\\\\n",
       "\\textbf{x4}  &      -3.1707  &        0.272     &   -11.667  &         0.000        &       -3.703    &       -2.638     \\\\\n",
       "\\textbf{x5}  &      -0.2725  &        0.281     &    -0.968  &         0.333        &       -0.824    &        0.279     \\\\\n",
       "\\textbf{x6}  &       0.0072  &        0.001     &     8.532  &         0.000        &        0.006    &        0.009     \\\\\n",
       "\\textbf{x7}  &      -0.0044  &        0.001     &    -8.533  &         0.000        &       -0.005    &       -0.003     \\\\\n",
       "\\textbf{x8}  &      -0.0427  &        0.002     &   -26.711  &         0.000        &       -0.046    &       -0.040     \\\\\n",
       "\\textbf{x9}  &      -0.1193  &        0.030     &    -3.956  &         0.000        &       -0.178    &       -0.060     \\\\\n",
       "\\textbf{x10} &       8.0538  &        0.106     &    76.324  &         0.000        &        7.847    &        8.261     \\\\\n",
       "\\bottomrule\n",
       "\\end{tabular}\n",
       "%\\caption{Logit Regression Results}\n",
       "\\end{center}"
      ],
      "text/plain": [
       "<class 'statsmodels.iolib.summary.Summary'>\n",
       "\"\"\"\n",
       "                           Logit Regression Results                           \n",
       "==============================================================================\n",
       "Dep. Variable:                      y   No. Observations:                33673\n",
       "Model:                          Logit   Df Residuals:                    33663\n",
       "Method:                           MLE   Df Model:                            9\n",
       "Date:                Sun, 20 Apr 2025   Pseudo R-squ.:                  0.8132\n",
       "Time:                        22:15:35   Log-Likelihood:                -4353.6\n",
       "converged:                       True   LL-Null:                       -23307.\n",
       "Covariance Type:                  HC1   LLR p-value:                     0.000\n",
       "==============================================================================\n",
       "                 coef    std err          z      P>|z|      [0.025      0.975]\n",
       "------------------------------------------------------------------------------\n",
       "x1            -0.0744      0.011     -7.019      0.000      -0.095      -0.054\n",
       "x2             0.1034      0.009     11.801      0.000       0.086       0.121\n",
       "x3             0.0537      0.013      4.155      0.000       0.028       0.079\n",
       "x4            -3.1707      0.272    -11.667      0.000      -3.703      -2.638\n",
       "x5            -0.2725      0.281     -0.968      0.333      -0.824       0.279\n",
       "x6             0.0072      0.001      8.532      0.000       0.006       0.009\n",
       "x7            -0.0044      0.001     -8.533      0.000      -0.005      -0.003\n",
       "x8            -0.0427      0.002    -26.711      0.000      -0.046      -0.040\n",
       "x9            -0.1193      0.030     -3.956      0.000      -0.178      -0.060\n",
       "x10            8.0538      0.106     76.324      0.000       7.847       8.261\n",
       "==============================================================================\n",
       "\"\"\""
      ]
     },
     "execution_count": 57,
     "metadata": {},
     "output_type": "execute_result"
    }
   ],
   "source": [
    "# robust standard errors because of heteroskedasticity\n",
    "\n",
    "model = sm.Logit(y_train, X_train).fit(cov_type='HC1')\n",
    "model.summary()"
   ]
  },
  {
   "cell_type": "markdown",
   "id": "79083375",
   "metadata": {},
   "source": [
    "### overfit detection\n",
    "\n",
    "we didn't discuss any of the assumptions of LR so we have to check for overfitting"
   ]
  },
  {
   "cell_type": "code",
   "execution_count": 58,
   "id": "d4ba08a8",
   "metadata": {},
   "outputs": [
    {
     "name": "stdout",
     "output_type": "stream",
     "text": [
      "accuracy of the model: 96.41870824053453%\n",
      "f1_score: 0.9613907030349597\n",
      "confusion matrix: [[5818   77]\n",
      " [ 325 5005]]\n"
     ]
    }
   ],
   "source": [
    "y_pred = model.predict(X_test)\n",
    "y_pred = np.round(y_pred)\n",
    "\n",
    "c_matrix = np.array([[0,0],\n",
    "            [0,0]])\n",
    "\n",
    "for i in range(0,len(y_test)):\n",
    "    y_val = int(y_test[i])\n",
    "    y_hat_val = int(y_pred[i])\n",
    "    c_matrix[y_val][y_hat_val] += 1\n",
    "\n",
    "# compute the accuracy\n",
    "print(f'accuracy of the model: {(c_matrix[0][0] + c_matrix [1][1]) / c_matrix.sum() * 100}%')\n",
    "\n",
    "# compute the f1 score\n",
    "\n",
    "# pres is TP/(TP + FP)\n",
    "pres = c_matrix[1][1] / (c_matrix[1][1] + c_matrix[0][1])\n",
    "\n",
    "# recall is TP / (TP + FN)\n",
    "recall = c_matrix[1][1] / (c_matrix[1][1] + c_matrix[1][0])\n",
    "print\n",
    "# f1 score\n",
    "f1_score = (2 * pres * recall) / (pres + recall)\n",
    "print(f'f1_score: {f1_score}')\n",
    "print(f'confusion matrix: {c_matrix}')"
   ]
  },
  {
   "cell_type": "code",
   "execution_count": 59,
   "id": "9953f94f",
   "metadata": {},
   "outputs": [
    {
     "name": "stderr",
     "output_type": "stream",
     "text": [
      "/Users/leogordon/Desktop/DIS/Big Data Env/Assignments/Final_Project/.venv/lib/python3.12/site-packages/xgboost/training.py:183: UserWarning: [22:15:51] WARNING: /Users/runner/work/xgboost/xgboost/src/learner.cc:738: \n",
      "Parameters: { \"use_label_encoder\" } are not used.\n",
      "\n",
      "  bst.update(dtrain, iteration=i, fobj=obj)\n"
     ]
    },
    {
     "name": "stdout",
     "output_type": "stream",
     "text": [
      "Accuracy: 0.970489977728285\n",
      "Confusion Matrix:\n",
      " [[4667   66]\n",
      " [ 199 4048]]\n",
      "Classification Report:\n",
      "               precision    recall  f1-score   support\n",
      "\n",
      "           0       0.96      0.99      0.97      4733\n",
      "           1       0.98      0.95      0.97      4247\n",
      "\n",
      "    accuracy                           0.97      8980\n",
      "   macro avg       0.97      0.97      0.97      8980\n",
      "weighted avg       0.97      0.97      0.97      8980\n",
      "\n"
     ]
    }
   ],
   "source": [
    "from xgboost import XGBClassifier\n",
    "from sklearn.model_selection import train_test_split\n",
    "from sklearn.metrics import accuracy_score, confusion_matrix, classification_report\n",
    "\n",
    "X = df.copy().drop(columns=['real'])\n",
    "y = df['real']\n",
    "\n",
    "X_train, X_test, y_train, y_test = train_test_split(X, y, test_size=0.2, random_state=42)\n",
    "\n",
    "model = XGBClassifier(eval_metric='mlogloss', use_label_encoder=False, n_estimators=1000, max_depth=10, learning_rate=0.1, )\n",
    "model.fit(X_train, y_train)\n",
    "\n",
    "y_pred = model.predict(X_test)\n",
    "\n",
    "print(\"Accuracy:\", accuracy_score(y_test, y_pred))\n",
    "print(\"Confusion Matrix:\\n\", confusion_matrix(y_test, y_pred))\n",
    "print(\"Classification Report:\\n\", classification_report(y_test, y_pred))\n"
   ]
  },
  {
   "cell_type": "markdown",
   "id": "9689da6a",
   "metadata": {},
   "source": [
    "### SHAP importance"
   ]
  },
  {
   "cell_type": "code",
   "execution_count": 60,
   "id": "cc3443d1",
   "metadata": {},
   "outputs": [
    {
     "name": "stderr",
     "output_type": "stream",
     "text": [
      "/var/folders/zk/32z6vfcs7xjb7_k4dwp2r63c0000gn/T/ipykernel_2992/2404237598.py:6: FutureWarning: The NumPy global RNG was seeded by calling `np.random.seed`. In a future version this function will no longer use the global RNG. Pass `rng` explicitly to opt-in to the new behaviour and silence this warning.\n",
      "  shap.summary_plot(shap_values, X_test_subset, plot_type=\"bar\", feature_names=X.columns)\n"
     ]
    },
    {
     "data": {
      "image/png": "[encoded data removed]",
      "text/plain": [
       "<Figure size 800x550 with 1 Axes>"
      ]
     },
     "metadata": {},
     "output_type": "display_data"
    },
    {
     "name": "stderr",
     "output_type": "stream",
     "text": [
      "/var/folders/zk/32z6vfcs7xjb7_k4dwp2r63c0000gn/T/ipykernel_2992/2404237598.py:7: FutureWarning: The NumPy global RNG was seeded by calling `np.random.seed`. In a future version this function will no longer use the global RNG. Pass `rng` explicitly to opt-in to the new behaviour and silence this warning.\n",
      "  shap.summary_plot(shap_values, X_test_subset, feature_names=X.columns)\n"
     ]
    },
    {
     "data": {
      "image/png": "[encoded data removed]",
      "text/plain": [
       "<Figure size 800x550 with 2 Axes>"
      ]
     },
     "metadata": {},
     "output_type": "display_data"
    },
    {
     "data": {
      "text/html": [
       "<div align='center'><img src='data:image/png;base64,iVBORw0KGgoAAAANSUhEUgAAABkAAAAWCAYAAAA1vze2AAAAGXRFWHRTb2Z0d2FyZQBBZG9iZSBJbWFnZVJlYWR5ccllPAAAAdxJREFUeNq0Vt1Rg0AQJjcpgBJiBWIFkgoMFYhPPAIVECogPuYpdJBYgXQQrMCUkA50V7+d2ZwXuXPGm9khHLu3f9+3l1nkWNvtNqfHLgpfQ1EUS3tz5nAQ0+NIsiAZSc6eDlI8M3J00B/mDuUKDk6kfOebAgW3pkdD0pFcODGW4gKKvOrAUm04MA4QDt1OEIXU9hDigfS5rC1eS5T90gltck1Xrizo257kgySZcNRzgCSxCvgiE9nckPJo2b/B2AcEkk2OwL8bD8gmOKR1GPbaCUqxEgTq0tLvgb6zfo7+DgYGkkWL2tqLDV4RSITfbHPPfJKIrWz4nJQTMPAWA7IbD6imcNaDeDfgk+4No+wZr40BL3g9eQJJCFqRQ54KiSt72lsLpE3o3MCBSxDuq4yOckU2hKXRuwBH3OyMR4g1UpyTYw6mlmBqNdUXRM1NfyF5EPI6JkcpIDBIX8jX6DR/6ckAZJ0wEAdLR8DEk6OfC1Pp8BKo6TQIwPJbvJ6toK5lmuvJoRtfK6Ym1iRYIarRo2UyYHvRN5qpakR3yoizWrouoyuXXQqI185LCw07op5ZyCRGL99h24InP0e9xdQukEKVmhzrqZuRIfwISB//cP3Wk3f8f/yR+BRgAHu00HjLcEQBAAAAAElFTkSuQmCC' /></div><script charset='utf-8'>/*! For license information please see bundle.js.LICENSE.txt */\n",
       "(()=>{var e,t,n={221:(e,t,n)=>{\"use strict\";var r=n(540);function a(e){var t=\"https://react.dev/errors/\"+e;if(1<arguments.length){t+=\"?args[]=\"+encodeURIComponent(arguments[1]);for(var n=2;n<arguments.length;n++)t+=\"&args[]=\"+encodeURIComponent(arguments[n])}return\"Minified React error #\"+e+\"; visit \"+t+\" for the full message or use the non-minified dev environment for full errors and additional helpful warnings.\"}function i(){}var o={d:{f:i,r:function(){throw Error(a(522))},D:i,C:i,L:i,m:i,X:i,S:i,M:i},p:0,findDOMNode:null},u=Symbol.for(\"react.portal\"),l=r.__CLIENT_INTERNALS_DO_NOT_USE_OR_WARN_USERS_THEY_CANNOT_UPGRADE;function s(e,t){return\"font\"===e?\"\":\"string\"==typeof t?\"use-credentials\"===t?t:\"\":void 0}t.__DOM_INTERNALS_DO_NOT_USE_OR_WARN_USERS_THEY_CANNOT_UPGRADE=o,t.createPortal=function(e,t){var n=2<arguments.length&&void 0!==arguments[2]?arguments[2]:null;if(!t||1!==t.nodeType&&9!==t.nodeType&&11!==t.nodeType)throw Error(a(299));return function(e,t,n){var r=3<arguments.length&&void 0!==arguments[3]?arguments[3]:null;return{$$typeof:u,key:null==r?null:\"\"+r,children:e,containerInfo:t,implementation:n}}(e,t,null,n)},t.flushSync=function(e){var t=l.T,n=o.p;try{if(l.T=null,o.p=2,e)return e()}finally{l.T=t,o.p=n,o.d.f()}},t.preconnect=function(e,t){\"string\"==typeof e&&(t=t?\"string\"==typeof(t=t.crossOrigin)?\"use-credentials\"===t?t:\"\":void 0:null,o.d.C(e,t))},t.prefetchDNS=function(e){\"string\"==typeof e&&o.d.D(e)},t.preinit=function(e,t){if(\"string\"==typeof e&&t&&\"string\"==typeof t.as){var n=t.as,r=s(n,t.crossOrigin),a=\"string\"==typeof t.integrity?t.integrity:void 0,i=\"string\"==typeof t.fetchPriority?t.fetchPriority:void 0;\"style\"===n?o.d.S(e,\"string\"==typeof t.precedence?t.precedence:void 0,{crossOrigin:r,integrity:a,fetchPriority:i}):\"script\"===n&&o.d.X(e,{crossOrigin:r,integrity:a,fetchPriority:i,nonce:\"string\"==typeof t.nonce?t.nonce:void 0})}},t.preinitModule=function(e,t){if(\"string\"==typeof e)if(\"object\"==typeof t&&null!==t){if(null==t.as||\"script\"===t.as){var n=s(t.as,t.crossOrigin);o.d.M(e,{crossOrigin:n,integrity:\"string\"==typeof t.integrity?t.integrity:void 0,nonce:\"string\"==typeof t.nonce?t.nonce:void 0})}}else null==t&&o.d.M(e)},t.preload=function(e,t){if(\"string\"==typeof e&&\"object\"==typeof t&&null!==t&&\"string\"==typeof t.as){var n=t.as,r=s(n,t.crossOrigin);o.d.L(e,n,{crossOrigin:r,integrity:\"string\"==typeof t.integrity?t.integrity:void 0,nonce:\"string\"==typeof t.nonce?t.nonce:void 0,type:\"string\"==typeof t.type?t.type:void 0,fetchPriority:\"string\"==typeof t.fetchPriority?t.fetchPriority:void 0,referrerPolicy:\"string\"==typeof t.referrerPolicy?t.referrerPolicy:void 0,imageSrcSet:\"string\"==typeof t.imageSrcSet?t.imageSrcSet:void 0,imageSizes:\"string\"==typeof t.imageSizes?t.imageSizes:void 0,media:\"string\"==typeof t.media?t.media:void 0})}},t.preloadModule=function(e,t){if(\"string\"==typeof e)if(t){var n=s(t.as,t.crossOrigin);o.d.m(e,{as:\"string\"==typeof t.as&&\"script\"!==t.as?t.as:void 0,crossOrigin:n,integrity:\"string\"==typeof t.integrity?t.integrity:void 0})}else o.d.m(e)},t.requestFormReset=function(e){o.d.r(e)},t.unstable_batchedUpdates=function(e,t){return e(t)},t.useFormState=function(e,t,n){return l.H.useFormState(e,t,n)},t.useFormStatus=function(){return l.H.useHostTransitionStatus()},t.version=\"19.0.0\"},247:(e,t,n)=>{\"use strict\";var r=n(982),a=n(540),i=n(961);function o(e){var t=\"https://react.dev/errors/\"+e;if(1<arguments.length){t+=\"?args[]=\"+encodeURIComponent(arguments[1]);for(var n=2;n<arguments.length;n++)t+=\"&args[]=\"+encodeURIComponent(arguments[n])}return\"Minified React error #\"+e+\"; visit \"+t+\" for the full message or use the non-minified dev environment for full errors and additional helpful warnings.\"}function u(e){return!(!e||1!==e.nodeType&&9!==e.nodeType&&11!==e.nodeType)}var l=Symbol.for(\"react.element\"),s=Symbol.for(\"react.transitional.element\"),c=Symbol.for(\"react.portal\"),f=Symbol.for(\"react.fragment\"),d=Symbol.for(\"react.strict_mode\"),p=Symbol.for(\"react.profiler\"),h=Symbol.for(\"react.provider\"),g=Symbol.for(\"react.consumer\"),v=Symbol.for(\"react.context\"),m=Symbol.for(\"react.forward_ref\"),y=Symbol.for(\"react.suspense\"),b=Symbol.for(\"react.suspense_list\"),w=Symbol.for(\"react.memo\"),_=Symbol.for(\"react.lazy\");Symbol.for(\"react.scope\"),Symbol.for(\"react.debug_trace_mode\");var k=Symbol.for(\"react.offscreen\");Symbol.for(\"react.legacy_hidden\"),Symbol.for(\"react.tracing_marker\");var x=Symbol.for(\"react.memo_cache_sentinel\"),S=Symbol.iterator;function E(e){return null===e||\"object\"!=typeof e?null:\"function\"==typeof(e=S&&e[S]||e[\"@@iterator\"])?e:null}var C=Symbol.for(\"react.client.reference\");function T(e){if(null==e)return null;if(\"function\"==typeof e)return e.$$typeof===C?null:e.displayName||e.name||null;if(\"string\"==typeof e)return e;switch(e){case f:return\"Fragment\";case c:return\"Portal\";case p:return\"Profiler\";case d:return\"StrictMode\";case y:return\"Suspense\";case b:return\"SuspenseList\"}if(\"object\"==typeof e)switch(e.$$typeof){case v:return(e.displayName||\"Context\")+\".Provider\";case g:return(e._context.displayName||\"Context\")+\".Consumer\";case m:var t=e.render;return(e=e.displayName)||(e=\"\"!==(e=t.displayName||t.name||\"\")?\"ForwardRef(\"+e+\")\":\"ForwardRef\"),e;case w:return null!==(t=e.displayName||null)?t:T(e.type)||\"Memo\";case _:t=e._payload,e=e._init;try{return T(e(t))}catch(e){}}return null}var P,z,N=a.__CLIENT_INTERNALS_DO_NOT_USE_OR_WARN_USERS_THEY_CANNOT_UPGRADE,M=Object.assign;function A(e){if(void 0===P)try{throw Error()}catch(e){var t=e.stack.trim().match(/\\n( *(at )?)/);P=t&&t[1]||\"\",z=-1<e.stack.indexOf(\"\\n    at\")?\" (<anonymous>)\":-1<e.stack.indexOf(\"@\")?\"@unknown:0:0\":\"\"}return\"\\n\"+P+e+z}var O=!1;function L(e,t){if(!e||O)return\"\";O=!0;var n=Error.prepareStackTrace;Error.prepareStackTrace=void 0;try{var r={DetermineComponentFrameRoot:function(){try{if(t){var n=function(){throw Error()};if(Object.defineProperty(n.prototype,\"props\",{set:function(){throw Error()}}),\"object\"==typeof Reflect&&Reflect.construct){try{Reflect.construct(n,[])}catch(e){var r=e}Reflect.construct(e,[],n)}else{try{n.call()}catch(e){r=e}e.call(n.prototype)}}else{try{throw Error()}catch(e){r=e}(n=e())&&\"function\"==typeof n.catch&&n.catch((function(){}))}}catch(e){if(e&&r&&\"string\"==typeof e.stack)return[e.stack,r.stack]}return[null,null]}};r.DetermineComponentFrameRoot.displayName=\"DetermineComponentFrameRoot\";var a=Object.getOwnPropertyDescriptor(r.DetermineComponentFrameRoot,\"name\");a&&a.configurable&&Object.defineProperty(r.DetermineComponentFrameRoot,\"name\",{value:\"DetermineComponentFrameRoot\"});var i=r.DetermineComponentFrameRoot(),o=i[0],u=i[1];if(o&&u){var l=o.split(\"\\n\"),s=u.split(\"\\n\");for(a=r=0;r<l.length&&!l[r].includes(\"DetermineComponentFrameRoot\");)r++;for(;a<s.length&&!s[a].includes(\"DetermineComponentFrameRoot\");)a++;if(r===l.length||a===s.length)for(r=l.length-1,a=s.length-1;1<=r&&0<=a&&l[r]!==s[a];)a--;for(;1<=r&&0<=a;r--,a--)if(l[r]!==s[a]){if(1!==r||1!==a)do{if(r--,0>--a||l[r]!==s[a]){var c=\"\\n\"+l[r].replace(\" at new \",\" at \");return e.displayName&&c.includes(\"<anonymous>\")&&(c=c.replace(\"<anonymous>\",e.displayName)),c}}while(1<=r&&0<=a);break}}}finally{O=!1,Error.prepareStackTrace=n}return(n=e?e.displayName||e.name:\"\")?A(n):\"\"}function F(e){switch(e.tag){case 26:case 27:case 5:return A(e.type);case 16:return A(\"Lazy\");case 13:return A(\"Suspense\");case 19:return A(\"SuspenseList\");case 0:case 15:return L(e.type,!1);case 11:return L(e.type.render,!1);case 1:return L(e.type,!0);default:return\"\"}}function D(e){try{var t=\"\";do{t+=F(e),e=e.return}while(e);return t}catch(e){return\"\\nError generating stack: \"+e.message+\"\\n\"+e.stack}}function R(e){var t=e,n=e;if(e.alternate)for(;t.return;)t=t.return;else{e=t;do{!!(4098&(t=e).flags)&&(n=t.return),e=t.return}while(e)}return 3===t.tag?n:null}function j(e){if(13===e.tag){var t=e.memoizedState;if(null===t&&null!==(e=e.alternate)&&(t=e.memoizedState),null!==t)return t.dehydrated}return null}function U(e){if(R(e)!==e)throw Error(o(188))}function I(e){var t=e.tag;if(5===t||26===t||27===t||6===t)return e;for(e=e.child;null!==e;){if(null!==(t=I(e)))return t;e=e.sibling}return null}var $=Array.isArray,B=i.__DOM_INTERNALS_DO_NOT_USE_OR_WARN_USERS_THEY_CANNOT_UPGRADE,H={pending:!1,data:null,method:null,action:null},V=[],W=-1;function q(e){return{current:e}}function Q(e){0>W||(e.current=V[W],V[W]=null,W--)}function Y(e,t){W++,V[W]=e.current,e.current=t}var G=q(null),K=q(null),X=q(null),Z=q(null);function J(e,t){switch(Y(X,t),Y(K,e),Y(G,null),e=t.nodeType){case 9:case 11:t=(t=t.documentElement)&&(t=t.namespaceURI)?Kc(t):0;break;default:if(t=(e=8===e?t.parentNode:t).tagName,e=e.namespaceURI)t=Xc(e=Kc(e),t);else switch(t){case\"svg\":t=1;break;case\"math\":t=2;break;default:t=0}}Q(G),Y(G,t)}function ee(){Q(G),Q(K),Q(X)}function te(e){null!==e.memoizedState&&Y(Z,e);var t=G.current,n=Xc(t,e.type);t!==n&&(Y(K,e),Y(G,n))}function ne(e){K.current===e&&(Q(G),Q(K)),Z.current===e&&(Q(Z),Rf._currentValue=H)}var re=Object.prototype.hasOwnProperty,ae=r.unstable_scheduleCallback,ie=r.unstable_cancelCallback,oe=r.unstable_shouldYield,ue=r.unstable_requestPaint,le=r.unstable_now,se=r.unstable_getCurrentPriorityLevel,ce=r.unstable_ImmediatePriority,fe=r.unstable_UserBlockingPriority,de=r.unstable_NormalPriority,pe=r.unstable_LowPriority,he=r.unstable_IdlePriority,ge=r.log,ve=r.unstable_setDisableYieldValue,me=null,ye=null;function be(e){if(\"function\"==typeof ge&&ve(e),ye&&\"function\"==typeof ye.setStrictMode)try{ye.setStrictMode(me,e)}catch(e){}}var we=Math.clz32?Math.clz32:function(e){return 0==(e>>>=0)?32:31-(_e(e)/ke|0)|0},_e=Math.log,ke=Math.LN2,xe=128,Se=4194304;function Ee(e){var t=42&e;if(0!==t)return t;switch(e&-e){case 1:return 1;case 2:return 2;case 4:return 4;case 8:return 8;case 16:return 16;case 32:return 32;case 64:return 64;case 128:case 256:case 512:case 1024:case 2048:case 4096:case 8192:case 16384:case 32768:case 65536:case 131072:case 262144:case 524288:case 1048576:case 2097152:return 4194176&e;case 4194304:case 8388608:case 16777216:case 33554432:return 62914560&e;case 67108864:return 67108864;case 134217728:return 134217728;case 268435456:return 268435456;case 536870912:return 536870912;case 1073741824:return 0;default:return e}}function Ce(e,t){var n=e.pendingLanes;if(0===n)return 0;var r=0,a=e.suspendedLanes,i=e.pingedLanes,o=e.warmLanes;e=0!==e.finishedLanes;var u=134217727&n;return 0!==u?0!=(n=u&~a)?r=Ee(n):0!=(i&=u)?r=Ee(i):e||0!=(o=u&~o)&&(r=Ee(o)):0!=(u=n&~a)?r=Ee(u):0!==i?r=Ee(i):e||0!=(o=n&~o)&&(r=Ee(o)),0===r?0:0===t||t===r||t&a||!((a=r&-r)>=(o=t&-t)||32===a&&4194176&o)?r:t}function Te(e,t){return!(e.pendingLanes&~(e.suspendedLanes&~e.pingedLanes)&t)}function Pe(e,t){switch(e){case 1:case 2:case 4:case 8:return t+250;case 16:case 32:case 64:case 128:case 256:case 512:case 1024:case 2048:case 4096:case 8192:case 16384:case 32768:case 65536:case 131072:case 262144:case 524288:case 1048576:case 2097152:return t+5e3;default:return-1}}function ze(){var e=xe;return!(4194176&(xe<<=1))&&(xe=128),e}function Ne(){var e=Se;return!(62914560&(Se<<=1))&&(Se=4194304),e}function Me(e){for(var t=[],n=0;31>n;n++)t.push(e);return t}function Ae(e,t){e.pendingLanes|=t,268435456!==t&&(e.suspendedLanes=0,e.pingedLanes=0,e.warmLanes=0)}function Oe(e,t,n){e.pendingLanes|=t,e.suspendedLanes&=~t;var r=31-we(t);e.entangledLanes|=t,e.entanglements[r]=1073741824|e.entanglements[r]|4194218&n}function Le(e,t){var n=e.entangledLanes|=t;for(e=e.entanglements;n;){var r=31-we(n),a=1<<r;a&t|e[r]&t&&(e[r]|=t),n&=~a}}function Fe(e){return 2<(e&=-e)?8<e?134217727&e?32:268435456:8:2}function De(){var e=B.p;return 0!==e?e:void 0===(e=window.event)?32:Zf(e.type)}var Re=Math.random().toString(36).slice(2),je=\"__reactFiber$\"+Re,Ue=\"__reactProps$\"+Re,Ie=\"__reactContainer$\"+Re,$e=\"__reactEvents$\"+Re,Be=\"__reactListeners$\"+Re,He=\"__reactHandles$\"+Re,Ve=\"__reactResources$\"+Re,We=\"__reactMarker$\"+Re;function qe(e){delete e[je],delete e[Ue],delete e[$e],delete e[Be],delete e[He]}function Qe(e){var t=e[je];if(t)return t;for(var n=e.parentNode;n;){if(t=n[Ie]||n[je]){if(n=t.alternate,null!==t.child||null!==n&&null!==n.child)for(e=sf(e);null!==e;){if(n=e[je])return n;e=sf(e)}return t}n=(e=n).parentNode}return null}function Ye(e){if(e=e[je]||e[Ie]){var t=e.tag;if(5===t||6===t||13===t||26===t||27===t||3===t)return e}return null}function Ge(e){var t=e.tag;if(5===t||26===t||27===t||6===t)return e.stateNode;throw Error(o(33))}function Ke(e){var t=e[Ve];return t||(t=e[Ve]={hoistableStyles:new Map,hoistableScripts:new Map}),t}function Xe(e){e[We]=!0}var Ze=new Set,Je={};function et(e,t){tt(e,t),tt(e+\"Capture\",t)}function tt(e,t){for(Je[e]=t,e=0;e<t.length;e++)Ze.add(t[e])}var nt=!(\"undefined\"==typeof window||void 0===window.document||void 0===window.document.createElement),rt=RegExp(\"^[:A-Z_a-z\\\\u00C0-\\\\u00D6\\\\u00D8-\\\\u00F6\\\\u00F8-\\\\u02FF\\\\u0370-\\\\u037D\\\\u037F-\\\\u1FFF\\\\u200C-\\\\u200D\\\\u2070-\\\\u218F\\\\u2C00-\\\\u2FEF\\\\u3001-\\\\uD7FF\\\\uF900-\\\\uFDCF\\\\uFDF0-\\\\uFFFD][:A-Z_a-z\\\\u00C0-\\\\u00D6\\\\u00D8-\\\\u00F6\\\\u00F8-\\\\u02FF\\\\u0370-\\\\u037D\\\\u037F-\\\\u1FFF\\\\u200C-\\\\u200D\\\\u2070-\\\\u218F\\\\u2C00-\\\\u2FEF\\\\u3001-\\\\uD7FF\\\\uF900-\\\\uFDCF\\\\uFDF0-\\\\uFFFD\\\\-.0-9\\\\u00B7\\\\u0300-\\\\u036F\\\\u203F-\\\\u2040]*$\"),at={},it={};function ot(e,t,n){if(a=t,re.call(it,a)||!re.call(at,a)&&(rt.test(a)?it[a]=!0:(at[a]=!0,0)))if(null===n)e.removeAttribute(t);else{switch(typeof n){case\"undefined\":case\"function\":case\"symbol\":return void e.removeAttribute(t);case\"boolean\":var r=t.toLowerCase().slice(0,5);if(\"data-\"!==r&&\"aria-\"!==r)return void e.removeAttribute(t)}e.setAttribute(t,\"\"+n)}var a}function ut(e,t,n){if(null===n)e.removeAttribute(t);else{switch(typeof n){case\"undefined\":case\"function\":case\"symbol\":case\"boolean\":return void e.removeAttribute(t)}e.setAttribute(t,\"\"+n)}}function lt(e,t,n,r){if(null===r)e.removeAttribute(n);else{switch(typeof r){case\"undefined\":case\"function\":case\"symbol\":case\"boolean\":return void e.removeAttribute(n)}e.setAttributeNS(t,n,\"\"+r)}}function st(e){switch(typeof e){case\"bigint\":case\"boolean\":case\"number\":case\"string\":case\"undefined\":case\"object\":return e;default:return\"\"}}function ct(e){var t=e.type;return(e=e.nodeName)&&\"input\"===e.toLowerCase()&&(\"checkbox\"===t||\"radio\"===t)}function ft(e){e._valueTracker||(e._valueTracker=function(e){var t=ct(e)?\"checked\":\"value\",n=Object.getOwnPropertyDescriptor(e.constructor.prototype,t),r=\"\"+e[t];if(!e.hasOwnProperty(t)&&void 0!==n&&\"function\"==typeof n.get&&\"function\"==typeof n.set){var a=n.get,i=n.set;return Object.defineProperty(e,t,{configurable:!0,get:function(){return a.call(this)},set:function(e){r=\"\"+e,i.call(this,e)}}),Object.defineProperty(e,t,{enumerable:n.enumerable}),{getValue:function(){return r},setValue:function(e){r=\"\"+e},stopTracking:function(){e._valueTracker=null,delete e[t]}}}}(e))}function dt(e){if(!e)return!1;var t=e._valueTracker;if(!t)return!0;var n=t.getValue(),r=\"\";return e&&(r=ct(e)?e.checked?\"true\":\"false\":e.value),(e=r)!==n&&(t.setValue(e),!0)}function pt(e){if(void 0===(e=e||(\"undefined\"!=typeof document?document:void 0)))return null;try{return e.activeElement||e.body}catch(t){return e.body}}var ht=/[\\n\"\\\\]/g;function gt(e){return e.replace(ht,(function(e){return\"\\\\\"+e.charCodeAt(0).toString(16)+\" \"}))}function vt(e,t,n,r,a,i,o,u){e.name=\"\",null!=o&&\"function\"!=typeof o&&\"symbol\"!=typeof o&&\"boolean\"!=typeof o?e.type=o:e.removeAttribute(\"type\"),null!=t?\"number\"===o?(0===t&&\"\"===e.value||e.value!=t)&&(e.value=\"\"+st(t)):e.value!==\"\"+st(t)&&(e.value=\"\"+st(t)):\"submit\"!==o&&\"reset\"!==o||e.removeAttribute(\"value\"),null!=t?yt(e,o,st(t)):null!=n?yt(e,o,st(n)):null!=r&&e.removeAttribute(\"value\"),null==a&&null!=i&&(e.defaultChecked=!!i),null!=a&&(e.checked=a&&\"function\"!=typeof a&&\"symbol\"!=typeof a),null!=u&&\"function\"!=typeof u&&\"symbol\"!=typeof u&&\"boolean\"!=typeof u?e.name=\"\"+st(u):e.removeAttribute(\"name\")}function mt(e,t,n,r,a,i,o,u){if(null!=i&&\"function\"!=typeof i&&\"symbol\"!=typeof i&&\"boolean\"!=typeof i&&(e.type=i),null!=t||null!=n){if((\"submit\"===i||\"reset\"===i)&&null==t)return;n=null!=n?\"\"+st(n):\"\",t=null!=t?\"\"+st(t):n,u||t===e.value||(e.value=t),e.defaultValue=t}r=\"function\"!=typeof(r=null!=r?r:a)&&\"symbol\"!=typeof r&&!!r,e.checked=u?e.checked:!!r,e.defaultChecked=!!r,null!=o&&\"function\"!=typeof o&&\"symbol\"!=typeof o&&\"boolean\"!=typeof o&&(e.name=o)}function yt(e,t,n){\"number\"===t&&pt(e.ownerDocument)===e||e.defaultValue===\"\"+n||(e.defaultValue=\"\"+n)}function bt(e,t,n,r){if(e=e.options,t){t={};for(var a=0;a<n.length;a++)t[\"$\"+n[a]]=!0;for(n=0;n<e.length;n++)a=t.hasOwnProperty(\"$\"+e[n].value),e[n].selected!==a&&(e[n].selected=a),a&&r&&(e[n].defaultSelected=!0)}else{for(n=\"\"+st(n),t=null,a=0;a<e.length;a++){if(e[a].value===n)return e[a].selected=!0,void(r&&(e[a].defaultSelected=!0));null!==t||e[a].disabled||(t=e[a])}null!==t&&(t.selected=!0)}}function wt(e,t,n){null==t||((t=\"\"+st(t))!==e.value&&(e.value=t),null!=n)?e.defaultValue=null!=n?\"\"+st(n):\"\":e.defaultValue!==t&&(e.defaultValue=t)}function _t(e,t,n,r){if(null==t){if(null!=r){if(null!=n)throw Error(o(92));if($(r)){if(1<r.length)throw Error(o(93));r=r[0]}n=r}null==n&&(n=\"\"),t=n}n=st(t),e.defaultValue=n,(r=e.textContent)===n&&\"\"!==r&&null!==r&&(e.value=r)}function kt(e,t){if(t){var n=e.firstChild;if(n&&n===e.lastChild&&3===n.nodeType)return void(n.nodeValue=t)}e.textContent=t}var xt=new Set(\"animationIterationCount aspectRatio borderImageOutset borderImageSlice borderImageWidth boxFlex boxFlexGroup boxOrdinalGroup columnCount columns flex flexGrow flexPositive flexShrink flexNegative flexOrder gridArea gridRow gridRowEnd gridRowSpan gridRowStart gridColumn gridColumnEnd gridColumnSpan gridColumnStart fontWeight lineClamp lineHeight opacity order orphans scale tabSize widows zIndex zoom fillOpacity floodOpacity stopOpacity strokeDasharray strokeDashoffset strokeMiterlimit strokeOpacity strokeWidth MozAnimationIterationCount MozBoxFlex MozBoxFlexGroup MozLineClamp msAnimationIterationCount msFlex msZoom msFlexGrow msFlexNegative msFlexOrder msFlexPositive msFlexShrink msGridColumn msGridColumnSpan msGridRow msGridRowSpan WebkitAnimationIterationCount WebkitBoxFlex WebKitBoxFlexGroup WebkitBoxOrdinalGroup WebkitColumnCount WebkitColumns WebkitFlex WebkitFlexGrow WebkitFlexPositive WebkitFlexShrink WebkitLineClamp\".split(\" \"));function St(e,t,n){var r=0===t.indexOf(\"--\");null==n||\"boolean\"==typeof n||\"\"===n?r?e.setProperty(t,\"\"):\"float\"===t?e.cssFloat=\"\":e[t]=\"\":r?e.setProperty(t,n):\"number\"!=typeof n||0===n||xt.has(t)?\"float\"===t?e.cssFloat=n:e[t]=(\"\"+n).trim():e[t]=n+\"px\"}function Et(e,t,n){if(null!=t&&\"object\"!=typeof t)throw Error(o(62));if(e=e.style,null!=n){for(var r in n)!n.hasOwnProperty(r)||null!=t&&t.hasOwnProperty(r)||(0===r.indexOf(\"--\")?e.setProperty(r,\"\"):\"float\"===r?e.cssFloat=\"\":e[r]=\"\");for(var a in t)r=t[a],t.hasOwnProperty(a)&&n[a]!==r&&St(e,a,r)}else for(var i in t)t.hasOwnProperty(i)&&St(e,i,t[i])}function Ct(e){if(-1===e.indexOf(\"-\"))return!1;switch(e){case\"annotation-xml\":case\"color-profile\":case\"font-face\":case\"font-face-src\":case\"font-face-uri\":case\"font-face-format\":case\"font-face-name\":case\"missing-glyph\":return!1;default:return!0}}var Tt=new Map([[\"acceptCharset\",\"accept-charset\"],[\"htmlFor\",\"for\"],[\"httpEquiv\",\"http-equiv\"],[\"crossOrigin\",\"crossorigin\"],[\"accentHeight\",\"accent-height\"],[\"alignmentBaseline\",\"alignment-baseline\"],[\"arabicForm\",\"arabic-form\"],[\"baselineShift\",\"baseline-shift\"],[\"capHeight\",\"cap-height\"],[\"clipPath\",\"clip-path\"],[\"clipRule\",\"clip-rule\"],[\"colorInterpolation\",\"color-interpolation\"],[\"colorInterpolationFilters\",\"color-interpolation-filters\"],[\"colorProfile\",\"color-profile\"],[\"colorRendering\",\"color-rendering\"],[\"dominantBaseline\",\"dominant-baseline\"],[\"enableBackground\",\"enable-background\"],[\"fillOpacity\",\"fill-opacity\"],[\"fillRule\",\"fill-rule\"],[\"floodColor\",\"flood-color\"],[\"floodOpacity\",\"flood-opacity\"],[\"fontFamily\",\"font-family\"],[\"fontSize\",\"font-size\"],[\"fontSizeAdjust\",\"font-size-adjust\"],[\"fontStretch\",\"font-stretch\"],[\"fontStyle\",\"font-style\"],[\"fontVariant\",\"font-variant\"],[\"fontWeight\",\"font-weight\"],[\"glyphName\",\"glyph-name\"],[\"glyphOrientationHorizontal\",\"glyph-orientation-horizontal\"],[\"glyphOrientationVertical\",\"glyph-orientation-vertical\"],[\"horizAdvX\",\"horiz-adv-x\"],[\"horizOriginX\",\"horiz-origin-x\"],[\"imageRendering\",\"image-rendering\"],[\"letterSpacing\",\"letter-spacing\"],[\"lightingColor\",\"lighting-color\"],[\"markerEnd\",\"marker-end\"],[\"markerMid\",\"marker-mid\"],[\"markerStart\",\"marker-start\"],[\"overlinePosition\",\"overline-position\"],[\"overlineThickness\",\"overline-thickness\"],[\"paintOrder\",\"paint-order\"],[\"panose-1\",\"panose-1\"],[\"pointerEvents\",\"pointer-events\"],[\"renderingIntent\",\"rendering-intent\"],[\"shapeRendering\",\"shape-rendering\"],[\"stopColor\",\"stop-color\"],[\"stopOpacity\",\"stop-opacity\"],[\"strikethroughPosition\",\"strikethrough-position\"],[\"strikethroughThickness\",\"strikethrough-thickness\"],[\"strokeDasharray\",\"stroke-dasharray\"],[\"strokeDashoffset\",\"stroke-dashoffset\"],[\"strokeLinecap\",\"stroke-linecap\"],[\"strokeLinejoin\",\"stroke-linejoin\"],[\"strokeMiterlimit\",\"stroke-miterlimit\"],[\"strokeOpacity\",\"stroke-opacity\"],[\"strokeWidth\",\"stroke-width\"],[\"textAnchor\",\"text-anchor\"],[\"textDecoration\",\"text-decoration\"],[\"textRendering\",\"text-rendering\"],[\"transformOrigin\",\"transform-origin\"],[\"underlinePosition\",\"underline-position\"],[\"underlineThickness\",\"underline-thickness\"],[\"unicodeBidi\",\"unicode-bidi\"],[\"unicodeRange\",\"unicode-range\"],[\"unitsPerEm\",\"units-per-em\"],[\"vAlphabetic\",\"v-alphabetic\"],[\"vHanging\",\"v-hanging\"],[\"vIdeographic\",\"v-ideographic\"],[\"vMathematical\",\"v-mathematical\"],[\"vectorEffect\",\"vector-effect\"],[\"vertAdvY\",\"vert-adv-y\"],[\"vertOriginX\",\"vert-origin-x\"],[\"vertOriginY\",\"vert-origin-y\"],[\"wordSpacing\",\"word-spacing\"],[\"writingMode\",\"writing-mode\"],[\"xmlnsXlink\",\"xmlns:xlink\"],[\"xHeight\",\"x-height\"]]),Pt=/^[\\u0000-\\u001F ]*j[\\r\\n\\t]*a[\\r\\n\\t]*v[\\r\\n\\t]*a[\\r\\n\\t]*s[\\r\\n\\t]*c[\\r\\n\\t]*r[\\r\\n\\t]*i[\\r\\n\\t]*p[\\r\\n\\t]*t[\\r\\n\\t]*:/i;function zt(e){return Pt.test(\"\"+e)?\"javascript:throw new Error('React has blocked a javascript: URL as a security precaution.')\":e}var Nt=null;function Mt(e){return(e=e.target||e.srcElement||window).correspondingUseElement&&(e=e.correspondingUseElement),3===e.nodeType?e.parentNode:e}var At=null,Ot=null;function Lt(e){var t=Ye(e);if(t&&(e=t.stateNode)){var n=e[Ue]||null;e:switch(e=t.stateNode,t.type){case\"input\":if(vt(e,n.value,n.defaultValue,n.defaultValue,n.checked,n.defaultChecked,n.type,n.name),t=n.name,\"radio\"===n.type&&null!=t){for(n=e;n.parentNode;)n=n.parentNode;for(n=n.querySelectorAll('input[name=\"'+gt(\"\"+t)+'\"][type=\"radio\"]'),t=0;t<n.length;t++){var r=n[t];if(r!==e&&r.form===e.form){var a=r[Ue]||null;if(!a)throw Error(o(90));vt(r,a.value,a.defaultValue,a.defaultValue,a.checked,a.defaultChecked,a.type,a.name)}}for(t=0;t<n.length;t++)(r=n[t]).form===e.form&&dt(r)}break e;case\"textarea\":wt(e,n.value,n.defaultValue);break e;case\"select\":null!=(t=n.value)&&bt(e,!!n.multiple,t,!1)}}}var Ft=!1;function Dt(e,t,n){if(Ft)return e(t,n);Ft=!0;try{return e(t)}finally{if(Ft=!1,(null!==At||null!==Ot)&&(js(),At&&(t=At,e=Ot,Ot=At=null,Lt(t),e)))for(t=0;t<e.length;t++)Lt(e[t])}}function Rt(e,t){var n=e.stateNode;if(null===n)return null;var r=n[Ue]||null;if(null===r)return null;n=r[t];e:switch(t){case\"onClick\":case\"onClickCapture\":case\"onDoubleClick\":case\"onDoubleClickCapture\":case\"onMouseDown\":case\"onMouseDownCapture\":case\"onMouseMove\":case\"onMouseMoveCapture\":case\"onMouseUp\":case\"onMouseUpCapture\":case\"onMouseEnter\":(r=!r.disabled)||(r=!(\"button\"===(e=e.type)||\"input\"===e||\"select\"===e||\"textarea\"===e)),e=!r;break e;default:e=!1}if(e)return null;if(n&&\"function\"!=typeof n)throw Error(o(231,t,typeof n));return n}var jt=!1;if(nt)try{var Ut={};Object.defineProperty(Ut,\"passive\",{get:function(){jt=!0}}),window.addEventListener(\"test\",Ut,Ut),window.removeEventListener(\"test\",Ut,Ut)}catch(e){jt=!1}var It=null,$t=null,Bt=null;function Ht(){if(Bt)return Bt;var e,t,n=$t,r=n.length,a=\"value\"in It?It.value:It.textContent,i=a.length;for(e=0;e<r&&n[e]===a[e];e++);var o=r-e;for(t=1;t<=o&&n[r-t]===a[i-t];t++);return Bt=a.slice(e,1<t?1-t:void 0)}function Vt(e){var t=e.keyCode;return\"charCode\"in e?0===(e=e.charCode)&&13===t&&(e=13):e=t,10===e&&(e=13),32<=e||13===e?e:0}function Wt(){return!0}function qt(){return!1}function Qt(e){function t(t,n,r,a,i){for(var o in this._reactName=t,this._targetInst=r,this.type=n,this.nativeEvent=a,this.target=i,this.currentTarget=null,e)e.hasOwnProperty(o)&&(t=e[o],this[o]=t?t(a):a[o]);return this.isDefaultPrevented=(null!=a.defaultPrevented?a.defaultPrevented:!1===a.returnValue)?Wt:qt,this.isPropagationStopped=qt,this}return M(t.prototype,{preventDefault:function(){this.defaultPrevented=!0;var e=this.nativeEvent;e&&(e.preventDefault?e.preventDefault():\"unknown\"!=typeof e.returnValue&&(e.returnValue=!1),this.isDefaultPrevented=Wt)},stopPropagation:function(){var e=this.nativeEvent;e&&(e.stopPropagation?e.stopPropagation():\"unknown\"!=typeof e.cancelBubble&&(e.cancelBubble=!0),this.isPropagationStopped=Wt)},persist:function(){},isPersistent:Wt}),t}var Yt,Gt,Kt,Xt={eventPhase:0,bubbles:0,cancelable:0,timeStamp:function(e){return e.timeStamp||Date.now()},defaultPrevented:0,isTrusted:0},Zt=Qt(Xt),Jt=M({},Xt,{view:0,detail:0}),en=Qt(Jt),tn=M({},Jt,{screenX:0,screenY:0,clientX:0,clientY:0,pageX:0,pageY:0,ctrlKey:0,shiftKey:0,altKey:0,metaKey:0,getModifierState:pn,button:0,buttons:0,relatedTarget:function(e){return void 0===e.relatedTarget?e.fromElement===e.srcElement?e.toElement:e.fromElement:e.relatedTarget},movementX:function(e){return\"movementX\"in e?e.movementX:(e!==Kt&&(Kt&&\"mousemove\"===e.type?(Yt=e.screenX-Kt.screenX,Gt=e.screenY-Kt.screenY):Gt=Yt=0,Kt=e),Yt)},movementY:function(e){return\"movementY\"in e?e.movementY:Gt}}),nn=Qt(tn),rn=Qt(M({},tn,{dataTransfer:0})),an=Qt(M({},Jt,{relatedTarget:0})),on=Qt(M({},Xt,{animationName:0,elapsedTime:0,pseudoElement:0})),un=Qt(M({},Xt,{clipboardData:function(e){return\"clipboardData\"in e?e.clipboardData:window.clipboardData}})),ln=Qt(M({},Xt,{data:0})),sn={Esc:\"Escape\",Spacebar:\" \",Left:\"ArrowLeft\",Up:\"ArrowUp\",Right:\"ArrowRight\",Down:\"ArrowDown\",Del:\"Delete\",Win:\"OS\",Menu:\"ContextMenu\",Apps:\"ContextMenu\",Scroll:\"ScrollLock\",MozPrintableKey:\"Unidentified\"},cn={8:\"Backspace\",9:\"Tab\",12:\"Clear\",13:\"Enter\",16:\"Shift\",17:\"Control\",18:\"Alt\",19:\"Pause\",20:\"CapsLock\",27:\"Escape\",32:\" \",33:\"PageUp\",34:\"PageDown\",35:\"End\",36:\"Home\",37:\"ArrowLeft\",38:\"ArrowUp\",39:\"ArrowRight\",40:\"ArrowDown\",45:\"Insert\",46:\"Delete\",112:\"F1\",113:\"F2\",114:\"F3\",115:\"F4\",116:\"F5\",117:\"F6\",118:\"F7\",119:\"F8\",120:\"F9\",121:\"F10\",122:\"F11\",123:\"F12\",144:\"NumLock\",145:\"ScrollLock\",224:\"Meta\"},fn={Alt:\"altKey\",Control:\"ctrlKey\",Meta:\"metaKey\",Shift:\"shiftKey\"};function dn(e){var t=this.nativeEvent;return t.getModifierState?t.getModifierState(e):!!(e=fn[e])&&!!t[e]}function pn(){return dn}var hn=Qt(M({},Jt,{key:function(e){if(e.key){var t=sn[e.key]||e.key;if(\"Unidentified\"!==t)return t}return\"keypress\"===e.type?13===(e=Vt(e))?\"Enter\":String.fromCharCode(e):\"keydown\"===e.type||\"keyup\"===e.type?cn[e.keyCode]||\"Unidentified\":\"\"},code:0,location:0,ctrlKey:0,shiftKey:0,altKey:0,metaKey:0,repeat:0,locale:0,getModifierState:pn,charCode:function(e){return\"keypress\"===e.type?Vt(e):0},keyCode:function(e){return\"keydown\"===e.type||\"keyup\"===e.type?e.keyCode:0},which:function(e){return\"keypress\"===e.type?Vt(e):\"keydown\"===e.type||\"keyup\"===e.type?e.keyCode:0}})),gn=Qt(M({},tn,{pointerId:0,width:0,height:0,pressure:0,tangentialPressure:0,tiltX:0,tiltY:0,twist:0,pointerType:0,isPrimary:0})),vn=Qt(M({},Jt,{touches:0,targetTouches:0,changedTouches:0,altKey:0,metaKey:0,ctrlKey:0,shiftKey:0,getModifierState:pn})),mn=Qt(M({},Xt,{propertyName:0,elapsedTime:0,pseudoElement:0})),yn=Qt(M({},tn,{deltaX:function(e){return\"deltaX\"in e?e.deltaX:\"wheelDeltaX\"in e?-e.wheelDeltaX:0},deltaY:function(e){return\"deltaY\"in e?e.deltaY:\"wheelDeltaY\"in e?-e.wheelDeltaY:\"wheelDelta\"in e?-e.wheelDelta:0},deltaZ:0,deltaMode:0})),bn=Qt(M({},Xt,{newState:0,oldState:0})),wn=[9,13,27,32],_n=nt&&\"CompositionEvent\"in window,kn=null;nt&&\"documentMode\"in document&&(kn=document.documentMode);var xn=nt&&\"TextEvent\"in window&&!kn,Sn=nt&&(!_n||kn&&8<kn&&11>=kn),En=String.fromCharCode(32),Cn=!1;function Tn(e,t){switch(e){case\"keyup\":return-1!==wn.indexOf(t.keyCode);case\"keydown\":return 229!==t.keyCode;case\"keypress\":case\"mousedown\":case\"focusout\":return!0;default:return!1}}function Pn(e){return\"object\"==typeof(e=e.detail)&&\"data\"in e?e.data:null}var zn=!1,Nn={color:!0,date:!0,datetime:!0,\"datetime-local\":!0,email:!0,month:!0,number:!0,password:!0,range:!0,search:!0,tel:!0,text:!0,time:!0,url:!0,week:!0};function Mn(e){var t=e&&e.nodeName&&e.nodeName.toLowerCase();return\"input\"===t?!!Nn[e.type]:\"textarea\"===t}function An(e,t,n,r){At?Ot?Ot.push(r):Ot=[r]:At=r,0<(t=Dc(t,\"onChange\")).length&&(n=new Zt(\"onChange\",\"change\",null,n,r),e.push({event:n,listeners:t}))}var On=null,Ln=null;function Fn(e){Pc(e,0)}function Dn(e){if(dt(Ge(e)))return e}function Rn(e,t){if(\"change\"===e)return t}var jn=!1;if(nt){var Un;if(nt){var In=\"oninput\"in document;if(!In){var $n=document.createElement(\"div\");$n.setAttribute(\"oninput\",\"return;\"),In=\"function\"==typeof $n.oninput}Un=In}else Un=!1;jn=Un&&(!document.documentMode||9<document.documentMode)}function Bn(){On&&(On.detachEvent(\"onpropertychange\",Hn),Ln=On=null)}function Hn(e){if(\"value\"===e.propertyName&&Dn(Ln)){var t=[];An(t,Ln,e,Mt(e)),Dt(Fn,t)}}function Vn(e,t,n){\"focusin\"===e?(Bn(),Ln=n,(On=t).attachEvent(\"onpropertychange\",Hn)):\"focusout\"===e&&Bn()}function Wn(e){if(\"selectionchange\"===e||\"keyup\"===e||\"keydown\"===e)return Dn(Ln)}function qn(e,t){if(\"click\"===e)return Dn(t)}function Qn(e,t){if(\"input\"===e||\"change\"===e)return Dn(t)}var Yn=\"function\"==typeof Object.is?Object.is:function(e,t){return e===t&&(0!==e||1/e==1/t)||e!=e&&t!=t};function Gn(e,t){if(Yn(e,t))return!0;if(\"object\"!=typeof e||null===e||\"object\"!=typeof t||null===t)return!1;var n=Object.keys(e),r=Object.keys(t);if(n.length!==r.length)return!1;for(r=0;r<n.length;r++){var a=n[r];if(!re.call(t,a)||!Yn(e[a],t[a]))return!1}return!0}function Kn(e){for(;e&&e.firstChild;)e=e.firstChild;return e}function Xn(e,t){var n,r=Kn(e);for(e=0;r;){if(3===r.nodeType){if(n=e+r.textContent.length,e<=t&&n>=t)return{node:r,offset:t-e};e=n}e:{for(;r;){if(r.nextSibling){r=r.nextSibling;break e}r=r.parentNode}r=void 0}r=Kn(r)}}function Zn(e,t){return!(!e||!t)&&(e===t||(!e||3!==e.nodeType)&&(t&&3===t.nodeType?Zn(e,t.parentNode):\"contains\"in e?e.contains(t):!!e.compareDocumentPosition&&!!(16&e.compareDocumentPosition(t))))}function Jn(e){for(var t=pt((e=null!=e&&null!=e.ownerDocument&&null!=e.ownerDocument.defaultView?e.ownerDocument.defaultView:window).document);t instanceof e.HTMLIFrameElement;){try{var n=\"string\"==typeof t.contentWindow.location.href}catch(e){n=!1}if(!n)break;t=pt((e=t.contentWindow).document)}return t}function er(e){var t=e&&e.nodeName&&e.nodeName.toLowerCase();return t&&(\"input\"===t&&(\"text\"===e.type||\"search\"===e.type||\"tel\"===e.type||\"url\"===e.type||\"password\"===e.type)||\"textarea\"===t||\"true\"===e.contentEditable)}function tr(e,t){var n=Jn(t);t=e.focusedElem;var r=e.selectionRange;if(n!==t&&t&&t.ownerDocument&&Zn(t.ownerDocument.documentElement,t)){if(null!==r&&er(t))if(e=r.start,void 0===(n=r.end)&&(n=e),\"selectionStart\"in t)t.selectionStart=e,t.selectionEnd=Math.min(n,t.value.length);else if((n=(e=t.ownerDocument||document)&&e.defaultView||window).getSelection){n=n.getSelection();var a=t.textContent.length,i=Math.min(r.start,a);r=void 0===r.end?i:Math.min(r.end,a),!n.extend&&i>r&&(a=r,r=i,i=a),a=Xn(t,i);var o=Xn(t,r);a&&o&&(1!==n.rangeCount||n.anchorNode!==a.node||n.anchorOffset!==a.offset||n.focusNode!==o.node||n.focusOffset!==o.offset)&&((e=e.createRange()).setStart(a.node,a.offset),n.removeAllRanges(),i>r?(n.addRange(e),n.extend(o.node,o.offset)):(e.setEnd(o.node,o.offset),n.addRange(e)))}for(e=[],n=t;n=n.parentNode;)1===n.nodeType&&e.push({element:n,left:n.scrollLeft,top:n.scrollTop});for(\"function\"==typeof t.focus&&t.focus(),t=0;t<e.length;t++)(n=e[t]).element.scrollLeft=n.left,n.element.scrollTop=n.top}}var nr=nt&&\"documentMode\"in document&&11>=document.documentMode,rr=null,ar=null,ir=null,or=!1;function ur(e,t,n){var r=n.window===n?n.document:9===n.nodeType?n:n.ownerDocument;or||null==rr||rr!==pt(r)||(r=\"selectionStart\"in(r=rr)&&er(r)?{start:r.selectionStart,end:r.selectionEnd}:{anchorNode:(r=(r.ownerDocument&&r.ownerDocument.defaultView||window).getSelection()).anchorNode,anchorOffset:r.anchorOffset,focusNode:r.focusNode,focusOffset:r.focusOffset},ir&&Gn(ir,r)||(ir=r,0<(r=Dc(ar,\"onSelect\")).length&&(t=new Zt(\"onSelect\",\"select\",null,t,n),e.push({event:t,listeners:r}),t.target=rr)))}function lr(e,t){var n={};return n[e.toLowerCase()]=t.toLowerCase(),n[\"Webkit\"+e]=\"webkit\"+t,n[\"Moz\"+e]=\"moz\"+t,n}var sr={animationend:lr(\"Animation\",\"AnimationEnd\"),animationiteration:lr(\"Animation\",\"AnimationIteration\"),animationstart:lr(\"Animation\",\"AnimationStart\"),transitionrun:lr(\"Transition\",\"TransitionRun\"),transitionstart:lr(\"Transition\",\"TransitionStart\"),transitioncancel:lr(\"Transition\",\"TransitionCancel\"),transitionend:lr(\"Transition\",\"TransitionEnd\")},cr={},fr={};function dr(e){if(cr[e])return cr[e];if(!sr[e])return e;var t,n=sr[e];for(t in n)if(n.hasOwnProperty(t)&&t in fr)return cr[e]=n[t];return e}nt&&(fr=document.createElement(\"div\").style,\"AnimationEvent\"in window||(delete sr.animationend.animation,delete sr.animationiteration.animation,delete sr.animationstart.animation),\"TransitionEvent\"in window||delete sr.transitionend.transition);var pr=dr(\"animationend\"),hr=dr(\"animationiteration\"),gr=dr(\"animationstart\"),vr=dr(\"transitionrun\"),mr=dr(\"transitionstart\"),yr=dr(\"transitioncancel\"),br=dr(\"transitionend\"),wr=new Map,_r=\"abort auxClick beforeToggle cancel canPlay canPlayThrough click close contextMenu copy cut drag dragEnd dragEnter dragExit dragLeave dragOver dragStart drop durationChange emptied encrypted ended error gotPointerCapture input invalid keyDown keyPress keyUp load loadedData loadedMetadata loadStart lostPointerCapture mouseDown mouseMove mouseOut mouseOver mouseUp paste pause play playing pointerCancel pointerDown pointerMove pointerOut pointerOver pointerUp progress rateChange reset resize seeked seeking stalled submit suspend timeUpdate touchCancel touchEnd touchStart volumeChange scroll scrollEnd toggle touchMove waiting wheel\".split(\" \");function kr(e,t){wr.set(e,t),et(t,[e])}var xr=[],Sr=0,Er=0;function Cr(){for(var e=Sr,t=Er=Sr=0;t<e;){var n=xr[t];xr[t++]=null;var r=xr[t];xr[t++]=null;var a=xr[t];xr[t++]=null;var i=xr[t];if(xr[t++]=null,null!==r&&null!==a){var o=r.pending;null===o?a.next=a:(a.next=o.next,o.next=a),r.pending=a}0!==i&&Nr(n,a,i)}}function Tr(e,t,n,r){xr[Sr++]=e,xr[Sr++]=t,xr[Sr++]=n,xr[Sr++]=r,Er|=r,e.lanes|=r,null!==(e=e.alternate)&&(e.lanes|=r)}function Pr(e,t,n,r){return Tr(e,t,n,r),Mr(e)}function zr(e,t){return Tr(e,null,null,t),Mr(e)}function Nr(e,t,n){e.lanes|=n;var r=e.alternate;null!==r&&(r.lanes|=n);for(var a=!1,i=e.return;null!==i;)i.childLanes|=n,null!==(r=i.alternate)&&(r.childLanes|=n),22===i.tag&&(null===(e=i.stateNode)||1&e._visibility||(a=!0)),e=i,i=i.return;a&&null!==t&&3===e.tag&&(i=e.stateNode,a=31-we(n),null===(e=(i=i.hiddenUpdates)[a])?i[a]=[t]:e.push(t),t.lane=536870912|n)}function Mr(e){if(50<Ps)throw Ps=0,zs=null,Error(o(185));for(var t=e.return;null!==t;)t=(e=t).return;return 3===e.tag?e.stateNode:null}var Ar={},Or=new WeakMap;function Lr(e,t){if(\"object\"==typeof e&&null!==e){var n=Or.get(e);return void 0!==n?n:(t={value:e,source:t,stack:D(t)},Or.set(e,t),t)}return{value:e,source:t,stack:D(t)}}var Fr=[],Dr=0,Rr=null,jr=0,Ur=[],Ir=0,$r=null,Br=1,Hr=\"\";function Vr(e,t){Fr[Dr++]=jr,Fr[Dr++]=Rr,Rr=e,jr=t}function Wr(e,t,n){Ur[Ir++]=Br,Ur[Ir++]=Hr,Ur[Ir++]=$r,$r=e;var r=Br;e=Hr;var a=32-we(r)-1;r&=~(1<<a),n+=1;var i=32-we(t)+a;if(30<i){var o=a-a%5;i=(r&(1<<o)-1).toString(32),r>>=o,a-=o,Br=1<<32-we(t)+a|n<<a|r,Hr=i+e}else Br=1<<i|n<<a|r,Hr=e}function qr(e){null!==e.return&&(Vr(e,1),Wr(e,1,0))}function Qr(e){for(;e===Rr;)Rr=Fr[--Dr],Fr[Dr]=null,jr=Fr[--Dr],Fr[Dr]=null;for(;e===$r;)$r=Ur[--Ir],Ur[Ir]=null,Hr=Ur[--Ir],Ur[Ir]=null,Br=Ur[--Ir],Ur[Ir]=null}var Yr=null,Gr=null,Kr=!1,Xr=null,Zr=!1,Jr=Error(o(519));function ea(e){throw ia(Lr(Error(o(418,\"\")),e)),Jr}function ta(e){var t=e.stateNode,n=e.type,r=e.memoizedProps;switch(t[je]=e,t[Ue]=r,n){case\"dialog\":zc(\"cancel\",t),zc(\"close\",t);break;case\"iframe\":case\"object\":case\"embed\":zc(\"load\",t);break;case\"video\":case\"audio\":for(n=0;n<Cc.length;n++)zc(Cc[n],t);break;case\"source\":zc(\"error\",t);break;case\"img\":case\"image\":case\"link\":zc(\"error\",t),zc(\"load\",t);break;case\"details\":zc(\"toggle\",t);break;case\"input\":zc(\"invalid\",t),mt(t,r.value,r.defaultValue,r.checked,r.defaultChecked,r.type,r.name,!0),ft(t);break;case\"select\":zc(\"invalid\",t);break;case\"textarea\":zc(\"invalid\",t),_t(t,r.value,r.defaultValue,r.children),ft(t)}\"string\"!=typeof(n=r.children)&&\"number\"!=typeof n&&\"bigint\"!=typeof n||t.textContent===\"\"+n||!0===r.suppressHydrationWarning||Bc(t.textContent,n)?(null!=r.popover&&(zc(\"beforetoggle\",t),zc(\"toggle\",t)),null!=r.onScroll&&zc(\"scroll\",t),null!=r.onScrollEnd&&zc(\"scrollend\",t),null!=r.onClick&&(t.onclick=Hc),t=!0):t=!1,t||ea(e)}function na(e){for(Yr=e.return;Yr;)switch(Yr.tag){case 3:case 27:return void(Zr=!0);case 5:case 13:return void(Zr=!1);default:Yr=Yr.return}}function ra(e){if(e!==Yr)return!1;if(!Kr)return na(e),Kr=!0,!1;var t,n=!1;if((t=3!==e.tag&&27!==e.tag)&&((t=5===e.tag)&&(t=!(\"form\"!==(t=e.type)&&\"button\"!==t)||Zc(e.type,e.memoizedProps)),t=!t),t&&(n=!0),n&&Gr&&ea(e),na(e),13===e.tag){if(!(e=null!==(e=e.memoizedState)?e.dehydrated:null))throw Error(o(317));e:{for(e=e.nextSibling,n=0;e;){if(8===e.nodeType)if(\"/$\"===(t=e.data)){if(0===n){Gr=lf(e.nextSibling);break e}n--}else\"$\"!==t&&\"$!\"!==t&&\"$?\"!==t||n++;e=e.nextSibling}Gr=null}}else Gr=Yr?lf(e.stateNode.nextSibling):null;return!0}function aa(){Gr=Yr=null,Kr=!1}function ia(e){null===Xr?Xr=[e]:Xr.push(e)}var oa=Error(o(460)),ua=Error(o(474)),la={then:function(){}};function sa(e){return\"fulfilled\"===(e=e.status)||\"rejected\"===e}function ca(){}function fa(e,t,n){switch(void 0===(n=e[n])?e.push(t):n!==t&&(t.then(ca,ca),t=n),t.status){case\"fulfilled\":return t.value;case\"rejected\":if((e=t.reason)===oa)throw Error(o(483));throw e;default:if(\"string\"==typeof t.status)t.then(ca,ca);else{if(null!==(e=ts)&&100<e.shellSuspendCounter)throw Error(o(482));(e=t).status=\"pending\",e.then((function(e){if(\"pending\"===t.status){var n=t;n.status=\"fulfilled\",n.value=e}}),(function(e){if(\"pending\"===t.status){var n=t;n.status=\"rejected\",n.reason=e}}))}switch(t.status){case\"fulfilled\":return t.value;case\"rejected\":if((e=t.reason)===oa)throw Error(o(483));throw e}throw da=t,oa}}var da=null;function pa(){if(null===da)throw Error(o(459));var e=da;return da=null,e}var ha=null,ga=0;function va(e){var t=ga;return ga+=1,null===ha&&(ha=[]),fa(ha,e,t)}function ma(e,t){t=t.props.ref,e.ref=void 0!==t?t:null}function ya(e,t){if(t.$$typeof===l)throw Error(o(525));throw e=Object.prototype.toString.call(t),Error(o(31,\"[object Object]\"===e?\"object with keys {\"+Object.keys(t).join(\", \")+\"}\":e))}function ba(e){return(0,e._init)(e._payload)}function wa(e){function t(t,n){if(e){var r=t.deletions;null===r?(t.deletions=[n],t.flags|=16):r.push(n)}}function n(n,r){if(!e)return null;for(;null!==r;)t(n,r),r=r.sibling;return null}function r(e){for(var t=new Map;null!==e;)null!==e.key?t.set(e.key,e):t.set(e.index,e),e=e.sibling;return t}function a(e,t){return(e=Rl(e,t)).index=0,e.sibling=null,e}function i(t,n,r){return t.index=r,e?null!==(r=t.alternate)?(r=r.index)<n?(t.flags|=33554434,n):r:(t.flags|=33554434,n):(t.flags|=1048576,n)}function u(t){return e&&null===t.alternate&&(t.flags|=33554434),t}function l(e,t,n,r){return null===t||6!==t.tag?((t=Bl(n,e.mode,r)).return=e,t):((t=a(t,n)).return=e,t)}function d(e,t,n,r){var i=n.type;return i===f?h(e,t,n.props.children,r,n.key):null!==t&&(t.elementType===i||\"object\"==typeof i&&null!==i&&i.$$typeof===_&&ba(i)===t.type)?(ma(t=a(t,n.props),n),t.return=e,t):(ma(t=Ul(n.type,n.key,n.props,null,e.mode,r),n),t.return=e,t)}function p(e,t,n,r){return null===t||4!==t.tag||t.stateNode.containerInfo!==n.containerInfo||t.stateNode.implementation!==n.implementation?((t=Hl(n,e.mode,r)).return=e,t):((t=a(t,n.children||[])).return=e,t)}function h(e,t,n,r,i){return null===t||7!==t.tag?((t=Il(n,e.mode,r,i)).return=e,t):((t=a(t,n)).return=e,t)}function g(e,t,n){if(\"string\"==typeof t&&\"\"!==t||\"number\"==typeof t||\"bigint\"==typeof t)return(t=Bl(\"\"+t,e.mode,n)).return=e,t;if(\"object\"==typeof t&&null!==t){switch(t.$$typeof){case s:return ma(n=Ul(t.type,t.key,t.props,null,e.mode,n),t),n.return=e,n;case c:return(t=Hl(t,e.mode,n)).return=e,t;case _:return g(e,t=(0,t._init)(t._payload),n)}if($(t)||E(t))return(t=Il(t,e.mode,n,null)).return=e,t;if(\"function\"==typeof t.then)return g(e,va(t),n);if(t.$$typeof===v)return g(e,Cu(e,t),n);ya(e,t)}return null}function m(e,t,n,r){var a=null!==t?t.key:null;if(\"string\"==typeof n&&\"\"!==n||\"number\"==typeof n||\"bigint\"==typeof n)return null!==a?null:l(e,t,\"\"+n,r);if(\"object\"==typeof n&&null!==n){switch(n.$$typeof){case s:return n.key===a?d(e,t,n,r):null;case c:return n.key===a?p(e,t,n,r):null;case _:return m(e,t,n=(a=n._init)(n._payload),r)}if($(n)||E(n))return null!==a?null:h(e,t,n,r,null);if(\"function\"==typeof n.then)return m(e,t,va(n),r);if(n.$$typeof===v)return m(e,t,Cu(e,n),r);ya(e,n)}return null}function y(e,t,n,r,a){if(\"string\"==typeof r&&\"\"!==r||\"number\"==typeof r||\"bigint\"==typeof r)return l(t,e=e.get(n)||null,\"\"+r,a);if(\"object\"==typeof r&&null!==r){switch(r.$$typeof){case s:return d(t,e=e.get(null===r.key?n:r.key)||null,r,a);case c:return p(t,e=e.get(null===r.key?n:r.key)||null,r,a);case _:return y(e,t,n,r=(0,r._init)(r._payload),a)}if($(r)||E(r))return h(t,e=e.get(n)||null,r,a,null);if(\"function\"==typeof r.then)return y(e,t,n,va(r),a);if(r.$$typeof===v)return y(e,t,n,Cu(t,r),a);ya(t,r)}return null}function b(l,d,p,h){if(\"object\"==typeof p&&null!==p&&p.type===f&&null===p.key&&(p=p.props.children),\"object\"==typeof p&&null!==p){switch(p.$$typeof){case s:e:{for(var w=p.key;null!==d;){if(d.key===w){if((w=p.type)===f){if(7===d.tag){n(l,d.sibling),(h=a(d,p.props.children)).return=l,l=h;break e}}else if(d.elementType===w||\"object\"==typeof w&&null!==w&&w.$$typeof===_&&ba(w)===d.type){n(l,d.sibling),ma(h=a(d,p.props),p),h.return=l,l=h;break e}n(l,d);break}t(l,d),d=d.sibling}p.type===f?((h=Il(p.props.children,l.mode,h,p.key)).return=l,l=h):(ma(h=Ul(p.type,p.key,p.props,null,l.mode,h),p),h.return=l,l=h)}return u(l);case c:e:{for(w=p.key;null!==d;){if(d.key===w){if(4===d.tag&&d.stateNode.containerInfo===p.containerInfo&&d.stateNode.implementation===p.implementation){n(l,d.sibling),(h=a(d,p.children||[])).return=l,l=h;break e}n(l,d);break}t(l,d),d=d.sibling}(h=Hl(p,l.mode,h)).return=l,l=h}return u(l);case _:return b(l,d,p=(w=p._init)(p._payload),h)}if($(p))return function(a,o,u,l){for(var s=null,c=null,f=o,d=o=0,p=null;null!==f&&d<u.length;d++){f.index>d?(p=f,f=null):p=f.sibling;var h=m(a,f,u[d],l);if(null===h){null===f&&(f=p);break}e&&f&&null===h.alternate&&t(a,f),o=i(h,o,d),null===c?s=h:c.sibling=h,c=h,f=p}if(d===u.length)return n(a,f),Kr&&Vr(a,d),s;if(null===f){for(;d<u.length;d++)null!==(f=g(a,u[d],l))&&(o=i(f,o,d),null===c?s=f:c.sibling=f,c=f);return Kr&&Vr(a,d),s}for(f=r(f);d<u.length;d++)null!==(p=y(f,a,d,u[d],l))&&(e&&null!==p.alternate&&f.delete(null===p.key?d:p.key),o=i(p,o,d),null===c?s=p:c.sibling=p,c=p);return e&&f.forEach((function(e){return t(a,e)})),Kr&&Vr(a,d),s}(l,d,p,h);if(E(p)){if(\"function\"!=typeof(w=E(p)))throw Error(o(150));return function(a,u,l,s){if(null==l)throw Error(o(151));for(var c=null,f=null,d=u,p=u=0,h=null,v=l.next();null!==d&&!v.done;p++,v=l.next()){d.index>p?(h=d,d=null):h=d.sibling;var b=m(a,d,v.value,s);if(null===b){null===d&&(d=h);break}e&&d&&null===b.alternate&&t(a,d),u=i(b,u,p),null===f?c=b:f.sibling=b,f=b,d=h}if(v.done)return n(a,d),Kr&&Vr(a,p),c;if(null===d){for(;!v.done;p++,v=l.next())null!==(v=g(a,v.value,s))&&(u=i(v,u,p),null===f?c=v:f.sibling=v,f=v);return Kr&&Vr(a,p),c}for(d=r(d);!v.done;p++,v=l.next())null!==(v=y(d,a,p,v.value,s))&&(e&&null!==v.alternate&&d.delete(null===v.key?p:v.key),u=i(v,u,p),null===f?c=v:f.sibling=v,f=v);return e&&d.forEach((function(e){return t(a,e)})),Kr&&Vr(a,p),c}(l,d,p=w.call(p),h)}if(\"function\"==typeof p.then)return b(l,d,va(p),h);if(p.$$typeof===v)return b(l,d,Cu(l,p),h);ya(l,p)}return\"string\"==typeof p&&\"\"!==p||\"number\"==typeof p||\"bigint\"==typeof p?(p=\"\"+p,null!==d&&6===d.tag?(n(l,d.sibling),(h=a(d,p)).return=l,l=h):(n(l,d),(h=Bl(p,l.mode,h)).return=l,l=h),u(l)):n(l,d)}return function(e,t,n,r){try{ga=0;var a=b(e,t,n,r);return ha=null,a}catch(t){if(t===oa)throw t;var i=Fl(29,t,null,e.mode);return i.lanes=r,i.return=e,i}}}var _a=wa(!0),ka=wa(!1),xa=q(null),Sa=q(0);function Ea(e,t){Y(Sa,e=ss),Y(xa,t),ss=e|t.baseLanes}function Ca(){Y(Sa,ss),Y(xa,xa.current)}function Ta(){ss=Sa.current,Q(xa),Q(Sa)}var Pa=q(null),za=null;function Na(e){var t=e.alternate;Y(La,1&La.current),Y(Pa,e),null===za&&(null===t||null!==xa.current||null!==t.memoizedState)&&(za=e)}function Ma(e){if(22===e.tag){if(Y(La,La.current),Y(Pa,e),null===za){var t=e.alternate;null!==t&&null!==t.memoizedState&&(za=e)}}else Aa()}function Aa(){Y(La,La.current),Y(Pa,Pa.current)}function Oa(e){Q(Pa),za===e&&(za=null),Q(La)}var La=q(0);function Fa(e){for(var t=e;null!==t;){if(13===t.tag){var n=t.memoizedState;if(null!==n&&(null===(n=n.dehydrated)||\"$?\"===n.data||\"$!\"===n.data))return t}else if(19===t.tag&&void 0!==t.memoizedProps.revealOrder){if(128&t.flags)return t}else if(null!==t.child){t.child.return=t,t=t.child;continue}if(t===e)break;for(;null===t.sibling;){if(null===t.return||t.return===e)return null;t=t.return}t.sibling.return=t.return,t=t.sibling}return null}var Da=\"undefined\"!=typeof AbortController?AbortController:function(){var e=[],t=this.signal={aborted:!1,addEventListener:function(t,n){e.push(n)}};this.abort=function(){t.aborted=!0,e.forEach((function(e){return e()}))}},Ra=r.unstable_scheduleCallback,ja=r.unstable_NormalPriority,Ua={$$typeof:v,Consumer:null,Provider:null,_currentValue:null,_currentValue2:null,_threadCount:0};function Ia(){return{controller:new Da,data:new Map,refCount:0}}function $a(e){e.refCount--,0===e.refCount&&Ra(ja,(function(){e.controller.abort()}))}var Ba=null,Ha=0,Va=0,Wa=null;function qa(){if(0==--Ha&&null!==Ba){null!==Wa&&(Wa.status=\"fulfilled\");var e=Ba;Ba=null,Va=0,Wa=null;for(var t=0;t<e.length;t++)(0,e[t])()}}var Qa=N.S;N.S=function(e,t){\"object\"==typeof t&&null!==t&&\"function\"==typeof t.then&&function(e,t){if(null===Ba){var n=Ba=[];Ha=0,Va=_c(),Wa={status:\"pending\",value:void 0,then:function(e){n.push(e)}}}Ha++,t.then(qa,qa)}(0,t),null!==Qa&&Qa(e,t)};var Ya=q(null);function Ga(){var e=Ya.current;return null!==e?e:ts.pooledCache}function Ka(e,t){Y(Ya,null===t?Ya.current:t.pool)}function Xa(){var e=Ga();return null===e?null:{parent:Ua._currentValue,pool:e}}var Za=0,Ja=null,ei=null,ti=null,ni=!1,ri=!1,ai=!1,ii=0,oi=0,ui=null,li=0;function si(){throw Error(o(321))}function ci(e,t){if(null===t)return!1;for(var n=0;n<t.length&&n<e.length;n++)if(!Yn(e[n],t[n]))return!1;return!0}function fi(e,t,n,r,a,i){return Za=i,Ja=t,t.memoizedState=null,t.updateQueue=null,t.lanes=0,N.H=null===e||null===e.memoizedState?Co:To,ai=!1,i=n(r,a),ai=!1,ri&&(i=pi(t,n,r,a)),di(e),i}function di(e){N.H=Eo;var t=null!==ei&&null!==ei.next;if(Za=0,ti=ei=Ja=null,ni=!1,oi=0,ui=null,t)throw Error(o(300));null===e||Vo||null!==(e=e.dependencies)&&xu(e)&&(Vo=!0)}function pi(e,t,n,r){Ja=e;var a=0;do{if(ri&&(ui=null),oi=0,ri=!1,25<=a)throw Error(o(301));if(a+=1,ti=ei=null,null!=e.updateQueue){var i=e.updateQueue;i.lastEffect=null,i.events=null,i.stores=null,null!=i.memoCache&&(i.memoCache.index=0)}N.H=Po,i=t(n,r)}while(ri);return i}function hi(){var e=N.H,t=e.useState()[0];return t=\"function\"==typeof t.then?wi(t):t,e=e.useState()[0],(null!==ei?ei.memoizedState:null)!==e&&(Ja.flags|=1024),t}function gi(){var e=0!==ii;return ii=0,e}function vi(e,t,n){t.updateQueue=e.updateQueue,t.flags&=-2053,e.lanes&=~n}function mi(e){if(ni){for(e=e.memoizedState;null!==e;){var t=e.queue;null!==t&&(t.pending=null),e=e.next}ni=!1}Za=0,ti=ei=Ja=null,ri=!1,oi=ii=0,ui=null}function yi(){var e={memoizedState:null,baseState:null,baseQueue:null,queue:null,next:null};return null===ti?Ja.memoizedState=ti=e:ti=ti.next=e,ti}function bi(){if(null===ei){var e=Ja.alternate;e=null!==e?e.memoizedState:null}else e=ei.next;var t=null===ti?Ja.memoizedState:ti.next;if(null!==t)ti=t,ei=e;else{if(null===e){if(null===Ja.alternate)throw Error(o(467));throw Error(o(310))}e={memoizedState:(ei=e).memoizedState,baseState:ei.baseState,baseQueue:ei.baseQueue,queue:ei.queue,next:null},null===ti?Ja.memoizedState=ti=e:ti=ti.next=e}return ti}function wi(e){var t=oi;return oi+=1,null===ui&&(ui=[]),e=fa(ui,e,t),t=Ja,null===(null===ti?t.memoizedState:ti.next)&&(t=t.alternate,N.H=null===t||null===t.memoizedState?Co:To),e}function _i(e){if(null!==e&&\"object\"==typeof e){if(\"function\"==typeof e.then)return wi(e);if(e.$$typeof===v)return Eu(e)}throw Error(o(438,String(e)))}function ki(e){var t=null,n=Ja.updateQueue;if(null!==n&&(t=n.memoCache),null==t){var r=Ja.alternate;null!==r&&null!==(r=r.updateQueue)&&null!=(r=r.memoCache)&&(t={data:r.data.map((function(e){return e.slice()})),index:0})}if(null==t&&(t={data:[],index:0}),null===n&&(n={lastEffect:null,events:null,stores:null,memoCache:null},Ja.updateQueue=n),n.memoCache=t,void 0===(n=t.data[t.index]))for(n=t.data[t.index]=Array(e),r=0;r<e;r++)n[r]=x;return t.index++,n}function xi(e,t){return\"function\"==typeof t?t(e):t}function Si(e){return Ei(bi(),ei,e)}function Ei(e,t,n){var r=e.queue;if(null===r)throw Error(o(311));r.lastRenderedReducer=n;var a=e.baseQueue,i=r.pending;if(null!==i){if(null!==a){var u=a.next;a.next=i.next,i.next=u}t.baseQueue=a=i,r.pending=null}if(i=e.baseState,null===a)e.memoizedState=i;else{var l=u=null,s=null,c=t=a.next,f=!1;do{var d=-536870913&c.lane;if(d!==c.lane?(rs&d)===d:(Za&d)===d){var p=c.revertLane;if(0===p)null!==s&&(s=s.next={lane:0,revertLane:0,action:c.action,hasEagerState:c.hasEagerState,eagerState:c.eagerState,next:null}),d===Va&&(f=!0);else{if((Za&p)===p){c=c.next,p===Va&&(f=!0);continue}d={lane:0,revertLane:c.revertLane,action:c.action,hasEagerState:c.hasEagerState,eagerState:c.eagerState,next:null},null===s?(l=s=d,u=i):s=s.next=d,Ja.lanes|=p,fs|=p}d=c.action,ai&&n(i,d),i=c.hasEagerState?c.eagerState:n(i,d)}else p={lane:d,revertLane:c.revertLane,action:c.action,hasEagerState:c.hasEagerState,eagerState:c.eagerState,next:null},null===s?(l=s=p,u=i):s=s.next=p,Ja.lanes|=d,fs|=d;c=c.next}while(null!==c&&c!==t);if(null===s?u=i:s.next=l,!Yn(i,e.memoizedState)&&(Vo=!0,f&&null!==(n=Wa)))throw n;e.memoizedState=i,e.baseState=u,e.baseQueue=s,r.lastRenderedState=i}return null===a&&(r.lanes=0),[e.memoizedState,r.dispatch]}function Ci(e){var t=bi(),n=t.queue;if(null===n)throw Error(o(311));n.lastRenderedReducer=e;var r=n.dispatch,a=n.pending,i=t.memoizedState;if(null!==a){n.pending=null;var u=a=a.next;do{i=e(i,u.action),u=u.next}while(u!==a);Yn(i,t.memoizedState)||(Vo=!0),t.memoizedState=i,null===t.baseQueue&&(t.baseState=i),n.lastRenderedState=i}return[i,r]}function Ti(e,t,n){var r=Ja,a=bi(),i=Kr;if(i){if(void 0===n)throw Error(o(407));n=n()}else n=t();var u=!Yn((ei||a).memoizedState,n);if(u&&(a.memoizedState=n,Vo=!0),a=a.queue,Zi(Ni.bind(null,r,a,e),[e]),a.getSnapshot!==t||u||null!==ti&&1&ti.memoizedState.tag){if(r.flags|=2048,Qi(9,zi.bind(null,r,a,n,t),{destroy:void 0},null),null===ts)throw Error(o(349));i||60&Za||Pi(r,t,n)}return n}function Pi(e,t,n){e.flags|=16384,e={getSnapshot:t,value:n},null===(t=Ja.updateQueue)?(t={lastEffect:null,events:null,stores:null,memoCache:null},Ja.updateQueue=t,t.stores=[e]):null===(n=t.stores)?t.stores=[e]:n.push(e)}function zi(e,t,n,r){t.value=n,t.getSnapshot=r,Mi(t)&&Ai(e)}function Ni(e,t,n){return n((function(){Mi(t)&&Ai(e)}))}function Mi(e){var t=e.getSnapshot;e=e.value;try{var n=t();return!Yn(e,n)}catch(e){return!0}}function Ai(e){var t=zr(e,2);null!==t&&As(t,0,2)}function Oi(e){var t=yi();if(\"function\"==typeof e){var n=e;if(e=n(),ai){be(!0);try{n()}finally{be(!1)}}}return t.memoizedState=t.baseState=e,t.queue={pending:null,lanes:0,dispatch:null,lastRenderedReducer:xi,lastRenderedState:e},t}function Li(e,t,n,r){return e.baseState=n,Ei(e,ei,\"function\"==typeof r?r:xi)}function Fi(e,t,n,r,a){if(ko(e))throw Error(o(485));if(null!==(e=t.action)){var i={payload:a,action:e,next:null,isTransition:!0,status:\"pending\",value:null,reason:null,listeners:[],then:function(e){i.listeners.push(e)}};null!==N.T?n(!0):i.isTransition=!1,r(i),null===(n=t.pending)?(i.next=t.pending=i,Di(t,i)):(i.next=n.next,t.pending=n.next=i)}}function Di(e,t){var n=t.action,r=t.payload,a=e.state;if(t.isTransition){var i=N.T,o={};N.T=o;try{var u=n(a,r),l=N.S;null!==l&&l(o,u),Ri(e,t,u)}catch(n){Ui(e,t,n)}finally{N.T=i}}else try{Ri(e,t,i=n(a,r))}catch(n){Ui(e,t,n)}}function Ri(e,t,n){null!==n&&\"object\"==typeof n&&\"function\"==typeof n.then?n.then((function(n){ji(e,t,n)}),(function(n){return Ui(e,t,n)})):ji(e,t,n)}function ji(e,t,n){t.status=\"fulfilled\",t.value=n,Ii(t),e.state=n,null!==(t=e.pending)&&((n=t.next)===t?e.pending=null:(n=n.next,t.next=n,Di(e,n)))}function Ui(e,t,n){var r=e.pending;if(e.pending=null,null!==r){r=r.next;do{t.status=\"rejected\",t.reason=n,Ii(t),t=t.next}while(t!==r)}e.action=null}function Ii(e){e=e.listeners;for(var t=0;t<e.length;t++)(0,e[t])()}function $i(e,t){return t}function Bi(e,t){if(Kr){var n=ts.formState;if(null!==n){e:{var r=Ja;if(Kr){if(Gr){t:{for(var a=Gr,i=Zr;8!==a.nodeType;){if(!i){a=null;break t}if(null===(a=lf(a.nextSibling))){a=null;break t}}a=\"F!\"===(i=a.data)||\"F\"===i?a:null}if(a){Gr=lf(a.nextSibling),r=\"F!\"===a.data;break e}}ea(r)}r=!1}r&&(t=n[0])}}return(n=yi()).memoizedState=n.baseState=t,r={pending:null,lanes:0,dispatch:null,lastRenderedReducer:$i,lastRenderedState:t},n.queue=r,n=bo.bind(null,Ja,r),r.dispatch=n,r=Oi(!1),i=_o.bind(null,Ja,!1,r.queue),a={state:t,dispatch:null,action:e,pending:null},(r=yi()).queue=a,n=Fi.bind(null,Ja,a,i,n),a.dispatch=n,r.memoizedState=e,[t,n,!1]}function Hi(e){return Vi(bi(),ei,e)}function Vi(e,t,n){t=Ei(e,t,$i)[0],e=Si(xi)[0],t=\"object\"==typeof t&&null!==t&&\"function\"==typeof t.then?wi(t):t;var r=bi(),a=r.queue,i=a.dispatch;return n!==r.memoizedState&&(Ja.flags|=2048,Qi(9,Wi.bind(null,a,n),{destroy:void 0},null)),[t,i,e]}function Wi(e,t){e.action=t}function qi(e){var t=bi(),n=ei;if(null!==n)return Vi(t,n,e);bi(),t=t.memoizedState;var r=(n=bi()).queue.dispatch;return n.memoizedState=e,[t,r,!1]}function Qi(e,t,n,r){return e={tag:e,create:t,inst:n,deps:r,next:null},null===(t=Ja.updateQueue)&&(t={lastEffect:null,events:null,stores:null,memoCache:null},Ja.updateQueue=t),null===(n=t.lastEffect)?t.lastEffect=e.next=e:(r=n.next,n.next=e,e.next=r,t.lastEffect=e),e}function Yi(){return bi().memoizedState}function Gi(e,t,n,r){var a=yi();Ja.flags|=e,a.memoizedState=Qi(1|t,n,{destroy:void 0},void 0===r?null:r)}function Ki(e,t,n,r){var a=bi();r=void 0===r?null:r;var i=a.memoizedState.inst;null!==ei&&null!==r&&ci(r,ei.memoizedState.deps)?a.memoizedState=Qi(t,n,i,r):(Ja.flags|=e,a.memoizedState=Qi(1|t,n,i,r))}function Xi(e,t){Gi(8390656,8,e,t)}function Zi(e,t){Ki(2048,8,e,t)}function Ji(e,t){return Ki(4,2,e,t)}function eo(e,t){return Ki(4,4,e,t)}function to(e,t){if(\"function\"==typeof t){e=e();var n=t(e);return function(){\"function\"==typeof n?n():t(null)}}if(null!=t)return e=e(),t.current=e,function(){t.current=null}}function no(e,t,n){n=null!=n?n.concat([e]):null,Ki(4,4,to.bind(null,t,e),n)}function ro(){}function ao(e,t){var n=bi();t=void 0===t?null:t;var r=n.memoizedState;return null!==t&&ci(t,r[1])?r[0]:(n.memoizedState=[e,t],e)}function io(e,t){var n=bi();t=void 0===t?null:t;var r=n.memoizedState;if(null!==t&&ci(t,r[1]))return r[0];if(r=e(),ai){be(!0);try{e()}finally{be(!1)}}return n.memoizedState=[r,t],r}function oo(e,t,n){return void 0===n||1073741824&Za?e.memoizedState=t:(e.memoizedState=n,e=Ms(),Ja.lanes|=e,fs|=e,n)}function uo(e,t,n,r){return Yn(n,t)?n:null!==xa.current?(e=oo(e,n,r),Yn(e,t)||(Vo=!0),e):42&Za?(e=Ms(),Ja.lanes|=e,fs|=e,t):(Vo=!0,e.memoizedState=n)}function lo(e,t,n,r,a){var i=B.p;B.p=0!==i&&8>i?i:8;var o,u,l,s=N.T,c={};N.T=c,_o(e,!1,t,n);try{var f=a(),d=N.S;null!==d&&d(c,f),null!==f&&\"object\"==typeof f&&\"function\"==typeof f.then?wo(e,t,(o=r,u=[],l={status:\"pending\",value:null,reason:null,then:function(e){u.push(e)}},f.then((function(){l.status=\"fulfilled\",l.value=o;for(var e=0;e<u.length;e++)(0,u[e])(o)}),(function(e){for(l.status=\"rejected\",l.reason=e,e=0;e<u.length;e++)(0,u[e])(void 0)})),l),Ns()):wo(e,t,r,Ns())}catch(n){wo(e,t,{then:function(){},status:\"rejected\",reason:n},Ns())}finally{B.p=i,N.T=s}}function so(){}function co(e,t,n,r){if(5!==e.tag)throw Error(o(476));var a=fo(e).queue;lo(e,a,t,H,null===n?so:function(){return po(e),n(r)})}function fo(e){var t=e.memoizedState;if(null!==t)return t;var n={};return(t={memoizedState:H,baseState:H,baseQueue:null,queue:{pending:null,lanes:0,dispatch:null,lastRenderedReducer:xi,lastRenderedState:H},next:null}).next={memoizedState:n,baseState:n,baseQueue:null,queue:{pending:null,lanes:0,dispatch:null,lastRenderedReducer:xi,lastRenderedState:n},next:null},e.memoizedState=t,null!==(e=e.alternate)&&(e.memoizedState=t),t}function po(e){wo(e,fo(e).next.queue,{},Ns())}function ho(){return Eu(Rf)}function go(){return bi().memoizedState}function vo(){return bi().memoizedState}function mo(e){for(var t=e.return;null!==t;){switch(t.tag){case 24:case 3:var n=Ns(),r=Au(t,e=Mu(n),n);return null!==r&&(As(r,0,n),Ou(r,t,n)),t={cache:Ia()},void(e.payload=t)}t=t.return}}function yo(e,t,n){var r=Ns();n={lane:r,revertLane:0,action:n,hasEagerState:!1,eagerState:null,next:null},ko(e)?xo(t,n):null!==(n=Pr(e,t,n,r))&&(As(n,0,r),So(n,t,r))}function bo(e,t,n){wo(e,t,n,Ns())}function wo(e,t,n,r){var a={lane:r,revertLane:0,action:n,hasEagerState:!1,eagerState:null,next:null};if(ko(e))xo(t,a);else{var i=e.alternate;if(0===e.lanes&&(null===i||0===i.lanes)&&null!==(i=t.lastRenderedReducer))try{var o=t.lastRenderedState,u=i(o,n);if(a.hasEagerState=!0,a.eagerState=u,Yn(u,o))return Tr(e,t,a,0),null===ts&&Cr(),!1}catch(e){}if(null!==(n=Pr(e,t,a,r)))return As(n,0,r),So(n,t,r),!0}return!1}function _o(e,t,n,r){if(r={lane:2,revertLane:_c(),action:r,hasEagerState:!1,eagerState:null,next:null},ko(e)){if(t)throw Error(o(479))}else null!==(t=Pr(e,n,r,2))&&As(t,0,2)}function ko(e){var t=e.alternate;return e===Ja||null!==t&&t===Ja}function xo(e,t){ri=ni=!0;var n=e.pending;null===n?t.next=t:(t.next=n.next,n.next=t),e.pending=t}function So(e,t,n){if(4194176&n){var r=t.lanes;n|=r&=e.pendingLanes,t.lanes=n,Le(e,n)}}var Eo={readContext:Eu,use:_i,useCallback:si,useContext:si,useEffect:si,useImperativeHandle:si,useLayoutEffect:si,useInsertionEffect:si,useMemo:si,useReducer:si,useRef:si,useState:si,useDebugValue:si,useDeferredValue:si,useTransition:si,useSyncExternalStore:si,useId:si};Eo.useCacheRefresh=si,Eo.useMemoCache=si,Eo.useHostTransitionStatus=si,Eo.useFormState=si,Eo.useActionState=si,Eo.useOptimistic=si;var Co={readContext:Eu,use:_i,useCallback:function(e,t){return yi().memoizedState=[e,void 0===t?null:t],e},useContext:Eu,useEffect:Xi,useImperativeHandle:function(e,t,n){n=null!=n?n.concat([e]):null,Gi(4194308,4,to.bind(null,t,e),n)},useLayoutEffect:function(e,t){return Gi(4194308,4,e,t)},useInsertionEffect:function(e,t){Gi(4,2,e,t)},useMemo:function(e,t){var n=yi();t=void 0===t?null:t;var r=e();if(ai){be(!0);try{e()}finally{be(!1)}}return n.memoizedState=[r,t],r},useReducer:function(e,t,n){var r=yi();if(void 0!==n){var a=n(t);if(ai){be(!0);try{n(t)}finally{be(!1)}}}else a=t;return r.memoizedState=r.baseState=a,e={pending:null,lanes:0,dispatch:null,lastRenderedReducer:e,lastRenderedState:a},r.queue=e,e=e.dispatch=yo.bind(null,Ja,e),[r.memoizedState,e]},useRef:function(e){return e={current:e},yi().memoizedState=e},useState:function(e){var t=(e=Oi(e)).queue,n=bo.bind(null,Ja,t);return t.dispatch=n,[e.memoizedState,n]},useDebugValue:ro,useDeferredValue:function(e,t){return oo(yi(),e,t)},useTransition:function(){var e=Oi(!1);return e=lo.bind(null,Ja,e.queue,!0,!1),yi().memoizedState=e,[!1,e]},useSyncExternalStore:function(e,t,n){var r=Ja,a=yi();if(Kr){if(void 0===n)throw Error(o(407));n=n()}else{if(n=t(),null===ts)throw Error(o(349));60&rs||Pi(r,t,n)}a.memoizedState=n;var i={value:n,getSnapshot:t};return a.queue=i,Xi(Ni.bind(null,r,i,e),[e]),r.flags|=2048,Qi(9,zi.bind(null,r,i,n,t),{destroy:void 0},null),n},useId:function(){var e=yi(),t=ts.identifierPrefix;if(Kr){var n=Hr;t=\":\"+t+\"R\"+(n=(Br&~(1<<32-we(Br)-1)).toString(32)+n),0<(n=ii++)&&(t+=\"H\"+n.toString(32)),t+=\":\"}else t=\":\"+t+\"r\"+(n=li++).toString(32)+\":\";return e.memoizedState=t},useCacheRefresh:function(){return yi().memoizedState=mo.bind(null,Ja)}};Co.useMemoCache=ki,Co.useHostTransitionStatus=ho,Co.useFormState=Bi,Co.useActionState=Bi,Co.useOptimistic=function(e){var t=yi();t.memoizedState=t.baseState=e;var n={pending:null,lanes:0,dispatch:null,lastRenderedReducer:null,lastRenderedState:null};return t.queue=n,t=_o.bind(null,Ja,!0,n),n.dispatch=t,[e,t]};var To={readContext:Eu,use:_i,useCallback:ao,useContext:Eu,useEffect:Zi,useImperativeHandle:no,useInsertionEffect:Ji,useLayoutEffect:eo,useMemo:io,useReducer:Si,useRef:Yi,useState:function(){return Si(xi)},useDebugValue:ro,useDeferredValue:function(e,t){return uo(bi(),ei.memoizedState,e,t)},useTransition:function(){var e=Si(xi)[0],t=bi().memoizedState;return[\"boolean\"==typeof e?e:wi(e),t]},useSyncExternalStore:Ti,useId:go};To.useCacheRefresh=vo,To.useMemoCache=ki,To.useHostTransitionStatus=ho,To.useFormState=Hi,To.useActionState=Hi,To.useOptimistic=function(e,t){return Li(bi(),0,e,t)};var Po={readContext:Eu,use:_i,useCallback:ao,useContext:Eu,useEffect:Zi,useImperativeHandle:no,useInsertionEffect:Ji,useLayoutEffect:eo,useMemo:io,useReducer:Ci,useRef:Yi,useState:function(){return Ci(xi)},useDebugValue:ro,useDeferredValue:function(e,t){var n=bi();return null===ei?oo(n,e,t):uo(n,ei.memoizedState,e,t)},useTransition:function(){var e=Ci(xi)[0],t=bi().memoizedState;return[\"boolean\"==typeof e?e:wi(e),t]},useSyncExternalStore:Ti,useId:go};function zo(e,t,n,r){n=null==(n=n(r,t=e.memoizedState))?t:M({},t,n),e.memoizedState=n,0===e.lanes&&(e.updateQueue.baseState=n)}Po.useCacheRefresh=vo,Po.useMemoCache=ki,Po.useHostTransitionStatus=ho,Po.useFormState=qi,Po.useActionState=qi,Po.useOptimistic=function(e,t){var n=bi();return null!==ei?Li(n,0,e,t):(n.baseState=e,[e,n.queue.dispatch])};var No={isMounted:function(e){return!!(e=e._reactInternals)&&R(e)===e},enqueueSetState:function(e,t,n){e=e._reactInternals;var r=Ns(),a=Mu(r);a.payload=t,null!=n&&(a.callback=n),null!==(t=Au(e,a,r))&&(As(t,0,r),Ou(t,e,r))},enqueueReplaceState:function(e,t,n){e=e._reactInternals;var r=Ns(),a=Mu(r);a.tag=1,a.payload=t,null!=n&&(a.callback=n),null!==(t=Au(e,a,r))&&(As(t,0,r),Ou(t,e,r))},enqueueForceUpdate:function(e,t){e=e._reactInternals;var n=Ns(),r=Mu(n);r.tag=2,null!=t&&(r.callback=t),null!==(t=Au(e,r,n))&&(As(t,0,n),Ou(t,e,n))}};function Mo(e,t,n,r,a,i,o){return\"function\"==typeof(e=e.stateNode).shouldComponentUpdate?e.shouldComponentUpdate(r,i,o):!(t.prototype&&t.prototype.isPureReactComponent&&Gn(n,r)&&Gn(a,i))}function Ao(e,t,n,r){e=t.state,\"function\"==typeof t.componentWillReceiveProps&&t.componentWillReceiveProps(n,r),\"function\"==typeof t.UNSAFE_componentWillReceiveProps&&t.UNSAFE_componentWillReceiveProps(n,r),t.state!==e&&No.enqueueReplaceState(t,t.state,null)}function Oo(e,t){var n=t;if(\"ref\"in t)for(var r in n={},t)\"ref\"!==r&&(n[r]=t[r]);if(e=e.defaultProps)for(var a in n===t&&(n=M({},n)),e)void 0===n[a]&&(n[a]=e[a]);return n}var Lo=\"function\"==typeof reportError?reportError:function(e){if(\"object\"==typeof window&&\"function\"==typeof window.ErrorEvent){var t=new window.ErrorEvent(\"error\",{bubbles:!0,cancelable:!0,message:\"object\"==typeof e&&null!==e&&\"string\"==typeof e.message?String(e.message):String(e),error:e});if(!window.dispatchEvent(t))return}else if(\"object\"==typeof process&&\"function\"==typeof process.emit)return void process.emit(\"uncaughtException\",e);console.error(e)};function Fo(e){Lo(e)}function Do(e){console.error(e)}function Ro(e){Lo(e)}function jo(e,t){try{(0,e.onUncaughtError)(t.value,{componentStack:t.stack})}catch(e){setTimeout((function(){throw e}))}}function Uo(e,t,n){try{(0,e.onCaughtError)(n.value,{componentStack:n.stack,errorBoundary:1===t.tag?t.stateNode:null})}catch(e){setTimeout((function(){throw e}))}}function Io(e,t,n){return(n=Mu(n)).tag=3,n.payload={element:null},n.callback=function(){jo(e,t)},n}function $o(e){return(e=Mu(e)).tag=3,e}function Bo(e,t,n,r){var a=n.type.getDerivedStateFromError;if(\"function\"==typeof a){var i=r.value;e.payload=function(){return a(i)},e.callback=function(){Uo(t,n,r)}}var o=n.stateNode;null!==o&&\"function\"==typeof o.componentDidCatch&&(e.callback=function(){Uo(t,n,r),\"function\"!=typeof a&&(null===ks?ks=new Set([this]):ks.add(this));var e=r.stack;this.componentDidCatch(r.value,{componentStack:null!==e?e:\"\"})})}var Ho=Error(o(461)),Vo=!1;function Wo(e,t,n,r){t.child=null===e?ka(t,null,n,r):_a(t,e.child,n,r)}function qo(e,t,n,r,a){n=n.render;var i=t.ref;if(\"ref\"in r){var o={};for(var u in r)\"ref\"!==u&&(o[u]=r[u])}else o=r;return Su(t),r=fi(e,t,n,o,i,a),u=gi(),null===e||Vo?(Kr&&u&&qr(t),t.flags|=1,Wo(e,t,r,a),t.child):(vi(e,t,a),du(e,t,a))}function Qo(e,t,n,r,a){if(null===e){var i=n.type;return\"function\"!=typeof i||Dl(i)||void 0!==i.defaultProps||null!==n.compare?((e=Ul(n.type,null,r,t,t.mode,a)).ref=t.ref,e.return=t,t.child=e):(t.tag=15,t.type=i,Yo(e,t,i,r,a))}if(i=e.child,!pu(e,a)){var o=i.memoizedProps;if((n=null!==(n=n.compare)?n:Gn)(o,r)&&e.ref===t.ref)return du(e,t,a)}return t.flags|=1,(e=Rl(i,r)).ref=t.ref,e.return=t,t.child=e}function Yo(e,t,n,r,a){if(null!==e){var i=e.memoizedProps;if(Gn(i,r)&&e.ref===t.ref){if(Vo=!1,t.pendingProps=r=i,!pu(e,a))return t.lanes=e.lanes,du(e,t,a);131072&e.flags&&(Vo=!0)}}return Zo(e,t,n,r,a)}function Go(e,t,n){var r=t.pendingProps,a=r.children,i=!!(2&t.stateNode._pendingVisibility),o=null!==e?e.memoizedState:null;if(Xo(e,t),\"hidden\"===r.mode||i){if(128&t.flags){if(r=null!==o?o.baseLanes|n:n,null!==e){for(a=t.child=e.child,i=0;null!==a;)i=i|a.lanes|a.childLanes,a=a.sibling;t.childLanes=i&~r}else t.childLanes=0,t.child=null;return Ko(e,t,r,n)}if(!(536870912&n))return t.lanes=t.childLanes=536870912,Ko(e,t,null!==o?o.baseLanes|n:n,n);t.memoizedState={baseLanes:0,cachePool:null},null!==e&&Ka(0,null!==o?o.cachePool:null),null!==o?Ea(t,o):Ca(),Ma(t)}else null!==o?(Ka(0,o.cachePool),Ea(t,o),Aa(),t.memoizedState=null):(null!==e&&Ka(0,null),Ca(),Aa());return Wo(e,t,a,n),t.child}function Ko(e,t,n,r){var a=Ga();return a=null===a?null:{parent:Ua._currentValue,pool:a},t.memoizedState={baseLanes:n,cachePool:a},null!==e&&Ka(0,null),Ca(),Ma(t),null!==e&&ku(e,t,r,!0),null}function Xo(e,t){var n=t.ref;if(null===n)null!==e&&null!==e.ref&&(t.flags|=2097664);else{if(\"function\"!=typeof n&&\"object\"!=typeof n)throw Error(o(284));null!==e&&e.ref===n||(t.flags|=2097664)}}function Zo(e,t,n,r,a){return Su(t),n=fi(e,t,n,r,void 0,a),r=gi(),null===e||Vo?(Kr&&r&&qr(t),t.flags|=1,Wo(e,t,n,a),t.child):(vi(e,t,a),du(e,t,a))}function Jo(e,t,n,r,a,i){return Su(t),t.updateQueue=null,n=pi(t,r,n,a),di(e),r=gi(),null===e||Vo?(Kr&&r&&qr(t),t.flags|=1,Wo(e,t,n,i),t.child):(vi(e,t,i),du(e,t,i))}function eu(e,t,n,r,a){if(Su(t),null===t.stateNode){var i=Ar,o=n.contextType;\"object\"==typeof o&&null!==o&&(i=Eu(o)),i=new n(r,i),t.memoizedState=null!==i.state&&void 0!==i.state?i.state:null,i.updater=No,t.stateNode=i,i._reactInternals=t,(i=t.stateNode).props=r,i.state=t.memoizedState,i.refs={},zu(t),o=n.contextType,i.context=\"object\"==typeof o&&null!==o?Eu(o):Ar,i.state=t.memoizedState,\"function\"==typeof(o=n.getDerivedStateFromProps)&&(zo(t,n,o,r),i.state=t.memoizedState),\"function\"==typeof n.getDerivedStateFromProps||\"function\"==typeof i.getSnapshotBeforeUpdate||\"function\"!=typeof i.UNSAFE_componentWillMount&&\"function\"!=typeof i.componentWillMount||(o=i.state,\"function\"==typeof i.componentWillMount&&i.componentWillMount(),\"function\"==typeof i.UNSAFE_componentWillMount&&i.UNSAFE_componentWillMount(),o!==i.state&&No.enqueueReplaceState(i,i.state,null),Ru(t,r,i,a),Du(),i.state=t.memoizedState),\"function\"==typeof i.componentDidMount&&(t.flags|=4194308),r=!0}else if(null===e){i=t.stateNode;var u=t.memoizedProps,l=Oo(n,u);i.props=l;var s=i.context,c=n.contextType;o=Ar,\"object\"==typeof c&&null!==c&&(o=Eu(c));var f=n.getDerivedStateFromProps;c=\"function\"==typeof f||\"function\"==typeof i.getSnapshotBeforeUpdate,u=t.pendingProps!==u,c||\"function\"!=typeof i.UNSAFE_componentWillReceiveProps&&\"function\"!=typeof i.componentWillReceiveProps||(u||s!==o)&&Ao(t,i,r,o),Pu=!1;var d=t.memoizedState;i.state=d,Ru(t,r,i,a),Du(),s=t.memoizedState,u||d!==s||Pu?(\"function\"==typeof f&&(zo(t,n,f,r),s=t.memoizedState),(l=Pu||Mo(t,n,l,r,d,s,o))?(c||\"function\"!=typeof i.UNSAFE_componentWillMount&&\"function\"!=typeof i.componentWillMount||(\"function\"==typeof i.componentWillMount&&i.componentWillMount(),\"function\"==typeof i.UNSAFE_componentWillMount&&i.UNSAFE_componentWillMount()),\"function\"==typeof i.componentDidMount&&(t.flags|=4194308)):(\"function\"==typeof i.componentDidMount&&(t.flags|=4194308),t.memoizedProps=r,t.memoizedState=s),i.props=r,i.state=s,i.context=o,r=l):(\"function\"==typeof i.componentDidMount&&(t.flags|=4194308),r=!1)}else{i=t.stateNode,Nu(e,t),c=Oo(n,o=t.memoizedProps),i.props=c,f=t.pendingProps,d=i.context,s=n.contextType,l=Ar,\"object\"==typeof s&&null!==s&&(l=Eu(s)),(s=\"function\"==typeof(u=n.getDerivedStateFromProps)||\"function\"==typeof i.getSnapshotBeforeUpdate)||\"function\"!=typeof i.UNSAFE_componentWillReceiveProps&&\"function\"!=typeof i.componentWillReceiveProps||(o!==f||d!==l)&&Ao(t,i,r,l),Pu=!1,d=t.memoizedState,i.state=d,Ru(t,r,i,a),Du();var p=t.memoizedState;o!==f||d!==p||Pu||null!==e&&null!==e.dependencies&&xu(e.dependencies)?(\"function\"==typeof u&&(zo(t,n,u,r),p=t.memoizedState),(c=Pu||Mo(t,n,c,r,d,p,l)||null!==e&&null!==e.dependencies&&xu(e.dependencies))?(s||\"function\"!=typeof i.UNSAFE_componentWillUpdate&&\"function\"!=typeof i.componentWillUpdate||(\"function\"==typeof i.componentWillUpdate&&i.componentWillUpdate(r,p,l),\"function\"==typeof i.UNSAFE_componentWillUpdate&&i.UNSAFE_componentWillUpdate(r,p,l)),\"function\"==typeof i.componentDidUpdate&&(t.flags|=4),\"function\"==typeof i.getSnapshotBeforeUpdate&&(t.flags|=1024)):(\"function\"!=typeof i.componentDidUpdate||o===e.memoizedProps&&d===e.memoizedState||(t.flags|=4),\"function\"!=typeof i.getSnapshotBeforeUpdate||o===e.memoizedProps&&d===e.memoizedState||(t.flags|=1024),t.memoizedProps=r,t.memoizedState=p),i.props=r,i.state=p,i.context=l,r=c):(\"function\"!=typeof i.componentDidUpdate||o===e.memoizedProps&&d===e.memoizedState||(t.flags|=4),\"function\"!=typeof i.getSnapshotBeforeUpdate||o===e.memoizedProps&&d===e.memoizedState||(t.flags|=1024),r=!1)}return i=r,Xo(e,t),r=!!(128&t.flags),i||r?(i=t.stateNode,n=r&&\"function\"!=typeof n.getDerivedStateFromError?null:i.render(),t.flags|=1,null!==e&&r?(t.child=_a(t,e.child,null,a),t.child=_a(t,null,n,a)):Wo(e,t,n,a),t.memoizedState=i.state,e=t.child):e=du(e,t,a),e}function tu(e,t,n,r){return aa(),t.flags|=256,Wo(e,t,n,r),t.child}var nu={dehydrated:null,treeContext:null,retryLane:0};function ru(e){return{baseLanes:e,cachePool:Xa()}}function au(e,t,n){return e=null!==e?e.childLanes&~n:0,t&&(e|=hs),e}function iu(e,t,n){var r,a=t.pendingProps,i=!1,u=!!(128&t.flags);if((r=u)||(r=(null===e||null!==e.memoizedState)&&!!(2&La.current)),r&&(i=!0,t.flags&=-129),r=!!(32&t.flags),t.flags&=-33,null===e){if(Kr){if(i?Na(t):Aa(),Kr){var l,s=Gr;if(l=s){e:{for(l=s,s=Zr;8!==l.nodeType;){if(!s){s=null;break e}if(null===(l=lf(l.nextSibling))){s=null;break e}}s=l}null!==s?(t.memoizedState={dehydrated:s,treeContext:null!==$r?{id:Br,overflow:Hr}:null,retryLane:536870912},(l=Fl(18,null,null,0)).stateNode=s,l.return=t,t.child=l,Yr=t,Gr=null,l=!0):l=!1}l||ea(t)}if(null!==(s=t.memoizedState)&&null!==(s=s.dehydrated))return\"$!\"===s.data?t.lanes=16:t.lanes=536870912,null;Oa(t)}return s=a.children,a=a.fallback,i?(Aa(),s=uu({mode:\"hidden\",children:s},i=t.mode),a=Il(a,i,n,null),s.return=t,a.return=t,s.sibling=a,t.child=s,(i=t.child).memoizedState=ru(n),i.childLanes=au(e,r,n),t.memoizedState=nu,a):(Na(t),ou(t,s))}if(null!==(l=e.memoizedState)&&null!==(s=l.dehydrated)){if(u)256&t.flags?(Na(t),t.flags&=-257,t=lu(e,t,n)):null!==t.memoizedState?(Aa(),t.child=e.child,t.flags|=128,t=null):(Aa(),i=a.fallback,s=t.mode,a=uu({mode:\"visible\",children:a.children},s),(i=Il(i,s,n,null)).flags|=2,a.return=t,i.return=t,a.sibling=i,t.child=a,_a(t,e.child,null,n),(a=t.child).memoizedState=ru(n),a.childLanes=au(e,r,n),t.memoizedState=nu,t=i);else if(Na(t),\"$!\"===s.data){if(r=s.nextSibling&&s.nextSibling.dataset)var c=r.dgst;r=c,(a=Error(o(419))).stack=\"\",a.digest=r,ia({value:a,source:null,stack:null}),t=lu(e,t,n)}else if(Vo||ku(e,t,n,!1),r=!!(n&e.childLanes),Vo||r){if(null!==(r=ts)){if(42&(a=n&-n))a=1;else switch(a){case 2:a=1;break;case 8:a=4;break;case 32:a=16;break;case 128:case 256:case 512:case 1024:case 2048:case 4096:case 8192:case 16384:case 32768:case 65536:case 131072:case 262144:case 524288:case 1048576:case 2097152:case 4194304:case 8388608:case 16777216:case 33554432:a=64;break;case 268435456:a=134217728;break;default:a=0}if(0!==(a=a&(r.suspendedLanes|n)?0:a)&&a!==l.retryLane)throw l.retryLane=a,zr(e,a),As(r,0,a),Ho}\"$?\"===s.data||Vs(),t=lu(e,t,n)}else\"$?\"===s.data?(t.flags|=128,t.child=e.child,t=uc.bind(null,e),s._reactRetry=t,t=null):(e=l.treeContext,Gr=lf(s.nextSibling),Yr=t,Kr=!0,Xr=null,Zr=!1,null!==e&&(Ur[Ir++]=Br,Ur[Ir++]=Hr,Ur[Ir++]=$r,Br=e.id,Hr=e.overflow,$r=t),(t=ou(t,a.children)).flags|=4096);return t}return i?(Aa(),i=a.fallback,s=t.mode,c=(l=e.child).sibling,(a=Rl(l,{mode:\"hidden\",children:a.children})).subtreeFlags=31457280&l.subtreeFlags,null!==c?i=Rl(c,i):(i=Il(i,s,n,null)).flags|=2,i.return=t,a.return=t,a.sibling=i,t.child=a,a=i,i=t.child,null===(s=e.child.memoizedState)?s=ru(n):(null!==(l=s.cachePool)?(c=Ua._currentValue,l=l.parent!==c?{parent:c,pool:c}:l):l=Xa(),s={baseLanes:s.baseLanes|n,cachePool:l}),i.memoizedState=s,i.childLanes=au(e,r,n),t.memoizedState=nu,a):(Na(t),e=(n=e.child).sibling,(n=Rl(n,{mode:\"visible\",children:a.children})).return=t,n.sibling=null,null!==e&&(null===(r=t.deletions)?(t.deletions=[e],t.flags|=16):r.push(e)),t.child=n,t.memoizedState=null,n)}function ou(e,t){return(t=uu({mode:\"visible\",children:t},e.mode)).return=e,e.child=t}function uu(e,t){return $l(e,t,0,null)}function lu(e,t,n){return _a(t,e.child,null,n),(e=ou(t,t.pendingProps.children)).flags|=2,t.memoizedState=null,e}function su(e,t,n){e.lanes|=t;var r=e.alternate;null!==r&&(r.lanes|=t),wu(e.return,t,n)}function cu(e,t,n,r,a){var i=e.memoizedState;null===i?e.memoizedState={isBackwards:t,rendering:null,renderingStartTime:0,last:r,tail:n,tailMode:a}:(i.isBackwards=t,i.rendering=null,i.renderingStartTime=0,i.last=r,i.tail=n,i.tailMode=a)}function fu(e,t,n){var r=t.pendingProps,a=r.revealOrder,i=r.tail;if(Wo(e,t,r.children,n),2&(r=La.current))r=1&r|2,t.flags|=128;else{if(null!==e&&128&e.flags)e:for(e=t.child;null!==e;){if(13===e.tag)null!==e.memoizedState&&su(e,n,t);else if(19===e.tag)su(e,n,t);else if(null!==e.child){e.child.return=e,e=e.child;continue}if(e===t)break e;for(;null===e.sibling;){if(null===e.return||e.return===t)break e;e=e.return}e.sibling.return=e.return,e=e.sibling}r&=1}switch(Y(La,r),a){case\"forwards\":for(n=t.child,a=null;null!==n;)null!==(e=n.alternate)&&null===Fa(e)&&(a=n),n=n.sibling;null===(n=a)?(a=t.child,t.child=null):(a=n.sibling,n.sibling=null),cu(t,!1,a,n,i);break;case\"backwards\":for(n=null,a=t.child,t.child=null;null!==a;){if(null!==(e=a.alternate)&&null===Fa(e)){t.child=a;break}e=a.sibling,a.sibling=n,n=a,a=e}cu(t,!0,n,null,i);break;case\"together\":cu(t,!1,null,null,void 0);break;default:t.memoizedState=null}return t.child}function du(e,t,n){if(null!==e&&(t.dependencies=e.dependencies),fs|=t.lanes,!(n&t.childLanes)){if(null===e)return null;if(ku(e,t,n,!1),!(n&t.childLanes))return null}if(null!==e&&t.child!==e.child)throw Error(o(153));if(null!==t.child){for(n=Rl(e=t.child,e.pendingProps),t.child=n,n.return=t;null!==e.sibling;)e=e.sibling,(n=n.sibling=Rl(e,e.pendingProps)).return=t;n.sibling=null}return t.child}function pu(e,t){return!!(e.lanes&t)||!(null===(e=e.dependencies)||!xu(e))}function hu(e,t,n){if(null!==e)if(e.memoizedProps!==t.pendingProps)Vo=!0;else{if(!(pu(e,n)||128&t.flags))return Vo=!1,function(e,t,n){switch(t.tag){case 3:J(t,t.stateNode.containerInfo),yu(0,Ua,e.memoizedState.cache),aa();break;case 27:case 5:te(t);break;case 4:J(t,t.stateNode.containerInfo);break;case 10:yu(0,t.type,t.memoizedProps.value);break;case 13:var r=t.memoizedState;if(null!==r)return null!==r.dehydrated?(Na(t),t.flags|=128,null):n&t.child.childLanes?iu(e,t,n):(Na(t),null!==(e=du(e,t,n))?e.sibling:null);Na(t);break;case 19:var a=!!(128&e.flags);if((r=!!(n&t.childLanes))||(ku(e,t,n,!1),r=!!(n&t.childLanes)),a){if(r)return fu(e,t,n);t.flags|=128}if(null!==(a=t.memoizedState)&&(a.rendering=null,a.tail=null,a.lastEffect=null),Y(La,La.current),r)break;return null;case 22:case 23:return t.lanes=0,Go(e,t,n);case 24:yu(0,Ua,e.memoizedState.cache)}return du(e,t,n)}(e,t,n);Vo=!!(131072&e.flags)}else Vo=!1,Kr&&1048576&t.flags&&Wr(t,jr,t.index);switch(t.lanes=0,t.tag){case 16:e:{e=t.pendingProps;var r=t.elementType,a=r._init;if(r=a(r._payload),t.type=r,\"function\"!=typeof r){if(null!=r){if((a=r.$$typeof)===m){t.tag=11,t=qo(null,t,r,e,n);break e}if(a===w){t.tag=14,t=Qo(null,t,r,e,n);break e}}throw t=T(r)||r,Error(o(306,t,\"\"))}Dl(r)?(e=Oo(r,e),t.tag=1,t=eu(null,t,r,e,n)):(t.tag=0,t=Zo(null,t,r,e,n))}return t;case 0:return Zo(e,t,t.type,t.pendingProps,n);case 1:return eu(e,t,r=t.type,a=Oo(r,t.pendingProps),n);case 3:e:{if(J(t,t.stateNode.containerInfo),null===e)throw Error(o(387));var i=t.pendingProps;r=(a=t.memoizedState).element,Nu(e,t),Ru(t,i,null,n);var u=t.memoizedState;if(i=u.cache,yu(0,Ua,i),i!==a.cache&&_u(t,[Ua],n,!0),Du(),i=u.element,a.isDehydrated){if(a={element:i,isDehydrated:!1,cache:u.cache},t.updateQueue.baseState=a,t.memoizedState=a,256&t.flags){t=tu(e,t,i,n);break e}if(i!==r){ia(r=Lr(Error(o(424)),t)),t=tu(e,t,i,n);break e}for(Gr=lf(t.stateNode.containerInfo.firstChild),Yr=t,Kr=!0,Xr=null,Zr=!0,n=ka(t,null,i,n),t.child=n;n;)n.flags=-3&n.flags|4096,n=n.sibling}else{if(aa(),i===r){t=du(e,t,n);break e}Wo(e,t,i,n)}t=t.child}return t;case 26:return Xo(e,t),null===e?(n=mf(t.type,null,t.pendingProps,null))?t.memoizedState=n:Kr||(n=t.type,e=t.pendingProps,(r=Gc(X.current).createElement(n))[je]=t,r[Ue]=e,qc(r,n,e),Xe(r),t.stateNode=r):t.memoizedState=mf(t.type,e.memoizedProps,t.pendingProps,e.memoizedState),null;case 27:return te(t),null===e&&Kr&&(r=t.stateNode=cf(t.type,t.pendingProps,X.current),Yr=t,Zr=!0,Gr=lf(r.firstChild)),r=t.pendingProps.children,null!==e||Kr?Wo(e,t,r,n):t.child=_a(t,null,r,n),Xo(e,t),t.child;case 5:return null===e&&Kr&&((a=r=Gr)&&(null!==(r=function(e,t,n,r){for(;1===e.nodeType;){var a=n;if(e.nodeName.toLowerCase()!==t.toLowerCase()){if(!r&&(\"INPUT\"!==e.nodeName||\"hidden\"!==e.type))break}else if(r){if(!e[We])switch(t){case\"meta\":if(!e.hasAttribute(\"itemprop\"))break;return e;case\"link\":if(\"stylesheet\"===(i=e.getAttribute(\"rel\"))&&e.hasAttribute(\"data-precedence\"))break;if(i!==a.rel||e.getAttribute(\"href\")!==(null==a.href?null:a.href)||e.getAttribute(\"crossorigin\")!==(null==a.crossOrigin?null:a.crossOrigin)||e.getAttribute(\"title\")!==(null==a.title?null:a.title))break;return e;case\"style\":if(e.hasAttribute(\"data-precedence\"))break;return e;case\"script\":if(((i=e.getAttribute(\"src\"))!==(null==a.src?null:a.src)||e.getAttribute(\"type\")!==(null==a.type?null:a.type)||e.getAttribute(\"crossorigin\")!==(null==a.crossOrigin?null:a.crossOrigin))&&i&&e.hasAttribute(\"async\")&&!e.hasAttribute(\"itemprop\"))break;return e;default:return e}}else{if(\"input\"!==t||\"hidden\"!==e.type)return e;var i=null==a.name?null:\"\"+a.name;if(\"hidden\"===a.type&&e.getAttribute(\"name\")===i)return e}if(null===(e=lf(e.nextSibling)))break}return null}(r,t.type,t.pendingProps,Zr))?(t.stateNode=r,Yr=t,Gr=lf(r.firstChild),Zr=!1,a=!0):a=!1),a||ea(t)),te(t),a=t.type,i=t.pendingProps,u=null!==e?e.memoizedProps:null,r=i.children,Zc(a,i)?r=null:null!==u&&Zc(a,u)&&(t.flags|=32),null!==t.memoizedState&&(a=fi(e,t,hi,null,null,n),Rf._currentValue=a),Xo(e,t),Wo(e,t,r,n),t.child;case 6:return null===e&&Kr&&((e=n=Gr)&&(null!==(n=function(e,t,n){if(\"\"===t)return null;for(;3!==e.nodeType;){if((1!==e.nodeType||\"INPUT\"!==e.nodeName||\"hidden\"!==e.type)&&!n)return null;if(null===(e=lf(e.nextSibling)))return null}return e}(n,t.pendingProps,Zr))?(t.stateNode=n,Yr=t,Gr=null,e=!0):e=!1),e||ea(t)),null;case 13:return iu(e,t,n);case 4:return J(t,t.stateNode.containerInfo),r=t.pendingProps,null===e?t.child=_a(t,null,r,n):Wo(e,t,r,n),t.child;case 11:return qo(e,t,t.type,t.pendingProps,n);case 7:return Wo(e,t,t.pendingProps,n),t.child;case 8:case 12:return Wo(e,t,t.pendingProps.children,n),t.child;case 10:return r=t.pendingProps,yu(0,t.type,r.value),Wo(e,t,r.children,n),t.child;case 9:return a=t.type._context,r=t.pendingProps.children,Su(t),r=r(a=Eu(a)),t.flags|=1,Wo(e,t,r,n),t.child;case 14:return Qo(e,t,t.type,t.pendingProps,n);case 15:return Yo(e,t,t.type,t.pendingProps,n);case 19:return fu(e,t,n);case 22:return Go(e,t,n);case 24:return Su(t),r=Eu(Ua),null===e?(null===(a=Ga())&&(a=ts,i=Ia(),a.pooledCache=i,i.refCount++,null!==i&&(a.pooledCacheLanes|=n),a=i),t.memoizedState={parent:r,cache:a},zu(t),yu(0,Ua,a)):(!!(e.lanes&n)&&(Nu(e,t),Ru(t,null,null,n),Du()),a=e.memoizedState,i=t.memoizedState,a.parent!==r?(a={parent:r,cache:r},t.memoizedState=a,0===t.lanes&&(t.memoizedState=t.updateQueue.baseState=a),yu(0,Ua,r)):(r=i.cache,yu(0,Ua,r),r!==a.cache&&_u(t,[Ua],n,!0))),Wo(e,t,t.pendingProps.children,n),t.child;case 29:throw t.pendingProps}throw Error(o(156,t.tag))}var gu=q(null),vu=null,mu=null;function yu(e,t,n){Y(gu,t._currentValue),t._currentValue=n}function bu(e){e._currentValue=gu.current,Q(gu)}function wu(e,t,n){for(;null!==e;){var r=e.alternate;if((e.childLanes&t)!==t?(e.childLanes|=t,null!==r&&(r.childLanes|=t)):null!==r&&(r.childLanes&t)!==t&&(r.childLanes|=t),e===n)break;e=e.return}}function _u(e,t,n,r){var a=e.child;for(null!==a&&(a.return=e);null!==a;){var i=a.dependencies;if(null!==i){var u=a.child;i=i.firstContext;e:for(;null!==i;){var l=i;i=a;for(var s=0;s<t.length;s++)if(l.context===t[s]){i.lanes|=n,null!==(l=i.alternate)&&(l.lanes|=n),wu(i.return,n,e),r||(u=null);break e}i=l.next}}else if(18===a.tag){if(null===(u=a.return))throw Error(o(341));u.lanes|=n,null!==(i=u.alternate)&&(i.lanes|=n),wu(u,n,e),u=null}else u=a.child;if(null!==u)u.return=a;else for(u=a;null!==u;){if(u===e){u=null;break}if(null!==(a=u.sibling)){a.return=u.return,u=a;break}u=u.return}a=u}}function ku(e,t,n,r){e=null;for(var a=t,i=!1;null!==a;){if(!i)if(524288&a.flags)i=!0;else if(262144&a.flags)break;if(10===a.tag){var u=a.alternate;if(null===u)throw Error(o(387));if(null!==(u=u.memoizedProps)){var l=a.type;Yn(a.pendingProps.value,u.value)||(null!==e?e.push(l):e=[l])}}else if(a===Z.current){if(null===(u=a.alternate))throw Error(o(387));u.memoizedState.memoizedState!==a.memoizedState.memoizedState&&(null!==e?e.push(Rf):e=[Rf])}a=a.return}null!==e&&_u(t,e,n,r),t.flags|=262144}function xu(e){for(e=e.firstContext;null!==e;){if(!Yn(e.context._currentValue,e.memoizedValue))return!0;e=e.next}return!1}function Su(e){vu=e,mu=null,null!==(e=e.dependencies)&&(e.firstContext=null)}function Eu(e){return Tu(vu,e)}function Cu(e,t){return null===vu&&Su(e),Tu(e,t)}function Tu(e,t){var n=t._currentValue;if(t={context:t,memoizedValue:n,next:null},null===mu){if(null===e)throw Error(o(308));mu=t,e.dependencies={lanes:0,firstContext:t},e.flags|=524288}else mu=mu.next=t;return n}var Pu=!1;function zu(e){e.updateQueue={baseState:e.memoizedState,firstBaseUpdate:null,lastBaseUpdate:null,shared:{pending:null,lanes:0,hiddenCallbacks:null},callbacks:null}}function Nu(e,t){e=e.updateQueue,t.updateQueue===e&&(t.updateQueue={baseState:e.baseState,firstBaseUpdate:e.firstBaseUpdate,lastBaseUpdate:e.lastBaseUpdate,shared:e.shared,callbacks:null})}function Mu(e){return{lane:e,tag:0,payload:null,callback:null,next:null}}function Au(e,t,n){var r=e.updateQueue;if(null===r)return null;if(r=r.shared,2&es){var a=r.pending;return null===a?t.next=t:(t.next=a.next,a.next=t),r.pending=t,t=Mr(e),Nr(e,null,n),t}return Tr(e,r,t,n),Mr(e)}function Ou(e,t,n){if(null!==(t=t.updateQueue)&&(t=t.shared,4194176&n)){var r=t.lanes;n|=r&=e.pendingLanes,t.lanes=n,Le(e,n)}}function Lu(e,t){var n=e.updateQueue,r=e.alternate;if(null!==r&&n===(r=r.updateQueue)){var a=null,i=null;if(null!==(n=n.firstBaseUpdate)){do{var o={lane:n.lane,tag:n.tag,payload:n.payload,callback:null,next:null};null===i?a=i=o:i=i.next=o,n=n.next}while(null!==n);null===i?a=i=t:i=i.next=t}else a=i=t;return n={baseState:r.baseState,firstBaseUpdate:a,lastBaseUpdate:i,shared:r.shared,callbacks:r.callbacks},void(e.updateQueue=n)}null===(e=n.lastBaseUpdate)?n.firstBaseUpdate=t:e.next=t,n.lastBaseUpdate=t}var Fu=!1;function Du(){if(Fu&&null!==Wa)throw Wa}function Ru(e,t,n,r){Fu=!1;var a=e.updateQueue;Pu=!1;var i=a.firstBaseUpdate,o=a.lastBaseUpdate,u=a.shared.pending;if(null!==u){a.shared.pending=null;var l=u,s=l.next;l.next=null,null===o?i=s:o.next=s,o=l;var c=e.alternate;null!==c&&(u=(c=c.updateQueue).lastBaseUpdate)!==o&&(null===u?c.firstBaseUpdate=s:u.next=s,c.lastBaseUpdate=l)}if(null!==i){var f=a.baseState;for(o=0,c=s=l=null,u=i;;){var d=-536870913&u.lane,p=d!==u.lane;if(p?(rs&d)===d:(r&d)===d){0!==d&&d===Va&&(Fu=!0),null!==c&&(c=c.next={lane:0,tag:u.tag,payload:u.payload,callback:null,next:null});e:{var h=e,g=u;d=t;var v=n;switch(g.tag){case 1:if(\"function\"==typeof(h=g.payload)){f=h.call(v,f,d);break e}f=h;break e;case 3:h.flags=-65537&h.flags|128;case 0:if(null==(d=\"function\"==typeof(h=g.payload)?h.call(v,f,d):h))break e;f=M({},f,d);break e;case 2:Pu=!0}}null!==(d=u.callback)&&(e.flags|=64,p&&(e.flags|=8192),null===(p=a.callbacks)?a.callbacks=[d]:p.push(d))}else p={lane:d,tag:u.tag,payload:u.payload,callback:u.callback,next:null},null===c?(s=c=p,l=f):c=c.next=p,o|=d;if(null===(u=u.next)){if(null===(u=a.shared.pending))break;u=(p=u).next,p.next=null,a.lastBaseUpdate=p,a.shared.pending=null}}null===c&&(l=f),a.baseState=l,a.firstBaseUpdate=s,a.lastBaseUpdate=c,null===i&&(a.shared.lanes=0),fs|=o,e.lanes=o,e.memoizedState=f}}function ju(e,t){if(\"function\"!=typeof e)throw Error(o(191,e));e.call(t)}function Uu(e,t){var n=e.callbacks;if(null!==n)for(e.callbacks=null,e=0;e<n.length;e++)ju(n[e],t)}function Iu(e,t){try{var n=t.updateQueue,r=null!==n?n.lastEffect:null;if(null!==r){var a=r.next;n=a;do{if((n.tag&e)===e){r=void 0;var i=n.create,o=n.inst;r=i(),o.destroy=r}n=n.next}while(n!==a)}}catch(e){rc(t,t.return,e)}}function $u(e,t,n){try{var r=t.updateQueue,a=null!==r?r.lastEffect:null;if(null!==a){var i=a.next;r=i;do{if((r.tag&e)===e){var o=r.inst,u=o.destroy;if(void 0!==u){o.destroy=void 0,a=t;var l=n;try{u()}catch(e){rc(a,l,e)}}}r=r.next}while(r!==i)}}catch(e){rc(t,t.return,e)}}function Bu(e){var t=e.updateQueue;if(null!==t){var n=e.stateNode;try{Uu(t,n)}catch(t){rc(e,e.return,t)}}}function Hu(e,t,n){n.props=Oo(e.type,e.memoizedProps),n.state=e.memoizedState;try{n.componentWillUnmount()}catch(n){rc(e,t,n)}}function Vu(e,t){try{var n=e.ref;if(null!==n){var r=e.stateNode;switch(e.tag){case 26:case 27:case 5:var a=r;break;default:a=r}\"function\"==typeof n?e.refCleanup=n(a):n.current=a}}catch(n){rc(e,t,n)}}function Wu(e,t){var n=e.ref,r=e.refCleanup;if(null!==n)if(\"function\"==typeof r)try{r()}catch(n){rc(e,t,n)}finally{e.refCleanup=null,null!=(e=e.alternate)&&(e.refCleanup=null)}else if(\"function\"==typeof n)try{n(null)}catch(n){rc(e,t,n)}else n.current=null}function qu(e){var t=e.type,n=e.memoizedProps,r=e.stateNode;try{e:switch(t){case\"button\":case\"input\":case\"select\":case\"textarea\":n.autoFocus&&r.focus();break e;case\"img\":n.src?r.src=n.src:n.srcSet&&(r.srcset=n.srcSet)}}catch(t){rc(e,e.return,t)}}function Qu(e,t,n){try{var r=e.stateNode;!function(e,t,n,r){switch(t){case\"div\":case\"span\":case\"svg\":case\"path\":case\"a\":case\"g\":case\"p\":case\"li\":break;case\"input\":var a=null,i=null,u=null,l=null,s=null,c=null,f=null;for(h in n){var d=n[h];if(n.hasOwnProperty(h)&&null!=d)switch(h){case\"checked\":case\"value\":break;case\"defaultValue\":s=d;default:r.hasOwnProperty(h)||Vc(e,t,h,null,r,d)}}for(var p in r){var h=r[p];if(d=n[p],r.hasOwnProperty(p)&&(null!=h||null!=d))switch(p){case\"type\":i=h;break;case\"name\":a=h;break;case\"checked\":c=h;break;case\"defaultChecked\":f=h;break;case\"value\":u=h;break;case\"defaultValue\":l=h;break;case\"children\":case\"dangerouslySetInnerHTML\":if(null!=h)throw Error(o(137,t));break;default:h!==d&&Vc(e,t,p,h,r,d)}}return void vt(e,u,l,s,c,f,i,a);case\"select\":for(i in h=u=l=p=null,n)if(s=n[i],n.hasOwnProperty(i)&&null!=s)switch(i){case\"value\":break;case\"multiple\":h=s;default:r.hasOwnProperty(i)||Vc(e,t,i,null,r,s)}for(a in r)if(i=r[a],s=n[a],r.hasOwnProperty(a)&&(null!=i||null!=s))switch(a){case\"value\":p=i;break;case\"defaultValue\":l=i;break;case\"multiple\":u=i;default:i!==s&&Vc(e,t,a,i,r,s)}return t=l,n=u,r=h,void(null!=p?bt(e,!!n,p,!1):!!r!=!!n&&(null!=t?bt(e,!!n,t,!0):bt(e,!!n,n?[]:\"\",!1)));case\"textarea\":for(l in h=p=null,n)if(a=n[l],n.hasOwnProperty(l)&&null!=a&&!r.hasOwnProperty(l))switch(l){case\"value\":case\"children\":break;default:Vc(e,t,l,null,r,a)}for(u in r)if(a=r[u],i=n[u],r.hasOwnProperty(u)&&(null!=a||null!=i))switch(u){case\"value\":p=a;break;case\"defaultValue\":h=a;break;case\"children\":break;case\"dangerouslySetInnerHTML\":if(null!=a)throw Error(o(91));break;default:a!==i&&Vc(e,t,u,a,r,i)}return void wt(e,p,h);case\"option\":for(var g in n)p=n[g],n.hasOwnProperty(g)&&null!=p&&!r.hasOwnProperty(g)&&(\"selected\"===g?e.selected=!1:Vc(e,t,g,null,r,p));for(s in r)p=r[s],h=n[s],!r.hasOwnProperty(s)||p===h||null==p&&null==h||(\"selected\"===s?e.selected=p&&\"function\"!=typeof p&&\"symbol\"!=typeof p:Vc(e,t,s,p,r,h));return;case\"img\":case\"link\":case\"area\":case\"base\":case\"br\":case\"col\":case\"embed\":case\"hr\":case\"keygen\":case\"meta\":case\"param\":case\"source\":case\"track\":case\"wbr\":case\"menuitem\":for(var v in n)p=n[v],n.hasOwnProperty(v)&&null!=p&&!r.hasOwnProperty(v)&&Vc(e,t,v,null,r,p);for(c in r)if(p=r[c],h=n[c],r.hasOwnProperty(c)&&p!==h&&(null!=p||null!=h))switch(c){case\"children\":case\"dangerouslySetInnerHTML\":if(null!=p)throw Error(o(137,t));break;default:Vc(e,t,c,p,r,h)}return;default:if(Ct(t)){for(var m in n)p=n[m],n.hasOwnProperty(m)&&void 0!==p&&!r.hasOwnProperty(m)&&Wc(e,t,m,void 0,r,p);for(f in r)p=r[f],h=n[f],!r.hasOwnProperty(f)||p===h||void 0===p&&void 0===h||Wc(e,t,f,p,r,h);return}}for(var y in n)p=n[y],n.hasOwnProperty(y)&&null!=p&&!r.hasOwnProperty(y)&&Vc(e,t,y,null,r,p);for(d in r)p=r[d],h=n[d],!r.hasOwnProperty(d)||p===h||null==p&&null==h||Vc(e,t,d,p,r,h)}(r,e.type,n,t),r[Ue]=t}catch(t){rc(e,e.return,t)}}function Yu(e){return 5===e.tag||3===e.tag||26===e.tag||27===e.tag||4===e.tag}function Gu(e){e:for(;;){for(;null===e.sibling;){if(null===e.return||Yu(e.return))return null;e=e.return}for(e.sibling.return=e.return,e=e.sibling;5!==e.tag&&6!==e.tag&&27!==e.tag&&18!==e.tag;){if(2&e.flags)continue e;if(null===e.child||4===e.tag)continue e;e.child.return=e,e=e.child}if(!(2&e.flags))return e.stateNode}}function Ku(e,t,n){var r=e.tag;if(5===r||6===r)e=e.stateNode,t?8===n.nodeType?n.parentNode.insertBefore(e,t):n.insertBefore(e,t):(8===n.nodeType?(t=n.parentNode).insertBefore(e,n):(t=n).appendChild(e),null!=(n=n._reactRootContainer)||null!==t.onclick||(t.onclick=Hc));else if(4!==r&&27!==r&&null!==(e=e.child))for(Ku(e,t,n),e=e.sibling;null!==e;)Ku(e,t,n),e=e.sibling}function Xu(e,t,n){var r=e.tag;if(5===r||6===r)e=e.stateNode,t?n.insertBefore(e,t):n.appendChild(e);else if(4!==r&&27!==r&&null!==(e=e.child))for(Xu(e,t,n),e=e.sibling;null!==e;)Xu(e,t,n),e=e.sibling}var Zu=!1,Ju=!1,el=!1,tl=\"function\"==typeof WeakSet?WeakSet:Set,nl=null,rl=!1;function al(e,t,n){var r=n.flags;switch(n.tag){case 0:case 11:case 15:ml(e,n),4&r&&Iu(5,n);break;case 1:if(ml(e,n),4&r)if(e=n.stateNode,null===t)try{e.componentDidMount()}catch(e){rc(n,n.return,e)}else{var a=Oo(n.type,t.memoizedProps);t=t.memoizedState;try{e.componentDidUpdate(a,t,e.__reactInternalSnapshotBeforeUpdate)}catch(e){rc(n,n.return,e)}}64&r&&Bu(n),512&r&&Vu(n,n.return);break;case 3:if(ml(e,n),64&r&&null!==(r=n.updateQueue)){if(e=null,null!==n.child)switch(n.child.tag){case 27:case 5:case 1:e=n.child.stateNode}try{Uu(r,e)}catch(e){rc(n,n.return,e)}}break;case 26:ml(e,n),512&r&&Vu(n,n.return);break;case 27:case 5:ml(e,n),null===t&&4&r&&qu(n),512&r&&Vu(n,n.return);break;case 12:default:ml(e,n);break;case 13:ml(e,n),4&r&&cl(e,n);break;case 22:if(!(a=null!==n.memoizedState||Zu)){t=null!==t&&null!==t.memoizedState||Ju;var i=Zu,o=Ju;Zu=a,(Ju=t)&&!o?bl(e,n,!!(8772&n.subtreeFlags)):ml(e,n),Zu=i,Ju=o}512&r&&(\"manual\"===n.memoizedProps.mode?Vu(n,n.return):Wu(n,n.return))}}function il(e){var t=e.alternate;null!==t&&(e.alternate=null,il(t)),e.child=null,e.deletions=null,e.sibling=null,5===e.tag&&null!==(t=e.stateNode)&&qe(t),e.stateNode=null,e.return=null,e.dependencies=null,e.memoizedProps=null,e.memoizedState=null,e.pendingProps=null,e.stateNode=null,e.updateQueue=null}var ol=null,ul=!1;function ll(e,t,n){for(n=n.child;null!==n;)sl(e,t,n),n=n.sibling}function sl(e,t,n){if(ye&&\"function\"==typeof ye.onCommitFiberUnmount)try{ye.onCommitFiberUnmount(me,n)}catch(e){}switch(n.tag){case 26:Ju||Wu(n,t),ll(e,t,n),n.memoizedState?n.memoizedState.count--:n.stateNode&&(n=n.stateNode).parentNode.removeChild(n);break;case 27:Ju||Wu(n,t);var r=ol,a=ul;for(ol=n.stateNode,ll(e,t,n),t=(n=n.stateNode).attributes;t.length;)n.removeAttributeNode(t[0]);qe(n),ol=r,ul=a;break;case 5:Ju||Wu(n,t);case 6:a=ol;var i=ul;if(ol=null,ll(e,t,n),ul=i,null!==(ol=a))if(ul)try{e=ol,r=n.stateNode,8===e.nodeType?e.parentNode.removeChild(r):e.removeChild(r)}catch(e){rc(n,t,e)}else try{ol.removeChild(n.stateNode)}catch(e){rc(n,t,e)}break;case 18:null!==ol&&(ul?(t=ol,n=n.stateNode,8===t.nodeType?of(t.parentNode,n):1===t.nodeType&&of(t,n),vd(t)):of(ol,n.stateNode));break;case 4:r=ol,a=ul,ol=n.stateNode.containerInfo,ul=!0,ll(e,t,n),ol=r,ul=a;break;case 0:case 11:case 14:case 15:Ju||$u(2,n,t),Ju||$u(4,n,t),ll(e,t,n);break;case 1:Ju||(Wu(n,t),\"function\"==typeof(r=n.stateNode).componentWillUnmount&&Hu(n,t,r)),ll(e,t,n);break;case 21:ll(e,t,n);break;case 22:Ju||Wu(n,t),Ju=(r=Ju)||null!==n.memoizedState,ll(e,t,n),Ju=r;break;default:ll(e,t,n)}}function cl(e,t){if(null===t.memoizedState&&null!==(e=t.alternate)&&null!==(e=e.memoizedState)&&null!==(e=e.dehydrated))try{vd(e)}catch(e){rc(t,t.return,e)}}function fl(e,t){var n=function(e){switch(e.tag){case 13:case 19:var t=e.stateNode;return null===t&&(t=e.stateNode=new tl),t;case 22:return null===(t=(e=e.stateNode)._retryCache)&&(t=e._retryCache=new tl),t;default:throw Error(o(435,e.tag))}}(e);t.forEach((function(t){var r=lc.bind(null,e,t);n.has(t)||(n.add(t),t.then(r,r))}))}function dl(e,t){var n=t.deletions;if(null!==n)for(var r=0;r<n.length;r++){var a=n[r],i=e,u=t,l=u;e:for(;null!==l;){switch(l.tag){case 27:case 5:ol=l.stateNode,ul=!1;break e;case 3:case 4:ol=l.stateNode.containerInfo,ul=!0;break e}l=l.return}if(null===ol)throw Error(o(160));sl(i,u,a),ol=null,ul=!1,null!==(i=a.alternate)&&(i.return=null),a.return=null}if(13878&t.subtreeFlags)for(t=t.child;null!==t;)hl(t,e),t=t.sibling}var pl=null;function hl(e,t){var n=e.alternate,r=e.flags;switch(e.tag){case 0:case 11:case 14:case 15:dl(t,e),gl(e),4&r&&($u(3,e,e.return),Iu(3,e),$u(5,e,e.return));break;case 1:dl(t,e),gl(e),512&r&&(Ju||null===n||Wu(n,n.return)),64&r&&Zu&&null!==(e=e.updateQueue)&&null!==(r=e.callbacks)&&(n=e.shared.hiddenCallbacks,e.shared.hiddenCallbacks=null===n?r:n.concat(r));break;case 26:var a=pl;if(dl(t,e),gl(e),512&r&&(Ju||null===n||Wu(n,n.return)),4&r){var i=null!==n?n.memoizedState:null;if(r=e.memoizedState,null===n)if(null===r)if(null===e.stateNode){e:{r=e.type,n=e.memoizedProps,a=a.ownerDocument||a;t:switch(r){case\"title\":(!(i=a.getElementsByTagName(\"title\")[0])||i[We]||i[je]||\"http://www.w3.org/2000/svg\"===i.namespaceURI||i.hasAttribute(\"itemprop\"))&&(i=a.createElement(r),a.head.insertBefore(i,a.querySelector(\"head > title\"))),qc(i,r,n),i[je]=e,Xe(i),r=i;break e;case\"link\":var u=Pf(\"link\",\"href\",a).get(r+(n.href||\"\"));if(u)for(var l=0;l<u.length;l++)if((i=u[l]).getAttribute(\"href\")===(null==n.href?null:n.href)&&i.getAttribute(\"rel\")===(null==n.rel?null:n.rel)&&i.getAttribute(\"title\")===(null==n.title?null:n.title)&&i.getAttribute(\"crossorigin\")===(null==n.crossOrigin?null:n.crossOrigin)){u.splice(l,1);break t}qc(i=a.createElement(r),r,n),a.head.appendChild(i);break;case\"meta\":if(u=Pf(\"meta\",\"content\",a).get(r+(n.content||\"\")))for(l=0;l<u.length;l++)if((i=u[l]).getAttribute(\"content\")===(null==n.content?null:\"\"+n.content)&&i.getAttribute(\"name\")===(null==n.name?null:n.name)&&i.getAttribute(\"property\")===(null==n.property?null:n.property)&&i.getAttribute(\"http-equiv\")===(null==n.httpEquiv?null:n.httpEquiv)&&i.getAttribute(\"charset\")===(null==n.charSet?null:n.charSet)){u.splice(l,1);break t}qc(i=a.createElement(r),r,n),a.head.appendChild(i);break;default:throw Error(o(468,r))}i[je]=e,Xe(i),r=i}e.stateNode=r}else zf(a,e.type,e.stateNode);else e.stateNode=xf(a,r,e.memoizedProps);else i!==r?(null===i?null!==n.stateNode&&(n=n.stateNode).parentNode.removeChild(n):i.count--,null===r?zf(a,e.type,e.stateNode):xf(a,r,e.memoizedProps)):null===r&&null!==e.stateNode&&Qu(e,e.memoizedProps,n.memoizedProps)}break;case 27:if(4&r&&null===e.alternate){a=e.stateNode,i=e.memoizedProps;try{for(var s=a.firstChild;s;){var c=s.nextSibling,f=s.nodeName;s[We]||\"HEAD\"===f||\"BODY\"===f||\"SCRIPT\"===f||\"STYLE\"===f||\"LINK\"===f&&\"stylesheet\"===s.rel.toLowerCase()||a.removeChild(s),s=c}for(var d=e.type,p=a.attributes;p.length;)a.removeAttributeNode(p[0]);qc(a,d,i),a[je]=e,a[Ue]=i}catch(t){rc(e,e.return,t)}}case 5:if(dl(t,e),gl(e),512&r&&(Ju||null===n||Wu(n,n.return)),32&e.flags){a=e.stateNode;try{kt(a,\"\")}catch(t){rc(e,e.return,t)}}4&r&&null!=e.stateNode&&Qu(e,a=e.memoizedProps,null!==n?n.memoizedProps:a),1024&r&&(el=!0);break;case 6:if(dl(t,e),gl(e),4&r){if(null===e.stateNode)throw Error(o(162));r=e.memoizedProps,n=e.stateNode;try{n.nodeValue=r}catch(t){rc(e,e.return,t)}}break;case 3:if(Tf=null,a=pl,pl=pf(t.containerInfo),dl(t,e),pl=a,gl(e),4&r&&null!==n&&n.memoizedState.isDehydrated)try{vd(t.containerInfo)}catch(t){rc(e,e.return,t)}el&&(el=!1,vl(e));break;case 4:r=pl,pl=pf(e.stateNode.containerInfo),dl(t,e),gl(e),pl=r;break;case 12:dl(t,e),gl(e);break;case 13:dl(t,e),gl(e),8192&e.child.flags&&null!==e.memoizedState!=(null!==n&&null!==n.memoizedState)&&(bs=le()),4&r&&null!==(r=e.updateQueue)&&(e.updateQueue=null,fl(e,r));break;case 22:if(512&r&&(Ju||null===n||Wu(n,n.return)),s=null!==e.memoizedState,c=null!==n&&null!==n.memoizedState,Zu=(f=Zu)||s,Ju=(d=Ju)||c,dl(t,e),Ju=d,Zu=f,gl(e),(t=e.stateNode)._current=e,t._visibility&=-3,t._visibility|=2&t._pendingVisibility,8192&r&&(t._visibility=s?-2&t._visibility:1|t._visibility,s&&(t=Zu||Ju,null===n||c||t||yl(e)),null===e.memoizedProps||\"manual\"!==e.memoizedProps.mode))e:for(n=null,t=e;;){if(5===t.tag||26===t.tag||27===t.tag){if(null===n){c=n=t;try{if(a=c.stateNode,s)\"function\"==typeof(i=a.style).setProperty?i.setProperty(\"display\",\"none\",\"important\"):i.display=\"none\";else{u=c.stateNode;var h=null!=(l=c.memoizedProps.style)&&l.hasOwnProperty(\"display\")?l.display:null;u.style.display=null==h||\"boolean\"==typeof h?\"\":(\"\"+h).trim()}}catch(e){rc(c,c.return,e)}}}else if(6===t.tag){if(null===n){c=t;try{c.stateNode.nodeValue=s?\"\":c.memoizedProps}catch(e){rc(c,c.return,e)}}}else if((22!==t.tag&&23!==t.tag||null===t.memoizedState||t===e)&&null!==t.child){t.child.return=t,t=t.child;continue}if(t===e)break e;for(;null===t.sibling;){if(null===t.return||t.return===e)break e;n===t&&(n=null),t=t.return}n===t&&(n=null),t.sibling.return=t.return,t=t.sibling}4&r&&null!==(r=e.updateQueue)&&null!==(n=r.retryQueue)&&(r.retryQueue=null,fl(e,n));break;case 19:dl(t,e),gl(e),4&r&&null!==(r=e.updateQueue)&&(e.updateQueue=null,fl(e,r));break;case 21:break;default:dl(t,e),gl(e)}}function gl(e){var t=e.flags;if(2&t){try{if(27!==e.tag){e:{for(var n=e.return;null!==n;){if(Yu(n)){var r=n;break e}n=n.return}throw Error(o(160))}switch(r.tag){case 27:var a=r.stateNode;Xu(e,Gu(e),a);break;case 5:var i=r.stateNode;32&r.flags&&(kt(i,\"\"),r.flags&=-33),Xu(e,Gu(e),i);break;case 3:case 4:var u=r.stateNode.containerInfo;Ku(e,Gu(e),u);break;default:throw Error(o(161))}}}catch(t){rc(e,e.return,t)}e.flags&=-3}4096&t&&(e.flags&=-4097)}function vl(e){if(1024&e.subtreeFlags)for(e=e.child;null!==e;){var t=e;vl(t),5===t.tag&&1024&t.flags&&t.stateNode.reset(),e=e.sibling}}function ml(e,t){if(8772&t.subtreeFlags)for(t=t.child;null!==t;)al(e,t.alternate,t),t=t.sibling}function yl(e){for(e=e.child;null!==e;){var t=e;switch(t.tag){case 0:case 11:case 14:case 15:$u(4,t,t.return),yl(t);break;case 1:Wu(t,t.return);var n=t.stateNode;\"function\"==typeof n.componentWillUnmount&&Hu(t,t.return,n),yl(t);break;case 26:case 27:case 5:Wu(t,t.return),yl(t);break;case 22:Wu(t,t.return),null===t.memoizedState&&yl(t);break;default:yl(t)}e=e.sibling}}function bl(e,t,n){for(n=n&&!!(8772&t.subtreeFlags),t=t.child;null!==t;){var r=t.alternate,a=e,i=t,o=i.flags;switch(i.tag){case 0:case 11:case 15:bl(a,i,n),Iu(4,i);break;case 1:if(bl(a,i,n),\"function\"==typeof(a=(r=i).stateNode).componentDidMount)try{a.componentDidMount()}catch(e){rc(r,r.return,e)}if(null!==(a=(r=i).updateQueue)){var u=r.stateNode;try{var l=a.shared.hiddenCallbacks;if(null!==l)for(a.shared.hiddenCallbacks=null,a=0;a<l.length;a++)ju(l[a],u)}catch(e){rc(r,r.return,e)}}n&&64&o&&Bu(i),Vu(i,i.return);break;case 26:case 27:case 5:bl(a,i,n),n&&null===r&&4&o&&qu(i),Vu(i,i.return);break;case 12:default:bl(a,i,n);break;case 13:bl(a,i,n),n&&4&o&&cl(a,i);break;case 22:null===i.memoizedState&&bl(a,i,n),Vu(i,i.return)}t=t.sibling}}function wl(e,t){var n=null;null!==e&&null!==e.memoizedState&&null!==e.memoizedState.cachePool&&(n=e.memoizedState.cachePool.pool),e=null,null!==t.memoizedState&&null!==t.memoizedState.cachePool&&(e=t.memoizedState.cachePool.pool),e!==n&&(null!=e&&e.refCount++,null!=n&&$a(n))}function _l(e,t){e=null,null!==t.alternate&&(e=t.alternate.memoizedState.cache),(t=t.memoizedState.cache)!==e&&(t.refCount++,null!=e&&$a(e))}function kl(e,t,n,r){if(10256&t.subtreeFlags)for(t=t.child;null!==t;)xl(e,t,n,r),t=t.sibling}function xl(e,t,n,r){var a=t.flags;switch(t.tag){case 0:case 11:case 15:kl(e,t,n,r),2048&a&&Iu(9,t);break;case 3:kl(e,t,n,r),2048&a&&(e=null,null!==t.alternate&&(e=t.alternate.memoizedState.cache),(t=t.memoizedState.cache)!==e&&(t.refCount++,null!=e&&$a(e)));break;case 12:if(2048&a){kl(e,t,n,r),e=t.stateNode;try{var i=t.memoizedProps,o=i.id,u=i.onPostCommit;\"function\"==typeof u&&u(o,null===t.alternate?\"mount\":\"update\",e.passiveEffectDuration,-0)}catch(e){rc(t,t.return,e)}}else kl(e,t,n,r);break;case 23:break;case 22:i=t.stateNode,null!==t.memoizedState?4&i._visibility?kl(e,t,n,r):El(e,t):4&i._visibility?kl(e,t,n,r):(i._visibility|=4,Sl(e,t,n,r,!!(10256&t.subtreeFlags))),2048&a&&wl(t.alternate,t);break;case 24:kl(e,t,n,r),2048&a&&_l(t.alternate,t);break;default:kl(e,t,n,r)}}function Sl(e,t,n,r,a){for(a=a&&!!(10256&t.subtreeFlags),t=t.child;null!==t;){var i=e,o=t,u=n,l=r,s=o.flags;switch(o.tag){case 0:case 11:case 15:Sl(i,o,u,l,a),Iu(8,o);break;case 23:break;case 22:var c=o.stateNode;null!==o.memoizedState?4&c._visibility?Sl(i,o,u,l,a):El(i,o):(c._visibility|=4,Sl(i,o,u,l,a)),a&&2048&s&&wl(o.alternate,o);break;case 24:Sl(i,o,u,l,a),a&&2048&s&&_l(o.alternate,o);break;default:Sl(i,o,u,l,a)}t=t.sibling}}function El(e,t){if(10256&t.subtreeFlags)for(t=t.child;null!==t;){var n=e,r=t,a=r.flags;switch(r.tag){case 22:El(n,r),2048&a&&wl(r.alternate,r);break;case 24:El(n,r),2048&a&&_l(r.alternate,r);break;default:El(n,r)}t=t.sibling}}var Cl=8192;function Tl(e){if(e.subtreeFlags&Cl)for(e=e.child;null!==e;)Pl(e),e=e.sibling}function Pl(e){switch(e.tag){case 26:Tl(e),e.flags&Cl&&null!==e.memoizedState&&function(e,t,n){if(null===Mf)throw Error(o(475));var r=Mf;if(!(\"stylesheet\"!==t.type||\"string\"==typeof n.media&&!1===matchMedia(n.media).matches||4&t.state.loading)){if(null===t.instance){var a=yf(n.href),i=e.querySelector(bf(a));if(i)return null!==(e=i._p)&&\"object\"==typeof e&&\"function\"==typeof e.then&&(r.count++,r=Of.bind(r),e.then(r,r)),t.state.loading|=4,t.instance=i,void Xe(i);i=e.ownerDocument||e,n=wf(n),(a=ff.get(a))&&Ef(n,a),Xe(i=i.createElement(\"link\"));var u=i;u._p=new Promise((function(e,t){u.onload=e,u.onerror=t})),qc(i,\"link\",n),t.instance=i}null===r.stylesheets&&(r.stylesheets=new Map),r.stylesheets.set(t,e),(e=t.state.preload)&&!(3&t.state.loading)&&(r.count++,t=Of.bind(r),e.addEventListener(\"load\",t),e.addEventListener(\"error\",t))}}(pl,e.memoizedState,e.memoizedProps);break;case 5:default:Tl(e);break;case 3:case 4:var t=pl;pl=pf(e.stateNode.containerInfo),Tl(e),pl=t;break;case 22:null===e.memoizedState&&(null!==(t=e.alternate)&&null!==t.memoizedState?(t=Cl,Cl=16777216,Tl(e),Cl=t):Tl(e))}}function zl(e){var t=e.alternate;if(null!==t&&null!==(e=t.child)){t.child=null;do{t=e.sibling,e.sibling=null,e=t}while(null!==e)}}function Nl(e){var t=e.deletions;if(16&e.flags){if(null!==t)for(var n=0;n<t.length;n++){var r=t[n];nl=r,Ol(r,e)}zl(e)}if(10256&e.subtreeFlags)for(e=e.child;null!==e;)Ml(e),e=e.sibling}function Ml(e){switch(e.tag){case 0:case 11:case 15:Nl(e),2048&e.flags&&$u(9,e,e.return);break;case 3:case 12:default:Nl(e);break;case 22:var t=e.stateNode;null!==e.memoizedState&&4&t._visibility&&(null===e.return||13!==e.return.tag)?(t._visibility&=-5,Al(e)):Nl(e)}}function Al(e){var t=e.deletions;if(16&e.flags){if(null!==t)for(var n=0;n<t.length;n++){var r=t[n];nl=r,Ol(r,e)}zl(e)}for(e=e.child;null!==e;){switch((t=e).tag){case 0:case 11:case 15:$u(8,t,t.return),Al(t);break;case 22:4&(n=t.stateNode)._visibility&&(n._visibility&=-5,Al(t));break;default:Al(t)}e=e.sibling}}function Ol(e,t){for(;null!==nl;){var n=nl;switch(n.tag){case 0:case 11:case 15:$u(8,n,t);break;case 23:case 22:if(null!==n.memoizedState&&null!==n.memoizedState.cachePool){var r=n.memoizedState.cachePool.pool;null!=r&&r.refCount++}break;case 24:$a(n.memoizedState.cache)}if(null!==(r=n.child))r.return=n,nl=r;else e:for(n=e;null!==nl;){var a=(r=nl).sibling,i=r.return;if(il(r),r===n){nl=null;break e}if(null!==a){a.return=i,nl=a;break e}nl=i}}}function Ll(e,t,n,r){this.tag=e,this.key=n,this.sibling=this.child=this.return=this.stateNode=this.type=this.elementType=null,this.index=0,this.refCleanup=this.ref=null,this.pendingProps=t,this.dependencies=this.memoizedState=this.updateQueue=this.memoizedProps=null,this.mode=r,this.subtreeFlags=this.flags=0,this.deletions=null,this.childLanes=this.lanes=0,this.alternate=null}function Fl(e,t,n,r){return new Ll(e,t,n,r)}function Dl(e){return!(!(e=e.prototype)||!e.isReactComponent)}function Rl(e,t){var n=e.alternate;return null===n?((n=Fl(e.tag,t,e.key,e.mode)).elementType=e.elementType,n.type=e.type,n.stateNode=e.stateNode,n.alternate=e,e.alternate=n):(n.pendingProps=t,n.type=e.type,n.flags=0,n.subtreeFlags=0,n.deletions=null),n.flags=31457280&e.flags,n.childLanes=e.childLanes,n.lanes=e.lanes,n.child=e.child,n.memoizedProps=e.memoizedProps,n.memoizedState=e.memoizedState,n.updateQueue=e.updateQueue,t=e.dependencies,n.dependencies=null===t?null:{lanes:t.lanes,firstContext:t.firstContext},n.sibling=e.sibling,n.index=e.index,n.ref=e.ref,n.refCleanup=e.refCleanup,n}function jl(e,t){e.flags&=31457282;var n=e.alternate;return null===n?(e.childLanes=0,e.lanes=t,e.child=null,e.subtreeFlags=0,e.memoizedProps=null,e.memoizedState=null,e.updateQueue=null,e.dependencies=null,e.stateNode=null):(e.childLanes=n.childLanes,e.lanes=n.lanes,e.child=n.child,e.subtreeFlags=0,e.deletions=null,e.memoizedProps=n.memoizedProps,e.memoizedState=n.memoizedState,e.updateQueue=n.updateQueue,e.type=n.type,t=n.dependencies,e.dependencies=null===t?null:{lanes:t.lanes,firstContext:t.firstContext}),e}function Ul(e,t,n,r,a,i){var u=0;if(r=e,\"function\"==typeof e)Dl(e)&&(u=1);else if(\"string\"==typeof e)u=function(e,t,n){if(1===n||null!=t.itemProp)return!1;switch(e){case\"meta\":case\"title\":return!0;case\"style\":if(\"string\"!=typeof t.precedence||\"string\"!=typeof t.href||\"\"===t.href)break;return!0;case\"link\":if(\"string\"!=typeof t.rel||\"string\"!=typeof t.href||\"\"===t.href||t.onLoad||t.onError)break;return\"stylesheet\"!==t.rel||(e=t.disabled,\"string\"==typeof t.precedence&&null==e);case\"script\":if(t.async&&\"function\"!=typeof t.async&&\"symbol\"!=typeof t.async&&!t.onLoad&&!t.onError&&t.src&&\"string\"==typeof t.src)return!0}return!1}(e,n,G.current)?26:\"html\"===e||\"head\"===e||\"body\"===e?27:5;else e:switch(e){case f:return Il(n.children,a,i,t);case d:u=8,a|=24;break;case p:return(e=Fl(12,n,t,2|a)).elementType=p,e.lanes=i,e;case y:return(e=Fl(13,n,t,a)).elementType=y,e.lanes=i,e;case b:return(e=Fl(19,n,t,a)).elementType=b,e.lanes=i,e;case k:return $l(n,a,i,t);default:if(\"object\"==typeof e&&null!==e)switch(e.$$typeof){case h:case v:u=10;break e;case g:u=9;break e;case m:u=11;break e;case w:u=14;break e;case _:u=16,r=null;break e}u=29,n=Error(o(130,null===e?\"null\":typeof e,\"\")),r=null}return(t=Fl(u,n,t,a)).elementType=e,t.type=r,t.lanes=i,t}function Il(e,t,n,r){return(e=Fl(7,e,r,t)).lanes=n,e}function $l(e,t,n,r){(e=Fl(22,e,r,t)).elementType=k,e.lanes=n;var a={_visibility:1,_pendingVisibility:1,_pendingMarkers:null,_retryCache:null,_transitions:null,_current:null,detach:function(){var e=a._current;if(null===e)throw Error(o(456));if(!(2&a._pendingVisibility)){var t=zr(e,2);null!==t&&(a._pendingVisibility|=2,As(t,0,2))}},attach:function(){var e=a._current;if(null===e)throw Error(o(456));if(2&a._pendingVisibility){var t=zr(e,2);null!==t&&(a._pendingVisibility&=-3,As(t,0,2))}}};return e.stateNode=a,e}function Bl(e,t,n){return(e=Fl(6,e,null,t)).lanes=n,e}function Hl(e,t,n){return(t=Fl(4,null!==e.children?e.children:[],e.key,t)).lanes=n,t.stateNode={containerInfo:e.containerInfo,pendingChildren:null,implementation:e.implementation},t}function Vl(e){e.flags|=4}function Wl(e,t){if(\"stylesheet\"!==t.type||4&t.state.loading)e.flags&=-16777217;else if(e.flags|=16777216,!Nf(t)){if(null!==(t=Pa.current)&&((4194176&rs)===rs?null!==za:(62914560&rs)!==rs&&!(536870912&rs)||t!==za))throw da=la,ua;e.flags|=8192}}function ql(e,t){null!==t&&(e.flags|=4),16384&e.flags&&(t=22!==e.tag?Ne():536870912,e.lanes|=t,gs|=t)}function Ql(e,t){if(!Kr)switch(e.tailMode){case\"hidden\":t=e.tail;for(var n=null;null!==t;)null!==t.alternate&&(n=t),t=t.sibling;null===n?e.tail=null:n.sibling=null;break;case\"collapsed\":n=e.tail;for(var r=null;null!==n;)null!==n.alternate&&(r=n),n=n.sibling;null===r?t||null===e.tail?e.tail=null:e.tail.sibling=null:r.sibling=null}}function Yl(e){var t=null!==e.alternate&&e.alternate.child===e.child,n=0,r=0;if(t)for(var a=e.child;null!==a;)n|=a.lanes|a.childLanes,r|=31457280&a.subtreeFlags,r|=31457280&a.flags,a.return=e,a=a.sibling;else for(a=e.child;null!==a;)n|=a.lanes|a.childLanes,r|=a.subtreeFlags,r|=a.flags,a.return=e,a=a.sibling;return e.subtreeFlags|=r,e.childLanes=n,t}function Gl(e,t,n){var r=t.pendingProps;switch(Qr(t),t.tag){case 16:case 15:case 0:case 11:case 7:case 8:case 12:case 9:case 14:case 1:return Yl(t),null;case 3:return n=t.stateNode,r=null,null!==e&&(r=e.memoizedState.cache),t.memoizedState.cache!==r&&(t.flags|=2048),bu(Ua),ee(),n.pendingContext&&(n.context=n.pendingContext,n.pendingContext=null),null!==e&&null!==e.child||(ra(t)?Vl(t):null===e||e.memoizedState.isDehydrated&&!(256&t.flags)||(t.flags|=1024,null!==Xr&&(Ls(Xr),Xr=null))),Yl(t),null;case 26:return n=t.memoizedState,null===e?(Vl(t),null!==n?(Yl(t),Wl(t,n)):(Yl(t),t.flags&=-16777217)):n?n!==e.memoizedState?(Vl(t),Yl(t),Wl(t,n)):(Yl(t),t.flags&=-16777217):(e.memoizedProps!==r&&Vl(t),Yl(t),t.flags&=-16777217),null;case 27:ne(t),n=X.current;var a=t.type;if(null!==e&&null!=t.stateNode)e.memoizedProps!==r&&Vl(t);else{if(!r){if(null===t.stateNode)throw Error(o(166));return Yl(t),null}e=G.current,ra(t)?ta(t):(e=cf(a,r,n),t.stateNode=e,Vl(t))}return Yl(t),null;case 5:if(ne(t),n=t.type,null!==e&&null!=t.stateNode)e.memoizedProps!==r&&Vl(t);else{if(!r){if(null===t.stateNode)throw Error(o(166));return Yl(t),null}if(e=G.current,ra(t))ta(t);else{switch(a=Gc(X.current),e){case 1:e=a.createElementNS(\"http://www.w3.org/2000/svg\",n);break;case 2:e=a.createElementNS(\"http://www.w3.org/1998/Math/MathML\",n);break;default:switch(n){case\"svg\":e=a.createElementNS(\"http://www.w3.org/2000/svg\",n);break;case\"math\":e=a.createElementNS(\"http://www.w3.org/1998/Math/MathML\",n);break;case\"script\":(e=a.createElement(\"div\")).innerHTML=\"<script><\\/script>\",e=e.removeChild(e.firstChild);break;case\"select\":e=\"string\"==typeof r.is?a.createElement(\"select\",{is:r.is}):a.createElement(\"select\"),r.multiple?e.multiple=!0:r.size&&(e.size=r.size);break;default:e=\"string\"==typeof r.is?a.createElement(n,{is:r.is}):a.createElement(n)}}e[je]=t,e[Ue]=r;e:for(a=t.child;null!==a;){if(5===a.tag||6===a.tag)e.appendChild(a.stateNode);else if(4!==a.tag&&27!==a.tag&&null!==a.child){a.child.return=a,a=a.child;continue}if(a===t)break e;for(;null===a.sibling;){if(null===a.return||a.return===t)break e;a=a.return}a.sibling.return=a.return,a=a.sibling}t.stateNode=e;e:switch(qc(e,n,r),n){case\"button\":case\"input\":case\"select\":case\"textarea\":e=!!r.autoFocus;break e;case\"img\":e=!0;break e;default:e=!1}e&&Vl(t)}}return Yl(t),t.flags&=-16777217,null;case 6:if(e&&null!=t.stateNode)e.memoizedProps!==r&&Vl(t);else{if(\"string\"!=typeof r&&null===t.stateNode)throw Error(o(166));if(e=X.current,ra(t)){if(e=t.stateNode,n=t.memoizedProps,r=null,null!==(a=Yr))switch(a.tag){case 27:case 5:r=a.memoizedProps}e[je]=t,(e=!!(e.nodeValue===n||null!==r&&!0===r.suppressHydrationWarning||Bc(e.nodeValue,n)))||ea(t)}else(e=Gc(e).createTextNode(r))[je]=t,t.stateNode=e}return Yl(t),null;case 13:if(r=t.memoizedState,null===e||null!==e.memoizedState&&null!==e.memoizedState.dehydrated){if(a=ra(t),null!==r&&null!==r.dehydrated){if(null===e){if(!a)throw Error(o(318));if(!(a=null!==(a=t.memoizedState)?a.dehydrated:null))throw Error(o(317));a[je]=t}else aa(),!(128&t.flags)&&(t.memoizedState=null),t.flags|=4;Yl(t),a=!1}else null!==Xr&&(Ls(Xr),Xr=null),a=!0;if(!a)return 256&t.flags?(Oa(t),t):(Oa(t),null)}if(Oa(t),128&t.flags)return t.lanes=n,t;if(n=null!==r,e=null!==e&&null!==e.memoizedState,n){a=null,null!==(r=t.child).alternate&&null!==r.alternate.memoizedState&&null!==r.alternate.memoizedState.cachePool&&(a=r.alternate.memoizedState.cachePool.pool);var i=null;null!==r.memoizedState&&null!==r.memoizedState.cachePool&&(i=r.memoizedState.cachePool.pool),i!==a&&(r.flags|=2048)}return n!==e&&n&&(t.child.flags|=8192),ql(t,t.updateQueue),Yl(t),null;case 4:return ee(),null===e&&Ac(t.stateNode.containerInfo),Yl(t),null;case 10:return bu(t.type),Yl(t),null;case 19:if(Q(La),null===(a=t.memoizedState))return Yl(t),null;if(r=!!(128&t.flags),null===(i=a.rendering))if(r)Ql(a,!1);else{if(0!==cs||null!==e&&128&e.flags)for(e=t.child;null!==e;){if(null!==(i=Fa(e))){for(t.flags|=128,Ql(a,!1),e=i.updateQueue,t.updateQueue=e,ql(t,e),t.subtreeFlags=0,e=n,n=t.child;null!==n;)jl(n,e),n=n.sibling;return Y(La,1&La.current|2),t.child}e=e.sibling}null!==a.tail&&le()>ws&&(t.flags|=128,r=!0,Ql(a,!1),t.lanes=4194304)}else{if(!r)if(null!==(e=Fa(i))){if(t.flags|=128,r=!0,e=e.updateQueue,t.updateQueue=e,ql(t,e),Ql(a,!0),null===a.tail&&\"hidden\"===a.tailMode&&!i.alternate&&!Kr)return Yl(t),null}else 2*le()-a.renderingStartTime>ws&&536870912!==n&&(t.flags|=128,r=!0,Ql(a,!1),t.lanes=4194304);a.isBackwards?(i.sibling=t.child,t.child=i):(null!==(e=a.last)?e.sibling=i:t.child=i,a.last=i)}return null!==a.tail?(t=a.tail,a.rendering=t,a.tail=t.sibling,a.renderingStartTime=le(),t.sibling=null,e=La.current,Y(La,r?1&e|2:1&e),t):(Yl(t),null);case 22:case 23:return Oa(t),Ta(),r=null!==t.memoizedState,null!==e?null!==e.memoizedState!==r&&(t.flags|=8192):r&&(t.flags|=8192),r?!!(536870912&n)&&!(128&t.flags)&&(Yl(t),6&t.subtreeFlags&&(t.flags|=8192)):Yl(t),null!==(n=t.updateQueue)&&ql(t,n.retryQueue),n=null,null!==e&&null!==e.memoizedState&&null!==e.memoizedState.cachePool&&(n=e.memoizedState.cachePool.pool),r=null,null!==t.memoizedState&&null!==t.memoizedState.cachePool&&(r=t.memoizedState.cachePool.pool),r!==n&&(t.flags|=2048),null!==e&&Q(Ya),null;case 24:return n=null,null!==e&&(n=e.memoizedState.cache),t.memoizedState.cache!==n&&(t.flags|=2048),bu(Ua),Yl(t),null;case 25:return null}throw Error(o(156,t.tag))}function Kl(e,t){switch(Qr(t),t.tag){case 1:return 65536&(e=t.flags)?(t.flags=-65537&e|128,t):null;case 3:return bu(Ua),ee(),65536&(e=t.flags)&&!(128&e)?(t.flags=-65537&e|128,t):null;case 26:case 27:case 5:return ne(t),null;case 13:if(Oa(t),null!==(e=t.memoizedState)&&null!==e.dehydrated){if(null===t.alternate)throw Error(o(340));aa()}return 65536&(e=t.flags)?(t.flags=-65537&e|128,t):null;case 19:return Q(La),null;case 4:return ee(),null;case 10:return bu(t.type),null;case 22:case 23:return Oa(t),Ta(),null!==e&&Q(Ya),65536&(e=t.flags)?(t.flags=-65537&e|128,t):null;case 24:return bu(Ua),null;default:return null}}function Xl(e,t){switch(Qr(t),t.tag){case 3:bu(Ua),ee();break;case 26:case 27:case 5:ne(t);break;case 4:ee();break;case 13:Oa(t);break;case 19:Q(La);break;case 10:bu(t.type);break;case 22:case 23:Oa(t),Ta(),null!==e&&Q(Ya);break;case 24:bu(Ua)}}var Zl={getCacheForType:function(e){var t=Eu(Ua),n=t.data.get(e);return void 0===n&&(n=e(),t.data.set(e,n)),n}},Jl=\"function\"==typeof WeakMap?WeakMap:Map,es=0,ts=null,ns=null,rs=0,as=0,is=null,os=!1,us=!1,ls=!1,ss=0,cs=0,fs=0,ds=0,ps=0,hs=0,gs=0,vs=null,ms=null,ys=!1,bs=0,ws=1/0,_s=null,ks=null,xs=!1,Ss=null,Es=0,Cs=0,Ts=null,Ps=0,zs=null;function Ns(){return 2&es&&0!==rs?rs&-rs:null!==N.T?0!==Va?Va:_c():De()}function Ms(){0===hs&&(hs=536870912&rs&&!Kr?536870912:ze());var e=Pa.current;return null!==e&&(e.flags|=32),hs}function As(e,t,n){(e===ts&&2===as||null!==e.cancelPendingCommit)&&(Is(e,0),Rs(e,rs,hs,!1)),Ae(e,n),2&es&&e===ts||(e===ts&&(!(2&es)&&(ds|=n),4===cs&&Rs(e,rs,hs,!1)),gc(e))}function Os(e,t,n){if(6&es)throw Error(o(327));for(var r=!n&&!(60&t)&&!(t&e.expiredLanes)||Te(e,t),a=r?function(e,t){var n=es;es|=2;var r=Bs(),a=Hs();ts!==e||rs!==t?(_s=null,ws=le()+500,Is(e,t)):us=Te(e,t);e:for(;;)try{if(0!==as&&null!==ns){t=ns;var i=is;t:switch(as){case 1:as=0,is=null,Ks(e,t,i,1);break;case 2:if(sa(i)){as=0,is=null,Gs(t);break}t=function(){2===as&&ts===e&&(as=7),gc(e)},i.then(t,t);break e;case 3:as=7;break e;case 4:as=5;break e;case 7:sa(i)?(as=0,is=null,Gs(t)):(as=0,is=null,Ks(e,t,i,7));break;case 5:var u=null;switch(ns.tag){case 26:u=ns.memoizedState;case 5:case 27:var l=ns;if(!u||Nf(u)){as=0,is=null;var s=l.sibling;if(null!==s)ns=s;else{var c=l.return;null!==c?(ns=c,Xs(c)):ns=null}break t}}as=0,is=null,Ks(e,t,i,5);break;case 6:as=0,is=null,Ks(e,t,i,6);break;case 8:Us(),cs=6;break e;default:throw Error(o(462))}}Qs();break}catch(t){$s(e,t)}return mu=vu=null,N.H=r,N.A=a,es=n,null!==ns?0:(ts=null,rs=0,Cr(),cs)}(e,t):Ws(e,t,!0),i=r;;){if(0===a){us&&!r&&Rs(e,t,0,!1);break}if(6===a)Rs(e,t,0,!os);else{if(n=e.current.alternate,i&&!Ds(n)){a=Ws(e,t,!1),i=!1;continue}if(2===a){if(i=t,e.errorRecoveryDisabledLanes&i)var u=0;else u=0!=(u=-536870913&e.pendingLanes)?u:536870912&u?536870912:0;if(0!==u){t=u;e:{var l=e;a=vs;var s=l.current.memoizedState.isDehydrated;if(s&&(Is(l,u).flags|=256),2!==(u=Ws(l,u,!1))){if(ls&&!s){l.errorRecoveryDisabledLanes|=i,ds|=i,a=4;break e}i=ms,ms=a,null!==i&&Ls(i)}a=u}if(i=!1,2!==a)continue}}if(1===a){Is(e,0),Rs(e,t,0,!0);break}e:{switch(r=e,a){case 0:case 1:throw Error(o(345));case 4:if((4194176&t)===t){Rs(r,t,hs,!os);break e}break;case 2:ms=null;break;case 3:case 5:break;default:throw Error(o(329))}if(r.finishedWork=n,r.finishedLanes=t,(62914560&t)===t&&10<(i=bs+300-le())){if(Rs(r,t,hs,!os),0!==Ce(r,0))break e;r.timeoutHandle=ef(Fs.bind(null,r,n,ms,_s,ys,t,hs,ds,gs,os,2,-0,0),i)}else Fs(r,n,ms,_s,ys,t,hs,ds,gs,os,0,-0,0)}}break}gc(e)}function Ls(e){null===ms?ms=e:ms.push.apply(ms,e)}function Fs(e,t,n,r,a,i,u,l,s,c,f,d,p){var h=t.subtreeFlags;if((8192&h||!(16785408&~h))&&(Mf={stylesheets:null,count:0,unsuspend:Af},Pl(t),null!==(t=function(){if(null===Mf)throw Error(o(475));var e=Mf;return e.stylesheets&&0===e.count&&Ff(e,e.stylesheets),0<e.count?function(t){var n=setTimeout((function(){if(e.stylesheets&&Ff(e,e.stylesheets),e.unsuspend){var t=e.unsuspend;e.unsuspend=null,t()}}),6e4);return e.unsuspend=t,function(){e.unsuspend=null,clearTimeout(n)}}:null}())))return e.cancelPendingCommit=t(Js.bind(null,e,n,r,a,u,l,s,1,d,p)),void Rs(e,i,u,!c);Js(e,n,r,a,u,l,s)}function Ds(e){for(var t=e;;){var n=t.tag;if((0===n||11===n||15===n)&&16384&t.flags&&null!==(n=t.updateQueue)&&null!==(n=n.stores))for(var r=0;r<n.length;r++){var a=n[r],i=a.getSnapshot;a=a.value;try{if(!Yn(i(),a))return!1}catch(e){return!1}}if(n=t.child,16384&t.subtreeFlags&&null!==n)n.return=t,t=n;else{if(t===e)break;for(;null===t.sibling;){if(null===t.return||t.return===e)return!0;t=t.return}t.sibling.return=t.return,t=t.sibling}}return!0}function Rs(e,t,n,r){t&=~ps,t&=~ds,e.suspendedLanes|=t,e.pingedLanes&=~t,r&&(e.warmLanes|=t),r=e.expirationTimes;for(var a=t;0<a;){var i=31-we(a),o=1<<i;r[i]=-1,a&=~o}0!==n&&Oe(e,n,t)}function js(){return!!(6&es)||(vc(0,!1),!1)}function Us(){if(null!==ns){if(0===as)var e=ns.return;else mu=vu=null,mi(e=ns),ha=null,ga=0,e=ns;for(;null!==e;)Xl(e.alternate,e),e=e.return;ns=null}}function Is(e,t){e.finishedWork=null,e.finishedLanes=0;var n=e.timeoutHandle;-1!==n&&(e.timeoutHandle=-1,tf(n)),null!==(n=e.cancelPendingCommit)&&(e.cancelPendingCommit=null,n()),Us(),ts=e,ns=n=Rl(e.current,null),rs=t,as=0,is=null,os=!1,us=Te(e,t),ls=!1,gs=hs=ps=ds=fs=cs=0,ms=vs=null,ys=!1,8&t&&(t|=32&t);var r=e.entangledLanes;if(0!==r)for(e=e.entanglements,r&=t;0<r;){var a=31-we(r),i=1<<a;t|=e[a],r&=~i}return ss=t,Cr(),n}function $s(e,t){Ja=null,N.H=Eo,t===oa?(t=pa(),as=3):t===ua?(t=pa(),as=4):as=t===Ho?8:null!==t&&\"object\"==typeof t&&\"function\"==typeof t.then?6:1,is=t,null===ns&&(cs=1,jo(e,Lr(t,e.current)))}function Bs(){var e=N.H;return N.H=Eo,null===e?Eo:e}function Hs(){var e=N.A;return N.A=Zl,e}function Vs(){cs=4,os||(4194176&rs)!==rs&&null!==Pa.current||(us=!0),!(134217727&fs)&&!(134217727&ds)||null===ts||Rs(ts,rs,hs,!1)}function Ws(e,t,n){var r=es;es|=2;var a=Bs(),i=Hs();ts===e&&rs===t||(_s=null,Is(e,t)),t=!1;var o=cs;e:for(;;)try{if(0!==as&&null!==ns){var u=ns,l=is;switch(as){case 8:Us(),o=6;break e;case 3:case 2:case 6:null===Pa.current&&(t=!0);var s=as;if(as=0,is=null,Ks(e,u,l,s),n&&us){o=0;break e}break;default:s=as,as=0,is=null,Ks(e,u,l,s)}}qs(),o=cs;break}catch(t){$s(e,t)}return t&&e.shellSuspendCounter++,mu=vu=null,es=r,N.H=a,N.A=i,null===ns&&(ts=null,rs=0,Cr()),o}function qs(){for(;null!==ns;)Ys(ns)}function Qs(){for(;null!==ns&&!oe();)Ys(ns)}function Ys(e){var t=hu(e.alternate,e,ss);e.memoizedProps=e.pendingProps,null===t?Xs(e):ns=t}function Gs(e){var t=e,n=t.alternate;switch(t.tag){case 15:case 0:t=Jo(n,t,t.pendingProps,t.type,void 0,rs);break;case 11:t=Jo(n,t,t.pendingProps,t.type.render,t.ref,rs);break;case 5:mi(t);default:Xl(n,t),t=hu(n,t=ns=jl(t,ss),ss)}e.memoizedProps=e.pendingProps,null===t?Xs(e):ns=t}function Ks(e,t,n,r){mu=vu=null,mi(t),ha=null,ga=0;var a=t.return;try{if(function(e,t,n,r,a){if(n.flags|=32768,null!==r&&\"object\"==typeof r&&\"function\"==typeof r.then){if(null!==(t=n.alternate)&&ku(t,n,a,!0),null!==(n=Pa.current)){switch(n.tag){case 13:return null===za?Vs():null===n.alternate&&0===cs&&(cs=3),n.flags&=-257,n.flags|=65536,n.lanes=a,r===la?n.flags|=16384:(null===(t=n.updateQueue)?n.updateQueue=new Set([r]):t.add(r),ac(e,r,a)),!1;case 22:return n.flags|=65536,r===la?n.flags|=16384:(null===(t=n.updateQueue)?(t={transitions:null,markerInstances:null,retryQueue:new Set([r])},n.updateQueue=t):null===(n=t.retryQueue)?t.retryQueue=new Set([r]):n.add(r),ac(e,r,a)),!1}throw Error(o(435,n.tag))}return ac(e,r,a),Vs(),!1}if(Kr)return null!==(t=Pa.current)?(!(65536&t.flags)&&(t.flags|=256),t.flags|=65536,t.lanes=a,r!==Jr&&ia(Lr(e=Error(o(422),{cause:r}),n))):(r!==Jr&&ia(Lr(t=Error(o(423),{cause:r}),n)),(e=e.current.alternate).flags|=65536,a&=-a,e.lanes|=a,r=Lr(r,n),Lu(e,a=Io(e.stateNode,r,a)),4!==cs&&(cs=2)),!1;var i=Error(o(520),{cause:r});if(i=Lr(i,n),null===vs?vs=[i]:vs.push(i),4!==cs&&(cs=2),null===t)return!0;r=Lr(r,n),n=t;do{switch(n.tag){case 3:return n.flags|=65536,e=a&-a,n.lanes|=e,Lu(n,e=Io(n.stateNode,r,e)),!1;case 1:if(t=n.type,i=n.stateNode,!(128&n.flags||\"function\"!=typeof t.getDerivedStateFromError&&(null===i||\"function\"!=typeof i.componentDidCatch||null!==ks&&ks.has(i))))return n.flags|=65536,a&=-a,n.lanes|=a,Bo(a=$o(a),e,n,r),Lu(n,a),!1}n=n.return}while(null!==n);return!1}(e,a,t,n,rs))return cs=1,jo(e,Lr(n,e.current)),void(ns=null)}catch(t){if(null!==a)throw ns=a,t;return cs=1,jo(e,Lr(n,e.current)),void(ns=null)}32768&t.flags?(Kr||1===r?e=!0:us||536870912&rs?e=!1:(os=e=!0,(2===r||3===r||6===r)&&null!==(r=Pa.current)&&13===r.tag&&(r.flags|=16384)),Zs(t,e)):Xs(t)}function Xs(e){var t=e;do{if(32768&t.flags)return void Zs(t,os);e=t.return;var n=Gl(t.alternate,t,ss);if(null!==n)return void(ns=n);if(null!==(t=t.sibling))return void(ns=t);ns=t=e}while(null!==t);0===cs&&(cs=5)}function Zs(e,t){do{var n=Kl(e.alternate,e);if(null!==n)return n.flags&=32767,void(ns=n);if(null!==(n=e.return)&&(n.flags|=32768,n.subtreeFlags=0,n.deletions=null),!t&&null!==(e=e.sibling))return void(ns=e);ns=e=n}while(null!==e);cs=6,ns=null}function Js(e,t,n,r,a,i,u,l,s,c){var f=N.T,d=B.p;try{B.p=2,N.T=null,function(e,t,n,r,a,i,u,l){do{tc()}while(null!==Ss);if(6&es)throw Error(o(327));var s=e.finishedWork;if(r=e.finishedLanes,null===s)return null;if(e.finishedWork=null,e.finishedLanes=0,s===e.current)throw Error(o(177));e.callbackNode=null,e.callbackPriority=0,e.cancelPendingCommit=null;var c=s.lanes|s.childLanes;if(function(e,t,n,r,a,i){var o=e.pendingLanes;e.pendingLanes=n,e.suspendedLanes=0,e.pingedLanes=0,e.warmLanes=0,e.expiredLanes&=n,e.entangledLanes&=n,e.errorRecoveryDisabledLanes&=n,e.shellSuspendCounter=0;var u=e.entanglements,l=e.expirationTimes,s=e.hiddenUpdates;for(n=o&~n;0<n;){var c=31-we(n),f=1<<c;u[c]=0,l[c]=-1;var d=s[c];if(null!==d)for(s[c]=null,c=0;c<d.length;c++){var p=d[c];null!==p&&(p.lane&=-536870913)}n&=~f}0!==r&&Oe(e,r,0),0!==i&&0===a&&0!==e.tag&&(e.suspendedLanes|=i&~(o&~t))}(e,r,c|=Er,i,u,l),e===ts&&(ns=ts=null,rs=0),!(10256&s.subtreeFlags)&&!(10256&s.flags)||xs||(xs=!0,Cs=c,Ts=n,ae(de,(function(){return tc(),null}))),n=!!(15990&s.flags),15990&s.subtreeFlags||n?(n=N.T,N.T=null,i=B.p,B.p=2,u=es,es|=4,function(e,t){if(e=e.containerInfo,Qc=Wf,er(e=Jn(e))){if(\"selectionStart\"in e)var n={start:e.selectionStart,end:e.selectionEnd};else e:{var r=(n=(n=e.ownerDocument)&&n.defaultView||window).getSelection&&n.getSelection();if(r&&0!==r.rangeCount){n=r.anchorNode;var a=r.anchorOffset,i=r.focusNode;r=r.focusOffset;try{n.nodeType,i.nodeType}catch(e){n=null;break e}var u=0,l=-1,s=-1,c=0,f=0,d=e,p=null;t:for(;;){for(var h;d!==n||0!==a&&3!==d.nodeType||(l=u+a),d!==i||0!==r&&3!==d.nodeType||(s=u+r),3===d.nodeType&&(u+=d.nodeValue.length),null!==(h=d.firstChild);)p=d,d=h;for(;;){if(d===e)break t;if(p===n&&++c===a&&(l=u),p===i&&++f===r&&(s=u),null!==(h=d.nextSibling))break;p=(d=p).parentNode}d=h}n=-1===l||-1===s?null:{start:l,end:s}}else n=null}n=n||{start:0,end:0}}else n=null;for(Yc={focusedElem:e,selectionRange:n},Wf=!1,nl=t;null!==nl;)if(e=(t=nl).child,1028&t.subtreeFlags&&null!==e)e.return=t,nl=e;else for(;null!==nl;){switch(i=(t=nl).alternate,e=t.flags,t.tag){case 0:case 11:case 15:case 5:case 26:case 27:case 6:case 4:case 17:break;case 1:if(1024&e&&null!==i){e=void 0,n=t,a=i.memoizedProps,i=i.memoizedState,r=n.stateNode;try{var g=Oo(n.type,a,(n.elementType,n.type));e=r.getSnapshotBeforeUpdate(g,i),r.__reactInternalSnapshotBeforeUpdate=e}catch(e){rc(n,n.return,e)}}break;case 3:if(1024&e)if(9===(n=(e=t.stateNode.containerInfo).nodeType))uf(e);else if(1===n)switch(e.nodeName){case\"HEAD\":case\"HTML\":case\"BODY\":uf(e);break;default:e.textContent=\"\"}break;default:if(1024&e)throw Error(o(163))}if(null!==(e=t.sibling)){e.return=t.return,nl=e;break}nl=t.return}g=rl,rl=!1}(e,s),hl(s,e),tr(Yc,e.containerInfo),Wf=!!Qc,Yc=Qc=null,e.current=s,al(e,s.alternate,s),ue(),es=u,B.p=i,N.T=n):e.current=s,xs?(xs=!1,Ss=e,Es=r):ec(e,c),0===(c=e.pendingLanes)&&(ks=null),function(e){if(ye&&\"function\"==typeof ye.onCommitFiberRoot)try{ye.onCommitFiberRoot(me,e,void 0,!(128&~e.current.flags))}catch(e){}}(s.stateNode),gc(e),null!==t)for(a=e.onRecoverableError,s=0;s<t.length;s++)a((c=t[s]).value,{componentStack:c.stack});!!(3&Es)&&tc(),c=e.pendingLanes,4194218&r&&42&c?e===zs?Ps++:(Ps=0,zs=e):Ps=0,vc(0,!1)}(e,t,n,r,d,a,i,u)}finally{N.T=f,B.p=d}}function ec(e,t){0==(e.pooledCacheLanes&=t)&&null!=(t=e.pooledCache)&&(e.pooledCache=null,$a(t))}function tc(){if(null!==Ss){var e=Ss,t=Cs;Cs=0;var n=Fe(Es),r=N.T,a=B.p;try{if(B.p=32>n?32:n,N.T=null,null===Ss)var i=!1;else{n=Ts,Ts=null;var u=Ss,l=Es;if(Ss=null,Es=0,6&es)throw Error(o(331));var s=es;if(es|=4,Ml(u.current),xl(u,u.current,l,n),es=s,vc(0,!1),ye&&\"function\"==typeof ye.onPostCommitFiberRoot)try{ye.onPostCommitFiberRoot(me,u)}catch(e){}i=!0}return i}finally{B.p=a,N.T=r,ec(e,t)}}return!1}function nc(e,t,n){t=Lr(n,t),null!==(e=Au(e,t=Io(e.stateNode,t,2),2))&&(Ae(e,2),gc(e))}function rc(e,t,n){if(3===e.tag)nc(e,e,n);else for(;null!==t;){if(3===t.tag){nc(t,e,n);break}if(1===t.tag){var r=t.stateNode;if(\"function\"==typeof t.type.getDerivedStateFromError||\"function\"==typeof r.componentDidCatch&&(null===ks||!ks.has(r))){e=Lr(n,e),null!==(r=Au(t,n=$o(2),2))&&(Bo(n,r,t,e),Ae(r,2),gc(r));break}}t=t.return}}function ac(e,t,n){var r=e.pingCache;if(null===r){r=e.pingCache=new Jl;var a=new Set;r.set(t,a)}else void 0===(a=r.get(t))&&(a=new Set,r.set(t,a));a.has(n)||(ls=!0,a.add(n),e=ic.bind(null,e,t,n),t.then(e,e))}function ic(e,t,n){var r=e.pingCache;null!==r&&r.delete(t),e.pingedLanes|=e.suspendedLanes&n,e.warmLanes&=~n,ts===e&&(rs&n)===n&&(4===cs||3===cs&&(62914560&rs)===rs&&300>le()-bs?!(2&es)&&Is(e,0):ps|=n,gs===rs&&(gs=0)),gc(e)}function oc(e,t){0===t&&(t=Ne()),null!==(e=zr(e,t))&&(Ae(e,t),gc(e))}function uc(e){var t=e.memoizedState,n=0;null!==t&&(n=t.retryLane),oc(e,n)}function lc(e,t){var n=0;switch(e.tag){case 13:var r=e.stateNode,a=e.memoizedState;null!==a&&(n=a.retryLane);break;case 19:r=e.stateNode;break;case 22:r=e.stateNode._retryCache;break;default:throw Error(o(314))}null!==r&&r.delete(t),oc(e,n)}var sc=null,cc=null,fc=!1,dc=!1,pc=!1,hc=0;function gc(e){var t;e!==cc&&null===e.next&&(null===cc?sc=cc=e:cc=cc.next=e),dc=!0,fc||(fc=!0,t=mc,rf((function(){6&es?ae(ce,t):t()})))}function vc(e,t){if(!pc&&dc){pc=!0;do{for(var n=!1,r=sc;null!==r;){if(!t)if(0!==e){var a=r.pendingLanes;if(0===a)var i=0;else{var o=r.suspendedLanes,u=r.pingedLanes;i=(1<<31-we(42|e)+1)-1,i=201326677&(i&=a&~(o&~u))?201326677&i|1:i?2|i:0}0!==i&&(n=!0,wc(r,i))}else i=rs,!(3&(i=Ce(r,r===ts?i:0)))||Te(r,i)||(n=!0,wc(r,i));r=r.next}}while(n);pc=!1}}function mc(){dc=fc=!1;var e,t=0;0!==hc&&(((e=window.event)&&\"popstate\"===e.type?e!==Jc&&(Jc=e,!0):(Jc=null,!1))&&(t=hc),hc=0);for(var n=le(),r=null,a=sc;null!==a;){var i=a.next,o=yc(a,n);0===o?(a.next=null,null===r?sc=i:r.next=i,null===i&&(cc=r)):(r=a,(0!==t||3&o)&&(dc=!0)),a=i}vc(t,!1)}function yc(e,t){for(var n=e.suspendedLanes,r=e.pingedLanes,a=e.expirationTimes,i=-62914561&e.pendingLanes;0<i;){var o=31-we(i),u=1<<o,l=a[o];-1===l?u&n&&!(u&r)||(a[o]=Pe(u,t)):l<=t&&(e.expiredLanes|=u),i&=~u}if(n=rs,n=Ce(e,e===(t=ts)?n:0),r=e.callbackNode,0===n||e===t&&2===as||null!==e.cancelPendingCommit)return null!==r&&null!==r&&ie(r),e.callbackNode=null,e.callbackPriority=0;if(!(3&n)||Te(e,n)){if((t=n&-n)===e.callbackPriority)return t;switch(null!==r&&ie(r),Fe(n)){case 2:case 8:n=fe;break;case 32:default:n=de;break;case 268435456:n=he}return r=bc.bind(null,e),n=ae(n,r),e.callbackPriority=t,e.callbackNode=n,t}return null!==r&&null!==r&&ie(r),e.callbackPriority=2,e.callbackNode=null,2}function bc(e,t){var n=e.callbackNode;if(tc()&&e.callbackNode!==n)return null;var r=rs;return 0===(r=Ce(e,e===ts?r:0))?null:(Os(e,r,t),yc(e,le()),null!=e.callbackNode&&e.callbackNode===n?bc.bind(null,e):null)}function wc(e,t){if(tc())return null;Os(e,t,!0)}function _c(){return 0===hc&&(hc=ze()),hc}function kc(e){return null==e||\"symbol\"==typeof e||\"boolean\"==typeof e?null:\"function\"==typeof e?e:zt(\"\"+e)}function xc(e,t){var n=t.ownerDocument.createElement(\"input\");return n.name=t.name,n.value=t.value,e.id&&n.setAttribute(\"form\",e.id),t.parentNode.insertBefore(n,t),e=new FormData(e),n.parentNode.removeChild(n),e}for(var Sc=0;Sc<_r.length;Sc++){var Ec=_r[Sc];kr(Ec.toLowerCase(),\"on\"+(Ec[0].toUpperCase()+Ec.slice(1)))}kr(pr,\"onAnimationEnd\"),kr(hr,\"onAnimationIteration\"),kr(gr,\"onAnimationStart\"),kr(\"dblclick\",\"onDoubleClick\"),kr(\"focusin\",\"onFocus\"),kr(\"focusout\",\"onBlur\"),kr(vr,\"onTransitionRun\"),kr(mr,\"onTransitionStart\"),kr(yr,\"onTransitionCancel\"),kr(br,\"onTransitionEnd\"),tt(\"onMouseEnter\",[\"mouseout\",\"mouseover\"]),tt(\"onMouseLeave\",[\"mouseout\",\"mouseover\"]),tt(\"onPointerEnter\",[\"pointerout\",\"pointerover\"]),tt(\"onPointerLeave\",[\"pointerout\",\"pointerover\"]),et(\"onChange\",\"change click focusin focusout input keydown keyup selectionchange\".split(\" \")),et(\"onSelect\",\"focusout contextmenu dragend focusin keydown keyup mousedown mouseup selectionchange\".split(\" \")),et(\"onBeforeInput\",[\"compositionend\",\"keypress\",\"textInput\",\"paste\"]),et(\"onCompositionEnd\",\"compositionend focusout keydown keypress keyup mousedown\".split(\" \")),et(\"onCompositionStart\",\"compositionstart focusout keydown keypress keyup mousedown\".split(\" \")),et(\"onCompositionUpdate\",\"compositionupdate focusout keydown keypress keyup mousedown\".split(\" \"));var Cc=\"abort canplay canplaythrough durationchange emptied encrypted ended error loadeddata loadedmetadata loadstart pause play playing progress ratechange resize seeked seeking stalled suspend timeupdate volumechange waiting\".split(\" \"),Tc=new Set(\"beforetoggle cancel close invalid load scroll scrollend toggle\".split(\" \").concat(Cc));function Pc(e,t){t=!!(4&t);for(var n=0;n<e.length;n++){var r=e[n],a=r.event;r=r.listeners;e:{var i=void 0;if(t)for(var o=r.length-1;0<=o;o--){var u=r[o],l=u.instance,s=u.currentTarget;if(u=u.listener,l!==i&&a.isPropagationStopped())break e;i=u,a.currentTarget=s;try{i(a)}catch(e){Lo(e)}a.currentTarget=null,i=l}else for(o=0;o<r.length;o++){if(l=(u=r[o]).instance,s=u.currentTarget,u=u.listener,l!==i&&a.isPropagationStopped())break e;i=u,a.currentTarget=s;try{i(a)}catch(e){Lo(e)}a.currentTarget=null,i=l}}}}function zc(e,t){var n=t[$e];void 0===n&&(n=t[$e]=new Set);var r=e+\"__bubble\";n.has(r)||(Oc(t,e,2,!1),n.add(r))}function Nc(e,t,n){var r=0;t&&(r|=4),Oc(n,e,r,t)}var Mc=\"_reactListening\"+Math.random().toString(36).slice(2);function Ac(e){if(!e[Mc]){e[Mc]=!0,Ze.forEach((function(t){\"selectionchange\"!==t&&(Tc.has(t)||Nc(t,!1,e),Nc(t,!0,e))}));var t=9===e.nodeType?e:e.ownerDocument;null===t||t[Mc]||(t[Mc]=!0,Nc(\"selectionchange\",!1,t))}}function Oc(e,t,n,r){switch(Zf(t)){case 2:var a=qf;break;case 8:a=Qf;break;default:a=Yf}n=a.bind(null,t,n,e),a=void 0,!jt||\"touchstart\"!==t&&\"touchmove\"!==t&&\"wheel\"!==t||(a=!0),r?void 0!==a?e.addEventListener(t,n,{capture:!0,passive:a}):e.addEventListener(t,n,!0):void 0!==a?e.addEventListener(t,n,{passive:a}):e.addEventListener(t,n,!1)}function Lc(e,t,n,r,a){var i=r;if(!(1&t||2&t||null===r))e:for(;;){if(null===r)return;var o=r.tag;if(3===o||4===o){var u=r.stateNode.containerInfo;if(u===a||8===u.nodeType&&u.parentNode===a)break;if(4===o)for(o=r.return;null!==o;){var l=o.tag;if((3===l||4===l)&&((l=o.stateNode.containerInfo)===a||8===l.nodeType&&l.parentNode===a))return;o=o.return}for(;null!==u;){if(null===(o=Qe(u)))return;if(5===(l=o.tag)||6===l||26===l||27===l){r=i=o;continue e}u=u.parentNode}}r=r.return}Dt((function(){var r=i,a=Mt(n),o=[];e:{var u=wr.get(e);if(void 0!==u){var l=Zt,s=e;switch(e){case\"keypress\":if(0===Vt(n))break e;case\"keydown\":case\"keyup\":l=hn;break;case\"focusin\":s=\"focus\",l=an;break;case\"focusout\":s=\"blur\",l=an;break;case\"beforeblur\":case\"afterblur\":l=an;break;case\"click\":if(2===n.button)break e;case\"auxclick\":case\"dblclick\":case\"mousedown\":case\"mousemove\":case\"mouseup\":case\"mouseout\":case\"mouseover\":case\"contextmenu\":l=nn;break;case\"drag\":case\"dragend\":case\"dragenter\":case\"dragexit\":case\"dragleave\":case\"dragover\":case\"dragstart\":case\"drop\":l=rn;break;case\"touchcancel\":case\"touchend\":case\"touchmove\":case\"touchstart\":l=vn;break;case pr:case hr:case gr:l=on;break;case br:l=mn;break;case\"scroll\":case\"scrollend\":l=en;break;case\"wheel\":l=yn;break;case\"copy\":case\"cut\":case\"paste\":l=un;break;case\"gotpointercapture\":case\"lostpointercapture\":case\"pointercancel\":case\"pointerdown\":case\"pointermove\":case\"pointerout\":case\"pointerover\":case\"pointerup\":l=gn;break;case\"toggle\":case\"beforetoggle\":l=bn}var c=!!(4&t),f=!c&&(\"scroll\"===e||\"scrollend\"===e),d=c?null!==u?u+\"Capture\":null:u;c=[];for(var p,h=r;null!==h;){var g=h;if(p=g.stateNode,5!==(g=g.tag)&&26!==g&&27!==g||null===p||null===d||null!=(g=Rt(h,d))&&c.push(Fc(h,g,p)),f)break;h=h.return}0<c.length&&(u=new l(u,s,null,n,a),o.push({event:u,listeners:c}))}}if(!(7&t)){if(l=\"mouseout\"===e||\"pointerout\"===e,(!(u=\"mouseover\"===e||\"pointerover\"===e)||n===Nt||!(s=n.relatedTarget||n.fromElement)||!Qe(s)&&!s[Ie])&&(l||u)&&(u=a.window===a?a:(u=a.ownerDocument)?u.defaultView||u.parentWindow:window,l?(l=r,null!==(s=(s=n.relatedTarget||n.toElement)?Qe(s):null)&&(f=R(s),c=s.tag,s!==f||5!==c&&27!==c&&6!==c)&&(s=null)):(l=null,s=r),l!==s)){if(c=nn,g=\"onMouseLeave\",d=\"onMouseEnter\",h=\"mouse\",\"pointerout\"!==e&&\"pointerover\"!==e||(c=gn,g=\"onPointerLeave\",d=\"onPointerEnter\",h=\"pointer\"),f=null==l?u:Ge(l),p=null==s?u:Ge(s),(u=new c(g,h+\"leave\",l,n,a)).target=f,u.relatedTarget=p,g=null,Qe(a)===r&&((c=new c(d,h+\"enter\",s,n,a)).target=p,c.relatedTarget=f,g=c),f=g,l&&s)e:{for(d=s,h=0,p=c=l;p;p=Rc(p))h++;for(p=0,g=d;g;g=Rc(g))p++;for(;0<h-p;)c=Rc(c),h--;for(;0<p-h;)d=Rc(d),p--;for(;h--;){if(c===d||null!==d&&c===d.alternate)break e;c=Rc(c),d=Rc(d)}c=null}else c=null;null!==l&&jc(o,u,l,c,!1),null!==s&&null!==f&&jc(o,f,s,c,!0)}if(\"select\"===(l=(u=r?Ge(r):window).nodeName&&u.nodeName.toLowerCase())||\"input\"===l&&\"file\"===u.type)var v=Rn;else if(Mn(u))if(jn)v=Qn;else{v=Wn;var m=Vn}else!(l=u.nodeName)||\"input\"!==l.toLowerCase()||\"checkbox\"!==u.type&&\"radio\"!==u.type?r&&Ct(r.elementType)&&(v=Rn):v=qn;switch(v&&(v=v(e,r))?An(o,v,n,a):(m&&m(e,u,r),\"focusout\"===e&&r&&\"number\"===u.type&&null!=r.memoizedProps.value&&yt(u,\"number\",u.value)),m=r?Ge(r):window,e){case\"focusin\":(Mn(m)||\"true\"===m.contentEditable)&&(rr=m,ar=r,ir=null);break;case\"focusout\":ir=ar=rr=null;break;case\"mousedown\":or=!0;break;case\"contextmenu\":case\"mouseup\":case\"dragend\":or=!1,ur(o,n,a);break;case\"selectionchange\":if(nr)break;case\"keydown\":case\"keyup\":ur(o,n,a)}var y;if(_n)e:{switch(e){case\"compositionstart\":var b=\"onCompositionStart\";break e;case\"compositionend\":b=\"onCompositionEnd\";break e;case\"compositionupdate\":b=\"onCompositionUpdate\";break e}b=void 0}else zn?Tn(e,n)&&(b=\"onCompositionEnd\"):\"keydown\"===e&&229===n.keyCode&&(b=\"onCompositionStart\");b&&(Sn&&\"ko\"!==n.locale&&(zn||\"onCompositionStart\"!==b?\"onCompositionEnd\"===b&&zn&&(y=Ht()):($t=\"value\"in(It=a)?It.value:It.textContent,zn=!0)),0<(m=Dc(r,b)).length&&(b=new ln(b,e,null,n,a),o.push({event:b,listeners:m}),(y||null!==(y=Pn(n)))&&(b.data=y))),(y=xn?function(e,t){switch(e){case\"compositionend\":return Pn(t);case\"keypress\":return 32!==t.which?null:(Cn=!0,En);case\"textInput\":return(e=t.data)===En&&Cn?null:e;default:return null}}(e,n):function(e,t){if(zn)return\"compositionend\"===e||!_n&&Tn(e,t)?(e=Ht(),Bt=$t=It=null,zn=!1,e):null;switch(e){case\"paste\":default:return null;case\"keypress\":if(!(t.ctrlKey||t.altKey||t.metaKey)||t.ctrlKey&&t.altKey){if(t.char&&1<t.char.length)return t.char;if(t.which)return String.fromCharCode(t.which)}return null;case\"compositionend\":return Sn&&\"ko\"!==t.locale?null:t.data}}(e,n))&&0<(b=Dc(r,\"onBeforeInput\")).length&&(m=new ln(\"onBeforeInput\",\"beforeinput\",null,n,a),o.push({event:m,listeners:b}),m.data=y),function(e,t,n,r,a){if(\"submit\"===t&&n&&n.stateNode===a){var i=kc((a[Ue]||null).action),o=r.submitter;o&&null!==(t=(t=o[Ue]||null)?kc(t.formAction):o.getAttribute(\"formAction\"))&&(i=t,o=null);var u=new Zt(\"action\",\"action\",null,r,a);e.push({event:u,listeners:[{instance:null,listener:function(){if(r.defaultPrevented){if(0!==hc){var e=o?xc(a,o):new FormData(a);co(n,{pending:!0,data:e,method:a.method,action:i},null,e)}}else\"function\"==typeof i&&(u.preventDefault(),e=o?xc(a,o):new FormData(a),co(n,{pending:!0,data:e,method:a.method,action:i},i,e))},currentTarget:a}]})}}(o,e,r,n,a)}Pc(o,t)}))}function Fc(e,t,n){return{instance:e,listener:t,currentTarget:n}}function Dc(e,t){for(var n=t+\"Capture\",r=[];null!==e;){var a=e,i=a.stateNode;5!==(a=a.tag)&&26!==a&&27!==a||null===i||(null!=(a=Rt(e,n))&&r.unshift(Fc(e,a,i)),null!=(a=Rt(e,t))&&r.push(Fc(e,a,i))),e=e.return}return r}function Rc(e){if(null===e)return null;do{e=e.return}while(e&&5!==e.tag&&27!==e.tag);return e||null}function jc(e,t,n,r,a){for(var i=t._reactName,o=[];null!==n&&n!==r;){var u=n,l=u.alternate,s=u.stateNode;if(u=u.tag,null!==l&&l===r)break;5!==u&&26!==u&&27!==u||null===s||(l=s,a?null!=(s=Rt(n,i))&&o.unshift(Fc(n,s,l)):a||null!=(s=Rt(n,i))&&o.push(Fc(n,s,l))),n=n.return}0!==o.length&&e.push({event:t,listeners:o})}var Uc=/\\r\\n?/g,Ic=/\\u0000|\\uFFFD/g;function $c(e){return(\"string\"==typeof e?e:\"\"+e).replace(Uc,\"\\n\").replace(Ic,\"\")}function Bc(e,t){return t=$c(t),$c(e)===t}function Hc(){}function Vc(e,t,n,r,a,i){switch(n){case\"children\":\"string\"==typeof r?\"body\"===t||\"textarea\"===t&&\"\"===r||kt(e,r):(\"number\"==typeof r||\"bigint\"==typeof r)&&\"body\"!==t&&kt(e,\"\"+r);break;case\"className\":ut(e,\"class\",r);break;case\"tabIndex\":ut(e,\"tabindex\",r);break;case\"dir\":case\"role\":case\"viewBox\":case\"width\":case\"height\":ut(e,n,r);break;case\"style\":Et(e,r,i);break;case\"data\":if(\"object\"!==t){ut(e,\"data\",r);break}case\"src\":case\"href\":if(\"\"===r&&(\"a\"!==t||\"href\"!==n)){e.removeAttribute(n);break}if(null==r||\"function\"==typeof r||\"symbol\"==typeof r||\"boolean\"==typeof r){e.removeAttribute(n);break}r=zt(\"\"+r),e.setAttribute(n,r);break;case\"action\":case\"formAction\":if(\"function\"==typeof r){e.setAttribute(n,\"javascript:throw new Error('A React form was unexpectedly submitted. If you called form.submit() manually, consider using form.requestSubmit() instead. If you\\\\'re trying to use event.stopPropagation() in a submit event handler, consider also calling event.preventDefault().')\");break}if(\"function\"==typeof i&&(\"formAction\"===n?(\"input\"!==t&&Vc(e,t,\"name\",a.name,a,null),Vc(e,t,\"formEncType\",a.formEncType,a,null),Vc(e,t,\"formMethod\",a.formMethod,a,null),Vc(e,t,\"formTarget\",a.formTarget,a,null)):(Vc(e,t,\"encType\",a.encType,a,null),Vc(e,t,\"method\",a.method,a,null),Vc(e,t,\"target\",a.target,a,null))),null==r||\"symbol\"==typeof r||\"boolean\"==typeof r){e.removeAttribute(n);break}r=zt(\"\"+r),e.setAttribute(n,r);break;case\"onClick\":null!=r&&(e.onclick=Hc);break;case\"onScroll\":null!=r&&zc(\"scroll\",e);break;case\"onScrollEnd\":null!=r&&zc(\"scrollend\",e);break;case\"dangerouslySetInnerHTML\":if(null!=r){if(\"object\"!=typeof r||!(\"__html\"in r))throw Error(o(61));if(null!=(n=r.__html)){if(null!=a.children)throw Error(o(60));e.innerHTML=n}}break;case\"multiple\":e.multiple=r&&\"function\"!=typeof r&&\"symbol\"!=typeof r;break;case\"muted\":e.muted=r&&\"function\"!=typeof r&&\"symbol\"!=typeof r;break;case\"suppressContentEditableWarning\":case\"suppressHydrationWarning\":case\"defaultValue\":case\"defaultChecked\":case\"innerHTML\":case\"ref\":case\"autoFocus\":break;case\"xlinkHref\":if(null==r||\"function\"==typeof r||\"boolean\"==typeof r||\"symbol\"==typeof r){e.removeAttribute(\"xlink:href\");break}n=zt(\"\"+r),e.setAttributeNS(\"http://www.w3.org/1999/xlink\",\"xlink:href\",n);break;case\"contentEditable\":case\"spellCheck\":case\"draggable\":case\"value\":case\"autoReverse\":case\"externalResourcesRequired\":case\"focusable\":case\"preserveAlpha\":null!=r&&\"function\"!=typeof r&&\"symbol\"!=typeof r?e.setAttribute(n,\"\"+r):e.removeAttribute(n);break;case\"inert\":case\"allowFullScreen\":case\"async\":case\"autoPlay\":case\"controls\":case\"default\":case\"defer\":case\"disabled\":case\"disablePictureInPicture\":case\"disableRemotePlayback\":case\"formNoValidate\":case\"hidden\":case\"loop\":case\"noModule\":case\"noValidate\":case\"open\":case\"playsInline\":case\"readOnly\":case\"required\":case\"reversed\":case\"scoped\":case\"seamless\":case\"itemScope\":r&&\"function\"!=typeof r&&\"symbol\"!=typeof r?e.setAttribute(n,\"\"):e.removeAttribute(n);break;case\"capture\":case\"download\":!0===r?e.setAttribute(n,\"\"):!1!==r&&null!=r&&\"function\"!=typeof r&&\"symbol\"!=typeof r?e.setAttribute(n,r):e.removeAttribute(n);break;case\"cols\":case\"rows\":case\"size\":case\"span\":null!=r&&\"function\"!=typeof r&&\"symbol\"!=typeof r&&!isNaN(r)&&1<=r?e.setAttribute(n,r):e.removeAttribute(n);break;case\"rowSpan\":case\"start\":null==r||\"function\"==typeof r||\"symbol\"==typeof r||isNaN(r)?e.removeAttribute(n):e.setAttribute(n,r);break;case\"popover\":zc(\"beforetoggle\",e),zc(\"toggle\",e),ot(e,\"popover\",r);break;case\"xlinkActuate\":lt(e,\"http://www.w3.org/1999/xlink\",\"xlink:actuate\",r);break;case\"xlinkArcrole\":lt(e,\"http://www.w3.org/1999/xlink\",\"xlink:arcrole\",r);break;case\"xlinkRole\":lt(e,\"http://www.w3.org/1999/xlink\",\"xlink:role\",r);break;case\"xlinkShow\":lt(e,\"http://www.w3.org/1999/xlink\",\"xlink:show\",r);break;case\"xlinkTitle\":lt(e,\"http://www.w3.org/1999/xlink\",\"xlink:title\",r);break;case\"xlinkType\":lt(e,\"http://www.w3.org/1999/xlink\",\"xlink:type\",r);break;case\"xmlBase\":lt(e,\"http://www.w3.org/XML/1998/namespace\",\"xml:base\",r);break;case\"xmlLang\":lt(e,\"http://www.w3.org/XML/1998/namespace\",\"xml:lang\",r);break;case\"xmlSpace\":lt(e,\"http://www.w3.org/XML/1998/namespace\",\"xml:space\",r);break;case\"is\":ot(e,\"is\",r);break;case\"innerText\":case\"textContent\":break;default:(!(2<n.length)||\"o\"!==n[0]&&\"O\"!==n[0]||\"n\"!==n[1]&&\"N\"!==n[1])&&ot(e,n=Tt.get(n)||n,r)}}function Wc(e,t,n,r,a,i){switch(n){case\"style\":Et(e,r,i);break;case\"dangerouslySetInnerHTML\":if(null!=r){if(\"object\"!=typeof r||!(\"__html\"in r))throw Error(o(61));if(null!=(n=r.__html)){if(null!=a.children)throw Error(o(60));e.innerHTML=n}}break;case\"children\":\"string\"==typeof r?kt(e,r):(\"number\"==typeof r||\"bigint\"==typeof r)&&kt(e,\"\"+r);break;case\"onScroll\":null!=r&&zc(\"scroll\",e);break;case\"onScrollEnd\":null!=r&&zc(\"scrollend\",e);break;case\"onClick\":null!=r&&(e.onclick=Hc);break;case\"suppressContentEditableWarning\":case\"suppressHydrationWarning\":case\"innerHTML\":case\"ref\":case\"innerText\":case\"textContent\":break;default:Je.hasOwnProperty(n)||(\"o\"!==n[0]||\"n\"!==n[1]||(a=n.endsWith(\"Capture\"),t=n.slice(2,a?n.length-7:void 0),\"function\"==typeof(i=null!=(i=e[Ue]||null)?i[n]:null)&&e.removeEventListener(t,i,a),\"function\"!=typeof r)?n in e?e[n]=r:!0===r?e.setAttribute(n,\"\"):ot(e,n,r):(\"function\"!=typeof i&&null!==i&&(n in e?e[n]=null:e.hasAttribute(n)&&e.removeAttribute(n)),e.addEventListener(t,r,a)))}}function qc(e,t,n){switch(t){case\"div\":case\"span\":case\"svg\":case\"path\":case\"a\":case\"g\":case\"p\":case\"li\":break;case\"img\":zc(\"error\",e),zc(\"load\",e);var r,a=!1,i=!1;for(r in n)if(n.hasOwnProperty(r)){var u=n[r];if(null!=u)switch(r){case\"src\":a=!0;break;case\"srcSet\":i=!0;break;case\"children\":case\"dangerouslySetInnerHTML\":throw Error(o(137,t));default:Vc(e,t,r,u,n,null)}}return i&&Vc(e,t,\"srcSet\",n.srcSet,n,null),void(a&&Vc(e,t,\"src\",n.src,n,null));case\"input\":zc(\"invalid\",e);var l=r=u=i=null,s=null,c=null;for(a in n)if(n.hasOwnProperty(a)){var f=n[a];if(null!=f)switch(a){case\"name\":i=f;break;case\"type\":u=f;break;case\"checked\":s=f;break;case\"defaultChecked\":c=f;break;case\"value\":r=f;break;case\"defaultValue\":l=f;break;case\"children\":case\"dangerouslySetInnerHTML\":if(null!=f)throw Error(o(137,t));break;default:Vc(e,t,a,f,n,null)}}return mt(e,r,l,s,c,u,i,!1),void ft(e);case\"select\":for(i in zc(\"invalid\",e),a=u=r=null,n)if(n.hasOwnProperty(i)&&null!=(l=n[i]))switch(i){case\"value\":r=l;break;case\"defaultValue\":u=l;break;case\"multiple\":a=l;default:Vc(e,t,i,l,n,null)}return t=r,n=u,e.multiple=!!a,void(null!=t?bt(e,!!a,t,!1):null!=n&&bt(e,!!a,n,!0));case\"textarea\":for(u in zc(\"invalid\",e),r=i=a=null,n)if(n.hasOwnProperty(u)&&null!=(l=n[u]))switch(u){case\"value\":a=l;break;case\"defaultValue\":i=l;break;case\"children\":r=l;break;case\"dangerouslySetInnerHTML\":if(null!=l)throw Error(o(91));break;default:Vc(e,t,u,l,n,null)}return _t(e,a,i,r),void ft(e);case\"option\":for(s in n)n.hasOwnProperty(s)&&null!=(a=n[s])&&(\"selected\"===s?e.selected=a&&\"function\"!=typeof a&&\"symbol\"!=typeof a:Vc(e,t,s,a,n,null));return;case\"dialog\":zc(\"cancel\",e),zc(\"close\",e);break;case\"iframe\":case\"object\":zc(\"load\",e);break;case\"video\":case\"audio\":for(a=0;a<Cc.length;a++)zc(Cc[a],e);break;case\"image\":zc(\"error\",e),zc(\"load\",e);break;case\"details\":zc(\"toggle\",e);break;case\"embed\":case\"source\":case\"link\":zc(\"error\",e),zc(\"load\",e);case\"area\":case\"base\":case\"br\":case\"col\":case\"hr\":case\"keygen\":case\"meta\":case\"param\":case\"track\":case\"wbr\":case\"menuitem\":for(c in n)if(n.hasOwnProperty(c)&&null!=(a=n[c]))switch(c){case\"children\":case\"dangerouslySetInnerHTML\":throw Error(o(137,t));default:Vc(e,t,c,a,n,null)}return;default:if(Ct(t)){for(f in n)n.hasOwnProperty(f)&&void 0!==(a=n[f])&&Wc(e,t,f,a,n,void 0);return}}for(l in n)n.hasOwnProperty(l)&&null!=(a=n[l])&&Vc(e,t,l,a,n,null)}var Qc=null,Yc=null;function Gc(e){return 9===e.nodeType?e:e.ownerDocument}function Kc(e){switch(e){case\"http://www.w3.org/2000/svg\":return 1;case\"http://www.w3.org/1998/Math/MathML\":return 2;default:return 0}}function Xc(e,t){if(0===e)switch(t){case\"svg\":return 1;case\"math\":return 2;default:return 0}return 1===e&&\"foreignObject\"===t?0:e}function Zc(e,t){return\"textarea\"===e||\"noscript\"===e||\"string\"==typeof t.children||\"number\"==typeof t.children||\"bigint\"==typeof t.children||\"object\"==typeof t.dangerouslySetInnerHTML&&null!==t.dangerouslySetInnerHTML&&null!=t.dangerouslySetInnerHTML.__html}var Jc=null,ef=\"function\"==typeof setTimeout?setTimeout:void 0,tf=\"function\"==typeof clearTimeout?clearTimeout:void 0,nf=\"function\"==typeof Promise?Promise:void 0,rf=\"function\"==typeof queueMicrotask?queueMicrotask:void 0!==nf?function(e){return nf.resolve(null).then(e).catch(af)}:ef;function af(e){setTimeout((function(){throw e}))}function of(e,t){var n=t,r=0;do{var a=n.nextSibling;if(e.removeChild(n),a&&8===a.nodeType)if(\"/$\"===(n=a.data)){if(0===r)return e.removeChild(a),void vd(t);r--}else\"$\"!==n&&\"$?\"!==n&&\"$!\"!==n||r++;n=a}while(n);vd(t)}function uf(e){var t=e.firstChild;for(t&&10===t.nodeType&&(t=t.nextSibling);t;){var n=t;switch(t=t.nextSibling,n.nodeName){case\"HTML\":case\"HEAD\":case\"BODY\":uf(n),qe(n);continue;case\"SCRIPT\":case\"STYLE\":continue;case\"LINK\":if(\"stylesheet\"===n.rel.toLowerCase())continue}e.removeChild(n)}}function lf(e){for(;null!=e;e=e.nextSibling){var t=e.nodeType;if(1===t||3===t)break;if(8===t){if(\"$\"===(t=e.data)||\"$!\"===t||\"$?\"===t||\"F!\"===t||\"F\"===t)break;if(\"/$\"===t)return null}}return e}function sf(e){e=e.previousSibling;for(var t=0;e;){if(8===e.nodeType){var n=e.data;if(\"$\"===n||\"$!\"===n||\"$?\"===n){if(0===t)return e;t--}else\"/$\"===n&&t++}e=e.previousSibling}return null}function cf(e,t,n){switch(t=Gc(n),e){case\"html\":if(!(e=t.documentElement))throw Error(o(452));return e;case\"head\":if(!(e=t.head))throw Error(o(453));return e;case\"body\":if(!(e=t.body))throw Error(o(454));return e;default:throw Error(o(451))}}var ff=new Map,df=new Set;function pf(e){return\"function\"==typeof e.getRootNode?e.getRootNode():e.ownerDocument}var hf=B.d;B.d={f:function(){var e=hf.f(),t=js();return e||t},r:function(e){var t=Ye(e);null!==t&&5===t.tag&&\"form\"===t.type?po(t):hf.r(e)},D:function(e){hf.D(e),vf(\"dns-prefetch\",e,null)},C:function(e,t){hf.C(e,t),vf(\"preconnect\",e,t)},L:function(e,t,n){hf.L(e,t,n);var r=gf;if(r&&e&&t){var a='link[rel=\"preload\"][as=\"'+gt(t)+'\"]';\"image\"===t&&n&&n.imageSrcSet?(a+='[imagesrcset=\"'+gt(n.imageSrcSet)+'\"]',\"string\"==typeof n.imageSizes&&(a+='[imagesizes=\"'+gt(n.imageSizes)+'\"]')):a+='[href=\"'+gt(e)+'\"]';var i=a;switch(t){case\"style\":i=yf(e);break;case\"script\":i=_f(e)}ff.has(i)||(e=M({rel:\"preload\",href:\"image\"===t&&n&&n.imageSrcSet?void 0:e,as:t},n),ff.set(i,e),null!==r.querySelector(a)||\"style\"===t&&r.querySelector(bf(i))||\"script\"===t&&r.querySelector(kf(i))||(qc(t=r.createElement(\"link\"),\"link\",e),Xe(t),r.head.appendChild(t)))}},m:function(e,t){hf.m(e,t);var n=gf;if(n&&e){var r=t&&\"string\"==typeof t.as?t.as:\"script\",a='link[rel=\"modulepreload\"][as=\"'+gt(r)+'\"][href=\"'+gt(e)+'\"]',i=a;switch(r){case\"audioworklet\":case\"paintworklet\":case\"serviceworker\":case\"sharedworker\":case\"worker\":case\"script\":i=_f(e)}if(!ff.has(i)&&(e=M({rel:\"modulepreload\",href:e},t),ff.set(i,e),null===n.querySelector(a))){switch(r){case\"audioworklet\":case\"paintworklet\":case\"serviceworker\":case\"sharedworker\":case\"worker\":case\"script\":if(n.querySelector(kf(i)))return}qc(r=n.createElement(\"link\"),\"link\",e),Xe(r),n.head.appendChild(r)}}},X:function(e,t){hf.X(e,t);var n=gf;if(n&&e){var r=Ke(n).hoistableScripts,a=_f(e),i=r.get(a);i||((i=n.querySelector(kf(a)))||(e=M({src:e,async:!0},t),(t=ff.get(a))&&Cf(e,t),Xe(i=n.createElement(\"script\")),qc(i,\"link\",e),n.head.appendChild(i)),i={type:\"script\",instance:i,count:1,state:null},r.set(a,i))}},S:function(e,t,n){hf.S(e,t,n);var r=gf;if(r&&e){var a=Ke(r).hoistableStyles,i=yf(e);t=t||\"default\";var o=a.get(i);if(!o){var u={loading:0,preload:null};if(o=r.querySelector(bf(i)))u.loading=5;else{e=M({rel:\"stylesheet\",href:e,\"data-precedence\":t},n),(n=ff.get(i))&&Ef(e,n);var l=o=r.createElement(\"link\");Xe(l),qc(l,\"link\",e),l._p=new Promise((function(e,t){l.onload=e,l.onerror=t})),l.addEventListener(\"load\",(function(){u.loading|=1})),l.addEventListener(\"error\",(function(){u.loading|=2})),u.loading|=4,Sf(o,t,r)}o={type:\"stylesheet\",instance:o,count:1,state:u},a.set(i,o)}}},M:function(e,t){hf.M(e,t);var n=gf;if(n&&e){var r=Ke(n).hoistableScripts,a=_f(e),i=r.get(a);i||((i=n.querySelector(kf(a)))||(e=M({src:e,async:!0,type:\"module\"},t),(t=ff.get(a))&&Cf(e,t),Xe(i=n.createElement(\"script\")),qc(i,\"link\",e),n.head.appendChild(i)),i={type:\"script\",instance:i,count:1,state:null},r.set(a,i))}}};var gf=\"undefined\"==typeof document?null:document;function vf(e,t,n){var r=gf;if(r&&\"string\"==typeof t&&t){var a=gt(t);a='link[rel=\"'+e+'\"][href=\"'+a+'\"]',\"string\"==typeof n&&(a+='[crossorigin=\"'+n+'\"]'),df.has(a)||(df.add(a),e={rel:e,crossOrigin:n,href:t},null===r.querySelector(a)&&(qc(t=r.createElement(\"link\"),\"link\",e),Xe(t),r.head.appendChild(t)))}}function mf(e,t,n,r){var a,i,u,l,s=(s=X.current)?pf(s):null;if(!s)throw Error(o(446));switch(e){case\"meta\":case\"title\":return null;case\"style\":return\"string\"==typeof n.precedence&&\"string\"==typeof n.href?(t=yf(n.href),(r=(n=Ke(s).hoistableStyles).get(t))||(r={type:\"style\",instance:null,count:0,state:null},n.set(t,r)),r):{type:\"void\",instance:null,count:0,state:null};case\"link\":if(\"stylesheet\"===n.rel&&\"string\"==typeof n.href&&\"string\"==typeof n.precedence){e=yf(n.href);var c=Ke(s).hoistableStyles,f=c.get(e);if(f||(s=s.ownerDocument||s,f={type:\"stylesheet\",instance:null,count:0,state:{loading:0,preload:null}},c.set(e,f),(c=s.querySelector(bf(e)))&&!c._p&&(f.instance=c,f.state.loading=5),ff.has(e)||(n={rel:\"preload\",as:\"style\",href:n.href,crossOrigin:n.crossOrigin,integrity:n.integrity,media:n.media,hrefLang:n.hrefLang,referrerPolicy:n.referrerPolicy},ff.set(e,n),c||(a=s,i=e,u=n,l=f.state,a.querySelector('link[rel=\"preload\"][as=\"style\"]['+i+\"]\")?l.loading=1:(i=a.createElement(\"link\"),l.preload=i,i.addEventListener(\"load\",(function(){return l.loading|=1})),i.addEventListener(\"error\",(function(){return l.loading|=2})),qc(i,\"link\",u),Xe(i),a.head.appendChild(i))))),t&&null===r)throw Error(o(528,\"\"));return f}if(t&&null!==r)throw Error(o(529,\"\"));return null;case\"script\":return t=n.async,\"string\"==typeof(n=n.src)&&t&&\"function\"!=typeof t&&\"symbol\"!=typeof t?(t=_f(n),(r=(n=Ke(s).hoistableScripts).get(t))||(r={type:\"script\",instance:null,count:0,state:null},n.set(t,r)),r):{type:\"void\",instance:null,count:0,state:null};default:throw Error(o(444,e))}}function yf(e){return'href=\"'+gt(e)+'\"'}function bf(e){return'link[rel=\"stylesheet\"]['+e+\"]\"}function wf(e){return M({},e,{\"data-precedence\":e.precedence,precedence:null})}function _f(e){return'[src=\"'+gt(e)+'\"]'}function kf(e){return\"script[async]\"+e}function xf(e,t,n){if(t.count++,null===t.instance)switch(t.type){case\"style\":var r=e.querySelector('style[data-href~=\"'+gt(n.href)+'\"]');if(r)return t.instance=r,Xe(r),r;var a=M({},n,{\"data-href\":n.href,\"data-precedence\":n.precedence,href:null,precedence:null});return Xe(r=(e.ownerDocument||e).createElement(\"style\")),qc(r,\"style\",a),Sf(r,n.precedence,e),t.instance=r;case\"stylesheet\":a=yf(n.href);var i=e.querySelector(bf(a));if(i)return t.state.loading|=4,t.instance=i,Xe(i),i;r=wf(n),(a=ff.get(a))&&Ef(r,a),Xe(i=(e.ownerDocument||e).createElement(\"link\"));var u=i;return u._p=new Promise((function(e,t){u.onload=e,u.onerror=t})),qc(i,\"link\",r),t.state.loading|=4,Sf(i,n.precedence,e),t.instance=i;case\"script\":return i=_f(n.src),(a=e.querySelector(kf(i)))?(t.instance=a,Xe(a),a):(r=n,(a=ff.get(i))&&Cf(r=M({},n),a),Xe(a=(e=e.ownerDocument||e).createElement(\"script\")),qc(a,\"link\",r),e.head.appendChild(a),t.instance=a);case\"void\":return null;default:throw Error(o(443,t.type))}else\"stylesheet\"===t.type&&!(4&t.state.loading)&&(r=t.instance,t.state.loading|=4,Sf(r,n.precedence,e));return t.instance}function Sf(e,t,n){for(var r=n.querySelectorAll('link[rel=\"stylesheet\"][data-precedence],style[data-precedence]'),a=r.length?r[r.length-1]:null,i=a,o=0;o<r.length;o++){var u=r[o];if(u.dataset.precedence===t)i=u;else if(i!==a)break}i?i.parentNode.insertBefore(e,i.nextSibling):(t=9===n.nodeType?n.head:n).insertBefore(e,t.firstChild)}function Ef(e,t){null==e.crossOrigin&&(e.crossOrigin=t.crossOrigin),null==e.referrerPolicy&&(e.referrerPolicy=t.referrerPolicy),null==e.title&&(e.title=t.title)}function Cf(e,t){null==e.crossOrigin&&(e.crossOrigin=t.crossOrigin),null==e.referrerPolicy&&(e.referrerPolicy=t.referrerPolicy),null==e.integrity&&(e.integrity=t.integrity)}var Tf=null;function Pf(e,t,n){if(null===Tf){var r=new Map,a=Tf=new Map;a.set(n,r)}else(r=(a=Tf).get(n))||(r=new Map,a.set(n,r));if(r.has(e))return r;for(r.set(e,null),n=n.getElementsByTagName(e),a=0;a<n.length;a++){var i=n[a];if(!(i[We]||i[je]||\"link\"===e&&\"stylesheet\"===i.getAttribute(\"rel\"))&&\"http://www.w3.org/2000/svg\"!==i.namespaceURI){var o=i.getAttribute(t)||\"\";o=e+o;var u=r.get(o);u?u.push(i):r.set(o,[i])}}return r}function zf(e,t,n){(e=e.ownerDocument||e).head.insertBefore(n,\"title\"===t?e.querySelector(\"head > title\"):null)}function Nf(e){return!!(\"stylesheet\"!==e.type||3&e.state.loading)}var Mf=null;function Af(){}function Of(){if(this.count--,0===this.count)if(this.stylesheets)Ff(this,this.stylesheets);else if(this.unsuspend){var e=this.unsuspend;this.unsuspend=null,e()}}var Lf=null;function Ff(e,t){e.stylesheets=null,null!==e.unsuspend&&(e.count++,Lf=new Map,t.forEach(Df,e),Lf=null,Of.call(e))}function Df(e,t){if(!(4&t.state.loading)){var n=Lf.get(e);if(n)var r=n.get(null);else{n=new Map,Lf.set(e,n);for(var a=e.querySelectorAll(\"link[data-precedence],style[data-precedence]\"),i=0;i<a.length;i++){var o=a[i];\"LINK\"!==o.nodeName&&\"not all\"===o.getAttribute(\"media\")||(n.set(o.dataset.precedence,o),r=o)}r&&n.set(null,r)}o=(a=t.instance).getAttribute(\"data-precedence\"),(i=n.get(o)||r)===r&&n.set(null,a),n.set(o,a),this.count++,r=Of.bind(this),a.addEventListener(\"load\",r),a.addEventListener(\"error\",r),i?i.parentNode.insertBefore(a,i.nextSibling):(e=9===e.nodeType?e.head:e).insertBefore(a,e.firstChild),t.state.loading|=4}}var Rf={$$typeof:v,Provider:null,Consumer:null,_currentValue:H,_currentValue2:H,_threadCount:0};function jf(e,t,n,r,a,i,o,u){this.tag=1,this.containerInfo=e,this.finishedWork=this.pingCache=this.current=this.pendingChildren=null,this.timeoutHandle=-1,this.callbackNode=this.next=this.pendingContext=this.context=this.cancelPendingCommit=null,this.callbackPriority=0,this.expirationTimes=Me(-1),this.entangledLanes=this.shellSuspendCounter=this.errorRecoveryDisabledLanes=this.finishedLanes=this.expiredLanes=this.warmLanes=this.pingedLanes=this.suspendedLanes=this.pendingLanes=0,this.entanglements=Me(0),this.hiddenUpdates=Me(null),this.identifierPrefix=r,this.onUncaughtError=a,this.onCaughtError=i,this.onRecoverableError=o,this.pooledCache=null,this.pooledCacheLanes=0,this.formState=u,this.incompleteTransitions=new Map}function Uf(e,t,n,r,a,i,o,u,l,s,c,f){return e=new jf(e,t,n,o,u,l,s,f),t=1,!0===i&&(t|=24),i=Fl(3,null,null,t),e.current=i,i.stateNode=e,(t=Ia()).refCount++,e.pooledCache=t,t.refCount++,i.memoizedState={element:r,isDehydrated:n,cache:t},zu(i),e}function If(e){return e?e=Ar:Ar}function $f(e,t,n,r,a,i){a=If(a),null===r.context?r.context=a:r.pendingContext=a,(r=Mu(t)).payload={element:n},null!==(i=void 0===i?null:i)&&(r.callback=i),null!==(n=Au(e,r,t))&&(As(n,0,t),Ou(n,e,t))}function Bf(e,t){if(null!==(e=e.memoizedState)&&null!==e.dehydrated){var n=e.retryLane;e.retryLane=0!==n&&n<t?n:t}}function Hf(e,t){Bf(e,t),(e=e.alternate)&&Bf(e,t)}function Vf(e){if(13===e.tag){var t=zr(e,67108864);null!==t&&As(t,0,67108864),Hf(e,67108864)}}var Wf=!0;function qf(e,t,n,r){var a=N.T;N.T=null;var i=B.p;try{B.p=2,Yf(e,t,n,r)}finally{B.p=i,N.T=a}}function Qf(e,t,n,r){var a=N.T;N.T=null;var i=B.p;try{B.p=8,Yf(e,t,n,r)}finally{B.p=i,N.T=a}}function Yf(e,t,n,r){if(Wf){var a=Gf(r);if(null===a)Lc(e,t,r,Kf,n),ud(e,r);else if(function(e,t,n,r,a){switch(t){case\"focusin\":return ed=ld(ed,e,t,n,r,a),!0;case\"dragenter\":return td=ld(td,e,t,n,r,a),!0;case\"mouseover\":return nd=ld(nd,e,t,n,r,a),!0;case\"pointerover\":var i=a.pointerId;return rd.set(i,ld(rd.get(i)||null,e,t,n,r,a)),!0;case\"gotpointercapture\":return i=a.pointerId,ad.set(i,ld(ad.get(i)||null,e,t,n,r,a)),!0}return!1}(a,e,t,n,r))r.stopPropagation();else if(ud(e,r),4&t&&-1<od.indexOf(e)){for(;null!==a;){var i=Ye(a);if(null!==i)switch(i.tag){case 3:if((i=i.stateNode).current.memoizedState.isDehydrated){var o=Ee(i.pendingLanes);if(0!==o){var u=i;for(u.pendingLanes|=2,u.entangledLanes|=2;o;){var l=1<<31-we(o);u.entanglements[1]|=l,o&=~l}gc(i),!(6&es)&&(ws=le()+500,vc(0,!1))}}break;case 13:null!==(u=zr(i,2))&&As(u,0,2),js(),Hf(i,2)}if(null===(i=Gf(r))&&Lc(e,t,r,Kf,n),i===a)break;a=i}null!==a&&r.stopPropagation()}else Lc(e,t,r,null,n)}}function Gf(e){return Xf(e=Mt(e))}var Kf=null;function Xf(e){if(Kf=null,null!==(e=Qe(e))){var t=R(e);if(null===t)e=null;else{var n=t.tag;if(13===n){if(null!==(e=j(t)))return e;e=null}else if(3===n){if(t.stateNode.current.memoizedState.isDehydrated)return 3===t.tag?t.stateNode.containerInfo:null;e=null}else t!==e&&(e=null)}}return Kf=e,null}function Zf(e){switch(e){case\"beforetoggle\":case\"cancel\":case\"click\":case\"close\":case\"contextmenu\":case\"copy\":case\"cut\":case\"auxclick\":case\"dblclick\":case\"dragend\":case\"dragstart\":case\"drop\":case\"focusin\":case\"focusout\":case\"input\":case\"invalid\":case\"keydown\":case\"keypress\":case\"keyup\":case\"mousedown\":case\"mouseup\":case\"paste\":case\"pause\":case\"play\":case\"pointercancel\":case\"pointerdown\":case\"pointerup\":case\"ratechange\":case\"reset\":case\"resize\":case\"seeked\":case\"submit\":case\"toggle\":case\"touchcancel\":case\"touchend\":case\"touchstart\":case\"volumechange\":case\"change\":case\"selectionchange\":case\"textInput\":case\"compositionstart\":case\"compositionend\":case\"compositionupdate\":case\"beforeblur\":case\"afterblur\":case\"beforeinput\":case\"blur\":case\"fullscreenchange\":case\"focus\":case\"hashchange\":case\"popstate\":case\"select\":case\"selectstart\":return 2;case\"drag\":case\"dragenter\":case\"dragexit\":case\"dragleave\":case\"dragover\":case\"mousemove\":case\"mouseout\":case\"mouseover\":case\"pointermove\":case\"pointerout\":case\"pointerover\":case\"scroll\":case\"touchmove\":case\"wheel\":case\"mouseenter\":case\"mouseleave\":case\"pointerenter\":case\"pointerleave\":return 8;case\"message\":switch(se()){case ce:return 2;case fe:return 8;case de:case pe:return 32;case he:return 268435456;default:return 32}default:return 32}}var Jf=!1,ed=null,td=null,nd=null,rd=new Map,ad=new Map,id=[],od=\"mousedown mouseup touchcancel touchend touchstart auxclick dblclick pointercancel pointerdown pointerup dragend dragstart drop compositionend compositionstart keydown keypress keyup input textInput copy cut paste click change contextmenu reset\".split(\" \");function ud(e,t){switch(e){case\"focusin\":case\"focusout\":ed=null;break;case\"dragenter\":case\"dragleave\":td=null;break;case\"mouseover\":case\"mouseout\":nd=null;break;case\"pointerover\":case\"pointerout\":rd.delete(t.pointerId);break;case\"gotpointercapture\":case\"lostpointercapture\":ad.delete(t.pointerId)}}function ld(e,t,n,r,a,i){return null===e||e.nativeEvent!==i?(e={blockedOn:t,domEventName:n,eventSystemFlags:r,nativeEvent:i,targetContainers:[a]},null!==t&&null!==(t=Ye(t))&&Vf(t),e):(e.eventSystemFlags|=r,t=e.targetContainers,null!==a&&-1===t.indexOf(a)&&t.push(a),e)}function sd(e){var t=Qe(e.target);if(null!==t){var n=R(t);if(null!==n)if(13===(t=n.tag)){if(null!==(t=j(n)))return e.blockedOn=t,void function(e){var t=B.p;try{return B.p=e,function(){if(13===n.tag){var e=Ns(),t=zr(n,e);null!==t&&As(t,0,e),Hf(n,e)}}()}finally{B.p=t}}(e.priority)}else if(3===t&&n.stateNode.current.memoizedState.isDehydrated)return void(e.blockedOn=3===n.tag?n.stateNode.containerInfo:null)}e.blockedOn=null}function cd(e){if(null!==e.blockedOn)return!1;for(var t=e.targetContainers;0<t.length;){var n=Gf(e.nativeEvent);if(null!==n)return null!==(t=Ye(n))&&Vf(t),e.blockedOn=n,!1;var r=new(n=e.nativeEvent).constructor(n.type,n);Nt=r,n.target.dispatchEvent(r),Nt=null,t.shift()}return!0}function fd(e,t,n){cd(e)&&n.delete(t)}function dd(){Jf=!1,null!==ed&&cd(ed)&&(ed=null),null!==td&&cd(td)&&(td=null),null!==nd&&cd(nd)&&(nd=null),rd.forEach(fd),ad.forEach(fd)}function pd(e,t){e.blockedOn===t&&(e.blockedOn=null,Jf||(Jf=!0,r.unstable_scheduleCallback(r.unstable_NormalPriority,dd)))}var hd=null;function gd(e){hd!==e&&(hd=e,r.unstable_scheduleCallback(r.unstable_NormalPriority,(function(){hd===e&&(hd=null);for(var t=0;t<e.length;t+=3){var n=e[t],r=e[t+1],a=e[t+2];if(\"function\"!=typeof r){if(null===Xf(r||n))continue;break}var i=Ye(n);null!==i&&(e.splice(t,3),t-=3,co(i,{pending:!0,data:a,method:n.method,action:r},r,a))}})))}function vd(e){function t(t){return pd(t,e)}null!==ed&&pd(ed,e),null!==td&&pd(td,e),null!==nd&&pd(nd,e),rd.forEach(t),ad.forEach(t);for(var n=0;n<id.length;n++){var r=id[n];r.blockedOn===e&&(r.blockedOn=null)}for(;0<id.length&&null===(n=id[0]).blockedOn;)sd(n),null===n.blockedOn&&id.shift();if(null!=(n=(e.ownerDocument||e).$$reactFormReplay))for(r=0;r<n.length;r+=3){var a=n[r],i=n[r+1],o=a[Ue]||null;if(\"function\"==typeof i)o||gd(n);else if(o){var u=null;if(i&&i.hasAttribute(\"formAction\")){if(a=i,o=i[Ue]||null)u=o.formAction;else if(null!==Xf(a))continue}else u=o.action;\"function\"==typeof u?n[r+1]=u:(n.splice(r,3),r-=3),gd(n)}}}function md(e){this._internalRoot=e}function yd(e){this._internalRoot=e}yd.prototype.render=md.prototype.render=function(e){var t=this._internalRoot;if(null===t)throw Error(o(409));$f(t.current,Ns(),e,t,null,null)},yd.prototype.unmount=md.prototype.unmount=function(){var e=this._internalRoot;if(null!==e){this._internalRoot=null;var t=e.containerInfo;0===e.tag&&tc(),$f(e.current,2,null,e,null,null),js(),t[Ie]=null}},yd.prototype.unstable_scheduleHydration=function(e){if(e){var t=De();e={blockedOn:null,target:e,priority:t};for(var n=0;n<id.length&&0!==t&&t<id[n].priority;n++);id.splice(n,0,e),0===n&&sd(e)}};var bd=a.version;if(\"19.0.0\"!==bd)throw Error(o(527,bd,\"19.0.0\"));B.findDOMNode=function(e){var t=e._reactInternals;if(void 0===t){if(\"function\"==typeof e.render)throw Error(o(188));throw e=Object.keys(e).join(\",\"),Error(o(268,e))}return e=function(e){var t=e.alternate;if(!t){if(null===(t=R(e)))throw Error(o(188));return t!==e?null:e}for(var n=e,r=t;;){var a=n.return;if(null===a)break;var i=a.alternate;if(null===i){if(null!==(r=a.return)){n=r;continue}break}if(a.child===i.child){for(i=a.child;i;){if(i===n)return U(a),e;if(i===r)return U(a),t;i=i.sibling}throw Error(o(188))}if(n.return!==r.return)n=a,r=i;else{for(var u=!1,l=a.child;l;){if(l===n){u=!0,n=a,r=i;break}if(l===r){u=!0,r=a,n=i;break}l=l.sibling}if(!u){for(l=i.child;l;){if(l===n){u=!0,n=i,r=a;break}if(l===r){u=!0,r=i,n=a;break}l=l.sibling}if(!u)throw Error(o(189))}}if(n.alternate!==r)throw Error(o(190))}if(3!==n.tag)throw Error(o(188));return n.stateNode.current===n?e:t}(t),null===(e=null!==e?I(e):null)?null:e.stateNode};var wd={bundleType:0,version:\"19.0.0\",rendererPackageName:\"react-dom\",currentDispatcherRef:N,findFiberByHostInstance:Qe,reconcilerVersion:\"19.0.0\"};if(\"undefined\"!=typeof __REACT_DEVTOOLS_GLOBAL_HOOK__){var _d=__REACT_DEVTOOLS_GLOBAL_HOOK__;if(!_d.isDisabled&&_d.supportsFiber)try{me=_d.inject(wd),ye=_d}catch(e){}}t.createRoot=function(e,t){if(!u(e))throw Error(o(299));var n=!1,r=\"\",a=Fo,i=Do,l=Ro;return null!=t&&(!0===t.unstable_strictMode&&(n=!0),void 0!==t.identifierPrefix&&(r=t.identifierPrefix),void 0!==t.onUncaughtError&&(a=t.onUncaughtError),void 0!==t.onCaughtError&&(i=t.onCaughtError),void 0!==t.onRecoverableError&&(l=t.onRecoverableError),void 0!==t.unstable_transitionCallbacks&&t.unstable_transitionCallbacks),t=Uf(e,1,!1,null,0,n,r,a,i,l,0,null),e[Ie]=t.current,Ac(8===e.nodeType?e.parentNode:e),new md(t)},t.hydrateRoot=function(e,t,n){if(!u(e))throw Error(o(299));var r=!1,a=\"\",i=Fo,l=Do,s=Ro,c=null;return null!=n&&(!0===n.unstable_strictMode&&(r=!0),void 0!==n.identifierPrefix&&(a=n.identifierPrefix),void 0!==n.onUncaughtError&&(i=n.onUncaughtError),void 0!==n.onCaughtError&&(l=n.onCaughtError),void 0!==n.onRecoverableError&&(s=n.onRecoverableError),void 0!==n.unstable_transitionCallbacks&&n.unstable_transitionCallbacks,void 0!==n.formState&&(c=n.formState)),(t=Uf(e,1,!0,t,0,r,a,i,l,s,0,c)).context=If(null),n=t.current,(a=Mu(r=Ns())).callback=null,Au(n,a,r),t.current.lanes=r,Ae(t,r),gc(t),e[Ie]=t.current,Ac(e),new yd(t)},t.version=\"19.0.0\"},338:(e,t,n)=>{\"use strict\";!function e(){if(\"undefined\"!=typeof __REACT_DEVTOOLS_GLOBAL_HOOK__&&\"function\"==typeof __REACT_DEVTOOLS_GLOBAL_HOOK__.checkDCE)try{__REACT_DEVTOOLS_GLOBAL_HOOK__.checkDCE(e)}catch(e){console.error(e)}}(),e.exports=n(247)},477:(e,t)=>{\"use strict\";function n(e,t){var n=e.length;e.push(t);e:for(;0<n;){var r=n-1>>>1,a=e[r];if(!(0<i(a,t)))break e;e[r]=t,e[n]=a,n=r}}function r(e){return 0===e.length?null:e[0]}function a(e){if(0===e.length)return null;var t=e[0],n=e.pop();if(n!==t){e[0]=n;e:for(var r=0,a=e.length,o=a>>>1;r<o;){var u=2*(r+1)-1,l=e[u],s=u+1,c=e[s];if(0>i(l,n))s<a&&0>i(c,l)?(e[r]=c,e[s]=n,r=s):(e[r]=l,e[u]=n,r=u);else{if(!(s<a&&0>i(c,n)))break e;e[r]=c,e[s]=n,r=s}}}return t}function i(e,t){var n=e.sortIndex-t.sortIndex;return 0!==n?n:e.id-t.id}if(t.unstable_now=void 0,\"object\"==typeof performance&&\"function\"==typeof performance.now){var o=performance;t.unstable_now=function(){return o.now()}}else{var u=Date,l=u.now();t.unstable_now=function(){return u.now()-l}}var s=[],c=[],f=1,d=null,p=3,h=!1,g=!1,v=!1,m=\"function\"==typeof setTimeout?setTimeout:null,y=\"function\"==typeof clearTimeout?clearTimeout:null,b=\"undefined\"!=typeof setImmediate?setImmediate:null;function w(e){for(var t=r(c);null!==t;){if(null===t.callback)a(c);else{if(!(t.startTime<=e))break;a(c),t.sortIndex=t.expirationTime,n(s,t)}t=r(c)}}function _(e){if(v=!1,w(e),!g)if(null!==r(s))g=!0,M();else{var t=r(c);null!==t&&A(_,t.startTime-e)}}var k,x=!1,S=-1,E=5,C=-1;function T(){return!(t.unstable_now()-C<E)}function P(){if(x){var e=t.unstable_now();C=e;var n=!0;try{e:{g=!1,v&&(v=!1,y(S),S=-1),h=!0;var i=p;try{t:{for(w(e),d=r(s);null!==d&&!(d.expirationTime>e&&T());){var o=d.callback;if(\"function\"==typeof o){d.callback=null,p=d.priorityLevel;var u=o(d.expirationTime<=e);if(e=t.unstable_now(),\"function\"==typeof u){d.callback=u,w(e),n=!0;break t}d===r(s)&&a(s),w(e)}else a(s);d=r(s)}if(null!==d)n=!0;else{var l=r(c);null!==l&&A(_,l.startTime-e),n=!1}}break e}finally{d=null,p=i,h=!1}n=void 0}}finally{n?k():x=!1}}}if(\"function\"==typeof b)k=function(){b(P)};else if(\"undefined\"!=typeof MessageChannel){var z=new MessageChannel,N=z.port2;z.port1.onmessage=P,k=function(){N.postMessage(null)}}else k=function(){m(P,0)};function M(){x||(x=!0,k())}function A(e,n){S=m((function(){e(t.unstable_now())}),n)}t.unstable_IdlePriority=5,t.unstable_ImmediatePriority=1,t.unstable_LowPriority=4,t.unstable_NormalPriority=3,t.unstable_Profiling=null,t.unstable_UserBlockingPriority=2,t.unstable_cancelCallback=function(e){e.callback=null},t.unstable_continueExecution=function(){g||h||(g=!0,M())},t.unstable_forceFrameRate=function(e){0>e||125<e?console.error(\"forceFrameRate takes a positive int between 0 and 125, forcing frame rates higher than 125 fps is not supported\"):E=0<e?Math.floor(1e3/e):5},t.unstable_getCurrentPriorityLevel=function(){return p},t.unstable_getFirstCallbackNode=function(){return r(s)},t.unstable_next=function(e){switch(p){case 1:case 2:case 3:var t=3;break;default:t=p}var n=p;p=t;try{return e()}finally{p=n}},t.unstable_pauseExecution=function(){},t.unstable_requestPaint=function(){},t.unstable_runWithPriority=function(e,t){switch(e){case 1:case 2:case 3:case 4:case 5:break;default:e=3}var n=p;p=e;try{return t()}finally{p=n}},t.unstable_scheduleCallback=function(e,a,i){var o=t.unstable_now();switch(i=\"object\"==typeof i&&null!==i&&\"number\"==typeof(i=i.delay)&&0<i?o+i:o,e){case 1:var u=-1;break;case 2:u=250;break;case 5:u=1073741823;break;case 4:u=1e4;break;default:u=5e3}return e={id:f++,callback:a,priorityLevel:e,startTime:i,expirationTime:u=i+u,sortIndex:-1},i>o?(e.sortIndex=i,n(c,e),null===r(s)&&e===r(c)&&(v?(y(S),S=-1):v=!0,A(_,i-o))):(e.sortIndex=u,n(s,e),g||h||(g=!0,M())),e},t.unstable_shouldYield=T,t.unstable_wrapCallback=function(e){var t=p;return function(){var n=p;p=t;try{return e.apply(this,arguments)}finally{p=n}}}},540:(e,t,n)=>{\"use strict\";e.exports=n(869)},543:function(e,t,n){var r;e=n.nmd(e),function(){var a,i=\"Expected a function\",o=\"__lodash_hash_undefined__\",u=\"__lodash_placeholder__\",l=32,s=128,c=1/0,f=9007199254740991,d=NaN,p=4294967295,h=[[\"ary\",s],[\"bind\",1],[\"bindKey\",2],[\"curry\",8],[\"curryRight\",16],[\"flip\",512],[\"partial\",l],[\"partialRight\",64],[\"rearg\",256]],g=\"[object Arguments]\",v=\"[object Array]\",m=\"[object Boolean]\",y=\"[object Date]\",b=\"[object Error]\",w=\"[object Function]\",_=\"[object GeneratorFunction]\",k=\"[object Map]\",x=\"[object Number]\",S=\"[object Object]\",E=\"[object Promise]\",C=\"[object RegExp]\",T=\"[object Set]\",P=\"[object String]\",z=\"[object Symbol]\",N=\"[object WeakMap]\",M=\"[object ArrayBuffer]\",A=\"[object DataView]\",O=\"[object Float32Array]\",L=\"[object Float64Array]\",F=\"[object Int8Array]\",D=\"[object Int16Array]\",R=\"[object Int32Array]\",j=\"[object Uint8Array]\",U=\"[object Uint8ClampedArray]\",I=\"[object Uint16Array]\",$=\"[object Uint32Array]\",B=/\\b__p \\+= '';/g,H=/\\b(__p \\+=) '' \\+/g,V=/(__e\\(.*?\\)|\\b__t\\)) \\+\\n'';/g,W=/&(?:amp|lt|gt|quot|#39);/g,q=/[&<>\"']/g,Q=RegExp(W.source),Y=RegExp(q.source),G=/<%-([\\s\\S]+?)%>/g,K=/<%([\\s\\S]+?)%>/g,X=/<%=([\\s\\S]+?)%>/g,Z=/\\.|\\[(?:[^[\\]]*|([\"'])(?:(?!\\1)[^\\\\]|\\\\.)*?\\1)\\]/,J=/^\\w*$/,ee=/[^.[\\]]+|\\[(?:(-?\\d+(?:\\.\\d+)?)|([\"'])((?:(?!\\2)[^\\\\]|\\\\.)*?)\\2)\\]|(?=(?:\\.|\\[\\])(?:\\.|\\[\\]|$))/g,te=/[\\\\^$.*+?()[\\]{}|]/g,ne=RegExp(te.source),re=/^\\s+/,ae=/\\s/,ie=/\\{(?:\\n\\/\\* \\[wrapped with .+\\] \\*\\/)?\\n?/,oe=/\\{\\n\\/\\* \\[wrapped with (.+)\\] \\*/,ue=/,? & /,le=/[^\\x00-\\x2f\\x3a-\\x40\\x5b-\\x60\\x7b-\\x7f]+/g,se=/[()=,{}\\[\\]\\/\\s]/,ce=/\\\\(\\\\)?/g,fe=/\\$\\{([^\\\\}]*(?:\\\\.[^\\\\}]*)*)\\}/g,de=/\\w*$/,pe=/^[-+]0x[0-9a-f]+$/i,he=/^0b[01]+$/i,ge=/^\\[object .+?Constructor\\]$/,ve=/^0o[0-7]+$/i,me=/^(?:0|[1-9]\\d*)$/,ye=/[\\xc0-\\xd6\\xd8-\\xf6\\xf8-\\xff\\u0100-\\u017f]/g,be=/($^)/,we=/['\\n\\r\\u2028\\u2029\\\\]/g,_e=\"\\\\ud800-\\\\udfff\",ke=\"\\\\u0300-\\\\u036f\\\\ufe20-\\\\ufe2f\\\\u20d0-\\\\u20ff\",xe=\"\\\\u2700-\\\\u27bf\",Se=\"a-z\\\\xdf-\\\\xf6\\\\xf8-\\\\xff\",Ee=\"A-Z\\\\xc0-\\\\xd6\\\\xd8-\\\\xde\",Ce=\"\\\\ufe0e\\\\ufe0f\",Te=\"\\\\xac\\\\xb1\\\\xd7\\\\xf7\\\\x00-\\\\x2f\\\\x3a-\\\\x40\\\\x5b-\\\\x60\\\\x7b-\\\\xbf\\\\u2000-\\\\u206f \\\\t\\\\x0b\\\\f\\\\xa0\\\\ufeff\\\\n\\\\r\\\\u2028\\\\u2029\\\\u1680\\\\u180e\\\\u2000\\\\u2001\\\\u2002\\\\u2003\\\\u2004\\\\u2005\\\\u2006\\\\u2007\\\\u2008\\\\u2009\\\\u200a\\\\u202f\\\\u205f\\\\u3000\",Pe=\"[\"+_e+\"]\",ze=\"[\"+Te+\"]\",Ne=\"[\"+ke+\"]\",Me=\"\\\\d+\",Ae=\"[\"+xe+\"]\",Oe=\"[\"+Se+\"]\",Le=\"[^\"+_e+Te+Me+xe+Se+Ee+\"]\",Fe=\"\\\\ud83c[\\\\udffb-\\\\udfff]\",De=\"[^\"+_e+\"]\",Re=\"(?:\\\\ud83c[\\\\udde6-\\\\uddff]){2}\",je=\"[\\\\ud800-\\\\udbff][\\\\udc00-\\\\udfff]\",Ue=\"[\"+Ee+\"]\",Ie=\"\\\\u200d\",$e=\"(?:\"+Oe+\"|\"+Le+\")\",Be=\"(?:\"+Ue+\"|\"+Le+\")\",He=\"(?:['’](?:d|ll|m|re|s|t|ve))?\",Ve=\"(?:['’](?:D|LL|M|RE|S|T|VE))?\",We=\"(?:\"+Ne+\"|\"+Fe+\")?\",qe=\"[\"+Ce+\"]?\",Qe=qe+We+\"(?:\"+Ie+\"(?:\"+[De,Re,je].join(\"|\")+\")\"+qe+We+\")*\",Ye=\"(?:\"+[Ae,Re,je].join(\"|\")+\")\"+Qe,Ge=\"(?:\"+[De+Ne+\"?\",Ne,Re,je,Pe].join(\"|\")+\")\",Ke=RegExp(\"['’]\",\"g\"),Xe=RegExp(Ne,\"g\"),Ze=RegExp(Fe+\"(?=\"+Fe+\")|\"+Ge+Qe,\"g\"),Je=RegExp([Ue+\"?\"+Oe+\"+\"+He+\"(?=\"+[ze,Ue,\"$\"].join(\"|\")+\")\",Be+\"+\"+Ve+\"(?=\"+[ze,Ue+$e,\"$\"].join(\"|\")+\")\",Ue+\"?\"+$e+\"+\"+He,Ue+\"+\"+Ve,\"\\\\d*(?:1ST|2ND|3RD|(?![123])\\\\dTH)(?=\\\\b|[a-z_])\",\"\\\\d*(?:1st|2nd|3rd|(?![123])\\\\dth)(?=\\\\b|[A-Z_])\",Me,Ye].join(\"|\"),\"g\"),et=RegExp(\"[\"+Ie+_e+ke+Ce+\"]\"),tt=/[a-z][A-Z]|[A-Z]{2}[a-z]|[0-9][a-zA-Z]|[a-zA-Z][0-9]|[^a-zA-Z0-9 ]/,nt=[\"Array\",\"Buffer\",\"DataView\",\"Date\",\"Error\",\"Float32Array\",\"Float64Array\",\"Function\",\"Int8Array\",\"Int16Array\",\"Int32Array\",\"Map\",\"Math\",\"Object\",\"Promise\",\"RegExp\",\"Set\",\"String\",\"Symbol\",\"TypeError\",\"Uint8Array\",\"Uint8ClampedArray\",\"Uint16Array\",\"Uint32Array\",\"WeakMap\",\"_\",\"clearTimeout\",\"isFinite\",\"parseInt\",\"setTimeout\"],rt=-1,at={};at[O]=at[L]=at[F]=at[D]=at[R]=at[j]=at[U]=at[I]=at[$]=!0,at[g]=at[v]=at[M]=at[m]=at[A]=at[y]=at[b]=at[w]=at[k]=at[x]=at[S]=at[C]=at[T]=at[P]=at[N]=!1;var it={};it[g]=it[v]=it[M]=it[A]=it[m]=it[y]=it[O]=it[L]=it[F]=it[D]=it[R]=it[k]=it[x]=it[S]=it[C]=it[T]=it[P]=it[z]=it[j]=it[U]=it[I]=it[$]=!0,it[b]=it[w]=it[N]=!1;var ot={\"\\\\\":\"\\\\\",\"'\":\"'\",\"\\n\":\"n\",\"\\r\":\"r\",\"\\u2028\":\"u2028\",\"\\u2029\":\"u2029\"},ut=parseFloat,lt=parseInt,st=\"object\"==typeof n.g&&n.g&&n.g.Object===Object&&n.g,ct=\"object\"==typeof self&&self&&self.Object===Object&&self,ft=st||ct||Function(\"return this\")(),dt=t&&!t.nodeType&&t,pt=dt&&e&&!e.nodeType&&e,ht=pt&&pt.exports===dt,gt=ht&&st.process,vt=function(){try{return pt&&pt.require&&pt.require(\"util\").types||gt&&gt.binding&&gt.binding(\"util\")}catch(e){}}(),mt=vt&&vt.isArrayBuffer,yt=vt&&vt.isDate,bt=vt&&vt.isMap,wt=vt&&vt.isRegExp,_t=vt&&vt.isSet,kt=vt&&vt.isTypedArray;function xt(e,t,n){switch(n.length){case 0:return e.call(t);case 1:return e.call(t,n[0]);case 2:return e.call(t,n[0],n[1]);case 3:return e.call(t,n[0],n[1],n[2])}return e.apply(t,n)}function St(e,t,n,r){for(var a=-1,i=null==e?0:e.length;++a<i;){var o=e[a];t(r,o,n(o),e)}return r}function Et(e,t){for(var n=-1,r=null==e?0:e.length;++n<r&&!1!==t(e[n],n,e););return e}function Ct(e,t){for(var n=null==e?0:e.length;n--&&!1!==t(e[n],n,e););return e}function Tt(e,t){for(var n=-1,r=null==e?0:e.length;++n<r;)if(!t(e[n],n,e))return!1;return!0}function Pt(e,t){for(var n=-1,r=null==e?0:e.length,a=0,i=[];++n<r;){var o=e[n];t(o,n,e)&&(i[a++]=o)}return i}function zt(e,t){return!(null==e||!e.length)&&Ut(e,t,0)>-1}function Nt(e,t,n){for(var r=-1,a=null==e?0:e.length;++r<a;)if(n(t,e[r]))return!0;return!1}function Mt(e,t){for(var n=-1,r=null==e?0:e.length,a=Array(r);++n<r;)a[n]=t(e[n],n,e);return a}function At(e,t){for(var n=-1,r=t.length,a=e.length;++n<r;)e[a+n]=t[n];return e}function Ot(e,t,n,r){var a=-1,i=null==e?0:e.length;for(r&&i&&(n=e[++a]);++a<i;)n=t(n,e[a],a,e);return n}function Lt(e,t,n,r){var a=null==e?0:e.length;for(r&&a&&(n=e[--a]);a--;)n=t(n,e[a],a,e);return n}function Ft(e,t){for(var n=-1,r=null==e?0:e.length;++n<r;)if(t(e[n],n,e))return!0;return!1}var Dt=Ht(\"length\");function Rt(e,t,n){var r;return n(e,(function(e,n,a){if(t(e,n,a))return r=n,!1})),r}function jt(e,t,n,r){for(var a=e.length,i=n+(r?1:-1);r?i--:++i<a;)if(t(e[i],i,e))return i;return-1}function Ut(e,t,n){return t==t?function(e,t,n){for(var r=n-1,a=e.length;++r<a;)if(e[r]===t)return r;return-1}(e,t,n):jt(e,$t,n)}function It(e,t,n,r){for(var a=n-1,i=e.length;++a<i;)if(r(e[a],t))return a;return-1}function $t(e){return e!=e}function Bt(e,t){var n=null==e?0:e.length;return n?qt(e,t)/n:d}function Ht(e){return function(t){return null==t?a:t[e]}}function Vt(e){return function(t){return null==e?a:e[t]}}function Wt(e,t,n,r,a){return a(e,(function(e,a,i){n=r?(r=!1,e):t(n,e,a,i)})),n}function qt(e,t){for(var n,r=-1,i=e.length;++r<i;){var o=t(e[r]);o!==a&&(n=n===a?o:n+o)}return n}function Qt(e,t){for(var n=-1,r=Array(e);++n<e;)r[n]=t(n);return r}function Yt(e){return e?e.slice(0,dn(e)+1).replace(re,\"\"):e}function Gt(e){return function(t){return e(t)}}function Kt(e,t){return Mt(t,(function(t){return e[t]}))}function Xt(e,t){return e.has(t)}function Zt(e,t){for(var n=-1,r=e.length;++n<r&&Ut(t,e[n],0)>-1;);return n}function Jt(e,t){for(var n=e.length;n--&&Ut(t,e[n],0)>-1;);return n}var en=Vt({À:\"A\",Á:\"A\",Â:\"A\",Ã:\"A\",Ä:\"A\",Å:\"A\",à:\"a\",á:\"a\",â:\"a\",ã:\"a\",ä:\"a\",å:\"a\",Ç:\"C\",ç:\"c\",Ð:\"D\",ð:\"d\",È:\"E\",É:\"E\",Ê:\"E\",Ë:\"E\",è:\"e\",é:\"e\",ê:\"e\",ë:\"e\",Ì:\"I\",Í:\"I\",Î:\"I\",Ï:\"I\",ì:\"i\",í:\"i\",î:\"i\",ï:\"i\",Ñ:\"N\",ñ:\"n\",Ò:\"O\",Ó:\"O\",Ô:\"O\",Õ:\"O\",Ö:\"O\",Ø:\"O\",ò:\"o\",ó:\"o\",ô:\"o\",õ:\"o\",ö:\"o\",ø:\"o\",Ù:\"U\",Ú:\"U\",Û:\"U\",Ü:\"U\",ù:\"u\",ú:\"u\",û:\"u\",ü:\"u\",Ý:\"Y\",ý:\"y\",ÿ:\"y\",Æ:\"Ae\",æ:\"ae\",Þ:\"Th\",þ:\"th\",ß:\"ss\",Ā:\"A\",Ă:\"A\",Ą:\"A\",ā:\"a\",ă:\"a\",ą:\"a\",Ć:\"C\",Ĉ:\"C\",Ċ:\"C\",Č:\"C\",ć:\"c\",ĉ:\"c\",ċ:\"c\",č:\"c\",Ď:\"D\",Đ:\"D\",ď:\"d\",đ:\"d\",Ē:\"E\",Ĕ:\"E\",Ė:\"E\",Ę:\"E\",Ě:\"E\",ē:\"e\",ĕ:\"e\",ė:\"e\",ę:\"e\",ě:\"e\",Ĝ:\"G\",Ğ:\"G\",Ġ:\"G\",Ģ:\"G\",ĝ:\"g\",ğ:\"g\",ġ:\"g\",ģ:\"g\",Ĥ:\"H\",Ħ:\"H\",ĥ:\"h\",ħ:\"h\",Ĩ:\"I\",Ī:\"I\",Ĭ:\"I\",Į:\"I\",İ:\"I\",ĩ:\"i\",ī:\"i\",ĭ:\"i\",į:\"i\",ı:\"i\",Ĵ:\"J\",ĵ:\"j\",Ķ:\"K\",ķ:\"k\",ĸ:\"k\",Ĺ:\"L\",Ļ:\"L\",Ľ:\"L\",Ŀ:\"L\",Ł:\"L\",ĺ:\"l\",ļ:\"l\",ľ:\"l\",ŀ:\"l\",ł:\"l\",Ń:\"N\",Ņ:\"N\",Ň:\"N\",Ŋ:\"N\",ń:\"n\",ņ:\"n\",ň:\"n\",ŋ:\"n\",Ō:\"O\",Ŏ:\"O\",Ő:\"O\",ō:\"o\",ŏ:\"o\",ő:\"o\",Ŕ:\"R\",Ŗ:\"R\",Ř:\"R\",ŕ:\"r\",ŗ:\"r\",ř:\"r\",Ś:\"S\",Ŝ:\"S\",Ş:\"S\",Š:\"S\",ś:\"s\",ŝ:\"s\",ş:\"s\",š:\"s\",Ţ:\"T\",Ť:\"T\",Ŧ:\"T\",ţ:\"t\",ť:\"t\",ŧ:\"t\",Ũ:\"U\",Ū:\"U\",Ŭ:\"U\",Ů:\"U\",Ű:\"U\",Ų:\"U\",ũ:\"u\",ū:\"u\",ŭ:\"u\",ů:\"u\",ű:\"u\",ų:\"u\",Ŵ:\"W\",ŵ:\"w\",Ŷ:\"Y\",ŷ:\"y\",Ÿ:\"Y\",Ź:\"Z\",Ż:\"Z\",Ž:\"Z\",ź:\"z\",ż:\"z\",ž:\"z\",Ĳ:\"IJ\",ĳ:\"ij\",Œ:\"Oe\",œ:\"oe\",ŉ:\"'n\",ſ:\"s\"}),tn=Vt({\"&\":\"&amp;\",\"<\":\"&lt;\",\">\":\"&gt;\",'\"':\"&quot;\",\"'\":\"&#39;\"});function nn(e){return\"\\\\\"+ot[e]}function rn(e){return et.test(e)}function an(e){var t=-1,n=Array(e.size);return e.forEach((function(e,r){n[++t]=[r,e]})),n}function on(e,t){return function(n){return e(t(n))}}function un(e,t){for(var n=-1,r=e.length,a=0,i=[];++n<r;){var o=e[n];o!==t&&o!==u||(e[n]=u,i[a++]=n)}return i}function ln(e){var t=-1,n=Array(e.size);return e.forEach((function(e){n[++t]=e})),n}function sn(e){var t=-1,n=Array(e.size);return e.forEach((function(e){n[++t]=[e,e]})),n}function cn(e){return rn(e)?function(e){for(var t=Ze.lastIndex=0;Ze.test(e);)++t;return t}(e):Dt(e)}function fn(e){return rn(e)?function(e){return e.match(Ze)||[]}(e):function(e){return e.split(\"\")}(e)}function dn(e){for(var t=e.length;t--&&ae.test(e.charAt(t)););return t}var pn=Vt({\"&amp;\":\"&\",\"&lt;\":\"<\",\"&gt;\":\">\",\"&quot;\":'\"',\"&#39;\":\"'\"}),hn=function e(t){var n,r=(t=null==t?ft:hn.defaults(ft.Object(),t,hn.pick(ft,nt))).Array,ae=t.Date,_e=t.Error,ke=t.Function,xe=t.Math,Se=t.Object,Ee=t.RegExp,Ce=t.String,Te=t.TypeError,Pe=r.prototype,ze=ke.prototype,Ne=Se.prototype,Me=t[\"__core-js_shared__\"],Ae=ze.toString,Oe=Ne.hasOwnProperty,Le=0,Fe=(n=/[^.]+$/.exec(Me&&Me.keys&&Me.keys.IE_PROTO||\"\"))?\"Symbol(src)_1.\"+n:\"\",De=Ne.toString,Re=Ae.call(Se),je=ft._,Ue=Ee(\"^\"+Ae.call(Oe).replace(te,\"\\\\$&\").replace(/hasOwnProperty|(function).*?(?=\\\\\\()| for .+?(?=\\\\\\])/g,\"$1.*?\")+\"$\"),Ie=ht?t.Buffer:a,$e=t.Symbol,Be=t.Uint8Array,He=Ie?Ie.allocUnsafe:a,Ve=on(Se.getPrototypeOf,Se),We=Se.create,qe=Ne.propertyIsEnumerable,Qe=Pe.splice,Ye=$e?$e.isConcatSpreadable:a,Ge=$e?$e.iterator:a,Ze=$e?$e.toStringTag:a,et=function(){try{var e=li(Se,\"defineProperty\");return e({},\"\",{}),e}catch(e){}}(),ot=t.clearTimeout!==ft.clearTimeout&&t.clearTimeout,st=ae&&ae.now!==ft.Date.now&&ae.now,ct=t.setTimeout!==ft.setTimeout&&t.setTimeout,dt=xe.ceil,pt=xe.floor,gt=Se.getOwnPropertySymbols,vt=Ie?Ie.isBuffer:a,Dt=t.isFinite,Vt=Pe.join,gn=on(Se.keys,Se),vn=xe.max,mn=xe.min,yn=ae.now,bn=t.parseInt,wn=xe.random,_n=Pe.reverse,kn=li(t,\"DataView\"),xn=li(t,\"Map\"),Sn=li(t,\"Promise\"),En=li(t,\"Set\"),Cn=li(t,\"WeakMap\"),Tn=li(Se,\"create\"),Pn=Cn&&new Cn,zn={},Nn=Di(kn),Mn=Di(xn),An=Di(Sn),On=Di(En),Ln=Di(Cn),Fn=$e?$e.prototype:a,Dn=Fn?Fn.valueOf:a,Rn=Fn?Fn.toString:a;function jn(e){if(eu(e)&&!Ho(e)&&!(e instanceof Bn)){if(e instanceof $n)return e;if(Oe.call(e,\"__wrapped__\"))return Ri(e)}return new $n(e)}var Un=function(){function e(){}return function(t){if(!Jo(t))return{};if(We)return We(t);e.prototype=t;var n=new e;return e.prototype=a,n}}();function In(){}function $n(e,t){this.__wrapped__=e,this.__actions__=[],this.__chain__=!!t,this.__index__=0,this.__values__=a}function Bn(e){this.__wrapped__=e,this.__actions__=[],this.__dir__=1,this.__filtered__=!1,this.__iteratees__=[],this.__takeCount__=p,this.__views__=[]}function Hn(e){var t=-1,n=null==e?0:e.length;for(this.clear();++t<n;){var r=e[t];this.set(r[0],r[1])}}function Vn(e){var t=-1,n=null==e?0:e.length;for(this.clear();++t<n;){var r=e[t];this.set(r[0],r[1])}}function Wn(e){var t=-1,n=null==e?0:e.length;for(this.clear();++t<n;){var r=e[t];this.set(r[0],r[1])}}function qn(e){var t=-1,n=null==e?0:e.length;for(this.__data__=new Wn;++t<n;)this.add(e[t])}function Qn(e){var t=this.__data__=new Vn(e);this.size=t.size}function Yn(e,t){var n=Ho(e),r=!n&&Bo(e),a=!n&&!r&&Qo(e),i=!n&&!r&&!a&&lu(e),o=n||r||a||i,u=o?Qt(e.length,Ce):[],l=u.length;for(var s in e)!t&&!Oe.call(e,s)||o&&(\"length\"==s||a&&(\"offset\"==s||\"parent\"==s)||i&&(\"buffer\"==s||\"byteLength\"==s||\"byteOffset\"==s)||gi(s,l))||u.push(s);return u}function Gn(e){var t=e.length;return t?e[Wr(0,t-1)]:a}function Kn(e,t){return Mi(Ca(e),ir(t,0,e.length))}function Xn(e){return Mi(Ca(e))}function Zn(e,t,n){(n!==a&&!Uo(e[t],n)||n===a&&!(t in e))&&rr(e,t,n)}function Jn(e,t,n){var r=e[t];Oe.call(e,t)&&Uo(r,n)&&(n!==a||t in e)||rr(e,t,n)}function er(e,t){for(var n=e.length;n--;)if(Uo(e[n][0],t))return n;return-1}function tr(e,t,n,r){return cr(e,(function(e,a,i){t(r,e,n(e),i)})),r}function nr(e,t){return e&&Ta(t,Nu(t),e)}function rr(e,t,n){\"__proto__\"==t&&et?et(e,t,{configurable:!0,enumerable:!0,value:n,writable:!0}):e[t]=n}function ar(e,t){for(var n=-1,i=t.length,o=r(i),u=null==e;++n<i;)o[n]=u?a:Eu(e,t[n]);return o}function ir(e,t,n){return e==e&&(n!==a&&(e=e<=n?e:n),t!==a&&(e=e>=t?e:t)),e}function or(e,t,n,r,i,o){var u,l=1&t,s=2&t,c=4&t;if(n&&(u=i?n(e,r,i,o):n(e)),u!==a)return u;if(!Jo(e))return e;var f=Ho(e);if(f){if(u=function(e){var t=e.length,n=new e.constructor(t);return t&&\"string\"==typeof e[0]&&Oe.call(e,\"index\")&&(n.index=e.index,n.input=e.input),n}(e),!l)return Ca(e,u)}else{var d=fi(e),p=d==w||d==_;if(Qo(e))return wa(e,l);if(d==S||d==g||p&&!i){if(u=s||p?{}:pi(e),!l)return s?function(e,t){return Ta(e,ci(e),t)}(e,function(e,t){return e&&Ta(t,Mu(t),e)}(u,e)):function(e,t){return Ta(e,si(e),t)}(e,nr(u,e))}else{if(!it[d])return i?e:{};u=function(e,t,n){var r,a=e.constructor;switch(t){case M:return _a(e);case m:case y:return new a(+e);case A:return function(e,t){var n=t?_a(e.buffer):e.buffer;return new e.constructor(n,e.byteOffset,e.byteLength)}(e,n);case O:case L:case F:case D:case R:case j:case U:case I:case $:return ka(e,n);case k:return new a;case x:case P:return new a(e);case C:return function(e){var t=new e.constructor(e.source,de.exec(e));return t.lastIndex=e.lastIndex,t}(e);case T:return new a;case z:return r=e,Dn?Se(Dn.call(r)):{}}}(e,d,l)}}o||(o=new Qn);var h=o.get(e);if(h)return h;o.set(e,u),iu(e)?e.forEach((function(r){u.add(or(r,t,n,r,e,o))})):tu(e)&&e.forEach((function(r,a){u.set(a,or(r,t,n,a,e,o))}));var v=f?a:(c?s?ti:ei:s?Mu:Nu)(e);return Et(v||e,(function(r,a){v&&(r=e[a=r]),Jn(u,a,or(r,t,n,a,e,o))})),u}function ur(e,t,n){var r=n.length;if(null==e)return!r;for(e=Se(e);r--;){var i=n[r],o=t[i],u=e[i];if(u===a&&!(i in e)||!o(u))return!1}return!0}function lr(e,t,n){if(\"function\"!=typeof e)throw new Te(i);return Ti((function(){e.apply(a,n)}),t)}function sr(e,t,n,r){var a=-1,i=zt,o=!0,u=e.length,l=[],s=t.length;if(!u)return l;n&&(t=Mt(t,Gt(n))),r?(i=Nt,o=!1):t.length>=200&&(i=Xt,o=!1,t=new qn(t));e:for(;++a<u;){var c=e[a],f=null==n?c:n(c);if(c=r||0!==c?c:0,o&&f==f){for(var d=s;d--;)if(t[d]===f)continue e;l.push(c)}else i(t,f,r)||l.push(c)}return l}jn.templateSettings={escape:G,evaluate:K,interpolate:X,variable:\"\",imports:{_:jn}},jn.prototype=In.prototype,jn.prototype.constructor=jn,$n.prototype=Un(In.prototype),$n.prototype.constructor=$n,Bn.prototype=Un(In.prototype),Bn.prototype.constructor=Bn,Hn.prototype.clear=function(){this.__data__=Tn?Tn(null):{},this.size=0},Hn.prototype.delete=function(e){var t=this.has(e)&&delete this.__data__[e];return this.size-=t?1:0,t},Hn.prototype.get=function(e){var t=this.__data__;if(Tn){var n=t[e];return n===o?a:n}return Oe.call(t,e)?t[e]:a},Hn.prototype.has=function(e){var t=this.__data__;return Tn?t[e]!==a:Oe.call(t,e)},Hn.prototype.set=function(e,t){var n=this.__data__;return this.size+=this.has(e)?0:1,n[e]=Tn&&t===a?o:t,this},Vn.prototype.clear=function(){this.__data__=[],this.size=0},Vn.prototype.delete=function(e){var t=this.__data__,n=er(t,e);return!(n<0||(n==t.length-1?t.pop():Qe.call(t,n,1),--this.size,0))},Vn.prototype.get=function(e){var t=this.__data__,n=er(t,e);return n<0?a:t[n][1]},Vn.prototype.has=function(e){return er(this.__data__,e)>-1},Vn.prototype.set=function(e,t){var n=this.__data__,r=er(n,e);return r<0?(++this.size,n.push([e,t])):n[r][1]=t,this},Wn.prototype.clear=function(){this.size=0,this.__data__={hash:new Hn,map:new(xn||Vn),string:new Hn}},Wn.prototype.delete=function(e){var t=oi(this,e).delete(e);return this.size-=t?1:0,t},Wn.prototype.get=function(e){return oi(this,e).get(e)},Wn.prototype.has=function(e){return oi(this,e).has(e)},Wn.prototype.set=function(e,t){var n=oi(this,e),r=n.size;return n.set(e,t),this.size+=n.size==r?0:1,this},qn.prototype.add=qn.prototype.push=function(e){return this.__data__.set(e,o),this},qn.prototype.has=function(e){return this.__data__.has(e)},Qn.prototype.clear=function(){this.__data__=new Vn,this.size=0},Qn.prototype.delete=function(e){var t=this.__data__,n=t.delete(e);return this.size=t.size,n},Qn.prototype.get=function(e){return this.__data__.get(e)},Qn.prototype.has=function(e){return this.__data__.has(e)},Qn.prototype.set=function(e,t){var n=this.__data__;if(n instanceof Vn){var r=n.__data__;if(!xn||r.length<199)return r.push([e,t]),this.size=++n.size,this;n=this.__data__=new Wn(r)}return n.set(e,t),this.size=n.size,this};var cr=Na(yr),fr=Na(br,!0);function dr(e,t){var n=!0;return cr(e,(function(e,r,a){return n=!!t(e,r,a)})),n}function pr(e,t,n){for(var r=-1,i=e.length;++r<i;){var o=e[r],u=t(o);if(null!=u&&(l===a?u==u&&!uu(u):n(u,l)))var l=u,s=o}return s}function hr(e,t){var n=[];return cr(e,(function(e,r,a){t(e,r,a)&&n.push(e)})),n}function gr(e,t,n,r,a){var i=-1,o=e.length;for(n||(n=hi),a||(a=[]);++i<o;){var u=e[i];t>0&&n(u)?t>1?gr(u,t-1,n,r,a):At(a,u):r||(a[a.length]=u)}return a}var vr=Ma(),mr=Ma(!0);function yr(e,t){return e&&vr(e,t,Nu)}function br(e,t){return e&&mr(e,t,Nu)}function wr(e,t){return Pt(t,(function(t){return Ko(e[t])}))}function _r(e,t){for(var n=0,r=(t=va(t,e)).length;null!=e&&n<r;)e=e[Fi(t[n++])];return n&&n==r?e:a}function kr(e,t,n){var r=t(e);return Ho(e)?r:At(r,n(e))}function xr(e){return null==e?e===a?\"[object Undefined]\":\"[object Null]\":Ze&&Ze in Se(e)?function(e){var t=Oe.call(e,Ze),n=e[Ze];try{e[Ze]=a;var r=!0}catch(e){}var i=De.call(e);return r&&(t?e[Ze]=n:delete e[Ze]),i}(e):function(e){return De.call(e)}(e)}function Sr(e,t){return e>t}function Er(e,t){return null!=e&&Oe.call(e,t)}function Cr(e,t){return null!=e&&t in Se(e)}function Tr(e,t,n){for(var i=n?Nt:zt,o=e[0].length,u=e.length,l=u,s=r(u),c=1/0,f=[];l--;){var d=e[l];l&&t&&(d=Mt(d,Gt(t))),c=mn(d.length,c),s[l]=!n&&(t||o>=120&&d.length>=120)?new qn(l&&d):a}d=e[0];var p=-1,h=s[0];e:for(;++p<o&&f.length<c;){var g=d[p],v=t?t(g):g;if(g=n||0!==g?g:0,!(h?Xt(h,v):i(f,v,n))){for(l=u;--l;){var m=s[l];if(!(m?Xt(m,v):i(e[l],v,n)))continue e}h&&h.push(v),f.push(g)}}return f}function Pr(e,t,n){var r=null==(e=Si(e,t=va(t,e)))?e:e[Fi(Yi(t))];return null==r?a:xt(r,e,n)}function zr(e){return eu(e)&&xr(e)==g}function Nr(e,t,n,r,i){return e===t||(null==e||null==t||!eu(e)&&!eu(t)?e!=e&&t!=t:function(e,t,n,r,i,o){var u=Ho(e),l=Ho(t),s=u?v:fi(e),c=l?v:fi(t),f=(s=s==g?S:s)==S,d=(c=c==g?S:c)==S,p=s==c;if(p&&Qo(e)){if(!Qo(t))return!1;u=!0,f=!1}if(p&&!f)return o||(o=new Qn),u||lu(e)?Za(e,t,n,r,i,o):function(e,t,n,r,a,i,o){switch(n){case A:if(e.byteLength!=t.byteLength||e.byteOffset!=t.byteOffset)return!1;e=e.buffer,t=t.buffer;case M:return!(e.byteLength!=t.byteLength||!i(new Be(e),new Be(t)));case m:case y:case x:return Uo(+e,+t);case b:return e.name==t.name&&e.message==t.message;case C:case P:return e==t+\"\";case k:var u=an;case T:var l=1&r;if(u||(u=ln),e.size!=t.size&&!l)return!1;var s=o.get(e);if(s)return s==t;r|=2,o.set(e,t);var c=Za(u(e),u(t),r,a,i,o);return o.delete(e),c;case z:if(Dn)return Dn.call(e)==Dn.call(t)}return!1}(e,t,s,n,r,i,o);if(!(1&n)){var h=f&&Oe.call(e,\"__wrapped__\"),w=d&&Oe.call(t,\"__wrapped__\");if(h||w){var _=h?e.value():e,E=w?t.value():t;return o||(o=new Qn),i(_,E,n,r,o)}}return!!p&&(o||(o=new Qn),function(e,t,n,r,i,o){var u=1&n,l=ei(e),s=l.length;if(s!=ei(t).length&&!u)return!1;for(var c=s;c--;){var f=l[c];if(!(u?f in t:Oe.call(t,f)))return!1}var d=o.get(e),p=o.get(t);if(d&&p)return d==t&&p==e;var h=!0;o.set(e,t),o.set(t,e);for(var g=u;++c<s;){var v=e[f=l[c]],m=t[f];if(r)var y=u?r(m,v,f,t,e,o):r(v,m,f,e,t,o);if(!(y===a?v===m||i(v,m,n,r,o):y)){h=!1;break}g||(g=\"constructor\"==f)}if(h&&!g){var b=e.constructor,w=t.constructor;b==w||!(\"constructor\"in e)||!(\"constructor\"in t)||\"function\"==typeof b&&b instanceof b&&\"function\"==typeof w&&w instanceof w||(h=!1)}return o.delete(e),o.delete(t),h}(e,t,n,r,i,o))}(e,t,n,r,Nr,i))}function Mr(e,t,n,r){var i=n.length,o=i,u=!r;if(null==e)return!o;for(e=Se(e);i--;){var l=n[i];if(u&&l[2]?l[1]!==e[l[0]]:!(l[0]in e))return!1}for(;++i<o;){var s=(l=n[i])[0],c=e[s],f=l[1];if(u&&l[2]){if(c===a&&!(s in e))return!1}else{var d=new Qn;if(r)var p=r(c,f,s,e,t,d);if(!(p===a?Nr(f,c,3,r,d):p))return!1}}return!0}function Ar(e){return!(!Jo(e)||(t=e,Fe&&Fe in t))&&(Ko(e)?Ue:ge).test(Di(e));var t}function Or(e){return\"function\"==typeof e?e:null==e?nl:\"object\"==typeof e?Ho(e)?jr(e[0],e[1]):Rr(e):fl(e)}function Lr(e){if(!wi(e))return gn(e);var t=[];for(var n in Se(e))Oe.call(e,n)&&\"constructor\"!=n&&t.push(n);return t}function Fr(e,t){return e<t}function Dr(e,t){var n=-1,a=Wo(e)?r(e.length):[];return cr(e,(function(e,r,i){a[++n]=t(e,r,i)})),a}function Rr(e){var t=ui(e);return 1==t.length&&t[0][2]?ki(t[0][0],t[0][1]):function(n){return n===e||Mr(n,e,t)}}function jr(e,t){return mi(e)&&_i(t)?ki(Fi(e),t):function(n){var r=Eu(n,e);return r===a&&r===t?Cu(n,e):Nr(t,r,3)}}function Ur(e,t,n,r,i){e!==t&&vr(t,(function(o,u){if(i||(i=new Qn),Jo(o))!function(e,t,n,r,i,o,u){var l=Ei(e,n),s=Ei(t,n),c=u.get(s);if(c)Zn(e,n,c);else{var f=o?o(l,s,n+\"\",e,t,u):a,d=f===a;if(d){var p=Ho(s),h=!p&&Qo(s),g=!p&&!h&&lu(s);f=s,p||h||g?Ho(l)?f=l:qo(l)?f=Ca(l):h?(d=!1,f=wa(s,!0)):g?(d=!1,f=ka(s,!0)):f=[]:ru(s)||Bo(s)?(f=l,Bo(l)?f=vu(l):Jo(l)&&!Ko(l)||(f=pi(s))):d=!1}d&&(u.set(s,f),i(f,s,r,o,u),u.delete(s)),Zn(e,n,f)}}(e,t,u,n,Ur,r,i);else{var l=r?r(Ei(e,u),o,u+\"\",e,t,i):a;l===a&&(l=o),Zn(e,u,l)}}),Mu)}function Ir(e,t){var n=e.length;if(n)return gi(t+=t<0?n:0,n)?e[t]:a}function $r(e,t,n){t=t.length?Mt(t,(function(e){return Ho(e)?function(t){return _r(t,1===e.length?e[0]:e)}:e})):[nl];var r=-1;t=Mt(t,Gt(ii()));var a=Dr(e,(function(e,n,a){var i=Mt(t,(function(t){return t(e)}));return{criteria:i,index:++r,value:e}}));return function(e){var t=e.length;for(e.sort((function(e,t){return function(e,t,n){for(var r=-1,a=e.criteria,i=t.criteria,o=a.length,u=n.length;++r<o;){var l=xa(a[r],i[r]);if(l)return r>=u?l:l*(\"desc\"==n[r]?-1:1)}return e.index-t.index}(e,t,n)}));t--;)e[t]=e[t].value;return e}(a)}function Br(e,t,n){for(var r=-1,a=t.length,i={};++r<a;){var o=t[r],u=_r(e,o);n(u,o)&&Kr(i,va(o,e),u)}return i}function Hr(e,t,n,r){var a=r?It:Ut,i=-1,o=t.length,u=e;for(e===t&&(t=Ca(t)),n&&(u=Mt(e,Gt(n)));++i<o;)for(var l=0,s=t[i],c=n?n(s):s;(l=a(u,c,l,r))>-1;)u!==e&&Qe.call(u,l,1),Qe.call(e,l,1);return e}function Vr(e,t){for(var n=e?t.length:0,r=n-1;n--;){var a=t[n];if(n==r||a!==i){var i=a;gi(a)?Qe.call(e,a,1):la(e,a)}}return e}function Wr(e,t){return e+pt(wn()*(t-e+1))}function qr(e,t){var n=\"\";if(!e||t<1||t>f)return n;do{t%2&&(n+=e),(t=pt(t/2))&&(e+=e)}while(t);return n}function Qr(e,t){return Pi(xi(e,t,nl),e+\"\")}function Yr(e){return Gn(Uu(e))}function Gr(e,t){var n=Uu(e);return Mi(n,ir(t,0,n.length))}function Kr(e,t,n,r){if(!Jo(e))return e;for(var i=-1,o=(t=va(t,e)).length,u=o-1,l=e;null!=l&&++i<o;){var s=Fi(t[i]),c=n;if(\"__proto__\"===s||\"constructor\"===s||\"prototype\"===s)return e;if(i!=u){var f=l[s];(c=r?r(f,s,l):a)===a&&(c=Jo(f)?f:gi(t[i+1])?[]:{})}Jn(l,s,c),l=l[s]}return e}var Xr=Pn?function(e,t){return Pn.set(e,t),e}:nl,Zr=et?function(e,t){return et(e,\"toString\",{configurable:!0,enumerable:!1,value:Ju(t),writable:!0})}:nl;function Jr(e){return Mi(Uu(e))}function ea(e,t,n){var a=-1,i=e.length;t<0&&(t=-t>i?0:i+t),(n=n>i?i:n)<0&&(n+=i),i=t>n?0:n-t>>>0,t>>>=0;for(var o=r(i);++a<i;)o[a]=e[a+t];return o}function ta(e,t){var n;return cr(e,(function(e,r,a){return!(n=t(e,r,a))})),!!n}function na(e,t,n){var r=0,a=null==e?r:e.length;if(\"number\"==typeof t&&t==t&&a<=2147483647){for(;r<a;){var i=r+a>>>1,o=e[i];null!==o&&!uu(o)&&(n?o<=t:o<t)?r=i+1:a=i}return a}return ra(e,t,nl,n)}function ra(e,t,n,r){var i=0,o=null==e?0:e.length;if(0===o)return 0;for(var u=(t=n(t))!=t,l=null===t,s=uu(t),c=t===a;i<o;){var f=pt((i+o)/2),d=n(e[f]),p=d!==a,h=null===d,g=d==d,v=uu(d);if(u)var m=r||g;else m=c?g&&(r||p):l?g&&p&&(r||!h):s?g&&p&&!h&&(r||!v):!h&&!v&&(r?d<=t:d<t);m?i=f+1:o=f}return mn(o,4294967294)}function aa(e,t){for(var n=-1,r=e.length,a=0,i=[];++n<r;){var o=e[n],u=t?t(o):o;if(!n||!Uo(u,l)){var l=u;i[a++]=0===o?0:o}}return i}function ia(e){return\"number\"==typeof e?e:uu(e)?d:+e}function oa(e){if(\"string\"==typeof e)return e;if(Ho(e))return Mt(e,oa)+\"\";if(uu(e))return Rn?Rn.call(e):\"\";var t=e+\"\";return\"0\"==t&&1/e==-1/0?\"-0\":t}function ua(e,t,n){var r=-1,a=zt,i=e.length,o=!0,u=[],l=u;if(n)o=!1,a=Nt;else if(i>=200){var s=t?null:qa(e);if(s)return ln(s);o=!1,a=Xt,l=new qn}else l=t?[]:u;e:for(;++r<i;){var c=e[r],f=t?t(c):c;if(c=n||0!==c?c:0,o&&f==f){for(var d=l.length;d--;)if(l[d]===f)continue e;t&&l.push(f),u.push(c)}else a(l,f,n)||(l!==u&&l.push(f),u.push(c))}return u}function la(e,t){return null==(e=Si(e,t=va(t,e)))||delete e[Fi(Yi(t))]}function sa(e,t,n,r){return Kr(e,t,n(_r(e,t)),r)}function ca(e,t,n,r){for(var a=e.length,i=r?a:-1;(r?i--:++i<a)&&t(e[i],i,e););return n?ea(e,r?0:i,r?i+1:a):ea(e,r?i+1:0,r?a:i)}function fa(e,t){var n=e;return n instanceof Bn&&(n=n.value()),Ot(t,(function(e,t){return t.func.apply(t.thisArg,At([e],t.args))}),n)}function da(e,t,n){var a=e.length;if(a<2)return a?ua(e[0]):[];for(var i=-1,o=r(a);++i<a;)for(var u=e[i],l=-1;++l<a;)l!=i&&(o[i]=sr(o[i]||u,e[l],t,n));return ua(gr(o,1),t,n)}function pa(e,t,n){for(var r=-1,i=e.length,o=t.length,u={};++r<i;){var l=r<o?t[r]:a;n(u,e[r],l)}return u}function ha(e){return qo(e)?e:[]}function ga(e){return\"function\"==typeof e?e:nl}function va(e,t){return Ho(e)?e:mi(e,t)?[e]:Li(mu(e))}var ma=Qr;function ya(e,t,n){var r=e.length;return n=n===a?r:n,!t&&n>=r?e:ea(e,t,n)}var ba=ot||function(e){return ft.clearTimeout(e)};function wa(e,t){if(t)return e.slice();var n=e.length,r=He?He(n):new e.constructor(n);return e.copy(r),r}function _a(e){var t=new e.constructor(e.byteLength);return new Be(t).set(new Be(e)),t}function ka(e,t){var n=t?_a(e.buffer):e.buffer;return new e.constructor(n,e.byteOffset,e.length)}function xa(e,t){if(e!==t){var n=e!==a,r=null===e,i=e==e,o=uu(e),u=t!==a,l=null===t,s=t==t,c=uu(t);if(!l&&!c&&!o&&e>t||o&&u&&s&&!l&&!c||r&&u&&s||!n&&s||!i)return 1;if(!r&&!o&&!c&&e<t||c&&n&&i&&!r&&!o||l&&n&&i||!u&&i||!s)return-1}return 0}function Sa(e,t,n,a){for(var i=-1,o=e.length,u=n.length,l=-1,s=t.length,c=vn(o-u,0),f=r(s+c),d=!a;++l<s;)f[l]=t[l];for(;++i<u;)(d||i<o)&&(f[n[i]]=e[i]);for(;c--;)f[l++]=e[i++];return f}function Ea(e,t,n,a){for(var i=-1,o=e.length,u=-1,l=n.length,s=-1,c=t.length,f=vn(o-l,0),d=r(f+c),p=!a;++i<f;)d[i]=e[i];for(var h=i;++s<c;)d[h+s]=t[s];for(;++u<l;)(p||i<o)&&(d[h+n[u]]=e[i++]);return d}function Ca(e,t){var n=-1,a=e.length;for(t||(t=r(a));++n<a;)t[n]=e[n];return t}function Ta(e,t,n,r){var i=!n;n||(n={});for(var o=-1,u=t.length;++o<u;){var l=t[o],s=r?r(n[l],e[l],l,n,e):a;s===a&&(s=e[l]),i?rr(n,l,s):Jn(n,l,s)}return n}function Pa(e,t){return function(n,r){var a=Ho(n)?St:tr,i=t?t():{};return a(n,e,ii(r,2),i)}}function za(e){return Qr((function(t,n){var r=-1,i=n.length,o=i>1?n[i-1]:a,u=i>2?n[2]:a;for(o=e.length>3&&\"function\"==typeof o?(i--,o):a,u&&vi(n[0],n[1],u)&&(o=i<3?a:o,i=1),t=Se(t);++r<i;){var l=n[r];l&&e(t,l,r,o)}return t}))}function Na(e,t){return function(n,r){if(null==n)return n;if(!Wo(n))return e(n,r);for(var a=n.length,i=t?a:-1,o=Se(n);(t?i--:++i<a)&&!1!==r(o[i],i,o););return n}}function Ma(e){return function(t,n,r){for(var a=-1,i=Se(t),o=r(t),u=o.length;u--;){var l=o[e?u:++a];if(!1===n(i[l],l,i))break}return t}}function Aa(e){return function(t){var n=rn(t=mu(t))?fn(t):a,r=n?n[0]:t.charAt(0),i=n?ya(n,1).join(\"\"):t.slice(1);return r[e]()+i}}function Oa(e){return function(t){return Ot(Ku(Bu(t).replace(Ke,\"\")),e,\"\")}}function La(e){return function(){var t=arguments;switch(t.length){case 0:return new e;case 1:return new e(t[0]);case 2:return new e(t[0],t[1]);case 3:return new e(t[0],t[1],t[2]);case 4:return new e(t[0],t[1],t[2],t[3]);case 5:return new e(t[0],t[1],t[2],t[3],t[4]);case 6:return new e(t[0],t[1],t[2],t[3],t[4],t[5]);case 7:return new e(t[0],t[1],t[2],t[3],t[4],t[5],t[6])}var n=Un(e.prototype),r=e.apply(n,t);return Jo(r)?r:n}}function Fa(e){return function(t,n,r){var i=Se(t);if(!Wo(t)){var o=ii(n,3);t=Nu(t),n=function(e){return o(i[e],e,i)}}var u=e(t,n,r);return u>-1?i[o?t[u]:u]:a}}function Da(e){return Ja((function(t){var n=t.length,r=n,o=$n.prototype.thru;for(e&&t.reverse();r--;){var u=t[r];if(\"function\"!=typeof u)throw new Te(i);if(o&&!l&&\"wrapper\"==ri(u))var l=new $n([],!0)}for(r=l?r:n;++r<n;){var s=ri(u=t[r]),c=\"wrapper\"==s?ni(u):a;l=c&&yi(c[0])&&424==c[1]&&!c[4].length&&1==c[9]?l[ri(c[0])].apply(l,c[3]):1==u.length&&yi(u)?l[s]():l.thru(u)}return function(){var e=arguments,r=e[0];if(l&&1==e.length&&Ho(r))return l.plant(r).value();for(var a=0,i=n?t[a].apply(this,e):r;++a<n;)i=t[a].call(this,i);return i}}))}function Ra(e,t,n,i,o,u,l,c,f,d){var p=t&s,h=1&t,g=2&t,v=24&t,m=512&t,y=g?a:La(e);return function s(){for(var b=arguments.length,w=r(b),_=b;_--;)w[_]=arguments[_];if(v)var k=ai(s),x=function(e,t){for(var n=e.length,r=0;n--;)e[n]===t&&++r;return r}(w,k);if(i&&(w=Sa(w,i,o,v)),u&&(w=Ea(w,u,l,v)),b-=x,v&&b<d){var S=un(w,k);return Va(e,t,Ra,s.placeholder,n,w,S,c,f,d-b)}var E=h?n:this,C=g?E[e]:e;return b=w.length,c?w=function(e,t){for(var n=e.length,r=mn(t.length,n),i=Ca(e);r--;){var o=t[r];e[r]=gi(o,n)?i[o]:a}return e}(w,c):m&&b>1&&w.reverse(),p&&f<b&&(w.length=f),this&&this!==ft&&this instanceof s&&(C=y||La(C)),C.apply(E,w)}}function ja(e,t){return function(n,r){return function(e,t,n,r){return yr(e,(function(e,a,i){t(r,n(e),a,i)})),r}(n,e,t(r),{})}}function Ua(e,t){return function(n,r){var i;if(n===a&&r===a)return t;if(n!==a&&(i=n),r!==a){if(i===a)return r;\"string\"==typeof n||\"string\"==typeof r?(n=oa(n),r=oa(r)):(n=ia(n),r=ia(r)),i=e(n,r)}return i}}function Ia(e){return Ja((function(t){return t=Mt(t,Gt(ii())),Qr((function(n){var r=this;return e(t,(function(e){return xt(e,r,n)}))}))}))}function $a(e,t){var n=(t=t===a?\" \":oa(t)).length;if(n<2)return n?qr(t,e):t;var r=qr(t,dt(e/cn(t)));return rn(t)?ya(fn(r),0,e).join(\"\"):r.slice(0,e)}function Ba(e){return function(t,n,i){return i&&\"number\"!=typeof i&&vi(t,n,i)&&(n=i=a),t=du(t),n===a?(n=t,t=0):n=du(n),function(e,t,n,a){for(var i=-1,o=vn(dt((t-e)/(n||1)),0),u=r(o);o--;)u[a?o:++i]=e,e+=n;return u}(t,n,i=i===a?t<n?1:-1:du(i),e)}}function Ha(e){return function(t,n){return\"string\"==typeof t&&\"string\"==typeof n||(t=gu(t),n=gu(n)),e(t,n)}}function Va(e,t,n,r,i,o,u,s,c,f){var d=8&t;t|=d?l:64,4&(t&=~(d?64:l))||(t&=-4);var p=[e,t,i,d?o:a,d?u:a,d?a:o,d?a:u,s,c,f],h=n.apply(a,p);return yi(e)&&Ci(h,p),h.placeholder=r,zi(h,e,t)}function Wa(e){var t=xe[e];return function(e,n){if(e=gu(e),(n=null==n?0:mn(pu(n),292))&&Dt(e)){var r=(mu(e)+\"e\").split(\"e\");return+((r=(mu(t(r[0]+\"e\"+(+r[1]+n)))+\"e\").split(\"e\"))[0]+\"e\"+(+r[1]-n))}return t(e)}}var qa=En&&1/ln(new En([,-0]))[1]==c?function(e){return new En(e)}:ul;function Qa(e){return function(t){var n=fi(t);return n==k?an(t):n==T?sn(t):function(e,t){return Mt(t,(function(t){return[t,e[t]]}))}(t,e(t))}}function Ya(e,t,n,o,c,f,d,p){var h=2&t;if(!h&&\"function\"!=typeof e)throw new Te(i);var g=o?o.length:0;if(g||(t&=-97,o=c=a),d=d===a?d:vn(pu(d),0),p=p===a?p:pu(p),g-=c?c.length:0,64&t){var v=o,m=c;o=c=a}var y=h?a:ni(e),b=[e,t,n,o,c,v,m,f,d,p];if(y&&function(e,t){var n=e[1],r=t[1],a=n|r,i=a<131,o=r==s&&8==n||r==s&&256==n&&e[7].length<=t[8]||384==r&&t[7].length<=t[8]&&8==n;if(!i&&!o)return e;1&r&&(e[2]=t[2],a|=1&n?0:4);var l=t[3];if(l){var c=e[3];e[3]=c?Sa(c,l,t[4]):l,e[4]=c?un(e[3],u):t[4]}(l=t[5])&&(c=e[5],e[5]=c?Ea(c,l,t[6]):l,e[6]=c?un(e[5],u):t[6]),(l=t[7])&&(e[7]=l),r&s&&(e[8]=null==e[8]?t[8]:mn(e[8],t[8])),null==e[9]&&(e[9]=t[9]),e[0]=t[0],e[1]=a}(b,y),e=b[0],t=b[1],n=b[2],o=b[3],c=b[4],!(p=b[9]=b[9]===a?h?0:e.length:vn(b[9]-g,0))&&24&t&&(t&=-25),t&&1!=t)w=8==t||16==t?function(e,t,n){var i=La(e);return function o(){for(var u=arguments.length,l=r(u),s=u,c=ai(o);s--;)l[s]=arguments[s];var f=u<3&&l[0]!==c&&l[u-1]!==c?[]:un(l,c);return(u-=f.length)<n?Va(e,t,Ra,o.placeholder,a,l,f,a,a,n-u):xt(this&&this!==ft&&this instanceof o?i:e,this,l)}}(e,t,p):t!=l&&33!=t||c.length?Ra.apply(a,b):function(e,t,n,a){var i=1&t,o=La(e);return function t(){for(var u=-1,l=arguments.length,s=-1,c=a.length,f=r(c+l),d=this&&this!==ft&&this instanceof t?o:e;++s<c;)f[s]=a[s];for(;l--;)f[s++]=arguments[++u];return xt(d,i?n:this,f)}}(e,t,n,o);else var w=function(e,t,n){var r=1&t,a=La(e);return function t(){return(this&&this!==ft&&this instanceof t?a:e).apply(r?n:this,arguments)}}(e,t,n);return zi((y?Xr:Ci)(w,b),e,t)}function Ga(e,t,n,r){return e===a||Uo(e,Ne[n])&&!Oe.call(r,n)?t:e}function Ka(e,t,n,r,i,o){return Jo(e)&&Jo(t)&&(o.set(t,e),Ur(e,t,a,Ka,o),o.delete(t)),e}function Xa(e){return ru(e)?a:e}function Za(e,t,n,r,i,o){var u=1&n,l=e.length,s=t.length;if(l!=s&&!(u&&s>l))return!1;var c=o.get(e),f=o.get(t);if(c&&f)return c==t&&f==e;var d=-1,p=!0,h=2&n?new qn:a;for(o.set(e,t),o.set(t,e);++d<l;){var g=e[d],v=t[d];if(r)var m=u?r(v,g,d,t,e,o):r(g,v,d,e,t,o);if(m!==a){if(m)continue;p=!1;break}if(h){if(!Ft(t,(function(e,t){if(!Xt(h,t)&&(g===e||i(g,e,n,r,o)))return h.push(t)}))){p=!1;break}}else if(g!==v&&!i(g,v,n,r,o)){p=!1;break}}return o.delete(e),o.delete(t),p}function Ja(e){return Pi(xi(e,a,Hi),e+\"\")}function ei(e){return kr(e,Nu,si)}function ti(e){return kr(e,Mu,ci)}var ni=Pn?function(e){return Pn.get(e)}:ul;function ri(e){for(var t=e.name+\"\",n=zn[t],r=Oe.call(zn,t)?n.length:0;r--;){var a=n[r],i=a.func;if(null==i||i==e)return a.name}return t}function ai(e){return(Oe.call(jn,\"placeholder\")?jn:e).placeholder}function ii(){var e=jn.iteratee||rl;return e=e===rl?Or:e,arguments.length?e(arguments[0],arguments[1]):e}function oi(e,t){var n,r,a=e.__data__;return(\"string\"==(r=typeof(n=t))||\"number\"==r||\"symbol\"==r||\"boolean\"==r?\"__proto__\"!==n:null===n)?a[\"string\"==typeof t?\"string\":\"hash\"]:a.map}function ui(e){for(var t=Nu(e),n=t.length;n--;){var r=t[n],a=e[r];t[n]=[r,a,_i(a)]}return t}function li(e,t){var n=function(e,t){return null==e?a:e[t]}(e,t);return Ar(n)?n:a}var si=gt?function(e){return null==e?[]:(e=Se(e),Pt(gt(e),(function(t){return qe.call(e,t)})))}:hl,ci=gt?function(e){for(var t=[];e;)At(t,si(e)),e=Ve(e);return t}:hl,fi=xr;function di(e,t,n){for(var r=-1,a=(t=va(t,e)).length,i=!1;++r<a;){var o=Fi(t[r]);if(!(i=null!=e&&n(e,o)))break;e=e[o]}return i||++r!=a?i:!!(a=null==e?0:e.length)&&Zo(a)&&gi(o,a)&&(Ho(e)||Bo(e))}function pi(e){return\"function\"!=typeof e.constructor||wi(e)?{}:Un(Ve(e))}function hi(e){return Ho(e)||Bo(e)||!!(Ye&&e&&e[Ye])}function gi(e,t){var n=typeof e;return!!(t=null==t?f:t)&&(\"number\"==n||\"symbol\"!=n&&me.test(e))&&e>-1&&e%1==0&&e<t}function vi(e,t,n){if(!Jo(n))return!1;var r=typeof t;return!!(\"number\"==r?Wo(n)&&gi(t,n.length):\"string\"==r&&t in n)&&Uo(n[t],e)}function mi(e,t){if(Ho(e))return!1;var n=typeof e;return!(\"number\"!=n&&\"symbol\"!=n&&\"boolean\"!=n&&null!=e&&!uu(e))||J.test(e)||!Z.test(e)||null!=t&&e in Se(t)}function yi(e){var t=ri(e),n=jn[t];if(\"function\"!=typeof n||!(t in Bn.prototype))return!1;if(e===n)return!0;var r=ni(n);return!!r&&e===r[0]}(kn&&fi(new kn(new ArrayBuffer(1)))!=A||xn&&fi(new xn)!=k||Sn&&fi(Sn.resolve())!=E||En&&fi(new En)!=T||Cn&&fi(new Cn)!=N)&&(fi=function(e){var t=xr(e),n=t==S?e.constructor:a,r=n?Di(n):\"\";if(r)switch(r){case Nn:return A;case Mn:return k;case An:return E;case On:return T;case Ln:return N}return t});var bi=Me?Ko:gl;function wi(e){var t=e&&e.constructor;return e===(\"function\"==typeof t&&t.prototype||Ne)}function _i(e){return e==e&&!Jo(e)}function ki(e,t){return function(n){return null!=n&&n[e]===t&&(t!==a||e in Se(n))}}function xi(e,t,n){return t=vn(t===a?e.length-1:t,0),function(){for(var a=arguments,i=-1,o=vn(a.length-t,0),u=r(o);++i<o;)u[i]=a[t+i];i=-1;for(var l=r(t+1);++i<t;)l[i]=a[i];return l[t]=n(u),xt(e,this,l)}}function Si(e,t){return t.length<2?e:_r(e,ea(t,0,-1))}function Ei(e,t){if((\"constructor\"!==t||\"function\"!=typeof e[t])&&\"__proto__\"!=t)return e[t]}var Ci=Ni(Xr),Ti=ct||function(e,t){return ft.setTimeout(e,t)},Pi=Ni(Zr);function zi(e,t,n){var r=t+\"\";return Pi(e,function(e,t){var n=t.length;if(!n)return e;var r=n-1;return t[r]=(n>1?\"& \":\"\")+t[r],t=t.join(n>2?\", \":\" \"),e.replace(ie,\"{\\n/* [wrapped with \"+t+\"] */\\n\")}(r,function(e,t){return Et(h,(function(n){var r=\"_.\"+n[0];t&n[1]&&!zt(e,r)&&e.push(r)})),e.sort()}(function(e){var t=e.match(oe);return t?t[1].split(ue):[]}(r),n)))}function Ni(e){var t=0,n=0;return function(){var r=yn(),i=16-(r-n);if(n=r,i>0){if(++t>=800)return arguments[0]}else t=0;return e.apply(a,arguments)}}function Mi(e,t){var n=-1,r=e.length,i=r-1;for(t=t===a?r:t;++n<t;){var o=Wr(n,i),u=e[o];e[o]=e[n],e[n]=u}return e.length=t,e}var Ai,Oi,Li=(Ai=Oo((function(e){var t=[];return 46===e.charCodeAt(0)&&t.push(\"\"),e.replace(ee,(function(e,n,r,a){t.push(r?a.replace(ce,\"$1\"):n||e)})),t}),(function(e){return 500===Oi.size&&Oi.clear(),e})),Oi=Ai.cache,Ai);function Fi(e){if(\"string\"==typeof e||uu(e))return e;var t=e+\"\";return\"0\"==t&&1/e==-1/0?\"-0\":t}function Di(e){if(null!=e){try{return Ae.call(e)}catch(e){}try{return e+\"\"}catch(e){}}return\"\"}function Ri(e){if(e instanceof Bn)return e.clone();var t=new $n(e.__wrapped__,e.__chain__);return t.__actions__=Ca(e.__actions__),t.__index__=e.__index__,t.__values__=e.__values__,t}var ji=Qr((function(e,t){return qo(e)?sr(e,gr(t,1,qo,!0)):[]})),Ui=Qr((function(e,t){var n=Yi(t);return qo(n)&&(n=a),qo(e)?sr(e,gr(t,1,qo,!0),ii(n,2)):[]})),Ii=Qr((function(e,t){var n=Yi(t);return qo(n)&&(n=a),qo(e)?sr(e,gr(t,1,qo,!0),a,n):[]}));function $i(e,t,n){var r=null==e?0:e.length;if(!r)return-1;var a=null==n?0:pu(n);return a<0&&(a=vn(r+a,0)),jt(e,ii(t,3),a)}function Bi(e,t,n){var r=null==e?0:e.length;if(!r)return-1;var i=r-1;return n!==a&&(i=pu(n),i=n<0?vn(r+i,0):mn(i,r-1)),jt(e,ii(t,3),i,!0)}function Hi(e){return null!=e&&e.length?gr(e,1):[]}function Vi(e){return e&&e.length?e[0]:a}var Wi=Qr((function(e){var t=Mt(e,ha);return t.length&&t[0]===e[0]?Tr(t):[]})),qi=Qr((function(e){var t=Yi(e),n=Mt(e,ha);return t===Yi(n)?t=a:n.pop(),n.length&&n[0]===e[0]?Tr(n,ii(t,2)):[]})),Qi=Qr((function(e){var t=Yi(e),n=Mt(e,ha);return(t=\"function\"==typeof t?t:a)&&n.pop(),n.length&&n[0]===e[0]?Tr(n,a,t):[]}));function Yi(e){var t=null==e?0:e.length;return t?e[t-1]:a}var Gi=Qr(Ki);function Ki(e,t){return e&&e.length&&t&&t.length?Hr(e,t):e}var Xi=Ja((function(e,t){var n=null==e?0:e.length,r=ar(e,t);return Vr(e,Mt(t,(function(e){return gi(e,n)?+e:e})).sort(xa)),r}));function Zi(e){return null==e?e:_n.call(e)}var Ji=Qr((function(e){return ua(gr(e,1,qo,!0))})),eo=Qr((function(e){var t=Yi(e);return qo(t)&&(t=a),ua(gr(e,1,qo,!0),ii(t,2))})),to=Qr((function(e){var t=Yi(e);return t=\"function\"==typeof t?t:a,ua(gr(e,1,qo,!0),a,t)}));function no(e){if(!e||!e.length)return[];var t=0;return e=Pt(e,(function(e){if(qo(e))return t=vn(e.length,t),!0})),Qt(t,(function(t){return Mt(e,Ht(t))}))}function ro(e,t){if(!e||!e.length)return[];var n=no(e);return null==t?n:Mt(n,(function(e){return xt(t,a,e)}))}var ao=Qr((function(e,t){return qo(e)?sr(e,t):[]})),io=Qr((function(e){return da(Pt(e,qo))})),oo=Qr((function(e){var t=Yi(e);return qo(t)&&(t=a),da(Pt(e,qo),ii(t,2))})),uo=Qr((function(e){var t=Yi(e);return t=\"function\"==typeof t?t:a,da(Pt(e,qo),a,t)})),lo=Qr(no),so=Qr((function(e){var t=e.length,n=t>1?e[t-1]:a;return n=\"function\"==typeof n?(e.pop(),n):a,ro(e,n)}));function co(e){var t=jn(e);return t.__chain__=!0,t}function fo(e,t){return t(e)}var po=Ja((function(e){var t=e.length,n=t?e[0]:0,r=this.__wrapped__,i=function(t){return ar(t,e)};return!(t>1||this.__actions__.length)&&r instanceof Bn&&gi(n)?((r=r.slice(n,+n+(t?1:0))).__actions__.push({func:fo,args:[i],thisArg:a}),new $n(r,this.__chain__).thru((function(e){return t&&!e.length&&e.push(a),e}))):this.thru(i)})),ho=Pa((function(e,t,n){Oe.call(e,n)?++e[n]:rr(e,n,1)})),go=Fa($i),vo=Fa(Bi);function mo(e,t){return(Ho(e)?Et:cr)(e,ii(t,3))}function yo(e,t){return(Ho(e)?Ct:fr)(e,ii(t,3))}var bo=Pa((function(e,t,n){Oe.call(e,n)?e[n].push(t):rr(e,n,[t])})),wo=Qr((function(e,t,n){var a=-1,i=\"function\"==typeof t,o=Wo(e)?r(e.length):[];return cr(e,(function(e){o[++a]=i?xt(t,e,n):Pr(e,t,n)})),o})),_o=Pa((function(e,t,n){rr(e,n,t)}));function ko(e,t){return(Ho(e)?Mt:Dr)(e,ii(t,3))}var xo=Pa((function(e,t,n){e[n?0:1].push(t)}),(function(){return[[],[]]})),So=Qr((function(e,t){if(null==e)return[];var n=t.length;return n>1&&vi(e,t[0],t[1])?t=[]:n>2&&vi(t[0],t[1],t[2])&&(t=[t[0]]),$r(e,gr(t,1),[])})),Eo=st||function(){return ft.Date.now()};function Co(e,t,n){return t=n?a:t,t=e&&null==t?e.length:t,Ya(e,s,a,a,a,a,t)}function To(e,t){var n;if(\"function\"!=typeof t)throw new Te(i);return e=pu(e),function(){return--e>0&&(n=t.apply(this,arguments)),e<=1&&(t=a),n}}var Po=Qr((function(e,t,n){var r=1;if(n.length){var a=un(n,ai(Po));r|=l}return Ya(e,r,t,n,a)})),zo=Qr((function(e,t,n){var r=3;if(n.length){var a=un(n,ai(zo));r|=l}return Ya(t,r,e,n,a)}));function No(e,t,n){var r,o,u,l,s,c,f=0,d=!1,p=!1,h=!0;if(\"function\"!=typeof e)throw new Te(i);function g(t){var n=r,i=o;return r=o=a,f=t,l=e.apply(i,n)}function v(e){var n=e-c;return c===a||n>=t||n<0||p&&e-f>=u}function m(){var e=Eo();if(v(e))return y(e);s=Ti(m,function(e){var n=t-(e-c);return p?mn(n,u-(e-f)):n}(e))}function y(e){return s=a,h&&r?g(e):(r=o=a,l)}function b(){var e=Eo(),n=v(e);if(r=arguments,o=this,c=e,n){if(s===a)return function(e){return f=e,s=Ti(m,t),d?g(e):l}(c);if(p)return ba(s),s=Ti(m,t),g(c)}return s===a&&(s=Ti(m,t)),l}return t=gu(t)||0,Jo(n)&&(d=!!n.leading,u=(p=\"maxWait\"in n)?vn(gu(n.maxWait)||0,t):u,h=\"trailing\"in n?!!n.trailing:h),b.cancel=function(){s!==a&&ba(s),f=0,r=c=o=s=a},b.flush=function(){return s===a?l:y(Eo())},b}var Mo=Qr((function(e,t){return lr(e,1,t)})),Ao=Qr((function(e,t,n){return lr(e,gu(t)||0,n)}));function Oo(e,t){if(\"function\"!=typeof e||null!=t&&\"function\"!=typeof t)throw new Te(i);var n=function(){var r=arguments,a=t?t.apply(this,r):r[0],i=n.cache;if(i.has(a))return i.get(a);var o=e.apply(this,r);return n.cache=i.set(a,o)||i,o};return n.cache=new(Oo.Cache||Wn),n}function Lo(e){if(\"function\"!=typeof e)throw new Te(i);return function(){var t=arguments;switch(t.length){case 0:return!e.call(this);case 1:return!e.call(this,t[0]);case 2:return!e.call(this,t[0],t[1]);case 3:return!e.call(this,t[0],t[1],t[2])}return!e.apply(this,t)}}Oo.Cache=Wn;var Fo=ma((function(e,t){var n=(t=1==t.length&&Ho(t[0])?Mt(t[0],Gt(ii())):Mt(gr(t,1),Gt(ii()))).length;return Qr((function(r){for(var a=-1,i=mn(r.length,n);++a<i;)r[a]=t[a].call(this,r[a]);return xt(e,this,r)}))})),Do=Qr((function(e,t){var n=un(t,ai(Do));return Ya(e,l,a,t,n)})),Ro=Qr((function(e,t){var n=un(t,ai(Ro));return Ya(e,64,a,t,n)})),jo=Ja((function(e,t){return Ya(e,256,a,a,a,t)}));function Uo(e,t){return e===t||e!=e&&t!=t}var Io=Ha(Sr),$o=Ha((function(e,t){return e>=t})),Bo=zr(function(){return arguments}())?zr:function(e){return eu(e)&&Oe.call(e,\"callee\")&&!qe.call(e,\"callee\")},Ho=r.isArray,Vo=mt?Gt(mt):function(e){return eu(e)&&xr(e)==M};function Wo(e){return null!=e&&Zo(e.length)&&!Ko(e)}function qo(e){return eu(e)&&Wo(e)}var Qo=vt||gl,Yo=yt?Gt(yt):function(e){return eu(e)&&xr(e)==y};function Go(e){if(!eu(e))return!1;var t=xr(e);return t==b||\"[object DOMException]\"==t||\"string\"==typeof e.message&&\"string\"==typeof e.name&&!ru(e)}function Ko(e){if(!Jo(e))return!1;var t=xr(e);return t==w||t==_||\"[object AsyncFunction]\"==t||\"[object Proxy]\"==t}function Xo(e){return\"number\"==typeof e&&e==pu(e)}function Zo(e){return\"number\"==typeof e&&e>-1&&e%1==0&&e<=f}function Jo(e){var t=typeof e;return null!=e&&(\"object\"==t||\"function\"==t)}function eu(e){return null!=e&&\"object\"==typeof e}var tu=bt?Gt(bt):function(e){return eu(e)&&fi(e)==k};function nu(e){return\"number\"==typeof e||eu(e)&&xr(e)==x}function ru(e){if(!eu(e)||xr(e)!=S)return!1;var t=Ve(e);if(null===t)return!0;var n=Oe.call(t,\"constructor\")&&t.constructor;return\"function\"==typeof n&&n instanceof n&&Ae.call(n)==Re}var au=wt?Gt(wt):function(e){return eu(e)&&xr(e)==C},iu=_t?Gt(_t):function(e){return eu(e)&&fi(e)==T};function ou(e){return\"string\"==typeof e||!Ho(e)&&eu(e)&&xr(e)==P}function uu(e){return\"symbol\"==typeof e||eu(e)&&xr(e)==z}var lu=kt?Gt(kt):function(e){return eu(e)&&Zo(e.length)&&!!at[xr(e)]},su=Ha(Fr),cu=Ha((function(e,t){return e<=t}));function fu(e){if(!e)return[];if(Wo(e))return ou(e)?fn(e):Ca(e);if(Ge&&e[Ge])return function(e){for(var t,n=[];!(t=e.next()).done;)n.push(t.value);return n}(e[Ge]());var t=fi(e);return(t==k?an:t==T?ln:Uu)(e)}function du(e){return e?(e=gu(e))===c||e===-1/0?17976931348623157e292*(e<0?-1:1):e==e?e:0:0===e?e:0}function pu(e){var t=du(e),n=t%1;return t==t?n?t-n:t:0}function hu(e){return e?ir(pu(e),0,p):0}function gu(e){if(\"number\"==typeof e)return e;if(uu(e))return d;if(Jo(e)){var t=\"function\"==typeof e.valueOf?e.valueOf():e;e=Jo(t)?t+\"\":t}if(\"string\"!=typeof e)return 0===e?e:+e;e=Yt(e);var n=he.test(e);return n||ve.test(e)?lt(e.slice(2),n?2:8):pe.test(e)?d:+e}function vu(e){return Ta(e,Mu(e))}function mu(e){return null==e?\"\":oa(e)}var yu=za((function(e,t){if(wi(t)||Wo(t))Ta(t,Nu(t),e);else for(var n in t)Oe.call(t,n)&&Jn(e,n,t[n])})),bu=za((function(e,t){Ta(t,Mu(t),e)})),wu=za((function(e,t,n,r){Ta(t,Mu(t),e,r)})),_u=za((function(e,t,n,r){Ta(t,Nu(t),e,r)})),ku=Ja(ar),xu=Qr((function(e,t){e=Se(e);var n=-1,r=t.length,i=r>2?t[2]:a;for(i&&vi(t[0],t[1],i)&&(r=1);++n<r;)for(var o=t[n],u=Mu(o),l=-1,s=u.length;++l<s;){var c=u[l],f=e[c];(f===a||Uo(f,Ne[c])&&!Oe.call(e,c))&&(e[c]=o[c])}return e})),Su=Qr((function(e){return e.push(a,Ka),xt(Ou,a,e)}));function Eu(e,t,n){var r=null==e?a:_r(e,t);return r===a?n:r}function Cu(e,t){return null!=e&&di(e,t,Cr)}var Tu=ja((function(e,t,n){null!=t&&\"function\"!=typeof t.toString&&(t=De.call(t)),e[t]=n}),Ju(nl)),Pu=ja((function(e,t,n){null!=t&&\"function\"!=typeof t.toString&&(t=De.call(t)),Oe.call(e,t)?e[t].push(n):e[t]=[n]}),ii),zu=Qr(Pr);function Nu(e){return Wo(e)?Yn(e):Lr(e)}function Mu(e){return Wo(e)?Yn(e,!0):function(e){if(!Jo(e))return function(e){var t=[];if(null!=e)for(var n in Se(e))t.push(n);return t}(e);var t=wi(e),n=[];for(var r in e)(\"constructor\"!=r||!t&&Oe.call(e,r))&&n.push(r);return n}(e)}var Au=za((function(e,t,n){Ur(e,t,n)})),Ou=za((function(e,t,n,r){Ur(e,t,n,r)})),Lu=Ja((function(e,t){var n={};if(null==e)return n;var r=!1;t=Mt(t,(function(t){return t=va(t,e),r||(r=t.length>1),t})),Ta(e,ti(e),n),r&&(n=or(n,7,Xa));for(var a=t.length;a--;)la(n,t[a]);return n})),Fu=Ja((function(e,t){return null==e?{}:function(e,t){return Br(e,t,(function(t,n){return Cu(e,n)}))}(e,t)}));function Du(e,t){if(null==e)return{};var n=Mt(ti(e),(function(e){return[e]}));return t=ii(t),Br(e,n,(function(e,n){return t(e,n[0])}))}var Ru=Qa(Nu),ju=Qa(Mu);function Uu(e){return null==e?[]:Kt(e,Nu(e))}var Iu=Oa((function(e,t,n){return t=t.toLowerCase(),e+(n?$u(t):t)}));function $u(e){return Gu(mu(e).toLowerCase())}function Bu(e){return(e=mu(e))&&e.replace(ye,en).replace(Xe,\"\")}var Hu=Oa((function(e,t,n){return e+(n?\"-\":\"\")+t.toLowerCase()})),Vu=Oa((function(e,t,n){return e+(n?\" \":\"\")+t.toLowerCase()})),Wu=Aa(\"toLowerCase\"),qu=Oa((function(e,t,n){return e+(n?\"_\":\"\")+t.toLowerCase()})),Qu=Oa((function(e,t,n){return e+(n?\" \":\"\")+Gu(t)})),Yu=Oa((function(e,t,n){return e+(n?\" \":\"\")+t.toUpperCase()})),Gu=Aa(\"toUpperCase\");function Ku(e,t,n){return e=mu(e),(t=n?a:t)===a?function(e){return tt.test(e)}(e)?function(e){return e.match(Je)||[]}(e):function(e){return e.match(le)||[]}(e):e.match(t)||[]}var Xu=Qr((function(e,t){try{return xt(e,a,t)}catch(e){return Go(e)?e:new _e(e)}})),Zu=Ja((function(e,t){return Et(t,(function(t){t=Fi(t),rr(e,t,Po(e[t],e))})),e}));function Ju(e){return function(){return e}}var el=Da(),tl=Da(!0);function nl(e){return e}function rl(e){return Or(\"function\"==typeof e?e:or(e,1))}var al=Qr((function(e,t){return function(n){return Pr(n,e,t)}})),il=Qr((function(e,t){return function(n){return Pr(e,n,t)}}));function ol(e,t,n){var r=Nu(t),a=wr(t,r);null!=n||Jo(t)&&(a.length||!r.length)||(n=t,t=e,e=this,a=wr(t,Nu(t)));var i=!(Jo(n)&&\"chain\"in n&&!n.chain),o=Ko(e);return Et(a,(function(n){var r=t[n];e[n]=r,o&&(e.prototype[n]=function(){var t=this.__chain__;if(i||t){var n=e(this.__wrapped__);return(n.__actions__=Ca(this.__actions__)).push({func:r,args:arguments,thisArg:e}),n.__chain__=t,n}return r.apply(e,At([this.value()],arguments))})})),e}function ul(){}var ll=Ia(Mt),sl=Ia(Tt),cl=Ia(Ft);function fl(e){return mi(e)?Ht(Fi(e)):function(e){return function(t){return _r(t,e)}}(e)}var dl=Ba(),pl=Ba(!0);function hl(){return[]}function gl(){return!1}var vl,ml=Ua((function(e,t){return e+t}),0),yl=Wa(\"ceil\"),bl=Ua((function(e,t){return e/t}),1),wl=Wa(\"floor\"),_l=Ua((function(e,t){return e*t}),1),kl=Wa(\"round\"),xl=Ua((function(e,t){return e-t}),0);return jn.after=function(e,t){if(\"function\"!=typeof t)throw new Te(i);return e=pu(e),function(){if(--e<1)return t.apply(this,arguments)}},jn.ary=Co,jn.assign=yu,jn.assignIn=bu,jn.assignInWith=wu,jn.assignWith=_u,jn.at=ku,jn.before=To,jn.bind=Po,jn.bindAll=Zu,jn.bindKey=zo,jn.castArray=function(){if(!arguments.length)return[];var e=arguments[0];return Ho(e)?e:[e]},jn.chain=co,jn.chunk=function(e,t,n){t=(n?vi(e,t,n):t===a)?1:vn(pu(t),0);var i=null==e?0:e.length;if(!i||t<1)return[];for(var o=0,u=0,l=r(dt(i/t));o<i;)l[u++]=ea(e,o,o+=t);return l},jn.compact=function(e){for(var t=-1,n=null==e?0:e.length,r=0,a=[];++t<n;){var i=e[t];i&&(a[r++]=i)}return a},jn.concat=function(){var e=arguments.length;if(!e)return[];for(var t=r(e-1),n=arguments[0],a=e;a--;)t[a-1]=arguments[a];return At(Ho(n)?Ca(n):[n],gr(t,1))},jn.cond=function(e){var t=null==e?0:e.length,n=ii();return e=t?Mt(e,(function(e){if(\"function\"!=typeof e[1])throw new Te(i);return[n(e[0]),e[1]]})):[],Qr((function(n){for(var r=-1;++r<t;){var a=e[r];if(xt(a[0],this,n))return xt(a[1],this,n)}}))},jn.conforms=function(e){return function(e){var t=Nu(e);return function(n){return ur(n,e,t)}}(or(e,1))},jn.constant=Ju,jn.countBy=ho,jn.create=function(e,t){var n=Un(e);return null==t?n:nr(n,t)},jn.curry=function e(t,n,r){var i=Ya(t,8,a,a,a,a,a,n=r?a:n);return i.placeholder=e.placeholder,i},jn.curryRight=function e(t,n,r){var i=Ya(t,16,a,a,a,a,a,n=r?a:n);return i.placeholder=e.placeholder,i},jn.debounce=No,jn.defaults=xu,jn.defaultsDeep=Su,jn.defer=Mo,jn.delay=Ao,jn.difference=ji,jn.differenceBy=Ui,jn.differenceWith=Ii,jn.drop=function(e,t,n){var r=null==e?0:e.length;return r?ea(e,(t=n||t===a?1:pu(t))<0?0:t,r):[]},jn.dropRight=function(e,t,n){var r=null==e?0:e.length;return r?ea(e,0,(t=r-(t=n||t===a?1:pu(t)))<0?0:t):[]},jn.dropRightWhile=function(e,t){return e&&e.length?ca(e,ii(t,3),!0,!0):[]},jn.dropWhile=function(e,t){return e&&e.length?ca(e,ii(t,3),!0):[]},jn.fill=function(e,t,n,r){var i=null==e?0:e.length;return i?(n&&\"number\"!=typeof n&&vi(e,t,n)&&(n=0,r=i),function(e,t,n,r){var i=e.length;for((n=pu(n))<0&&(n=-n>i?0:i+n),(r=r===a||r>i?i:pu(r))<0&&(r+=i),r=n>r?0:hu(r);n<r;)e[n++]=t;return e}(e,t,n,r)):[]},jn.filter=function(e,t){return(Ho(e)?Pt:hr)(e,ii(t,3))},jn.flatMap=function(e,t){return gr(ko(e,t),1)},jn.flatMapDeep=function(e,t){return gr(ko(e,t),c)},jn.flatMapDepth=function(e,t,n){return n=n===a?1:pu(n),gr(ko(e,t),n)},jn.flatten=Hi,jn.flattenDeep=function(e){return null!=e&&e.length?gr(e,c):[]},jn.flattenDepth=function(e,t){return null!=e&&e.length?gr(e,t=t===a?1:pu(t)):[]},jn.flip=function(e){return Ya(e,512)},jn.flow=el,jn.flowRight=tl,jn.fromPairs=function(e){for(var t=-1,n=null==e?0:e.length,r={};++t<n;){var a=e[t];r[a[0]]=a[1]}return r},jn.functions=function(e){return null==e?[]:wr(e,Nu(e))},jn.functionsIn=function(e){return null==e?[]:wr(e,Mu(e))},jn.groupBy=bo,jn.initial=function(e){return null!=e&&e.length?ea(e,0,-1):[]},jn.intersection=Wi,jn.intersectionBy=qi,jn.intersectionWith=Qi,jn.invert=Tu,jn.invertBy=Pu,jn.invokeMap=wo,jn.iteratee=rl,jn.keyBy=_o,jn.keys=Nu,jn.keysIn=Mu,jn.map=ko,jn.mapKeys=function(e,t){var n={};return t=ii(t,3),yr(e,(function(e,r,a){rr(n,t(e,r,a),e)})),n},jn.mapValues=function(e,t){var n={};return t=ii(t,3),yr(e,(function(e,r,a){rr(n,r,t(e,r,a))})),n},jn.matches=function(e){return Rr(or(e,1))},jn.matchesProperty=function(e,t){return jr(e,or(t,1))},jn.memoize=Oo,jn.merge=Au,jn.mergeWith=Ou,jn.method=al,jn.methodOf=il,jn.mixin=ol,jn.negate=Lo,jn.nthArg=function(e){return e=pu(e),Qr((function(t){return Ir(t,e)}))},jn.omit=Lu,jn.omitBy=function(e,t){return Du(e,Lo(ii(t)))},jn.once=function(e){return To(2,e)},jn.orderBy=function(e,t,n,r){return null==e?[]:(Ho(t)||(t=null==t?[]:[t]),Ho(n=r?a:n)||(n=null==n?[]:[n]),$r(e,t,n))},jn.over=ll,jn.overArgs=Fo,jn.overEvery=sl,jn.overSome=cl,jn.partial=Do,jn.partialRight=Ro,jn.partition=xo,jn.pick=Fu,jn.pickBy=Du,jn.property=fl,jn.propertyOf=function(e){return function(t){return null==e?a:_r(e,t)}},jn.pull=Gi,jn.pullAll=Ki,jn.pullAllBy=function(e,t,n){return e&&e.length&&t&&t.length?Hr(e,t,ii(n,2)):e},jn.pullAllWith=function(e,t,n){return e&&e.length&&t&&t.length?Hr(e,t,a,n):e},jn.pullAt=Xi,jn.range=dl,jn.rangeRight=pl,jn.rearg=jo,jn.reject=function(e,t){return(Ho(e)?Pt:hr)(e,Lo(ii(t,3)))},jn.remove=function(e,t){var n=[];if(!e||!e.length)return n;var r=-1,a=[],i=e.length;for(t=ii(t,3);++r<i;){var o=e[r];t(o,r,e)&&(n.push(o),a.push(r))}return Vr(e,a),n},jn.rest=function(e,t){if(\"function\"!=typeof e)throw new Te(i);return Qr(e,t=t===a?t:pu(t))},jn.reverse=Zi,jn.sampleSize=function(e,t,n){return t=(n?vi(e,t,n):t===a)?1:pu(t),(Ho(e)?Kn:Gr)(e,t)},jn.set=function(e,t,n){return null==e?e:Kr(e,t,n)},jn.setWith=function(e,t,n,r){return r=\"function\"==typeof r?r:a,null==e?e:Kr(e,t,n,r)},jn.shuffle=function(e){return(Ho(e)?Xn:Jr)(e)},jn.slice=function(e,t,n){var r=null==e?0:e.length;return r?(n&&\"number\"!=typeof n&&vi(e,t,n)?(t=0,n=r):(t=null==t?0:pu(t),n=n===a?r:pu(n)),ea(e,t,n)):[]},jn.sortBy=So,jn.sortedUniq=function(e){return e&&e.length?aa(e):[]},jn.sortedUniqBy=function(e,t){return e&&e.length?aa(e,ii(t,2)):[]},jn.split=function(e,t,n){return n&&\"number\"!=typeof n&&vi(e,t,n)&&(t=n=a),(n=n===a?p:n>>>0)?(e=mu(e))&&(\"string\"==typeof t||null!=t&&!au(t))&&!(t=oa(t))&&rn(e)?ya(fn(e),0,n):e.split(t,n):[]},jn.spread=function(e,t){if(\"function\"!=typeof e)throw new Te(i);return t=null==t?0:vn(pu(t),0),Qr((function(n){var r=n[t],a=ya(n,0,t);return r&&At(a,r),xt(e,this,a)}))},jn.tail=function(e){var t=null==e?0:e.length;return t?ea(e,1,t):[]},jn.take=function(e,t,n){return e&&e.length?ea(e,0,(t=n||t===a?1:pu(t))<0?0:t):[]},jn.takeRight=function(e,t,n){var r=null==e?0:e.length;return r?ea(e,(t=r-(t=n||t===a?1:pu(t)))<0?0:t,r):[]},jn.takeRightWhile=function(e,t){return e&&e.length?ca(e,ii(t,3),!1,!0):[]},jn.takeWhile=function(e,t){return e&&e.length?ca(e,ii(t,3)):[]},jn.tap=function(e,t){return t(e),e},jn.throttle=function(e,t,n){var r=!0,a=!0;if(\"function\"!=typeof e)throw new Te(i);return Jo(n)&&(r=\"leading\"in n?!!n.leading:r,a=\"trailing\"in n?!!n.trailing:a),No(e,t,{leading:r,maxWait:t,trailing:a})},jn.thru=fo,jn.toArray=fu,jn.toPairs=Ru,jn.toPairsIn=ju,jn.toPath=function(e){return Ho(e)?Mt(e,Fi):uu(e)?[e]:Ca(Li(mu(e)))},jn.toPlainObject=vu,jn.transform=function(e,t,n){var r=Ho(e),a=r||Qo(e)||lu(e);if(t=ii(t,4),null==n){var i=e&&e.constructor;n=a?r?new i:[]:Jo(e)&&Ko(i)?Un(Ve(e)):{}}return(a?Et:yr)(e,(function(e,r,a){return t(n,e,r,a)})),n},jn.unary=function(e){return Co(e,1)},jn.union=Ji,jn.unionBy=eo,jn.unionWith=to,jn.uniq=function(e){return e&&e.length?ua(e):[]},jn.uniqBy=function(e,t){return e&&e.length?ua(e,ii(t,2)):[]},jn.uniqWith=function(e,t){return t=\"function\"==typeof t?t:a,e&&e.length?ua(e,a,t):[]},jn.unset=function(e,t){return null==e||la(e,t)},jn.unzip=no,jn.unzipWith=ro,jn.update=function(e,t,n){return null==e?e:sa(e,t,ga(n))},jn.updateWith=function(e,t,n,r){return r=\"function\"==typeof r?r:a,null==e?e:sa(e,t,ga(n),r)},jn.values=Uu,jn.valuesIn=function(e){return null==e?[]:Kt(e,Mu(e))},jn.without=ao,jn.words=Ku,jn.wrap=function(e,t){return Do(ga(t),e)},jn.xor=io,jn.xorBy=oo,jn.xorWith=uo,jn.zip=lo,jn.zipObject=function(e,t){return pa(e||[],t||[],Jn)},jn.zipObjectDeep=function(e,t){return pa(e||[],t||[],Kr)},jn.zipWith=so,jn.entries=Ru,jn.entriesIn=ju,jn.extend=bu,jn.extendWith=wu,ol(jn,jn),jn.add=ml,jn.attempt=Xu,jn.camelCase=Iu,jn.capitalize=$u,jn.ceil=yl,jn.clamp=function(e,t,n){return n===a&&(n=t,t=a),n!==a&&(n=(n=gu(n))==n?n:0),t!==a&&(t=(t=gu(t))==t?t:0),ir(gu(e),t,n)},jn.clone=function(e){return or(e,4)},jn.cloneDeep=function(e){return or(e,5)},jn.cloneDeepWith=function(e,t){return or(e,5,t=\"function\"==typeof t?t:a)},jn.cloneWith=function(e,t){return or(e,4,t=\"function\"==typeof t?t:a)},jn.conformsTo=function(e,t){return null==t||ur(e,t,Nu(t))},jn.deburr=Bu,jn.defaultTo=function(e,t){return null==e||e!=e?t:e},jn.divide=bl,jn.endsWith=function(e,t,n){e=mu(e),t=oa(t);var r=e.length,i=n=n===a?r:ir(pu(n),0,r);return(n-=t.length)>=0&&e.slice(n,i)==t},jn.eq=Uo,jn.escape=function(e){return(e=mu(e))&&Y.test(e)?e.replace(q,tn):e},jn.escapeRegExp=function(e){return(e=mu(e))&&ne.test(e)?e.replace(te,\"\\\\$&\"):e},jn.every=function(e,t,n){var r=Ho(e)?Tt:dr;return n&&vi(e,t,n)&&(t=a),r(e,ii(t,3))},jn.find=go,jn.findIndex=$i,jn.findKey=function(e,t){return Rt(e,ii(t,3),yr)},jn.findLast=vo,jn.findLastIndex=Bi,jn.findLastKey=function(e,t){return Rt(e,ii(t,3),br)},jn.floor=wl,jn.forEach=mo,jn.forEachRight=yo,jn.forIn=function(e,t){return null==e?e:vr(e,ii(t,3),Mu)},jn.forInRight=function(e,t){return null==e?e:mr(e,ii(t,3),Mu)},jn.forOwn=function(e,t){return e&&yr(e,ii(t,3))},jn.forOwnRight=function(e,t){return e&&br(e,ii(t,3))},jn.get=Eu,jn.gt=Io,jn.gte=$o,jn.has=function(e,t){return null!=e&&di(e,t,Er)},jn.hasIn=Cu,jn.head=Vi,jn.identity=nl,jn.includes=function(e,t,n,r){e=Wo(e)?e:Uu(e),n=n&&!r?pu(n):0;var a=e.length;return n<0&&(n=vn(a+n,0)),ou(e)?n<=a&&e.indexOf(t,n)>-1:!!a&&Ut(e,t,n)>-1},jn.indexOf=function(e,t,n){var r=null==e?0:e.length;if(!r)return-1;var a=null==n?0:pu(n);return a<0&&(a=vn(r+a,0)),Ut(e,t,a)},jn.inRange=function(e,t,n){return t=du(t),n===a?(n=t,t=0):n=du(n),function(e,t,n){return e>=mn(t,n)&&e<vn(t,n)}(e=gu(e),t,n)},jn.invoke=zu,jn.isArguments=Bo,jn.isArray=Ho,jn.isArrayBuffer=Vo,jn.isArrayLike=Wo,jn.isArrayLikeObject=qo,jn.isBoolean=function(e){return!0===e||!1===e||eu(e)&&xr(e)==m},jn.isBuffer=Qo,jn.isDate=Yo,jn.isElement=function(e){return eu(e)&&1===e.nodeType&&!ru(e)},jn.isEmpty=function(e){if(null==e)return!0;if(Wo(e)&&(Ho(e)||\"string\"==typeof e||\"function\"==typeof e.splice||Qo(e)||lu(e)||Bo(e)))return!e.length;var t=fi(e);if(t==k||t==T)return!e.size;if(wi(e))return!Lr(e).length;for(var n in e)if(Oe.call(e,n))return!1;return!0},jn.isEqual=function(e,t){return Nr(e,t)},jn.isEqualWith=function(e,t,n){var r=(n=\"function\"==typeof n?n:a)?n(e,t):a;return r===a?Nr(e,t,a,n):!!r},jn.isError=Go,jn.isFinite=function(e){return\"number\"==typeof e&&Dt(e)},jn.isFunction=Ko,jn.isInteger=Xo,jn.isLength=Zo,jn.isMap=tu,jn.isMatch=function(e,t){return e===t||Mr(e,t,ui(t))},jn.isMatchWith=function(e,t,n){return n=\"function\"==typeof n?n:a,Mr(e,t,ui(t),n)},jn.isNaN=function(e){return nu(e)&&e!=+e},jn.isNative=function(e){if(bi(e))throw new _e(\"Unsupported core-js use. Try https://npms.io/search?q=ponyfill.\");return Ar(e)},jn.isNil=function(e){return null==e},jn.isNull=function(e){return null===e},jn.isNumber=nu,jn.isObject=Jo,jn.isObjectLike=eu,jn.isPlainObject=ru,jn.isRegExp=au,jn.isSafeInteger=function(e){return Xo(e)&&e>=-9007199254740991&&e<=f},jn.isSet=iu,jn.isString=ou,jn.isSymbol=uu,jn.isTypedArray=lu,jn.isUndefined=function(e){return e===a},jn.isWeakMap=function(e){return eu(e)&&fi(e)==N},jn.isWeakSet=function(e){return eu(e)&&\"[object WeakSet]\"==xr(e)},jn.join=function(e,t){return null==e?\"\":Vt.call(e,t)},jn.kebabCase=Hu,jn.last=Yi,jn.lastIndexOf=function(e,t,n){var r=null==e?0:e.length;if(!r)return-1;var i=r;return n!==a&&(i=(i=pu(n))<0?vn(r+i,0):mn(i,r-1)),t==t?function(e,t,n){for(var r=n+1;r--;)if(e[r]===t)return r;return r}(e,t,i):jt(e,$t,i,!0)},jn.lowerCase=Vu,jn.lowerFirst=Wu,jn.lt=su,jn.lte=cu,jn.max=function(e){return e&&e.length?pr(e,nl,Sr):a},jn.maxBy=function(e,t){return e&&e.length?pr(e,ii(t,2),Sr):a},jn.mean=function(e){return Bt(e,nl)},jn.meanBy=function(e,t){return Bt(e,ii(t,2))},jn.min=function(e){return e&&e.length?pr(e,nl,Fr):a},jn.minBy=function(e,t){return e&&e.length?pr(e,ii(t,2),Fr):a},jn.stubArray=hl,jn.stubFalse=gl,jn.stubObject=function(){return{}},jn.stubString=function(){return\"\"},jn.stubTrue=function(){return!0},jn.multiply=_l,jn.nth=function(e,t){return e&&e.length?Ir(e,pu(t)):a},jn.noConflict=function(){return ft._===this&&(ft._=je),this},jn.noop=ul,jn.now=Eo,jn.pad=function(e,t,n){e=mu(e);var r=(t=pu(t))?cn(e):0;if(!t||r>=t)return e;var a=(t-r)/2;return $a(pt(a),n)+e+$a(dt(a),n)},jn.padEnd=function(e,t,n){e=mu(e);var r=(t=pu(t))?cn(e):0;return t&&r<t?e+$a(t-r,n):e},jn.padStart=function(e,t,n){e=mu(e);var r=(t=pu(t))?cn(e):0;return t&&r<t?$a(t-r,n)+e:e},jn.parseInt=function(e,t,n){return n||null==t?t=0:t&&(t=+t),bn(mu(e).replace(re,\"\"),t||0)},jn.random=function(e,t,n){if(n&&\"boolean\"!=typeof n&&vi(e,t,n)&&(t=n=a),n===a&&(\"boolean\"==typeof t?(n=t,t=a):\"boolean\"==typeof e&&(n=e,e=a)),e===a&&t===a?(e=0,t=1):(e=du(e),t===a?(t=e,e=0):t=du(t)),e>t){var r=e;e=t,t=r}if(n||e%1||t%1){var i=wn();return mn(e+i*(t-e+ut(\"1e-\"+((i+\"\").length-1))),t)}return Wr(e,t)},jn.reduce=function(e,t,n){var r=Ho(e)?Ot:Wt,a=arguments.length<3;return r(e,ii(t,4),n,a,cr)},jn.reduceRight=function(e,t,n){var r=Ho(e)?Lt:Wt,a=arguments.length<3;return r(e,ii(t,4),n,a,fr)},jn.repeat=function(e,t,n){return t=(n?vi(e,t,n):t===a)?1:pu(t),qr(mu(e),t)},jn.replace=function(){var e=arguments,t=mu(e[0]);return e.length<3?t:t.replace(e[1],e[2])},jn.result=function(e,t,n){var r=-1,i=(t=va(t,e)).length;for(i||(i=1,e=a);++r<i;){var o=null==e?a:e[Fi(t[r])];o===a&&(r=i,o=n),e=Ko(o)?o.call(e):o}return e},jn.round=kl,jn.runInContext=e,jn.sample=function(e){return(Ho(e)?Gn:Yr)(e)},jn.size=function(e){if(null==e)return 0;if(Wo(e))return ou(e)?cn(e):e.length;var t=fi(e);return t==k||t==T?e.size:Lr(e).length},jn.snakeCase=qu,jn.some=function(e,t,n){var r=Ho(e)?Ft:ta;return n&&vi(e,t,n)&&(t=a),r(e,ii(t,3))},jn.sortedIndex=function(e,t){return na(e,t)},jn.sortedIndexBy=function(e,t,n){return ra(e,t,ii(n,2))},jn.sortedIndexOf=function(e,t){var n=null==e?0:e.length;if(n){var r=na(e,t);if(r<n&&Uo(e[r],t))return r}return-1},jn.sortedLastIndex=function(e,t){return na(e,t,!0)},jn.sortedLastIndexBy=function(e,t,n){return ra(e,t,ii(n,2),!0)},jn.sortedLastIndexOf=function(e,t){if(null!=e&&e.length){var n=na(e,t,!0)-1;if(Uo(e[n],t))return n}return-1},jn.startCase=Qu,jn.startsWith=function(e,t,n){return e=mu(e),n=null==n?0:ir(pu(n),0,e.length),t=oa(t),e.slice(n,n+t.length)==t},jn.subtract=xl,jn.sum=function(e){return e&&e.length?qt(e,nl):0},jn.sumBy=function(e,t){return e&&e.length?qt(e,ii(t,2)):0},jn.template=function(e,t,n){var r=jn.templateSettings;n&&vi(e,t,n)&&(t=a),e=mu(e),t=wu({},t,r,Ga);var i,o,u=wu({},t.imports,r.imports,Ga),l=Nu(u),s=Kt(u,l),c=0,f=t.interpolate||be,d=\"__p += '\",p=Ee((t.escape||be).source+\"|\"+f.source+\"|\"+(f===X?fe:be).source+\"|\"+(t.evaluate||be).source+\"|$\",\"g\"),h=\"//# sourceURL=\"+(Oe.call(t,\"sourceURL\")?(t.sourceURL+\"\").replace(/\\s/g,\" \"):\"lodash.templateSources[\"+ ++rt+\"]\")+\"\\n\";e.replace(p,(function(t,n,r,a,u,l){return r||(r=a),d+=e.slice(c,l).replace(we,nn),n&&(i=!0,d+=\"' +\\n__e(\"+n+\") +\\n'\"),u&&(o=!0,d+=\"';\\n\"+u+\";\\n__p += '\"),r&&(d+=\"' +\\n((__t = (\"+r+\")) == null ? '' : __t) +\\n'\"),c=l+t.length,t})),d+=\"';\\n\";var g=Oe.call(t,\"variable\")&&t.variable;if(g){if(se.test(g))throw new _e(\"Invalid `variable` option passed into `_.template`\")}else d=\"with (obj) {\\n\"+d+\"\\n}\\n\";d=(o?d.replace(B,\"\"):d).replace(H,\"$1\").replace(V,\"$1;\"),d=\"function(\"+(g||\"obj\")+\") {\\n\"+(g?\"\":\"obj || (obj = {});\\n\")+\"var __t, __p = ''\"+(i?\", __e = _.escape\":\"\")+(o?\", __j = Array.prototype.join;\\nfunction print() { __p += __j.call(arguments, '') }\\n\":\";\\n\")+d+\"return __p\\n}\";var v=Xu((function(){return ke(l,h+\"return \"+d).apply(a,s)}));if(v.source=d,Go(v))throw v;return v},jn.times=function(e,t){if((e=pu(e))<1||e>f)return[];var n=p,r=mn(e,p);t=ii(t),e-=p;for(var a=Qt(r,t);++n<e;)t(n);return a},jn.toFinite=du,jn.toInteger=pu,jn.toLength=hu,jn.toLower=function(e){return mu(e).toLowerCase()},jn.toNumber=gu,jn.toSafeInteger=function(e){return e?ir(pu(e),-9007199254740991,f):0===e?e:0},jn.toString=mu,jn.toUpper=function(e){return mu(e).toUpperCase()},jn.trim=function(e,t,n){if((e=mu(e))&&(n||t===a))return Yt(e);if(!e||!(t=oa(t)))return e;var r=fn(e),i=fn(t);return ya(r,Zt(r,i),Jt(r,i)+1).join(\"\")},jn.trimEnd=function(e,t,n){if((e=mu(e))&&(n||t===a))return e.slice(0,dn(e)+1);if(!e||!(t=oa(t)))return e;var r=fn(e);return ya(r,0,Jt(r,fn(t))+1).join(\"\")},jn.trimStart=function(e,t,n){if((e=mu(e))&&(n||t===a))return e.replace(re,\"\");if(!e||!(t=oa(t)))return e;var r=fn(e);return ya(r,Zt(r,fn(t))).join(\"\")},jn.truncate=function(e,t){var n=30,r=\"...\";if(Jo(t)){var i=\"separator\"in t?t.separator:i;n=\"length\"in t?pu(t.length):n,r=\"omission\"in t?oa(t.omission):r}var o=(e=mu(e)).length;if(rn(e)){var u=fn(e);o=u.length}if(n>=o)return e;var l=n-cn(r);if(l<1)return r;var s=u?ya(u,0,l).join(\"\"):e.slice(0,l);if(i===a)return s+r;if(u&&(l+=s.length-l),au(i)){if(e.slice(l).search(i)){var c,f=s;for(i.global||(i=Ee(i.source,mu(de.exec(i))+\"g\")),i.lastIndex=0;c=i.exec(f);)var d=c.index;s=s.slice(0,d===a?l:d)}}else if(e.indexOf(oa(i),l)!=l){var p=s.lastIndexOf(i);p>-1&&(s=s.slice(0,p))}return s+r},jn.unescape=function(e){return(e=mu(e))&&Q.test(e)?e.replace(W,pn):e},jn.uniqueId=function(e){var t=++Le;return mu(e)+t},jn.upperCase=Yu,jn.upperFirst=Gu,jn.each=mo,jn.eachRight=yo,jn.first=Vi,ol(jn,(vl={},yr(jn,(function(e,t){Oe.call(jn.prototype,t)||(vl[t]=e)})),vl),{chain:!1}),jn.VERSION=\"4.17.21\",Et([\"bind\",\"bindKey\",\"curry\",\"curryRight\",\"partial\",\"partialRight\"],(function(e){jn[e].placeholder=jn})),Et([\"drop\",\"take\"],(function(e,t){Bn.prototype[e]=function(n){n=n===a?1:vn(pu(n),0);var r=this.__filtered__&&!t?new Bn(this):this.clone();return r.__filtered__?r.__takeCount__=mn(n,r.__takeCount__):r.__views__.push({size:mn(n,p),type:e+(r.__dir__<0?\"Right\":\"\")}),r},Bn.prototype[e+\"Right\"]=function(t){return this.reverse()[e](t).reverse()}})),Et([\"filter\",\"map\",\"takeWhile\"],(function(e,t){var n=t+1,r=1==n||3==n;Bn.prototype[e]=function(e){var t=this.clone();return t.__iteratees__.push({iteratee:ii(e,3),type:n}),t.__filtered__=t.__filtered__||r,t}})),Et([\"head\",\"last\"],(function(e,t){var n=\"take\"+(t?\"Right\":\"\");Bn.prototype[e]=function(){return this[n](1).value()[0]}})),Et([\"initial\",\"tail\"],(function(e,t){var n=\"drop\"+(t?\"\":\"Right\");Bn.prototype[e]=function(){return this.__filtered__?new Bn(this):this[n](1)}})),Bn.prototype.compact=function(){return this.filter(nl)},Bn.prototype.find=function(e){return this.filter(e).head()},Bn.prototype.findLast=function(e){return this.reverse().find(e)},Bn.prototype.invokeMap=Qr((function(e,t){return\"function\"==typeof e?new Bn(this):this.map((function(n){return Pr(n,e,t)}))})),Bn.prototype.reject=function(e){return this.filter(Lo(ii(e)))},Bn.prototype.slice=function(e,t){e=pu(e);var n=this;return n.__filtered__&&(e>0||t<0)?new Bn(n):(e<0?n=n.takeRight(-e):e&&(n=n.drop(e)),t!==a&&(n=(t=pu(t))<0?n.dropRight(-t):n.take(t-e)),n)},Bn.prototype.takeRightWhile=function(e){return this.reverse().takeWhile(e).reverse()},Bn.prototype.toArray=function(){return this.take(p)},yr(Bn.prototype,(function(e,t){var n=/^(?:filter|find|map|reject)|While$/.test(t),r=/^(?:head|last)$/.test(t),i=jn[r?\"take\"+(\"last\"==t?\"Right\":\"\"):t],o=r||/^find/.test(t);i&&(jn.prototype[t]=function(){var t=this.__wrapped__,u=r?[1]:arguments,l=t instanceof Bn,s=u[0],c=l||Ho(t),f=function(e){var t=i.apply(jn,At([e],u));return r&&d?t[0]:t};c&&n&&\"function\"==typeof s&&1!=s.length&&(l=c=!1);var d=this.__chain__,p=!!this.__actions__.length,h=o&&!d,g=l&&!p;if(!o&&c){t=g?t:new Bn(this);var v=e.apply(t,u);return v.__actions__.push({func:fo,args:[f],thisArg:a}),new $n(v,d)}return h&&g?e.apply(this,u):(v=this.thru(f),h?r?v.value()[0]:v.value():v)})})),Et([\"pop\",\"push\",\"shift\",\"sort\",\"splice\",\"unshift\"],(function(e){var t=Pe[e],n=/^(?:push|sort|unshift)$/.test(e)?\"tap\":\"thru\",r=/^(?:pop|shift)$/.test(e);jn.prototype[e]=function(){var e=arguments;if(r&&!this.__chain__){var a=this.value();return t.apply(Ho(a)?a:[],e)}return this[n]((function(n){return t.apply(Ho(n)?n:[],e)}))}})),yr(Bn.prototype,(function(e,t){var n=jn[t];if(n){var r=n.name+\"\";Oe.call(zn,r)||(zn[r]=[]),zn[r].push({name:t,func:n})}})),zn[Ra(a,2).name]=[{name:\"wrapper\",func:a}],Bn.prototype.clone=function(){var e=new Bn(this.__wrapped__);return e.__actions__=Ca(this.__actions__),e.__dir__=this.__dir__,e.__filtered__=this.__filtered__,e.__iteratees__=Ca(this.__iteratees__),e.__takeCount__=this.__takeCount__,e.__views__=Ca(this.__views__),e},Bn.prototype.reverse=function(){if(this.__filtered__){var e=new Bn(this);e.__dir__=-1,e.__filtered__=!0}else(e=this.clone()).__dir__*=-1;return e},Bn.prototype.value=function(){var e=this.__wrapped__.value(),t=this.__dir__,n=Ho(e),r=t<0,a=n?e.length:0,i=function(e,t,n){for(var r=-1,a=n.length;++r<a;){var i=n[r],o=i.size;switch(i.type){case\"drop\":e+=o;break;case\"dropRight\":t-=o;break;case\"take\":t=mn(t,e+o);break;case\"takeRight\":e=vn(e,t-o)}}return{start:e,end:t}}(0,a,this.__views__),o=i.start,u=i.end,l=u-o,s=r?u:o-1,c=this.__iteratees__,f=c.length,d=0,p=mn(l,this.__takeCount__);if(!n||!r&&a==l&&p==l)return fa(e,this.__actions__);var h=[];e:for(;l--&&d<p;){for(var g=-1,v=e[s+=t];++g<f;){var m=c[g],y=m.iteratee,b=m.type,w=y(v);if(2==b)v=w;else if(!w){if(1==b)continue e;break e}}h[d++]=v}return h},jn.prototype.at=po,jn.prototype.chain=function(){return co(this)},jn.prototype.commit=function(){return new $n(this.value(),this.__chain__)},jn.prototype.next=function(){this.__values__===a&&(this.__values__=fu(this.value()));var e=this.__index__>=this.__values__.length;return{done:e,value:e?a:this.__values__[this.__index__++]}},jn.prototype.plant=function(e){for(var t,n=this;n instanceof In;){var r=Ri(n);r.__index__=0,r.__values__=a,t?i.__wrapped__=r:t=r;var i=r;n=n.__wrapped__}return i.__wrapped__=e,t},jn.prototype.reverse=function(){var e=this.__wrapped__;if(e instanceof Bn){var t=e;return this.__actions__.length&&(t=new Bn(this)),(t=t.reverse()).__actions__.push({func:fo,args:[Zi],thisArg:a}),new $n(t,this.__chain__)}return this.thru(Zi)},jn.prototype.toJSON=jn.prototype.valueOf=jn.prototype.value=function(){return fa(this.__wrapped__,this.__actions__)},jn.prototype.first=jn.prototype.head,Ge&&(jn.prototype[Ge]=function(){return this}),jn}();ft._=hn,(r=function(){return hn}.call(t,n,t,e))===a||(e.exports=r)}.call(this)},869:(e,t)=>{\"use strict\";var n=Symbol.for(\"react.transitional.element\"),r=Symbol.for(\"react.portal\"),a=Symbol.for(\"react.fragment\"),i=Symbol.for(\"react.strict_mode\"),o=Symbol.for(\"react.profiler\"),u=Symbol.for(\"react.consumer\"),l=Symbol.for(\"react.context\"),s=Symbol.for(\"react.forward_ref\"),c=Symbol.for(\"react.suspense\"),f=Symbol.for(\"react.memo\"),d=Symbol.for(\"react.lazy\"),p=Symbol.iterator,h={isMounted:function(){return!1},enqueueForceUpdate:function(){},enqueueReplaceState:function(){},enqueueSetState:function(){}},g=Object.assign,v={};function m(e,t,n){this.props=e,this.context=t,this.refs=v,this.updater=n||h}function y(){}function b(e,t,n){this.props=e,this.context=t,this.refs=v,this.updater=n||h}m.prototype.isReactComponent={},m.prototype.setState=function(e,t){if(\"object\"!=typeof e&&\"function\"!=typeof e&&null!=e)throw Error(\"takes an object of state variables to update or a function which returns an object of state variables.\");this.updater.enqueueSetState(this,e,t,\"setState\")},m.prototype.forceUpdate=function(e){this.updater.enqueueForceUpdate(this,e,\"forceUpdate\")},y.prototype=m.prototype;var w=b.prototype=new y;w.constructor=b,g(w,m.prototype),w.isPureReactComponent=!0;var _=Array.isArray,k={H:null,A:null,T:null,S:null},x=Object.prototype.hasOwnProperty;function S(e,t,r,a,i,o){return r=o.ref,{$$typeof:n,type:e,key:t,ref:void 0!==r?r:null,props:o}}function E(e){return\"object\"==typeof e&&null!==e&&e.$$typeof===n}var C=/\\/+/g;function T(e,t){return\"object\"==typeof e&&null!==e&&null!=e.key?(n=\"\"+e.key,r={\"=\":\"=0\",\":\":\"=2\"},\"$\"+n.replace(/[=:]/g,(function(e){return r[e]}))):t.toString(36);var n,r}function P(){}function z(e,t,a,i,o){var u=typeof e;\"undefined\"!==u&&\"boolean\"!==u||(e=null);var l,s,c=!1;if(null===e)c=!0;else switch(u){case\"bigint\":case\"string\":case\"number\":c=!0;break;case\"object\":switch(e.$$typeof){case n:case r:c=!0;break;case d:return z((c=e._init)(e._payload),t,a,i,o)}}if(c)return o=o(e),c=\"\"===i?\".\"+T(e,0):i,_(o)?(a=\"\",null!=c&&(a=c.replace(C,\"$&/\")+\"/\"),z(o,t,a,\"\",(function(e){return e}))):null!=o&&(E(o)&&(l=o,s=a+(null==o.key||e&&e.key===o.key?\"\":(\"\"+o.key).replace(C,\"$&/\")+\"/\")+c,o=S(l.type,s,void 0,0,0,l.props)),t.push(o)),1;c=0;var f,h=\"\"===i?\".\":i+\":\";if(_(e))for(var g=0;g<e.length;g++)c+=z(i=e[g],t,a,u=h+T(i,g),o);else if(\"function\"==typeof(g=null===(f=e)||\"object\"!=typeof f?null:\"function\"==typeof(f=p&&f[p]||f[\"@@iterator\"])?f:null))for(e=g.call(e),g=0;!(i=e.next()).done;)c+=z(i=i.value,t,a,u=h+T(i,g++),o);else if(\"object\"===u){if(\"function\"==typeof e.then)return z(function(e){switch(e.status){case\"fulfilled\":return e.value;case\"rejected\":throw e.reason;default:switch(\"string\"==typeof e.status?e.then(P,P):(e.status=\"pending\",e.then((function(t){\"pending\"===e.status&&(e.status=\"fulfilled\",e.value=t)}),(function(t){\"pending\"===e.status&&(e.status=\"rejected\",e.reason=t)}))),e.status){case\"fulfilled\":return e.value;case\"rejected\":throw e.reason}}throw e}(e),t,a,i,o);throw t=String(e),Error(\"Objects are not valid as a React child (found: \"+(\"[object Object]\"===t?\"object with keys {\"+Object.keys(e).join(\", \")+\"}\":t)+\"). If you meant to render a collection of children, use an array instead.\")}return c}function N(e,t,n){if(null==e)return e;var r=[],a=0;return z(e,r,\"\",\"\",(function(e){return t.call(n,e,a++)})),r}function M(e){if(-1===e._status){var t=e._result;(t=t()).then((function(t){0!==e._status&&-1!==e._status||(e._status=1,e._result=t)}),(function(t){0!==e._status&&-1!==e._status||(e._status=2,e._result=t)})),-1===e._status&&(e._status=0,e._result=t)}if(1===e._status)return e._result.default;throw e._result}var A=\"function\"==typeof reportError?reportError:function(e){if(\"object\"==typeof window&&\"function\"==typeof window.ErrorEvent){var t=new window.ErrorEvent(\"error\",{bubbles:!0,cancelable:!0,message:\"object\"==typeof e&&null!==e&&\"string\"==typeof e.message?String(e.message):String(e),error:e});if(!window.dispatchEvent(t))return}else if(\"object\"==typeof process&&\"function\"==typeof process.emit)return void process.emit(\"uncaughtException\",e);console.error(e)};function O(){}t.Children={map:N,forEach:function(e,t,n){N(e,(function(){t.apply(this,arguments)}),n)},count:function(e){var t=0;return N(e,(function(){t++})),t},toArray:function(e){return N(e,(function(e){return e}))||[]},only:function(e){if(!E(e))throw Error(\"React.Children.only expected to receive a single React element child.\");return e}},t.Component=m,t.Fragment=a,t.Profiler=o,t.PureComponent=b,t.StrictMode=i,t.Suspense=c,t.__CLIENT_INTERNALS_DO_NOT_USE_OR_WARN_USERS_THEY_CANNOT_UPGRADE=k,t.act=function(){throw Error(\"act(...) is not supported in production builds of React.\")},t.cache=function(e){return function(){return e.apply(null,arguments)}},t.cloneElement=function(e,t,n){if(null==e)throw Error(\"The argument must be a React element, but you passed \"+e+\".\");var r=g({},e.props),a=e.key;if(null!=t)for(i in t.ref,void 0!==t.key&&(a=\"\"+t.key),t)!x.call(t,i)||\"key\"===i||\"__self\"===i||\"__source\"===i||\"ref\"===i&&void 0===t.ref||(r[i]=t[i]);var i=arguments.length-2;if(1===i)r.children=n;else if(1<i){for(var o=Array(i),u=0;u<i;u++)o[u]=arguments[u+2];r.children=o}return S(e.type,a,void 0,0,0,r)},t.createContext=function(e){return(e={$$typeof:l,_currentValue:e,_currentValue2:e,_threadCount:0,Provider:null,Consumer:null}).Provider=e,e.Consumer={$$typeof:u,_context:e},e},t.createElement=function(e,t,n){var r,a={},i=null;if(null!=t)for(r in void 0!==t.key&&(i=\"\"+t.key),t)x.call(t,r)&&\"key\"!==r&&\"__self\"!==r&&\"__source\"!==r&&(a[r]=t[r]);var o=arguments.length-2;if(1===o)a.children=n;else if(1<o){for(var u=Array(o),l=0;l<o;l++)u[l]=arguments[l+2];a.children=u}if(e&&e.defaultProps)for(r in o=e.defaultProps)void 0===a[r]&&(a[r]=o[r]);return S(e,i,void 0,0,0,a)},t.createRef=function(){return{current:null}},t.forwardRef=function(e){return{$$typeof:s,render:e}},t.isValidElement=E,t.lazy=function(e){return{$$typeof:d,_payload:{_status:-1,_result:e},_init:M}},t.memo=function(e,t){return{$$typeof:f,type:e,compare:void 0===t?null:t}},t.startTransition=function(e){var t=k.T,n={};k.T=n;try{var r=e(),a=k.S;null!==a&&a(n,r),\"object\"==typeof r&&null!==r&&\"function\"==typeof r.then&&r.then(O,A)}catch(e){A(e)}finally{k.T=t}},t.unstable_useCacheRefresh=function(){return k.H.useCacheRefresh()},t.use=function(e){return k.H.use(e)},t.useActionState=function(e,t,n){return k.H.useActionState(e,t,n)},t.useCallback=function(e,t){return k.H.useCallback(e,t)},t.useContext=function(e){return k.H.useContext(e)},t.useDebugValue=function(){},t.useDeferredValue=function(e,t){return k.H.useDeferredValue(e,t)},t.useEffect=function(e,t){return k.H.useEffect(e,t)},t.useId=function(){return k.H.useId()},t.useImperativeHandle=function(e,t,n){return k.H.useImperativeHandle(e,t,n)},t.useInsertionEffect=function(e,t){return k.H.useInsertionEffect(e,t)},t.useLayoutEffect=function(e,t){return k.H.useLayoutEffect(e,t)},t.useMemo=function(e,t){return k.H.useMemo(e,t)},t.useOptimistic=function(e,t){return k.H.useOptimistic(e,t)},t.useReducer=function(e,t,n){return k.H.useReducer(e,t,n)},t.useRef=function(e){return k.H.useRef(e)},t.useState=function(e){return k.H.useState(e)},t.useSyncExternalStore=function(e,t,n){return k.H.useSyncExternalStore(e,t,n)},t.useTransition=function(){return k.H.useTransition()},t.version=\"19.0.0\"},961:(e,t,n)=>{\"use strict\";!function e(){if(\"undefined\"!=typeof __REACT_DEVTOOLS_GLOBAL_HOOK__&&\"function\"==typeof __REACT_DEVTOOLS_GLOBAL_HOOK__.checkDCE)try{__REACT_DEVTOOLS_GLOBAL_HOOK__.checkDCE(e)}catch(e){console.error(e)}}(),e.exports=n(221)},982:(e,t,n)=>{\"use strict\";e.exports=n(477)}},r={};function a(e){var t=r[e];if(void 0!==t)return t.exports;var i=r[e]={id:e,loaded:!1,exports:{}};return n[e].call(i.exports,i,i.exports,a),i.loaded=!0,i.exports}t=Object.getPrototypeOf?e=>Object.getPrototypeOf(e):e=>e.__proto__,a.t=function(n,r){if(1&r&&(n=this(n)),8&r)return n;if(\"object\"==typeof n&&n){if(4&r&&n.__esModule)return n;if(16&r&&\"function\"==typeof n.then)return n}var i=Object.create(null);a.r(i);var o={};e=e||[null,t({}),t([]),t(t)];for(var u=2&r&&n;\"object\"==typeof u&&!~e.indexOf(u);u=t(u))Object.getOwnPropertyNames(u).forEach((e=>o[e]=()=>n[e]));return o.default=()=>n,a.d(i,o),i},a.d=(e,t)=>{for(var n in t)a.o(t,n)&&!a.o(e,n)&&Object.defineProperty(e,n,{enumerable:!0,get:t[n]})},a.g=function(){if(\"object\"==typeof globalThis)return globalThis;try{return this||new Function(\"return this\")()}catch(e){if(\"object\"==typeof window)return window}}(),a.o=(e,t)=>Object.prototype.hasOwnProperty.call(e,t),a.r=e=>{\"undefined\"!=typeof Symbol&&Symbol.toStringTag&&Object.defineProperty(e,Symbol.toStringTag,{value:\"Module\"}),Object.defineProperty(e,\"__esModule\",{value:!0})},a.nmd=e=>(e.paths=[],e.children||(e.children=[]),e),(()=>{\"use strict\";var e=a(540),t=a(338),n=a.t(t,2);const r=Math.sqrt(50),i=Math.sqrt(10),o=Math.sqrt(2);function u(e,t,n){const a=(t-e)/Math.max(0,n),l=Math.floor(Math.log10(a)),s=a/Math.pow(10,l),c=s>=r?10:s>=i?5:s>=o?2:1;let f,d,p;return l<0?(p=Math.pow(10,-l)/c,f=Math.round(e*p),d=Math.round(t*p),f/p<e&&++f,d/p>t&&--d,p=-p):(p=Math.pow(10,l)*c,f=Math.round(e/p),d=Math.round(t/p),f*p<e&&++f,d*p>t&&--d),d<f&&.5<=n&&n<2?u(e,t,2*n):[f,d,p]}function l(e,t,n){return u(e=+e,t=+t,n=+n)[2]}function s(e,t,n){n=+n;const r=(t=+t)<(e=+e),a=r?l(t,e,n):l(e,t,n);return(r?-1:1)*(a<0?1/-a:a)}function c(e,t){return null==e||null==t?NaN:e<t?-1:e>t?1:e>=t?0:NaN}function f(e,t){return null==e||null==t?NaN:t<e?-1:t>e?1:t>=e?0:NaN}function d(e){let t,n,r;function a(e,r,a=0,i=e.length){if(a<i){if(0!==t(r,r))return i;do{const t=a+i>>>1;n(e[t],r)<0?a=t+1:i=t}while(a<i)}return a}return 2!==e.length?(t=c,n=(t,n)=>c(e(t),n),r=(t,n)=>e(t)-n):(t=e===c||e===f?e:p,n=e,r=e),{left:a,center:function(e,t,n=0,i=e.length){const o=a(e,t,n,i-1);return o>n&&r(e[o-1],t)>-r(e[o],t)?o-1:o},right:function(e,r,a=0,i=e.length){if(a<i){if(0!==t(r,r))return i;do{const t=a+i>>>1;n(e[t],r)<=0?a=t+1:i=t}while(a<i)}return a}}}function p(){return 0}const h=d(c),g=h.right,v=(h.left,d((function(e){return null===e?NaN:+e})).center,g);function m(e,t,n){e.prototype=t.prototype=n,n.constructor=e}function y(e,t){var n=Object.create(e.prototype);for(var r in t)n[r]=t[r];return n}function b(){}var w=.7,_=1/w,k=\"\\\\s*([+-]?\\\\d+)\\\\s*\",x=\"\\\\s*([+-]?(?:\\\\d*\\\\.)?\\\\d+(?:[eE][+-]?\\\\d+)?)\\\\s*\",S=\"\\\\s*([+-]?(?:\\\\d*\\\\.)?\\\\d+(?:[eE][+-]?\\\\d+)?)%\\\\s*\",E=/^#([0-9a-f]{3,8})$/,C=new RegExp(`^rgb\\\\(${k},${k},${k}\\\\)$`),T=new RegExp(`^rgb\\\\(${S},${S},${S}\\\\)$`),P=new RegExp(`^rgba\\\\(${k},${k},${k},${x}\\\\)$`),z=new RegExp(`^rgba\\\\(${S},${S},${S},${x}\\\\)$`),N=new RegExp(`^hsl\\\\(${x},${S},${S}\\\\)$`),M=new RegExp(`^hsla\\\\(${x},${S},${S},${x}\\\\)$`),A={aliceblue:15792383,antiquewhite:16444375,aqua:65535,aquamarine:8388564,azure:15794175,beige:16119260,bisque:16770244,black:0,blanchedalmond:16772045,blue:255,blueviolet:9055202,brown:10824234,burlywood:14596231,cadetblue:6266528,chartreuse:8388352,chocolate:13789470,coral:16744272,cornflowerblue:6591981,cornsilk:16775388,crimson:14423100,cyan:65535,darkblue:139,darkcyan:35723,darkgoldenrod:12092939,darkgray:11119017,darkgreen:25600,darkgrey:11119017,darkkhaki:12433259,darkmagenta:9109643,darkolivegreen:5597999,darkorange:16747520,darkorchid:10040012,darkred:9109504,darksalmon:15308410,darkseagreen:9419919,darkslateblue:4734347,darkslategray:3100495,darkslategrey:3100495,darkturquoise:52945,darkviolet:9699539,deeppink:16716947,deepskyblue:49151,dimgray:6908265,dimgrey:6908265,dodgerblue:2003199,firebrick:11674146,floralwhite:16775920,forestgreen:2263842,fuchsia:16711935,gainsboro:14474460,ghostwhite:16316671,gold:16766720,goldenrod:14329120,gray:8421504,green:32768,greenyellow:11403055,grey:8421504,honeydew:15794160,hotpink:16738740,indianred:13458524,indigo:4915330,ivory:16777200,khaki:15787660,lavender:15132410,lavenderblush:16773365,lawngreen:8190976,lemonchiffon:16775885,lightblue:11393254,lightcoral:15761536,lightcyan:14745599,lightgoldenrodyellow:16448210,lightgray:13882323,lightgreen:9498256,lightgrey:13882323,lightpink:16758465,lightsalmon:16752762,lightseagreen:2142890,lightskyblue:8900346,lightslategray:7833753,lightslategrey:7833753,lightsteelblue:11584734,lightyellow:16777184,lime:65280,limegreen:3329330,linen:16445670,magenta:16711935,maroon:8388608,mediumaquamarine:6737322,mediumblue:205,mediumorchid:12211667,mediumpurple:9662683,mediumseagreen:3978097,mediumslateblue:8087790,mediumspringgreen:64154,mediumturquoise:4772300,mediumvioletred:13047173,midnightblue:1644912,mintcream:16121850,mistyrose:16770273,moccasin:16770229,navajowhite:16768685,navy:128,oldlace:16643558,olive:8421376,olivedrab:7048739,orange:16753920,orangered:16729344,orchid:14315734,palegoldenrod:15657130,palegreen:10025880,paleturquoise:11529966,palevioletred:14381203,papayawhip:16773077,peachpuff:16767673,peru:13468991,pink:16761035,plum:14524637,powderblue:11591910,purple:8388736,rebeccapurple:6697881,red:16711680,rosybrown:12357519,royalblue:4286945,saddlebrown:9127187,salmon:16416882,sandybrown:16032864,seagreen:3050327,seashell:16774638,sienna:10506797,silver:12632256,skyblue:8900331,slateblue:6970061,slategray:7372944,slategrey:7372944,snow:16775930,springgreen:65407,steelblue:4620980,tan:13808780,teal:32896,thistle:14204888,tomato:16737095,turquoise:4251856,violet:15631086,wheat:16113331,white:16777215,whitesmoke:16119285,yellow:16776960,yellowgreen:10145074};function O(){return this.rgb().formatHex()}function L(){return this.rgb().formatRgb()}function F(e){var t,n;return e=(e+\"\").trim().toLowerCase(),(t=E.exec(e))?(n=t[1].length,t=parseInt(t[1],16),6===n?D(t):3===n?new U(t>>8&15|t>>4&240,t>>4&15|240&t,(15&t)<<4|15&t,1):8===n?R(t>>24&255,t>>16&255,t>>8&255,(255&t)/255):4===n?R(t>>12&15|t>>8&240,t>>8&15|t>>4&240,t>>4&15|240&t,((15&t)<<4|15&t)/255):null):(t=C.exec(e))?new U(t[1],t[2],t[3],1):(t=T.exec(e))?new U(255*t[1]/100,255*t[2]/100,255*t[3]/100,1):(t=P.exec(e))?R(t[1],t[2],t[3],t[4]):(t=z.exec(e))?R(255*t[1]/100,255*t[2]/100,255*t[3]/100,t[4]):(t=N.exec(e))?W(t[1],t[2]/100,t[3]/100,1):(t=M.exec(e))?W(t[1],t[2]/100,t[3]/100,t[4]):A.hasOwnProperty(e)?D(A[e]):\"transparent\"===e?new U(NaN,NaN,NaN,0):null}function D(e){return new U(e>>16&255,e>>8&255,255&e,1)}function R(e,t,n,r){return r<=0&&(e=t=n=NaN),new U(e,t,n,r)}function j(e,t,n,r){return 1===arguments.length?((a=e)instanceof b||(a=F(a)),a?new U((a=a.rgb()).r,a.g,a.b,a.opacity):new U):new U(e,t,n,null==r?1:r);var a}function U(e,t,n,r){this.r=+e,this.g=+t,this.b=+n,this.opacity=+r}function I(){return`#${V(this.r)}${V(this.g)}${V(this.b)}`}function $(){const e=B(this.opacity);return`${1===e?\"rgb(\":\"rgba(\"}${H(this.r)}, ${H(this.g)}, ${H(this.b)}${1===e?\")\":`, ${e})`}`}function B(e){return isNaN(e)?1:Math.max(0,Math.min(1,e))}function H(e){return Math.max(0,Math.min(255,Math.round(e)||0))}function V(e){return((e=H(e))<16?\"0\":\"\")+e.toString(16)}function W(e,t,n,r){return r<=0?e=t=n=NaN:n<=0||n>=1?e=t=NaN:t<=0&&(e=NaN),new Y(e,t,n,r)}function q(e){if(e instanceof Y)return new Y(e.h,e.s,e.l,e.opacity);if(e instanceof b||(e=F(e)),!e)return new Y;if(e instanceof Y)return e;var t=(e=e.rgb()).r/255,n=e.g/255,r=e.b/255,a=Math.min(t,n,r),i=Math.max(t,n,r),o=NaN,u=i-a,l=(i+a)/2;return u?(o=t===i?(n-r)/u+6*(n<r):n===i?(r-t)/u+2:(t-n)/u+4,u/=l<.5?i+a:2-i-a,o*=60):u=l>0&&l<1?0:o,new Y(o,u,l,e.opacity)}function Q(e,t,n,r){return 1===arguments.length?q(e):new Y(e,t,n,null==r?1:r)}function Y(e,t,n,r){this.h=+e,this.s=+t,this.l=+n,this.opacity=+r}function G(e){return(e=(e||0)%360)<0?e+360:e}function K(e){return Math.max(0,Math.min(1,e||0))}function X(e,t,n){return 255*(e<60?t+(n-t)*e/60:e<180?n:e<240?t+(n-t)*(240-e)/60:t)}function Z(e,t,n,r,a){var i=e*e,o=i*e;return((1-3*e+3*i-o)*t+(4-6*i+3*o)*n+(1+3*e+3*i-3*o)*r+o*a)/6}m(b,F,{copy(e){return Object.assign(new this.constructor,this,e)},displayable(){return this.rgb().displayable()},hex:O,formatHex:O,formatHex8:function(){return this.rgb().formatHex8()},formatHsl:function(){return q(this).formatHsl()},formatRgb:L,toString:L}),m(U,j,y(b,{brighter(e){return e=null==e?_:Math.pow(_,e),new U(this.r*e,this.g*e,this.b*e,this.opacity)},darker(e){return e=null==e?w:Math.pow(w,e),new U(this.r*e,this.g*e,this.b*e,this.opacity)},rgb(){return this},clamp(){return new U(H(this.r),H(this.g),H(this.b),B(this.opacity))},displayable(){return-.5<=this.r&&this.r<255.5&&-.5<=this.g&&this.g<255.5&&-.5<=this.b&&this.b<255.5&&0<=this.opacity&&this.opacity<=1},hex:I,formatHex:I,formatHex8:function(){return`#${V(this.r)}${V(this.g)}${V(this.b)}${V(255*(isNaN(this.opacity)?1:this.opacity))}`},formatRgb:$,toString:$})),m(Y,Q,y(b,{brighter(e){return e=null==e?_:Math.pow(_,e),new Y(this.h,this.s,this.l*e,this.opacity)},darker(e){return e=null==e?w:Math.pow(w,e),new Y(this.h,this.s,this.l*e,this.opacity)},rgb(){var e=this.h%360+360*(this.h<0),t=isNaN(e)||isNaN(this.s)?0:this.s,n=this.l,r=n+(n<.5?n:1-n)*t,a=2*n-r;return new U(X(e>=240?e-240:e+120,a,r),X(e,a,r),X(e<120?e+240:e-120,a,r),this.opacity)},clamp(){return new Y(G(this.h),K(this.s),K(this.l),B(this.opacity))},displayable(){return(0<=this.s&&this.s<=1||isNaN(this.s))&&0<=this.l&&this.l<=1&&0<=this.opacity&&this.opacity<=1},formatHsl(){const e=B(this.opacity);return`${1===e?\"hsl(\":\"hsla(\"}${G(this.h)}, ${100*K(this.s)}%, ${100*K(this.l)}%${1===e?\")\":`, ${e})`}`}}));const J=e=>()=>e;function ee(e,t){var n=t-e;return n?function(e,t){return function(n){return e+n*t}}(e,n):J(isNaN(e)?t:e)}const te=function e(t){var n=function(e){return 1==(e=+e)?ee:function(t,n){return n-t?function(e,t,n){return e=Math.pow(e,n),t=Math.pow(t,n)-e,n=1/n,function(r){return Math.pow(e+r*t,n)}}(t,n,e):J(isNaN(t)?n:t)}}(t);function r(e,t){var r=n((e=j(e)).r,(t=j(t)).r),a=n(e.g,t.g),i=n(e.b,t.b),o=ee(e.opacity,t.opacity);return function(t){return e.r=r(t),e.g=a(t),e.b=i(t),e.opacity=o(t),e+\"\"}}return r.gamma=e,r}(1);function ne(e){return function(t){var n,r,a=t.length,i=new Array(a),o=new Array(a),u=new Array(a);for(n=0;n<a;++n)r=j(t[n]),i[n]=r.r||0,o[n]=r.g||0,u[n]=r.b||0;return i=e(i),o=e(o),u=e(u),r.opacity=1,function(e){return r.r=i(e),r.g=o(e),r.b=u(e),r+\"\"}}}function re(e,t){var n,r=t?t.length:0,a=e?Math.min(r,e.length):0,i=new Array(a),o=new Array(r);for(n=0;n<a;++n)i[n]=fe(e[n],t[n]);for(;n<r;++n)o[n]=t[n];return function(e){for(n=0;n<a;++n)o[n]=i[n](e);return o}}function ae(e,t){var n=new Date;return e=+e,t=+t,function(r){return n.setTime(e*(1-r)+t*r),n}}function ie(e,t){return e=+e,t=+t,function(n){return e*(1-n)+t*n}}function oe(e,t){var n,r={},a={};for(n in null!==e&&\"object\"==typeof e||(e={}),null!==t&&\"object\"==typeof t||(t={}),t)n in e?r[n]=fe(e[n],t[n]):a[n]=t[n];return function(e){for(n in r)a[n]=r[n](e);return a}}ne((function(e){var t=e.length-1;return function(n){var r=n<=0?n=0:n>=1?(n=1,t-1):Math.floor(n*t),a=e[r],i=e[r+1],o=r>0?e[r-1]:2*a-i,u=r<t-1?e[r+2]:2*i-a;return Z((n-r/t)*t,o,a,i,u)}})),ne((function(e){var t=e.length;return function(n){var r=Math.floor(((n%=1)<0?++n:n)*t),a=e[(r+t-1)%t],i=e[r%t],o=e[(r+1)%t],u=e[(r+2)%t];return Z((n-r/t)*t,a,i,o,u)}}));var ue=/[-+]?(?:\\d+\\.?\\d*|\\.?\\d+)(?:[eE][-+]?\\d+)?/g,le=new RegExp(ue.source,\"g\");function se(e,t){var n,r,a,i=ue.lastIndex=le.lastIndex=0,o=-1,u=[],l=[];for(e+=\"\",t+=\"\";(n=ue.exec(e))&&(r=le.exec(t));)(a=r.index)>i&&(a=t.slice(i,a),u[o]?u[o]+=a:u[++o]=a),(n=n[0])===(r=r[0])?u[o]?u[o]+=r:u[++o]=r:(u[++o]=null,l.push({i:o,x:ie(n,r)})),i=le.lastIndex;return i<t.length&&(a=t.slice(i),u[o]?u[o]+=a:u[++o]=a),u.length<2?l[0]?function(e){return function(t){return e(t)+\"\"}}(l[0].x):function(e){return function(){return e}}(t):(t=l.length,function(e){for(var n,r=0;r<t;++r)u[(n=l[r]).i]=n.x(e);return u.join(\"\")})}function ce(e,t){t||(t=[]);var n,r=e?Math.min(t.length,e.length):0,a=t.slice();return function(i){for(n=0;n<r;++n)a[n]=e[n]*(1-i)+t[n]*i;return a}}function fe(e,t){var n,r,a=typeof t;return null==t||\"boolean\"===a?J(t):(\"number\"===a?ie:\"string\"===a?(n=F(t))?(t=n,te):se:t instanceof F?te:t instanceof Date?ae:(r=t,!ArrayBuffer.isView(r)||r instanceof DataView?Array.isArray(t)?re:\"function\"!=typeof t.valueOf&&\"function\"!=typeof t.toString||isNaN(t)?oe:ie:ce))(e,t)}function de(e,t){return e=+e,t=+t,function(n){return Math.round(e*(1-n)+t*n)}}function pe(e){return+e}var he=[0,1];function ge(e){return e}function ve(e,t){return(t-=e=+e)?function(n){return(n-e)/t}:(n=isNaN(t)?NaN:.5,function(){return n});var n}function me(e,t,n){var r=e[0],a=e[1],i=t[0],o=t[1];return a<r?(r=ve(a,r),i=n(o,i)):(r=ve(r,a),i=n(i,o)),function(e){return i(r(e))}}function ye(e,t,n){var r=Math.min(e.length,t.length)-1,a=new Array(r),i=new Array(r),o=-1;for(e[r]<e[0]&&(e=e.slice().reverse(),t=t.slice().reverse());++o<r;)a[o]=ve(e[o],e[o+1]),i[o]=n(t[o],t[o+1]);return function(t){var n=v(e,t,1,r)-1;return i[n](a[n](t))}}function be(e,t){return t.domain(e.domain()).range(e.range()).interpolate(e.interpolate()).clamp(e.clamp()).unknown(e.unknown())}function we(){return function(){var e,t,n,r,a,i,o=he,u=he,l=fe,s=ge;function c(){var e,t,n,l=Math.min(o.length,u.length);return s!==ge&&(e=o[0],t=o[l-1],e>t&&(n=e,e=t,t=n),s=function(n){return Math.max(e,Math.min(t,n))}),r=l>2?ye:me,a=i=null,f}function f(t){return null==t||isNaN(t=+t)?n:(a||(a=r(o.map(e),u,l)))(e(s(t)))}return f.invert=function(n){return s(t((i||(i=r(u,o.map(e),ie)))(n)))},f.domain=function(e){return arguments.length?(o=Array.from(e,pe),c()):o.slice()},f.range=function(e){return arguments.length?(u=Array.from(e),c()):u.slice()},f.rangeRound=function(e){return u=Array.from(e),l=de,c()},f.clamp=function(e){return arguments.length?(s=!!e||ge,c()):s!==ge},f.interpolate=function(e){return arguments.length?(l=e,c()):l},f.unknown=function(e){return arguments.length?(n=e,f):n},function(n,r){return e=n,t=r,c()}}()(ge,ge)}function _e(e,t){switch(arguments.length){case 0:break;case 1:this.range(e);break;default:this.range(t).domain(e)}return this}var ke,xe=/^(?:(.)?([<>=^]))?([+\\-( ])?([$#])?(0)?(\\d+)?(,)?(\\.\\d+)?(~)?([a-z%])?$/i;function Se(e){if(!(t=xe.exec(e)))throw new Error(\"invalid format: \"+e);var t;return new Ee({fill:t[1],align:t[2],sign:t[3],symbol:t[4],zero:t[5],width:t[6],comma:t[7],precision:t[8]&&t[8].slice(1),trim:t[9],type:t[10]})}function Ee(e){this.fill=void 0===e.fill?\" \":e.fill+\"\",this.align=void 0===e.align?\">\":e.align+\"\",this.sign=void 0===e.sign?\"-\":e.sign+\"\",this.symbol=void 0===e.symbol?\"\":e.symbol+\"\",this.zero=!!e.zero,this.width=void 0===e.width?void 0:+e.width,this.comma=!!e.comma,this.precision=void 0===e.precision?void 0:+e.precision,this.trim=!!e.trim,this.type=void 0===e.type?\"\":e.type+\"\"}function Ce(e,t){if((n=(e=t?e.toExponential(t-1):e.toExponential()).indexOf(\"e\"))<0)return null;var n,r=e.slice(0,n);return[r.length>1?r[0]+r.slice(2):r,+e.slice(n+1)]}function Te(e){return(e=Ce(Math.abs(e)))?e[1]:NaN}function Pe(e,t){var n=Ce(e,t);if(!n)return e+\"\";var r=n[0],a=n[1];return a<0?\"0.\"+new Array(-a).join(\"0\")+r:r.length>a+1?r.slice(0,a+1)+\".\"+r.slice(a+1):r+new Array(a-r.length+2).join(\"0\")}Se.prototype=Ee.prototype,Ee.prototype.toString=function(){return this.fill+this.align+this.sign+this.symbol+(this.zero?\"0\":\"\")+(void 0===this.width?\"\":Math.max(1,0|this.width))+(this.comma?\",\":\"\")+(void 0===this.precision?\"\":\".\"+Math.max(0,0|this.precision))+(this.trim?\"~\":\"\")+this.type};const ze={\"%\":(e,t)=>(100*e).toFixed(t),b:e=>Math.round(e).toString(2),c:e=>e+\"\",d:function(e){return Math.abs(e=Math.round(e))>=1e21?e.toLocaleString(\"en\").replace(/,/g,\"\"):e.toString(10)},e:(e,t)=>e.toExponential(t),f:(e,t)=>e.toFixed(t),g:(e,t)=>e.toPrecision(t),o:e=>Math.round(e).toString(8),p:(e,t)=>Pe(100*e,t),r:Pe,s:function(e,t){var n=Ce(e,t);if(!n)return e+\"\";var r=n[0],a=n[1],i=a-(ke=3*Math.max(-8,Math.min(8,Math.floor(a/3))))+1,o=r.length;return i===o?r:i>o?r+new Array(i-o+1).join(\"0\"):i>0?r.slice(0,i)+\".\"+r.slice(i):\"0.\"+new Array(1-i).join(\"0\")+Ce(e,Math.max(0,t+i-1))[0]},X:e=>Math.round(e).toString(16).toUpperCase(),x:e=>Math.round(e).toString(16)};function Ne(e){return e}var Me,Ae,Oe,Le=Array.prototype.map,Fe=[\"y\",\"z\",\"a\",\"f\",\"p\",\"n\",\"µ\",\"m\",\"\",\"k\",\"M\",\"G\",\"T\",\"P\",\"E\",\"Z\",\"Y\"];function De(e){var t=e.domain;return e.ticks=function(e){var n=t();return function(e,t,n){if(!((n=+n)>0))return[];if((e=+e)==(t=+t))return[e];const r=t<e,[a,i,o]=r?u(t,e,n):u(e,t,n);if(!(i>=a))return[];const l=i-a+1,s=new Array(l);if(r)if(o<0)for(let e=0;e<l;++e)s[e]=(i-e)/-o;else for(let e=0;e<l;++e)s[e]=(i-e)*o;else if(o<0)for(let e=0;e<l;++e)s[e]=(a+e)/-o;else for(let e=0;e<l;++e)s[e]=(a+e)*o;return s}(n[0],n[n.length-1],null==e?10:e)},e.tickFormat=function(e,n){var r=t();return function(e,t,n,r){var a,i=s(e,t,n);switch((r=Se(null==r?\",f\":r)).type){case\"s\":var o=Math.max(Math.abs(e),Math.abs(t));return null!=r.precision||isNaN(a=function(e,t){return Math.max(0,3*Math.max(-8,Math.min(8,Math.floor(Te(t)/3)))-Te(Math.abs(e)))}(i,o))||(r.precision=a),Oe(r,o);case\"\":case\"e\":case\"g\":case\"p\":case\"r\":null!=r.precision||isNaN(a=function(e,t){return e=Math.abs(e),t=Math.abs(t)-e,Math.max(0,Te(t)-Te(e))+1}(i,Math.max(Math.abs(e),Math.abs(t))))||(r.precision=a-(\"e\"===r.type));break;case\"f\":case\"%\":null!=r.precision||isNaN(a=function(e){return Math.max(0,-Te(Math.abs(e)))}(i))||(r.precision=a-2*(\"%\"===r.type))}return Ae(r)}(r[0],r[r.length-1],null==e?10:e,n)},e.nice=function(n){null==n&&(n=10);var r,a,i=t(),o=0,u=i.length-1,s=i[o],c=i[u],f=10;for(c<s&&(a=s,s=c,c=a,a=o,o=u,u=a);f-- >0;){if((a=l(s,c,n))===r)return i[o]=s,i[u]=c,t(i);if(a>0)s=Math.floor(s/a)*a,c=Math.ceil(c/a)*a;else{if(!(a<0))break;s=Math.ceil(s*a)/a,c=Math.floor(c*a)/a}r=a}return e},e}function Re(){var e=we();return e.copy=function(){return be(e,Re())},_e.apply(e,arguments),De(e)}Me=function(e){var t,n,r=void 0===e.grouping||void 0===e.thousands?Ne:(t=Le.call(e.grouping,Number),n=e.thousands+\"\",function(e,r){for(var a=e.length,i=[],o=0,u=t[0],l=0;a>0&&u>0&&(l+u+1>r&&(u=Math.max(1,r-l)),i.push(e.substring(a-=u,a+u)),!((l+=u+1)>r));)u=t[o=(o+1)%t.length];return i.reverse().join(n)}),a=void 0===e.currency?\"\":e.currency[0]+\"\",i=void 0===e.currency?\"\":e.currency[1]+\"\",o=void 0===e.decimal?\".\":e.decimal+\"\",u=void 0===e.numerals?Ne:function(e){return function(t){return t.replace(/[0-9]/g,(function(t){return e[+t]}))}}(Le.call(e.numerals,String)),l=void 0===e.percent?\"%\":e.percent+\"\",s=void 0===e.minus?\"−\":e.minus+\"\",c=void 0===e.nan?\"NaN\":e.nan+\"\";function f(e){var t=(e=Se(e)).fill,n=e.align,f=e.sign,d=e.symbol,p=e.zero,h=e.width,g=e.comma,v=e.precision,m=e.trim,y=e.type;\"n\"===y?(g=!0,y=\"g\"):ze[y]||(void 0===v&&(v=12),m=!0,y=\"g\"),(p||\"0\"===t&&\"=\"===n)&&(p=!0,t=\"0\",n=\"=\");var b=\"$\"===d?a:\"#\"===d&&/[boxX]/.test(y)?\"0\"+y.toLowerCase():\"\",w=\"$\"===d?i:/[%p]/.test(y)?l:\"\",_=ze[y],k=/[defgprs%]/.test(y);function x(e){var a,i,l,d=b,x=w;if(\"c\"===y)x=_(e)+x,e=\"\";else{var S=(e=+e)<0||1/e<0;if(e=isNaN(e)?c:_(Math.abs(e),v),m&&(e=function(e){e:for(var t,n=e.length,r=1,a=-1;r<n;++r)switch(e[r]){case\".\":a=t=r;break;case\"0\":0===a&&(a=r),t=r;break;default:if(!+e[r])break e;a>0&&(a=0)}return a>0?e.slice(0,a)+e.slice(t+1):e}(e)),S&&0==+e&&\"+\"!==f&&(S=!1),d=(S?\"(\"===f?f:s:\"-\"===f||\"(\"===f?\"\":f)+d,x=(\"s\"===y?Fe[8+ke/3]:\"\")+x+(S&&\"(\"===f?\")\":\"\"),k)for(a=-1,i=e.length;++a<i;)if(48>(l=e.charCodeAt(a))||l>57){x=(46===l?o+e.slice(a+1):e.slice(a))+x,e=e.slice(0,a);break}}g&&!p&&(e=r(e,1/0));var E=d.length+e.length+x.length,C=E<h?new Array(h-E+1).join(t):\"\";switch(g&&p&&(e=r(C+e,C.length?h-x.length:1/0),C=\"\"),n){case\"<\":e=d+e+x+C;break;case\"=\":e=d+C+e+x;break;case\"^\":e=C.slice(0,E=C.length>>1)+d+e+x+C.slice(E);break;default:e=C+d+e+x}return u(e)}return v=void 0===v?6:/[gprs]/.test(y)?Math.max(1,Math.min(21,v)):Math.max(0,Math.min(20,v)),x.toString=function(){return e+\"\"},x}return{format:f,formatPrefix:function(e,t){var n=f(((e=Se(e)).type=\"f\",e)),r=3*Math.max(-8,Math.min(8,Math.floor(Te(t)/3))),a=Math.pow(10,-r),i=Fe[8+r/3];return function(e){return n(a*e)+i}}}}({thousands:\",\",grouping:[3],currency:[\"$\",\"\"]}),Ae=Me.format,Oe=Me.formatPrefix;var je=a(543);const Ue={colors:{RdBu:[\"rgb(255, 13, 87)\",\"rgb(30, 136, 229)\"],GnPR:[\"rgb(24, 196, 93)\",\"rgb(124, 82, 255)\"],CyPU:[\"#0099C6\",\"#990099\"],PkYg:[\"#DD4477\",\"#66AA00\"],DrDb:[\"#B82E2E\",\"#316395\"],LpLb:[\"#994499\",\"#22AA99\"],YlDp:[\"#AAAA11\",\"#6633CC\"],OrId:[\"#E67300\",\"#3E0099\"]},gray:\"#777\"};function Ie(e){return Ie=\"function\"==typeof Symbol&&\"symbol\"==typeof Symbol.iterator?function(e){return typeof e}:function(e){return e&&\"function\"==typeof Symbol&&e.constructor===Symbol&&e!==Symbol.prototype?\"symbol\":typeof e},Ie(e)}function $e(e,t){for(var n=0;n<t.length;n++){var r=t[n];r.enumerable=r.enumerable||!1,r.configurable=!0,\"value\"in r&&(r.writable=!0),Object.defineProperty(e,Be(r.key),r)}}function Be(e){var t=function(e){if(\"object\"!=Ie(e)||!e)return e;var t=e[Symbol.toPrimitive];if(void 0!==t){var n=t.call(e,\"string\");if(\"object\"!=Ie(n))return n;throw new TypeError(\"@@toPrimitive must return a primitive value.\")}return String(e)}(e);return\"symbol\"==Ie(t)?t:t+\"\"}function He(){try{var e=!Boolean.prototype.valueOf.call(Reflect.construct(Boolean,[],(function(){})))}catch(e){}return(He=function(){return!!e})()}function Ve(e){return Ve=Object.setPrototypeOf?Object.getPrototypeOf.bind():function(e){return e.__proto__||Object.getPrototypeOf(e)},Ve(e)}function We(e,t){return We=Object.setPrototypeOf?Object.setPrototypeOf.bind():function(e,t){return e.__proto__=t,e},We(e,t)}var qe=function(t){function n(){var e;return function(e,t){if(!(e instanceof t))throw new TypeError(\"Cannot call a class as a function\")}(this,n),(e=function(e,t,n){return t=Ve(t),function(e,t){if(t&&(\"object\"==Ie(t)||\"function\"==typeof t))return t;if(void 0!==t)throw new TypeError(\"Derived constructors may only return object or undefined\");return function(e){if(void 0===e)throw new ReferenceError(\"this hasn't been initialised - super() hasn't been called\");return e}(e)}(e,He()?Reflect.construct(t,n||[],Ve(e).constructor):t.apply(e,n))}(this,n)).width=100,window.lastSimpleListInstance=e,e.effectFormat=Ae(\".2\"),e}return function(e,t){if(\"function\"!=typeof t&&null!==t)throw new TypeError(\"Super expression must either be null or a function\");e.prototype=Object.create(t&&t.prototype,{constructor:{value:e,writable:!0,configurable:!0}}),Object.defineProperty(e,\"prototype\",{writable:!1}),t&&We(e,t)}(n,t),r=n,(a=[{key:\"render\",value:function(){var t=this,n=void 0;\"string\"==typeof this.props.plot_cmap?this.props.plot_cmap in Ue.colors?n=Ue.colors[this.props.plot_cmap]:(console.log(\"Invalid color map name, reverting to default.\"),n=Ue.colors.RdBu):Array.isArray(this.props.plot_cmap)&&(n=this.props.plot_cmap),console.log(this.props.features,this.props.features),this.scale=Re().domain([0,(0,je.max)((0,je.map)(this.props.features,(function(e){return Math.abs(e.effect)})))]).range([0,this.width]);var r=(0,je.reverse)((0,je.sortBy)(Object.keys(this.props.features),(function(e){return Math.abs(t.props.features[e].effect)}))).map((function(r){var a,i,o=t.props.features[r],u=t.props.featureNames[r],l={width:t.scale(Math.abs(o.effect)),height:\"20px\",background:o.effect<0?n[0]:n[1],display:\"inline-block\"},s={lineHeight:\"20px\",display:\"inline-block\",width:t.width+40,verticalAlign:\"top\",marginRight:\"5px\",textAlign:\"right\"},c={lineHeight:\"20px\",display:\"inline-block\",width:t.width+40,verticalAlign:\"top\",marginLeft:\"5px\"};return o.effect<0?(i=e.createElement(\"span\",{style:c},u),s.width=40+t.width-t.scale(Math.abs(o.effect)),s.textAlign=\"right\",s.color=\"#999\",s.fontSize=\"13px\",a=e.createElement(\"span\",{style:s},t.effectFormat(o.effect))):(s.textAlign=\"right\",a=e.createElement(\"span\",{style:s},u),c.width=40,c.textAlign=\"left\",c.color=\"#999\",c.fontSize=\"13px\",i=e.createElement(\"span\",{style:c},t.effectFormat(o.effect))),e.createElement(\"div\",{key:r,style:{marginTop:\"2px\"}},a,e.createElement(\"div\",{style:l}),i)}));return e.createElement(\"span\",null,r)}}])&&$e(r.prototype,a),Object.defineProperty(r,\"prototype\",{writable:!1}),r;var r,a}(e.Component);qe.defaultProps={plot_cmap:\"RdBu\"};const Qe=qe;function Ye(){}function Ge(e){return null==e?Ye:function(){return this.querySelector(e)}}function Ke(){return[]}function Xe(e){return function(t){return t.matches(e)}}var Ze=Array.prototype.find;function Je(){return this.firstElementChild}var et=Array.prototype.filter;function tt(){return Array.from(this.children)}function nt(e){return new Array(e.length)}function rt(e,t){this.ownerDocument=e.ownerDocument,this.namespaceURI=e.namespaceURI,this._next=null,this._parent=e,this.__data__=t}function at(e,t,n,r,a,i){for(var o,u=0,l=t.length,s=i.length;u<s;++u)(o=t[u])?(o.__data__=i[u],r[u]=o):n[u]=new rt(e,i[u]);for(;u<l;++u)(o=t[u])&&(a[u]=o)}function it(e,t,n,r,a,i,o){var u,l,s,c=new Map,f=t.length,d=i.length,p=new Array(f);for(u=0;u<f;++u)(l=t[u])&&(p[u]=s=o.call(l,l.__data__,u,t)+\"\",c.has(s)?a[u]=l:c.set(s,l));for(u=0;u<d;++u)s=o.call(e,i[u],u,i)+\"\",(l=c.get(s))?(r[u]=l,l.__data__=i[u],c.delete(s)):n[u]=new rt(e,i[u]);for(u=0;u<f;++u)(l=t[u])&&c.get(p[u])===l&&(a[u]=l)}function ot(e){return e.__data__}function ut(e){return\"object\"==typeof e&&\"length\"in e?e:Array.from(e)}function lt(e,t){return e<t?-1:e>t?1:e>=t?0:NaN}rt.prototype={constructor:rt,appendChild:function(e){return this._parent.insertBefore(e,this._next)},insertBefore:function(e,t){return this._parent.insertBefore(e,t)},querySelector:function(e){return this._parent.querySelector(e)},querySelectorAll:function(e){return this._parent.querySelectorAll(e)}};var st=\"http://www.w3.org/1999/xhtml\";const ct={svg:\"http://www.w3.org/2000/svg\",xhtml:st,xlink:\"http://www.w3.org/1999/xlink\",xml:\"http://www.w3.org/XML/1998/namespace\",xmlns:\"http://www.w3.org/2000/xmlns/\"};function ft(e){var t=e+=\"\",n=t.indexOf(\":\");return n>=0&&\"xmlns\"!==(t=e.slice(0,n))&&(e=e.slice(n+1)),ct.hasOwnProperty(t)?{space:ct[t],local:e}:e}function dt(e){return function(){this.removeAttribute(e)}}function pt(e){return function(){this.removeAttributeNS(e.space,e.local)}}function ht(e,t){return function(){this.setAttribute(e,t)}}function gt(e,t){return function(){this.setAttributeNS(e.space,e.local,t)}}function vt(e,t){return function(){var n=t.apply(this,arguments);null==n?this.removeAttribute(e):this.setAttribute(e,n)}}function mt(e,t){return function(){var n=t.apply(this,arguments);null==n?this.removeAttributeNS(e.space,e.local):this.setAttributeNS(e.space,e.local,n)}}function yt(e){return e.ownerDocument&&e.ownerDocument.defaultView||e.document&&e||e.defaultView}function bt(e){return function(){this.style.removeProperty(e)}}function wt(e,t,n){return function(){this.style.setProperty(e,t,n)}}function _t(e,t,n){return function(){var r=t.apply(this,arguments);null==r?this.style.removeProperty(e):this.style.setProperty(e,r,n)}}function kt(e){return function(){delete this[e]}}function xt(e,t){return function(){this[e]=t}}function St(e,t){return function(){var n=t.apply(this,arguments);null==n?delete this[e]:this[e]=n}}function Et(e){return e.trim().split(/^|\\s+/)}function Ct(e){return e.classList||new Tt(e)}function Tt(e){this._node=e,this._names=Et(e.getAttribute(\"class\")||\"\")}function Pt(e,t){for(var n=Ct(e),r=-1,a=t.length;++r<a;)n.add(t[r])}function zt(e,t){for(var n=Ct(e),r=-1,a=t.length;++r<a;)n.remove(t[r])}function Nt(e){return function(){Pt(this,e)}}function Mt(e){return function(){zt(this,e)}}function At(e,t){return function(){(t.apply(this,arguments)?Pt:zt)(this,e)}}function Ot(){this.textContent=\"\"}function Lt(e){return function(){this.textContent=e}}function Ft(e){return function(){var t=e.apply(this,arguments);this.textContent=null==t?\"\":t}}function Dt(){this.innerHTML=\"\"}function Rt(e){return function(){this.innerHTML=e}}function jt(e){return function(){var t=e.apply(this,arguments);this.innerHTML=null==t?\"\":t}}function Ut(){this.nextSibling&&this.parentNode.appendChild(this)}function It(){this.previousSibling&&this.parentNode.insertBefore(this,this.parentNode.firstChild)}function $t(e){return function(){var t=this.ownerDocument,n=this.namespaceURI;return n===st&&t.documentElement.namespaceURI===st?t.createElement(e):t.createElementNS(n,e)}}function Bt(e){return function(){return this.ownerDocument.createElementNS(e.space,e.local)}}function Ht(e){var t=ft(e);return(t.local?Bt:$t)(t)}function Vt(){return null}function Wt(){var e=this.parentNode;e&&e.removeChild(this)}function qt(){var e=this.cloneNode(!1),t=this.parentNode;return t?t.insertBefore(e,this.nextSibling):e}function Qt(){var e=this.cloneNode(!0),t=this.parentNode;return t?t.insertBefore(e,this.nextSibling):e}function Yt(e){return function(){var t=this.__on;if(t){for(var n,r=0,a=-1,i=t.length;r<i;++r)n=t[r],e.type&&n.type!==e.type||n.name!==e.name?t[++a]=n:this.removeEventListener(n.type,n.listener,n.options);++a?t.length=a:delete this.__on}}}function Gt(e,t,n){return function(){var r,a=this.__on,i=function(e){return function(t){e.call(this,t,this.__data__)}}(t);if(a)for(var o=0,u=a.length;o<u;++o)if((r=a[o]).type===e.type&&r.name===e.name)return this.removeEventListener(r.type,r.listener,r.options),this.addEventListener(r.type,r.listener=i,r.options=n),void(r.value=t);this.addEventListener(e.type,i,n),r={type:e.type,name:e.name,value:t,listener:i,options:n},a?a.push(r):this.__on=[r]}}function Kt(e,t,n){var r=yt(e),a=r.CustomEvent;\"function\"==typeof a?a=new a(t,n):(a=r.document.createEvent(\"Event\"),n?(a.initEvent(t,n.bubbles,n.cancelable),a.detail=n.detail):a.initEvent(t,!1,!1)),e.dispatchEvent(a)}function Xt(e,t){return function(){return Kt(this,e,t)}}function Zt(e,t){return function(){return Kt(this,e,t.apply(this,arguments))}}Tt.prototype={add:function(e){this._names.indexOf(e)<0&&(this._names.push(e),this._node.setAttribute(\"class\",this._names.join(\" \")))},remove:function(e){var t=this._names.indexOf(e);t>=0&&(this._names.splice(t,1),this._node.setAttribute(\"class\",this._names.join(\" \")))},contains:function(e){return this._names.indexOf(e)>=0}};var Jt=[null];function en(e,t){this._groups=e,this._parents=t}function tn(e){return\"string\"==typeof e?new en([[document.querySelector(e)]],[document.documentElement]):new en([[e]],Jt)}function nn(e){return e}en.prototype=function(){return new en([[document.documentElement]],Jt)}.prototype={constructor:en,select:function(e){\"function\"!=typeof e&&(e=Ge(e));for(var t=this._groups,n=t.length,r=new Array(n),a=0;a<n;++a)for(var i,o,u=t[a],l=u.length,s=r[a]=new Array(l),c=0;c<l;++c)(i=u[c])&&(o=e.call(i,i.__data__,c,u))&&(\"__data__\"in i&&(o.__data__=i.__data__),s[c]=o);return new en(r,this._parents)},selectAll:function(e){e=\"function\"==typeof e?function(e){return function(){return null==(t=e.apply(this,arguments))?[]:Array.isArray(t)?t:Array.from(t);var t}}(e):function(e){return null==e?Ke:function(){return this.querySelectorAll(e)}}(e);for(var t=this._groups,n=t.length,r=[],a=[],i=0;i<n;++i)for(var o,u=t[i],l=u.length,s=0;s<l;++s)(o=u[s])&&(r.push(e.call(o,o.__data__,s,u)),a.push(o));return new en(r,a)},selectChild:function(e){return this.select(null==e?Je:function(e){return function(){return Ze.call(this.children,e)}}(\"function\"==typeof e?e:Xe(e)))},selectChildren:function(e){return this.selectAll(null==e?tt:function(e){return function(){return et.call(this.children,e)}}(\"function\"==typeof e?e:Xe(e)))},filter:function(e){\"function\"!=typeof e&&(e=function(e){return function(){return this.matches(e)}}(e));for(var t=this._groups,n=t.length,r=new Array(n),a=0;a<n;++a)for(var i,o=t[a],u=o.length,l=r[a]=[],s=0;s<u;++s)(i=o[s])&&e.call(i,i.__data__,s,o)&&l.push(i);return new en(r,this._parents)},data:function(e,t){if(!arguments.length)return Array.from(this,ot);var n,r=t?it:at,a=this._parents,i=this._groups;\"function\"!=typeof e&&(n=e,e=function(){return n});for(var o=i.length,u=new Array(o),l=new Array(o),s=new Array(o),c=0;c<o;++c){var f=a[c],d=i[c],p=d.length,h=ut(e.call(f,f&&f.__data__,c,a)),g=h.length,v=l[c]=new Array(g),m=u[c]=new Array(g);r(f,d,v,m,s[c]=new Array(p),h,t);for(var y,b,w=0,_=0;w<g;++w)if(y=v[w]){for(w>=_&&(_=w+1);!(b=m[_])&&++_<g;);y._next=b||null}}return(u=new en(u,a))._enter=l,u._exit=s,u},enter:function(){return new en(this._enter||this._groups.map(nt),this._parents)},exit:function(){return new en(this._exit||this._groups.map(nt),this._parents)},join:function(e,t,n){var r=this.enter(),a=this,i=this.exit();return\"function\"==typeof e?(r=e(r))&&(r=r.selection()):r=r.append(e+\"\"),null!=t&&(a=t(a))&&(a=a.selection()),null==n?i.remove():n(i),r&&a?r.merge(a).order():a},merge:function(e){for(var t=e.selection?e.selection():e,n=this._groups,r=t._groups,a=n.length,i=r.length,o=Math.min(a,i),u=new Array(a),l=0;l<o;++l)for(var s,c=n[l],f=r[l],d=c.length,p=u[l]=new Array(d),h=0;h<d;++h)(s=c[h]||f[h])&&(p[h]=s);for(;l<a;++l)u[l]=n[l];return new en(u,this._parents)},selection:function(){return this},order:function(){for(var e=this._groups,t=-1,n=e.length;++t<n;)for(var r,a=e[t],i=a.length-1,o=a[i];--i>=0;)(r=a[i])&&(o&&4^r.compareDocumentPosition(o)&&o.parentNode.insertBefore(r,o),o=r);return this},sort:function(e){function t(t,n){return t&&n?e(t.__data__,n.__data__):!t-!n}e||(e=lt);for(var n=this._groups,r=n.length,a=new Array(r),i=0;i<r;++i){for(var o,u=n[i],l=u.length,s=a[i]=new Array(l),c=0;c<l;++c)(o=u[c])&&(s[c]=o);s.sort(t)}return new en(a,this._parents).order()},call:function(){var e=arguments[0];return arguments[0]=this,e.apply(null,arguments),this},nodes:function(){return Array.from(this)},node:function(){for(var e=this._groups,t=0,n=e.length;t<n;++t)for(var r=e[t],a=0,i=r.length;a<i;++a){var o=r[a];if(o)return o}return null},size:function(){let e=0;for(const t of this)++e;return e},empty:function(){return!this.node()},each:function(e){for(var t=this._groups,n=0,r=t.length;n<r;++n)for(var a,i=t[n],o=0,u=i.length;o<u;++o)(a=i[o])&&e.call(a,a.__data__,o,i);return this},attr:function(e,t){var n=ft(e);if(arguments.length<2){var r=this.node();return n.local?r.getAttributeNS(n.space,n.local):r.getAttribute(n)}return this.each((null==t?n.local?pt:dt:\"function\"==typeof t?n.local?mt:vt:n.local?gt:ht)(n,t))},style:function(e,t,n){return arguments.length>1?this.each((null==t?bt:\"function\"==typeof t?_t:wt)(e,t,null==n?\"\":n)):function(e,t){return e.style.getPropertyValue(t)||yt(e).getComputedStyle(e,null).getPropertyValue(t)}(this.node(),e)},property:function(e,t){return arguments.length>1?this.each((null==t?kt:\"function\"==typeof t?St:xt)(e,t)):this.node()[e]},classed:function(e,t){var n=Et(e+\"\");if(arguments.length<2){for(var r=Ct(this.node()),a=-1,i=n.length;++a<i;)if(!r.contains(n[a]))return!1;return!0}return this.each((\"function\"==typeof t?At:t?Nt:Mt)(n,t))},text:function(e){return arguments.length?this.each(null==e?Ot:(\"function\"==typeof e?Ft:Lt)(e)):this.node().textContent},html:function(e){return arguments.length?this.each(null==e?Dt:(\"function\"==typeof e?jt:Rt)(e)):this.node().innerHTML},raise:function(){return this.each(Ut)},lower:function(){return this.each(It)},append:function(e){var t=\"function\"==typeof e?e:Ht(e);return this.select((function(){return this.appendChild(t.apply(this,arguments))}))},insert:function(e,t){var n=\"function\"==typeof e?e:Ht(e),r=null==t?Vt:\"function\"==typeof t?t:Ge(t);return this.select((function(){return this.insertBefore(n.apply(this,arguments),r.apply(this,arguments)||null)}))},remove:function(){return this.each(Wt)},clone:function(e){return this.select(e?Qt:qt)},datum:function(e){return arguments.length?this.property(\"__data__\",e):this.node().__data__},on:function(e,t,n){var r,a,i=function(e){return e.trim().split(/^|\\s+/).map((function(e){var t=\"\",n=e.indexOf(\".\");return n>=0&&(t=e.slice(n+1),e=e.slice(0,n)),{type:e,name:t}}))}(e+\"\"),o=i.length;if(!(arguments.length<2)){for(u=t?Gt:Yt,r=0;r<o;++r)this.each(u(i[r],t,n));return this}var u=this.node().__on;if(u)for(var l,s=0,c=u.length;s<c;++s)for(r=0,l=u[s];r<o;++r)if((a=i[r]).type===l.type&&a.name===l.name)return l.value},dispatch:function(e,t){return this.each((\"function\"==typeof t?Zt:Xt)(e,t))},[Symbol.iterator]:function*(){for(var e=this._groups,t=0,n=e.length;t<n;++t)for(var r,a=e[t],i=0,o=a.length;i<o;++i)(r=a[i])&&(yield r)}};var rn=1e-6;function an(e){return\"translate(\"+e+\",0)\"}function on(e){return\"translate(0,\"+e+\")\"}function un(e){return t=>+e(t)}function ln(e,t){return t=Math.max(0,e.bandwidth()-2*t)/2,e.round()&&(t=Math.round(t)),n=>+e(n)+t}function sn(){return!this.__axis}function cn(e,t){var n=[],r=null,a=null,i=6,o=6,u=3,l=\"undefined\"!=typeof window&&window.devicePixelRatio>1?0:.5,s=1===e||4===e?-1:1,c=4===e||2===e?\"x\":\"y\",f=1===e||3===e?an:on;function d(d){var p=null==r?t.ticks?t.ticks.apply(t,n):t.domain():r,h=null==a?t.tickFormat?t.tickFormat.apply(t,n):nn:a,g=Math.max(i,0)+u,v=t.range(),m=+v[0]+l,y=+v[v.length-1]+l,b=(t.bandwidth?ln:un)(t.copy(),l),w=d.selection?d.selection():d,_=w.selectAll(\".domain\").data([null]),k=w.selectAll(\".tick\").data(p,t).order(),x=k.exit(),S=k.enter().append(\"g\").attr(\"class\",\"tick\"),E=k.select(\"line\"),C=k.select(\"text\");_=_.merge(_.enter().insert(\"path\",\".tick\").attr(\"class\",\"domain\").attr(\"stroke\",\"currentColor\")),k=k.merge(S),E=E.merge(S.append(\"line\").attr(\"stroke\",\"currentColor\").attr(c+\"2\",s*i)),C=C.merge(S.append(\"text\").attr(\"fill\",\"currentColor\").attr(c,s*g).attr(\"dy\",1===e?\"0em\":3===e?\"0.71em\":\"0.32em\")),d!==w&&(_=_.transition(d),k=k.transition(d),E=E.transition(d),C=C.transition(d),x=x.transition(d).attr(\"opacity\",rn).attr(\"transform\",(function(e){return isFinite(e=b(e))?f(e+l):this.getAttribute(\"transform\")})),S.attr(\"opacity\",rn).attr(\"transform\",(function(e){var t=this.parentNode.__axis;return f((t&&isFinite(t=t(e))?t:b(e))+l)}))),x.remove(),_.attr(\"d\",4===e||2===e?o?\"M\"+s*o+\",\"+m+\"H\"+l+\"V\"+y+\"H\"+s*o:\"M\"+l+\",\"+m+\"V\"+y:o?\"M\"+m+\",\"+s*o+\"V\"+l+\"H\"+y+\"V\"+s*o:\"M\"+m+\",\"+l+\"H\"+y),k.attr(\"opacity\",1).attr(\"transform\",(function(e){return f(b(e)+l)})),E.attr(c+\"2\",s*i),C.attr(c,s*g).text(h),w.filter(sn).attr(\"fill\",\"none\").attr(\"font-size\",10).attr(\"font-family\",\"sans-serif\").attr(\"text-anchor\",2===e?\"start\":4===e?\"end\":\"middle\"),w.each((function(){this.__axis=b}))}return d.scale=function(e){return arguments.length?(t=e,d):t},d.ticks=function(){return n=Array.from(arguments),d},d.tickArguments=function(e){return arguments.length?(n=null==e?[]:Array.from(e),d):n.slice()},d.tickValues=function(e){return arguments.length?(r=null==e?null:Array.from(e),d):r&&r.slice()},d.tickFormat=function(e){return arguments.length?(a=e,d):a},d.tickSize=function(e){return arguments.length?(i=o=+e,d):i},d.tickSizeInner=function(e){return arguments.length?(i=+e,d):i},d.tickSizeOuter=function(e){return arguments.length?(o=+e,d):o},d.tickPadding=function(e){return arguments.length?(u=+e,d):u},d.offset=function(e){return arguments.length?(l=+e,d):l},d}function fn(e){return cn(3,e)}function dn(e){return function(){return e}}function pn(e){this._context=e}function hn(e){return new pn(e)}Array.prototype.slice,pn.prototype={areaStart:function(){this._line=0},areaEnd:function(){this._line=NaN},lineStart:function(){this._point=0},lineEnd:function(){(this._line||0!==this._line&&1===this._point)&&this._context.closePath(),this._line=1-this._line},point:function(e,t){switch(e=+e,t=+t,this._point){case 0:this._point=1,this._line?this._context.lineTo(e,t):this._context.moveTo(e,t);break;case 1:this._point=2;default:this._context.lineTo(e,t)}}};const gn=Math.PI,vn=2*gn,mn=1e-6,yn=vn-mn;function bn(e){this._+=e[0];for(let t=1,n=e.length;t<n;++t)this._+=arguments[t]+e[t]}class wn{constructor(e){this._x0=this._y0=this._x1=this._y1=null,this._=\"\",this._append=null==e?bn:function(e){let t=Math.floor(e);if(!(t>=0))throw new Error(`invalid digits: ${e}`);if(t>15)return bn;const n=10**t;return function(e){this._+=e[0];for(let t=1,r=e.length;t<r;++t)this._+=Math.round(arguments[t]*n)/n+e[t]}}(e)}moveTo(e,t){this._append`M${this._x0=this._x1=+e},${this._y0=this._y1=+t}`}closePath(){null!==this._x1&&(this._x1=this._x0,this._y1=this._y0,this._append`Z`)}lineTo(e,t){this._append`L${this._x1=+e},${this._y1=+t}`}quadraticCurveTo(e,t,n,r){this._append`Q${+e},${+t},${this._x1=+n},${this._y1=+r}`}bezierCurveTo(e,t,n,r,a,i){this._append`C${+e},${+t},${+n},${+r},${this._x1=+a},${this._y1=+i}`}arcTo(e,t,n,r,a){if(e=+e,t=+t,n=+n,r=+r,(a=+a)<0)throw new Error(`negative radius: ${a}`);let i=this._x1,o=this._y1,u=n-e,l=r-t,s=i-e,c=o-t,f=s*s+c*c;if(null===this._x1)this._append`M${this._x1=e},${this._y1=t}`;else if(f>mn)if(Math.abs(c*u-l*s)>mn&&a){let d=n-i,p=r-o,h=u*u+l*l,g=d*d+p*p,v=Math.sqrt(h),m=Math.sqrt(f),y=a*Math.tan((gn-Math.acos((h+f-g)/(2*v*m)))/2),b=y/m,w=y/v;Math.abs(b-1)>mn&&this._append`L${e+b*s},${t+b*c}`,this._append`A${a},${a},0,0,${+(c*d>s*p)},${this._x1=e+w*u},${this._y1=t+w*l}`}else this._append`L${this._x1=e},${this._y1=t}`}arc(e,t,n,r,a,i){if(e=+e,t=+t,i=!!i,(n=+n)<0)throw new Error(`negative radius: ${n}`);let o=n*Math.cos(r),u=n*Math.sin(r),l=e+o,s=t+u,c=1^i,f=i?r-a:a-r;null===this._x1?this._append`M${l},${s}`:(Math.abs(this._x1-l)>mn||Math.abs(this._y1-s)>mn)&&this._append`L${l},${s}`,n&&(f<0&&(f=f%vn+vn),f>yn?this._append`A${n},${n},0,1,${c},${e-o},${t-u}A${n},${n},0,1,${c},${this._x1=l},${this._y1=s}`:f>mn&&this._append`A${n},${n},0,${+(f>=gn)},${c},${this._x1=e+n*Math.cos(a)},${this._y1=t+n*Math.sin(a)}`)}rect(e,t,n,r){this._append`M${this._x0=this._x1=+e},${this._y0=this._y1=+t}h${n=+n}v${+r}h${-n}Z`}toString(){return this._}}function _n(e){return e[0]}function kn(e){return e[1]}function xn(e,t){var n=dn(!0),r=null,a=hn,i=null,o=function(e){let t=3;return e.digits=function(n){if(!arguments.length)return t;if(null==n)t=null;else{const e=Math.floor(n);if(!(e>=0))throw new RangeError(`invalid digits: ${n}`);t=e}return e},()=>new wn(t)}(u);function u(u){var l,s,c,f=(u=function(e){return\"object\"==typeof e&&\"length\"in e?e:Array.from(e)}(u)).length,d=!1;for(null==r&&(i=a(c=o())),l=0;l<=f;++l)!(l<f&&n(s=u[l],l,u))===d&&((d=!d)?i.lineStart():i.lineEnd()),d&&i.point(+e(s,l,u),+t(s,l,u));if(c)return i=null,c+\"\"||null}return e=\"function\"==typeof e?e:void 0===e?_n:dn(e),t=\"function\"==typeof t?t:void 0===t?kn:dn(t),u.x=function(t){return arguments.length?(e=\"function\"==typeof t?t:dn(+t),u):e},u.y=function(e){return arguments.length?(t=\"function\"==typeof e?e:dn(+e),u):t},u.defined=function(e){return arguments.length?(n=\"function\"==typeof e?e:dn(!!e),u):n},u.curve=function(e){return arguments.length?(a=e,null!=r&&(i=a(r)),u):a},u.context=function(e){return arguments.length?(null==e?r=i=null:i=a(r=e),u):r},u}function Sn(e){return Sn=\"function\"==typeof Symbol&&\"symbol\"==typeof Symbol.iterator?function(e){return typeof e}:function(e){return e&&\"function\"==typeof Symbol&&e.constructor===Symbol&&e!==Symbol.prototype?\"symbol\":typeof e},Sn(e)}function En(e,t){for(var n=0;n<t.length;n++){var r=t[n];r.enumerable=r.enumerable||!1,r.configurable=!0,\"value\"in r&&(r.writable=!0),Object.defineProperty(e,Cn(r.key),r)}}function Cn(e){var t=function(e){if(\"object\"!=Sn(e)||!e)return e;var t=e[Symbol.toPrimitive];if(void 0!==t){var n=t.call(e,\"string\");if(\"object\"!=Sn(n))return n;throw new TypeError(\"@@toPrimitive must return a primitive value.\")}return String(e)}(e);return\"symbol\"==Sn(t)?t:t+\"\"}function Tn(){try{var e=!Boolean.prototype.valueOf.call(Reflect.construct(Boolean,[],(function(){})))}catch(e){}return(Tn=function(){return!!e})()}function Pn(e){return Pn=Object.setPrototypeOf?Object.getPrototypeOf.bind():function(e){return e.__proto__||Object.getPrototypeOf(e)},Pn(e)}function zn(e,t){return zn=Object.setPrototypeOf?Object.setPrototypeOf.bind():function(e,t){return e.__proto__=t,e},zn(e,t)}var Nn=function(t){function n(){var e;return function(e,t){if(!(e instanceof t))throw new TypeError(\"Cannot call a class as a function\")}(this,n),e=function(e,t,n){return t=Pn(t),function(e,t){if(t&&(\"object\"==Sn(t)||\"function\"==typeof t))return t;if(void 0!==t)throw new TypeError(\"Derived constructors may only return object or undefined\");return function(e){if(void 0===e)throw new ReferenceError(\"this hasn't been initialised - super() hasn't been called\");return e}(e)}(e,Tn()?Reflect.construct(t,n||[],Pn(e).constructor):t.apply(e,n))}(this,n),window.lastAdditiveForceVisualizer=e,e.effectFormat=Ae(\".2\"),e.redraw=(0,je.debounce)((function(){return e.draw()}),200),e}return function(e,t){if(\"function\"!=typeof t&&null!==t)throw new TypeError(\"Super expression must either be null or a function\");e.prototype=Object.create(t&&t.prototype,{constructor:{value:e,writable:!0,configurable:!0}}),Object.defineProperty(e,\"prototype\",{writable:!1}),t&&zn(e,t)}(n,t),r=n,(a=[{key:\"componentDidMount\",value:function(){var e=this;this.mainGroup=this.svg.append(\"g\"),this.axisElement=this.mainGroup.append(\"g\").attr(\"transform\",\"translate(0,35)\").attr(\"class\",\"force-bar-axis\"),this.onTopGroup=this.svg.append(\"g\"),this.baseValueTitle=this.svg.append(\"text\"),this.joinPointLine=this.svg.append(\"line\"),this.joinPointLabelOutline=this.svg.append(\"text\"),this.joinPointLabel=this.svg.append(\"text\"),this.joinPointTitleLeft=this.svg.append(\"text\"),this.joinPointTitleLeftArrow=this.svg.append(\"text\"),this.joinPointTitle=this.svg.append(\"text\"),this.joinPointTitleRightArrow=this.svg.append(\"text\"),this.joinPointTitleRight=this.svg.append(\"text\"),this.hoverLabelBacking=this.svg.append(\"text\").attr(\"x\",10).attr(\"y\",20).attr(\"text-anchor\",\"middle\").attr(\"font-size\",12).attr(\"stroke\",\"#fff\").attr(\"fill\",\"#fff\").attr(\"stroke-width\",\"4\").attr(\"stroke-linejoin\",\"round\").text(\"\").on(\"mouseover\",(function(){e.hoverLabel.attr(\"opacity\",1),e.hoverLabelBacking.attr(\"opacity\",1)})).on(\"mouseout\",(function(){e.hoverLabel.attr(\"opacity\",0),e.hoverLabelBacking.attr(\"opacity\",0)})),this.hoverLabel=this.svg.append(\"text\").attr(\"x\",10).attr(\"y\",20).attr(\"text-anchor\",\"middle\").attr(\"font-size\",12).attr(\"fill\",\"#0f0\").text(\"\").on(\"mouseover\",(function(){e.hoverLabel.attr(\"opacity\",1),e.hoverLabelBacking.attr(\"opacity\",1)})).on(\"mouseout\",(function(){e.hoverLabel.attr(\"opacity\",0),e.hoverLabelBacking.attr(\"opacity\",0)}));var t=void 0;\"string\"==typeof this.props.plot_cmap?this.props.plot_cmap in Ue.colors?t=Ue.colors[this.props.plot_cmap]:(console.log(\"Invalid color map name, reverting to default.\"),t=Ue.colors.RdBu):Array.isArray(this.props.plot_cmap)&&(t=this.props.plot_cmap),this.colors=t.map((function(e){return Q(e)})),this.brighterColors=[1.45,1.6].map((function(t,n){return e.colors[n].brighter(t)})),this.colors.map((function(t,n){var r=e.svg.append(\"linearGradient\").attr(\"id\",\"linear-grad-\"+n).attr(\"x1\",\"0%\").attr(\"y1\",\"0%\").attr(\"x2\",\"0%\").attr(\"y2\",\"100%\");r.append(\"stop\").attr(\"offset\",\"0%\").attr(\"stop-color\",t).attr(\"stop-opacity\",.6),r.append(\"stop\").attr(\"offset\",\"100%\").attr(\"stop-color\",t).attr(\"stop-opacity\",0);var a=e.svg.append(\"linearGradient\").attr(\"id\",\"linear-backgrad-\"+n).attr(\"x1\",\"0%\").attr(\"y1\",\"0%\").attr(\"x2\",\"0%\").attr(\"y2\",\"100%\");a.append(\"stop\").attr(\"offset\",\"0%\").attr(\"stop-color\",t).attr(\"stop-opacity\",.5),a.append(\"stop\").attr(\"offset\",\"100%\").attr(\"stop-color\",t).attr(\"stop-opacity\",0)})),this.tickFormat=Ae(\",.4\"),this.scaleCentered=Re(),this.axis=fn().scale(this.scaleCentered).tickSizeInner(4).tickSizeOuter(0).tickFormat((function(t){return e.tickFormat(e.invLinkFunction(t))})).tickPadding(-18),window.addEventListener(\"resize\",this.redraw),window.setTimeout(this.redraw,50)}},{key:\"componentDidUpdate\",value:function(){this.draw()}},{key:\"draw\",value:function(){var e=this;(0,je.each)(this.props.featureNames,(function(t,n){e.props.features[n]&&(e.props.features[n].name=t)})),\"identity\"===this.props.link?this.invLinkFunction=function(t){return e.props.baseValue+t}:\"logit\"===this.props.link?this.invLinkFunction=function(t){return 1/(1+Math.exp(-(e.props.baseValue+t)))}:console.log(\"ERROR: Unrecognized link function: \",this.props.link);var t=this.svg.node().parentNode.offsetWidth;if(0==t)return setTimeout((function(){return e.draw(e.props)}),500);this.svg.style(\"height\",\"150px\"),this.svg.style(\"width\",t+\"px\");var n=(0,je.sortBy)(this.props.features,(function(e){return-1/(e.effect+1e-10)})),r=(0,je.sum)((0,je.map)(n,(function(e){return Math.abs(e.effect)}))),a=(0,je.sum)((0,je.map)((0,je.filter)(n,(function(e){return e.effect>0})),(function(e){return e.effect})))||0,i=(0,je.sum)((0,je.map)((0,je.filter)(n,(function(e){return e.effect<0})),(function(e){return-e.effect})))||0;this.domainSize=3*Math.max(a,i);var o=Re().domain([0,this.domainSize]).range([0,t]),u=t/2-o(i);this.scaleCentered.domain([-this.domainSize/2,this.domainSize/2]).range([0,t]).clamp(!0),this.axisElement.attr(\"transform\",\"translate(0,50)\").call(this.axis);var l,s,c,f=0;for(l=0;l<n.length;++l)n[l].x=f,n[l].effect<0&&void 0===s&&(s=f,c=l),f+=Math.abs(n[l].effect);void 0===s&&(s=f,c=l);var d=xn().x((function(e){return e[0]})).y((function(e){return e[1]})),p=function(t){return void 0!==t.value&&null!==t.value&&\"\"!==t.value?t.name+\" = \"+(isNaN(t.value)?t.value:e.tickFormat(t.value)):t.name};n=this.props.hideBars?[]:n;var h=this.mainGroup.selectAll(\".force-bar-blocks\").data(n);h.enter().append(\"path\").attr(\"class\",\"force-bar-blocks\").merge(h).attr(\"d\",(function(e,t){var n=o(e.x)+u,r=o(Math.abs(e.effect)),a=e.effect<0?-4:4,i=a;return t===c&&(a=0),t===c-1&&(i=0),d([[n,56],[n+r,56],[n+r+i,64.5],[n+r,73],[n,73],[n+a,64.5]])})).attr(\"fill\",(function(t){return t.effect>0?e.colors[0]:e.colors[1]})).on(\"mouseover\",(function(t){if(o(Math.abs(t.effect))<o(r)/50||o(Math.abs(t.effect))<10){var n=o(t.x)+u,a=o(Math.abs(t.effect));e.hoverLabel.attr(\"opacity\",1).attr(\"x\",n+a/2).attr(\"y\",50.5).attr(\"fill\",t.effect>0?e.colors[0]:e.colors[1]).text(p(t)),e.hoverLabelBacking.attr(\"opacity\",1).attr(\"x\",n+a/2).attr(\"y\",50.5).text(p(t))}})).on(\"mouseout\",(function(){e.hoverLabel.attr(\"opacity\",0),e.hoverLabelBacking.attr(\"opacity\",0)})),h.exit().remove();var g=(0,je.filter)(n,(function(e){return o(Math.abs(e.effect))>o(r)/50&&o(Math.abs(e.effect))>10})),v=this.onTopGroup.selectAll(\".force-bar-labels\").data(g);if(v.exit().remove(),v=v.enter().append(\"text\").attr(\"class\",\"force-bar-labels\").attr(\"font-size\",\"12px\").attr(\"y\",98).merge(v).text((function(t){return void 0!==t.value&&null!==t.value&&\"\"!==t.value?t.name+\" = \"+(isNaN(t.value)?t.value:e.tickFormat(t.value)):t.name})).attr(\"fill\",(function(t){return t.effect>0?e.colors[0]:e.colors[1]})).attr(\"stroke\",(function(e){return e.textWidth=Math.max(this.getComputedTextLength(),o(Math.abs(e.effect))-10),e.innerTextWidth=this.getComputedTextLength(),\"none\"})),this.filteredData=g,n.length>0){f=s+o.invert(5);for(var m=c;m<n.length;++m)n[m].textx=f,f+=o.invert(n[m].textWidth+10);f=s-o.invert(5);for(var y=c-1;y>=0;--y)n[y].textx=f,f-=o.invert(n[y].textWidth+10)}v.attr(\"x\",(function(e){return o(e.textx)+u+(e.effect>0?-e.textWidth/2:e.textWidth/2)})).attr(\"text-anchor\",\"middle\"),g=(0,je.filter)(g,(function(n){return o(n.textx)+u>e.props.labelMargin&&o(n.textx)+u<t-e.props.labelMargin})),this.filteredData2=g;var b=g.slice(),w=(0,je.findIndex)(n,g[0])-1;w>=0&&b.unshift(n[w]);var _=this.mainGroup.selectAll(\".force-bar-labelBacking\").data(g);_.enter().append(\"path\").attr(\"class\",\"force-bar-labelBacking\").attr(\"stroke\",\"none\").attr(\"opacity\",.2).merge(_).attr(\"d\",(function(e){return d([[o(e.x)+o(Math.abs(e.effect))+u,73],[(e.effect>0?o(e.textx):o(e.textx)+e.textWidth)+u+5,83],[(e.effect>0?o(e.textx):o(e.textx)+e.textWidth)+u+5,104],[(e.effect>0?o(e.textx)-e.textWidth:o(e.textx))+u-5,104],[(e.effect>0?o(e.textx)-e.textWidth:o(e.textx))+u-5,83],[o(e.x)+u,73]])})).attr(\"fill\",(function(e){return\"url(#linear-backgrad-\".concat(e.effect>0?0:1,\")\")})),_.exit().remove();var k=this.mainGroup.selectAll(\".force-bar-labelDividers\").data(g.slice(0,-1));k.enter().append(\"rect\").attr(\"class\",\"force-bar-labelDividers\").attr(\"height\",\"21px\").attr(\"width\",\"1px\").attr(\"y\",83).merge(k).attr(\"x\",(function(e){return(e.effect>0?o(e.textx):o(e.textx)+e.textWidth)+u+4.5})).attr(\"fill\",(function(e){return\"url(#linear-grad-\".concat(e.effect>0?0:1,\")\")})),k.exit().remove();var x=this.mainGroup.selectAll(\".force-bar-labelLinks\").data(g.slice(0,-1));x.enter().append(\"line\").attr(\"class\",\"force-bar-labelLinks\").attr(\"y1\",73).attr(\"y2\",83).attr(\"stroke-opacity\",.5).attr(\"stroke-width\",1).merge(x).attr(\"x1\",(function(e){return o(e.x)+o(Math.abs(e.effect))+u})).attr(\"x2\",(function(e){return(e.effect>0?o(e.textx):o(e.textx)+e.textWidth)+u+5})).attr(\"stroke\",(function(t){return t.effect>0?e.colors[0]:e.colors[1]})),x.exit().remove();var S=this.mainGroup.selectAll(\".force-bar-blockDividers\").data(n.slice(0,-1));S.enter().append(\"path\").attr(\"class\",\"force-bar-blockDividers\").attr(\"stroke-width\",2).attr(\"fill\",\"none\").merge(S).attr(\"d\",(function(e){var t=o(e.x)+o(Math.abs(e.effect))+u;return d([[t,56],[t+(e.effect<0?-4:4),64.5],[t,73]])})).attr(\"stroke\",(function(t,n){return c===n+1||Math.abs(t.effect)<1e-8?\"#rgba(0,0,0,0)\":t.effect>0?e.brighterColors[0]:e.brighterColors[1]})),S.exit().remove(),this.joinPointLine.attr(\"x1\",o(s)+u).attr(\"x2\",o(s)+u).attr(\"y1\",50).attr(\"y2\",56).attr(\"stroke\",\"#F2F2F2\").attr(\"stroke-width\",1).attr(\"opacity\",1),this.joinPointLabelOutline.attr(\"x\",o(s)+u).attr(\"y\",45).attr(\"color\",\"#fff\").attr(\"text-anchor\",\"middle\").attr(\"font-weight\",\"bold\").attr(\"stroke\",\"#fff\").attr(\"stroke-width\",6).text(Ae(\",.2f\")(this.invLinkFunction(s-i))).attr(\"opacity\",1),console.log(\"joinPoint\",s,u,50,i),this.joinPointLabel.attr(\"x\",o(s)+u).attr(\"y\",45).attr(\"text-anchor\",\"middle\").attr(\"font-weight\",\"bold\").attr(\"fill\",\"#000\").text(Ae(\",.2f\")(this.invLinkFunction(s-i))).attr(\"opacity\",1),this.joinPointTitle.attr(\"x\",o(s)+u).attr(\"y\",28).attr(\"text-anchor\",\"middle\").attr(\"font-size\",\"12\").attr(\"fill\",\"#000\").text(this.props.outNames[0]).attr(\"opacity\",.5),this.props.hideBars||(this.joinPointTitleLeft.attr(\"x\",o(s)+u-16).attr(\"y\",12).attr(\"text-anchor\",\"end\").attr(\"font-size\",\"13\").attr(\"fill\",this.colors[0]).text(\"higher\").attr(\"opacity\",1),this.joinPointTitleRight.attr(\"x\",o(s)+u+16).attr(\"y\",12).attr(\"text-anchor\",\"start\").attr(\"font-size\",\"13\").attr(\"fill\",this.colors[1]).text(\"lower\").attr(\"opacity\",1),this.joinPointTitleLeftArrow.attr(\"x\",o(s)+u+7).attr(\"y\",8).attr(\"text-anchor\",\"end\").attr(\"font-size\",\"13\").attr(\"fill\",this.colors[0]).text(\"→\").attr(\"opacity\",1),this.joinPointTitleRightArrow.attr(\"x\",o(s)+u-7).attr(\"y\",14).attr(\"text-anchor\",\"start\").attr(\"font-size\",\"13\").attr(\"fill\",this.colors[1]).text(\"←\").attr(\"opacity\",1)),this.props.hideBaseValueLabel||this.baseValueTitle.attr(\"x\",this.scaleCentered(0)).attr(\"y\",28).attr(\"text-anchor\",\"middle\").attr(\"font-size\",\"12\").attr(\"fill\",\"#000\").text(\"base value\").attr(\"opacity\",.5)}},{key:\"componentWillUnmount\",value:function(){window.removeEventListener(\"resize\",this.redraw)}},{key:\"render\",value:function(){var t=this;return e.createElement(\"svg\",{ref:function(e){return t.svg=tn(e)},style:{userSelect:\"none\",display:\"block\",fontFamily:\"arial\",sansSerif:!0}},e.createElement(\"style\",{dangerouslySetInnerHTML:{__html:\"\\n          .force-bar-axis path {\\n            fill: none;\\n            opacity: 0.4;\\n          }\\n          .force-bar-axis paths {\\n            display: none;\\n          }\\n          .tick line {\\n            stroke: #000;\\n            stroke-width: 1px;\\n            opacity: 0.4;\\n          }\\n          .tick text {\\n            fill: #000;\\n            opacity: 0.5;\\n            font-size: 12px;\\n            padding: 0px;\\n          }\"}}))}}])&&En(r.prototype,a),Object.defineProperty(r,\"prototype\",{writable:!1}),r;var r,a}(e.Component);Nn.defaultProps={plot_cmap:\"RdBu\"};const Mn=Nn,An=1e3,On=6e4,Ln=36e5,Fn=864e5,Dn=6048e5,Rn=31536e6,jn=new Date,Un=new Date;function In(e,t,n,r){function a(t){return e(t=0===arguments.length?new Date:new Date(+t)),t}return a.floor=t=>(e(t=new Date(+t)),t),a.ceil=n=>(e(n=new Date(n-1)),t(n,1),e(n),n),a.round=e=>{const t=a(e),n=a.ceil(e);return e-t<n-e?t:n},a.offset=(e,n)=>(t(e=new Date(+e),null==n?1:Math.floor(n)),e),a.range=(n,r,i)=>{const o=[];if(n=a.ceil(n),i=null==i?1:Math.floor(i),!(n<r&&i>0))return o;let u;do{o.push(u=new Date(+n)),t(n,i),e(n)}while(u<n&&n<r);return o},a.filter=n=>In((t=>{if(t>=t)for(;e(t),!n(t);)t.setTime(t-1)}),((e,r)=>{if(e>=e)if(r<0)for(;++r<=0;)for(;t(e,-1),!n(e););else for(;--r>=0;)for(;t(e,1),!n(e););})),n&&(a.count=(t,r)=>(jn.setTime(+t),Un.setTime(+r),e(jn),e(Un),Math.floor(n(jn,Un))),a.every=e=>(e=Math.floor(e),isFinite(e)&&e>0?e>1?a.filter(r?t=>r(t)%e==0:t=>a.count(0,t)%e==0):a:null)),a}const $n=In((()=>{}),((e,t)=>{e.setTime(+e+t)}),((e,t)=>t-e));$n.every=e=>(e=Math.floor(e),isFinite(e)&&e>0?e>1?In((t=>{t.setTime(Math.floor(t/e)*e)}),((t,n)=>{t.setTime(+t+n*e)}),((t,n)=>(n-t)/e)):$n:null),$n.range;const Bn=In((e=>{e.setTime(e-e.getMilliseconds())}),((e,t)=>{e.setTime(+e+t*An)}),((e,t)=>(t-e)/An),(e=>e.getUTCSeconds())),Hn=(Bn.range,In((e=>{e.setTime(e-e.getMilliseconds()-e.getSeconds()*An)}),((e,t)=>{e.setTime(+e+t*On)}),((e,t)=>(t-e)/On),(e=>e.getMinutes()))),Vn=(Hn.range,In((e=>{e.setUTCSeconds(0,0)}),((e,t)=>{e.setTime(+e+t*On)}),((e,t)=>(t-e)/On),(e=>e.getUTCMinutes()))),Wn=(Vn.range,In((e=>{e.setTime(e-e.getMilliseconds()-e.getSeconds()*An-e.getMinutes()*On)}),((e,t)=>{e.setTime(+e+t*Ln)}),((e,t)=>(t-e)/Ln),(e=>e.getHours()))),qn=(Wn.range,In((e=>{e.setUTCMinutes(0,0,0)}),((e,t)=>{e.setTime(+e+t*Ln)}),((e,t)=>(t-e)/Ln),(e=>e.getUTCHours()))),Qn=(qn.range,In((e=>e.setHours(0,0,0,0)),((e,t)=>e.setDate(e.getDate()+t)),((e,t)=>(t-e-(t.getTimezoneOffset()-e.getTimezoneOffset())*On)/Fn),(e=>e.getDate()-1))),Yn=(Qn.range,In((e=>{e.setUTCHours(0,0,0,0)}),((e,t)=>{e.setUTCDate(e.getUTCDate()+t)}),((e,t)=>(t-e)/Fn),(e=>e.getUTCDate()-1))),Gn=(Yn.range,In((e=>{e.setUTCHours(0,0,0,0)}),((e,t)=>{e.setUTCDate(e.getUTCDate()+t)}),((e,t)=>(t-e)/Fn),(e=>Math.floor(e/Fn))));function Kn(e){return In((t=>{t.setDate(t.getDate()-(t.getDay()+7-e)%7),t.setHours(0,0,0,0)}),((e,t)=>{e.setDate(e.getDate()+7*t)}),((e,t)=>(t-e-(t.getTimezoneOffset()-e.getTimezoneOffset())*On)/Dn))}Gn.range;const Xn=Kn(0),Zn=Kn(1),Jn=Kn(2),er=Kn(3),tr=Kn(4),nr=Kn(5),rr=Kn(6);function ar(e){return In((t=>{t.setUTCDate(t.getUTCDate()-(t.getUTCDay()+7-e)%7),t.setUTCHours(0,0,0,0)}),((e,t)=>{e.setUTCDate(e.getUTCDate()+7*t)}),((e,t)=>(t-e)/Dn))}Xn.range,Zn.range,Jn.range,er.range,tr.range,nr.range,rr.range;const ir=ar(0),or=ar(1),ur=ar(2),lr=ar(3),sr=ar(4),cr=ar(5),fr=ar(6),dr=(ir.range,or.range,ur.range,lr.range,sr.range,cr.range,fr.range,In((e=>{e.setDate(1),e.setHours(0,0,0,0)}),((e,t)=>{e.setMonth(e.getMonth()+t)}),((e,t)=>t.getMonth()-e.getMonth()+12*(t.getFullYear()-e.getFullYear())),(e=>e.getMonth()))),pr=(dr.range,In((e=>{e.setUTCDate(1),e.setUTCHours(0,0,0,0)}),((e,t)=>{e.setUTCMonth(e.getUTCMonth()+t)}),((e,t)=>t.getUTCMonth()-e.getUTCMonth()+12*(t.getUTCFullYear()-e.getUTCFullYear())),(e=>e.getUTCMonth()))),hr=(pr.range,In((e=>{e.setMonth(0,1),e.setHours(0,0,0,0)}),((e,t)=>{e.setFullYear(e.getFullYear()+t)}),((e,t)=>t.getFullYear()-e.getFullYear()),(e=>e.getFullYear())));hr.every=e=>isFinite(e=Math.floor(e))&&e>0?In((t=>{t.setFullYear(Math.floor(t.getFullYear()/e)*e),t.setMonth(0,1),t.setHours(0,0,0,0)}),((t,n)=>{t.setFullYear(t.getFullYear()+n*e)})):null,hr.range;const gr=In((e=>{e.setUTCMonth(0,1),e.setUTCHours(0,0,0,0)}),((e,t)=>{e.setUTCFullYear(e.getUTCFullYear()+t)}),((e,t)=>t.getUTCFullYear()-e.getUTCFullYear()),(e=>e.getUTCFullYear()));function vr(e,t,n,r,a,i){const o=[[Bn,1,An],[Bn,5,5e3],[Bn,15,15e3],[Bn,30,3e4],[i,1,On],[i,5,3e5],[i,15,9e5],[i,30,18e5],[a,1,Ln],[a,3,108e5],[a,6,216e5],[a,12,432e5],[r,1,Fn],[r,2,1728e5],[n,1,Dn],[t,1,2592e6],[t,3,7776e6],[e,1,Rn]];function u(t,n,r){const a=Math.abs(n-t)/r,i=d((([,,e])=>e)).right(o,a);if(i===o.length)return e.every(s(t/Rn,n/Rn,r));if(0===i)return $n.every(Math.max(s(t,n,r),1));const[u,l]=o[a/o[i-1][2]<o[i][2]/a?i-1:i];return u.every(l)}return[function(e,t,n){const r=t<e;r&&([e,t]=[t,e]);const a=n&&\"function\"==typeof n.range?n:u(e,t,n),i=a?a.range(e,+t+1):[];return r?i.reverse():i},u]}gr.every=e=>isFinite(e=Math.floor(e))&&e>0?In((t=>{t.setUTCFullYear(Math.floor(t.getUTCFullYear()/e)*e),t.setUTCMonth(0,1),t.setUTCHours(0,0,0,0)}),((t,n)=>{t.setUTCFullYear(t.getUTCFullYear()+n*e)})):null,gr.range;const[mr,yr]=vr(gr,pr,ir,Gn,qn,Vn),[br,wr]=vr(hr,dr,Xn,Qn,Wn,Hn);function _r(e){if(0<=e.y&&e.y<100){var t=new Date(-1,e.m,e.d,e.H,e.M,e.S,e.L);return t.setFullYear(e.y),t}return new Date(e.y,e.m,e.d,e.H,e.M,e.S,e.L)}function kr(e){if(0<=e.y&&e.y<100){var t=new Date(Date.UTC(-1,e.m,e.d,e.H,e.M,e.S,e.L));return t.setUTCFullYear(e.y),t}return new Date(Date.UTC(e.y,e.m,e.d,e.H,e.M,e.S,e.L))}function xr(e,t,n){return{y:e,m:t,d:n,H:0,M:0,S:0,L:0}}var Sr,Er,Cr,Tr={\"-\":\"\",_:\" \",0:\"0\"},Pr=/^\\s*\\d+/,zr=/^%/,Nr=/[\\\\^$*+?|[\\]().{}]/g;function Mr(e,t,n){var r=e<0?\"-\":\"\",a=(r?-e:e)+\"\",i=a.length;return r+(i<n?new Array(n-i+1).join(t)+a:a)}function Ar(e){return e.replace(Nr,\"\\\\$&\")}function Or(e){return new RegExp(\"^(?:\"+e.map(Ar).join(\"|\")+\")\",\"i\")}function Lr(e){return new Map(e.map(((e,t)=>[e.toLowerCase(),t])))}function Fr(e,t,n){var r=Pr.exec(t.slice(n,n+1));return r?(e.w=+r[0],n+r[0].length):-1}function Dr(e,t,n){var r=Pr.exec(t.slice(n,n+1));return r?(e.u=+r[0],n+r[0].length):-1}function Rr(e,t,n){var r=Pr.exec(t.slice(n,n+2));return r?(e.U=+r[0],n+r[0].length):-1}function jr(e,t,n){var r=Pr.exec(t.slice(n,n+2));return r?(e.V=+r[0],n+r[0].length):-1}function Ur(e,t,n){var r=Pr.exec(t.slice(n,n+2));return r?(e.W=+r[0],n+r[0].length):-1}function Ir(e,t,n){var r=Pr.exec(t.slice(n,n+4));return r?(e.y=+r[0],n+r[0].length):-1}function $r(e,t,n){var r=Pr.exec(t.slice(n,n+2));return r?(e.y=+r[0]+(+r[0]>68?1900:2e3),n+r[0].length):-1}function Br(e,t,n){var r=/^(Z)|([+-]\\d\\d)(?::?(\\d\\d))?/.exec(t.slice(n,n+6));return r?(e.Z=r[1]?0:-(r[2]+(r[3]||\"00\")),n+r[0].length):-1}function Hr(e,t,n){var r=Pr.exec(t.slice(n,n+1));return r?(e.q=3*r[0]-3,n+r[0].length):-1}function Vr(e,t,n){var r=Pr.exec(t.slice(n,n+2));return r?(e.m=r[0]-1,n+r[0].length):-1}function Wr(e,t,n){var r=Pr.exec(t.slice(n,n+2));return r?(e.d=+r[0],n+r[0].length):-1}function qr(e,t,n){var r=Pr.exec(t.slice(n,n+3));return r?(e.m=0,e.d=+r[0],n+r[0].length):-1}function Qr(e,t,n){var r=Pr.exec(t.slice(n,n+2));return r?(e.H=+r[0],n+r[0].length):-1}function Yr(e,t,n){var r=Pr.exec(t.slice(n,n+2));return r?(e.M=+r[0],n+r[0].length):-1}function Gr(e,t,n){var r=Pr.exec(t.slice(n,n+2));return r?(e.S=+r[0],n+r[0].length):-1}function Kr(e,t,n){var r=Pr.exec(t.slice(n,n+3));return r?(e.L=+r[0],n+r[0].length):-1}function Xr(e,t,n){var r=Pr.exec(t.slice(n,n+6));return r?(e.L=Math.floor(r[0]/1e3),n+r[0].length):-1}function Zr(e,t,n){var r=zr.exec(t.slice(n,n+1));return r?n+r[0].length:-1}function Jr(e,t,n){var r=Pr.exec(t.slice(n));return r?(e.Q=+r[0],n+r[0].length):-1}function ea(e,t,n){var r=Pr.exec(t.slice(n));return r?(e.s=+r[0],n+r[0].length):-1}function ta(e,t){return Mr(e.getDate(),t,2)}function na(e,t){return Mr(e.getHours(),t,2)}function ra(e,t){return Mr(e.getHours()%12||12,t,2)}function aa(e,t){return Mr(1+Qn.count(hr(e),e),t,3)}function ia(e,t){return Mr(e.getMilliseconds(),t,3)}function oa(e,t){return ia(e,t)+\"000\"}function ua(e,t){return Mr(e.getMonth()+1,t,2)}function la(e,t){return Mr(e.getMinutes(),t,2)}function sa(e,t){return Mr(e.getSeconds(),t,2)}function ca(e){var t=e.getDay();return 0===t?7:t}function fa(e,t){return Mr(Xn.count(hr(e)-1,e),t,2)}function da(e){var t=e.getDay();return t>=4||0===t?tr(e):tr.ceil(e)}function pa(e,t){return e=da(e),Mr(tr.count(hr(e),e)+(4===hr(e).getDay()),t,2)}function ha(e){return e.getDay()}function ga(e,t){return Mr(Zn.count(hr(e)-1,e),t,2)}function va(e,t){return Mr(e.getFullYear()%100,t,2)}function ma(e,t){return Mr((e=da(e)).getFullYear()%100,t,2)}function ya(e,t){return Mr(e.getFullYear()%1e4,t,4)}function ba(e,t){var n=e.getDay();return Mr((e=n>=4||0===n?tr(e):tr.ceil(e)).getFullYear()%1e4,t,4)}function wa(e){var t=e.getTimezoneOffset();return(t>0?\"-\":(t*=-1,\"+\"))+Mr(t/60|0,\"0\",2)+Mr(t%60,\"0\",2)}function _a(e,t){return Mr(e.getUTCDate(),t,2)}function ka(e,t){return Mr(e.getUTCHours(),t,2)}function xa(e,t){return Mr(e.getUTCHours()%12||12,t,2)}function Sa(e,t){return Mr(1+Yn.count(gr(e),e),t,3)}function Ea(e,t){return Mr(e.getUTCMilliseconds(),t,3)}function Ca(e,t){return Ea(e,t)+\"000\"}function Ta(e,t){return Mr(e.getUTCMonth()+1,t,2)}function Pa(e,t){return Mr(e.getUTCMinutes(),t,2)}function za(e,t){return Mr(e.getUTCSeconds(),t,2)}function Na(e){var t=e.getUTCDay();return 0===t?7:t}function Ma(e,t){return Mr(ir.count(gr(e)-1,e),t,2)}function Aa(e){var t=e.getUTCDay();return t>=4||0===t?sr(e):sr.ceil(e)}function Oa(e,t){return e=Aa(e),Mr(sr.count(gr(e),e)+(4===gr(e).getUTCDay()),t,2)}function La(e){return e.getUTCDay()}function Fa(e,t){return Mr(or.count(gr(e)-1,e),t,2)}function Da(e,t){return Mr(e.getUTCFullYear()%100,t,2)}function Ra(e,t){return Mr((e=Aa(e)).getUTCFullYear()%100,t,2)}function ja(e,t){return Mr(e.getUTCFullYear()%1e4,t,4)}function Ua(e,t){var n=e.getUTCDay();return Mr((e=n>=4||0===n?sr(e):sr.ceil(e)).getUTCFullYear()%1e4,t,4)}function Ia(){return\"+0000\"}function $a(){return\"%\"}function Ba(e){return+e}function Ha(e){return Math.floor(+e/1e3)}function Va(e){return new Date(e)}function Wa(e){return e instanceof Date?+e:+new Date(+e)}function qa(e,t,n,r,a,i,o,u,l,s){var c=we(),f=c.invert,d=c.domain,p=s(\".%L\"),h=s(\":%S\"),g=s(\"%I:%M\"),v=s(\"%I %p\"),m=s(\"%a %d\"),y=s(\"%b %d\"),b=s(\"%B\"),w=s(\"%Y\");function _(e){return(l(e)<e?p:u(e)<e?h:o(e)<e?g:i(e)<e?v:r(e)<e?a(e)<e?m:y:n(e)<e?b:w)(e)}return c.invert=function(e){return new Date(f(e))},c.domain=function(e){return arguments.length?d(Array.from(e,Wa)):d().map(Va)},c.ticks=function(t){var n=d();return e(n[0],n[n.length-1],null==t?10:t)},c.tickFormat=function(e,t){return null==t?_:s(t)},c.nice=function(e){var n=d();return e&&\"function\"==typeof e.range||(e=t(n[0],n[n.length-1],null==e?10:e)),e?d(function(e,t){var n,r=0,a=(e=e.slice()).length-1,i=e[r],o=e[a];return o<i&&(n=r,r=a,a=n,n=i,i=o,o=n),e[r]=t.floor(i),e[a]=t.ceil(o),e}(n,e)):c},c.copy=function(){return be(c,qa(e,t,n,r,a,i,o,u,l,s))},c}function Qa(){return _e.apply(qa(br,wr,hr,dr,Xn,Qn,Wn,Hn,Bn,Er).domain([new Date(2e3,0,1),new Date(2e3,0,2)]),arguments)}function Ya(e,t){var n=\"undefined\"!=typeof Symbol&&e[Symbol.iterator]||e[\"@@iterator\"];if(!n){if(Array.isArray(e)||(n=function(e,t){if(e){if(\"string\"==typeof e)return Ga(e,t);var n={}.toString.call(e).slice(8,-1);return\"Object\"===n&&e.constructor&&(n=e.constructor.name),\"Map\"===n||\"Set\"===n?Array.from(e):\"Arguments\"===n||/^(?:Ui|I)nt(?:8|16|32)(?:Clamped)?Array$/.test(n)?Ga(e,t):void 0}}(e))||t&&e&&\"number\"==typeof e.length){n&&(e=n);var r=0,a=function(){};return{s:a,n:function(){return r>=e.length?{done:!0}:{done:!1,value:e[r++]}},e:function(e){throw e},f:a}}throw new TypeError(\"Invalid attempt to iterate non-iterable instance.\\nIn order to be iterable, non-array objects must have a [Symbol.iterator]() method.\")}var i,o=!0,u=!1;return{s:function(){n=n.call(e)},n:function(){var e=n.next();return o=e.done,e},e:function(e){u=!0,i=e},f:function(){try{o||null==n.return||n.return()}finally{if(u)throw i}}}}function Ga(e,t){(null==t||t>e.length)&&(t=e.length);for(var n=0,r=Array(t);n<t;n++)r[n]=e[n];return r}function Ka(e){return Ka=\"function\"==typeof Symbol&&\"symbol\"==typeof Symbol.iterator?function(e){return typeof e}:function(e){return e&&\"function\"==typeof Symbol&&e.constructor===Symbol&&e!==Symbol.prototype?\"symbol\":typeof e},Ka(e)}function Xa(e,t){for(var n=0;n<t.length;n++){var r=t[n];r.enumerable=r.enumerable||!1,r.configurable=!0,\"value\"in r&&(r.writable=!0),Object.defineProperty(e,Za(r.key),r)}}function Za(e){var t=function(e){if(\"object\"!=Ka(e)||!e)return e;var t=e[Symbol.toPrimitive];if(void 0!==t){var n=t.call(e,\"string\");if(\"object\"!=Ka(n))return n;throw new TypeError(\"@@toPrimitive must return a primitive value.\")}return String(e)}(e);return\"symbol\"==Ka(t)?t:t+\"\"}function Ja(){try{var e=!Boolean.prototype.valueOf.call(Reflect.construct(Boolean,[],(function(){})))}catch(e){}return(Ja=function(){return!!e})()}function ei(e){return ei=Object.setPrototypeOf?Object.getPrototypeOf.bind():function(e){return e.__proto__||Object.getPrototypeOf(e)},ei(e)}function ti(e,t){return ti=Object.setPrototypeOf?Object.setPrototypeOf.bind():function(e,t){return e.__proto__=t,e},ti(e,t)}Sr=function(e){var t=e.dateTime,n=e.date,r=e.time,a=e.periods,i=e.days,o=e.shortDays,u=e.months,l=e.shortMonths,s=Or(a),c=Lr(a),f=Or(i),d=Lr(i),p=Or(o),h=Lr(o),g=Or(u),v=Lr(u),m=Or(l),y=Lr(l),b={a:function(e){return o[e.getDay()]},A:function(e){return i[e.getDay()]},b:function(e){return l[e.getMonth()]},B:function(e){return u[e.getMonth()]},c:null,d:ta,e:ta,f:oa,g:ma,G:ba,H:na,I:ra,j:aa,L:ia,m:ua,M:la,p:function(e){return a[+(e.getHours()>=12)]},q:function(e){return 1+~~(e.getMonth()/3)},Q:Ba,s:Ha,S:sa,u:ca,U:fa,V:pa,w:ha,W:ga,x:null,X:null,y:va,Y:ya,Z:wa,\"%\":$a},w={a:function(e){return o[e.getUTCDay()]},A:function(e){return i[e.getUTCDay()]},b:function(e){return l[e.getUTCMonth()]},B:function(e){return u[e.getUTCMonth()]},c:null,d:_a,e:_a,f:Ca,g:Ra,G:Ua,H:ka,I:xa,j:Sa,L:Ea,m:Ta,M:Pa,p:function(e){return a[+(e.getUTCHours()>=12)]},q:function(e){return 1+~~(e.getUTCMonth()/3)},Q:Ba,s:Ha,S:za,u:Na,U:Ma,V:Oa,w:La,W:Fa,x:null,X:null,y:Da,Y:ja,Z:Ia,\"%\":$a},_={a:function(e,t,n){var r=p.exec(t.slice(n));return r?(e.w=h.get(r[0].toLowerCase()),n+r[0].length):-1},A:function(e,t,n){var r=f.exec(t.slice(n));return r?(e.w=d.get(r[0].toLowerCase()),n+r[0].length):-1},b:function(e,t,n){var r=m.exec(t.slice(n));return r?(e.m=y.get(r[0].toLowerCase()),n+r[0].length):-1},B:function(e,t,n){var r=g.exec(t.slice(n));return r?(e.m=v.get(r[0].toLowerCase()),n+r[0].length):-1},c:function(e,n,r){return S(e,t,n,r)},d:Wr,e:Wr,f:Xr,g:$r,G:Ir,H:Qr,I:Qr,j:qr,L:Kr,m:Vr,M:Yr,p:function(e,t,n){var r=s.exec(t.slice(n));return r?(e.p=c.get(r[0].toLowerCase()),n+r[0].length):-1},q:Hr,Q:Jr,s:ea,S:Gr,u:Dr,U:Rr,V:jr,w:Fr,W:Ur,x:function(e,t,r){return S(e,n,t,r)},X:function(e,t,n){return S(e,r,t,n)},y:$r,Y:Ir,Z:Br,\"%\":Zr};function k(e,t){return function(n){var r,a,i,o=[],u=-1,l=0,s=e.length;for(n instanceof Date||(n=new Date(+n));++u<s;)37===e.charCodeAt(u)&&(o.push(e.slice(l,u)),null!=(a=Tr[r=e.charAt(++u)])?r=e.charAt(++u):a=\"e\"===r?\" \":\"0\",(i=t[r])&&(r=i(n,a)),o.push(r),l=u+1);return o.push(e.slice(l,u)),o.join(\"\")}}function x(e,t){return function(n){var r,a,i=xr(1900,void 0,1);if(S(i,e,n+=\"\",0)!=n.length)return null;if(\"Q\"in i)return new Date(i.Q);if(\"s\"in i)return new Date(1e3*i.s+(\"L\"in i?i.L:0));if(t&&!(\"Z\"in i)&&(i.Z=0),\"p\"in i&&(i.H=i.H%12+12*i.p),void 0===i.m&&(i.m=\"q\"in i?i.q:0),\"V\"in i){if(i.V<1||i.V>53)return null;\"w\"in i||(i.w=1),\"Z\"in i?(a=(r=kr(xr(i.y,0,1))).getUTCDay(),r=a>4||0===a?or.ceil(r):or(r),r=Yn.offset(r,7*(i.V-1)),i.y=r.getUTCFullYear(),i.m=r.getUTCMonth(),i.d=r.getUTCDate()+(i.w+6)%7):(a=(r=_r(xr(i.y,0,1))).getDay(),r=a>4||0===a?Zn.ceil(r):Zn(r),r=Qn.offset(r,7*(i.V-1)),i.y=r.getFullYear(),i.m=r.getMonth(),i.d=r.getDate()+(i.w+6)%7)}else(\"W\"in i||\"U\"in i)&&(\"w\"in i||(i.w=\"u\"in i?i.u%7:\"W\"in i?1:0),a=\"Z\"in i?kr(xr(i.y,0,1)).getUTCDay():_r(xr(i.y,0,1)).getDay(),i.m=0,i.d=\"W\"in i?(i.w+6)%7+7*i.W-(a+5)%7:i.w+7*i.U-(a+6)%7);return\"Z\"in i?(i.H+=i.Z/100|0,i.M+=i.Z%100,kr(i)):_r(i)}}function S(e,t,n,r){for(var a,i,o=0,u=t.length,l=n.length;o<u;){if(r>=l)return-1;if(37===(a=t.charCodeAt(o++))){if(a=t.charAt(o++),!(i=_[a in Tr?t.charAt(o++):a])||(r=i(e,n,r))<0)return-1}else if(a!=n.charCodeAt(r++))return-1}return r}return b.x=k(n,b),b.X=k(r,b),b.c=k(t,b),w.x=k(n,w),w.X=k(r,w),w.c=k(t,w),{format:function(e){var t=k(e+=\"\",b);return t.toString=function(){return e},t},parse:function(e){var t=x(e+=\"\",!1);return t.toString=function(){return e},t},utcFormat:function(e){var t=k(e+=\"\",w);return t.toString=function(){return e},t},utcParse:function(e){var t=x(e+=\"\",!0);return t.toString=function(){return e},t}}}({dateTime:\"%x, %X\",date:\"%-m/%-d/%Y\",time:\"%-I:%M:%S %p\",periods:[\"AM\",\"PM\"],days:[\"Sunday\",\"Monday\",\"Tuesday\",\"Wednesday\",\"Thursday\",\"Friday\",\"Saturday\"],shortDays:[\"Sun\",\"Mon\",\"Tue\",\"Wed\",\"Thu\",\"Fri\",\"Sat\"],months:[\"January\",\"February\",\"March\",\"April\",\"May\",\"June\",\"July\",\"August\",\"September\",\"October\",\"November\",\"December\"],shortMonths:[\"Jan\",\"Feb\",\"Mar\",\"Apr\",\"May\",\"Jun\",\"Jul\",\"Aug\",\"Sep\",\"Oct\",\"Nov\",\"Dec\"]}),Er=Sr.format,Cr=Sr.parse,Sr.utcFormat,Sr.utcParse;var ni=function(t){function n(){var e;return function(e,t){if(!(e instanceof t))throw new TypeError(\"Cannot call a class as a function\")}(this,n),e=function(e,t,n){return t=ei(t),function(e,t){if(t&&(\"object\"==Ka(t)||\"function\"==typeof t))return t;if(void 0!==t)throw new TypeError(\"Derived constructors may only return object or undefined\");return function(e){if(void 0===e)throw new ReferenceError(\"this hasn't been initialised - super() hasn't been called\");return e}(e)}(e,Ja()?Reflect.construct(t,n||[],ei(e).constructor):t.apply(e,n))}(this,n),window.lastAdditiveForceArrayVisualizer=e,e.topOffset=28,e.leftOffset=80,e.height=350,e.effectFormat=Ae(\".2\"),e.redraw=(0,je.debounce)((function(){return e.draw()}),200),e}return function(e,t){if(\"function\"!=typeof t&&null!==t)throw new TypeError(\"Super expression must either be null or a function\");e.prototype=Object.create(t&&t.prototype,{constructor:{value:e,writable:!0,configurable:!0}}),Object.defineProperty(e,\"prototype\",{writable:!1}),t&&ti(e,t)}(n,t),r=n,a=[{key:\"componentDidMount\",value:function(){var e=this;this.mainGroup=this.svg.append(\"g\"),this.onTopGroup=this.svg.append(\"g\"),this.xaxisElement=this.onTopGroup.append(\"g\").attr(\"transform\",\"translate(0,35)\").attr(\"class\",\"force-bar-array-xaxis\"),this.yaxisElement=this.onTopGroup.append(\"g\").attr(\"transform\",\"translate(0,35)\").attr(\"class\",\"force-bar-array-yaxis\"),this.hoverGroup1=this.svg.append(\"g\"),this.hoverGroup2=this.svg.append(\"g\"),this.baseValueTitle=this.svg.append(\"text\"),this.hoverLine=this.svg.append(\"line\"),this.hoverxOutline=this.svg.append(\"text\").attr(\"text-anchor\",\"middle\").attr(\"font-weight\",\"bold\").attr(\"fill\",\"#fff\").attr(\"stroke\",\"#fff\").attr(\"stroke-width\",\"6\").attr(\"font-size\",\"12px\"),this.hoverx=this.svg.append(\"text\").attr(\"text-anchor\",\"middle\").attr(\"font-weight\",\"bold\").attr(\"fill\",\"#000\").attr(\"font-size\",\"12px\"),this.hoverxTitle=this.svg.append(\"text\").attr(\"text-anchor\",\"middle\").attr(\"opacity\",.6).attr(\"font-size\",\"12px\"),this.hoveryOutline=this.svg.append(\"text\").attr(\"text-anchor\",\"end\").attr(\"font-weight\",\"bold\").attr(\"fill\",\"#fff\").attr(\"stroke\",\"#fff\").attr(\"stroke-width\",\"6\").attr(\"font-size\",\"12px\"),this.hovery=this.svg.append(\"text\").attr(\"text-anchor\",\"end\").attr(\"font-weight\",\"bold\").attr(\"fill\",\"#000\").attr(\"font-size\",\"12px\"),this.xlabel=this.wrapper.select(\".additive-force-array-xlabel\"),this.ylabel=this.wrapper.select(\".additive-force-array-ylabel\");var t=void 0;\"string\"==typeof this.props.plot_cmap?this.props.plot_cmap in Ue.colors?t=Ue.colors[this.props.plot_cmap]:(console.log(\"Invalid color map name, reverting to default.\"),t=Ue.colors.RdBu):Array.isArray(this.props.plot_cmap)&&(t=this.props.plot_cmap),this.colors=t.map((function(e){return Q(e)})),this.brighterColors=[1.45,1.6].map((function(t,n){return e.colors[n].brighter(t)}));var n=Ae(\",.4\");null!=this.props.ordering_keys&&null!=this.props.ordering_keys_time_format?(this.parseTime=Cr(this.props.ordering_keys_time_format),this.formatTime=Er(this.props.ordering_keys_time_format),this.xtickFormat=function(e){return\"object\"==Ka(e)?this.formatTime(e):n(e)}):(this.parseTime=null,this.formatTime=null,this.xtickFormat=n),this.xscale=Re(),this.xaxis=fn().scale(this.xscale).tickSizeInner(4).tickSizeOuter(0).tickFormat((function(t){return e.xtickFormat(t)})).tickPadding(-18),this.ytickFormat=n,this.yscale=Re(),this.yaxis=cn(4,undefined).scale(this.yscale).tickSizeInner(4).tickSizeOuter(0).tickFormat((function(t){return e.ytickFormat(e.invLinkFunction(t))})).tickPadding(2),this.xlabel.node().onchange=function(){return e.internalDraw()},this.ylabel.node().onchange=function(){return e.internalDraw()},this.svg.on(\"mousemove\",(function(t){return e.mouseMoved(t)})),this.svg.on(\"click\",(function(){return alert(\"This original index of the sample you clicked is \"+e.nearestExpIndex)})),this.svg.on(\"mouseout\",(function(t){return e.mouseOut(t)})),window.addEventListener(\"resize\",this.redraw),window.setTimeout(this.redraw,50)}},{key:\"componentDidUpdate\",value:function(){this.draw()}},{key:\"mouseOut\",value:function(){this.hoverLine.attr(\"display\",\"none\"),this.hoverx.attr(\"display\",\"none\"),this.hoverxOutline.attr(\"display\",\"none\"),this.hoverxTitle.attr(\"display\",\"none\"),this.hovery.attr(\"display\",\"none\"),this.hoveryOutline.attr(\"display\",\"none\"),this.hoverGroup1.attr(\"display\",\"none\"),this.hoverGroup2.attr(\"display\",\"none\")}},{key:\"mouseMoved\",value:function(e){var t,n,r=this;this.hoverLine.attr(\"display\",\"\"),this.hoverx.attr(\"display\",\"\"),this.hoverxOutline.attr(\"display\",\"\"),this.hoverxTitle.attr(\"display\",\"\"),this.hovery.attr(\"display\",\"\"),this.hoveryOutline.attr(\"display\",\"\"),this.hoverGroup1.attr(\"display\",\"\"),this.hoverGroup2.attr(\"display\",\"\");var a=function(e,t){if(e=function(e){let t;for(;t=e.sourceEvent;)e=t;return e}(e),void 0===t&&(t=e.currentTarget),t){var n=t.ownerSVGElement||t;if(n.createSVGPoint){var r=n.createSVGPoint();return r.x=e.clientX,r.y=e.clientY,[(r=r.matrixTransform(t.getScreenCTM().inverse())).x,r.y]}if(t.getBoundingClientRect){var a=t.getBoundingClientRect();return[e.clientX-a.left-t.clientLeft,e.clientY-a.top-t.clientTop]}}return[e.pageX,e.pageY]}(e,this.svg.node())[0];if(this.props.explanations){for(t=0;t<this.currExplanations.length;++t)(!n||Math.abs(n.xmapScaled-a)>Math.abs(this.currExplanations[t].xmapScaled-a))&&(n=this.currExplanations[t]);this.nearestExpIndex=n.origInd,this.hoverLine.attr(\"x1\",n.xmapScaled).attr(\"x2\",n.xmapScaled).attr(\"y1\",0+this.topOffset).attr(\"y2\",this.height),this.hoverx.attr(\"x\",n.xmapScaled).attr(\"y\",this.topOffset-5).text(this.xtickFormat(n.xmap)),this.hoverxOutline.attr(\"x\",n.xmapScaled).attr(\"y\",this.topOffset-5).text(this.xtickFormat(n.xmap)),this.hoverxTitle.attr(\"x\",n.xmapScaled).attr(\"y\",this.topOffset-18).text(n.count>1?n.count+\" averaged samples\":\"\"),this.hovery.attr(\"x\",this.leftOffset-6).attr(\"y\",n.joinPointy).text(this.ytickFormat(this.invLinkFunction(n.joinPoint))),this.hoveryOutline.attr(\"x\",this.leftOffset-6).attr(\"y\",n.joinPointy).text(this.ytickFormat(this.invLinkFunction(n.joinPoint)));for(var i,o,u=[],l=this.currPosOrderedFeatures.length-1;l>=0;--l){var s=this.currPosOrderedFeatures[l],c=n.features[s];o=5+(c.posyTop+c.posyBottom)/2,(!i||o-i>=15)&&c.posyTop-c.posyBottom>=6&&(u.push(c),i=o)}var f=[];i=void 0;var d,p=Ya(this.currNegOrderedFeatures);try{for(p.s();!(d=p.n()).done;){var h=d.value,g=n.features[h];o=5+(g.negyTop+g.negyBottom)/2,(!i||i-o>=15)&&g.negyTop-g.negyBottom>=6&&(f.push(g),i=o)}}catch(e){p.e(e)}finally{p.f()}var v=function(e){var t=\"\";return null!==e.value&&void 0!==e.value&&(t=\" = \"+(isNaN(e.value)?e.value:r.ytickFormat(e.value))),n.count>1?\"mean(\"+r.props.featureNames[e.ind]+\")\"+t:r.props.featureNames[e.ind]+t},m=this.hoverGroup1.selectAll(\".pos-values\").data(u);m.enter().append(\"text\").attr(\"class\",\"pos-values\").merge(m).attr(\"x\",n.xmapScaled+5).attr(\"y\",(function(e){return 4+(e.posyTop+e.posyBottom)/2})).attr(\"text-anchor\",\"start\").attr(\"font-size\",12).attr(\"stroke\",\"#fff\").attr(\"fill\",\"#fff\").attr(\"stroke-width\",\"4\").attr(\"stroke-linejoin\",\"round\").attr(\"opacity\",1).text(v),m.exit().remove();var y=this.hoverGroup2.selectAll(\".pos-values\").data(u);y.enter().append(\"text\").attr(\"class\",\"pos-values\").merge(y).attr(\"x\",n.xmapScaled+5).attr(\"y\",(function(e){return 4+(e.posyTop+e.posyBottom)/2})).attr(\"text-anchor\",\"start\").attr(\"font-size\",12).attr(\"fill\",this.colors[0]).text(v),y.exit().remove();var b=this.hoverGroup1.selectAll(\".neg-values\").data(f);b.enter().append(\"text\").attr(\"class\",\"neg-values\").merge(b).attr(\"x\",n.xmapScaled+5).attr(\"y\",(function(e){return 4+(e.negyTop+e.negyBottom)/2})).attr(\"text-anchor\",\"start\").attr(\"font-size\",12).attr(\"stroke\",\"#fff\").attr(\"fill\",\"#fff\").attr(\"stroke-width\",\"4\").attr(\"stroke-linejoin\",\"round\").attr(\"opacity\",1).text(v),b.exit().remove();var w=this.hoverGroup2.selectAll(\".neg-values\").data(f);w.enter().append(\"text\").attr(\"class\",\"neg-values\").merge(w).attr(\"x\",n.xmapScaled+5).attr(\"y\",(function(e){return 4+(e.negyTop+e.negyBottom)/2})).attr(\"text-anchor\",\"start\").attr(\"font-size\",12).attr(\"fill\",this.colors[1]).text(v),w.exit().remove()}}},{key:\"draw\",value:function(){var e=this;if(this.props.explanations&&0!==this.props.explanations.length){(0,je.each)(this.props.explanations,(function(e,t){return e.origInd=t}));var t,n={},r={},a={},i=Ya(this.props.explanations);try{for(i.s();!(t=i.n()).done;){var o=t.value;for(var u in o.features)void 0===n[u]&&(n[u]=0,r[u]=0,a[u]=0),o.features[u].effect>0?n[u]+=o.features[u].effect:r[u]-=o.features[u].effect,null!==o.features[u].value&&void 0!==o.features[u].value&&(a[u]+=1)}}catch(e){i.e(e)}finally{i.f()}this.usedFeatures=(0,je.sortBy)((0,je.keys)(n),(function(e){return-(n[e]+r[e])})),console.log(\"found \",this.usedFeatures.length,\" used features\"),this.posOrderedFeatures=(0,je.sortBy)(this.usedFeatures,(function(e){return n[e]})),this.negOrderedFeatures=(0,je.sortBy)(this.usedFeatures,(function(e){return-r[e]})),this.singleValueFeatures=(0,je.filter)(this.usedFeatures,(function(e){return a[e]>0}));var l=[\"sample order by similarity\",\"sample order by output value\",\"original sample ordering\"].concat(this.singleValueFeatures.map((function(t){return e.props.featureNames[t]})));null!=this.props.ordering_keys&&l.unshift(\"sample order by key\");var s=this.xlabel.selectAll(\"option\").data(l);s.enter().append(\"option\").merge(s).attr(\"value\",(function(e){return e})).text((function(e){return e})),s.exit().remove();var c=this.props.outNames[0]?this.props.outNames[0]:\"model output value\";(l=(0,je.map)(this.usedFeatures,(function(t){return[e.props.featureNames[t],e.props.featureNames[t]+\" effects\"]}))).unshift([\"model output value\",c]);var f=this.ylabel.selectAll(\"option\").data(l);f.enter().append(\"option\").merge(f).attr(\"value\",(function(e){return e[0]})).text((function(e){return e[1]})),f.exit().remove(),this.ylabel.style(\"top\",(this.height-10-this.topOffset)/2+this.topOffset+\"px\").style(\"left\",10-this.ylabel.node().offsetWidth/2+\"px\"),this.internalDraw()}}},{key:\"internalDraw\",value:function(){var e,t,n=this,r=Ya(this.props.explanations);try{for(r.s();!(e=r.n()).done;){var a,i=e.value,o=Ya(this.usedFeatures);try{for(o.s();!(a=o.n()).done;){var u=a.value;i.features.hasOwnProperty(u)||(i.features[u]={effect:0,value:0}),i.features[u].ind=u}}catch(e){o.e(e)}finally{o.f()}}}catch(e){r.e(e)}finally{r.f()}var l=this.xlabel.node().value,s=\"sample order by key\"===l&&null!=this.props.ordering_keys_time_format;if(this.xscale=s?Qa():Re(),this.xaxis.scale(this.xscale),\"sample order by similarity\"===l)t=(0,je.sortBy)(this.props.explanations,(function(e){return e.simIndex})),(0,je.each)(t,(function(e,t){return e.xmap=t}));else if(\"sample order by output value\"===l)t=(0,je.sortBy)(this.props.explanations,(function(e){return-e.outValue})),(0,je.each)(t,(function(e,t){return e.xmap=t}));else if(\"original sample ordering\"===l)t=(0,je.sortBy)(this.props.explanations,(function(e){return e.origInd})),(0,je.each)(t,(function(e,t){return e.xmap=t}));else if(\"sample order by key\"===l)t=this.props.explanations,s?(0,je.each)(t,(function(e,t){return e.xmap=n.parseTime(n.props.ordering_keys[t])})):(0,je.each)(t,(function(e,t){return e.xmap=n.props.ordering_keys[t]})),t=(0,je.sortBy)(t,(function(e){return e.xmap}));else{var c=(0,je.findKey)(this.props.featureNames,(function(e){return e===l}));(0,je.each)(this.props.explanations,(function(e,t){return e.xmap=e.features[c].value}));var f=(0,je.sortBy)(this.props.explanations,(function(e){return e.xmap})),d=(0,je.map)(f,(function(e){return e.xmap}));if(\"string\"==typeof d[0])return void alert(\"Ordering by category names is not yet supported.\");var p,h,g=(0,je.min)(d),v=((0,je.max)(d)-g)/100;t=[];for(var m=0;m<f.length;++m){var y=f[m];if(p&&!h&&y.xmap-p.xmap<=v||h&&y.xmap-h.xmap<=v){h||((h=(0,je.cloneDeep)(p)).count=1);var b,w=Ya(this.usedFeatures);try{for(w.s();!(b=w.n()).done;){var _=b.value;h.features[_].effect+=y.features[_].effect,h.features[_].value+=y.features[_].value}}catch(e){w.e(e)}finally{w.f()}h.count+=1}else if(p)if(h){var k,x=Ya(this.usedFeatures);try{for(x.s();!(k=x.n()).done;){var S=k.value;h.features[S].effect/=h.count,h.features[S].value/=h.count}}catch(e){x.e(e)}finally{x.f()}t.push(h),h=void 0}else t.push(p);p=y}p.xmap-t[t.length-1].xmap>v&&t.push(p)}this.currUsedFeatures=this.usedFeatures,this.currPosOrderedFeatures=this.posOrderedFeatures,this.currNegOrderedFeatures=this.negOrderedFeatures;var E=this.ylabel.node().value;if(\"model output value\"!==E){var C=t;t=(0,je.cloneDeep)(t);for(var T=(0,je.findKey)(this.props.featureNames,(function(e){return e===E})),P=0;P<t.length;++P){var z=t[P].features[T];t[P].features={},t[P].features[T]=z,C[P].remapped_version=t[P]}this.currUsedFeatures=[T],this.currPosOrderedFeatures=[T],this.currNegOrderedFeatures=[T]}this.currExplanations=t,\"identity\"===this.props.link?this.invLinkFunction=function(e){return n.props.baseValue+e}:\"logit\"===this.props.link?this.invLinkFunction=function(e){return 1/(1+Math.exp(-(n.props.baseValue+e)))}:console.log(\"ERROR: Unrecognized link function: \",this.props.link),this.predValues=(0,je.map)(t,(function(e){return(0,je.sum)((0,je.map)(e.features,(function(e){return e.effect})))}));var N=this.wrapper.node().offsetWidth;if(0==N)return setTimeout((function(){return n.draw(t)}),500);this.svg.style(\"height\",this.height+\"px\"),this.svg.style(\"width\",N+\"px\");var M=(0,je.map)(t,(function(e){return e.xmap}));this.xscale.domain([(0,je.min)(M),(0,je.max)(M)]).range([this.leftOffset,N]).clamp(!0),this.xaxisElement.attr(\"transform\",\"translate(0,\"+this.topOffset+\")\").call(this.xaxis);for(var A=0;A<this.currExplanations.length;++A)this.currExplanations[A].xmapScaled=this.xscale(this.currExplanations[A].xmap);for(var O=t.length,L=0,F=0;F<O;++F){var D=t[F].features,R=(0,je.sum)((0,je.map)((0,je.filter)(D,(function(e){return e.effect>0})),(function(e){return e.effect})))||0,j=(0,je.sum)((0,je.map)((0,je.filter)(D,(function(e){return e.effect<0})),(function(e){return-e.effect})))||0;L=Math.max(L,2.2*Math.max(R,j))}this.yscale.domain([-L/2,L/2]).range([this.height-10,this.topOffset]),this.yaxisElement.attr(\"transform\",\"translate(\"+this.leftOffset+\",0)\").call(this.yaxis);for(var U=0;U<O;++U){var I,$=t[U].features,B=-((0,je.sum)((0,je.map)((0,je.filter)($,(function(e){return e.effect<0})),(function(e){return-e.effect})))||0),H=void 0,V=Ya(this.currPosOrderedFeatures);try{for(V.s();!(I=V.n()).done;)$[H=I.value].posyTop=this.yscale(B),$[H].effect>0&&(B+=$[H].effect),$[H].posyBottom=this.yscale(B),$[H].ind=H}catch(e){V.e(e)}finally{V.f()}var W,q=B,Q=Ya(this.currNegOrderedFeatures);try{for(Q.s();!(W=Q.n()).done;)$[H=W.value].negyTop=this.yscale(B),$[H].effect<0&&(B-=$[H].effect),$[H].negyBottom=this.yscale(B)}catch(e){Q.e(e)}finally{Q.f()}t[U].joinPoint=q,t[U].joinPointy=this.yscale(q)}var Y=xn().x((function(e){return e[0]})).y((function(e){return e[1]})),G=this.mainGroup.selectAll(\".force-bar-array-area-pos\").data(this.currUsedFeatures);G.enter().append(\"path\").attr(\"class\",\"force-bar-array-area-pos\").merge(G).attr(\"d\",(function(e){var n=(0,je.map)((0,je.range)(O),(function(n){return[t[n].xmapScaled,t[n].features[e].posyTop]})),r=(0,je.map)((0,je.rangeRight)(O),(function(n){return[t[n].xmapScaled,t[n].features[e].posyBottom]}));return Y(n.concat(r))})).attr(\"fill\",this.colors[0]),G.exit().remove();var K=this.mainGroup.selectAll(\".force-bar-array-area-neg\").data(this.currUsedFeatures);K.enter().append(\"path\").attr(\"class\",\"force-bar-array-area-neg\").merge(K).attr(\"d\",(function(e){var n=(0,je.map)((0,je.range)(O),(function(n){return[t[n].xmapScaled,t[n].features[e].negyTop]})),r=(0,je.map)((0,je.rangeRight)(O),(function(n){return[t[n].xmapScaled,t[n].features[e].negyBottom]}));return Y(n.concat(r))})).attr(\"fill\",this.colors[1]),K.exit().remove();var X=this.mainGroup.selectAll(\".force-bar-array-divider-pos\").data(this.currUsedFeatures);X.enter().append(\"path\").attr(\"class\",\"force-bar-array-divider-pos\").merge(X).attr(\"d\",(function(e){var n=(0,je.map)((0,je.range)(O),(function(n){return[t[n].xmapScaled,t[n].features[e].posyBottom]}));return Y(n)})).attr(\"fill\",\"none\").attr(\"stroke-width\",1).attr(\"stroke\",(function(){return n.colors[0].brighter(1.2)})),X.exit().remove();var Z=this.mainGroup.selectAll(\".force-bar-array-divider-neg\").data(this.currUsedFeatures);Z.enter().append(\"path\").attr(\"class\",\"force-bar-array-divider-neg\").merge(Z).attr(\"d\",(function(e){var n=(0,je.map)((0,je.range)(O),(function(n){return[t[n].xmapScaled,t[n].features[e].negyTop]}));return Y(n)})).attr(\"fill\",\"none\").attr(\"stroke-width\",1).attr(\"stroke\",(function(){return n.colors[1].brighter(1.5)})),Z.exit().remove();for(var J=function(e,t,n,r,a){var i,o,u,l;\"pos\"===a?(i=e[n].features[t].posyBottom,o=e[n].features[t].posyTop):(i=e[n].features[t].negyBottom,o=e[n].features[t].negyTop);for(var s=n+1;s<=r;++s)\"pos\"===a?(u=e[s].features[t].posyBottom,l=e[s].features[t].posyTop):(u=e[s].features[t].negyBottom,l=e[s].features[t].negyTop),u>i&&(i=u),l<o&&(o=l);return{top:i,bottom:o}},ee=[],te=0,ne=[\"pos\",\"neg\"];te<ne.length;te++){var re,ae=ne[te],ie=Ya(this.currUsedFeatures);try{for(ie.s();!(re=ie.n()).done;)for(var oe=re.value,ue=0,le=0,se=0,ce={top:0,bottom:0},fe=void 0;le<O-1;){for(;se<100&&le<O-1;)++le,se=t[le].xmapScaled-t[ue].xmapScaled;for(ce=J(t,oe,ue,le,ae);ce.bottom-ce.top<20&&ue<le;)++ue,ce=J(t,oe,ue,le,ae);if(se=t[le].xmapScaled-t[ue].xmapScaled,ce.bottom-ce.top>=20&&se>=100){for(;le<O-1;){if(++le,!((fe=J(t,oe,ue,le,ae)).bottom-fe.top>20)){--le;break}ce=fe}se=t[le].xmapScaled-t[ue].xmapScaled,ee.push([(t[le].xmapScaled+t[ue].xmapScaled)/2,(ce.top+ce.bottom)/2,this.props.featureNames[oe]]);var de=t[le].xmapScaled;for(ue=le;de+100>t[ue].xmapScaled&&ue<O-1;)++ue;le=ue}}}catch(e){ie.e(e)}finally{ie.f()}}var pe=this.onTopGroup.selectAll(\".force-bar-array-flabels\").data(ee);pe.enter().append(\"text\").attr(\"class\",\"force-bar-array-flabels\").merge(pe).attr(\"x\",(function(e){return e[0]})).attr(\"y\",(function(e){return e[1]+4})).text((function(e){return e[2]})),pe.exit().remove()}},{key:\"componentWillUnmount\",value:function(){window.removeEventListener(\"resize\",this.redraw)}},{key:\"render\",value:function(){var t=this;return e.createElement(\"div\",{ref:function(e){return t.wrapper=tn(e)},style:{textAlign:\"center\"}},e.createElement(\"style\",{dangerouslySetInnerHTML:{__html:\"\\n          .force-bar-array-wrapper {\\n            text-align: center;\\n          }\\n          .force-bar-array-xaxis path {\\n            fill: none;\\n            opacity: 0.4;\\n          }\\n          .force-bar-array-xaxis .domain {\\n            opacity: 0;\\n          }\\n          .force-bar-array-xaxis paths {\\n            display: none;\\n          }\\n          .force-bar-array-yaxis path {\\n            fill: none;\\n            opacity: 0.4;\\n          }\\n          .force-bar-array-yaxis paths {\\n            display: none;\\n          }\\n          .tick line {\\n            stroke: #000;\\n            stroke-width: 1px;\\n            opacity: 0.4;\\n          }\\n          .tick text {\\n            fill: #000;\\n            opacity: 0.5;\\n            font-size: 12px;\\n            padding: 0px;\\n          }\\n          .force-bar-array-flabels {\\n            font-size: 12px;\\n            fill: #fff;\\n            text-anchor: middle;\\n          }\\n          .additive-force-array-xlabel {\\n            background: none;\\n            border: 1px solid #ccc;\\n            opacity: 0.5;\\n            margin-bottom: 0px;\\n            font-size: 12px;\\n            font-family: arial;\\n            margin-left: 80px;\\n            max-width: 300px;\\n          }\\n          .additive-force-array-xlabel:focus {\\n            outline: none;\\n          }\\n          .additive-force-array-ylabel {\\n            position: relative;\\n            top: 0px;\\n            left: 0px;\\n            transform: rotate(-90deg);\\n            background: none;\\n            border: 1px solid #ccc;\\n            opacity: 0.5;\\n            margin-bottom: 0px;\\n            font-size: 12px;\\n            font-family: arial;\\n            max-width: 150px;\\n          }\\n          .additive-force-array-ylabel:focus {\\n            outline: none;\\n          }\\n          .additive-force-array-hoverLine {\\n            stroke-width: 1px;\\n            stroke: #fff;\\n            opacity: 1;\\n          }\"}}),e.createElement(\"select\",{className:\"additive-force-array-xlabel\"}),e.createElement(\"div\",{style:{height:\"0px\",textAlign:\"left\"}},e.createElement(\"select\",{className:\"additive-force-array-ylabel\"})),e.createElement(\"svg\",{ref:function(e){return t.svg=tn(e)},style:{userSelect:\"none\",display:\"block\",fontFamily:\"arial\",sansSerif:!0}}))}}],a&&Xa(r.prototype,a),Object.defineProperty(r,\"prototype\",{writable:!1}),r;var r,a}(e.Component);ni.defaultProps={plot_cmap:\"RdBu\",ordering_keys:null,ordering_keys_time_format:null};const ri=ni;window.SHAP={SimpleListVisualizer:Qe,AdditiveForceVisualizer:Mn,AdditiveForceArrayVisualizer:ri,React:e,ReactDOM:n,ReactDom:{render:function(e,n){var r=t.createRoot(n);return r.render(e),r}}}})()})();\n",
       "</script>"
      ],
      "text/plain": [
       "<IPython.core.display.HTML object>"
      ]
     },
     "metadata": {},
     "output_type": "display_data"
    }
   ],
   "source": [
    "# calculate shap values\n",
    "import shap\n",
    "explainer = shap.Explainer(model)\n",
    "X_test_subset = X_test.sample(100, random_state=41)\n",
    "shap_values = explainer(X_test_subset)\n",
    "shap.summary_plot(shap_values, X_test_subset, plot_type=\"bar\", feature_names=X.columns)\n",
    "shap.summary_plot(shap_values, X_test_subset, feature_names=X.columns)\n",
    "shap.initjs()"
   ]
  }
 ],
 "metadata": {
  "kernelspec": {
   "display_name": ".venv",
   "language": "python",
   "name": "python3"
  },
  "language_info": {
   "codemirror_mode": {
    "name": "ipython",
    "version": 3
   },
   "file_extension": ".py",
   "mimetype": "text/x-python",
   "name": "python",
   "nbconvert_exporter": "python",
   "pygments_lexer": "ipython3",
   "version": "3.12.3"
  }
 },
 "nbformat": 4,
 "nbformat_minor": 5
}
