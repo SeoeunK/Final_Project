{
 "cells": [
  {
   "cell_type": "markdown",
   "id": "e17ddaa6",
   "metadata": {},
   "source": [
    "# Introduction"
   ]
  },
  {
   "cell_type": "markdown",
   "id": "1451ef8f",
   "metadata": {},
   "source": [
    "## Imports"
   ]
  },
  {
   "cell_type": "code",
   "execution_count": 34,
   "id": "93991d91",
   "metadata": {},
   "outputs": [
    {
     "name": "stdout",
     "output_type": "stream",
     "text": [
      "Requirement already satisfied: statsmodels in ./.venv/lib/python3.12/site-packages (0.14.4)\n",
      "Requirement already satisfied: numpy<3,>=1.22.3 in ./.venv/lib/python3.12/site-packages (from statsmodels) (2.1.3)\n",
      "Requirement already satisfied: scipy!=1.9.2,>=1.8 in ./.venv/lib/python3.12/site-packages (from statsmodels) (1.15.2)\n",
      "Requirement already satisfied: pandas!=2.1.0,>=1.4 in ./.venv/lib/python3.12/site-packages (from statsmodels) (2.2.3)\n",
      "Requirement already satisfied: patsy>=0.5.6 in ./.venv/lib/python3.12/site-packages (from statsmodels) (1.0.1)\n",
      "Requirement already satisfied: packaging>=21.3 in ./.venv/lib/python3.12/site-packages (from statsmodels) (24.2)\n",
      "Requirement already satisfied: python-dateutil>=2.8.2 in ./.venv/lib/python3.12/site-packages (from pandas!=2.1.0,>=1.4->statsmodels) (2.9.0.post0)\n",
      "Requirement already satisfied: pytz>=2020.1 in ./.venv/lib/python3.12/site-packages (from pandas!=2.1.0,>=1.4->statsmodels) (2025.2)\n",
      "Requirement already satisfied: tzdata>=2022.7 in ./.venv/lib/python3.12/site-packages (from pandas!=2.1.0,>=1.4->statsmodels) (2025.2)\n",
      "Requirement already satisfied: six>=1.5 in ./.venv/lib/python3.12/site-packages (from python-dateutil>=2.8.2->pandas!=2.1.0,>=1.4->statsmodels) (1.17.0)\n",
      "\n",
      "\u001b[1m[\u001b[0m\u001b[34;49mnotice\u001b[0m\u001b[1;39;49m]\u001b[0m\u001b[39;49m A new release of pip is available: \u001b[0m\u001b[31;49m25.0.1\u001b[0m\u001b[39;49m -> \u001b[0m\u001b[32;49m25.1\u001b[0m\n",
      "\u001b[1m[\u001b[0m\u001b[34;49mnotice\u001b[0m\u001b[1;39;49m]\u001b[0m\u001b[39;49m To update, run: \u001b[0m\u001b[32;49mpip install --upgrade pip\u001b[0m\n",
      "Requirement already satisfied: textstat in ./.venv/lib/python3.12/site-packages (0.7.5)\n",
      "Requirement already satisfied: pyphen in ./.venv/lib/python3.12/site-packages (from textstat) (0.17.2)\n",
      "Requirement already satisfied: cmudict in ./.venv/lib/python3.12/site-packages (from textstat) (1.0.32)\n",
      "Requirement already satisfied: setuptools in ./.venv/lib/python3.12/site-packages (from textstat) (78.1.0)\n",
      "Requirement already satisfied: importlib-metadata>=5 in ./.venv/lib/python3.12/site-packages (from cmudict->textstat) (8.6.1)\n",
      "Requirement already satisfied: importlib-resources>=5 in ./.venv/lib/python3.12/site-packages (from cmudict->textstat) (6.5.2)\n",
      "Requirement already satisfied: zipp>=3.20 in ./.venv/lib/python3.12/site-packages (from importlib-metadata>=5->cmudict->textstat) (3.21.0)\n",
      "\n",
      "\u001b[1m[\u001b[0m\u001b[34;49mnotice\u001b[0m\u001b[1;39;49m]\u001b[0m\u001b[39;49m A new release of pip is available: \u001b[0m\u001b[31;49m25.0.1\u001b[0m\u001b[39;49m -> \u001b[0m\u001b[32;49m25.1\u001b[0m\n",
      "\u001b[1m[\u001b[0m\u001b[34;49mnotice\u001b[0m\u001b[1;39;49m]\u001b[0m\u001b[39;49m To update, run: \u001b[0m\u001b[32;49mpip install --upgrade pip\u001b[0m\n",
      "Requirement already satisfied: textblob in ./.venv/lib/python3.12/site-packages (0.19.0)\n",
      "Requirement already satisfied: nltk>=3.9 in ./.venv/lib/python3.12/site-packages (from textblob) (3.9.1)\n",
      "Requirement already satisfied: click in ./.venv/lib/python3.12/site-packages (from nltk>=3.9->textblob) (8.1.8)\n",
      "Requirement already satisfied: joblib in ./.venv/lib/python3.12/site-packages (from nltk>=3.9->textblob) (1.4.2)\n",
      "Requirement already satisfied: regex>=2021.8.3 in ./.venv/lib/python3.12/site-packages (from nltk>=3.9->textblob) (2024.11.6)\n",
      "Requirement already satisfied: tqdm in ./.venv/lib/python3.12/site-packages (from nltk>=3.9->textblob) (4.67.1)\n",
      "\n",
      "\u001b[1m[\u001b[0m\u001b[34;49mnotice\u001b[0m\u001b[1;39;49m]\u001b[0m\u001b[39;49m A new release of pip is available: \u001b[0m\u001b[31;49m25.0.1\u001b[0m\u001b[39;49m -> \u001b[0m\u001b[32;49m25.1\u001b[0m\n",
      "\u001b[1m[\u001b[0m\u001b[34;49mnotice\u001b[0m\u001b[1;39;49m]\u001b[0m\u001b[39;49m To update, run: \u001b[0m\u001b[32;49mpip install --upgrade pip\u001b[0m\n"
     ]
    }
   ],
   "source": [
    "! pip install statsmodels\n",
    "! pip install textstat\n",
    "! pip install textblob"
   ]
  },
  {
   "cell_type": "code",
   "execution_count": 35,
   "id": "4ecf8af2",
   "metadata": {},
   "outputs": [],
   "source": [
    "import numpy as np\n",
    "import pandas as pd\n",
    "import matplotlib.pyplot as plt\n",
    "import statsmodels.api as sm\n",
    "import textstat\n",
    "from textblob import TextBlob"
   ]
  },
  {
   "cell_type": "markdown",
   "id": "861a93dc",
   "metadata": {},
   "source": [
    "## Import the dataset"
   ]
  },
  {
   "cell_type": "code",
   "execution_count": 36,
   "id": "2af1a4b4",
   "metadata": {},
   "outputs": [],
   "source": [
    "df_fake = pd.read_csv('data/Fake.csv')\n",
    "df_real = pd.read_csv('data/True.csv')"
   ]
  },
  {
   "cell_type": "markdown",
   "id": "b9206755",
   "metadata": {},
   "source": [
    "# Wrangling"
   ]
  },
  {
   "cell_type": "markdown",
   "id": "038d4706",
   "metadata": {},
   "source": [
    "## Functions"
   ]
  },
  {
   "cell_type": "markdown",
   "id": "069ac803",
   "metadata": {},
   "source": [
    "### Building a wrapper for subjectivity/objectivity\n",
    "\n",
    "the library we found for some of the functions doesn't work unless you initialize an object first so thats why we do this to apply the function"
   ]
  },
  {
   "cell_type": "code",
   "execution_count": 37,
   "id": "b9b8762e",
   "metadata": {},
   "outputs": [],
   "source": [
    "def subjectivity_objectivity(text):\n",
    "    blob = TextBlob(text)\n",
    "    return blob.sentiment.subjectivity\n",
    "\n",
    "def sentiment(text):\n",
    "    blob = TextBlob(text)\n",
    "    return blob.sentiment.polarity"
   ]
  },
  {
   "cell_type": "markdown",
   "id": "812369af",
   "metadata": {},
   "source": [
    "### build a dictinoary of functions and names\n",
    "\n",
    "do this to avoid redundant code during the runs for both dataframes. Could have avoided by just merging them but this is also cool"
   ]
  },
  {
   "cell_type": "code",
   "execution_count": 38,
   "id": "538d6461",
   "metadata": {},
   "outputs": [],
   "source": [
    "function_dict = {\n",
    "\n",
    "    # complexity approaches\n",
    "    'coleman_liau':textstat.coleman_liau_index,\n",
    "    'smog':textstat.smog_index,\n",
    "\n",
    "    # sentence length\n",
    "    'sentence_length':textstat.avg_sentence_length,\n",
    "\n",
    "    # subjectivity/objectivity\n",
    "    'subjectivity':subjectivity_objectivity,\n",
    "\n",
    "    # sentiment\n",
    "    'sentiment':sentiment\n",
    "\n",
    "\n",
    "}"
   ]
  },
  {
   "cell_type": "code",
   "execution_count": 39,
   "id": "8bf9ec24",
   "metadata": {},
   "outputs": [],
   "source": [
    "for df in [df_fake,df_real]:\n",
    "    for j in function_dict.keys():\n",
    "        df[j] = df['text'].apply(function_dict[j])"
   ]
  },
  {
   "cell_type": "markdown",
   "id": "04326df5",
   "metadata": {},
   "source": [
    "### Combine the dataframes"
   ]
  },
  {
   "cell_type": "code",
   "execution_count": 40,
   "id": "e3583d12",
   "metadata": {},
   "outputs": [],
   "source": [
    "df_fake['real'] = 0\n",
    "df_real['real'] = 1\n",
    "df = pd.concat([df_fake,df_real])\n",
    "df_save = df.copy()"
   ]
  },
  {
   "cell_type": "markdown",
   "id": "c585b946",
   "metadata": {},
   "source": [
    "### drop the non-classification targets"
   ]
  },
  {
   "cell_type": "code",
   "execution_count": 41,
   "id": "e14f2411",
   "metadata": {},
   "outputs": [
    {
     "data": {
      "application/vnd.microsoft.datawrangler.viewer.v0+json": {
       "columns": [
        {
         "name": "index",
         "rawType": "int64",
         "type": "integer"
        },
        {
         "name": "coleman_liau",
         "rawType": "float64",
         "type": "float"
        },
        {
         "name": "smog",
         "rawType": "float64",
         "type": "float"
        },
        {
         "name": "sentence_length",
         "rawType": "float64",
         "type": "float"
        },
        {
         "name": "subjectivity",
         "rawType": "float64",
         "type": "float"
        },
        {
         "name": "sentiment",
         "rawType": "float64",
         "type": "float"
        },
        {
         "name": "real",
         "rawType": "int64",
         "type": "integer"
        }
       ],
       "conversionMethod": "pd.DataFrame",
       "ref": "ba743e57-d0ae-4c0e-983c-3faa03c0a791",
       "rows": [
        [
         "0",
         "9.05",
         "11.8",
         "17.0",
         "0.5998951781970648",
         "0.08213169430150567",
         "0"
        ],
        [
         "1",
         "11.95",
         "12.9",
         "16.9",
         "0.3340983728914763",
         "-0.0050044782803403375",
         "0"
        ],
        [
         "2",
         "11.02",
         "11.7",
         "16.1",
         "0.5419692460317461",
         "-0.012344990079365074",
         "0"
        ],
        [
         "3",
         "11.19",
         "13.0",
         "17.6",
         "0.39408602150537636",
         "-0.023118279569892472",
         "0"
        ],
        [
         "4",
         "8.59",
         "11.5",
         "21.0",
         "0.4952222222222222",
         "-0.011722222222222238",
         "0"
        ],
        [
         "5",
         "8.53",
         "11.3",
         "19.5",
         "0.502536231884058",
         "0.004710144927536229",
         "0"
        ],
        [
         "6",
         "11.26",
         "13.1",
         "18.5",
         "0.40539215686274505",
         "-0.037729779411764724",
         "0"
        ],
        [
         "7",
         "10.98",
         "15.0",
         "28.9",
         "0.30791467304625203",
         "0.042045454545454546",
         "0"
        ],
        [
         "8",
         "11.67",
         "15.7",
         "25.4",
         "0.5091791979949875",
         "0.04295112781954887",
         "0"
        ],
        [
         "9",
         "9.05",
         "11.4",
         "16.8",
         "0.515224358974359",
         "0.09134615384615384",
         "0"
        ],
        [
         "10",
         "8.88",
         "12.4",
         "22.4",
         "0.3476984126984126",
         "0.033730158730158735",
         "0"
        ],
        [
         "11",
         "10.91",
         "13.5",
         "24.8",
         "0.41963383838383833",
         "0.14283459595959597",
         "0"
        ],
        [
         "12",
         "9.1",
         "12.0",
         "14.4",
         "0.4925896900034831",
         "0.10039184952978057",
         "0"
        ],
        [
         "13",
         "7.94",
         "11.0",
         "16.7",
         "0.5277777777777778",
         "0.05462962962962963",
         "0"
        ],
        [
         "14",
         "7.71",
         "10.2",
         "15.2",
         "0.5310892810892812",
         "0.0982868982868983",
         "0"
        ],
        [
         "15",
         "9.11",
         "11.9",
         "20.5",
         "0.5610714285714284",
         "0.056215277777777795",
         "0"
        ],
        [
         "16",
         "13.11",
         "13.4",
         "19.0",
         "0.36659700452803906",
         "0.027938871473354235",
         "0"
        ],
        [
         "17",
         "13.29",
         "13.1",
         "18.2",
         "0.4073412698412698",
         "-0.03933531746031746",
         "0"
        ],
        [
         "18",
         "9.4",
         "13.1",
         "20.7",
         "0.4923370927318297",
         "0.12647072226019593",
         "0"
        ],
        [
         "19",
         "12.18",
         "11.9",
         "15.5",
         "0.5927460317460317",
         "0.14561904761904765",
         "0"
        ],
        [
         "20",
         "10.33",
         "13.0",
         "21.6",
         "0.5827777777777778",
         "0.11805555555555554",
         "0"
        ],
        [
         "21",
         "10.15",
         "12.0",
         "17.0",
         "0.525952380952381",
         "0.06714285714285713",
         "0"
        ],
        [
         "22",
         "11.6",
         "12.8",
         "16.3",
         "0.44816017316017315",
         "0.1462121212121212",
         "0"
        ],
        [
         "23",
         "10.33",
         "13.4",
         "19.3",
         "0.458531746031746",
         "0.0806795634920635",
         "0"
        ],
        [
         "24",
         "10.96",
         "11.0",
         "16.9",
         "0.4",
         "0.025",
         "0"
        ],
        [
         "25",
         "9.45",
         "11.4",
         "17.7",
         "0.4800728715728716",
         "0.03617821067821067",
         "0"
        ],
        [
         "26",
         "9.4",
         "12.9",
         "20.6",
         "0.4708367346938776",
         "-0.028285714285714296",
         "0"
        ],
        [
         "27",
         "10.97",
         "14.0",
         "20.1",
         "0.38722600151171577",
         "-0.08847316704459562",
         "0"
        ],
        [
         "28",
         "12.71",
         "14.1",
         "22.1",
         "0.28214285714285714",
         "0.06321428571428571",
         "0"
        ],
        [
         "29",
         "9.85",
         "11.1",
         "14.5",
         "0.46471861471861486",
         "0.15996436223708949",
         "0"
        ],
        [
         "30",
         "9.75",
         "11.5",
         "18.9",
         "0.5476190476190477",
         "0.15714285714285714",
         "0"
        ],
        [
         "31",
         "11.2",
         "13.7",
         "21.1",
         "0.36466450216450214",
         "-0.008979500891265596",
         "0"
        ],
        [
         "32",
         "12.83",
         "15.8",
         "23.0",
         "0.28818342151675486",
         "0.06613756613756615",
         "0"
        ],
        [
         "33",
         "10.5",
         "13.1",
         "17.7",
         "0.37061403508771934",
         "0.011403508771929827",
         "0"
        ],
        [
         "34",
         "10.5",
         "11.8",
         "16.2",
         "0.2947899159663865",
         "0.004369747899159656",
         "0"
        ],
        [
         "35",
         "9.98",
         "13.0",
         "18.8",
         "0.5359375",
         "-0.0078125",
         "0"
        ],
        [
         "36",
         "10.39",
         "13.4",
         "19.9",
         "0.41728410478410477",
         "0.11031954156954157",
         "0"
        ],
        [
         "37",
         "9.76",
         "14.8",
         "33.9",
         "0.46230063795853266",
         "0.017758173843700157",
         "0"
        ],
        [
         "38",
         "11.96",
         "13.9",
         "23.1",
         "0.6413917163917164",
         "-0.06967868842868842",
         "0"
        ],
        [
         "39",
         "10.95",
         "12.0",
         "14.5",
         "0.43672954030096894",
         "-0.027089131106988237",
         "0"
        ],
        [
         "40",
         "9.27",
         "12.7",
         "14.9",
         "0.48024553571428574",
         "-0.012909226190476193",
         "0"
        ],
        [
         "41",
         "8.48",
         "12.0",
         "23.0",
         "0.41376698014629054",
         "0.13143939393939394",
         "0"
        ],
        [
         "42",
         "11.89",
         "13.8",
         "18.2",
         "0.39423583662714096",
         "-0.10009881422924899",
         "0"
        ],
        [
         "43",
         "9.8",
         "11.9",
         "16.0",
         "0.44305555555555554",
         "-0.06822916666666666",
         "0"
        ],
        [
         "44",
         "9.58",
         "13.1",
         "22.3",
         "0.6248511904761905",
         "0.18827110389610388",
         "0"
        ],
        [
         "45",
         "11.67",
         "14.3",
         "23.0",
         "0.3166937229437229",
         "-0.04439333814333817",
         "0"
        ],
        [
         "46",
         "10.21",
         "12.9",
         "19.7",
         "0.5192780337941628",
         "0.09873271889400922",
         "0"
        ],
        [
         "47",
         "9.34",
         "12.0",
         "18.9",
         "0.5419712885154062",
         "0.0857545518207283",
         "0"
        ],
        [
         "48",
         "9.99",
         "15.6",
         "28.0",
         "0.43279279279279287",
         "0.12583333333333335",
         "0"
        ],
        [
         "49",
         "9.17",
         "12.8",
         "18.8",
         "0.43290984377940905",
         "0.020525127046866168",
         "0"
        ]
       ],
       "shape": {
        "columns": 6,
        "rows": 44898
       }
      },
      "text/html": [
       "<div>\n",
       "<style scoped>\n",
       "    .dataframe tbody tr th:only-of-type {\n",
       "        vertical-align: middle;\n",
       "    }\n",
       "\n",
       "    .dataframe tbody tr th {\n",
       "        vertical-align: top;\n",
       "    }\n",
       "\n",
       "    .dataframe thead th {\n",
       "        text-align: right;\n",
       "    }\n",
       "</style>\n",
       "<table border=\"1\" class=\"dataframe\">\n",
       "  <thead>\n",
       "    <tr style=\"text-align: right;\">\n",
       "      <th></th>\n",
       "      <th>coleman_liau</th>\n",
       "      <th>smog</th>\n",
       "      <th>sentence_length</th>\n",
       "      <th>subjectivity</th>\n",
       "      <th>sentiment</th>\n",
       "      <th>real</th>\n",
       "    </tr>\n",
       "  </thead>\n",
       "  <tbody>\n",
       "    <tr>\n",
       "      <th>0</th>\n",
       "      <td>9.05</td>\n",
       "      <td>11.8</td>\n",
       "      <td>17.0</td>\n",
       "      <td>0.599895</td>\n",
       "      <td>0.082132</td>\n",
       "      <td>0</td>\n",
       "    </tr>\n",
       "    <tr>\n",
       "      <th>1</th>\n",
       "      <td>11.95</td>\n",
       "      <td>12.9</td>\n",
       "      <td>16.9</td>\n",
       "      <td>0.334098</td>\n",
       "      <td>-0.005004</td>\n",
       "      <td>0</td>\n",
       "    </tr>\n",
       "    <tr>\n",
       "      <th>2</th>\n",
       "      <td>11.02</td>\n",
       "      <td>11.7</td>\n",
       "      <td>16.1</td>\n",
       "      <td>0.541969</td>\n",
       "      <td>-0.012345</td>\n",
       "      <td>0</td>\n",
       "    </tr>\n",
       "    <tr>\n",
       "      <th>3</th>\n",
       "      <td>11.19</td>\n",
       "      <td>13.0</td>\n",
       "      <td>17.6</td>\n",
       "      <td>0.394086</td>\n",
       "      <td>-0.023118</td>\n",
       "      <td>0</td>\n",
       "    </tr>\n",
       "    <tr>\n",
       "      <th>4</th>\n",
       "      <td>8.59</td>\n",
       "      <td>11.5</td>\n",
       "      <td>21.0</td>\n",
       "      <td>0.495222</td>\n",
       "      <td>-0.011722</td>\n",
       "      <td>0</td>\n",
       "    </tr>\n",
       "    <tr>\n",
       "      <th>...</th>\n",
       "      <td>...</td>\n",
       "      <td>...</td>\n",
       "      <td>...</td>\n",
       "      <td>...</td>\n",
       "      <td>...</td>\n",
       "      <td>...</td>\n",
       "    </tr>\n",
       "    <tr>\n",
       "      <th>21412</th>\n",
       "      <td>11.43</td>\n",
       "      <td>13.2</td>\n",
       "      <td>19.9</td>\n",
       "      <td>0.447884</td>\n",
       "      <td>0.219279</td>\n",
       "      <td>1</td>\n",
       "    </tr>\n",
       "    <tr>\n",
       "      <th>21413</th>\n",
       "      <td>13.05</td>\n",
       "      <td>13.8</td>\n",
       "      <td>20.7</td>\n",
       "      <td>0.077778</td>\n",
       "      <td>0.022222</td>\n",
       "      <td>1</td>\n",
       "    </tr>\n",
       "    <tr>\n",
       "      <th>21414</th>\n",
       "      <td>11.26</td>\n",
       "      <td>14.1</td>\n",
       "      <td>19.9</td>\n",
       "      <td>0.426609</td>\n",
       "      <td>0.054382</td>\n",
       "      <td>1</td>\n",
       "    </tr>\n",
       "    <tr>\n",
       "      <th>21415</th>\n",
       "      <td>10.51</td>\n",
       "      <td>13.0</td>\n",
       "      <td>22.7</td>\n",
       "      <td>0.377753</td>\n",
       "      <td>0.021993</td>\n",
       "      <td>1</td>\n",
       "    </tr>\n",
       "    <tr>\n",
       "      <th>21416</th>\n",
       "      <td>13.29</td>\n",
       "      <td>14.2</td>\n",
       "      <td>18.9</td>\n",
       "      <td>0.194372</td>\n",
       "      <td>0.019264</td>\n",
       "      <td>1</td>\n",
       "    </tr>\n",
       "  </tbody>\n",
       "</table>\n",
       "<p>44898 rows × 6 columns</p>\n",
       "</div>"
      ],
      "text/plain": [
       "       coleman_liau  smog  sentence_length  subjectivity  sentiment  real\n",
       "0              9.05  11.8             17.0      0.599895   0.082132     0\n",
       "1             11.95  12.9             16.9      0.334098  -0.005004     0\n",
       "2             11.02  11.7             16.1      0.541969  -0.012345     0\n",
       "3             11.19  13.0             17.6      0.394086  -0.023118     0\n",
       "4              8.59  11.5             21.0      0.495222  -0.011722     0\n",
       "...             ...   ...              ...           ...        ...   ...\n",
       "21412         11.43  13.2             19.9      0.447884   0.219279     1\n",
       "21413         13.05  13.8             20.7      0.077778   0.022222     1\n",
       "21414         11.26  14.1             19.9      0.426609   0.054382     1\n",
       "21415         10.51  13.0             22.7      0.377753   0.021993     1\n",
       "21416         13.29  14.2             18.9      0.194372   0.019264     1\n",
       "\n",
       "[44898 rows x 6 columns]"
      ]
     },
     "execution_count": 41,
     "metadata": {},
     "output_type": "execute_result"
    }
   ],
   "source": [
    "df = df.drop(columns=['title','text','subject','date'])\n",
    "df"
   ]
  },
  {
   "cell_type": "code",
   "execution_count": 42,
   "id": "4b34fad0",
   "metadata": {},
   "outputs": [
    {
     "data": {
      "text/plain": [
       "coleman_liau       float64\n",
       "smog               float64\n",
       "sentence_length    float64\n",
       "subjectivity       float64\n",
       "sentiment          float64\n",
       "real                 int64\n",
       "dtype: object"
      ]
     },
     "execution_count": 42,
     "metadata": {},
     "output_type": "execute_result"
    }
   ],
   "source": [
    "df.dtypes"
   ]
  },
  {
   "cell_type": "markdown",
   "id": "2a4822f5",
   "metadata": {},
   "source": [
    "## EDA"
   ]
  },
  {
   "cell_type": "markdown",
   "id": "b29bb8e0",
   "metadata": {},
   "source": [
    "### PCA Graph by Class\n",
    "\n",
    "looks like there are some clear outliers in this dataset"
   ]
  },
  {
   "cell_type": "code",
   "execution_count": 43,
   "id": "b21a167e",
   "metadata": {},
   "outputs": [
    {
     "data": {
      "text/plain": [
       "<matplotlib.collections.PathCollection at 0x29e5d3500>"
      ]
     },
     "execution_count": 43,
     "metadata": {},
     "output_type": "execute_result"
    },
    {
     "data": {
      "image/png": "[encoded data removed]",
      "text/plain": [
       "<Figure size 640x480 with 1 Axes>"
      ]
     },
     "metadata": {},
     "output_type": "display_data"
    }
   ],
   "source": [
    "from sklearn.decomposition import PCA\n",
    "from sklearn.preprocessing import StandardScaler\n",
    "\n",
    "# drop the real column\n",
    "df_X = df.copy().drop(columns=['real'])\n",
    "df_y = df.copy()['real']\n",
    "\n",
    "# reassign (has no actual use)\n",
    "X = np.array(df_X)\n",
    "y=np.array(df_y)\n",
    "\n",
    "# scale the data\n",
    "scaler = StandardScaler()\n",
    "X = scaler.fit_transform(X)\n",
    "\n",
    "# apply the pca\n",
    "pca = PCA(n_components=2)\n",
    "pca.fit(X)\n",
    "X_pca = pca.transform(X)\n",
    "\n",
    "# wrangle the data\n",
    "X_pca_df = pd.DataFrame(data=X_pca, columns=['pc1', 'pc2'])\n",
    "final_df = pd.concat([X_pca_df, pd.DataFrame(y, columns=['real'])], axis=1)\n",
    "# final_df = final_df.sample(frac=1).reset_index(drop=True)\n",
    "\n",
    "# plot\n",
    "plt.scatter(final_df['pc1'],final_df['pc2'],c=final_df['real'],alpha=.5)"
   ]
  },
  {
   "cell_type": "markdown",
   "id": "ccecfa76",
   "metadata": {},
   "source": [
    "#### finding pca outliers"
   ]
  },
  {
   "cell_type": "code",
   "execution_count": 44,
   "id": "b8a1b9af",
   "metadata": {},
   "outputs": [
    {
     "data": {
      "text/plain": [
       "16042    14.256900\n",
       "18429    14.256900\n",
       "10531    14.256900\n",
       "10119    11.676840\n",
       "18117    11.676840\n",
       "           ...    \n",
       "12296    -6.128543\n",
       "14320    -6.128543\n",
       "12294    -6.128543\n",
       "12333    -6.163195\n",
       "19572    -6.163195\n",
       "Name: pc1, Length: 44898, dtype: float64"
      ]
     },
     "execution_count": 44,
     "metadata": {},
     "output_type": "execute_result"
    }
   ],
   "source": [
    "final_df['pc1'].sort_values(ascending=False)"
   ]
  },
  {
   "cell_type": "markdown",
   "id": "5cc40a15",
   "metadata": {},
   "source": [
    "### t-SNE\n",
    "\n",
    "above looked bad so trying a t-SNE"
   ]
  },
  {
   "cell_type": "code",
   "execution_count": 45,
   "id": "5de95303",
   "metadata": {},
   "outputs": [],
   "source": [
    "# from sklearn.manifold import TSNE\n",
    "# from sklearn.decomposition import PCA\n",
    "# from sklearn.preprocessing import StandardScaler\n",
    "\n",
    "# # drop the real column\n",
    "# df_X = df.copy().drop(columns=['real'])\n",
    "# df_y = df.copy()['real']\n",
    "\n",
    "# # reassign (has no actual use)\n",
    "# X = np.array(df_X)\n",
    "# y=np.array(df_y)\n",
    "\n",
    "# # scale the data\n",
    "# scaler = StandardScaler()\n",
    "# X = scaler.fit_transform(X)\n",
    "\n",
    "# # apply the pca\n",
    "# tsne = TSNE(n_components=2,random_state=42)\n",
    "\n",
    "# tsne.fit(X)\n",
    "# X_tsne = tsne.fit_transform(X)"
   ]
  },
  {
   "cell_type": "code",
   "execution_count": 46,
   "id": "20de1797",
   "metadata": {},
   "outputs": [],
   "source": [
    "# # wrangle the data\n",
    "# X_tsne_df = pd.DataFrame(data=X_tsne, columns=['pc1', 'pc2'])\n",
    "# final_df = pd.concat([X_tsne_df, pd.DataFrame(y, columns=['real'])], axis=1)\n",
    "# final_df = final_df.sample(frac=1).reset_index(drop=True)\n",
    "\n",
    "# # plot\n",
    "# plt.scatter(final_df['pc1'],final_df['pc2'],c=final_df['real'],alpha=0.25)"
   ]
  },
  {
   "cell_type": "markdown",
   "id": "b972f14a",
   "metadata": {},
   "source": [
    "### Worst articles\n",
    "\n",
    "when you look at some of these they make no sense, and just are really long sentences, or articles that make no sense. These are also all fake news. This implies that there is bad fake data."
   ]
  },
  {
   "cell_type": "code",
   "execution_count": 47,
   "id": "c69abb27",
   "metadata": {},
   "outputs": [
    {
     "data": {
      "text/plain": [
       "18429    32.7\n",
       "16042    32.7\n",
       "10531    32.7\n",
       "18117    29.5\n",
       "10119    29.5\n",
       "2639     29.0\n",
       "17422    25.5\n",
       "21862    25.5\n",
       "15828    25.5\n",
       "11715    24.6\n",
       "11811    24.6\n",
       "7277     23.8\n",
       "15657    23.7\n",
       "5967     23.7\n",
       "7297     23.2\n",
       "7248     22.8\n",
       "17312    22.6\n",
       "18135    22.5\n",
       "10145    22.5\n",
       "19775    22.1\n",
       "12686    22.1\n",
       "21055    21.7\n",
       "16794    21.7\n",
       "14566    21.7\n",
       "9003     21.6\n",
       "Name: smog, dtype: float64"
      ]
     },
     "execution_count": 47,
     "metadata": {},
     "output_type": "execute_result"
    }
   ],
   "source": [
    "df['smog'].sort_values(ascending=False).head(25)"
   ]
  },
  {
   "cell_type": "code",
   "execution_count": 48,
   "id": "b1e77bcf",
   "metadata": {},
   "outputs": [
    {
     "data": {
      "text/plain": [
       "(np.int64(0),\n",
       " 'Tennessee lawmakers have something to say to their counterparts in California and it s perfect! We could love this more Tennessee hits back at the loony state that banned all state travel to places that they think don t have the right policy in place. The response is epic: Whereas, California has passed legislation banning state sponsored travel to Tennessee and certain other states; andWhereas, the ban stems from legislation enacted by Tennessee that allows counselors to refer patients to other counselors who can better meet their goals, which the California State Legislature has judged to be morally reprehensible; andWhereas, California s attempt to influence public policy in our state is akin to Tennessee expressing its disapproval of California s exorbitant taxes, spiraling budget deficits, runaway social welfare programs, and rampant illegal immigration; andWhereas, Tennessee is pleasantly surprised that California will not be sending its economic development teams to Tennessee to recruit our businesses, but we can still send our teams to recruit their businesses; andWhereas, Tennessee is puzzled why California thinks it is a good idea to prohibit its state colleges and universities from participating in athletic competition in Tennessee (March Madness comes to Memphis this year via the South Regional), Kansas, Mississippi, and North Carolina; andWhereas, this type of ban, the result of legitimate disagreements about government policy, is neither persuasive nor productive for either party and will lead to economic warfare among states, as one sovereign entity attempts to tell an equally sovereign entity how to conduct its affairs by restricting travel thereto; andWhereas, the United States Constitution provides for a strong federal government for the common defense, but the Tenth Amendment grants the several states sovereignty in addressing issues solely within their jurisdiction, and all states should respect this most basic precept of American government; andWhereas, if states such as California persist in banning travel to Tennessee as a punitive action for this body conducting its constitutionally mandated duties as its members see fit, our state leaders should consider strong reciprocal action in banning state sponsored travel to those misguided states; now, therefore,BE IT RESOLVED BY THE SENATE OF THE ONE HUNDRED TENTH GENERAL ASSEMBLY OF THE STATE OF TENNESSEE, THE HOUSE OF REPRESENTATIVES CONCURRING, that we urge and encourage the Governor, the Speaker of the Senate, and the Speaker of the House of Representatives to ban state -sponsored and state funded travel within their respective jurisdictions to any state of the Union that has banned state   sponsored travel to Tennessee in a selective way, so that the other states feel the pain and not TennesseeBE IT FURTHER RESOLVED, that we urge the other forty-eight states to refrain from imposing their unfounded moral judgment on their sister states as California has done in order to prevent escalating foolishness.Oh boy! Isn t that great!')"
      ]
     },
     "execution_count": 48,
     "metadata": {},
     "output_type": "execute_result"
    }
   ],
   "source": [
    "df_save[df_save.index == 18429].iloc[0]['real'],df_save[df_save.index == 18429].iloc[0]['text']"
   ]
  },
  {
   "cell_type": "code",
   "execution_count": 49,
   "id": "9cb93972",
   "metadata": {},
   "outputs": [
    {
     "data": {
      "text/plain": [
       "(np.int64(0),\n",
       " 'An unidentified black Trump supporter blasted the Cudahy City, CA Council members over her objections to  racist  sanctuary cities. Her argument was based on her belief that sanctuary cities offer certain protections and benefits that are not even being offered to legal American citizens.Watch her amazing take down of the bleeding hearts who put lawbreaking foreign citizens before taxpaying and unemployed American citizens: Cities and CountiesCaliforniaAlameda County Berkley Contra Costa County Los Angeles County Los Angeles Monterey County Napa County Orange County Orange County Riverside County Sacramento County San Bernardino County San Diego County San Francisco County San Mateo County Santa Ana Santa Clara County Santa Cruz County Sonoma CountyColoradoArapahoe County Aurora Boulder County Denver County Garfield County Grand County Jefferson County Larimer County Mesa County Pitkin County Pueblo County Routt County San Miguel County Weld CountyConnecticutEast Haven HartfordDistrict Of ColumbiaWashingtonFloridaAlachua County Clay County Hernando CountyGeorgiaClayton County DeKalb CountyIowaBenton County Cass County Franklin County Fremont County Greene County Ida County Iowa City Iowa City, Johnson County Jefferson County Marion County Monona County Montgomery County Pottawattamie County Sioux CountyIllinoisChicago Cook CountyKansasButler County Harvey County Sedgwick County Shawnee County Story CountyLouisianaNew OrleansMassachusettsAmherst Boston Cambridge Lawrence Northhampton SomervilleMarylandBaltimore Montgomery County Prince George s CountyMinnesotaHennepin CountyNebraskaHall County Sarpy CountyNew JerseyMiddlesex County Newark Ocean County Union CountyNew MexicoBenalillo New Mexico County Jails San MiguelNevadaClark County Washoe CountyNew YorkFranklin County Ithaca Nassau County New York City Omondaga County St. Lawrence County Wayne CountyOregonBaker County Clackamas County Clatsop County Coos County Crook County Curry County Deschutes County Douglas County Gilliam County Grant County Hood River County Jackson County Jefferson County Josephine County Lane Countyn Lincoln County Linn County Malheur County Marion County Marlon County Multnomah County Polk County Sherman County Springfield Tillamok County Umatilla County Union County Wallowa County Wasco County Washington County Wheeler County Yamhill CountyPennsylvaniaBradford County Bucks County Butler County Chester County Clarion County Delaware County Eerie County Franklin County Lebanon County Lehigh County Lycoming County Montgomery County Montour County Perry County Philadelphia Pike County Westmoreland CountyRhode IslandProvidence, Rhode Island Rhode Island Department of CorrectionsTexasDallas County Travis CountyVirginiaArlington County Chesterfield CountyVermontMonteplier WinooskiWashingtonChelan County Clallam County Clark County Cowlitz County Franklin County Jefferson County King County Kitsap County Pierce County San Juan County Skagit County Snohomish County Spokane County Thurston County Walla Walla County Wallowa County Whatcom County Yakima CountyWisconsinMilwaukee')"
      ]
     },
     "execution_count": 49,
     "metadata": {},
     "output_type": "execute_result"
    }
   ],
   "source": [
    "df_save[df_save.index == 10119].iloc[0]['real'],df_save[df_save.index == 10119].iloc[0]['text']"
   ]
  },
  {
   "cell_type": "code",
   "execution_count": 50,
   "id": "5f687601",
   "metadata": {},
   "outputs": [
    {
     "data": {
      "text/plain": [
       "(np.int64(0),\n",
       " 'In another of Donald Trump s whine rests, the Dictator in Chief accused the media of not reporting terrorist attacks. On Tuesday, Trump released the list of  unreported terrorist attacks,  which not surprisingly, have been extensively covered by the media. Yes, it s sad that lies from the White House are no longer surprising. What is surprising, though, is how the list was written. It was either done in a sleep deprived flurry from Trump or some drunken monkeys got ahold of a computer.You have to give the White House credit. For complete BS, the list is rather extensive. Here it is; see if you can find what s wrong.TIMELINE: September, 2014   December, 2016 NUMBER OF ATTACKS: 78MELBOURNE, AUSTRALIA September, 2014 TARGET: Two police officers wounded in knife attack ATTACKER: Abdul Numan HaiderTIZI OUZOU, ALGERIA September, 2014 TARGET: One French citizen beheaded ATTACKER: Jund al-Khilafah in AlgeriaQUEBEC, CANADA October, 2014 TARGET: One soldier killed and one wounded in vehicle attack ATTACKER: Martin Couture-RouleauOTTAWA, CANADA October, 2014 TARGET: One soldier killed at war memorial; two wounded in shootings at Parliament building ATTACKER: Michael Zehaf-BibeauNEW YORK CITY, NY, USA October, 2014 TARGET: Two police officers wounded in knife attack ATTACKER: US personRIYADH, SAUDI ARABIA November, 2014 TARGET: One Danish citizen wounded in shooting ATTACKERS: Three Saudi Arabia-based ISIL membersABU DHABI, UAE DATE: December 2014 TARGET: One American killed in knife attack ATTACKER: Dalal al-HashimiSYDNEY, AUSTRALIA December, 2014 TARGET: Two Australians killed in hostage taking and shooting ATTACKER: Man Haron MonisTOURS, FRANCE December, 2014 TARGET: Three police officers wounded in knife attack ATTACKER: Bertrand NzohabonayoPARIS, FRANCE January, 2015 TARGET: One police officer and four hostages killed in shooting at a kosher supermarket ATTACKER: Amedy CoulibalyTRIPOLI, LIBYA January, 2015 TARGET: Ten killed, including one US citizen, and five wounded in bombing and shooting at a hotel frequented by westerners ATTACKERS: As many as five ISIL-Libya membersRIYADH, SAUDI ARABIA January, 2015 TARGET: Two US citizens wounded in shooting ATTACKER: Saudi Arabia-based ISIL supporterNICE, FRANCE February, 2015 TARGET: Two French soldiers wounded in knife attack outside a Jewish community center ATTACKER: Moussa CoulibalyCOPENHAGEN, DENMARK February, 2015 TARGET: One civilian killed in shooting at a free-speech rally and one security guard killed outside the city s main synagogue ATTACKER: Omar Abdel Hamid el-HusseinTUNIS, TUNISIA March, 2015 TARGET: 21 tourists killed, including 16 westerners, and 55 wounded in shooting at the Bardo Museum ATTACKERS: Two ISIL-aligned extremistsKARACHI, PAKISTAN April, 2015 TARGET: One US citizen wounded in knife attack ATTACKERS: Pakistan-based ISIL supportersPARIS, FRANCE April, 2015 TARGET: Catholic churches targeted; one civilian killed in shooting, possibly during an attempted carjacking ATTACKER: Sid Ahmed GhlamZVORNIK, BOSNIA April, 2015 TARGET: One police officer killed and two wounded in shooting ATTACKER: Nerdin IbricGARLAND, TX, USA May, 2015 TARGET: One security guard wounded in shooting at the Prophet Muhammad cartoon event ATTACKERS: Two US personsBOSTON, MA, USA June, 2015 TARGET: No casualties; one police officer attacked with knife ATTACKER: US personEL GORA (AL JURAH), EGYPT June, 2015 TARGET: No casualties; camp used by Multinational Force and Observers (MFO) troops attacked in shooting and bombing attack ATTACKERS: Unknown number of ISIL-Sinai membersLUXOR, EGYPT June, 2015 TARGET: One police officer killed by suicide bomb near the Temple of Karnak ATTACKER: UnidentifiedSOUSSE, TUNISIA June, 2015 TARGET: 38 killed and 39 wounded in shooting at a beach frequented by westerners ATTACKERS: Seifeddine Rezgui and another unidentified attackerLYON, FRANCE June, 2015 TARGET: One civilian killed in beheading and explosion at a chemical plant ATTACKER: Yasin SalhiCAIRO, EGYPT July, 2015 TARGET: One killed and nine wounded in VBIED attack at Italian Consulate ATTACKER: Unidentified ISIL operativesCAIRO, EGYPT July, 2015 TARGET: One Croatian national kidnapped; beheaded on August 12 at an unknown location ATTACKER: Unidentified ISIL-Sinai operativePARIS, FRANCE August, 2015 TARGET: Two civilians and one US soldier wounded with firearms and knife on a passenger train ATTACKER: Ayoub el-KhazzaniEL GORA, EGYPT September, 2015 TARGET: Four US and two MFO troops wounded in IED attack ATTACKER: UnidentifiedDHAKA, BANGLADESH September, 2015 TARGET: One Italian civilian killed in shooting ATTACKER: UnidentifiedCOPENHAGEN, DENMARK September, 2015 TARGET: One police officer wounded in knife attack ATTAKER: Palestinian nationalEL GORA, EGYPT October, 2015 TARGET: No casualties; airfield used by MFO attacked with rockets ATTAKER: Unidentified ISIL-Sinai operativesPARRAMATTA, AUSTRALIA October, 2015 TARGET: One police officer killed in shooting ATTAKER: Farhad JabarRANGPUR, BANGLADESH October, 2015 TARGET: One Japanese civilian killed in shooting ATTAKER: UnidentifiedHASANAH, EGYPT October, 2015 TARGET: 224 killed in downing of a Russian airliner ATTAKER: Unidentified ISIL-Sinai operativesMERCED, CA, US November, 2015 TARGET: Four wounded in knife attack on a college campus ATTAKER: US personPARIS, FRANCE November, 2015 TARGET: At least 129 killed and approximately 400 wounded in series of shootings and IED attacks ATTAKERS: Brahim Abdelslam, Saleh Abdeslam, Ismail Mostefai, Bilal Hadfi, Samy Amimour, Chakib Ahrouh, Foued Mohamed Aggad, and Abdelhamid AbaaoudDINAJPUR, BANGLADESH November, 2015 TARGET: One Italian citizen wounded in shooting ATTAKER: UnidentifiedRAJLOVAC, BOSNIA December, 2015 TARGET: Two Bosnian soldiers killed in shooting ATTAKER: Enes OmeragicSAN BERNADINO, CA, US December, 2015 TARGET: 14 killed and 21 wounded in coordinated firearms attack ATTAKERS: Two US personsLONDON, ENGLAND, UK December, 2015 TARGET: Three wounded in knife attack at an underground rail station ATTAKER: Muhyadin MireDERBENT, RUSSIA December, 2015 TARGET: One killed and 11 wounded in shooting at UN World Heritage site ATTAKER: Unidentified ISIL-Caucasus operativeCAIRO, EGYPT January, 2016 TARGET: Two wounded in drive-by shooting outside a hotel frequented by tourists ATTAKERS: Unidentified ISIL operativesPARIS, FRANCE January, 2016 TARGET: No casualties; attacker killed after attempted knife attack on Paris police station ATTAKER: Tarek BelgacemPHILADELPHIA, PENNSYLVANIA January, 2016 TARGET: One police officer wounded in shooting ATTAKER: US personHURGHADA, EGYPT January, 2016 TARGET: One German and one Danish national wounded in knife attack at a tourist resort ATTAKER: UnidentifiedMARSEILLES, FRANCE January, 2016 TARGET: One Jewish teacher wounded in machete attack ATTAKER: 15 year-old Ethnic Kurd from TurkeyISTANBUL, TURKEY January, 2016 TARGET: 12 German tourists killed and 15 wounded in suicide bombing ATTAKER: Nabil FadliJAKARTA, INDONESIA January, 2016 TARGET: Four civilians killed and more than 20 wounded in coordinated bombing and firearms attacks near a police station and a Starbucks ATTAKERS: Dian Joni Kurnaiadi, Muhammad Ali, Arif Sunakim, and Ahmad Muhazan bin SaronCOLUMBUS, OH, US February, 2016 TARGET: Four civilians wounded in machete attack at a restaurant ATTAKER: US personHANOVER, GERMANY February, 2016 TARGET: One police officer wounded in knife attack ATTAKER: Safia SchmitterISTANBUL, TURKEY March, 2016 TARGET: Four killed and 36 wounded in suicide bombing in the tourist district ATTAKER: Mehmet OzturkBRUSSELS, BELGIUM March, 2016 TARGET: At least 31 killed and 270 wounded in coordinated bombings at Zaventem Airport and on a subway train ATTAKERS: Khalid el-Bakraoui, Ibrahim el-Bakraoui, Najim Laachraoui, Mohammed Abrini, and Osama KrayemESSEN, GERMANY April, 2016 TARGET: Three wounded in bombing at Sikh temple ATTAKERS: Three identified minorsORLANDO, FL, US June, 2016 TARGET: 49 killed and 53 wounded in shooting at a nightclub ATTAKER: US personMAGNANVILLE, FRANCE June, 2016 TARGET: One police officer and one civilian killed in knife attack ATTAKER: Larossi AbballaKABUL, AFGHANISTAN June, 2016 TARGET: 14 killed in suicide attack on a bus carrying Canadian Embassy guards ATTAKER: ISIL-Khorasan operativeISTANBUL, TURKEY June, 2016 TARGET: 45 killed and approximately 240 wounded at Ataturk International Airport ATTACKERS: Rakhim Bulgarov, Vadim Osmanov, and an unidentified ISIL operativeDHAKA, BANGLADESH July, 2016 TARGET: 22 killed, including one American and 50 wounded after hours-long siege using machetes and firearms at holy Artisan Bakery ATTACKERS: Nibras Islam, Rohan Imtiaz, Meer Saameh Mubasheer, Khairul Islam Paye, and Shafiqul Islam UzzalNICE, FRANCE July, 2016 TARGET: 84 civilians killed and 308 wounded by an individual who drove a truck into a crowd ATTACKER: Mohamed BouhlelWURZBURG, GERMANY July, 2016 TARGET: Four civilians wounded in axe attack on a train ATTACKER: Riaz Khan AhmadzaiANSBACH, GERMANY July, 2016 TARGET: At least 15 wounded in suicide bombing at a music festival ATTACKER: Mohammad DaleelNORMANDY, FRANCE July, 2016 TARGET: One priest killed in knife attack ATTACKERS: Adel Kermiche and Abdel Malik Nabil PetitjeanCHALEROI, BELGIUM August, 2016 TARGET: Two police officers wounded in machete attack ATTACKER: Khaled BabouriQUEENSLAND, AUSTRALIA August, 2016 TARGET: Two killed and one wounded in knife attack at a hostel frequented by Westerners ATTACKER: Smail AyadCOPENHAGEN, DENMAKR September, 2016 TARGET: Two police officers and a civilian wounded in shooting ATTACKER: Mesa HodzicPARIS, FRANCE September, 2016 TARGET: One police officer wounded in raid after VBIED failed to detonate at Notre Dame Cathedral ATTACKERS: Sarah Hervouet, Ines Madani, and Amel SakaouSYDNEY, AUSTRALIA September, 2016 TARGET: One civilian wounded in knife attack ATTACKER: Ihsas KhanST. CLOUD, MN, US September, 2016 TARGET: 10 wounded in knife attack in a mall ATTACKER: Dahir Ahmed AdanNEW YORK, NY; SEASIDE PARK AND ELIZABETH, NJ, US September, 2016 TARGET: 31 wounded in bombing in New York City; several explosive devices found in New York and New Jersey; one exploded without casualty at race in New Jersey; one police officer wounded in shootout ATTACKER: Ahmad Khan RahamiBRUSSELS, BELGIUM October, 2016 TARGET: Two police officers wounded in stabbing ATTACKER: Belgian nationalKUWAIT CITY, KUWAIT TARGET: No casualties; vehicle carrying three US soldiers hit by a truck ATTACKER: Ibrahim SulaymanMALMO, SWEDEN October, 2016 TARGET: No casualties; mosque and community center attacked with Molotov cocktail ATTACKER: Syrian nationalHAMBURG, GERMANY October, 2016 TARGET: One killed in knife attack ATTACKER: UnknownMANILA, PHILIPPINES November, 2016 TARGET: No casualties; failed IED attempt near US Embassy ATTACKERS: Philippine nationals aligned with the Maute groupCOLUMBUS, OH, US November, 2016 TARGET: 14 wounded by individuals who drove a vehicle into a group of pedestrians and attacked them with a knife ATTACKER: US personN DJAMENA, CHAD November, 2016 TARGET: No casualties; attacker arrested after opening fire at entrance of US Embassy ATTACKER: Chadian nationalKARAK, JORDAN December, 2016 TARGET: 10 killed and 28 wounded in shooting at a tourist site ATTACKERS: Several gunmenBERLIN, GERMANY December, 2016 TARGET: 12 killed and 48 wounded by individual who drove truck into a crowded market ATTACKER: Anis AmriFor starts, the word  attaker  was misspelled 27 times. Denmark was spelled  Denmarkr  and San Bernardino was  San Bernadino. Twitter has been brutal:White House list of allegedly undercovered Islamist terror attacks repeatedly misspells  attacker.  pic.twitter.com/Im2MPWJr7j  Matthew Yglesias (@mattyglesias) February 7, 2017WH list of unreported terror attacks filled with spelling errors. Q:Ms. DeVos   can you teach WH staff about  spell check ? A:Spell check?  Steven A Drizin (@SDrizin) February 7, 2017This keeps getting funnier. I m sure the WH response will be  alternative spelling . https://t.co/O5FJPtmQLJ #resist #notmypresident  Karen Miraz (@KMMiraz) February 7, 2017Spelling matters when you re a so-called President. https://t.co/wjMoOUOivr #huffpo #SoCalledPresident #arsonist #spelling  Kiki (@kikibeach) February 7, 2017 Alternative spelling  https://t.co/ycbywMYLq6  new year new meme (@B_Julian93) February 7, 2017While ultimately, spelling, even spelling that s this atrocious, doesn t really matter, it does show something very dangerous about the Trump White House. Attention to detail is important when crafting laws or executive orders or when speaking with foreign leaders. We get that the supposed billionaire who sits on 14 carat gold toilets ran as an every man, and let s face it, Americans are notoriously illiterate, but if Trump has this same inattention to detail in his businesses, it s no wonder he s gone bankrupt four times. As for our country, the world is both laughing and weeping   the latter because Trump has the keys to the nuclear arsenal.Read more:Featured image via Pool/Getty Images')"
      ]
     },
     "execution_count": 50,
     "metadata": {},
     "output_type": "execute_result"
    }
   ],
   "source": [
    "df_save[df_save.index == 2639].iloc[0]['real'],df_save[df_save.index == 2639].iloc[0]['text']"
   ]
  },
  {
   "cell_type": "code",
   "execution_count": 51,
   "id": "4469782a",
   "metadata": {},
   "outputs": [
    {
     "data": {
      "text/plain": [
       "(np.int64(0),\n",
       " 'Wow! What a list of accomplishments! The problem is that these accomplishments are rotten to the core. Just read a few and you ll get a taste of the corruption and Chicago style politics transplanted to D.C. via Obama. Not pretty!Law and Justice  First President to Violate the War Powers Act (Unilaterally Executing American Military Operations in Libya Without Informing Congress In the Required Time Period   Source: Huffington Post)  First President to Triple the Number of Warrantless Wiretaps of U.S. Citizens (Source: ACLU)   First President to Sign into Law a Bill That Permits the Government to  Hold Anyone Suspected of Being Associated With Terrorism Indefinitely, Without Any Form of Due Process. No Indictment. No Judge or Jury. No Evidence. No Trial. Just an Indefinite Jail Sentence  (NDAA Bill   Source: Business Insider)   First President to Refuse to Tell the Public What He Did For Eight (8) Hours After Being Informed That a U.S. Ambassador Was Facing Imminent Death During a Terror Attack (Source: Mediate)   First President to Lie About the Reason For an Ambassador s Death, Blaming it on an Internet Video Rather Than What He Knew to be the Case: the Al Qaeda-linked Terror Group Ansar al-Sharia (Source: House Oversight Committee, et. al.)   First President to Have an Innocent Filmmaker Thrown in Jail After Lying About the Cause for a Deadly Attack on U.S. Diplomats, Using the Filmmaker as a Scapegoat (Source: CNN)   First President to Use the IRS to  Unfairly Target Political Enemies  as Well as pro-Catholic and pro-Jewish Groups (Source: Sen. Ted Cruz)   First President to Unlawfully Seize Telephone Records of More than 100 Reporters to Intimidate and/or Bully Them (Source: Associated Press)   First President to Witness a Single Cabinet Secretary Commit Multiple Hatch Act Violations Without Acting, Speaking Out, Disciplining or Firing That Person (Source: New York Times)   First President to Systematically Release Detained Illegal Aliens Charged With Homicide Into the U.S. Population (Source: USA Today)   First President to Release 40,000 Illegal Aliens with Serious and/or Violent Criminal Records Inside the U.S. (Source: Judicial Watch)   First President to Create Secret Police Units Inside Government Agencies to Block Lawful Investigations by Inspectors General (Source: Associated Press)   First President to Personally Lobby Senators to Violate Senate Rules and Destroy the Filibuster Through  The Nuclear Option  to Consolidate More Executive Power (Source: Wall Street Journal)   First President to create his own propaganda news network and  bypass journalists   [having] developed [his] own network of websites, social media and even created an online newscast to dispense favorable information and images  (Source: Associated Press)   First President to Barricade Open-Air Government Monuments During a Partial Government Shutdown (Source: Rep. Steve Stockman)   First President to Have His Attorney General Held in Criminal Contempt of Congress For His Efforts to Cover Up Operation Fast and Furious, That Killed Over 300 Individuals (Source: Politico)   First President to claim Executive Privilege to shield a sitting Attorney General from a Contempt of Congress finding for perjury and withholding evidence from lawful subpoenas (Source: Business Insider)   First President to Issue Unlawful  Recess-Appointments  Over a Long Weekend   While the U.S. Senate Remained in Session (against the advice of his own Justice Department   Source: United States Court of Appeals)   First President to Fire an Inspector General of Americorps for Catching One of His Friends in a Corruption Case (Source: Gawker)   First President to  Order a Secret Amnesty Program that Stopped the Deportations of Illegal Immigrants Across the U.S., Including Those With Criminal Convictions  (Source: DHS documents uncovered by Judicial Watch)   First President to Sue States for Enforcing Voter ID Requirements, Which Were Previously Ruled Legal by the U.S. Supreme Court (Source: CNN)   First President to Encourage Racial Discrimination and Intimidation at Polling Places (the New Black Panthers voter intimidation case, Source: Investors Business Daily)   First President to Refuse to Comply With a House Oversight Committee Subpoena (Source: Heritage Foundation)   First President to Arbitrarily Declare an Existing Law Unconstitutional and Refuse to Enforce It (Defense of Marriage Act   Source: ABC News)   First President to Increase Surveillance of American Citizen Under the Patriot Act by 1,000 Percent in Four Years (Source: NBC News)   First president to appoint a convicted cop killer s advocate to the Department of Justice (Source: Investor s Business Daily)   First Administration to Be Ruled by a Federal Judge as Aiding and Abetting Human Trafficking (Source: Federal District Court Judge Andrew S. Hanen)   First President to Demand a Company Hand Over $20 Billion to One of His Political Appointees (BP Oil Spill Relief Fund   Source: Fox News)   First President to Have a Law Signed By an  Auto-pen  Without Being  Present  (Source: The New York Times) Scandals   First President to publicly announce an enemies list (consisting of his opponents campaign contributors; and to use the instrumentalities of government to punish those on the list   Source: Heritage Foundation)   First President to Attempt to Block Legally-Required 60-Day Layoff Notices by Government Contractors Due to His Own Cuts to Defense Spending   Because The Notices Would Occur Before the Election. (Source: National Journal)   First President to Intentionally Disable Credit Card Security Measures (in order to allow over-the-limit donations, foreign contributions and other illegal fundraising measures   Source: Power Line)   First President to send 80 percent of a $16 billion program (green energy) to his campaign bundlers and contributors, leaving only 20% to those who did not contribute. (Source: Washington Examiner)   First President to Propose an Executive Order Demanding Companies Disclose Their Political Contributions to Bid on Government Contracts (Source: Wall Street Journal)   First President to issue an Executive Order implementing a  Racial Justice System , a system that tries to achieve  racially equivalent outcomes  for crimes (Source: Daily Caller)   First President to Leak Confidential IRS Tax Records to Groups Aligned Politically With Him for Partisan Advantage (Source: The Hill Newspaper)   First President to Use the EPA to Punish Political Enemies and Reward Political Allies (Source: Competitive Enterprise Institute)   First President to Send Millions in Taxpayer Dollars to His Wife s Former Employer (Source: White House Dossier)   First President to Openly Use the Department of Justice to Intimidate Political Opponents and Threaten Companies to Donate to His Campaign (Source: Peter Schweizer, Extortion)   First President to Direct His Census Dept. to Make Up Favorable Employment Data In Run-Up to His Reelection Campaign (Source: New York Post)   First President to Have His Administration Fund an Organization Tied to the Cop-Killing Terrorist Group, the Weather Underground (Source: National Review)   First President to have the EPA conduct hazardous experiments on the ill, infirm and elederly to push a radical environmental agenda, in a manner not dissimilar to the Third Reich s inhuman medical experiments (Source: The EPA Office of the Inspector General).   First President to be Accused by His Own Party of Ordering the CIA to Spy on Congress (Source: Washington Post)  First President to allow deadly Ebola disease-ridden patients to enter the U.S., refusing to restrict travel from infected countries like other Western allies (Source: New York Daily News)   First president to order his EPA to unilaterally overturn a Federal Statute (changing the borders of Wyoming established by an act of Congress, Source: Casper Star-Tribune).   First president to systematically delay enacting a wide variety of controversial rules until after a presidential election (Source: Washington Post)   First president to have Politifact designate one of his statements  Lie of the Year  (Source: Politifact)Economy   First President to Preside Over a Cut to the Credit Rating of the United States Government (Source: Reuters)   First President to Bypass Congress and Implement the DREAM Act Through Executive Fiat (Source: Christian Science Monitor)   First President to Move America Past the Dependency Tipping Point, In Which 51% of Households Now Pay No Income Taxes (Source: Center for Individual Freedom)   First President to Increase Food Stamp Spending By More Than 100% in Less Than Four Years (Source: Sen. Jeff Sessions)   First President to Spend a Trillion Dollars on  Shovel-Ready  Jobs   and Later Admit There Was No Such Thing as Shovel-Ready Jobs (Source: President Obama during an early meeting of his  Jobs Council )   First President to Threaten Insurance Companies After They Publicly Spoke out on How Obamacare Helped Cause their Rate Increases (Source: The Hill)   First President to Abrogate Bankruptcy Law to Turn Over Control of Companies to His Union Supporters (Source: Wall Street Journal)   First President to Propose Budgets So Unreasonable That Not a Single Representative From Either Party Would Cast a Vote in Favor (Sources: The Hill, Open Market)   First President Whose Economic Policies Have the Number of Americans on Disability Exceed the Population of New York (Source: CNS News)   First President to Sign a Law Requiring All Americans to Purchase a Product From a Third Party (Source: Wall Street Journal)   First President to Sue States For Enforcing Immigration Laws Passed by Congress (Source: The Arizona Republic newspaper)   First President to See America Lose Its Status as the World s Largest Economy (Source: Peterson Institute)   First President to redistribute $26.5 billion of the taxpayers  funds to his union supporters in the UAW (Source: Heritage Foundation)   First President to Threaten an Auto Company (Ford) After It Publicly Mocked Bailouts of GM and Chrysler (Source: Detroit News)   First President to Run a Record 5 Straight Years of Deficits for the Disability Trust Fund (Source: CNS News)   First President to Attempt to Bully a Major Manufacturing Company Into Not Opening a Factory in a Right-to-Work State (Boeing s facility in South Carolina   Source: Wall Street Journal)   First President Since 1872 to See the U.S. Economy Sink From 1st to 2nd Largest in the World (Source: Financial Times).   First President to Conceal Food Stamp Data From Public Scrutiny (Source: Judicial Watch:  8th Circuit Says USDA Can t Keep Hiding Food Stamp Data )   First President to Leave the American Middle Class No Longer the World s Richest (Source: The New York Times)   First President to Retaliate Against a Rating Agency for Downgrading the United States Debt (Source: Investor s Business Daily)   First President to Expand the Regulatory State to an Unprecedented Degree ( New record: Feds issued 56 regs for every new law, 3,659 in 2013 , Source: Washington Examiner)Energy Policy   First President to Endanger the Stability of the Electric Grid by Shutting Down Hundreds of Coal-Fired Plants Without Adequate Replacement Technologies (Source: National Electric Reliability Corporation   PDF)   First President to Have His EPA Repudiated by a Federal Judge for  Overstepping Its Powers  When They Attempted to Shut Down Coal Operations in Appalachia (Source: Huffington Post)   First President to be Held in Contempt of Court for Illegally Obstructing Oil Drilling in the Gulf of Mexico (Source: Politico) National Security and World Affairs   First President to Lie Repeatedly to the American People About the Murder of a U.S. Ambassador and Three Other Diplomatic Personnel for Purely Political Reasons, Rewriting a  Talking Points  Memo No Fewer Than a Dozen Times to Avoid Referencing a Pre-Planned Terror Attack (Source: ABC News)   First President to Openly Defy a Congressional Order Not To Share Sensitive Nuclear Defense Secrets With the Russian Government (Sources: ABC News, Rep. Michael Turner)   First President to Leak Highly Classified Military and Intelligence Secrets to Hollywood In Order to Promote a Movie That Could Help His Reelection Campaign (Source: Judicial Watch)Read more: kenn niemann')"
      ]
     },
     "execution_count": 51,
     "metadata": {},
     "output_type": "execute_result"
    }
   ],
   "source": [
    "df_save[df_save.index == 17422].iloc[0]['real'],df_save[df_save.index == 17422].iloc[0]['text']"
   ]
  },
  {
   "cell_type": "code",
   "execution_count": 52,
   "id": "ed68c00d",
   "metadata": {},
   "outputs": [
    {
     "data": {
      "text/plain": [
       "(np.int64(0), 'UPDATE VIDEO: Language alert:')"
      ]
     },
     "execution_count": 52,
     "metadata": {},
     "output_type": "execute_result"
    }
   ],
   "source": [
    "df_save[df_save.index == 11715].iloc[0]['real'],df_save[df_save.index == 11715].iloc[0]['text']"
   ]
  },
  {
   "cell_type": "markdown",
   "id": "13600039",
   "metadata": {},
   "source": [
    "### best articles"
   ]
  },
  {
   "cell_type": "code",
   "execution_count": 53,
   "id": "a8183a80",
   "metadata": {},
   "outputs": [
    {
     "data": {
      "application/vnd.microsoft.datawrangler.viewer.v0+json": {
       "columns": [
        {
         "name": "index",
         "rawType": "int64",
         "type": "integer"
        },
        {
         "name": "title",
         "rawType": "object",
         "type": "string"
        },
        {
         "name": "text",
         "rawType": "object",
         "type": "string"
        },
        {
         "name": "subject",
         "rawType": "object",
         "type": "string"
        },
        {
         "name": "date",
         "rawType": "object",
         "type": "string"
        },
        {
         "name": "coleman_liau",
         "rawType": "float64",
         "type": "float"
        },
        {
         "name": "smog",
         "rawType": "float64",
         "type": "float"
        },
        {
         "name": "sentence_length",
         "rawType": "float64",
         "type": "float"
        },
        {
         "name": "subjectivity",
         "rawType": "float64",
         "type": "float"
        },
        {
         "name": "sentiment",
         "rawType": "float64",
         "type": "float"
        },
        {
         "name": "real",
         "rawType": "int64",
         "type": "integer"
        }
       ],
       "conversionMethod": "pd.DataFrame",
       "ref": "6ddc8907-d79b-4b07-915a-7f3fe5948d4d",
       "rows": [
        [
         "14642",
         "Suspicious object found with body in Stockholm not dangerous, police say",
         "STOCKHOLM (Reuters) - A man was found dead on Thursday in a flat in a Stockholm suburb with a  package with cables taped to the body , the Swedish tabloid Aftonbladet reported, citing sources.  Stockholm police spokeswoman Eva Nilsson confirmed that police had found a body and a suspicious object, but later she said it had been determined the object was not dangerous and police did not believe a crime had been committed. ",
         "worldnews",
         "November 16, 2017 ",
         "11.27",
         "0.0",
         "35.5",
         "0.485",
         "0.095",
         "1"
        ],
        [
         "17001",
         "Putin says Russia will respond in kind if U.S. quits missile treaty",
         "SOCHI, Russia (Reuters) - Russia will respond immediately and symmetrically if the United States quits the intermediate-range nuclear forces treaty, Russian President Vladimir Putin said on Thursday. Moscow is ready to develop new weapons systems, both nuclear and non-nuclear, in response to other countries doing the same, Putin said at a forum with scholars. ",
         "worldnews",
         "October 19, 2017 ",
         "15.38",
         "0.0",
         "26.5",
         "0.2909090909090909",
         "0.042272727272727274",
         "1"
        ],
        [
         "2236",
         "Trump says he has not thought about firing Russia probe special counsel",
         "BEDMINSTER, N.J. (Reuters) - U.S. President Donald Trump said on Thursday he has not given any thought to the possibility of firing special counsel Robert Mueller, who is investigating possible collusion between the Trump campaign and Russia. Speaking to reporters at his New Jersey golf club, Trump also said he was surprised by the FBI raid last month of his former campaign manager Paul Manafort, adding that it sent a “strong signal.”  ",
         "politicsNews",
         "August 10, 2017 ",
         "12.08",
         "0.0",
         "35.5",
         "0.5322820037105751",
         "0.146691403834261",
         "1"
        ],
        [
         "4944",
         "FBI, NSA chiefs to testify on Trump wiretap claims, Russia: lawmakers",
         "WASHINGTON (Reuters) - Leaders of the House of Representatives Intelligence Committee said on Wednesday they do not believe Trump Tower was tapped during the 2016 presidential campaign and that FBI and NSA directors will testify at a hearing next week about that claim and any Russian meddling in the U.S. election.  Republican Chairman Devin Nunes and the committee’s top Democrat, Adam Schiff, told reporters they do not believe President Donald Trump’s phones were tapped, as he asserted without proof, but they want the FBI to provide any evidence at next Monday’s hearing. ",
         "politicsNews",
         "March 15, 2017 ",
         "13.65",
         "0.0",
         "45.5",
         "0.125",
         "0.125",
         "1"
        ],
        [
         "11052",
         "Obama's legislative aide Fallon departs: White House",
         "WASHINGTON (Reuters) - President Barack Obama said on Friday his top legislative affairs aide, Katie Beirne Fallon, is leaving the White House and will be replaced by her deputy, Amy Rosenbaum, a former aide to House Democratic Leader Nancy Pelosi. Obama, in a statement, credited Fallon with helping the White House “build up our relationships with folks in both parties” in Congress on issues like the budget, the Iran nuclear deal, and reauthorizing the Ex-Im Bank. ",
         "politicsNews",
         "January 29, 2016 ",
         "12.49",
         "0.0",
         "37.5",
         "0.125",
         "0.125",
         "1"
        ],
        [
         "19613",
         "China says upholds peaceful resolution of North Korea issue",
         "BEIJING (Reuters) - China supports a peaceful resolution to the North Korea issue and it is incorrect to say China has not been doing enough, Chinese Foreign Minister Wang Yi told his French counterpart, China s Foreign Ministry said on Wednesday. The two were meeting on the sidelines of the United Nations the previous day, the ministry added. ",
         "worldnews",
         "September 20, 2017 ",
         "11.49",
         "0.0",
         "28.5",
         "0.20238095238095238",
         "-0.023809523809523808",
         "1"
        ],
        [
         "15502",
         "Islamic State claims responsibility for attack on TV station in Afghanistan: Amaq",
         "CAIRO (Reuters) - Islamic State has claimed responsibility for an attack on a private television station in the Afghan capital of Kabul, the group s news agency Amaq said on Tuesday, without giving evidence,  A staff member who witnessed the attack said gunmen attacked the building after an explosion.  ",
         "worldnews",
         "November 7, 2017 ",
         "13.36",
         "0.0",
         "48.0",
         "0.375",
         "0.0",
         "1"
        ],
        [
         "17014",
         "London will remain leading financial center: PM May's spokesman",
         "LONDON (Reuters) - London will remain the world s leading financial center, a spokesman for British Prime Minister Theresa May said on Thursday when asked about comments by Goldman Sachs chief executive Lloyd Blankfein.   We re not going to comment on each individual statement but lets be clear, London is and will remain the world s leading financial center,  the spokesman said when asked about a tweet in which Blankfein said he was planning to spend more time in Frankfurt - a rival financial center. ",
         "worldnews",
         "October 19, 2017 ",
         "12.2",
         "0.0",
         "41.5",
         "0.15833333333333335",
         "0.029999999999999992",
         "1"
        ],
        [
         "971",
         "White House continues to cooperate with special counsel -official",
         "WASHINGTON (Reuters) - Charges brought against President Donald Trump’s former campaign manager and other officials on Monday would not change the White House’s cooperation with the special counsel investigating alleged Russian intervention in the 2016 election, a White House official said. “The White House continues to cooperate,” the official said. ",
         "politicsNews",
         "October 30, 2017 ",
         "17.58",
         "0.0",
         "24.5",
         "0.13080357142857144",
         "0.016517857142857143",
         "1"
        ],
        [
         "19595",
         "At least 10 dead, 92 missing in eastern Congo floods: local official",
         "ABIDJAN (Reuters) - At least 10 people have died and another 92 are missing in eastern Democratic Republic of Congo due to flooding after torrential rains caused a river to overflow its banks, a local official said on Wednesday. The administrator of Masisi territory in eastern Congo s North Kivu province, Dieudonne Tshishiku, said emergency teams had been dispatched to the town of Bihambwe to search for the missing. ",
         "worldnews",
         "September 20, 2017 ",
         "12.54",
         "0.0",
         "34.0",
         "0.175",
         "-0.16499999999999998",
         "1"
        ],
        [
         "15498",
         "Kremlin says Putin and Trump to discuss North Korea in Vietnam",
         "MOSCOW (Reuters) - Kremlin spokesman Dmitry Peskov said on Tuesday that Vladimir Putin and Donald Trump are expected to discuss North Korea at the Asia-Pacific Economic Cooperation forum in Vietnam this week. Presidents of Russia and the United States will have an opportunity to talk at the summit and details of their meeting are still being worked on, Peskov told reporters at a conference call. ",
         "worldnews",
         "November 7, 2017 ",
         "12.95",
         "0.0",
         "32.0",
         "0.30000000000000004",
         "0.05",
         "1"
        ],
        [
         "19589",
         "Saudi Arabia says hopes Kurdistan vote will not take place",
         "DUBAI (Reuters) - Saudi Arabia said on Wednesday it hoped Iraqi Kurdish leader Massoud Barzani would not hold an independence referendum, saying such a move could bring risks for Iraq and the region. Saudi Arabia  looks to the wisdom of President Barzani in not holding the referendum , a foreign ministry statement on state news agency SPA said. ",
         "worldnews",
         "September 20, 2017 ",
         "12.13",
         "0.0",
         "28.0",
         "0.3125",
         "-0.0625",
         "1"
        ],
        [
         "19585",
         "Islamic State targets Iranian aid convoy in eastern Syria",
         "BEIRUT (Reuters) - Islamic State mortar shells on Wednesday targeted an Iranian aid convoy to areas recently captured by the Syrian army and its allies in Deir al-Zor in eastern Syria, a military media unit run by the government s ally Hezbollah said. The mortar injured one person and caused material damage, Hezbollah-affiliated al-Manar television reported, but the convoy, carrying over 1,000 tonnes of aid, was not damaged, it said. ",
         "worldnews",
         "September 20, 2017 ",
         "13.01",
         "0.0",
         "34.5",
         "0.175",
         "-0.05",
         "1"
        ],
        [
         "15497",
         "Former Lebanese PM says Hariri will return to Lebanon",
         "BEIRUT (Reuters) - Former Lebanese prime minister Fouad Siniora said on Tuesday that the head of his political party, Saad al-Hariri, who resigned as prime minister on Saturday in Saudi Arabia, will return to Lebanon.  Hariri s return to Lebanon is  a priority  said Siniora, adding that he had spoken by phone to Hariri on Monday.  ",
         "worldnews",
         "November 7, 2017 ",
         "10.74",
         "0.0",
         "27.5",
         "0.05",
         "0.0",
         "1"
        ],
        [
         "11118",
         "Vice President Biden, Turkey's Erdogan discuss fight against Islamic State",
         "WASHINGTON (Reuters) - The White House said Vice President Joe Biden and Turkish President Tayyip Erdogan discussed ways to deepen cooperation in the fight against Islamic State in a meeting on Saturday in Istanbul. Biden and Erdogan also talked about the “importance of de-escalating recent tensions between Turkey and Iraq in a manner that respects Iraqi sovereignty,” the White House said in a statement released on Sunday.       ",
         "politicsNews",
         "January 25, 2016 ",
         "14.17",
         "0.0",
         "33.0",
         "0.08333333333333333",
         "0.0",
         "1"
        ],
        [
         "17018",
         "Russia's Putin accuses U.S. of failing nuclear, chemical weapons treaties obligations",
         "SOCHI, Russia (Reuters) - Russian President Vladimir Putin on Thursday accused Washington of not fulfilling its obligations under nuclear and chemical weapons treaties. Putin said that despite calls to cooperate on global issues, the United States had demonstrated a  selfishness  that had seen Russia s national interests ignored in the nuclear sphere. ",
         "worldnews",
         "October 19, 2017 ",
         "16.37",
         "0.0",
         "25.5",
         "0.0",
         "0.0",
         "1"
        ],
        [
         "11165",
         "Shkreli takes the Fifth for Senate committee on drug pricing",
         "(Reuters) - Martin Shkreli, former chief executive officer at Turing Pharmaceuticals, has invoked the Fifth Amendment, refusing to produce documents subpoenaed by the Senate Special Committee on Aging, which is investigating the company’s drug pricing practices, the committee’s chairman, U.S. Senator Susan Collins, said on Wednesday. ",
         "politicsNews",
         "January 20, 2016 ",
         "18.45",
         "0.0",
         "22.5",
         "0.2857142857142857",
         "0.17857142857142858",
         "1"
        ],
        [
         "17852",
         "Catalan leader calls for reduced tensions",
         "BARCELONA (Reuters) - The leader of Catalonia s government called on Tuesday for a reduction in tensions in its standoff with Madrid over a bid in the wealthy northeastern region for independence from Spain.  With our differences and discrepancies, we make up one people,  Carles Puigdemont told the regional parliament in Barcelona. ",
         "worldnews",
         "October 10, 2017 ",
         "14.05",
         "0.0",
         "25.5",
         "1.0",
         "0.5",
         "1"
        ],
        [
         "1012",
         "Russia to respond to Twitter ban on Russian media ads: RIA",
         "MOSCOW (Reuters) - Russia said on Thursday it would respond to a decision by Twitter Inc to ban adverts from media outlets Russia Today (RT) and Sputnik, saying the move flouted international and domestic laws on free speech, the RIA news agency reported. RIA cited the Russian Foreign Ministry as saying the decision was another aggressive step aimed at hindering the work of Russian media in the United States and the result of pressure from U.S. intelligence agencies. ",
         "politicsNews",
         "October 26, 2017 ",
         "12.14",
         "0.0",
         "38.5",
         "0.1708333333333333",
         "0.04583333333333334",
         "1"
        ],
        [
         "11328",
         "Russia's Lavrov: main part of battle with Islamic State in Syria is over - RIA",
         "MOSCOW (Reuters) - Russian Foreign Minister Sergei Lavrov said on Wednesday the main part of the battle with Islamic State in Syria was over, according to the state-run RIA news agency. RIA also quoted Lavrov as saying the key task in Syria now was to  destroy Jabhat al-Nusra,  referring to the al Qaeda-linked group known in English as Nusra Front. ",
         "worldnews",
         "December 27, 2017 ",
         "10.75",
         "0.0",
         "29.5",
         "0.24305555555555555",
         "-0.026388888888888892",
         "1"
        ],
        [
         "19541",
         "Russia's air force killed 850 militants in Syria in last 24 hours: Interfax",
         "MOSCOW (Reuters) - Russia s air force has killed about 850 militants in Syria s zone of de-escalation in Idlib in the last 24 hours, Interfax news agency quoted Russia s Defence Ministry as saying on Wednesday.  ",
         "worldnews",
         "September 20, 2017 ",
         "10.4",
         "0.0",
         "36.0",
         "0.03333333333333333",
         "-0.1",
         "1"
        ],
        [
         "11301",
         "Eastern Libyan force says \"terrorist group\" probably responsible for pipe explosion",
         "BENGHAZI, Libya (Reuters) - A  terrorist group  is probably responsible for the explosion on a Libyan crude pipeline on Tuesday, a spokesman for an eastern Libyan petroleum protection force said on Wednesday. The fire at the pipeline had been brought under control, Miftah Magariaf, from the force tasked with guarding oilfields in eastern Libya, told Reuters. ",
         "worldnews",
         "December 27, 2017 ",
         "13.93",
         "0.0",
         "27.5",
         "0.775",
         "-0.24999999999999997",
         "1"
        ],
        [
         "17030",
         "France's Macron urges IAEA to ensure strict compliance of Iran nuclear deal",
         "PARIS (Reuters) - French President Emmanuel Macron on Thursday called on the United Nations  IAEA atomic watchdog body to ensure the strict compliance of the 2015 Iran nuclear deal.  He urged the IAEA to ensure strict compliance with the provisions of the agreement in all its dimensions,  Macron s office said in a statement, after Macron met International Atomic Energy Agency director general Yukiya Amano. ",
         "worldnews",
         "October 19, 2017 ",
         "13.65",
         "0.0",
         "32.0",
         "0.16666666666666666",
         "0.016666666666666673",
         "1"
        ],
        [
         "11267",
         "Obama says willing to work with Republican Speaker on poverty",
         "WASHINGTON (Reuters) - President Barack Obama said on Tuesday that he was willing to work with Republican Speaker Paul Ryan on reforms to address poverty, such as expanding the earned income tax cut (EITC). “I’d welcome a serious discussion about strategies we can all support, like expanding tax cuts for low-income workers without kids,” Obama said, according to prepared remarks for his State of the Union address. ",
         "politicsNews",
         "January 13, 2016 ",
         "12.83",
         "0.0",
         "33.0",
         "0.7041666666666666",
         "0.1791666666666667",
         "1"
        ],
        [
         "17000",
         "Putin says Russia will respond if Russian media under pressure in U.S.",
         "SOCHI, Russia (Reuters) - Russian President Vladimir Putin said on Thursday that Moscow will retaliate if the Unites States take measures to pressure Russian media outlets operating there.   In this case we will do it only in kind and quite quickly, as soon as we see steps (to pressure) our media, there will immediately be an answer,  Putin said at a forum with scholars. ",
         "worldnews",
         "October 19, 2017 ",
         "10.57",
         "0.0",
         "31.5",
         "0.48",
         "0.18666666666666668",
         "1"
        ]
       ],
       "shape": {
        "columns": 10,
        "rows": 25
       }
      },
      "text/html": [
       "<div>\n",
       "<style scoped>\n",
       "    .dataframe tbody tr th:only-of-type {\n",
       "        vertical-align: middle;\n",
       "    }\n",
       "\n",
       "    .dataframe tbody tr th {\n",
       "        vertical-align: top;\n",
       "    }\n",
       "\n",
       "    .dataframe thead th {\n",
       "        text-align: right;\n",
       "    }\n",
       "</style>\n",
       "<table border=\"1\" class=\"dataframe\">\n",
       "  <thead>\n",
       "    <tr style=\"text-align: right;\">\n",
       "      <th></th>\n",
       "      <th>title</th>\n",
       "      <th>text</th>\n",
       "      <th>subject</th>\n",
       "      <th>date</th>\n",
       "      <th>coleman_liau</th>\n",
       "      <th>smog</th>\n",
       "      <th>sentence_length</th>\n",
       "      <th>subjectivity</th>\n",
       "      <th>sentiment</th>\n",
       "      <th>real</th>\n",
       "    </tr>\n",
       "  </thead>\n",
       "  <tbody>\n",
       "    <tr>\n",
       "      <th>14642</th>\n",
       "      <td>Suspicious object found with body in Stockholm...</td>\n",
       "      <td>STOCKHOLM (Reuters) - A man was found dead on ...</td>\n",
       "      <td>worldnews</td>\n",
       "      <td>November 16, 2017</td>\n",
       "      <td>11.27</td>\n",
       "      <td>0.0</td>\n",
       "      <td>35.5</td>\n",
       "      <td>0.485000</td>\n",
       "      <td>0.095000</td>\n",
       "      <td>1</td>\n",
       "    </tr>\n",
       "    <tr>\n",
       "      <th>17001</th>\n",
       "      <td>Putin says Russia will respond in kind if U.S....</td>\n",
       "      <td>SOCHI, Russia (Reuters) - Russia will respond ...</td>\n",
       "      <td>worldnews</td>\n",
       "      <td>October 19, 2017</td>\n",
       "      <td>15.38</td>\n",
       "      <td>0.0</td>\n",
       "      <td>26.5</td>\n",
       "      <td>0.290909</td>\n",
       "      <td>0.042273</td>\n",
       "      <td>1</td>\n",
       "    </tr>\n",
       "    <tr>\n",
       "      <th>2236</th>\n",
       "      <td>Trump says he has not thought about firing Rus...</td>\n",
       "      <td>BEDMINSTER, N.J. (Reuters) - U.S. President Do...</td>\n",
       "      <td>politicsNews</td>\n",
       "      <td>August 10, 2017</td>\n",
       "      <td>12.08</td>\n",
       "      <td>0.0</td>\n",
       "      <td>35.5</td>\n",
       "      <td>0.532282</td>\n",
       "      <td>0.146691</td>\n",
       "      <td>1</td>\n",
       "    </tr>\n",
       "    <tr>\n",
       "      <th>4944</th>\n",
       "      <td>FBI, NSA chiefs to testify on Trump wiretap cl...</td>\n",
       "      <td>WASHINGTON (Reuters) - Leaders of the House of...</td>\n",
       "      <td>politicsNews</td>\n",
       "      <td>March 15, 2017</td>\n",
       "      <td>13.65</td>\n",
       "      <td>0.0</td>\n",
       "      <td>45.5</td>\n",
       "      <td>0.125000</td>\n",
       "      <td>0.125000</td>\n",
       "      <td>1</td>\n",
       "    </tr>\n",
       "    <tr>\n",
       "      <th>11052</th>\n",
       "      <td>Obama's legislative aide Fallon departs: White...</td>\n",
       "      <td>WASHINGTON (Reuters) - President Barack Obama ...</td>\n",
       "      <td>politicsNews</td>\n",
       "      <td>January 29, 2016</td>\n",
       "      <td>12.49</td>\n",
       "      <td>0.0</td>\n",
       "      <td>37.5</td>\n",
       "      <td>0.125000</td>\n",
       "      <td>0.125000</td>\n",
       "      <td>1</td>\n",
       "    </tr>\n",
       "    <tr>\n",
       "      <th>19613</th>\n",
       "      <td>China says upholds peaceful resolution of Nort...</td>\n",
       "      <td>BEIJING (Reuters) - China supports a peaceful ...</td>\n",
       "      <td>worldnews</td>\n",
       "      <td>September 20, 2017</td>\n",
       "      <td>11.49</td>\n",
       "      <td>0.0</td>\n",
       "      <td>28.5</td>\n",
       "      <td>0.202381</td>\n",
       "      <td>-0.023810</td>\n",
       "      <td>1</td>\n",
       "    </tr>\n",
       "    <tr>\n",
       "      <th>15502</th>\n",
       "      <td>Islamic State claims responsibility for attack...</td>\n",
       "      <td>CAIRO (Reuters) - Islamic State has claimed re...</td>\n",
       "      <td>worldnews</td>\n",
       "      <td>November 7, 2017</td>\n",
       "      <td>13.36</td>\n",
       "      <td>0.0</td>\n",
       "      <td>48.0</td>\n",
       "      <td>0.375000</td>\n",
       "      <td>0.000000</td>\n",
       "      <td>1</td>\n",
       "    </tr>\n",
       "    <tr>\n",
       "      <th>17014</th>\n",
       "      <td>London will remain leading financial center: P...</td>\n",
       "      <td>LONDON (Reuters) - London will remain the worl...</td>\n",
       "      <td>worldnews</td>\n",
       "      <td>October 19, 2017</td>\n",
       "      <td>12.20</td>\n",
       "      <td>0.0</td>\n",
       "      <td>41.5</td>\n",
       "      <td>0.158333</td>\n",
       "      <td>0.030000</td>\n",
       "      <td>1</td>\n",
       "    </tr>\n",
       "    <tr>\n",
       "      <th>971</th>\n",
       "      <td>White House continues to cooperate with specia...</td>\n",
       "      <td>WASHINGTON (Reuters) - Charges brought against...</td>\n",
       "      <td>politicsNews</td>\n",
       "      <td>October 30, 2017</td>\n",
       "      <td>17.58</td>\n",
       "      <td>0.0</td>\n",
       "      <td>24.5</td>\n",
       "      <td>0.130804</td>\n",
       "      <td>0.016518</td>\n",
       "      <td>1</td>\n",
       "    </tr>\n",
       "    <tr>\n",
       "      <th>19595</th>\n",
       "      <td>At least 10 dead, 92 missing in eastern Congo ...</td>\n",
       "      <td>ABIDJAN (Reuters) - At least 10 people have di...</td>\n",
       "      <td>worldnews</td>\n",
       "      <td>September 20, 2017</td>\n",
       "      <td>12.54</td>\n",
       "      <td>0.0</td>\n",
       "      <td>34.0</td>\n",
       "      <td>0.175000</td>\n",
       "      <td>-0.165000</td>\n",
       "      <td>1</td>\n",
       "    </tr>\n",
       "    <tr>\n",
       "      <th>15498</th>\n",
       "      <td>Kremlin says Putin and Trump to discuss North ...</td>\n",
       "      <td>MOSCOW (Reuters) - Kremlin spokesman Dmitry Pe...</td>\n",
       "      <td>worldnews</td>\n",
       "      <td>November 7, 2017</td>\n",
       "      <td>12.95</td>\n",
       "      <td>0.0</td>\n",
       "      <td>32.0</td>\n",
       "      <td>0.300000</td>\n",
       "      <td>0.050000</td>\n",
       "      <td>1</td>\n",
       "    </tr>\n",
       "    <tr>\n",
       "      <th>19589</th>\n",
       "      <td>Saudi Arabia says hopes Kurdistan vote will no...</td>\n",
       "      <td>DUBAI (Reuters) - Saudi Arabia said on Wednesd...</td>\n",
       "      <td>worldnews</td>\n",
       "      <td>September 20, 2017</td>\n",
       "      <td>12.13</td>\n",
       "      <td>0.0</td>\n",
       "      <td>28.0</td>\n",
       "      <td>0.312500</td>\n",
       "      <td>-0.062500</td>\n",
       "      <td>1</td>\n",
       "    </tr>\n",
       "    <tr>\n",
       "      <th>19585</th>\n",
       "      <td>Islamic State targets Iranian aid convoy in ea...</td>\n",
       "      <td>BEIRUT (Reuters) - Islamic State mortar shells...</td>\n",
       "      <td>worldnews</td>\n",
       "      <td>September 20, 2017</td>\n",
       "      <td>13.01</td>\n",
       "      <td>0.0</td>\n",
       "      <td>34.5</td>\n",
       "      <td>0.175000</td>\n",
       "      <td>-0.050000</td>\n",
       "      <td>1</td>\n",
       "    </tr>\n",
       "    <tr>\n",
       "      <th>15497</th>\n",
       "      <td>Former Lebanese PM says Hariri will return to ...</td>\n",
       "      <td>BEIRUT (Reuters) - Former Lebanese prime minis...</td>\n",
       "      <td>worldnews</td>\n",
       "      <td>November 7, 2017</td>\n",
       "      <td>10.74</td>\n",
       "      <td>0.0</td>\n",
       "      <td>27.5</td>\n",
       "      <td>0.050000</td>\n",
       "      <td>0.000000</td>\n",
       "      <td>1</td>\n",
       "    </tr>\n",
       "    <tr>\n",
       "      <th>11118</th>\n",
       "      <td>Vice President Biden, Turkey's Erdogan discuss...</td>\n",
       "      <td>WASHINGTON (Reuters) - The White House said Vi...</td>\n",
       "      <td>politicsNews</td>\n",
       "      <td>January 25, 2016</td>\n",
       "      <td>14.17</td>\n",
       "      <td>0.0</td>\n",
       "      <td>33.0</td>\n",
       "      <td>0.083333</td>\n",
       "      <td>0.000000</td>\n",
       "      <td>1</td>\n",
       "    </tr>\n",
       "    <tr>\n",
       "      <th>17018</th>\n",
       "      <td>Russia's Putin accuses U.S. of failing nuclear...</td>\n",
       "      <td>SOCHI, Russia (Reuters) - Russian President Vl...</td>\n",
       "      <td>worldnews</td>\n",
       "      <td>October 19, 2017</td>\n",
       "      <td>16.37</td>\n",
       "      <td>0.0</td>\n",
       "      <td>25.5</td>\n",
       "      <td>0.000000</td>\n",
       "      <td>0.000000</td>\n",
       "      <td>1</td>\n",
       "    </tr>\n",
       "    <tr>\n",
       "      <th>11165</th>\n",
       "      <td>Shkreli takes the Fifth for Senate committee o...</td>\n",
       "      <td>(Reuters) - Martin Shkreli, former chief execu...</td>\n",
       "      <td>politicsNews</td>\n",
       "      <td>January 20, 2016</td>\n",
       "      <td>18.45</td>\n",
       "      <td>0.0</td>\n",
       "      <td>22.5</td>\n",
       "      <td>0.285714</td>\n",
       "      <td>0.178571</td>\n",
       "      <td>1</td>\n",
       "    </tr>\n",
       "    <tr>\n",
       "      <th>17852</th>\n",
       "      <td>Catalan leader calls for reduced tensions</td>\n",
       "      <td>BARCELONA (Reuters) - The leader of Catalonia ...</td>\n",
       "      <td>worldnews</td>\n",
       "      <td>October 10, 2017</td>\n",
       "      <td>14.05</td>\n",
       "      <td>0.0</td>\n",
       "      <td>25.5</td>\n",
       "      <td>1.000000</td>\n",
       "      <td>0.500000</td>\n",
       "      <td>1</td>\n",
       "    </tr>\n",
       "    <tr>\n",
       "      <th>1012</th>\n",
       "      <td>Russia to respond to Twitter ban on Russian me...</td>\n",
       "      <td>MOSCOW (Reuters) - Russia said on Thursday it ...</td>\n",
       "      <td>politicsNews</td>\n",
       "      <td>October 26, 2017</td>\n",
       "      <td>12.14</td>\n",
       "      <td>0.0</td>\n",
       "      <td>38.5</td>\n",
       "      <td>0.170833</td>\n",
       "      <td>0.045833</td>\n",
       "      <td>1</td>\n",
       "    </tr>\n",
       "    <tr>\n",
       "      <th>11328</th>\n",
       "      <td>Russia's Lavrov: main part of battle with Isla...</td>\n",
       "      <td>MOSCOW (Reuters) - Russian Foreign Minister Se...</td>\n",
       "      <td>worldnews</td>\n",
       "      <td>December 27, 2017</td>\n",
       "      <td>10.75</td>\n",
       "      <td>0.0</td>\n",
       "      <td>29.5</td>\n",
       "      <td>0.243056</td>\n",
       "      <td>-0.026389</td>\n",
       "      <td>1</td>\n",
       "    </tr>\n",
       "    <tr>\n",
       "      <th>19541</th>\n",
       "      <td>Russia's air force killed 850 militants in Syr...</td>\n",
       "      <td>MOSCOW (Reuters) - Russia s air force has kill...</td>\n",
       "      <td>worldnews</td>\n",
       "      <td>September 20, 2017</td>\n",
       "      <td>10.40</td>\n",
       "      <td>0.0</td>\n",
       "      <td>36.0</td>\n",
       "      <td>0.033333</td>\n",
       "      <td>-0.100000</td>\n",
       "      <td>1</td>\n",
       "    </tr>\n",
       "    <tr>\n",
       "      <th>11301</th>\n",
       "      <td>Eastern Libyan force says \"terrorist group\" pr...</td>\n",
       "      <td>BENGHAZI, Libya (Reuters) - A  terrorist group...</td>\n",
       "      <td>worldnews</td>\n",
       "      <td>December 27, 2017</td>\n",
       "      <td>13.93</td>\n",
       "      <td>0.0</td>\n",
       "      <td>27.5</td>\n",
       "      <td>0.775000</td>\n",
       "      <td>-0.250000</td>\n",
       "      <td>1</td>\n",
       "    </tr>\n",
       "    <tr>\n",
       "      <th>17030</th>\n",
       "      <td>France's Macron urges IAEA to ensure strict co...</td>\n",
       "      <td>PARIS (Reuters) - French President Emmanuel Ma...</td>\n",
       "      <td>worldnews</td>\n",
       "      <td>October 19, 2017</td>\n",
       "      <td>13.65</td>\n",
       "      <td>0.0</td>\n",
       "      <td>32.0</td>\n",
       "      <td>0.166667</td>\n",
       "      <td>0.016667</td>\n",
       "      <td>1</td>\n",
       "    </tr>\n",
       "    <tr>\n",
       "      <th>11267</th>\n",
       "      <td>Obama says willing to work with Republican Spe...</td>\n",
       "      <td>WASHINGTON (Reuters) - President Barack Obama ...</td>\n",
       "      <td>politicsNews</td>\n",
       "      <td>January 13, 2016</td>\n",
       "      <td>12.83</td>\n",
       "      <td>0.0</td>\n",
       "      <td>33.0</td>\n",
       "      <td>0.704167</td>\n",
       "      <td>0.179167</td>\n",
       "      <td>1</td>\n",
       "    </tr>\n",
       "    <tr>\n",
       "      <th>17000</th>\n",
       "      <td>Putin says Russia will respond if Russian medi...</td>\n",
       "      <td>SOCHI, Russia (Reuters) - Russian President Vl...</td>\n",
       "      <td>worldnews</td>\n",
       "      <td>October 19, 2017</td>\n",
       "      <td>10.57</td>\n",
       "      <td>0.0</td>\n",
       "      <td>31.5</td>\n",
       "      <td>0.480000</td>\n",
       "      <td>0.186667</td>\n",
       "      <td>1</td>\n",
       "    </tr>\n",
       "  </tbody>\n",
       "</table>\n",
       "</div>"
      ],
      "text/plain": [
       "                                                   title  \\\n",
       "14642  Suspicious object found with body in Stockholm...   \n",
       "17001  Putin says Russia will respond in kind if U.S....   \n",
       "2236   Trump says he has not thought about firing Rus...   \n",
       "4944   FBI, NSA chiefs to testify on Trump wiretap cl...   \n",
       "11052  Obama's legislative aide Fallon departs: White...   \n",
       "19613  China says upholds peaceful resolution of Nort...   \n",
       "15502  Islamic State claims responsibility for attack...   \n",
       "17014  London will remain leading financial center: P...   \n",
       "971    White House continues to cooperate with specia...   \n",
       "19595  At least 10 dead, 92 missing in eastern Congo ...   \n",
       "15498  Kremlin says Putin and Trump to discuss North ...   \n",
       "19589  Saudi Arabia says hopes Kurdistan vote will no...   \n",
       "19585  Islamic State targets Iranian aid convoy in ea...   \n",
       "15497  Former Lebanese PM says Hariri will return to ...   \n",
       "11118  Vice President Biden, Turkey's Erdogan discuss...   \n",
       "17018  Russia's Putin accuses U.S. of failing nuclear...   \n",
       "11165  Shkreli takes the Fifth for Senate committee o...   \n",
       "17852          Catalan leader calls for reduced tensions   \n",
       "1012   Russia to respond to Twitter ban on Russian me...   \n",
       "11328  Russia's Lavrov: main part of battle with Isla...   \n",
       "19541  Russia's air force killed 850 militants in Syr...   \n",
       "11301  Eastern Libyan force says \"terrorist group\" pr...   \n",
       "17030  France's Macron urges IAEA to ensure strict co...   \n",
       "11267  Obama says willing to work with Republican Spe...   \n",
       "17000  Putin says Russia will respond if Russian medi...   \n",
       "\n",
       "                                                    text       subject  \\\n",
       "14642  STOCKHOLM (Reuters) - A man was found dead on ...     worldnews   \n",
       "17001  SOCHI, Russia (Reuters) - Russia will respond ...     worldnews   \n",
       "2236   BEDMINSTER, N.J. (Reuters) - U.S. President Do...  politicsNews   \n",
       "4944   WASHINGTON (Reuters) - Leaders of the House of...  politicsNews   \n",
       "11052  WASHINGTON (Reuters) - President Barack Obama ...  politicsNews   \n",
       "19613  BEIJING (Reuters) - China supports a peaceful ...     worldnews   \n",
       "15502  CAIRO (Reuters) - Islamic State has claimed re...     worldnews   \n",
       "17014  LONDON (Reuters) - London will remain the worl...     worldnews   \n",
       "971    WASHINGTON (Reuters) - Charges brought against...  politicsNews   \n",
       "19595  ABIDJAN (Reuters) - At least 10 people have di...     worldnews   \n",
       "15498  MOSCOW (Reuters) - Kremlin spokesman Dmitry Pe...     worldnews   \n",
       "19589  DUBAI (Reuters) - Saudi Arabia said on Wednesd...     worldnews   \n",
       "19585  BEIRUT (Reuters) - Islamic State mortar shells...     worldnews   \n",
       "15497  BEIRUT (Reuters) - Former Lebanese prime minis...     worldnews   \n",
       "11118  WASHINGTON (Reuters) - The White House said Vi...  politicsNews   \n",
       "17018  SOCHI, Russia (Reuters) - Russian President Vl...     worldnews   \n",
       "11165  (Reuters) - Martin Shkreli, former chief execu...  politicsNews   \n",
       "17852  BARCELONA (Reuters) - The leader of Catalonia ...     worldnews   \n",
       "1012   MOSCOW (Reuters) - Russia said on Thursday it ...  politicsNews   \n",
       "11328  MOSCOW (Reuters) - Russian Foreign Minister Se...     worldnews   \n",
       "19541  MOSCOW (Reuters) - Russia s air force has kill...     worldnews   \n",
       "11301  BENGHAZI, Libya (Reuters) - A  terrorist group...     worldnews   \n",
       "17030  PARIS (Reuters) - French President Emmanuel Ma...     worldnews   \n",
       "11267  WASHINGTON (Reuters) - President Barack Obama ...  politicsNews   \n",
       "17000  SOCHI, Russia (Reuters) - Russian President Vl...     worldnews   \n",
       "\n",
       "                      date  coleman_liau  smog  sentence_length  subjectivity  \\\n",
       "14642   November 16, 2017          11.27   0.0             35.5      0.485000   \n",
       "17001    October 19, 2017          15.38   0.0             26.5      0.290909   \n",
       "2236      August 10, 2017          12.08   0.0             35.5      0.532282   \n",
       "4944       March 15, 2017          13.65   0.0             45.5      0.125000   \n",
       "11052    January 29, 2016          12.49   0.0             37.5      0.125000   \n",
       "19613  September 20, 2017          11.49   0.0             28.5      0.202381   \n",
       "15502    November 7, 2017          13.36   0.0             48.0      0.375000   \n",
       "17014    October 19, 2017          12.20   0.0             41.5      0.158333   \n",
       "971      October 30, 2017          17.58   0.0             24.5      0.130804   \n",
       "19595  September 20, 2017          12.54   0.0             34.0      0.175000   \n",
       "15498    November 7, 2017          12.95   0.0             32.0      0.300000   \n",
       "19589  September 20, 2017          12.13   0.0             28.0      0.312500   \n",
       "19585  September 20, 2017          13.01   0.0             34.5      0.175000   \n",
       "15497    November 7, 2017          10.74   0.0             27.5      0.050000   \n",
       "11118    January 25, 2016          14.17   0.0             33.0      0.083333   \n",
       "17018    October 19, 2017          16.37   0.0             25.5      0.000000   \n",
       "11165    January 20, 2016          18.45   0.0             22.5      0.285714   \n",
       "17852    October 10, 2017          14.05   0.0             25.5      1.000000   \n",
       "1012     October 26, 2017          12.14   0.0             38.5      0.170833   \n",
       "11328   December 27, 2017          10.75   0.0             29.5      0.243056   \n",
       "19541  September 20, 2017          10.40   0.0             36.0      0.033333   \n",
       "11301   December 27, 2017          13.93   0.0             27.5      0.775000   \n",
       "17030    October 19, 2017          13.65   0.0             32.0      0.166667   \n",
       "11267    January 13, 2016          12.83   0.0             33.0      0.704167   \n",
       "17000    October 19, 2017          10.57   0.0             31.5      0.480000   \n",
       "\n",
       "       sentiment  real  \n",
       "14642   0.095000     1  \n",
       "17001   0.042273     1  \n",
       "2236    0.146691     1  \n",
       "4944    0.125000     1  \n",
       "11052   0.125000     1  \n",
       "19613  -0.023810     1  \n",
       "15502   0.000000     1  \n",
       "17014   0.030000     1  \n",
       "971     0.016518     1  \n",
       "19595  -0.165000     1  \n",
       "15498   0.050000     1  \n",
       "19589  -0.062500     1  \n",
       "19585  -0.050000     1  \n",
       "15497   0.000000     1  \n",
       "11118   0.000000     1  \n",
       "17018   0.000000     1  \n",
       "11165   0.178571     1  \n",
       "17852   0.500000     1  \n",
       "1012    0.045833     1  \n",
       "11328  -0.026389     1  \n",
       "19541  -0.100000     1  \n",
       "11301  -0.250000     1  \n",
       "17030   0.016667     1  \n",
       "11267   0.179167     1  \n",
       "17000   0.186667     1  "
      ]
     },
     "execution_count": 53,
     "metadata": {},
     "output_type": "execute_result"
    }
   ],
   "source": [
    "df_save[df_save['real'] == 1].sort_values(by='smog',ascending=True).head(25)"
   ]
  },
  {
   "cell_type": "code",
   "execution_count": 54,
   "id": "0cc651a6",
   "metadata": {},
   "outputs": [
    {
     "data": {
      "text/plain": [
       "(np.int64(1),\n",
       " 'WASHINGTON (Reuters) - U.S. President Barack Obama surprised Vice President Joe Biden on Thursday by awarding him the Presidential Medal of Freedom with Distinction in an emotional White House ceremony that celebrated their partnership over eight years in office. “This is an extraordinary man,” Obama said of his friend and running mate at a surprise ceremony with staff, family and friends of the vice president.  “For the past eight years, he could not have been a more devoted or effective partner in the progress that we’ve made.” Biden, who was unaware that the ceremony would take place,  became visibly moved when Obama said he would bestow on him the highest civil honor in the United States.  It will be the last such award that Obama gives before he and Biden leave office on Jan. 20.  “I had no inkling,” Biden, 74, said after receiving the medal. “I get a lot of credit I don’t deserve,” he said, proceeding to give a roughly 20-minute impromptu speech thanking Obama and honoring the extended Biden family. Biden and Obama became close friends during their time in the White House. Biden was a U.S. senator from Delaware when Obama chose him to be his running mate in his 2008 presidential campaign. The vice president told an anecdote about Obama offering to help the Bidens financially during Biden’s son Beau’s illness. Beau Biden died of brain cancer at age 46 in 2015. First lady Michelle Obama and the Obamas’ daughters, Malia and Sasha, also attended the ceremony. ')"
      ]
     },
     "execution_count": 54,
     "metadata": {},
     "output_type": "execute_result"
    }
   ],
   "source": [
    "df_save[df_save.index == 6354].iloc[1]['real'],df_save[df_save.index == 6354].iloc[1]['text']"
   ]
  },
  {
   "cell_type": "markdown",
   "id": "6b1ebf77",
   "metadata": {},
   "source": [
    "## Analysis"
   ]
  },
  {
   "cell_type": "markdown",
   "id": "0e5cfaf5",
   "metadata": {},
   "source": [
    "### train test split"
   ]
  },
  {
   "cell_type": "code",
   "execution_count": 55,
   "id": "7777e6d5",
   "metadata": {},
   "outputs": [],
   "source": [
    "from sklearn.model_selection import train_test_split\n",
    "\n",
    "# drop the real column\n",
    "df_X = df.copy().drop(columns=['real'])\n",
    "df_y = df['real']\n",
    "\n",
    "# reassign (has no actual use)\n",
    "X = np.array(df_X)\n",
    "y=np.array(df_y)\n",
    "\n",
    "X_train, X_test, y_train, y_test = train_test_split(\n",
    "    X, y, test_size=0.25, random_state=42)\n"
   ]
  },
  {
   "cell_type": "markdown",
   "id": "3e02472d",
   "metadata": {},
   "source": [
    "### Logistic Regression"
   ]
  },
  {
   "cell_type": "code",
   "execution_count": 56,
   "id": "6ffe893e",
   "metadata": {},
   "outputs": [
    {
     "name": "stdout",
     "output_type": "stream",
     "text": [
      "Optimization terminated successfully.\n",
      "         Current function value: 0.600660\n",
      "         Iterations 6\n"
     ]
    },
    {
     "data": {
      "text/html": [
       "<table class=\"simpletable\">\n",
       "<caption>Logit Regression Results</caption>\n",
       "<tr>\n",
       "  <th>Dep. Variable:</th>           <td>y</td>        <th>  No. Observations:  </th>  <td> 33673</td> \n",
       "</tr>\n",
       "<tr>\n",
       "  <th>Model:</th>                 <td>Logit</td>      <th>  Df Residuals:      </th>  <td> 33668</td> \n",
       "</tr>\n",
       "<tr>\n",
       "  <th>Method:</th>                 <td>MLE</td>       <th>  Df Model:          </th>  <td>     4</td> \n",
       "</tr>\n",
       "<tr>\n",
       "  <th>Date:</th>            <td>Mon, 28 Apr 2025</td> <th>  Pseudo R-squ.:     </th>  <td>0.1322</td> \n",
       "</tr>\n",
       "<tr>\n",
       "  <th>Time:</th>                <td>18:44:58</td>     <th>  Log-Likelihood:    </th> <td> -20226.</td>\n",
       "</tr>\n",
       "<tr>\n",
       "  <th>converged:</th>             <td>True</td>       <th>  LL-Null:           </th> <td> -23307.</td>\n",
       "</tr>\n",
       "<tr>\n",
       "  <th>Covariance Type:</th>     <td>nonrobust</td>    <th>  LLR p-value:       </th>  <td> 0.000</td> \n",
       "</tr>\n",
       "</table>\n",
       "<table class=\"simpletable\">\n",
       "<tr>\n",
       "   <td></td>     <th>coef</th>     <th>std err</th>      <th>z</th>      <th>P>|z|</th>  <th>[0.025</th>    <th>0.975]</th>  \n",
       "</tr>\n",
       "<tr>\n",
       "  <th>x1</th> <td>    0.0094</td> <td>    0.002</td> <td>    4.917</td> <td> 0.000</td> <td>    0.006</td> <td>    0.013</td>\n",
       "</tr>\n",
       "<tr>\n",
       "  <th>x2</th> <td>    0.1201</td> <td>    0.004</td> <td>   30.130</td> <td> 0.000</td> <td>    0.112</td> <td>    0.128</td>\n",
       "</tr>\n",
       "<tr>\n",
       "  <th>x3</th> <td>    0.0493</td> <td>    0.002</td> <td>   22.019</td> <td> 0.000</td> <td>    0.045</td> <td>    0.054</td>\n",
       "</tr>\n",
       "<tr>\n",
       "  <th>x4</th> <td>   -7.1285</td> <td>    0.108</td> <td>  -66.255</td> <td> 0.000</td> <td>   -7.339</td> <td>   -6.918</td>\n",
       "</tr>\n",
       "<tr>\n",
       "  <th>x5</th> <td>    0.8282</td> <td>    0.135</td> <td>    6.155</td> <td> 0.000</td> <td>    0.564</td> <td>    1.092</td>\n",
       "</tr>\n",
       "</table>"
      ],
      "text/latex": [
       "\\begin{center}\n",
       "\\begin{tabular}{lclc}\n",
       "\\toprule\n",
       "\\textbf{Dep. Variable:}   &        y         & \\textbf{  No. Observations:  } &    33673    \\\\\n",
       "\\textbf{Model:}           &      Logit       & \\textbf{  Df Residuals:      } &    33668    \\\\\n",
       "\\textbf{Method:}          &       MLE        & \\textbf{  Df Model:          } &        4    \\\\\n",
       "\\textbf{Date:}            & Mon, 28 Apr 2025 & \\textbf{  Pseudo R-squ.:     } &   0.1322    \\\\\n",
       "\\textbf{Time:}            &     18:44:58     & \\textbf{  Log-Likelihood:    } &   -20226.   \\\\\n",
       "\\textbf{converged:}       &       True       & \\textbf{  LL-Null:           } &   -23307.   \\\\\n",
       "\\textbf{Covariance Type:} &    nonrobust     & \\textbf{  LLR p-value:       } &    0.000    \\\\\n",
       "\\bottomrule\n",
       "\\end{tabular}\n",
       "\\begin{tabular}{lcccccc}\n",
       "            & \\textbf{coef} & \\textbf{std err} & \\textbf{z} & \\textbf{P$> |$z$|$} & \\textbf{[0.025} & \\textbf{0.975]}  \\\\\n",
       "\\midrule\n",
       "\\textbf{x1} &       0.0094  &        0.002     &     4.917  &         0.000        &        0.006    &        0.013     \\\\\n",
       "\\textbf{x2} &       0.1201  &        0.004     &    30.130  &         0.000        &        0.112    &        0.128     \\\\\n",
       "\\textbf{x3} &       0.0493  &        0.002     &    22.019  &         0.000        &        0.045    &        0.054     \\\\\n",
       "\\textbf{x4} &      -7.1285  &        0.108     &   -66.255  &         0.000        &       -7.339    &       -6.918     \\\\\n",
       "\\textbf{x5} &       0.8282  &        0.135     &     6.155  &         0.000        &        0.564    &        1.092     \\\\\n",
       "\\bottomrule\n",
       "\\end{tabular}\n",
       "%\\caption{Logit Regression Results}\n",
       "\\end{center}"
      ],
      "text/plain": [
       "<class 'statsmodels.iolib.summary.Summary'>\n",
       "\"\"\"\n",
       "                           Logit Regression Results                           \n",
       "==============================================================================\n",
       "Dep. Variable:                      y   No. Observations:                33673\n",
       "Model:                          Logit   Df Residuals:                    33668\n",
       "Method:                           MLE   Df Model:                            4\n",
       "Date:                Mon, 28 Apr 2025   Pseudo R-squ.:                  0.1322\n",
       "Time:                        18:44:58   Log-Likelihood:                -20226.\n",
       "converged:                       True   LL-Null:                       -23307.\n",
       "Covariance Type:            nonrobust   LLR p-value:                     0.000\n",
       "==============================================================================\n",
       "                 coef    std err          z      P>|z|      [0.025      0.975]\n",
       "------------------------------------------------------------------------------\n",
       "x1             0.0094      0.002      4.917      0.000       0.006       0.013\n",
       "x2             0.1201      0.004     30.130      0.000       0.112       0.128\n",
       "x3             0.0493      0.002     22.019      0.000       0.045       0.054\n",
       "x4            -7.1285      0.108    -66.255      0.000      -7.339      -6.918\n",
       "x5             0.8282      0.135      6.155      0.000       0.564       1.092\n",
       "==============================================================================\n",
       "\"\"\""
      ]
     },
     "execution_count": 56,
     "metadata": {},
     "output_type": "execute_result"
    }
   ],
   "source": [
    "model = sm.Logit(y_train, X_train).fit()\n",
    "model.summary()"
   ]
  },
  {
   "cell_type": "markdown",
   "id": "79083375",
   "metadata": {},
   "source": [
    "### overfit detection\n",
    "\n",
    "we didn't discuss any of the assumptions of LR so we have to check for overfitting"
   ]
  },
  {
   "cell_type": "code",
   "execution_count": 57,
   "id": "d4ba08a8",
   "metadata": {},
   "outputs": [
    {
     "name": "stdout",
     "output_type": "stream",
     "text": [
      "Accuracy of the model: 70.21%\n",
      "F1 Score: 0.6855\n",
      "Confusion Matrix:\n",
      "[[4237 1658]\n",
      " [1686 3644]]\n"
     ]
    },
    {
     "data": {
      "image/png": "[encoded data removed]",
      "text/plain": [
       "<Figure size 800x600 with 2 Axes>"
      ]
     },
     "metadata": {},
     "output_type": "display_data"
    }
   ],
   "source": [
    "import numpy as np\n",
    "import matplotlib.pyplot as plt\n",
    "import seaborn as sns\n",
    "\n",
    "# Make predictions\n",
    "y_pred = model.predict(X_test)\n",
    "y_pred = np.round(y_pred)\n",
    "\n",
    "# Build confusion matrix manually\n",
    "c_matrix = np.array([[0,0],\n",
    "                     [0,0]])\n",
    "\n",
    "for i in range(len(y_test)):\n",
    "    y_val = int(y_test[i])\n",
    "    y_hat_val = int(y_pred[i])\n",
    "    c_matrix[y_val][y_hat_val] += 1\n",
    "\n",
    "# Compute the accuracy\n",
    "accuracy = (c_matrix[0][0] + c_matrix[1][1]) / c_matrix.sum() * 100\n",
    "print(f'Accuracy of the model: {accuracy:.2f}%')\n",
    "\n",
    "# Compute the F1 score\n",
    "precision = c_matrix[1][1] / (c_matrix[1][1] + c_matrix[0][1])\n",
    "recall = c_matrix[1][1] / (c_matrix[1][1] + c_matrix[1][0])\n",
    "f1_score = (2 * precision * recall) / (precision + recall)\n",
    "print(f'F1 Score: {f1_score:.4f}')\n",
    "\n",
    "print(f'Confusion Matrix:\\n{c_matrix}')\n",
    "\n",
    "# --- NEW: Plot confusion matrix ---\n",
    "plt.figure(figsize=(8,6))\n",
    "sns.heatmap(c_matrix, annot=True, fmt='d', cmap='Blues', xticklabels=['Fake', 'Real'], yticklabels=['Fake', 'Real'])\n",
    "plt.xlabel('Predicted')\n",
    "plt.ylabel('True')\n",
    "plt.title('Confusion Matrix')\n",
    "plt.show()\n"
   ]
  },
  {
   "cell_type": "code",
   "execution_count": 58,
   "id": "3ad7f95c",
   "metadata": {},
   "outputs": [
    {
     "name": "stdout",
     "output_type": "stream",
     "text": [
      "Requirement already satisfied: seaborn in ./.venv/lib/python3.12/site-packages (0.13.2)\n",
      "Requirement already satisfied: numpy!=1.24.0,>=1.20 in ./.venv/lib/python3.12/site-packages (from seaborn) (2.1.3)\n",
      "Requirement already satisfied: pandas>=1.2 in ./.venv/lib/python3.12/site-packages (from seaborn) (2.2.3)\n",
      "Requirement already satisfied: matplotlib!=3.6.1,>=3.4 in ./.venv/lib/python3.12/site-packages (from seaborn) (3.10.1)\n",
      "Requirement already satisfied: contourpy>=1.0.1 in ./.venv/lib/python3.12/site-packages (from matplotlib!=3.6.1,>=3.4->seaborn) (1.3.1)\n",
      "Requirement already satisfied: cycler>=0.10 in ./.venv/lib/python3.12/site-packages (from matplotlib!=3.6.1,>=3.4->seaborn) (0.12.1)\n",
      "Requirement already satisfied: fonttools>=4.22.0 in ./.venv/lib/python3.12/site-packages (from matplotlib!=3.6.1,>=3.4->seaborn) (4.57.0)\n",
      "Requirement already satisfied: kiwisolver>=1.3.1 in ./.venv/lib/python3.12/site-packages (from matplotlib!=3.6.1,>=3.4->seaborn) (1.4.8)\n",
      "Requirement already satisfied: packaging>=20.0 in ./.venv/lib/python3.12/site-packages (from matplotlib!=3.6.1,>=3.4->seaborn) (24.2)\n",
      "Requirement already satisfied: pillow>=8 in ./.venv/lib/python3.12/site-packages (from matplotlib!=3.6.1,>=3.4->seaborn) (11.1.0)\n",
      "Requirement already satisfied: pyparsing>=2.3.1 in ./.venv/lib/python3.12/site-packages (from matplotlib!=3.6.1,>=3.4->seaborn) (3.2.3)\n",
      "Requirement already satisfied: python-dateutil>=2.7 in ./.venv/lib/python3.12/site-packages (from matplotlib!=3.6.1,>=3.4->seaborn) (2.9.0.post0)\n",
      "Requirement already satisfied: pytz>=2020.1 in ./.venv/lib/python3.12/site-packages (from pandas>=1.2->seaborn) (2025.2)\n",
      "Requirement already satisfied: tzdata>=2022.7 in ./.venv/lib/python3.12/site-packages (from pandas>=1.2->seaborn) (2025.2)\n",
      "Requirement already satisfied: six>=1.5 in ./.venv/lib/python3.12/site-packages (from python-dateutil>=2.7->matplotlib!=3.6.1,>=3.4->seaborn) (1.17.0)\n",
      "\n",
      "\u001b[1m[\u001b[0m\u001b[34;49mnotice\u001b[0m\u001b[1;39;49m]\u001b[0m\u001b[39;49m A new release of pip is available: \u001b[0m\u001b[31;49m25.0.1\u001b[0m\u001b[39;49m -> \u001b[0m\u001b[32;49m25.1\u001b[0m\n",
      "\u001b[1m[\u001b[0m\u001b[34;49mnotice\u001b[0m\u001b[1;39;49m]\u001b[0m\u001b[39;49m To update, run: \u001b[0m\u001b[32;49mpip install --upgrade pip\u001b[0m\n"
     ]
    }
   ],
   "source": [
    "! pip install seaborn"
   ]
  },
  {
   "cell_type": "code",
   "execution_count": 59,
   "id": "efebc313",
   "metadata": {},
   "outputs": [
    {
     "name": "stdout",
     "output_type": "stream",
     "text": [
      "Requirement already satisfied: xgboost in ./.venv/lib/python3.12/site-packages (3.0.0)\n",
      "Requirement already satisfied: numpy in ./.venv/lib/python3.12/site-packages (from xgboost) (2.1.3)\n",
      "Requirement already satisfied: scipy in ./.venv/lib/python3.12/site-packages (from xgboost) (1.15.2)\n",
      "\n",
      "\u001b[1m[\u001b[0m\u001b[34;49mnotice\u001b[0m\u001b[1;39;49m]\u001b[0m\u001b[39;49m A new release of pip is available: \u001b[0m\u001b[31;49m25.0.1\u001b[0m\u001b[39;49m -> \u001b[0m\u001b[32;49m25.1\u001b[0m\n",
      "\u001b[1m[\u001b[0m\u001b[34;49mnotice\u001b[0m\u001b[1;39;49m]\u001b[0m\u001b[39;49m To update, run: \u001b[0m\u001b[32;49mpip install --upgrade pip\u001b[0m\n",
      "Accuracy: 0.7581291759465479\n",
      "Confusion Matrix:\n",
      " [[3519 1214]\n",
      " [ 958 3289]]\n",
      "Classification Report:\n",
      "               precision    recall  f1-score   support\n",
      "\n",
      "           0       0.79      0.74      0.76      4733\n",
      "           1       0.73      0.77      0.75      4247\n",
      "\n",
      "    accuracy                           0.76      8980\n",
      "   macro avg       0.76      0.76      0.76      8980\n",
      "weighted avg       0.76      0.76      0.76      8980\n",
      "\n"
     ]
    },
    {
     "data": {
      "image/png": "[encoded data removed]",
      "text/plain": [
       "<Figure size 800x600 with 2 Axes>"
      ]
     },
     "metadata": {},
     "output_type": "display_data"
    }
   ],
   "source": [
    "# Install and import libraries\n",
    "! pip install xgboost\n",
    "from xgboost import XGBClassifier\n",
    "from sklearn.model_selection import train_test_split\n",
    "from sklearn.metrics import accuracy_score, confusion_matrix, classification_report\n",
    "import matplotlib.pyplot as plt\n",
    "import seaborn as sns\n",
    "\n",
    "# Prepare data\n",
    "X = df.copy().drop(columns=['real'])\n",
    "y = df['real']\n",
    "\n",
    "X_train, X_test, y_train, y_test = train_test_split(X, y, test_size=0.2, random_state=42)\n",
    "\n",
    "# Train model\n",
    "model = XGBClassifier()\n",
    "model.fit(X_train, y_train)\n",
    "\n",
    "# Predict\n",
    "y_pred = model.predict(X_test)\n",
    "\n",
    "# Print metrics\n",
    "print(\"Accuracy:\", accuracy_score(y_test, y_pred))\n",
    "print(\"Confusion Matrix:\\n\", confusion_matrix(y_test, y_pred))\n",
    "print(\"Classification Report:\\n\", classification_report(y_test, y_pred))\n",
    "\n",
    "# Plot confusion matrix\n",
    "cm = confusion_matrix(y_test, y_pred)\n",
    "plt.figure(figsize=(8,6))\n",
    "sns.heatmap(cm, annot=True, fmt='d', cmap='Blues', xticklabels=['Fake', 'Real'], yticklabels=['Fake', 'Real'])\n",
    "plt.xlabel('Predicted')\n",
    "plt.ylabel('True')\n",
    "plt.title('Confusion Matrix')\n",
    "plt.show()\n"
   ]
  }
 ],
 "metadata": {
  "kernelspec": {
   "display_name": "bigdata",
   "language": "python",
   "name": "python3"
  },
  "language_info": {
   "codemirror_mode": {
    "name": "ipython",
    "version": 3
   },
   "file_extension": ".py",
   "mimetype": "text/x-python",
   "name": "python",
   "nbconvert_exporter": "python",
   "pygments_lexer": "ipython3",
   "version": "3.11.11"
  }
 },
 "nbformat": 4,
 "nbformat_minor": 5
}
